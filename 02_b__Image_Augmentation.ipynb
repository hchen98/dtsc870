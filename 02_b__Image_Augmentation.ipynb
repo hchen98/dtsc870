{
  "nbformat": 4,
  "nbformat_minor": 0,
  "metadata": {
    "colab": {
      "name": "02.b__Image Augmentation.ipynb",
      "provenance": [],
      "collapsed_sections": []
    },
    "kernelspec": {
      "name": "python3",
      "display_name": "Python 3"
    },
    "language_info": {
      "name": "python"
    },
    "accelerator": "GPU"
  },
  "cells": [
    {
      "cell_type": "markdown",
      "source": [
        "New York Institute of Technology<br>\n",
        "Course: DTSC 870 / Spring 2022<br>\n",
        "Advisor: Dr. Cao<br>\n",
        "Team: Michael Trzaskoma, Hui (Henry) Chen\n",
        "\n",
        "----\n",
        "\n",
        "This notebook is meant to visualize all necessary dataset for the project. Therefore, this is part of Phase I of the project.\n",
        "\n",
        "This is based on tutorial: https://note.nkmk.me/en/python-opencv-numpy-rotate-flip/"
      ],
      "metadata": {
        "id": "zzUzRT2TMkSl"
      }
    },
    {
      "cell_type": "code",
      "execution_count": null,
      "metadata": {
        "colab": {
          "base_uri": "https://localhost:8080/"
        },
        "id": "iqkihS-wRDk-",
        "outputId": "5b64ac30-cab6-4326-f4d1-0e041ef2fb1a"
      },
      "outputs": [
        {
          "output_type": "stream",
          "name": "stdout",
          "text": [
            "Mounted at /content/drive\n"
          ]
        }
      ],
      "source": [
        "from google.colab import drive\n",
        "import glob\n",
        "import cv2\n",
        "from random import randint\n",
        "from google.colab.patches import cv2_imshow\n",
        "import os\n",
        "\n",
        "drive.mount('/content/drive')"
      ]
    },
    {
      "cell_type": "code",
      "source": [
        "ROOT_DIR = \"/content/drive/MyDrive/Spring 2022/DTSC 870/Code\" # HC Directory\n",
        "# ROOT_DIR = \"/content/drive/MyDrive/DTSC 870/Code\" #MT Directory\n",
        "DATASET_01 = ROOT_DIR + \"/datasets/01_MRI\"\n",
        "DATASET_01_TRAIN = DATASET_01+ \"/Brain_tumor_images/train\"\n",
        "DATASET_01_TEST = DATASET_01+ \"/Brain_tumor_images/test\"\n",
        "\n",
        "use_dir = DATASET_01_TRAIN+\"/*/*.jpg\""
      ],
      "metadata": {
        "id": "7NVhN9OXMoc8"
      },
      "execution_count": null,
      "outputs": []
    },
    {
      "cell_type": "code",
      "source": [
        "def create_aug_dir_train (dir, class_list):\n",
        "  if not os.path.exists(dir+'/Aug_train'):\n",
        "    os.mkdir(dir+\"/Aug_train\")\n",
        "    for curr_class in class_list:\n",
        "      os.mkdir(dir+\"/Aug_train/\"+ curr_class)\n",
        "\n",
        "def create_aug_dir_test (dir, class_list):\n",
        "  if not os.path.exists(dir+'/Aug_test'):\n",
        "    os.mkdir(dir+\"/Aug_test\")\n",
        "    for curr_class in class_list:\n",
        "      os.mkdir(dir+\"/Aug_test/\"+ curr_class)\n",
        "\n",
        "def rotate_aug(dir, set_dir, data_set):\n",
        "  trainset = glob.glob(dir)\n",
        "  for image in trainset:\n",
        "    img_info = image.split(\"/\")\n",
        "    img = cv2.imread(image)\n",
        "    rand_val = randint(0,1)\n",
        "\n",
        "    if rand_val == 1:\n",
        "      clockwise_rotate_img = cv2.rotate(img, cv2.ROTATE_90_CLOCKWISE)\n",
        "      clockwise_rotate_img = cv2.flip(clockwise_rotate_img, 1)\n",
        "      cv2.imwrite(data_set+set_dir+img_info[-2]+\"/Clock90_\"+img_info[-1], clockwise_rotate_img)\n",
        "      #print(DATASET_01+'/aug_train/'+img_info[-2]+\"/Clock90_\"+img_info[-1])\n",
        "\n",
        "    else:\n",
        "      counter_clockwise_rotate_img = cv2.rotate(img, cv2.ROTATE_90_COUNTERCLOCKWISE)\n",
        "      counter_clockwise_rotate_img = cv2.flip(counter_clockwise_rotate_img, 1)\n",
        "      cv2.imwrite(data_set+set_dir+img_info[-2]+\"/CounterClock90_\"+img_info[-1], counter_clockwise_rotate_img)\n",
        "      #print(DATASET_01+set_dir+img_info[-2]+\"/CounterClock90_\"+img_info[-1])"
      ],
      "metadata": {
        "id": "B4lSEgbDMoU9"
      },
      "execution_count": null,
      "outputs": []
    },
    {
      "cell_type": "markdown",
      "source": [
        "# MRI Tumor Image"
      ],
      "metadata": {
        "id": "ATDDxrM3d2XJ"
      }
    },
    {
      "cell_type": "code",
      "source": [
        "# classes = ['Normal', 'Tumor']\n",
        "\n",
        "# # create_aug_dir_train(DATASET_01, classes)\n",
        "# create_aug_dir_test(DATASET_01, classes)"
      ],
      "metadata": {
        "id": "7uGJKZHVgSXi"
      },
      "execution_count": null,
      "outputs": []
    },
    {
      "cell_type": "code",
      "source": [
        "# use_dir = DATASET_01_TRAIN+\"/*/*.jpg\"\n",
        "\n",
        "# # rotate_aug(use_dir, '/Aug_train/')\n",
        "# rotate_aug(use_dir, '/Aug_test/')"
      ],
      "metadata": {
        "id": "Waz63MLyURyx"
      },
      "execution_count": null,
      "outputs": []
    },
    {
      "cell_type": "code",
      "source": [
        "from random import randint\n",
        "randint(0,1)"
      ],
      "metadata": {
        "colab": {
          "base_uri": "https://localhost:8080/"
        },
        "id": "C6-XIOzsWOwP",
        "outputId": "df6b27d6-85c0-4a6d-cc53-d37232ee41c4"
      },
      "execution_count": null,
      "outputs": [
        {
          "output_type": "execute_result",
          "data": {
            "text/plain": [
              "0"
            ]
          },
          "metadata": {},
          "execution_count": 6
        }
      ]
    },
    {
      "cell_type": "markdown",
      "source": [
        "# FER-2013"
      ],
      "metadata": {
        "id": "jtCFtlz4d0Mm"
      }
    },
    {
      "cell_type": "code",
      "source": [
        "DATASET_02 = ROOT_DIR + \"/datasets/02_FER\"\n",
        "DATASET_02_TRAIN = DATASET_02+ \"/train\"\n",
        "DATASET_02_TEST = DATASET_02+ \"/test\"\n",
        "\n",
        "use_dir_02_TR = DATASET_02_TRAIN+\"/*/*.jpg\"\n",
        "use_dir_02_TE = DATASET_02_TEST+\"/*/*.jpg\"\n",
        "\n",
        "classes_02 = ['surprise', 'sad', 'neutral', 'happy', 'fear', 'disgust', 'angry']\n",
        "\n",
        "# create the necessary directories\n",
        "#create_aug_dir_train(DATASET_02, classes_02)\n",
        "# create_aug_dir_test(DATASET_02, classes_02)\n",
        "\n",
        "# perform img aug for the train and test sets\n",
        "#rotate_aug(use_dir_02_TR, '/Aug_train/', DATASET_02)\n",
        "# rotate_aug(use_dir_02_TE, '/Aug_test/', DATASET_02)"
      ],
      "metadata": {
        "id": "7xIAbWb1bihJ"
      },
      "execution_count": null,
      "outputs": []
    },
    {
      "cell_type": "code",
      "source": [
        "import numpy as np \n",
        "\n",
        "def h_shift_aug(dir, set_dir, data_set):\n",
        "  \n",
        "  trainset = glob.glob(dir)\n",
        "  for image in trainset:\n",
        "    img_info = image.split(\"/\")\n",
        "    img = cv2.imread(image)\n",
        "    rand_val = randint(0,7)\n",
        "    if rand_val == 0:\n",
        "      M = np.float32([[1, 0, 5], [0, 1, 0]])\n",
        "    elif rand_val == 1:\n",
        "      M = np.float32([[1, 0, 5], [0, 1, 5]])\n",
        "    elif rand_val == 2:\n",
        "      M = np.float32([[1, 0, 0], [0, 1, 5]])\n",
        "    elif rand_val == 3:\n",
        "      M = np.float32([[1, 0, -5], [0, 1, 5]])\n",
        "    elif rand_val == 4:\n",
        "      M = np.float32([[1, 0, -5], [0, 1, 0]])\n",
        "    elif rand_val == 5:\n",
        "      M = np.float32([[1, 0, -5], [0, 1, -5]])\n",
        "    elif rand_val == 6:\n",
        "      M = np.float32([[1, 0, 0], [0, 1, -5]])\n",
        "    elif rand_val == 7:\n",
        "      M = np.float32([[1, 0, 5], [0, 1, -5]])\n",
        "\n",
        "    h_flip_img = cv2.flip(img, 1)\n",
        "    h_shift_img = cv2.warpAffine(h_flip_img, M, (h_flip_img.shape[1], h_flip_img.shape[0]))\n",
        "    cv2.imwrite(data_set+set_dir+img_info[-2]+\"/HFlip_Shift_\"+img_info[-1], h_shift_img)\n",
        "\n",
        "\n",
        "def create_aug_dir_train_2 (dir, class_list):\n",
        "  if not os.path.exists(dir+'/Aug_train_2'):\n",
        "    os.mkdir(dir+\"/Aug_train_2\")\n",
        "    for curr_class in class_list:\n",
        "      os.mkdir(dir+\"/Aug_train_2/\"+ curr_class)\n",
        "\n",
        "\n",
        "def create_aug_dir_test_2 (dir, class_list):\n",
        "  if not os.path.exists(dir+'/Aug_test_2'):\n",
        "    os.mkdir(dir+\"/Aug_test_2\")\n",
        "    for curr_class in class_list:\n",
        "      os.mkdir(dir+\"/Aug_test_2/\"+ curr_class)"
      ],
      "metadata": {
        "id": "RCUNxYt6Q_7c"
      },
      "execution_count": null,
      "outputs": []
    },
    {
      "cell_type": "code",
      "source": [
        "#classes_02 = ['surprise', 'sad', 'neutral', 'happy', 'fear', 'disgust', 'angry']\n",
        "\n",
        "# create_aug_dir_train_2(DATASET_02, classes_02)\n",
        "create_aug_dir_test_2(DATASET_02, classes_02)\n",
        "\n",
        "# train and test set aug\n",
        "# h_shift_aug(use_dir_02_TR, '/Aug_train_2/', DATASET_02)\n",
        "h_shift_aug(use_dir_02_TR, '/Aug_test_2/', DATASET_02)"
      ],
      "metadata": {
        "id": "ANTzCEcxgLwD"
      },
      "execution_count": null,
      "outputs": []
    },
    {
      "cell_type": "code",
      "source": [
        ""
      ],
      "metadata": {
        "id": "UurkkGTXnQUW"
      },
      "execution_count": null,
      "outputs": []
    }
  ]
}