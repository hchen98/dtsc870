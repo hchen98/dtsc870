{
 "cells": [
  {
   "cell_type": "code",
   "execution_count": 1,
   "id": "712c7ab1",
   "metadata": {
    "_cell_guid": "b1076dfc-b9ad-4769-8c92-a6c4dae69d19",
    "_uuid": "8f2839f25d086af736a60e9eeb907d3b93b6e0e5",
    "execution": {
     "iopub.execute_input": "2022-05-10T17:17:55.163618Z",
     "iopub.status.busy": "2022-05-10T17:17:55.163010Z",
     "iopub.status.idle": "2022-05-10T17:17:55.167751Z",
     "shell.execute_reply": "2022-05-10T17:17:55.167091Z"
    },
    "papermill": {
     "duration": 0.035323,
     "end_time": "2022-05-10T17:17:55.169601",
     "exception": false,
     "start_time": "2022-05-10T17:17:55.134278",
     "status": "completed"
    },
    "tags": []
   },
   "outputs": [],
   "source": [
    "# MRI STUFF\n",
    "# Test increase in layers \n",
    "# Increase in layer architectures\n",
    "# Increase in drop out \n",
    "# With class weights, without class weights "
   ]
  },
  {
   "cell_type": "code",
   "execution_count": 2,
   "id": "9980e9a8",
   "metadata": {
    "execution": {
     "iopub.execute_input": "2022-05-10T17:17:55.222173Z",
     "iopub.status.busy": "2022-05-10T17:17:55.221854Z",
     "iopub.status.idle": "2022-05-10T17:18:00.878505Z",
     "shell.execute_reply": "2022-05-10T17:18:00.877796Z"
    },
    "papermill": {
     "duration": 5.685139,
     "end_time": "2022-05-10T17:18:00.880559",
     "exception": false,
     "start_time": "2022-05-10T17:17:55.195420",
     "status": "completed"
    },
    "tags": []
   },
   "outputs": [],
   "source": [
    "import pandas as pd\n",
    "import numpy as np\n",
    "import matplotlib.pyplot as plt\n",
    "import tensorflow as tf\n",
    "import tensorflow.keras.backend as K\n",
    "from tensorflow.keras.preprocessing.image import ImageDataGenerator\n",
    "from tensorflow.keras.models import Sequential\n",
    "from tensorflow.keras import datasets, layers, models\n",
    "from sklearn.metrics import (classification_report, confusion_matrix, balanced_accuracy_score, \n",
    "accuracy_score, roc_auc_score, auc)\n",
    "from sklearn.model_selection import KFold, StratifiedKFold\n",
    "import plotly.graph_objects as go\n",
    "import glob\n"
   ]
  },
  {
   "cell_type": "code",
   "execution_count": 3,
   "id": "c9e54db5",
   "metadata": {
    "execution": {
     "iopub.execute_input": "2022-05-10T17:18:00.935291Z",
     "iopub.status.busy": "2022-05-10T17:18:00.934533Z",
     "iopub.status.idle": "2022-05-10T17:18:00.939346Z",
     "shell.execute_reply": "2022-05-10T17:18:00.938690Z"
    },
    "papermill": {
     "duration": 0.034256,
     "end_time": "2022-05-10T17:18:00.941020",
     "exception": false,
     "start_time": "2022-05-10T17:18:00.906764",
     "status": "completed"
    },
    "tags": []
   },
   "outputs": [],
   "source": [
    "#drive.mount('/content/drive')\n",
    "\n",
    "#ROOT_DIR = \"/content/drive/MyDrive/Spring 2022/DTSC 870/Code\" # HC Directory\n",
    "#ROOT_DIR = \"/content/drive/MyDrive/DTSC 870/Code\" #MT Directory\n",
    "KAGGLE_START = \"/kaggle/input\"\n",
    "ROOT_DIR = KAGGLE_START\n",
    "DATASET_01_TEST = KAGGLE_START + \"/mri-test-set/test\"\n",
    "DATASET_01_TRAIN = KAGGLE_START + \"/mri-trainset/train\"\n",
    "KAGGLE_OUT = \"/kaggle/working\"\n",
    "\n"
   ]
  },
  {
   "cell_type": "code",
   "execution_count": 4,
   "id": "0df07777",
   "metadata": {
    "execution": {
     "iopub.execute_input": "2022-05-10T17:18:00.996023Z",
     "iopub.status.busy": "2022-05-10T17:18:00.995266Z",
     "iopub.status.idle": "2022-05-10T17:18:08.827898Z",
     "shell.execute_reply": "2022-05-10T17:18:08.826296Z"
    },
    "papermill": {
     "duration": 7.863655,
     "end_time": "2022-05-10T17:18:08.831243",
     "exception": false,
     "start_time": "2022-05-10T17:18:00.967588",
     "status": "completed"
    },
    "tags": []
   },
   "outputs": [
    {
     "name": "stderr",
     "output_type": "stream",
     "text": [
      "2022-05-10 17:18:01.084726: I tensorflow/stream_executor/cuda/cuda_gpu_executor.cc:937] successful NUMA node read from SysFS had negative value (-1), but there must be at least one NUMA node, so returning NUMA node zero\n",
      "2022-05-10 17:18:01.179600: I tensorflow/stream_executor/cuda/cuda_gpu_executor.cc:937] successful NUMA node read from SysFS had negative value (-1), but there must be at least one NUMA node, so returning NUMA node zero\n",
      "2022-05-10 17:18:01.180400: I tensorflow/stream_executor/cuda/cuda_gpu_executor.cc:937] successful NUMA node read from SysFS had negative value (-1), but there must be at least one NUMA node, so returning NUMA node zero\n",
      "2022-05-10 17:18:01.181558: I tensorflow/core/platform/cpu_feature_guard.cc:142] This TensorFlow binary is optimized with oneAPI Deep Neural Network Library (oneDNN) to use the following CPU instructions in performance-critical operations:  AVX2 AVX512F FMA\n",
      "To enable them in other operations, rebuild TensorFlow with the appropriate compiler flags.\n",
      "2022-05-10 17:18:01.185924: I tensorflow/stream_executor/cuda/cuda_gpu_executor.cc:937] successful NUMA node read from SysFS had negative value (-1), but there must be at least one NUMA node, so returning NUMA node zero\n",
      "2022-05-10 17:18:01.186676: I tensorflow/stream_executor/cuda/cuda_gpu_executor.cc:937] successful NUMA node read from SysFS had negative value (-1), but there must be at least one NUMA node, so returning NUMA node zero\n",
      "2022-05-10 17:18:01.187361: I tensorflow/stream_executor/cuda/cuda_gpu_executor.cc:937] successful NUMA node read from SysFS had negative value (-1), but there must be at least one NUMA node, so returning NUMA node zero\n",
      "2022-05-10 17:18:02.931569: I tensorflow/stream_executor/cuda/cuda_gpu_executor.cc:937] successful NUMA node read from SysFS had negative value (-1), but there must be at least one NUMA node, so returning NUMA node zero\n",
      "2022-05-10 17:18:02.932442: I tensorflow/stream_executor/cuda/cuda_gpu_executor.cc:937] successful NUMA node read from SysFS had negative value (-1), but there must be at least one NUMA node, so returning NUMA node zero\n",
      "2022-05-10 17:18:02.933130: I tensorflow/stream_executor/cuda/cuda_gpu_executor.cc:937] successful NUMA node read from SysFS had negative value (-1), but there must be at least one NUMA node, so returning NUMA node zero\n",
      "2022-05-10 17:18:02.934467: I tensorflow/core/common_runtime/gpu/gpu_device.cc:1510] Created device /job:localhost/replica:0/task:0/device:GPU:0 with 15403 MB memory:  -> device: 0, name: Tesla P100-PCIE-16GB, pci bus id: 0000:00:04.0, compute capability: 6.0\n"
     ]
    },
    {
     "name": "stdout",
     "output_type": "stream",
     "text": [
      "Downloading data from https://storage.googleapis.com/tensorflow/keras-applications/densenet/densenet169_weights_tf_dim_ordering_tf_kernels_notop.h5\n",
      "51879936/51877672 [==============================] - 0s 0us/step\n",
      "51888128/51877672 [==============================] - 0s 0us/step\n",
      "Model: \"model\"\n",
      "_________________________________________________________________\n",
      "Layer (type)                 Output Shape              Param #   \n",
      "=================================================================\n",
      "input_1 (InputLayer)         [(None, 128, 128, 3)]     0         \n",
      "_________________________________________________________________\n",
      "tf.math.truediv (TFOpLambda) (None, 128, 128, 3)       0         \n",
      "_________________________________________________________________\n",
      "tf.nn.bias_add (TFOpLambda)  (None, 128, 128, 3)       0         \n",
      "_________________________________________________________________\n",
      "tf.math.truediv_1 (TFOpLambd (None, 128, 128, 3)       0         \n",
      "_________________________________________________________________\n",
      "densenet169 (Functional)     (None, 4, 4, 1664)        12642880  \n",
      "_________________________________________________________________\n",
      "global_average_pooling2d (Gl (None, 1664)              0         \n",
      "_________________________________________________________________\n",
      "dropout (Dropout)            (None, 1664)              0         \n",
      "_________________________________________________________________\n",
      "dense (Dense)                (None, 1)                 1665      \n",
      "=================================================================\n",
      "Total params: 12,644,545\n",
      "Trainable params: 2,958,017\n",
      "Non-trainable params: 9,686,528\n",
      "_________________________________________________________________\n"
     ]
    }
   ],
   "source": [
    "def transfer_learning_model_dense169_1():\n",
    "\n",
    "  IMG_SHAPE = (128,128,3,)\n",
    " \n",
    "  inputs = tf.keras.Input(shape=IMG_SHAPE)\n",
    "  x = tf.keras.applications.densenet.preprocess_input(inputs)\n",
    "  base_model = tf.keras.applications.densenet.DenseNet169(input_shape=IMG_SHAPE,\n",
    "                                               include_top=False,\n",
    "                                               weights='imagenet')\n",
    "  #print(len(base_model.layers))\n",
    "  base_model.trainable = True\n",
    "\n",
    "  fine_tune_at = 500\n",
    "  for layer in base_model.layers[:fine_tune_at]:\n",
    "    layer.trainable = False\n",
    "\n",
    "  x = base_model(x)\n",
    "  global_average_layer = tf.keras.layers.GlobalAveragePooling2D()\n",
    "  x = global_average_layer(x)\n",
    "  x = tf.keras.layers.Dropout(0.2)(x)\n",
    "  prediction_layer = tf.keras.layers.Dense(1)\n",
    "  outputs = prediction_layer(x)\n",
    "  model = tf.keras.Model(inputs, outputs)\n",
    "  #print(len(model.trainable_variables))\n",
    "  return model\n",
    "\n",
    "transfer_model_dense169 = transfer_learning_model_dense169_1()\n",
    "transfer_model_dense169.summary()"
   ]
  },
  {
   "cell_type": "code",
   "execution_count": 5,
   "id": "73d6c2c2",
   "metadata": {
    "execution": {
     "iopub.execute_input": "2022-05-10T17:18:08.936185Z",
     "iopub.status.busy": "2022-05-10T17:18:08.935743Z",
     "iopub.status.idle": "2022-05-10T17:18:09.160146Z",
     "shell.execute_reply": "2022-05-10T17:18:09.159341Z"
    },
    "papermill": {
     "duration": 0.277135,
     "end_time": "2022-05-10T17:18:09.162002",
     "exception": false,
     "start_time": "2022-05-10T17:18:08.884867",
     "status": "completed"
    },
    "tags": []
   },
   "outputs": [
    {
     "name": "stdout",
     "output_type": "stream",
     "text": [
      "Found 121 images belonging to 2 classes.\n",
      "Found 279 images belonging to 2 classes.\n"
     ]
    }
   ],
   "source": [
    "datagen = ImageDataGenerator()\n",
    "image_size = (256, 256)\n",
    "test_set = datagen.flow_from_directory(DATASET_01_TEST, target_size=image_size, batch_size=32, class_mode='binary', shuffle=False)\n",
    "train_set = datagen.flow_from_directory(DATASET_01_TRAIN, target_size=image_size, batch_size=32, class_mode='binary')\n"
   ]
  },
  {
   "cell_type": "code",
   "execution_count": 6,
   "id": "5163122a",
   "metadata": {
    "execution": {
     "iopub.execute_input": "2022-05-10T17:18:09.224795Z",
     "iopub.status.busy": "2022-05-10T17:18:09.224565Z",
     "iopub.status.idle": "2022-05-10T17:18:09.232431Z",
     "shell.execute_reply": "2022-05-10T17:18:09.231788Z"
    },
    "papermill": {
     "duration": 0.041434,
     "end_time": "2022-05-10T17:18:09.234255",
     "exception": false,
     "start_time": "2022-05-10T17:18:09.192821",
     "status": "completed"
    },
    "tags": []
   },
   "outputs": [],
   "source": [
    "def create_model_V1():\n",
    "  model = models.Sequential()\n",
    "  model.add(layers.Conv2D(32, (3, 3), activation='relu', input_shape=(256, 256, 3)))\n",
    "  model.add(layers.MaxPooling2D((2, 2)))\n",
    "  #model.add(layers.Dropout(0.4))\n",
    "  model.add(layers.Conv2D(64, (3, 3), activation='relu'))\n",
    "  model.add(layers.MaxPooling2D((2, 2)))\n",
    "  #model.add(layers.Dropout(0.4))\n",
    "  model.add(layers.Conv2D(128, (3, 3), activation='relu'))\n",
    "  #model.add(layers.MaxPooling2D((2, 2)))\n",
    "  #model.add(layers.Conv2D(64, (3, 3), activation='relu'))\n",
    "  model.add(layers.Flatten())\n",
    "  model.add(layers.Dense(128, activation='relu'))\n",
    "  model.add(layers.Dense(1, activation='sigmoid'))\n",
    "  return model\n"
   ]
  },
  {
   "cell_type": "code",
   "execution_count": 7,
   "id": "62e41aef",
   "metadata": {
    "execution": {
     "iopub.execute_input": "2022-05-10T17:18:09.296592Z",
     "iopub.status.busy": "2022-05-10T17:18:09.296340Z",
     "iopub.status.idle": "2022-05-10T17:18:09.303419Z",
     "shell.execute_reply": "2022-05-10T17:18:09.302672Z"
    },
    "papermill": {
     "duration": 0.040227,
     "end_time": "2022-05-10T17:18:09.305062",
     "exception": false,
     "start_time": "2022-05-10T17:18:09.264835",
     "status": "completed"
    },
    "tags": []
   },
   "outputs": [],
   "source": [
    "def create_model_V1_02():\n",
    "  model = models.Sequential()\n",
    "  model.add(layers.Conv2D(32, (3, 3), activation='relu', input_shape=(256, 256, 3)))\n",
    "  model.add(layers.MaxPooling2D((2, 2)))\n",
    "  model.add(layers.Dropout(0.2))\n",
    "  model.add(layers.Conv2D(64, (3, 3), activation='relu'))\n",
    "  model.add(layers.MaxPooling2D((2, 2)))\n",
    "  model.add(layers.Dropout(0.2))\n",
    "  model.add(layers.Conv2D(128, (3, 3), activation='relu'))\n",
    "  #model.add(layers.MaxPooling2D((2, 2)))\n",
    "  #model.add(layers.Conv2D(64, (3, 3), activation='relu'))\n",
    "  model.add(layers.Flatten())\n",
    "  model.add(layers.Dense(128, activation='relu'))\n",
    "  model.add(layers.Dense(1, activation='sigmoid'))\n",
    "  return model"
   ]
  },
  {
   "cell_type": "code",
   "execution_count": 8,
   "id": "ae16efbd",
   "metadata": {
    "execution": {
     "iopub.execute_input": "2022-05-10T17:18:09.369029Z",
     "iopub.status.busy": "2022-05-10T17:18:09.368491Z",
     "iopub.status.idle": "2022-05-10T17:18:09.375526Z",
     "shell.execute_reply": "2022-05-10T17:18:09.374886Z"
    },
    "papermill": {
     "duration": 0.041095,
     "end_time": "2022-05-10T17:18:09.377170",
     "exception": false,
     "start_time": "2022-05-10T17:18:09.336075",
     "status": "completed"
    },
    "tags": []
   },
   "outputs": [],
   "source": [
    "def create_model_V1_04():\n",
    "  model = models.Sequential()\n",
    "  model.add(layers.Conv2D(32, (3, 3), activation='relu', input_shape=(256, 256, 3)))\n",
    "  model.add(layers.MaxPooling2D((2, 2)))\n",
    "  model.add(layers.Dropout(0.4))\n",
    "  model.add(layers.Conv2D(64, (3, 3), activation='relu'))\n",
    "  model.add(layers.MaxPooling2D((2, 2)))\n",
    "  model.add(layers.Dropout(0.4))\n",
    "  model.add(layers.Conv2D(128, (3, 3), activation='relu'))\n",
    "  #model.add(layers.MaxPooling2D((2, 2)))\n",
    "  #model.add(layers.Conv2D(64, (3, 3), activation='relu'))\n",
    "  model.add(layers.Flatten())\n",
    "  model.add(layers.Dense(128, activation='relu'))\n",
    "  model.add(layers.Dense(1, activation='sigmoid'))\n",
    "  return model"
   ]
  },
  {
   "cell_type": "code",
   "execution_count": 9,
   "id": "b09ce032",
   "metadata": {
    "execution": {
     "iopub.execute_input": "2022-05-10T17:18:09.440318Z",
     "iopub.status.busy": "2022-05-10T17:18:09.439626Z",
     "iopub.status.idle": "2022-05-10T17:18:09.445753Z",
     "shell.execute_reply": "2022-05-10T17:18:09.445071Z"
    },
    "papermill": {
     "duration": 0.039437,
     "end_time": "2022-05-10T17:18:09.447423",
     "exception": false,
     "start_time": "2022-05-10T17:18:09.407986",
     "status": "completed"
    },
    "tags": []
   },
   "outputs": [],
   "source": [
    "def create_model_V2():\n",
    "  model = models.Sequential()\n",
    "  model.add(layers.Conv2D(32, (3, 3), activation='relu', input_shape=(256, 256, 3)))\n",
    "  model.add(layers.MaxPooling2D((2, 2)))\n",
    "  #model.add(layers.Dropout(0.4))\n",
    "  model.add(layers.Conv2D(64, (3, 3), activation='relu'))\n",
    "  #model.add(layers.MaxPooling2D((2, 2)))\n",
    "  #model.add(layers.Dropout(0.4))\n",
    "  #model.add(layers.Conv2D(128, (3, 3), activation='relu'))\n",
    "  #model.add(layers.MaxPooling2D((2, 2)))\n",
    "  #model.add(layers.Conv2D(64, (3, 3), activation='relu'))\n",
    "  model.add(layers.Flatten())\n",
    "  model.add(layers.Dense(64, activation='relu'))\n",
    "  model.add(layers.Dense(1, activation='sigmoid'))\n",
    "  return model"
   ]
  },
  {
   "cell_type": "code",
   "execution_count": 10,
   "id": "9b689397",
   "metadata": {
    "execution": {
     "iopub.execute_input": "2022-05-10T17:18:09.510814Z",
     "iopub.status.busy": "2022-05-10T17:18:09.510286Z",
     "iopub.status.idle": "2022-05-10T17:18:09.516503Z",
     "shell.execute_reply": "2022-05-10T17:18:09.515854Z"
    },
    "papermill": {
     "duration": 0.039806,
     "end_time": "2022-05-10T17:18:09.518121",
     "exception": false,
     "start_time": "2022-05-10T17:18:09.478315",
     "status": "completed"
    },
    "tags": []
   },
   "outputs": [],
   "source": [
    "def create_model_V2_02():\n",
    "  model = models.Sequential()\n",
    "  model.add(layers.Conv2D(32, (3, 3), activation='relu', input_shape=(256, 256, 3)))\n",
    "  model.add(layers.MaxPooling2D((2, 2)))\n",
    "  model.add(layers.Dropout(0.2))\n",
    "  model.add(layers.Conv2D(64, (3, 3), activation='relu'))\n",
    "  #model.add(layers.MaxPooling2D((2, 2)))\n",
    "  #model.add(layers.Dropout(0.4))\n",
    "  #model.add(layers.Conv2D(128, (3, 3), activation='relu'))\n",
    "  #model.add(layers.MaxPooling2D((2, 2)))\n",
    "  #model.add(layers.Conv2D(64, (3, 3), activation='relu'))\n",
    "  model.add(layers.Flatten())\n",
    "  model.add(layers.Dense(64, activation='relu'))\n",
    "  model.add(layers.Dense(1, activation='sigmoid'))\n",
    "  return model"
   ]
  },
  {
   "cell_type": "code",
   "execution_count": 11,
   "id": "4c04d0e3",
   "metadata": {
    "execution": {
     "iopub.execute_input": "2022-05-10T17:18:09.581270Z",
     "iopub.status.busy": "2022-05-10T17:18:09.580633Z",
     "iopub.status.idle": "2022-05-10T17:18:09.586972Z",
     "shell.execute_reply": "2022-05-10T17:18:09.586226Z"
    },
    "papermill": {
     "duration": 0.039905,
     "end_time": "2022-05-10T17:18:09.588726",
     "exception": false,
     "start_time": "2022-05-10T17:18:09.548821",
     "status": "completed"
    },
    "tags": []
   },
   "outputs": [],
   "source": [
    "def create_model_V2_04():\n",
    "  model = models.Sequential()\n",
    "  model.add(layers.Conv2D(32, (3, 3), activation='relu', input_shape=(256, 256, 3)))\n",
    "  model.add(layers.MaxPooling2D((2, 2)))\n",
    "  model.add(layers.Dropout(0.4))\n",
    "  model.add(layers.Conv2D(64, (3, 3), activation='relu'))\n",
    "  #model.add(layers.MaxPooling2D((2, 2)))\n",
    "  #model.add(layers.Dropout(0.4))\n",
    "  #model.add(layers.Conv2D(128, (3, 3), activation='relu'))\n",
    "  #model.add(layers.MaxPooling2D((2, 2)))\n",
    "  #model.add(layers.Conv2D(64, (3, 3), activation='relu'))\n",
    "  model.add(layers.Flatten())\n",
    "  model.add(layers.Dense(64, activation='relu'))\n",
    "  model.add(layers.Dense(1, activation='sigmoid'))\n",
    "  return model"
   ]
  },
  {
   "cell_type": "code",
   "execution_count": 12,
   "id": "af3a3915",
   "metadata": {
    "execution": {
     "iopub.execute_input": "2022-05-10T17:18:09.672069Z",
     "iopub.status.busy": "2022-05-10T17:18:09.671730Z",
     "iopub.status.idle": "2022-05-10T17:18:09.685845Z",
     "shell.execute_reply": "2022-05-10T17:18:09.683327Z"
    },
    "papermill": {
     "duration": 0.066513,
     "end_time": "2022-05-10T17:18:09.689448",
     "exception": false,
     "start_time": "2022-05-10T17:18:09.622935",
     "status": "completed"
    },
    "tags": []
   },
   "outputs": [],
   "source": [
    "def create_model_V3():\n",
    "  model = models.Sequential()\n",
    "  model.add(layers.Conv2D(32, (3, 3), activation='relu', input_shape=(256, 256, 3)))\n",
    "  model.add(layers.MaxPooling2D((2, 2)))\n",
    "  #model.add(layers.Dropout(0.4))\n",
    "  model.add(layers.Conv2D(64, (3, 3), activation='relu'))\n",
    "  model.add(layers.MaxPooling2D((2, 2)))\n",
    "  #model.add(layers.Dropout(0.4))\n",
    "  model.add(layers.Conv2D(128, (3, 3), activation='relu'))\n",
    "  model.add(layers.MaxPooling2D((2, 2)))\n",
    "  #model.add(layers.Conv2D(64, (3, 3), activation='relu'))\n",
    "  model.add(layers.Conv2D(256, (3, 3), activation='relu'))\n",
    "  model.add(layers.Flatten())\n",
    "  model.add(layers.Dense(256, activation='relu'))\n",
    "  model.add(layers.Dense(1, activation='sigmoid'))\n",
    "  return model"
   ]
  },
  {
   "cell_type": "code",
   "execution_count": 13,
   "id": "1c20f2cb",
   "metadata": {
    "execution": {
     "iopub.execute_input": "2022-05-10T17:18:09.782720Z",
     "iopub.status.busy": "2022-05-10T17:18:09.782468Z",
     "iopub.status.idle": "2022-05-10T17:18:09.790789Z",
     "shell.execute_reply": "2022-05-10T17:18:09.790027Z"
    },
    "papermill": {
     "duration": 0.048414,
     "end_time": "2022-05-10T17:18:09.792817",
     "exception": false,
     "start_time": "2022-05-10T17:18:09.744403",
     "status": "completed"
    },
    "tags": []
   },
   "outputs": [],
   "source": [
    "def create_model_V3_02():\n",
    "  model = models.Sequential()\n",
    "  model.add(layers.Conv2D(32, (3, 3), activation='relu', input_shape=(256, 256, 3)))\n",
    "  model.add(layers.MaxPooling2D((2, 2)))\n",
    "  model.add(layers.Dropout(0.2))\n",
    "  model.add(layers.Conv2D(64, (3, 3), activation='relu'))\n",
    "  model.add(layers.MaxPooling2D((2, 2)))\n",
    "  model.add(layers.Dropout(0.2))\n",
    "  model.add(layers.Conv2D(128, (3, 3), activation='relu'))\n",
    "  model.add(layers.MaxPooling2D((2, 2)))\n",
    "  model.add(layers.Dropout(0.2))\n",
    "  #model.add(layers.Conv2D(64, (3, 3), activation='relu'))\n",
    "  model.add(layers.Conv2D(256, (3, 3), activation='relu'))\n",
    "  model.add(layers.Flatten())\n",
    "  model.add(layers.Dense(256, activation='relu'))\n",
    "  model.add(layers.Dense(1, activation='sigmoid'))\n",
    "  return model"
   ]
  },
  {
   "cell_type": "code",
   "execution_count": 14,
   "id": "ac56083d",
   "metadata": {
    "execution": {
     "iopub.execute_input": "2022-05-10T17:18:09.861557Z",
     "iopub.status.busy": "2022-05-10T17:18:09.861343Z",
     "iopub.status.idle": "2022-05-10T17:18:09.869978Z",
     "shell.execute_reply": "2022-05-10T17:18:09.869000Z"
    },
    "papermill": {
     "duration": 0.04586,
     "end_time": "2022-05-10T17:18:09.872062",
     "exception": false,
     "start_time": "2022-05-10T17:18:09.826202",
     "status": "completed"
    },
    "tags": []
   },
   "outputs": [],
   "source": [
    "def create_model_V3_04():\n",
    "  model = models.Sequential()\n",
    "  model.add(layers.Conv2D(32, (3, 3), activation='relu', input_shape=(256, 256, 3)))\n",
    "  model.add(layers.MaxPooling2D((2, 2)))\n",
    "  model.add(layers.Dropout(0.4))\n",
    "  model.add(layers.Conv2D(64, (3, 3), activation='relu'))\n",
    "  model.add(layers.MaxPooling2D((2, 2)))\n",
    "  model.add(layers.Dropout(0.4))\n",
    "  model.add(layers.Conv2D(128, (3, 3), activation='relu'))\n",
    "  model.add(layers.MaxPooling2D((2, 2)))\n",
    "  model.add(layers.Dropout(0.4))\n",
    "  #model.add(layers.Conv2D(64, (3, 3), activation='relu'))\n",
    "  model.add(layers.Conv2D(256, (3, 3), activation='relu'))\n",
    "  model.add(layers.Flatten())\n",
    "  model.add(layers.Dense(256, activation='relu'))\n",
    "  model.add(layers.Dense(1, activation='sigmoid'))\n",
    "  return model"
   ]
  },
  {
   "cell_type": "code",
   "execution_count": 15,
   "id": "f3b642ca",
   "metadata": {
    "execution": {
     "iopub.execute_input": "2022-05-10T17:18:09.936834Z",
     "iopub.status.busy": "2022-05-10T17:18:09.936621Z",
     "iopub.status.idle": "2022-05-10T17:18:09.944709Z",
     "shell.execute_reply": "2022-05-10T17:18:09.943940Z"
    },
    "papermill": {
     "duration": 0.042676,
     "end_time": "2022-05-10T17:18:09.946757",
     "exception": false,
     "start_time": "2022-05-10T17:18:09.904081",
     "status": "completed"
    },
    "tags": []
   },
   "outputs": [],
   "source": [
    "def create_model_V4():\n",
    "  model = models.Sequential()\n",
    "  model.add(layers.Conv2D(32, (3, 3), activation='relu', input_shape=(256, 256, 3)))\n",
    "  model.add(layers.MaxPooling2D((2, 2)))\n",
    "  #model.add(layers.Dropout(0.4))\n",
    "  model.add(layers.Conv2D(64, (3, 3), activation='relu'))\n",
    "  model.add(layers.MaxPooling2D((2, 2)))\n",
    "  #model.add(layers.Dropout(0.4))\n",
    "  model.add(layers.Conv2D(128, (3, 3), activation='relu'))\n",
    "  model.add(layers.MaxPooling2D((2, 2)))\n",
    "  model.add(layers.Conv2D(128, (3, 3), activation='relu'))\n",
    "  model.add(layers.MaxPooling2D((2, 2)))\n",
    "  #model.add(layers.Conv2D(64, (3, 3), activation='relu'))\n",
    "  model.add(layers.Conv2D(256, (3, 3), activation='relu'))\n",
    "  model.add(layers.Flatten())\n",
    "  model.add(layers.Dense(256, activation='relu'))\n",
    "  model.add(layers.Dense(1, activation='sigmoid'))\n",
    "  return model"
   ]
  },
  {
   "cell_type": "code",
   "execution_count": 16,
   "id": "cb51a3a2",
   "metadata": {
    "execution": {
     "iopub.execute_input": "2022-05-10T17:18:10.013499Z",
     "iopub.status.busy": "2022-05-10T17:18:10.013226Z",
     "iopub.status.idle": "2022-05-10T17:18:10.022092Z",
     "shell.execute_reply": "2022-05-10T17:18:10.021280Z"
    },
    "papermill": {
     "duration": 0.045146,
     "end_time": "2022-05-10T17:18:10.024119",
     "exception": false,
     "start_time": "2022-05-10T17:18:09.978973",
     "status": "completed"
    },
    "tags": []
   },
   "outputs": [],
   "source": [
    "def create_model_V4_02():\n",
    "  model = models.Sequential()\n",
    "  model.add(layers.Conv2D(32, (3, 3), activation='relu', input_shape=(256, 256, 3)))\n",
    "  model.add(layers.MaxPooling2D((2, 2)))\n",
    "  model.add(layers.Dropout(0.2))\n",
    "  model.add(layers.Conv2D(64, (3, 3), activation='relu'))\n",
    "  model.add(layers.MaxPooling2D((2, 2)))\n",
    "  model.add(layers.Dropout(0.2))\n",
    "  model.add(layers.Conv2D(128, (3, 3), activation='relu'))\n",
    "  model.add(layers.MaxPooling2D((2, 2)))\n",
    "  model.add(layers.Dropout(0.2))\n",
    "  model.add(layers.Conv2D(128, (3, 3), activation='relu'))\n",
    "  model.add(layers.MaxPooling2D((2, 2)))\n",
    "  #model.add(layers.Conv2D(64, (3, 3), activation='relu'))\n",
    "  model.add(layers.Conv2D(256, (3, 3), activation='relu'))\n",
    "  model.add(layers.Flatten())\n",
    "  model.add(layers.Dense(256, activation='relu'))\n",
    "  model.add(layers.Dense(1, activation='sigmoid'))\n",
    "  return model"
   ]
  },
  {
   "cell_type": "code",
   "execution_count": 17,
   "id": "e65623ca",
   "metadata": {
    "execution": {
     "iopub.execute_input": "2022-05-10T17:18:10.089742Z",
     "iopub.status.busy": "2022-05-10T17:18:10.089465Z",
     "iopub.status.idle": "2022-05-10T17:18:10.099398Z",
     "shell.execute_reply": "2022-05-10T17:18:10.098760Z"
    },
    "papermill": {
     "duration": 0.044482,
     "end_time": "2022-05-10T17:18:10.101019",
     "exception": false,
     "start_time": "2022-05-10T17:18:10.056537",
     "status": "completed"
    },
    "tags": []
   },
   "outputs": [],
   "source": [
    "def create_model_V4_04():\n",
    "  model = models.Sequential()\n",
    "  model.add(layers.Conv2D(32, (3, 3), activation='relu', input_shape=(256, 256, 3)))\n",
    "  model.add(layers.MaxPooling2D((2, 2)))\n",
    "  model.add(layers.Dropout(0.4))\n",
    "  model.add(layers.Conv2D(64, (3, 3), activation='relu'))\n",
    "  model.add(layers.MaxPooling2D((2, 2)))\n",
    "  model.add(layers.Dropout(0.4))\n",
    "  model.add(layers.Conv2D(128, (3, 3), activation='relu'))\n",
    "  model.add(layers.MaxPooling2D((2, 2)))\n",
    "  model.add(layers.Dropout(0.4))\n",
    "  model.add(layers.Conv2D(128, (3, 3), activation='relu'))\n",
    "  model.add(layers.MaxPooling2D((2, 2)))\n",
    "  #model.add(layers.Conv2D(64, (3, 3), activation='relu'))\n",
    "  model.add(layers.Conv2D(256, (3, 3), activation='relu'))\n",
    "  model.add(layers.Flatten())\n",
    "  model.add(layers.Dense(256, activation='relu'))\n",
    "  model.add(layers.Dense(1, activation='sigmoid'))\n",
    "  return model"
   ]
  },
  {
   "cell_type": "code",
   "execution_count": 18,
   "id": "271e262e",
   "metadata": {
    "execution": {
     "iopub.execute_input": "2022-05-10T17:18:10.166289Z",
     "iopub.status.busy": "2022-05-10T17:18:10.166049Z",
     "iopub.status.idle": "2022-05-10T17:18:10.170318Z",
     "shell.execute_reply": "2022-05-10T17:18:10.169543Z"
    },
    "papermill": {
     "duration": 0.039202,
     "end_time": "2022-05-10T17:18:10.172214",
     "exception": false,
     "start_time": "2022-05-10T17:18:10.133012",
     "status": "completed"
    },
    "tags": []
   },
   "outputs": [],
   "source": [
    "#modify this \n",
    "norm_weight = 400/(2*(118+52))\n",
    "tumor_weight = 400/(2*(161+69))\n",
    "\n",
    "class_weights = {0:norm_weight, 1:tumor_weight}"
   ]
  },
  {
   "cell_type": "code",
   "execution_count": 19,
   "id": "a0a7207f",
   "metadata": {
    "execution": {
     "iopub.execute_input": "2022-05-10T17:18:10.239613Z",
     "iopub.status.busy": "2022-05-10T17:18:10.239348Z",
     "iopub.status.idle": "2022-05-10T17:18:10.245070Z",
     "shell.execute_reply": "2022-05-10T17:18:10.244397Z"
    },
    "papermill": {
     "duration": 0.042736,
     "end_time": "2022-05-10T17:18:10.246850",
     "exception": false,
     "start_time": "2022-05-10T17:18:10.204114",
     "status": "completed"
    },
    "tags": []
   },
   "outputs": [],
   "source": [
    "import glob\n",
    "\n",
    "#borrowed from svm code\n",
    "def get_data_df(dir):\n",
    "  # modified code from: https://www.kaggle.com/namgalielei/simple-load-images-and-count-number-of-each-class\n",
    "\n",
    "  train_df = pd.DataFrame()\n",
    "\n",
    "  trainset = glob.glob(dir)\n",
    "  #print(trainset)\n",
    "  train_df['filename'] = [img.split(\"/\")[-4] + \"/\" + img.split(\"/\")[-3] + \"/\" + img.split(\"/\")[-2]+\"/\"+img.split(\"/\")[-1] for img in trainset]\n",
    "  train_df['label'] = [img.split(\"/\")[-2] for img in trainset]\n",
    "\n",
    "  return train_df"
   ]
  },
  {
   "cell_type": "code",
   "execution_count": 20,
   "id": "327007c5",
   "metadata": {
    "execution": {
     "iopub.execute_input": "2022-05-10T17:18:10.316758Z",
     "iopub.status.busy": "2022-05-10T17:18:10.316249Z",
     "iopub.status.idle": "2022-05-10T17:18:10.343632Z",
     "shell.execute_reply": "2022-05-10T17:18:10.343023Z"
    },
    "papermill": {
     "duration": 0.064675,
     "end_time": "2022-05-10T17:18:10.345422",
     "exception": false,
     "start_time": "2022-05-10T17:18:10.280747",
     "status": "completed"
    },
    "tags": []
   },
   "outputs": [
    {
     "data": {
      "text/html": [
       "<div>\n",
       "<style scoped>\n",
       "    .dataframe tbody tr th:only-of-type {\n",
       "        vertical-align: middle;\n",
       "    }\n",
       "\n",
       "    .dataframe tbody tr th {\n",
       "        vertical-align: top;\n",
       "    }\n",
       "\n",
       "    .dataframe thead th {\n",
       "        text-align: right;\n",
       "    }\n",
       "</style>\n",
       "<table border=\"1\" class=\"dataframe\">\n",
       "  <thead>\n",
       "    <tr style=\"text-align: right;\">\n",
       "      <th></th>\n",
       "      <th>filename</th>\n",
       "      <th>label</th>\n",
       "    </tr>\n",
       "  </thead>\n",
       "  <tbody>\n",
       "    <tr>\n",
       "      <th>0</th>\n",
       "      <td>mri-trainset/train/Tumor/Tumor (77).jpg</td>\n",
       "      <td>Tumor</td>\n",
       "    </tr>\n",
       "    <tr>\n",
       "      <th>1</th>\n",
       "      <td>mri-trainset/train/Tumor/Tumor (116).jpg</td>\n",
       "      <td>Tumor</td>\n",
       "    </tr>\n",
       "    <tr>\n",
       "      <th>2</th>\n",
       "      <td>mri-trainset/train/Tumor/Tumor (86).jpg</td>\n",
       "      <td>Tumor</td>\n",
       "    </tr>\n",
       "    <tr>\n",
       "      <th>3</th>\n",
       "      <td>mri-trainset/train/Tumor/Tumor (49).jpg</td>\n",
       "      <td>Tumor</td>\n",
       "    </tr>\n",
       "    <tr>\n",
       "      <th>4</th>\n",
       "      <td>mri-trainset/train/Tumor/Tumor (40).jpg</td>\n",
       "      <td>Tumor</td>\n",
       "    </tr>\n",
       "  </tbody>\n",
       "</table>\n",
       "</div>"
      ],
      "text/plain": [
       "                                   filename  label\n",
       "0   mri-trainset/train/Tumor/Tumor (77).jpg  Tumor\n",
       "1  mri-trainset/train/Tumor/Tumor (116).jpg  Tumor\n",
       "2   mri-trainset/train/Tumor/Tumor (86).jpg  Tumor\n",
       "3   mri-trainset/train/Tumor/Tumor (49).jpg  Tumor\n",
       "4   mri-trainset/train/Tumor/Tumor (40).jpg  Tumor"
      ]
     },
     "execution_count": 20,
     "metadata": {},
     "output_type": "execute_result"
    }
   ],
   "source": [
    "test_train = get_data_df(DATASET_01_TRAIN+\"/*/*.jpg\")\n",
    "test_train.head()"
   ]
  },
  {
   "cell_type": "code",
   "execution_count": 21,
   "id": "58ebd571",
   "metadata": {
    "execution": {
     "iopub.execute_input": "2022-05-10T17:18:10.415405Z",
     "iopub.status.busy": "2022-05-10T17:18:10.415144Z",
     "iopub.status.idle": "2022-05-10T17:18:10.441251Z",
     "shell.execute_reply": "2022-05-10T17:18:10.440600Z"
    },
    "papermill": {
     "duration": 0.063024,
     "end_time": "2022-05-10T17:18:10.442972",
     "exception": false,
     "start_time": "2022-05-10T17:18:10.379948",
     "status": "completed"
    },
    "tags": []
   },
   "outputs": [],
   "source": [
    "from sklearn.model_selection import KFold, StratifiedKFold\n",
    "\n",
    "train_data = get_data_df(DATASET_01_TRAIN+\"/*/*.jpg\")\n",
    "Y = train_data[['label']]\n",
    "\n",
    "#Y = final_train[['label']]\n",
    "#n = len(final_train)   \n",
    "\n",
    "skf = StratifiedKFold(n_splits = 5, random_state = 7, shuffle = True) \n",
    "\n",
    "#Un needed preprocessing aside from rescale\n",
    "idg = ImageDataGenerator(rescale=1./255)\n",
    "\n",
    "#model name\n",
    "def get_model_name(k):\n",
    "    return 'model_'+str(k)+'.h5'\n",
    "def model_test(fold_count, epoch, model_method, image_size):\n",
    "  skf = StratifiedKFold(n_splits = fold_count, random_state = 7, shuffle = True)\n",
    "  train_data = get_data_df(DATASET_01_TRAIN+\"/*/*.jpg\")\n",
    "  Y = train_data[['label']]\n",
    "  n = len (train_data)\n",
    "  #Incorperate preprocessing in the method \n",
    "  #####################################################################\n",
    "  #aug_train = get_data_df(DATASET_01_ROOT+\"/Aug_train/*/*.jpg\")\n",
    "  #aug_train['filename'] = aug_train['filename'].str[7:]\n",
    "  #final_train = test_train.append(aug_train, sort=False, ignore_index=True)\n",
    "\n",
    "\n",
    "  #######################################################################\n",
    "  idg = ImageDataGenerator()\n",
    "  #idg = ImageDataGenerator()\n",
    "  #Y = final_train[['label']]\n",
    "  #n = len(final_train)    \n",
    "  VALIDATION_ACCURACY = []\n",
    "  VALIDATION_LOSS = []\n",
    "\n",
    "  #create a directory\n",
    "  save_dir = KAGGLE_OUT+'/datasets/01_MRI/Saved_CNN_Models/Testing/'+model_method.__name__+'/AugTest'+'/'+str(epoch)+'epochs/'\n",
    "  img_dir = ROOT_DIR\n",
    "\n",
    "  fold_var = 1\n",
    "\n",
    "  #n is number of samples, doesn't care about x values for split, just y\n",
    "  for train_index, val_index in skf.split(np.zeros(n),Y):\n",
    "\n",
    "    #Index value for fold\n",
    "    training_data = train_data.iloc[train_index]\n",
    "    validation_data = train_data.iloc[val_index]\n",
    "    #generator for train\n",
    "    #print(\"hi\")\n",
    "    #Modify the training size, have an input adjustability \n",
    "    train_data_generator = idg.flow_from_dataframe(training_data, directory = img_dir,\n",
    "                      target_size=image_size, batch_size=32,\n",
    "                    x_col = \"filename\", y_col = \"label\",\n",
    "                    class_mode = \"binary\", shuffle = True)\n",
    "    #print(\"hi\")\n",
    "    #generator for validation\n",
    "    valid_data_generator  = idg.flow_from_dataframe(validation_data, directory = img_dir,\n",
    "                target_size=image_size, batch_size=32,\n",
    "                x_col = \"filename\", y_col = \"label\",\n",
    "                class_mode = \"binary\", shuffle = True)\n",
    "    #print(\"hi\")\n",
    "    #create a method for this\n",
    "    # CREATE NEW MODEL\n",
    "    model = model_method()\n",
    "    # COMPILE NEW MODEL\n",
    "    #Binary cross entropy, opt will be adam, metric will be binary accuracy?\n",
    "    model.compile(loss=tf.keras.losses.BinaryCrossentropy(),\n",
    "            optimizer= tf.keras.optimizers.Adam(learning_rate = 0.0001),\n",
    "            metrics=['binary_accuracy'])\n",
    "    \n",
    "    # CREATE CALLBACKS\n",
    "    #Unsure about checpoint\n",
    "    checkpoint = tf.keras.callbacks.ModelCheckpoint(save_dir+model_method.__name__+\"_\"+get_model_name(fold_var), \n",
    "                monitor='val_binary_accuracy', verbose=1, \n",
    "                save_best_only=True, mode='max')\n",
    "  \n",
    "    callbacks_list = [checkpoint]\n",
    "    # There can be other callbacks, but just showing one because it involves the model name\n",
    "    # This saves the best model\n",
    "    # FIT THE MODEL\n",
    "    #Include the weights for classes\n",
    "    history = model.fit(train_data_generator,\n",
    "            epochs=epoch,\n",
    "            callbacks=callbacks_list,\n",
    "            validation_data=valid_data_generator,\n",
    "                       class_weight = class_weights)\n",
    "  \n",
    "    #PLOT HISTORY\n",
    "    #Plots for whichever\n",
    "    #\t\t:\n",
    "    #plt.plot(history.history['binary_accuracy'], label='accuracy')\n",
    "    #plt.plot(history.history['val_binary_accuracy'], label = 'val_accuracy')\n",
    "    #plt.xlabel('Epoch')\n",
    "    #plt.ylabel('Accuracy')\n",
    "    #plt.ylim([0.3, 1])\n",
    "    #plt.legend(loc='lower right')\n",
    "    #plt.show()\n",
    "    #frame = {'Accuracy': history.history['binary_accuracy'], 'Val_Accuracy': history.history['val_binary_accuracy']}\n",
    "    #fig = px.line(frame)\n",
    "    #fig.show()\n",
    "    fig = go.Figure()\n",
    "    fig.add_trace(go.Scatter(y= history.history['binary_accuracy'],\n",
    "                      mode='lines+markers',\n",
    "                      name='Training Accuracy'))\n",
    "    fig.add_trace(go.Scatter(y= history.history['val_binary_accuracy'],\n",
    "                      mode='lines+markers',\n",
    "                      name='Validation Accuracy'))\n",
    "    fig.update_yaxes(range=[0.40, 1])\n",
    "    fig.update_layout(\n",
    "      title=\"Fold \"+ str(fold_var)+ \"'s performance\",\n",
    "      title_x=0.5,\n",
    "      xaxis_title=\"Epochs\",\n",
    "      yaxis_title=\"Accuracy\",\n",
    "      autosize=False,\n",
    "      width=800,\n",
    "      height=400,\n",
    "      margin=dict(l=20, r=20, t=40, b=20),)\n",
    "    fig.show()\n",
    "    #\t\t:\n",
    "    # LOAD BEST MODEL to evaluate the performance of the model\n",
    "    model.load_weights(save_dir+model_method.__name__+\"_\" + \"model_\"+str(fold_var)+\".h5\")\n",
    "    \n",
    "    results = model.evaluate(test_set)\n",
    "    \n",
    "    results = dict(zip(model.metrics_names,results))\n",
    "    \n",
    "    VALIDATION_ACCURACY.append(results['binary_accuracy'])\n",
    "    VALIDATION_LOSS.append(results['loss'])\n",
    "    \n",
    "    tf.keras.backend.clear_session()\n",
    "    \n",
    "    fold_var += 1"
   ]
  },
  {
   "cell_type": "code",
   "execution_count": 22,
   "id": "4423a282",
   "metadata": {
    "execution": {
     "iopub.execute_input": "2022-05-10T17:18:10.507601Z",
     "iopub.status.busy": "2022-05-10T17:18:10.507379Z",
     "iopub.status.idle": "2022-05-10T17:18:10.510704Z",
     "shell.execute_reply": "2022-05-10T17:18:10.510005Z"
    },
    "papermill": {
     "duration": 0.037741,
     "end_time": "2022-05-10T17:18:10.512351",
     "exception": false,
     "start_time": "2022-05-10T17:18:10.474610",
     "status": "completed"
    },
    "tags": []
   },
   "outputs": [],
   "source": [
    "#model_test(5, 30, create_model_V1, (256,256))"
   ]
  },
  {
   "cell_type": "code",
   "execution_count": 23,
   "id": "9e15023b",
   "metadata": {
    "execution": {
     "iopub.execute_input": "2022-05-10T17:18:10.577206Z",
     "iopub.status.busy": "2022-05-10T17:18:10.576629Z",
     "iopub.status.idle": "2022-05-10T17:18:10.579740Z",
     "shell.execute_reply": "2022-05-10T17:18:10.579106Z"
    },
    "papermill": {
     "duration": 0.037284,
     "end_time": "2022-05-10T17:18:10.581379",
     "exception": false,
     "start_time": "2022-05-10T17:18:10.544095",
     "status": "completed"
    },
    "tags": []
   },
   "outputs": [],
   "source": [
    "#model_test(5, 30, create_model_V1_02, (256,256))"
   ]
  },
  {
   "cell_type": "code",
   "execution_count": 24,
   "id": "c737fc86",
   "metadata": {
    "execution": {
     "iopub.execute_input": "2022-05-10T17:18:10.646625Z",
     "iopub.status.busy": "2022-05-10T17:18:10.646414Z",
     "iopub.status.idle": "2022-05-10T17:18:10.649476Z",
     "shell.execute_reply": "2022-05-10T17:18:10.648787Z"
    },
    "papermill": {
     "duration": 0.037879,
     "end_time": "2022-05-10T17:18:10.651141",
     "exception": false,
     "start_time": "2022-05-10T17:18:10.613262",
     "status": "completed"
    },
    "tags": []
   },
   "outputs": [],
   "source": [
    "#model_test(5, 30, create_model_V1_04, (256,256))"
   ]
  },
  {
   "cell_type": "code",
   "execution_count": 25,
   "id": "55c7ca20",
   "metadata": {
    "execution": {
     "iopub.execute_input": "2022-05-10T17:18:10.718787Z",
     "iopub.status.busy": "2022-05-10T17:18:10.718020Z",
     "iopub.status.idle": "2022-05-10T17:18:10.721829Z",
     "shell.execute_reply": "2022-05-10T17:18:10.721187Z"
    },
    "papermill": {
     "duration": 0.039928,
     "end_time": "2022-05-10T17:18:10.723508",
     "exception": false,
     "start_time": "2022-05-10T17:18:10.683580",
     "status": "completed"
    },
    "tags": []
   },
   "outputs": [],
   "source": [
    "#model_test(5, 30, create_model_V2, (256,256))"
   ]
  },
  {
   "cell_type": "code",
   "execution_count": 26,
   "id": "6807c5d7",
   "metadata": {
    "execution": {
     "iopub.execute_input": "2022-05-10T17:18:10.791375Z",
     "iopub.status.busy": "2022-05-10T17:18:10.790706Z",
     "iopub.status.idle": "2022-05-10T17:18:10.794248Z",
     "shell.execute_reply": "2022-05-10T17:18:10.793515Z"
    },
    "papermill": {
     "duration": 0.039492,
     "end_time": "2022-05-10T17:18:10.795912",
     "exception": false,
     "start_time": "2022-05-10T17:18:10.756420",
     "status": "completed"
    },
    "tags": []
   },
   "outputs": [],
   "source": [
    "#model_test(5, 30, create_model_V2_02, (256,256))"
   ]
  },
  {
   "cell_type": "code",
   "execution_count": 27,
   "id": "f8995bd9",
   "metadata": {
    "execution": {
     "iopub.execute_input": "2022-05-10T17:18:10.864676Z",
     "iopub.status.busy": "2022-05-10T17:18:10.863917Z",
     "iopub.status.idle": "2022-05-10T17:18:10.867507Z",
     "shell.execute_reply": "2022-05-10T17:18:10.866846Z"
    },
    "papermill": {
     "duration": 0.040166,
     "end_time": "2022-05-10T17:18:10.869130",
     "exception": false,
     "start_time": "2022-05-10T17:18:10.828964",
     "status": "completed"
    },
    "tags": []
   },
   "outputs": [],
   "source": [
    "#model_test(5, 30, create_model_V2_04, (256,256))"
   ]
  },
  {
   "cell_type": "code",
   "execution_count": 28,
   "id": "c62b5689",
   "metadata": {
    "execution": {
     "iopub.execute_input": "2022-05-10T17:18:10.936936Z",
     "iopub.status.busy": "2022-05-10T17:18:10.936238Z",
     "iopub.status.idle": "2022-05-10T17:18:10.940270Z",
     "shell.execute_reply": "2022-05-10T17:18:10.939556Z"
    },
    "papermill": {
     "duration": 0.04001,
     "end_time": "2022-05-10T17:18:10.942085",
     "exception": false,
     "start_time": "2022-05-10T17:18:10.902075",
     "status": "completed"
    },
    "tags": []
   },
   "outputs": [],
   "source": [
    "#model_test(5, 30, create_model_V3, (256,256))"
   ]
  },
  {
   "cell_type": "code",
   "execution_count": 29,
   "id": "b0582df9",
   "metadata": {
    "execution": {
     "iopub.execute_input": "2022-05-10T17:18:11.009902Z",
     "iopub.status.busy": "2022-05-10T17:18:11.009644Z",
     "iopub.status.idle": "2022-05-10T17:18:11.013060Z",
     "shell.execute_reply": "2022-05-10T17:18:11.012287Z"
    },
    "papermill": {
     "duration": 0.039622,
     "end_time": "2022-05-10T17:18:11.014986",
     "exception": false,
     "start_time": "2022-05-10T17:18:10.975364",
     "status": "completed"
    },
    "tags": []
   },
   "outputs": [],
   "source": [
    "#model_test(5, 30, create_model_V3_02, (256,256))"
   ]
  },
  {
   "cell_type": "code",
   "execution_count": 30,
   "id": "f14b12c0",
   "metadata": {
    "execution": {
     "iopub.execute_input": "2022-05-10T17:18:11.088960Z",
     "iopub.status.busy": "2022-05-10T17:18:11.088694Z",
     "iopub.status.idle": "2022-05-10T17:18:11.092953Z",
     "shell.execute_reply": "2022-05-10T17:18:11.092143Z"
    },
    "papermill": {
     "duration": 0.043396,
     "end_time": "2022-05-10T17:18:11.095066",
     "exception": false,
     "start_time": "2022-05-10T17:18:11.051670",
     "status": "completed"
    },
    "tags": []
   },
   "outputs": [],
   "source": [
    "#model_test(5, 30, create_model_V3_04, (256,256))"
   ]
  },
  {
   "cell_type": "code",
   "execution_count": 31,
   "id": "7bae59e0",
   "metadata": {
    "execution": {
     "iopub.execute_input": "2022-05-10T17:18:11.165458Z",
     "iopub.status.busy": "2022-05-10T17:18:11.165233Z",
     "iopub.status.idle": "2022-05-10T17:18:11.168348Z",
     "shell.execute_reply": "2022-05-10T17:18:11.167700Z"
    },
    "papermill": {
     "duration": 0.040503,
     "end_time": "2022-05-10T17:18:11.170082",
     "exception": false,
     "start_time": "2022-05-10T17:18:11.129579",
     "status": "completed"
    },
    "tags": []
   },
   "outputs": [],
   "source": [
    "#model_test(5, 30, create_model_V4, (256,256))"
   ]
  },
  {
   "cell_type": "code",
   "execution_count": 32,
   "id": "74d3493d",
   "metadata": {
    "execution": {
     "iopub.execute_input": "2022-05-10T17:18:11.243468Z",
     "iopub.status.busy": "2022-05-10T17:18:11.243234Z",
     "iopub.status.idle": "2022-05-10T17:18:11.247633Z",
     "shell.execute_reply": "2022-05-10T17:18:11.247018Z"
    },
    "papermill": {
     "duration": 0.043577,
     "end_time": "2022-05-10T17:18:11.249327",
     "exception": false,
     "start_time": "2022-05-10T17:18:11.205750",
     "status": "completed"
    },
    "tags": []
   },
   "outputs": [],
   "source": [
    "#model_test(5, 30, create_model_V4_02, (256,256))"
   ]
  },
  {
   "cell_type": "code",
   "execution_count": 33,
   "id": "4b64d2ed",
   "metadata": {
    "execution": {
     "iopub.execute_input": "2022-05-10T17:18:11.318710Z",
     "iopub.status.busy": "2022-05-10T17:18:11.318503Z",
     "iopub.status.idle": "2022-05-10T17:18:11.321603Z",
     "shell.execute_reply": "2022-05-10T17:18:11.320924Z"
    },
    "papermill": {
     "duration": 0.039857,
     "end_time": "2022-05-10T17:18:11.323357",
     "exception": false,
     "start_time": "2022-05-10T17:18:11.283500",
     "status": "completed"
    },
    "tags": []
   },
   "outputs": [],
   "source": [
    "#model_test(5, 30, create_model_V4_04, (256,256))"
   ]
  },
  {
   "cell_type": "code",
   "execution_count": 34,
   "id": "4595a41d",
   "metadata": {
    "execution": {
     "iopub.execute_input": "2022-05-10T17:18:11.394633Z",
     "iopub.status.busy": "2022-05-10T17:18:11.394345Z",
     "iopub.status.idle": "2022-05-10T17:18:11.401944Z",
     "shell.execute_reply": "2022-05-10T17:18:11.401230Z"
    },
    "papermill": {
     "duration": 0.04587,
     "end_time": "2022-05-10T17:18:11.403729",
     "exception": false,
     "start_time": "2022-05-10T17:18:11.357859",
     "status": "completed"
    },
    "tags": []
   },
   "outputs": [],
   "source": [
    "def transfer_learning_model_dense169_2():\n",
    "\n",
    "  IMG_SHAPE = (256,256,3,)\n",
    " \n",
    "  inputs = tf.keras.Input(shape=IMG_SHAPE)\n",
    "  x = tf.keras.applications.densenet.preprocess_input(inputs)\n",
    "  base_model = tf.keras.applications.densenet.DenseNet169(input_shape=IMG_SHAPE,\n",
    "                                               include_top=False,\n",
    "                                               weights='imagenet')\n",
    "  #print(len(base_model.layers))\n",
    "  base_model.trainable = True\n",
    "\n",
    "  fine_tune_at = 350\n",
    "  for layer in base_model.layers[:fine_tune_at]:\n",
    "    layer.trainable = False\n",
    "\n",
    "  x = base_model(x)\n",
    "  global_average_layer = tf.keras.layers.GlobalAveragePooling2D()\n",
    "  x = global_average_layer(x)\n",
    "  x = tf.keras.layers.Dropout(0.2)(x)\n",
    "  prediction_layer = tf.keras.layers.Dense(1)\n",
    "  outputs = prediction_layer(x)\n",
    "  model = tf.keras.Model(inputs, outputs)\n",
    "  #print(len(model.trainable_variables))\n",
    "  return model"
   ]
  },
  {
   "cell_type": "code",
   "execution_count": 35,
   "id": "8a798108",
   "metadata": {
    "execution": {
     "iopub.execute_input": "2022-05-10T17:18:11.473796Z",
     "iopub.status.busy": "2022-05-10T17:18:11.473549Z",
     "iopub.status.idle": "2022-05-10T17:25:49.669400Z",
     "shell.execute_reply": "2022-05-10T17:25:49.668603Z"
    },
    "papermill": {
     "duration": 458.233843,
     "end_time": "2022-05-10T17:25:49.672181",
     "exception": false,
     "start_time": "2022-05-10T17:18:11.438338",
     "status": "completed"
    },
    "tags": []
   },
   "outputs": [
    {
     "name": "stdout",
     "output_type": "stream",
     "text": [
      "Found 223 validated image filenames belonging to 2 classes.\n",
      "Found 56 validated image filenames belonging to 2 classes.\n"
     ]
    },
    {
     "name": "stderr",
     "output_type": "stream",
     "text": [
      "2022-05-10 17:18:16.457186: I tensorflow/compiler/mlir/mlir_graph_optimization_pass.cc:185] None of the MLIR Optimization Passes are enabled (registered 2)\n"
     ]
    },
    {
     "name": "stdout",
     "output_type": "stream",
     "text": [
      "Epoch 1/30\n"
     ]
    },
    {
     "name": "stderr",
     "output_type": "stream",
     "text": [
      "2022-05-10 17:18:27.736748: I tensorflow/stream_executor/cuda/cuda_dnn.cc:369] Loaded cuDNN version 8005\n"
     ]
    },
    {
     "name": "stdout",
     "output_type": "stream",
     "text": [
      "7/7 [==============================] - 23s 884ms/step - loss: 4.5218 - binary_accuracy: 0.5561 - val_loss: 7.7946 - val_binary_accuracy: 0.4464\n",
      "\n",
      "Epoch 00001: val_binary_accuracy improved from -inf to 0.44643, saving model to /kaggle/working/datasets/01_MRI/Saved_CNN_Models/Testing/transfer_learning_model_dense169_2/AugTest/30epochs/transfer_learning_model_dense169_2_model_1.h5\n",
      "Epoch 2/30\n",
      "7/7 [==============================] - 2s 243ms/step - loss: 2.2112 - binary_accuracy: 0.7848 - val_loss: 7.7419 - val_binary_accuracy: 0.4821\n",
      "\n",
      "Epoch 00002: val_binary_accuracy improved from 0.44643 to 0.48214, saving model to /kaggle/working/datasets/01_MRI/Saved_CNN_Models/Testing/transfer_learning_model_dense169_2/AugTest/30epochs/transfer_learning_model_dense169_2_model_1.h5\n",
      "Epoch 3/30\n",
      "7/7 [==============================] - 1s 176ms/step - loss: 1.1201 - binary_accuracy: 0.8744 - val_loss: 7.5630 - val_binary_accuracy: 0.4821\n",
      "\n",
      "Epoch 00003: val_binary_accuracy did not improve from 0.48214\n",
      "Epoch 4/30\n",
      "7/7 [==============================] - 1s 180ms/step - loss: 0.9482 - binary_accuracy: 0.9058 - val_loss: 7.4569 - val_binary_accuracy: 0.5000\n",
      "\n",
      "Epoch 00004: val_binary_accuracy improved from 0.48214 to 0.50000, saving model to /kaggle/working/datasets/01_MRI/Saved_CNN_Models/Testing/transfer_learning_model_dense169_2/AugTest/30epochs/transfer_learning_model_dense169_2_model_1.h5\n",
      "Epoch 5/30\n",
      "7/7 [==============================] - 1s 179ms/step - loss: 0.7069 - binary_accuracy: 0.9148 - val_loss: 7.2658 - val_binary_accuracy: 0.5000\n",
      "\n",
      "Epoch 00005: val_binary_accuracy did not improve from 0.50000\n",
      "Epoch 6/30\n",
      "7/7 [==============================] - 1s 208ms/step - loss: 0.3754 - binary_accuracy: 0.9731 - val_loss: 6.7284 - val_binary_accuracy: 0.5000\n",
      "\n",
      "Epoch 00006: val_binary_accuracy did not improve from 0.50000\n",
      "Epoch 7/30\n",
      "7/7 [==============================] - 1s 186ms/step - loss: 0.3377 - binary_accuracy: 0.9596 - val_loss: 6.6798 - val_binary_accuracy: 0.5357\n",
      "\n",
      "Epoch 00007: val_binary_accuracy improved from 0.50000 to 0.53571, saving model to /kaggle/working/datasets/01_MRI/Saved_CNN_Models/Testing/transfer_learning_model_dense169_2/AugTest/30epochs/transfer_learning_model_dense169_2_model_1.h5\n",
      "Epoch 8/30\n",
      "7/7 [==============================] - 1s 177ms/step - loss: 0.1813 - binary_accuracy: 0.9865 - val_loss: 5.8973 - val_binary_accuracy: 0.5536\n",
      "\n",
      "Epoch 00008: val_binary_accuracy improved from 0.53571 to 0.55357, saving model to /kaggle/working/datasets/01_MRI/Saved_CNN_Models/Testing/transfer_learning_model_dense169_2/AugTest/30epochs/transfer_learning_model_dense169_2_model_1.h5\n",
      "Epoch 9/30\n",
      "7/7 [==============================] - 1s 173ms/step - loss: 0.4026 - binary_accuracy: 0.9596 - val_loss: 5.3819 - val_binary_accuracy: 0.6250\n",
      "\n",
      "Epoch 00009: val_binary_accuracy improved from 0.55357 to 0.62500, saving model to /kaggle/working/datasets/01_MRI/Saved_CNN_Models/Testing/transfer_learning_model_dense169_2/AugTest/30epochs/transfer_learning_model_dense169_2_model_1.h5\n",
      "Epoch 10/30\n",
      "7/7 [==============================] - 1s 171ms/step - loss: 0.1286 - binary_accuracy: 0.9865 - val_loss: 4.8036 - val_binary_accuracy: 0.6429\n",
      "\n",
      "Epoch 00010: val_binary_accuracy improved from 0.62500 to 0.64286, saving model to /kaggle/working/datasets/01_MRI/Saved_CNN_Models/Testing/transfer_learning_model_dense169_2/AugTest/30epochs/transfer_learning_model_dense169_2_model_1.h5\n",
      "Epoch 11/30\n",
      "7/7 [==============================] - 1s 177ms/step - loss: 0.1352 - binary_accuracy: 0.9865 - val_loss: 4.0122 - val_binary_accuracy: 0.6964\n",
      "\n",
      "Epoch 00011: val_binary_accuracy improved from 0.64286 to 0.69643, saving model to /kaggle/working/datasets/01_MRI/Saved_CNN_Models/Testing/transfer_learning_model_dense169_2/AugTest/30epochs/transfer_learning_model_dense169_2_model_1.h5\n",
      "Epoch 12/30\n",
      "7/7 [==============================] - 1s 180ms/step - loss: 0.0649 - binary_accuracy: 0.9910 - val_loss: 2.9430 - val_binary_accuracy: 0.7143\n",
      "\n",
      "Epoch 00012: val_binary_accuracy improved from 0.69643 to 0.71429, saving model to /kaggle/working/datasets/01_MRI/Saved_CNN_Models/Testing/transfer_learning_model_dense169_2/AugTest/30epochs/transfer_learning_model_dense169_2_model_1.h5\n",
      "Epoch 13/30\n",
      "7/7 [==============================] - 1s 175ms/step - loss: 0.1211 - binary_accuracy: 0.9910 - val_loss: 2.0758 - val_binary_accuracy: 0.7857\n",
      "\n",
      "Epoch 00013: val_binary_accuracy improved from 0.71429 to 0.78571, saving model to /kaggle/working/datasets/01_MRI/Saved_CNN_Models/Testing/transfer_learning_model_dense169_2/AugTest/30epochs/transfer_learning_model_dense169_2_model_1.h5\n",
      "Epoch 14/30\n",
      "7/7 [==============================] - 2s 311ms/step - loss: 0.0625 - binary_accuracy: 0.9955 - val_loss: 2.0123 - val_binary_accuracy: 0.8393\n",
      "\n",
      "Epoch 00014: val_binary_accuracy improved from 0.78571 to 0.83929, saving model to /kaggle/working/datasets/01_MRI/Saved_CNN_Models/Testing/transfer_learning_model_dense169_2/AugTest/30epochs/transfer_learning_model_dense169_2_model_1.h5\n",
      "Epoch 15/30\n",
      "7/7 [==============================] - 1s 177ms/step - loss: 0.0608 - binary_accuracy: 0.9955 - val_loss: 1.9807 - val_binary_accuracy: 0.8571\n",
      "\n",
      "Epoch 00015: val_binary_accuracy improved from 0.83929 to 0.85714, saving model to /kaggle/working/datasets/01_MRI/Saved_CNN_Models/Testing/transfer_learning_model_dense169_2/AugTest/30epochs/transfer_learning_model_dense169_2_model_1.h5\n",
      "Epoch 16/30\n",
      "7/7 [==============================] - 1s 178ms/step - loss: 0.0621 - binary_accuracy: 0.9955 - val_loss: 1.9688 - val_binary_accuracy: 0.8571\n",
      "\n",
      "Epoch 00016: val_binary_accuracy did not improve from 0.85714\n",
      "Epoch 17/30\n",
      "7/7 [==============================] - 1s 192ms/step - loss: 0.0601 - binary_accuracy: 0.9955 - val_loss: 1.9643 - val_binary_accuracy: 0.8571\n",
      "\n",
      "Epoch 00017: val_binary_accuracy did not improve from 0.85714\n",
      "Epoch 18/30\n",
      "7/7 [==============================] - 1s 172ms/step - loss: 0.0612 - binary_accuracy: 0.9955 - val_loss: 1.9656 - val_binary_accuracy: 0.8571\n",
      "\n",
      "Epoch 00018: val_binary_accuracy did not improve from 0.85714\n",
      "Epoch 19/30\n",
      "7/7 [==============================] - 1s 174ms/step - loss: 0.0714 - binary_accuracy: 0.9910 - val_loss: 1.7553 - val_binary_accuracy: 0.8571\n",
      "\n",
      "Epoch 00019: val_binary_accuracy did not improve from 0.85714\n",
      "Epoch 20/30\n",
      "7/7 [==============================] - 1s 176ms/step - loss: 0.0710 - binary_accuracy: 0.9865 - val_loss: 1.4524 - val_binary_accuracy: 0.8571\n",
      "\n",
      "Epoch 00020: val_binary_accuracy did not improve from 0.85714\n",
      "Epoch 21/30\n",
      "7/7 [==============================] - 1s 176ms/step - loss: 0.0605 - binary_accuracy: 0.9955 - val_loss: 1.4182 - val_binary_accuracy: 0.8929\n",
      "\n",
      "Epoch 00021: val_binary_accuracy improved from 0.85714 to 0.89286, saving model to /kaggle/working/datasets/01_MRI/Saved_CNN_Models/Testing/transfer_learning_model_dense169_2/AugTest/30epochs/transfer_learning_model_dense169_2_model_1.h5\n",
      "Epoch 22/30\n",
      "7/7 [==============================] - 1s 176ms/step - loss: 0.0838 - binary_accuracy: 0.9821 - val_loss: 1.3966 - val_binary_accuracy: 0.8929\n",
      "\n",
      "Epoch 00022: val_binary_accuracy did not improve from 0.89286\n",
      "Epoch 23/30\n",
      "7/7 [==============================] - 1s 173ms/step - loss: 0.2028 - binary_accuracy: 0.9865 - val_loss: 1.1362 - val_binary_accuracy: 0.8929\n",
      "\n",
      "Epoch 00023: val_binary_accuracy did not improve from 0.89286\n",
      "Epoch 24/30\n",
      "7/7 [==============================] - 1s 184ms/step - loss: 0.1673 - binary_accuracy: 0.9865 - val_loss: 0.8856 - val_binary_accuracy: 0.9286\n",
      "\n",
      "Epoch 00024: val_binary_accuracy improved from 0.89286 to 0.92857, saving model to /kaggle/working/datasets/01_MRI/Saved_CNN_Models/Testing/transfer_learning_model_dense169_2/AugTest/30epochs/transfer_learning_model_dense169_2_model_1.h5\n",
      "Epoch 25/30\n",
      "7/7 [==============================] - 1s 175ms/step - loss: 0.1472 - binary_accuracy: 0.9865 - val_loss: 1.0965 - val_binary_accuracy: 0.9286\n",
      "\n",
      "Epoch 00025: val_binary_accuracy did not improve from 0.92857\n",
      "Epoch 26/30\n",
      "7/7 [==============================] - 1s 186ms/step - loss: 0.3128 - binary_accuracy: 0.9686 - val_loss: 1.9093 - val_binary_accuracy: 0.8750\n",
      "\n",
      "Epoch 00026: val_binary_accuracy did not improve from 0.92857\n",
      "Epoch 27/30\n",
      "7/7 [==============================] - 2s 204ms/step - loss: 1.0384 - binary_accuracy: 0.9103 - val_loss: 1.9380 - val_binary_accuracy: 0.8571\n",
      "\n",
      "Epoch 00027: val_binary_accuracy did not improve from 0.92857\n",
      "Epoch 28/30\n",
      "7/7 [==============================] - 1s 177ms/step - loss: 0.6460 - binary_accuracy: 0.9372 - val_loss: 1.9625 - val_binary_accuracy: 0.8393\n",
      "\n",
      "Epoch 00028: val_binary_accuracy did not improve from 0.92857\n",
      "Epoch 29/30\n",
      "7/7 [==============================] - 1s 173ms/step - loss: 0.6413 - binary_accuracy: 0.9327 - val_loss: 1.4655 - val_binary_accuracy: 0.8750\n",
      "\n",
      "Epoch 00029: val_binary_accuracy did not improve from 0.92857\n",
      "Epoch 30/30\n",
      "7/7 [==============================] - 1s 173ms/step - loss: 0.4542 - binary_accuracy: 0.9596 - val_loss: 0.9086 - val_binary_accuracy: 0.9107\n",
      "\n",
      "Epoch 00030: val_binary_accuracy did not improve from 0.92857\n"
     ]
    },
    {
     "data": {
      "text/html": [
       "        <script type=\"text/javascript\">\n",
       "        window.PlotlyConfig = {MathJaxConfig: 'local'};\n",
       "        if (window.MathJax) {MathJax.Hub.Config({SVG: {font: \"STIX-Web\"}});}\n",
       "        if (typeof require !== 'undefined') {\n",
       "        require.undef(\"plotly\");\n",
       "        requirejs.config({\n",
       "            paths: {\n",
       "                'plotly': ['https://cdn.plot.ly/plotly-2.11.1.min']\n",
       "            }\n",
       "        });\n",
       "        require(['plotly'], function(Plotly) {\n",
       "            window._Plotly = Plotly;\n",
       "        });\n",
       "        }\n",
       "        </script>\n",
       "        "
      ]
     },
     "metadata": {},
     "output_type": "display_data"
    },
    {
     "data": {
      "text/html": [
       "<div>                            <div id=\"6381028f-6a9f-4465-860c-f95f1a4e12ce\" class=\"plotly-graph-div\" style=\"height:400px; width:800px;\"></div>            <script type=\"text/javascript\">                require([\"plotly\"], function(Plotly) {                    window.PLOTLYENV=window.PLOTLYENV || {};                                    if (document.getElementById(\"6381028f-6a9f-4465-860c-f95f1a4e12ce\")) {                    Plotly.newPlot(                        \"6381028f-6a9f-4465-860c-f95f1a4e12ce\",                        [{\"mode\":\"lines+markers\",\"name\":\"Training Accuracy\",\"y\":[0.5560538172721863,0.7847533822059631,0.8744394779205322,0.9058296084403992,0.9147982001304626,0.9730941653251648,0.9596412777900696,0.9865471124649048,0.9596412777900696,0.9865471124649048,0.9865471124649048,0.9910314083099365,0.9910314083099365,0.9955157041549683,0.9955157041549683,0.9955157041549683,0.9955157041549683,0.9955157041549683,0.9910314083099365,0.9865471124649048,0.9955157041549683,0.9820627570152283,0.9865471124649048,0.9865471124649048,0.9865471124649048,0.9686098694801331,0.9103139042854309,0.9372197389602661,0.9327354431152344,0.9596412777900696],\"type\":\"scatter\"},{\"mode\":\"lines+markers\",\"name\":\"Validation Accuracy\",\"y\":[0.4464285671710968,0.4821428656578064,0.4821428656578064,0.5,0.5,0.5,0.5357142686843872,0.5535714030265808,0.625,0.6428571343421936,0.6964285969734192,0.7142857313156128,0.7857142686843872,0.8392857313156128,0.8571428656578064,0.8571428656578064,0.8571428656578064,0.8571428656578064,0.8571428656578064,0.8571428656578064,0.8928571343421936,0.8928571343421936,0.8928571343421936,0.9285714030265808,0.9285714030265808,0.875,0.8571428656578064,0.8392857313156128,0.875,0.9107142686843872],\"type\":\"scatter\"}],                        {\"template\":{\"data\":{\"histogram2dcontour\":[{\"type\":\"histogram2dcontour\",\"colorbar\":{\"outlinewidth\":0,\"ticks\":\"\"},\"colorscale\":[[0.0,\"#0d0887\"],[0.1111111111111111,\"#46039f\"],[0.2222222222222222,\"#7201a8\"],[0.3333333333333333,\"#9c179e\"],[0.4444444444444444,\"#bd3786\"],[0.5555555555555556,\"#d8576b\"],[0.6666666666666666,\"#ed7953\"],[0.7777777777777778,\"#fb9f3a\"],[0.8888888888888888,\"#fdca26\"],[1.0,\"#f0f921\"]]}],\"choropleth\":[{\"type\":\"choropleth\",\"colorbar\":{\"outlinewidth\":0,\"ticks\":\"\"}}],\"histogram2d\":[{\"type\":\"histogram2d\",\"colorbar\":{\"outlinewidth\":0,\"ticks\":\"\"},\"colorscale\":[[0.0,\"#0d0887\"],[0.1111111111111111,\"#46039f\"],[0.2222222222222222,\"#7201a8\"],[0.3333333333333333,\"#9c179e\"],[0.4444444444444444,\"#bd3786\"],[0.5555555555555556,\"#d8576b\"],[0.6666666666666666,\"#ed7953\"],[0.7777777777777778,\"#fb9f3a\"],[0.8888888888888888,\"#fdca26\"],[1.0,\"#f0f921\"]]}],\"heatmap\":[{\"type\":\"heatmap\",\"colorbar\":{\"outlinewidth\":0,\"ticks\":\"\"},\"colorscale\":[[0.0,\"#0d0887\"],[0.1111111111111111,\"#46039f\"],[0.2222222222222222,\"#7201a8\"],[0.3333333333333333,\"#9c179e\"],[0.4444444444444444,\"#bd3786\"],[0.5555555555555556,\"#d8576b\"],[0.6666666666666666,\"#ed7953\"],[0.7777777777777778,\"#fb9f3a\"],[0.8888888888888888,\"#fdca26\"],[1.0,\"#f0f921\"]]}],\"heatmapgl\":[{\"type\":\"heatmapgl\",\"colorbar\":{\"outlinewidth\":0,\"ticks\":\"\"},\"colorscale\":[[0.0,\"#0d0887\"],[0.1111111111111111,\"#46039f\"],[0.2222222222222222,\"#7201a8\"],[0.3333333333333333,\"#9c179e\"],[0.4444444444444444,\"#bd3786\"],[0.5555555555555556,\"#d8576b\"],[0.6666666666666666,\"#ed7953\"],[0.7777777777777778,\"#fb9f3a\"],[0.8888888888888888,\"#fdca26\"],[1.0,\"#f0f921\"]]}],\"contourcarpet\":[{\"type\":\"contourcarpet\",\"colorbar\":{\"outlinewidth\":0,\"ticks\":\"\"}}],\"contour\":[{\"type\":\"contour\",\"colorbar\":{\"outlinewidth\":0,\"ticks\":\"\"},\"colorscale\":[[0.0,\"#0d0887\"],[0.1111111111111111,\"#46039f\"],[0.2222222222222222,\"#7201a8\"],[0.3333333333333333,\"#9c179e\"],[0.4444444444444444,\"#bd3786\"],[0.5555555555555556,\"#d8576b\"],[0.6666666666666666,\"#ed7953\"],[0.7777777777777778,\"#fb9f3a\"],[0.8888888888888888,\"#fdca26\"],[1.0,\"#f0f921\"]]}],\"surface\":[{\"type\":\"surface\",\"colorbar\":{\"outlinewidth\":0,\"ticks\":\"\"},\"colorscale\":[[0.0,\"#0d0887\"],[0.1111111111111111,\"#46039f\"],[0.2222222222222222,\"#7201a8\"],[0.3333333333333333,\"#9c179e\"],[0.4444444444444444,\"#bd3786\"],[0.5555555555555556,\"#d8576b\"],[0.6666666666666666,\"#ed7953\"],[0.7777777777777778,\"#fb9f3a\"],[0.8888888888888888,\"#fdca26\"],[1.0,\"#f0f921\"]]}],\"mesh3d\":[{\"type\":\"mesh3d\",\"colorbar\":{\"outlinewidth\":0,\"ticks\":\"\"}}],\"scatter\":[{\"fillpattern\":{\"fillmode\":\"overlay\",\"size\":10,\"solidity\":0.2},\"type\":\"scatter\"}],\"parcoords\":[{\"type\":\"parcoords\",\"line\":{\"colorbar\":{\"outlinewidth\":0,\"ticks\":\"\"}}}],\"scatterpolargl\":[{\"type\":\"scatterpolargl\",\"marker\":{\"colorbar\":{\"outlinewidth\":0,\"ticks\":\"\"}}}],\"bar\":[{\"error_x\":{\"color\":\"#2a3f5f\"},\"error_y\":{\"color\":\"#2a3f5f\"},\"marker\":{\"line\":{\"color\":\"#E5ECF6\",\"width\":0.5},\"pattern\":{\"fillmode\":\"overlay\",\"size\":10,\"solidity\":0.2}},\"type\":\"bar\"}],\"scattergeo\":[{\"type\":\"scattergeo\",\"marker\":{\"colorbar\":{\"outlinewidth\":0,\"ticks\":\"\"}}}],\"scatterpolar\":[{\"type\":\"scatterpolar\",\"marker\":{\"colorbar\":{\"outlinewidth\":0,\"ticks\":\"\"}}}],\"histogram\":[{\"marker\":{\"pattern\":{\"fillmode\":\"overlay\",\"size\":10,\"solidity\":0.2}},\"type\":\"histogram\"}],\"scattergl\":[{\"type\":\"scattergl\",\"marker\":{\"colorbar\":{\"outlinewidth\":0,\"ticks\":\"\"}}}],\"scatter3d\":[{\"type\":\"scatter3d\",\"line\":{\"colorbar\":{\"outlinewidth\":0,\"ticks\":\"\"}},\"marker\":{\"colorbar\":{\"outlinewidth\":0,\"ticks\":\"\"}}}],\"scattermapbox\":[{\"type\":\"scattermapbox\",\"marker\":{\"colorbar\":{\"outlinewidth\":0,\"ticks\":\"\"}}}],\"scatterternary\":[{\"type\":\"scatterternary\",\"marker\":{\"colorbar\":{\"outlinewidth\":0,\"ticks\":\"\"}}}],\"scattercarpet\":[{\"type\":\"scattercarpet\",\"marker\":{\"colorbar\":{\"outlinewidth\":0,\"ticks\":\"\"}}}],\"carpet\":[{\"aaxis\":{\"endlinecolor\":\"#2a3f5f\",\"gridcolor\":\"white\",\"linecolor\":\"white\",\"minorgridcolor\":\"white\",\"startlinecolor\":\"#2a3f5f\"},\"baxis\":{\"endlinecolor\":\"#2a3f5f\",\"gridcolor\":\"white\",\"linecolor\":\"white\",\"minorgridcolor\":\"white\",\"startlinecolor\":\"#2a3f5f\"},\"type\":\"carpet\"}],\"table\":[{\"cells\":{\"fill\":{\"color\":\"#EBF0F8\"},\"line\":{\"color\":\"white\"}},\"header\":{\"fill\":{\"color\":\"#C8D4E3\"},\"line\":{\"color\":\"white\"}},\"type\":\"table\"}],\"barpolar\":[{\"marker\":{\"line\":{\"color\":\"#E5ECF6\",\"width\":0.5},\"pattern\":{\"fillmode\":\"overlay\",\"size\":10,\"solidity\":0.2}},\"type\":\"barpolar\"}],\"pie\":[{\"automargin\":true,\"type\":\"pie\"}]},\"layout\":{\"autotypenumbers\":\"strict\",\"colorway\":[\"#636efa\",\"#EF553B\",\"#00cc96\",\"#ab63fa\",\"#FFA15A\",\"#19d3f3\",\"#FF6692\",\"#B6E880\",\"#FF97FF\",\"#FECB52\"],\"font\":{\"color\":\"#2a3f5f\"},\"hovermode\":\"closest\",\"hoverlabel\":{\"align\":\"left\"},\"paper_bgcolor\":\"white\",\"plot_bgcolor\":\"#E5ECF6\",\"polar\":{\"bgcolor\":\"#E5ECF6\",\"angularaxis\":{\"gridcolor\":\"white\",\"linecolor\":\"white\",\"ticks\":\"\"},\"radialaxis\":{\"gridcolor\":\"white\",\"linecolor\":\"white\",\"ticks\":\"\"}},\"ternary\":{\"bgcolor\":\"#E5ECF6\",\"aaxis\":{\"gridcolor\":\"white\",\"linecolor\":\"white\",\"ticks\":\"\"},\"baxis\":{\"gridcolor\":\"white\",\"linecolor\":\"white\",\"ticks\":\"\"},\"caxis\":{\"gridcolor\":\"white\",\"linecolor\":\"white\",\"ticks\":\"\"}},\"coloraxis\":{\"colorbar\":{\"outlinewidth\":0,\"ticks\":\"\"}},\"colorscale\":{\"sequential\":[[0.0,\"#0d0887\"],[0.1111111111111111,\"#46039f\"],[0.2222222222222222,\"#7201a8\"],[0.3333333333333333,\"#9c179e\"],[0.4444444444444444,\"#bd3786\"],[0.5555555555555556,\"#d8576b\"],[0.6666666666666666,\"#ed7953\"],[0.7777777777777778,\"#fb9f3a\"],[0.8888888888888888,\"#fdca26\"],[1.0,\"#f0f921\"]],\"sequentialminus\":[[0.0,\"#0d0887\"],[0.1111111111111111,\"#46039f\"],[0.2222222222222222,\"#7201a8\"],[0.3333333333333333,\"#9c179e\"],[0.4444444444444444,\"#bd3786\"],[0.5555555555555556,\"#d8576b\"],[0.6666666666666666,\"#ed7953\"],[0.7777777777777778,\"#fb9f3a\"],[0.8888888888888888,\"#fdca26\"],[1.0,\"#f0f921\"]],\"diverging\":[[0,\"#8e0152\"],[0.1,\"#c51b7d\"],[0.2,\"#de77ae\"],[0.3,\"#f1b6da\"],[0.4,\"#fde0ef\"],[0.5,\"#f7f7f7\"],[0.6,\"#e6f5d0\"],[0.7,\"#b8e186\"],[0.8,\"#7fbc41\"],[0.9,\"#4d9221\"],[1,\"#276419\"]]},\"xaxis\":{\"gridcolor\":\"white\",\"linecolor\":\"white\",\"ticks\":\"\",\"title\":{\"standoff\":15},\"zerolinecolor\":\"white\",\"automargin\":true,\"zerolinewidth\":2},\"yaxis\":{\"gridcolor\":\"white\",\"linecolor\":\"white\",\"ticks\":\"\",\"title\":{\"standoff\":15},\"zerolinecolor\":\"white\",\"automargin\":true,\"zerolinewidth\":2},\"scene\":{\"xaxis\":{\"backgroundcolor\":\"#E5ECF6\",\"gridcolor\":\"white\",\"linecolor\":\"white\",\"showbackground\":true,\"ticks\":\"\",\"zerolinecolor\":\"white\",\"gridwidth\":2},\"yaxis\":{\"backgroundcolor\":\"#E5ECF6\",\"gridcolor\":\"white\",\"linecolor\":\"white\",\"showbackground\":true,\"ticks\":\"\",\"zerolinecolor\":\"white\",\"gridwidth\":2},\"zaxis\":{\"backgroundcolor\":\"#E5ECF6\",\"gridcolor\":\"white\",\"linecolor\":\"white\",\"showbackground\":true,\"ticks\":\"\",\"zerolinecolor\":\"white\",\"gridwidth\":2}},\"shapedefaults\":{\"line\":{\"color\":\"#2a3f5f\"}},\"annotationdefaults\":{\"arrowcolor\":\"#2a3f5f\",\"arrowhead\":0,\"arrowwidth\":1},\"geo\":{\"bgcolor\":\"white\",\"landcolor\":\"#E5ECF6\",\"subunitcolor\":\"white\",\"showland\":true,\"showlakes\":true,\"lakecolor\":\"white\"},\"title\":{\"x\":0.05},\"mapbox\":{\"style\":\"light\"}}},\"yaxis\":{\"range\":[0.4,1],\"title\":{\"text\":\"Accuracy\"}},\"title\":{\"text\":\"Fold 1's performance\",\"x\":0.5},\"margin\":{\"l\":20,\"r\":20,\"t\":40,\"b\":20},\"xaxis\":{\"title\":{\"text\":\"Epochs\"}},\"autosize\":false,\"width\":800,\"height\":400},                        {\"responsive\": true}                    ).then(function(){\n",
       "                            \n",
       "var gd = document.getElementById('6381028f-6a9f-4465-860c-f95f1a4e12ce');\n",
       "var x = new MutationObserver(function (mutations, observer) {{\n",
       "        var display = window.getComputedStyle(gd).display;\n",
       "        if (!display || display === 'none') {{\n",
       "            console.log([gd, 'removed!']);\n",
       "            Plotly.purge(gd);\n",
       "            observer.disconnect();\n",
       "        }}\n",
       "}});\n",
       "\n",
       "// Listen for the removal of the full notebook cells\n",
       "var notebookContainer = gd.closest('#notebook-container');\n",
       "if (notebookContainer) {{\n",
       "    x.observe(notebookContainer, {childList: true});\n",
       "}}\n",
       "\n",
       "// Listen for the clearing of the current output cell\n",
       "var outputEl = gd.closest('.output');\n",
       "if (outputEl) {{\n",
       "    x.observe(outputEl, {childList: true});\n",
       "}}\n",
       "\n",
       "                        })                };                });            </script>        </div>"
      ]
     },
     "metadata": {},
     "output_type": "display_data"
    },
    {
     "name": "stdout",
     "output_type": "stream",
     "text": [
      "4/4 [==============================] - 1s 365ms/step - loss: 0.2519 - binary_accuracy: 0.9256\n",
      "Found 223 validated image filenames belonging to 2 classes.\n",
      "Found 56 validated image filenames belonging to 2 classes.\n",
      "Epoch 1/30\n",
      "7/7 [==============================] - 14s 652ms/step - loss: 4.3084 - binary_accuracy: 0.5650 - val_loss: 4.0080 - val_binary_accuracy: 0.6786\n",
      "\n",
      "Epoch 00001: val_binary_accuracy improved from -inf to 0.67857, saving model to /kaggle/working/datasets/01_MRI/Saved_CNN_Models/Testing/transfer_learning_model_dense169_2/AugTest/30epochs/transfer_learning_model_dense169_2_model_2.h5\n",
      "Epoch 2/30\n",
      "7/7 [==============================] - 1s 171ms/step - loss: 2.8224 - binary_accuracy: 0.7668 - val_loss: 6.7706 - val_binary_accuracy: 0.4821\n",
      "\n",
      "Epoch 00002: val_binary_accuracy did not improve from 0.67857\n",
      "Epoch 3/30\n",
      "7/7 [==============================] - 1s 178ms/step - loss: 2.3012 - binary_accuracy: 0.8206 - val_loss: 7.0348 - val_binary_accuracy: 0.4821\n",
      "\n",
      "Epoch 00003: val_binary_accuracy did not improve from 0.67857\n",
      "Epoch 4/30\n",
      "7/7 [==============================] - 1s 176ms/step - loss: 1.7998 - binary_accuracy: 0.8386 - val_loss: 6.7480 - val_binary_accuracy: 0.4821\n",
      "\n",
      "Epoch 00004: val_binary_accuracy did not improve from 0.67857\n",
      "Epoch 5/30\n",
      "7/7 [==============================] - 1s 175ms/step - loss: 1.6030 - binary_accuracy: 0.8744 - val_loss: 6.6663 - val_binary_accuracy: 0.5536\n",
      "\n",
      "Epoch 00005: val_binary_accuracy did not improve from 0.67857\n",
      "Epoch 6/30\n",
      "7/7 [==============================] - 1s 178ms/step - loss: 1.4282 - binary_accuracy: 0.8879 - val_loss: 6.9730 - val_binary_accuracy: 0.5000\n",
      "\n",
      "Epoch 00006: val_binary_accuracy did not improve from 0.67857\n",
      "Epoch 7/30\n",
      "7/7 [==============================] - 2s 210ms/step - loss: 1.2033 - binary_accuracy: 0.8969 - val_loss: 6.7152 - val_binary_accuracy: 0.5179\n",
      "\n",
      "Epoch 00007: val_binary_accuracy did not improve from 0.67857\n",
      "Epoch 8/30\n",
      "7/7 [==============================] - 1s 174ms/step - loss: 1.1660 - binary_accuracy: 0.9148 - val_loss: 6.4331 - val_binary_accuracy: 0.5357\n",
      "\n",
      "Epoch 00008: val_binary_accuracy did not improve from 0.67857\n",
      "Epoch 9/30\n",
      "7/7 [==============================] - 1s 174ms/step - loss: 0.8255 - binary_accuracy: 0.9148 - val_loss: 5.9382 - val_binary_accuracy: 0.5357\n",
      "\n",
      "Epoch 00009: val_binary_accuracy did not improve from 0.67857\n",
      "Epoch 10/30\n",
      "7/7 [==============================] - 1s 178ms/step - loss: 0.6389 - binary_accuracy: 0.9372 - val_loss: 7.0068 - val_binary_accuracy: 0.4643\n",
      "\n",
      "Epoch 00010: val_binary_accuracy did not improve from 0.67857\n",
      "Epoch 11/30\n",
      "7/7 [==============================] - 1s 176ms/step - loss: 0.3928 - binary_accuracy: 0.9686 - val_loss: 8.8143 - val_binary_accuracy: 0.4286\n",
      "\n",
      "Epoch 00011: val_binary_accuracy did not improve from 0.67857\n",
      "Epoch 12/30\n",
      "7/7 [==============================] - 2s 207ms/step - loss: 0.8325 - binary_accuracy: 0.9372 - val_loss: 8.8143 - val_binary_accuracy: 0.4286\n",
      "\n",
      "Epoch 00012: val_binary_accuracy did not improve from 0.67857\n",
      "Epoch 13/30\n",
      "7/7 [==============================] - 1s 179ms/step - loss: 1.1808 - binary_accuracy: 0.9103 - val_loss: 8.8143 - val_binary_accuracy: 0.4286\n",
      "\n",
      "Epoch 00013: val_binary_accuracy did not improve from 0.67857\n",
      "Epoch 14/30\n",
      "7/7 [==============================] - 1s 190ms/step - loss: 0.8376 - binary_accuracy: 0.9462 - val_loss: 8.8143 - val_binary_accuracy: 0.4286\n",
      "\n",
      "Epoch 00014: val_binary_accuracy did not improve from 0.67857\n",
      "Epoch 15/30\n",
      "7/7 [==============================] - 1s 186ms/step - loss: 0.6234 - binary_accuracy: 0.9507 - val_loss: 8.8143 - val_binary_accuracy: 0.4286\n",
      "\n",
      "Epoch 00015: val_binary_accuracy did not improve from 0.67857\n",
      "Epoch 16/30\n",
      "7/7 [==============================] - 1s 176ms/step - loss: 0.7699 - binary_accuracy: 0.9372 - val_loss: 8.8143 - val_binary_accuracy: 0.4286\n",
      "\n",
      "Epoch 00016: val_binary_accuracy did not improve from 0.67857\n",
      "Epoch 17/30\n",
      "7/7 [==============================] - 1s 180ms/step - loss: 0.5452 - binary_accuracy: 0.9552 - val_loss: 8.2924 - val_binary_accuracy: 0.4286\n",
      "\n",
      "Epoch 00017: val_binary_accuracy did not improve from 0.67857\n",
      "Epoch 18/30\n",
      "7/7 [==============================] - 1s 203ms/step - loss: 0.8299 - binary_accuracy: 0.9507 - val_loss: 7.2377 - val_binary_accuracy: 0.4643\n",
      "\n",
      "Epoch 00018: val_binary_accuracy did not improve from 0.67857\n",
      "Epoch 19/30\n",
      "7/7 [==============================] - 1s 179ms/step - loss: 0.7386 - binary_accuracy: 0.9462 - val_loss: 6.9390 - val_binary_accuracy: 0.5357\n",
      "\n",
      "Epoch 00019: val_binary_accuracy did not improve from 0.67857\n",
      "Epoch 20/30\n",
      "7/7 [==============================] - 1s 176ms/step - loss: 0.8090 - binary_accuracy: 0.9507 - val_loss: 6.1498 - val_binary_accuracy: 0.5536\n",
      "\n",
      "Epoch 00020: val_binary_accuracy did not improve from 0.67857\n",
      "Epoch 21/30\n",
      "7/7 [==============================] - 1s 173ms/step - loss: 0.5355 - binary_accuracy: 0.9641 - val_loss: 6.0888 - val_binary_accuracy: 0.5893\n",
      "\n",
      "Epoch 00021: val_binary_accuracy did not improve from 0.67857\n",
      "Epoch 22/30\n",
      "7/7 [==============================] - 1s 172ms/step - loss: 0.3973 - binary_accuracy: 0.9596 - val_loss: 5.8095 - val_binary_accuracy: 0.6071\n",
      "\n",
      "Epoch 00022: val_binary_accuracy did not improve from 0.67857\n",
      "Epoch 23/30\n",
      "7/7 [==============================] - 1s 177ms/step - loss: 0.3755 - binary_accuracy: 0.9552 - val_loss: 5.0300 - val_binary_accuracy: 0.6429\n",
      "\n",
      "Epoch 00023: val_binary_accuracy did not improve from 0.67857\n",
      "Epoch 24/30\n",
      "7/7 [==============================] - 1s 197ms/step - loss: 0.3882 - binary_accuracy: 0.9641 - val_loss: 4.9758 - val_binary_accuracy: 0.6786\n",
      "\n",
      "Epoch 00024: val_binary_accuracy did not improve from 0.67857\n",
      "Epoch 25/30\n",
      "7/7 [==============================] - 1s 178ms/step - loss: 0.5569 - binary_accuracy: 0.9552 - val_loss: 4.2563 - val_binary_accuracy: 0.6786\n",
      "\n",
      "Epoch 00025: val_binary_accuracy did not improve from 0.67857\n",
      "Epoch 26/30\n",
      "7/7 [==============================] - 1s 178ms/step - loss: 0.4218 - binary_accuracy: 0.9731 - val_loss: 3.7188 - val_binary_accuracy: 0.6964\n",
      "\n",
      "Epoch 00026: val_binary_accuracy improved from 0.67857 to 0.69643, saving model to /kaggle/working/datasets/01_MRI/Saved_CNN_Models/Testing/transfer_learning_model_dense169_2/AugTest/30epochs/transfer_learning_model_dense169_2_model_2.h5\n",
      "Epoch 27/30\n",
      "7/7 [==============================] - 1s 175ms/step - loss: 0.2617 - binary_accuracy: 0.9821 - val_loss: 3.1337 - val_binary_accuracy: 0.7500\n",
      "\n",
      "Epoch 00027: val_binary_accuracy improved from 0.69643 to 0.75000, saving model to /kaggle/working/datasets/01_MRI/Saved_CNN_Models/Testing/transfer_learning_model_dense169_2/AugTest/30epochs/transfer_learning_model_dense169_2_model_2.h5\n",
      "Epoch 28/30\n",
      "7/7 [==============================] - 1s 179ms/step - loss: 0.2631 - binary_accuracy: 0.9821 - val_loss: 2.3784 - val_binary_accuracy: 0.7857\n",
      "\n",
      "Epoch 00028: val_binary_accuracy improved from 0.75000 to 0.78571, saving model to /kaggle/working/datasets/01_MRI/Saved_CNN_Models/Testing/transfer_learning_model_dense169_2/AugTest/30epochs/transfer_learning_model_dense169_2_model_2.h5\n",
      "Epoch 29/30\n",
      "7/7 [==============================] - 1s 190ms/step - loss: 0.2226 - binary_accuracy: 0.9776 - val_loss: 1.5430 - val_binary_accuracy: 0.8214\n",
      "\n",
      "Epoch 00029: val_binary_accuracy improved from 0.78571 to 0.82143, saving model to /kaggle/working/datasets/01_MRI/Saved_CNN_Models/Testing/transfer_learning_model_dense169_2/AugTest/30epochs/transfer_learning_model_dense169_2_model_2.h5\n",
      "Epoch 30/30\n",
      "7/7 [==============================] - 1s 173ms/step - loss: 0.1485 - binary_accuracy: 0.9865 - val_loss: 1.4584 - val_binary_accuracy: 0.8571\n",
      "\n",
      "Epoch 00030: val_binary_accuracy improved from 0.82143 to 0.85714, saving model to /kaggle/working/datasets/01_MRI/Saved_CNN_Models/Testing/transfer_learning_model_dense169_2/AugTest/30epochs/transfer_learning_model_dense169_2_model_2.h5\n"
     ]
    },
    {
     "data": {
      "text/html": [
       "<div>                            <div id=\"9243c003-8162-44fd-a882-88a3cf4adc96\" class=\"plotly-graph-div\" style=\"height:400px; width:800px;\"></div>            <script type=\"text/javascript\">                require([\"plotly\"], function(Plotly) {                    window.PLOTLYENV=window.PLOTLYENV || {};                                    if (document.getElementById(\"9243c003-8162-44fd-a882-88a3cf4adc96\")) {                    Plotly.newPlot(                        \"9243c003-8162-44fd-a882-88a3cf4adc96\",                        [{\"mode\":\"lines+markers\",\"name\":\"Training Accuracy\",\"y\":[0.5650224089622498,0.7668161392211914,0.8206278085708618,0.8385650515556335,0.8744394779205322,0.8878923654556274,0.8968609571456909,0.9147982001304626,0.9147982001304626,0.9372197389602661,0.9686098694801331,0.9372197389602661,0.9103139042854309,0.9461883306503296,0.9506726264953613,0.9372197389602661,0.9551569223403931,0.9506726264953613,0.9461883306503296,0.9506726264953613,0.9641255736351013,0.9596412777900696,0.9551569223403931,0.9641255736351013,0.9551569223403931,0.9730941653251648,0.9820627570152283,0.9820627570152283,0.9775784611701965,0.9865471124649048],\"type\":\"scatter\"},{\"mode\":\"lines+markers\",\"name\":\"Validation Accuracy\",\"y\":[0.6785714030265808,0.4821428656578064,0.4821428656578064,0.4821428656578064,0.5535714030265808,0.5,0.5178571343421936,0.5357142686843872,0.5357142686843872,0.4642857015132904,0.4285714328289032,0.4285714328289032,0.4285714328289032,0.4285714328289032,0.4285714328289032,0.4285714328289032,0.4285714328289032,0.4642857015132904,0.5357142686843872,0.5535714030265808,0.5892857313156128,0.6071428656578064,0.6428571343421936,0.6785714030265808,0.6785714030265808,0.6964285969734192,0.75,0.7857142686843872,0.8214285969734192,0.8571428656578064],\"type\":\"scatter\"}],                        {\"template\":{\"data\":{\"histogram2dcontour\":[{\"type\":\"histogram2dcontour\",\"colorbar\":{\"outlinewidth\":0,\"ticks\":\"\"},\"colorscale\":[[0.0,\"#0d0887\"],[0.1111111111111111,\"#46039f\"],[0.2222222222222222,\"#7201a8\"],[0.3333333333333333,\"#9c179e\"],[0.4444444444444444,\"#bd3786\"],[0.5555555555555556,\"#d8576b\"],[0.6666666666666666,\"#ed7953\"],[0.7777777777777778,\"#fb9f3a\"],[0.8888888888888888,\"#fdca26\"],[1.0,\"#f0f921\"]]}],\"choropleth\":[{\"type\":\"choropleth\",\"colorbar\":{\"outlinewidth\":0,\"ticks\":\"\"}}],\"histogram2d\":[{\"type\":\"histogram2d\",\"colorbar\":{\"outlinewidth\":0,\"ticks\":\"\"},\"colorscale\":[[0.0,\"#0d0887\"],[0.1111111111111111,\"#46039f\"],[0.2222222222222222,\"#7201a8\"],[0.3333333333333333,\"#9c179e\"],[0.4444444444444444,\"#bd3786\"],[0.5555555555555556,\"#d8576b\"],[0.6666666666666666,\"#ed7953\"],[0.7777777777777778,\"#fb9f3a\"],[0.8888888888888888,\"#fdca26\"],[1.0,\"#f0f921\"]]}],\"heatmap\":[{\"type\":\"heatmap\",\"colorbar\":{\"outlinewidth\":0,\"ticks\":\"\"},\"colorscale\":[[0.0,\"#0d0887\"],[0.1111111111111111,\"#46039f\"],[0.2222222222222222,\"#7201a8\"],[0.3333333333333333,\"#9c179e\"],[0.4444444444444444,\"#bd3786\"],[0.5555555555555556,\"#d8576b\"],[0.6666666666666666,\"#ed7953\"],[0.7777777777777778,\"#fb9f3a\"],[0.8888888888888888,\"#fdca26\"],[1.0,\"#f0f921\"]]}],\"heatmapgl\":[{\"type\":\"heatmapgl\",\"colorbar\":{\"outlinewidth\":0,\"ticks\":\"\"},\"colorscale\":[[0.0,\"#0d0887\"],[0.1111111111111111,\"#46039f\"],[0.2222222222222222,\"#7201a8\"],[0.3333333333333333,\"#9c179e\"],[0.4444444444444444,\"#bd3786\"],[0.5555555555555556,\"#d8576b\"],[0.6666666666666666,\"#ed7953\"],[0.7777777777777778,\"#fb9f3a\"],[0.8888888888888888,\"#fdca26\"],[1.0,\"#f0f921\"]]}],\"contourcarpet\":[{\"type\":\"contourcarpet\",\"colorbar\":{\"outlinewidth\":0,\"ticks\":\"\"}}],\"contour\":[{\"type\":\"contour\",\"colorbar\":{\"outlinewidth\":0,\"ticks\":\"\"},\"colorscale\":[[0.0,\"#0d0887\"],[0.1111111111111111,\"#46039f\"],[0.2222222222222222,\"#7201a8\"],[0.3333333333333333,\"#9c179e\"],[0.4444444444444444,\"#bd3786\"],[0.5555555555555556,\"#d8576b\"],[0.6666666666666666,\"#ed7953\"],[0.7777777777777778,\"#fb9f3a\"],[0.8888888888888888,\"#fdca26\"],[1.0,\"#f0f921\"]]}],\"surface\":[{\"type\":\"surface\",\"colorbar\":{\"outlinewidth\":0,\"ticks\":\"\"},\"colorscale\":[[0.0,\"#0d0887\"],[0.1111111111111111,\"#46039f\"],[0.2222222222222222,\"#7201a8\"],[0.3333333333333333,\"#9c179e\"],[0.4444444444444444,\"#bd3786\"],[0.5555555555555556,\"#d8576b\"],[0.6666666666666666,\"#ed7953\"],[0.7777777777777778,\"#fb9f3a\"],[0.8888888888888888,\"#fdca26\"],[1.0,\"#f0f921\"]]}],\"mesh3d\":[{\"type\":\"mesh3d\",\"colorbar\":{\"outlinewidth\":0,\"ticks\":\"\"}}],\"scatter\":[{\"fillpattern\":{\"fillmode\":\"overlay\",\"size\":10,\"solidity\":0.2},\"type\":\"scatter\"}],\"parcoords\":[{\"type\":\"parcoords\",\"line\":{\"colorbar\":{\"outlinewidth\":0,\"ticks\":\"\"}}}],\"scatterpolargl\":[{\"type\":\"scatterpolargl\",\"marker\":{\"colorbar\":{\"outlinewidth\":0,\"ticks\":\"\"}}}],\"bar\":[{\"error_x\":{\"color\":\"#2a3f5f\"},\"error_y\":{\"color\":\"#2a3f5f\"},\"marker\":{\"line\":{\"color\":\"#E5ECF6\",\"width\":0.5},\"pattern\":{\"fillmode\":\"overlay\",\"size\":10,\"solidity\":0.2}},\"type\":\"bar\"}],\"scattergeo\":[{\"type\":\"scattergeo\",\"marker\":{\"colorbar\":{\"outlinewidth\":0,\"ticks\":\"\"}}}],\"scatterpolar\":[{\"type\":\"scatterpolar\",\"marker\":{\"colorbar\":{\"outlinewidth\":0,\"ticks\":\"\"}}}],\"histogram\":[{\"marker\":{\"pattern\":{\"fillmode\":\"overlay\",\"size\":10,\"solidity\":0.2}},\"type\":\"histogram\"}],\"scattergl\":[{\"type\":\"scattergl\",\"marker\":{\"colorbar\":{\"outlinewidth\":0,\"ticks\":\"\"}}}],\"scatter3d\":[{\"type\":\"scatter3d\",\"line\":{\"colorbar\":{\"outlinewidth\":0,\"ticks\":\"\"}},\"marker\":{\"colorbar\":{\"outlinewidth\":0,\"ticks\":\"\"}}}],\"scattermapbox\":[{\"type\":\"scattermapbox\",\"marker\":{\"colorbar\":{\"outlinewidth\":0,\"ticks\":\"\"}}}],\"scatterternary\":[{\"type\":\"scatterternary\",\"marker\":{\"colorbar\":{\"outlinewidth\":0,\"ticks\":\"\"}}}],\"scattercarpet\":[{\"type\":\"scattercarpet\",\"marker\":{\"colorbar\":{\"outlinewidth\":0,\"ticks\":\"\"}}}],\"carpet\":[{\"aaxis\":{\"endlinecolor\":\"#2a3f5f\",\"gridcolor\":\"white\",\"linecolor\":\"white\",\"minorgridcolor\":\"white\",\"startlinecolor\":\"#2a3f5f\"},\"baxis\":{\"endlinecolor\":\"#2a3f5f\",\"gridcolor\":\"white\",\"linecolor\":\"white\",\"minorgridcolor\":\"white\",\"startlinecolor\":\"#2a3f5f\"},\"type\":\"carpet\"}],\"table\":[{\"cells\":{\"fill\":{\"color\":\"#EBF0F8\"},\"line\":{\"color\":\"white\"}},\"header\":{\"fill\":{\"color\":\"#C8D4E3\"},\"line\":{\"color\":\"white\"}},\"type\":\"table\"}],\"barpolar\":[{\"marker\":{\"line\":{\"color\":\"#E5ECF6\",\"width\":0.5},\"pattern\":{\"fillmode\":\"overlay\",\"size\":10,\"solidity\":0.2}},\"type\":\"barpolar\"}],\"pie\":[{\"automargin\":true,\"type\":\"pie\"}]},\"layout\":{\"autotypenumbers\":\"strict\",\"colorway\":[\"#636efa\",\"#EF553B\",\"#00cc96\",\"#ab63fa\",\"#FFA15A\",\"#19d3f3\",\"#FF6692\",\"#B6E880\",\"#FF97FF\",\"#FECB52\"],\"font\":{\"color\":\"#2a3f5f\"},\"hovermode\":\"closest\",\"hoverlabel\":{\"align\":\"left\"},\"paper_bgcolor\":\"white\",\"plot_bgcolor\":\"#E5ECF6\",\"polar\":{\"bgcolor\":\"#E5ECF6\",\"angularaxis\":{\"gridcolor\":\"white\",\"linecolor\":\"white\",\"ticks\":\"\"},\"radialaxis\":{\"gridcolor\":\"white\",\"linecolor\":\"white\",\"ticks\":\"\"}},\"ternary\":{\"bgcolor\":\"#E5ECF6\",\"aaxis\":{\"gridcolor\":\"white\",\"linecolor\":\"white\",\"ticks\":\"\"},\"baxis\":{\"gridcolor\":\"white\",\"linecolor\":\"white\",\"ticks\":\"\"},\"caxis\":{\"gridcolor\":\"white\",\"linecolor\":\"white\",\"ticks\":\"\"}},\"coloraxis\":{\"colorbar\":{\"outlinewidth\":0,\"ticks\":\"\"}},\"colorscale\":{\"sequential\":[[0.0,\"#0d0887\"],[0.1111111111111111,\"#46039f\"],[0.2222222222222222,\"#7201a8\"],[0.3333333333333333,\"#9c179e\"],[0.4444444444444444,\"#bd3786\"],[0.5555555555555556,\"#d8576b\"],[0.6666666666666666,\"#ed7953\"],[0.7777777777777778,\"#fb9f3a\"],[0.8888888888888888,\"#fdca26\"],[1.0,\"#f0f921\"]],\"sequentialminus\":[[0.0,\"#0d0887\"],[0.1111111111111111,\"#46039f\"],[0.2222222222222222,\"#7201a8\"],[0.3333333333333333,\"#9c179e\"],[0.4444444444444444,\"#bd3786\"],[0.5555555555555556,\"#d8576b\"],[0.6666666666666666,\"#ed7953\"],[0.7777777777777778,\"#fb9f3a\"],[0.8888888888888888,\"#fdca26\"],[1.0,\"#f0f921\"]],\"diverging\":[[0,\"#8e0152\"],[0.1,\"#c51b7d\"],[0.2,\"#de77ae\"],[0.3,\"#f1b6da\"],[0.4,\"#fde0ef\"],[0.5,\"#f7f7f7\"],[0.6,\"#e6f5d0\"],[0.7,\"#b8e186\"],[0.8,\"#7fbc41\"],[0.9,\"#4d9221\"],[1,\"#276419\"]]},\"xaxis\":{\"gridcolor\":\"white\",\"linecolor\":\"white\",\"ticks\":\"\",\"title\":{\"standoff\":15},\"zerolinecolor\":\"white\",\"automargin\":true,\"zerolinewidth\":2},\"yaxis\":{\"gridcolor\":\"white\",\"linecolor\":\"white\",\"ticks\":\"\",\"title\":{\"standoff\":15},\"zerolinecolor\":\"white\",\"automargin\":true,\"zerolinewidth\":2},\"scene\":{\"xaxis\":{\"backgroundcolor\":\"#E5ECF6\",\"gridcolor\":\"white\",\"linecolor\":\"white\",\"showbackground\":true,\"ticks\":\"\",\"zerolinecolor\":\"white\",\"gridwidth\":2},\"yaxis\":{\"backgroundcolor\":\"#E5ECF6\",\"gridcolor\":\"white\",\"linecolor\":\"white\",\"showbackground\":true,\"ticks\":\"\",\"zerolinecolor\":\"white\",\"gridwidth\":2},\"zaxis\":{\"backgroundcolor\":\"#E5ECF6\",\"gridcolor\":\"white\",\"linecolor\":\"white\",\"showbackground\":true,\"ticks\":\"\",\"zerolinecolor\":\"white\",\"gridwidth\":2}},\"shapedefaults\":{\"line\":{\"color\":\"#2a3f5f\"}},\"annotationdefaults\":{\"arrowcolor\":\"#2a3f5f\",\"arrowhead\":0,\"arrowwidth\":1},\"geo\":{\"bgcolor\":\"white\",\"landcolor\":\"#E5ECF6\",\"subunitcolor\":\"white\",\"showland\":true,\"showlakes\":true,\"lakecolor\":\"white\"},\"title\":{\"x\":0.05},\"mapbox\":{\"style\":\"light\"}}},\"yaxis\":{\"range\":[0.4,1],\"title\":{\"text\":\"Accuracy\"}},\"title\":{\"text\":\"Fold 2's performance\",\"x\":0.5},\"margin\":{\"l\":20,\"r\":20,\"t\":40,\"b\":20},\"xaxis\":{\"title\":{\"text\":\"Epochs\"}},\"autosize\":false,\"width\":800,\"height\":400},                        {\"responsive\": true}                    ).then(function(){\n",
       "                            \n",
       "var gd = document.getElementById('9243c003-8162-44fd-a882-88a3cf4adc96');\n",
       "var x = new MutationObserver(function (mutations, observer) {{\n",
       "        var display = window.getComputedStyle(gd).display;\n",
       "        if (!display || display === 'none') {{\n",
       "            console.log([gd, 'removed!']);\n",
       "            Plotly.purge(gd);\n",
       "            observer.disconnect();\n",
       "        }}\n",
       "}});\n",
       "\n",
       "// Listen for the removal of the full notebook cells\n",
       "var notebookContainer = gd.closest('#notebook-container');\n",
       "if (notebookContainer) {{\n",
       "    x.observe(notebookContainer, {childList: true});\n",
       "}}\n",
       "\n",
       "// Listen for the clearing of the current output cell\n",
       "var outputEl = gd.closest('.output');\n",
       "if (outputEl) {{\n",
       "    x.observe(outputEl, {childList: true});\n",
       "}}\n",
       "\n",
       "                        })                };                });            </script>        </div>"
      ]
     },
     "metadata": {},
     "output_type": "display_data"
    },
    {
     "name": "stdout",
     "output_type": "stream",
     "text": [
      "4/4 [==============================] - 1s 107ms/step - loss: 2.4623 - binary_accuracy: 0.8182\n",
      "Found 223 validated image filenames belonging to 2 classes.\n",
      "Found 56 validated image filenames belonging to 2 classes.\n",
      "Epoch 1/30\n",
      "7/7 [==============================] - 14s 568ms/step - loss: 2.7821 - binary_accuracy: 0.7040 - val_loss: 6.4699 - val_binary_accuracy: 0.5000\n",
      "\n",
      "Epoch 00001: val_binary_accuracy improved from -inf to 0.50000, saving model to /kaggle/working/datasets/01_MRI/Saved_CNN_Models/Testing/transfer_learning_model_dense169_2/AugTest/30epochs/transfer_learning_model_dense169_2_model_3.h5\n",
      "Epoch 2/30\n",
      "7/7 [==============================] - 1s 175ms/step - loss: 1.4935 - binary_accuracy: 0.8789 - val_loss: 3.5575 - val_binary_accuracy: 0.6071\n",
      "\n",
      "Epoch 00002: val_binary_accuracy improved from 0.50000 to 0.60714, saving model to /kaggle/working/datasets/01_MRI/Saved_CNN_Models/Testing/transfer_learning_model_dense169_2/AugTest/30epochs/transfer_learning_model_dense169_2_model_3.h5\n",
      "Epoch 3/30\n",
      "7/7 [==============================] - 1s 197ms/step - loss: 0.7899 - binary_accuracy: 0.9238 - val_loss: 1.9066 - val_binary_accuracy: 0.7857\n",
      "\n",
      "Epoch 00003: val_binary_accuracy improved from 0.60714 to 0.78571, saving model to /kaggle/working/datasets/01_MRI/Saved_CNN_Models/Testing/transfer_learning_model_dense169_2/AugTest/30epochs/transfer_learning_model_dense169_2_model_3.h5\n",
      "Epoch 4/30\n",
      "7/7 [==============================] - 1s 180ms/step - loss: 0.6080 - binary_accuracy: 0.9372 - val_loss: 1.7948 - val_binary_accuracy: 0.8036\n",
      "\n",
      "Epoch 00004: val_binary_accuracy improved from 0.78571 to 0.80357, saving model to /kaggle/working/datasets/01_MRI/Saved_CNN_Models/Testing/transfer_learning_model_dense169_2/AugTest/30epochs/transfer_learning_model_dense169_2_model_3.h5\n",
      "Epoch 5/30\n",
      "7/7 [==============================] - 1s 174ms/step - loss: 0.2726 - binary_accuracy: 0.9641 - val_loss: 1.8824 - val_binary_accuracy: 0.8214\n",
      "\n",
      "Epoch 00005: val_binary_accuracy improved from 0.80357 to 0.82143, saving model to /kaggle/working/datasets/01_MRI/Saved_CNN_Models/Testing/transfer_learning_model_dense169_2/AugTest/30epochs/transfer_learning_model_dense169_2_model_3.h5\n",
      "Epoch 6/30\n",
      "7/7 [==============================] - 1s 178ms/step - loss: 0.3856 - binary_accuracy: 0.9552 - val_loss: 2.6188 - val_binary_accuracy: 0.8036\n",
      "\n",
      "Epoch 00006: val_binary_accuracy did not improve from 0.82143\n",
      "Epoch 7/30\n",
      "7/7 [==============================] - 1s 174ms/step - loss: 0.2724 - binary_accuracy: 0.9641 - val_loss: 2.0375 - val_binary_accuracy: 0.8036\n",
      "\n",
      "Epoch 00007: val_binary_accuracy did not improve from 0.82143\n",
      "Epoch 8/30\n",
      "7/7 [==============================] - 1s 176ms/step - loss: 0.1804 - binary_accuracy: 0.9865 - val_loss: 1.4685 - val_binary_accuracy: 0.8393\n",
      "\n",
      "Epoch 00008: val_binary_accuracy improved from 0.82143 to 0.83929, saving model to /kaggle/working/datasets/01_MRI/Saved_CNN_Models/Testing/transfer_learning_model_dense169_2/AugTest/30epochs/transfer_learning_model_dense169_2_model_3.h5\n",
      "Epoch 9/30\n",
      "7/7 [==============================] - 1s 177ms/step - loss: 0.1826 - binary_accuracy: 0.9865 - val_loss: 1.1904 - val_binary_accuracy: 0.8929\n",
      "\n",
      "Epoch 00009: val_binary_accuracy improved from 0.83929 to 0.89286, saving model to /kaggle/working/datasets/01_MRI/Saved_CNN_Models/Testing/transfer_learning_model_dense169_2/AugTest/30epochs/transfer_learning_model_dense169_2_model_3.h5\n",
      "Epoch 10/30\n",
      "7/7 [==============================] - 1s 199ms/step - loss: 0.3038 - binary_accuracy: 0.9776 - val_loss: 1.1919 - val_binary_accuracy: 0.8929\n",
      "\n",
      "Epoch 00010: val_binary_accuracy did not improve from 0.89286\n",
      "Epoch 11/30\n",
      "7/7 [==============================] - 1s 183ms/step - loss: 0.1839 - binary_accuracy: 0.9821 - val_loss: 1.1814 - val_binary_accuracy: 0.8929\n",
      "\n",
      "Epoch 00011: val_binary_accuracy did not improve from 0.89286\n",
      "Epoch 12/30\n",
      "7/7 [==============================] - 1s 171ms/step - loss: 0.1804 - binary_accuracy: 0.9865 - val_loss: 1.1790 - val_binary_accuracy: 0.8929\n",
      "\n",
      "Epoch 00012: val_binary_accuracy did not improve from 0.89286\n",
      "Epoch 13/30\n",
      "7/7 [==============================] - 1s 180ms/step - loss: 0.3619 - binary_accuracy: 0.9731 - val_loss: 1.1820 - val_binary_accuracy: 0.8929\n",
      "\n",
      "Epoch 00013: val_binary_accuracy did not improve from 0.89286\n",
      "Epoch 14/30\n",
      "7/7 [==============================] - 1s 175ms/step - loss: 0.1821 - binary_accuracy: 0.9865 - val_loss: 1.1800 - val_binary_accuracy: 0.8929\n",
      "\n",
      "Epoch 00014: val_binary_accuracy did not improve from 0.89286\n",
      "Epoch 15/30\n",
      "7/7 [==============================] - 2s 220ms/step - loss: 0.1824 - binary_accuracy: 0.9865 - val_loss: 1.1787 - val_binary_accuracy: 0.8929\n",
      "\n",
      "Epoch 00015: val_binary_accuracy did not improve from 0.89286\n",
      "Epoch 16/30\n",
      "7/7 [==============================] - 1s 180ms/step - loss: 0.1807 - binary_accuracy: 0.9865 - val_loss: 1.1831 - val_binary_accuracy: 0.8929\n",
      "\n",
      "Epoch 00016: val_binary_accuracy did not improve from 0.89286\n",
      "Epoch 17/30\n",
      "7/7 [==============================] - 1s 176ms/step - loss: 0.1804 - binary_accuracy: 0.9865 - val_loss: 1.1849 - val_binary_accuracy: 0.8929\n",
      "\n",
      "Epoch 00017: val_binary_accuracy did not improve from 0.89286\n",
      "Epoch 18/30\n",
      "7/7 [==============================] - 1s 174ms/step - loss: 0.1235 - binary_accuracy: 0.9910 - val_loss: 1.1943 - val_binary_accuracy: 0.8929\n",
      "\n",
      "Epoch 00018: val_binary_accuracy did not improve from 0.89286\n",
      "Epoch 19/30\n",
      "7/7 [==============================] - 1s 171ms/step - loss: 0.0782 - binary_accuracy: 0.9821 - val_loss: 1.6590 - val_binary_accuracy: 0.8929\n",
      "\n",
      "Epoch 00019: val_binary_accuracy did not improve from 0.89286\n",
      "Epoch 20/30\n",
      "7/7 [==============================] - 1s 172ms/step - loss: 0.0626 - binary_accuracy: 0.9955 - val_loss: 1.6776 - val_binary_accuracy: 0.8750\n",
      "\n",
      "Epoch 00020: val_binary_accuracy did not improve from 0.89286\n",
      "Epoch 21/30\n",
      "7/7 [==============================] - 2s 204ms/step - loss: 0.0602 - binary_accuracy: 0.9955 - val_loss: 1.6741 - val_binary_accuracy: 0.8750\n",
      "\n",
      "Epoch 00021: val_binary_accuracy did not improve from 0.89286\n",
      "Epoch 22/30\n",
      "7/7 [==============================] - 1s 184ms/step - loss: 0.0744 - binary_accuracy: 0.9865 - val_loss: 0.9262 - val_binary_accuracy: 0.9107\n",
      "\n",
      "Epoch 00022: val_binary_accuracy improved from 0.89286 to 0.91071, saving model to /kaggle/working/datasets/01_MRI/Saved_CNN_Models/Testing/transfer_learning_model_dense169_2/AugTest/30epochs/transfer_learning_model_dense169_2_model_3.h5\n",
      "Epoch 23/30\n",
      "7/7 [==============================] - 1s 174ms/step - loss: 0.0889 - binary_accuracy: 0.9910 - val_loss: 0.5740 - val_binary_accuracy: 0.9464\n",
      "\n",
      "Epoch 00023: val_binary_accuracy improved from 0.91071 to 0.94643, saving model to /kaggle/working/datasets/01_MRI/Saved_CNN_Models/Testing/transfer_learning_model_dense169_2/AugTest/30epochs/transfer_learning_model_dense169_2_model_3.h5\n",
      "Epoch 24/30\n",
      "7/7 [==============================] - 1s 176ms/step - loss: 0.1887 - binary_accuracy: 0.9776 - val_loss: 3.6177 - val_binary_accuracy: 0.7321\n",
      "\n",
      "Epoch 00024: val_binary_accuracy did not improve from 0.94643\n",
      "Epoch 25/30\n",
      "7/7 [==============================] - 1s 173ms/step - loss: 0.2065 - binary_accuracy: 0.9641 - val_loss: 4.3763 - val_binary_accuracy: 0.6964\n",
      "\n",
      "Epoch 00025: val_binary_accuracy did not improve from 0.94643\n",
      "Epoch 26/30\n",
      "7/7 [==============================] - 1s 207ms/step - loss: 0.3082 - binary_accuracy: 0.9776 - val_loss: 4.4015 - val_binary_accuracy: 0.6964\n",
      "\n",
      "Epoch 00026: val_binary_accuracy did not improve from 0.94643\n",
      "Epoch 27/30\n",
      "7/7 [==============================] - 1s 183ms/step - loss: 0.3166 - binary_accuracy: 0.9731 - val_loss: 4.3618 - val_binary_accuracy: 0.7143\n",
      "\n",
      "Epoch 00027: val_binary_accuracy did not improve from 0.94643\n",
      "Epoch 28/30\n",
      "7/7 [==============================] - 1s 175ms/step - loss: 0.2167 - binary_accuracy: 0.9776 - val_loss: 4.1107 - val_binary_accuracy: 0.7143\n",
      "\n",
      "Epoch 00028: val_binary_accuracy did not improve from 0.94643\n",
      "Epoch 29/30\n",
      "7/7 [==============================] - 1s 176ms/step - loss: 0.3325 - binary_accuracy: 0.9686 - val_loss: 3.8596 - val_binary_accuracy: 0.7321\n",
      "\n",
      "Epoch 00029: val_binary_accuracy did not improve from 0.94643\n",
      "Epoch 30/30\n",
      "7/7 [==============================] - 1s 192ms/step - loss: 0.2792 - binary_accuracy: 0.9731 - val_loss: 3.8223 - val_binary_accuracy: 0.7500\n",
      "\n",
      "Epoch 00030: val_binary_accuracy did not improve from 0.94643\n"
     ]
    },
    {
     "data": {
      "text/html": [
       "<div>                            <div id=\"a82e07a9-abda-4aff-951b-aee1b1b2b831\" class=\"plotly-graph-div\" style=\"height:400px; width:800px;\"></div>            <script type=\"text/javascript\">                require([\"plotly\"], function(Plotly) {                    window.PLOTLYENV=window.PLOTLYENV || {};                                    if (document.getElementById(\"a82e07a9-abda-4aff-951b-aee1b1b2b831\")) {                    Plotly.newPlot(                        \"a82e07a9-abda-4aff-951b-aee1b1b2b831\",                        [{\"mode\":\"lines+markers\",\"name\":\"Training Accuracy\",\"y\":[0.7040358781814575,0.878923773765564,0.9237667918205261,0.9372197389602661,0.9641255736351013,0.9551569223403931,0.9641255736351013,0.9865471124649048,0.9865471124649048,0.9775784611701965,0.9820627570152283,0.9865471124649048,0.9730941653251648,0.9865471124649048,0.9865471124649048,0.9865471124649048,0.9865471124649048,0.9910314083099365,0.9820627570152283,0.9955157041549683,0.9955157041549683,0.9865471124649048,0.9910314083099365,0.9775784611701965,0.9641255736351013,0.9775784611701965,0.9730941653251648,0.9775784611701965,0.9686098694801331,0.9730941653251648],\"type\":\"scatter\"},{\"mode\":\"lines+markers\",\"name\":\"Validation Accuracy\",\"y\":[0.5,0.6071428656578064,0.7857142686843872,0.8035714030265808,0.8214285969734192,0.8035714030265808,0.8035714030265808,0.8392857313156128,0.8928571343421936,0.8928571343421936,0.8928571343421936,0.8928571343421936,0.8928571343421936,0.8928571343421936,0.8928571343421936,0.8928571343421936,0.8928571343421936,0.8928571343421936,0.8928571343421936,0.875,0.875,0.9107142686843872,0.9464285969734192,0.7321428656578064,0.6964285969734192,0.6964285969734192,0.7142857313156128,0.7142857313156128,0.7321428656578064,0.75],\"type\":\"scatter\"}],                        {\"template\":{\"data\":{\"histogram2dcontour\":[{\"type\":\"histogram2dcontour\",\"colorbar\":{\"outlinewidth\":0,\"ticks\":\"\"},\"colorscale\":[[0.0,\"#0d0887\"],[0.1111111111111111,\"#46039f\"],[0.2222222222222222,\"#7201a8\"],[0.3333333333333333,\"#9c179e\"],[0.4444444444444444,\"#bd3786\"],[0.5555555555555556,\"#d8576b\"],[0.6666666666666666,\"#ed7953\"],[0.7777777777777778,\"#fb9f3a\"],[0.8888888888888888,\"#fdca26\"],[1.0,\"#f0f921\"]]}],\"choropleth\":[{\"type\":\"choropleth\",\"colorbar\":{\"outlinewidth\":0,\"ticks\":\"\"}}],\"histogram2d\":[{\"type\":\"histogram2d\",\"colorbar\":{\"outlinewidth\":0,\"ticks\":\"\"},\"colorscale\":[[0.0,\"#0d0887\"],[0.1111111111111111,\"#46039f\"],[0.2222222222222222,\"#7201a8\"],[0.3333333333333333,\"#9c179e\"],[0.4444444444444444,\"#bd3786\"],[0.5555555555555556,\"#d8576b\"],[0.6666666666666666,\"#ed7953\"],[0.7777777777777778,\"#fb9f3a\"],[0.8888888888888888,\"#fdca26\"],[1.0,\"#f0f921\"]]}],\"heatmap\":[{\"type\":\"heatmap\",\"colorbar\":{\"outlinewidth\":0,\"ticks\":\"\"},\"colorscale\":[[0.0,\"#0d0887\"],[0.1111111111111111,\"#46039f\"],[0.2222222222222222,\"#7201a8\"],[0.3333333333333333,\"#9c179e\"],[0.4444444444444444,\"#bd3786\"],[0.5555555555555556,\"#d8576b\"],[0.6666666666666666,\"#ed7953\"],[0.7777777777777778,\"#fb9f3a\"],[0.8888888888888888,\"#fdca26\"],[1.0,\"#f0f921\"]]}],\"heatmapgl\":[{\"type\":\"heatmapgl\",\"colorbar\":{\"outlinewidth\":0,\"ticks\":\"\"},\"colorscale\":[[0.0,\"#0d0887\"],[0.1111111111111111,\"#46039f\"],[0.2222222222222222,\"#7201a8\"],[0.3333333333333333,\"#9c179e\"],[0.4444444444444444,\"#bd3786\"],[0.5555555555555556,\"#d8576b\"],[0.6666666666666666,\"#ed7953\"],[0.7777777777777778,\"#fb9f3a\"],[0.8888888888888888,\"#fdca26\"],[1.0,\"#f0f921\"]]}],\"contourcarpet\":[{\"type\":\"contourcarpet\",\"colorbar\":{\"outlinewidth\":0,\"ticks\":\"\"}}],\"contour\":[{\"type\":\"contour\",\"colorbar\":{\"outlinewidth\":0,\"ticks\":\"\"},\"colorscale\":[[0.0,\"#0d0887\"],[0.1111111111111111,\"#46039f\"],[0.2222222222222222,\"#7201a8\"],[0.3333333333333333,\"#9c179e\"],[0.4444444444444444,\"#bd3786\"],[0.5555555555555556,\"#d8576b\"],[0.6666666666666666,\"#ed7953\"],[0.7777777777777778,\"#fb9f3a\"],[0.8888888888888888,\"#fdca26\"],[1.0,\"#f0f921\"]]}],\"surface\":[{\"type\":\"surface\",\"colorbar\":{\"outlinewidth\":0,\"ticks\":\"\"},\"colorscale\":[[0.0,\"#0d0887\"],[0.1111111111111111,\"#46039f\"],[0.2222222222222222,\"#7201a8\"],[0.3333333333333333,\"#9c179e\"],[0.4444444444444444,\"#bd3786\"],[0.5555555555555556,\"#d8576b\"],[0.6666666666666666,\"#ed7953\"],[0.7777777777777778,\"#fb9f3a\"],[0.8888888888888888,\"#fdca26\"],[1.0,\"#f0f921\"]]}],\"mesh3d\":[{\"type\":\"mesh3d\",\"colorbar\":{\"outlinewidth\":0,\"ticks\":\"\"}}],\"scatter\":[{\"fillpattern\":{\"fillmode\":\"overlay\",\"size\":10,\"solidity\":0.2},\"type\":\"scatter\"}],\"parcoords\":[{\"type\":\"parcoords\",\"line\":{\"colorbar\":{\"outlinewidth\":0,\"ticks\":\"\"}}}],\"scatterpolargl\":[{\"type\":\"scatterpolargl\",\"marker\":{\"colorbar\":{\"outlinewidth\":0,\"ticks\":\"\"}}}],\"bar\":[{\"error_x\":{\"color\":\"#2a3f5f\"},\"error_y\":{\"color\":\"#2a3f5f\"},\"marker\":{\"line\":{\"color\":\"#E5ECF6\",\"width\":0.5},\"pattern\":{\"fillmode\":\"overlay\",\"size\":10,\"solidity\":0.2}},\"type\":\"bar\"}],\"scattergeo\":[{\"type\":\"scattergeo\",\"marker\":{\"colorbar\":{\"outlinewidth\":0,\"ticks\":\"\"}}}],\"scatterpolar\":[{\"type\":\"scatterpolar\",\"marker\":{\"colorbar\":{\"outlinewidth\":0,\"ticks\":\"\"}}}],\"histogram\":[{\"marker\":{\"pattern\":{\"fillmode\":\"overlay\",\"size\":10,\"solidity\":0.2}},\"type\":\"histogram\"}],\"scattergl\":[{\"type\":\"scattergl\",\"marker\":{\"colorbar\":{\"outlinewidth\":0,\"ticks\":\"\"}}}],\"scatter3d\":[{\"type\":\"scatter3d\",\"line\":{\"colorbar\":{\"outlinewidth\":0,\"ticks\":\"\"}},\"marker\":{\"colorbar\":{\"outlinewidth\":0,\"ticks\":\"\"}}}],\"scattermapbox\":[{\"type\":\"scattermapbox\",\"marker\":{\"colorbar\":{\"outlinewidth\":0,\"ticks\":\"\"}}}],\"scatterternary\":[{\"type\":\"scatterternary\",\"marker\":{\"colorbar\":{\"outlinewidth\":0,\"ticks\":\"\"}}}],\"scattercarpet\":[{\"type\":\"scattercarpet\",\"marker\":{\"colorbar\":{\"outlinewidth\":0,\"ticks\":\"\"}}}],\"carpet\":[{\"aaxis\":{\"endlinecolor\":\"#2a3f5f\",\"gridcolor\":\"white\",\"linecolor\":\"white\",\"minorgridcolor\":\"white\",\"startlinecolor\":\"#2a3f5f\"},\"baxis\":{\"endlinecolor\":\"#2a3f5f\",\"gridcolor\":\"white\",\"linecolor\":\"white\",\"minorgridcolor\":\"white\",\"startlinecolor\":\"#2a3f5f\"},\"type\":\"carpet\"}],\"table\":[{\"cells\":{\"fill\":{\"color\":\"#EBF0F8\"},\"line\":{\"color\":\"white\"}},\"header\":{\"fill\":{\"color\":\"#C8D4E3\"},\"line\":{\"color\":\"white\"}},\"type\":\"table\"}],\"barpolar\":[{\"marker\":{\"line\":{\"color\":\"#E5ECF6\",\"width\":0.5},\"pattern\":{\"fillmode\":\"overlay\",\"size\":10,\"solidity\":0.2}},\"type\":\"barpolar\"}],\"pie\":[{\"automargin\":true,\"type\":\"pie\"}]},\"layout\":{\"autotypenumbers\":\"strict\",\"colorway\":[\"#636efa\",\"#EF553B\",\"#00cc96\",\"#ab63fa\",\"#FFA15A\",\"#19d3f3\",\"#FF6692\",\"#B6E880\",\"#FF97FF\",\"#FECB52\"],\"font\":{\"color\":\"#2a3f5f\"},\"hovermode\":\"closest\",\"hoverlabel\":{\"align\":\"left\"},\"paper_bgcolor\":\"white\",\"plot_bgcolor\":\"#E5ECF6\",\"polar\":{\"bgcolor\":\"#E5ECF6\",\"angularaxis\":{\"gridcolor\":\"white\",\"linecolor\":\"white\",\"ticks\":\"\"},\"radialaxis\":{\"gridcolor\":\"white\",\"linecolor\":\"white\",\"ticks\":\"\"}},\"ternary\":{\"bgcolor\":\"#E5ECF6\",\"aaxis\":{\"gridcolor\":\"white\",\"linecolor\":\"white\",\"ticks\":\"\"},\"baxis\":{\"gridcolor\":\"white\",\"linecolor\":\"white\",\"ticks\":\"\"},\"caxis\":{\"gridcolor\":\"white\",\"linecolor\":\"white\",\"ticks\":\"\"}},\"coloraxis\":{\"colorbar\":{\"outlinewidth\":0,\"ticks\":\"\"}},\"colorscale\":{\"sequential\":[[0.0,\"#0d0887\"],[0.1111111111111111,\"#46039f\"],[0.2222222222222222,\"#7201a8\"],[0.3333333333333333,\"#9c179e\"],[0.4444444444444444,\"#bd3786\"],[0.5555555555555556,\"#d8576b\"],[0.6666666666666666,\"#ed7953\"],[0.7777777777777778,\"#fb9f3a\"],[0.8888888888888888,\"#fdca26\"],[1.0,\"#f0f921\"]],\"sequentialminus\":[[0.0,\"#0d0887\"],[0.1111111111111111,\"#46039f\"],[0.2222222222222222,\"#7201a8\"],[0.3333333333333333,\"#9c179e\"],[0.4444444444444444,\"#bd3786\"],[0.5555555555555556,\"#d8576b\"],[0.6666666666666666,\"#ed7953\"],[0.7777777777777778,\"#fb9f3a\"],[0.8888888888888888,\"#fdca26\"],[1.0,\"#f0f921\"]],\"diverging\":[[0,\"#8e0152\"],[0.1,\"#c51b7d\"],[0.2,\"#de77ae\"],[0.3,\"#f1b6da\"],[0.4,\"#fde0ef\"],[0.5,\"#f7f7f7\"],[0.6,\"#e6f5d0\"],[0.7,\"#b8e186\"],[0.8,\"#7fbc41\"],[0.9,\"#4d9221\"],[1,\"#276419\"]]},\"xaxis\":{\"gridcolor\":\"white\",\"linecolor\":\"white\",\"ticks\":\"\",\"title\":{\"standoff\":15},\"zerolinecolor\":\"white\",\"automargin\":true,\"zerolinewidth\":2},\"yaxis\":{\"gridcolor\":\"white\",\"linecolor\":\"white\",\"ticks\":\"\",\"title\":{\"standoff\":15},\"zerolinecolor\":\"white\",\"automargin\":true,\"zerolinewidth\":2},\"scene\":{\"xaxis\":{\"backgroundcolor\":\"#E5ECF6\",\"gridcolor\":\"white\",\"linecolor\":\"white\",\"showbackground\":true,\"ticks\":\"\",\"zerolinecolor\":\"white\",\"gridwidth\":2},\"yaxis\":{\"backgroundcolor\":\"#E5ECF6\",\"gridcolor\":\"white\",\"linecolor\":\"white\",\"showbackground\":true,\"ticks\":\"\",\"zerolinecolor\":\"white\",\"gridwidth\":2},\"zaxis\":{\"backgroundcolor\":\"#E5ECF6\",\"gridcolor\":\"white\",\"linecolor\":\"white\",\"showbackground\":true,\"ticks\":\"\",\"zerolinecolor\":\"white\",\"gridwidth\":2}},\"shapedefaults\":{\"line\":{\"color\":\"#2a3f5f\"}},\"annotationdefaults\":{\"arrowcolor\":\"#2a3f5f\",\"arrowhead\":0,\"arrowwidth\":1},\"geo\":{\"bgcolor\":\"white\",\"landcolor\":\"#E5ECF6\",\"subunitcolor\":\"white\",\"showland\":true,\"showlakes\":true,\"lakecolor\":\"white\"},\"title\":{\"x\":0.05},\"mapbox\":{\"style\":\"light\"}}},\"yaxis\":{\"range\":[0.4,1],\"title\":{\"text\":\"Accuracy\"}},\"title\":{\"text\":\"Fold 3's performance\",\"x\":0.5},\"margin\":{\"l\":20,\"r\":20,\"t\":40,\"b\":20},\"xaxis\":{\"title\":{\"text\":\"Epochs\"}},\"autosize\":false,\"width\":800,\"height\":400},                        {\"responsive\": true}                    ).then(function(){\n",
       "                            \n",
       "var gd = document.getElementById('a82e07a9-abda-4aff-951b-aee1b1b2b831');\n",
       "var x = new MutationObserver(function (mutations, observer) {{\n",
       "        var display = window.getComputedStyle(gd).display;\n",
       "        if (!display || display === 'none') {{\n",
       "            console.log([gd, 'removed!']);\n",
       "            Plotly.purge(gd);\n",
       "            observer.disconnect();\n",
       "        }}\n",
       "}});\n",
       "\n",
       "// Listen for the removal of the full notebook cells\n",
       "var notebookContainer = gd.closest('#notebook-container');\n",
       "if (notebookContainer) {{\n",
       "    x.observe(notebookContainer, {childList: true});\n",
       "}}\n",
       "\n",
       "// Listen for the clearing of the current output cell\n",
       "var outputEl = gd.closest('.output');\n",
       "if (outputEl) {{\n",
       "    x.observe(outputEl, {childList: true});\n",
       "}}\n",
       "\n",
       "                        })                };                });            </script>        </div>"
      ]
     },
     "metadata": {},
     "output_type": "display_data"
    },
    {
     "name": "stdout",
     "output_type": "stream",
     "text": [
      "4/4 [==============================] - 1s 95ms/step - loss: 0.7768 - binary_accuracy: 0.9339\n",
      "Found 223 validated image filenames belonging to 2 classes.\n",
      "Found 56 validated image filenames belonging to 2 classes.\n",
      "Epoch 1/30\n",
      "7/7 [==============================] - 15s 583ms/step - loss: 2.3866 - binary_accuracy: 0.7444 - val_loss: 7.6311 - val_binary_accuracy: 0.4464\n",
      "\n",
      "Epoch 00001: val_binary_accuracy improved from -inf to 0.44643, saving model to /kaggle/working/datasets/01_MRI/Saved_CNN_Models/Testing/transfer_learning_model_dense169_2/AugTest/30epochs/transfer_learning_model_dense169_2_model_4.h5\n",
      "Epoch 2/30\n",
      "7/7 [==============================] - 1s 182ms/step - loss: 1.3999 - binary_accuracy: 0.8655 - val_loss: 8.2634 - val_binary_accuracy: 0.4643\n",
      "\n",
      "Epoch 00002: val_binary_accuracy improved from 0.44643 to 0.46429, saving model to /kaggle/working/datasets/01_MRI/Saved_CNN_Models/Testing/transfer_learning_model_dense169_2/AugTest/30epochs/transfer_learning_model_dense169_2_model_4.h5\n",
      "Epoch 3/30\n",
      "7/7 [==============================] - 1s 172ms/step - loss: 1.3270 - binary_accuracy: 0.8924 - val_loss: 8.2634 - val_binary_accuracy: 0.4643\n",
      "\n",
      "Epoch 00003: val_binary_accuracy did not improve from 0.46429\n",
      "Epoch 4/30\n",
      "7/7 [==============================] - 1s 193ms/step - loss: 0.9809 - binary_accuracy: 0.8969 - val_loss: 8.2634 - val_binary_accuracy: 0.4643\n",
      "\n",
      "Epoch 00004: val_binary_accuracy did not improve from 0.46429\n",
      "Epoch 5/30\n",
      "7/7 [==============================] - 1s 174ms/step - loss: 0.5506 - binary_accuracy: 0.9641 - val_loss: 7.6077 - val_binary_accuracy: 0.4821\n",
      "\n",
      "Epoch 00005: val_binary_accuracy improved from 0.46429 to 0.48214, saving model to /kaggle/working/datasets/01_MRI/Saved_CNN_Models/Testing/transfer_learning_model_dense169_2/AugTest/30epochs/transfer_learning_model_dense169_2_model_4.h5\n",
      "Epoch 6/30\n",
      "7/7 [==============================] - 1s 195ms/step - loss: 0.5257 - binary_accuracy: 0.9417 - val_loss: 7.2067 - val_binary_accuracy: 0.5000\n",
      "\n",
      "Epoch 00006: val_binary_accuracy improved from 0.48214 to 0.50000, saving model to /kaggle/working/datasets/01_MRI/Saved_CNN_Models/Testing/transfer_learning_model_dense169_2/AugTest/30epochs/transfer_learning_model_dense169_2_model_4.h5\n",
      "Epoch 7/30\n",
      "7/7 [==============================] - 1s 173ms/step - loss: 0.3285 - binary_accuracy: 0.9686 - val_loss: 6.9442 - val_binary_accuracy: 0.5357\n",
      "\n",
      "Epoch 00007: val_binary_accuracy improved from 0.50000 to 0.53571, saving model to /kaggle/working/datasets/01_MRI/Saved_CNN_Models/Testing/transfer_learning_model_dense169_2/AugTest/30epochs/transfer_learning_model_dense169_2_model_4.h5\n",
      "Epoch 8/30\n",
      "7/7 [==============================] - 1s 178ms/step - loss: 0.2370 - binary_accuracy: 0.9776 - val_loss: 6.9055 - val_binary_accuracy: 0.5357\n",
      "\n",
      "Epoch 00008: val_binary_accuracy did not improve from 0.53571\n",
      "Epoch 9/30\n",
      "7/7 [==============================] - 1s 197ms/step - loss: 0.2129 - binary_accuracy: 0.9776 - val_loss: 6.3727 - val_binary_accuracy: 0.5536\n",
      "\n",
      "Epoch 00009: val_binary_accuracy improved from 0.53571 to 0.55357, saving model to /kaggle/working/datasets/01_MRI/Saved_CNN_Models/Testing/transfer_learning_model_dense169_2/AugTest/30epochs/transfer_learning_model_dense169_2_model_4.h5\n",
      "Epoch 10/30\n",
      "7/7 [==============================] - 1s 200ms/step - loss: 0.1443 - binary_accuracy: 0.9910 - val_loss: 4.9210 - val_binary_accuracy: 0.5714\n",
      "\n",
      "Epoch 00010: val_binary_accuracy improved from 0.55357 to 0.57143, saving model to /kaggle/working/datasets/01_MRI/Saved_CNN_Models/Testing/transfer_learning_model_dense169_2/AugTest/30epochs/transfer_learning_model_dense169_2_model_4.h5\n",
      "Epoch 11/30\n",
      "7/7 [==============================] - 1s 173ms/step - loss: 0.1523 - binary_accuracy: 0.9865 - val_loss: 4.5529 - val_binary_accuracy: 0.6071\n",
      "\n",
      "Epoch 00011: val_binary_accuracy improved from 0.57143 to 0.60714, saving model to /kaggle/working/datasets/01_MRI/Saved_CNN_Models/Testing/transfer_learning_model_dense169_2/AugTest/30epochs/transfer_learning_model_dense169_2_model_4.h5\n",
      "Epoch 12/30\n",
      "7/7 [==============================] - 1s 178ms/step - loss: 0.1503 - binary_accuracy: 0.9865 - val_loss: 3.9911 - val_binary_accuracy: 0.7143\n",
      "\n",
      "Epoch 00012: val_binary_accuracy improved from 0.60714 to 0.71429, saving model to /kaggle/working/datasets/01_MRI/Saved_CNN_Models/Testing/transfer_learning_model_dense169_2/AugTest/30epochs/transfer_learning_model_dense169_2_model_4.h5\n",
      "Epoch 13/30\n",
      "7/7 [==============================] - 1s 176ms/step - loss: 0.0662 - binary_accuracy: 0.9955 - val_loss: 3.6589 - val_binary_accuracy: 0.7143\n",
      "\n",
      "Epoch 00013: val_binary_accuracy did not improve from 0.71429\n",
      "Epoch 14/30\n",
      "7/7 [==============================] - 1s 208ms/step - loss: 0.0760 - binary_accuracy: 0.9910 - val_loss: 2.8636 - val_binary_accuracy: 0.7500\n",
      "\n",
      "Epoch 00014: val_binary_accuracy improved from 0.71429 to 0.75000, saving model to /kaggle/working/datasets/01_MRI/Saved_CNN_Models/Testing/transfer_learning_model_dense169_2/AugTest/30epochs/transfer_learning_model_dense169_2_model_4.h5\n",
      "Epoch 15/30\n",
      "7/7 [==============================] - 1s 173ms/step - loss: 0.0601 - binary_accuracy: 0.9955 - val_loss: 2.5344 - val_binary_accuracy: 0.8036\n",
      "\n",
      "Epoch 00015: val_binary_accuracy improved from 0.75000 to 0.80357, saving model to /kaggle/working/datasets/01_MRI/Saved_CNN_Models/Testing/transfer_learning_model_dense169_2/AugTest/30epochs/transfer_learning_model_dense169_2_model_4.h5\n",
      "Epoch 16/30\n",
      "7/7 [==============================] - 1s 182ms/step - loss: 0.1813 - binary_accuracy: 0.9865 - val_loss: 2.2635 - val_binary_accuracy: 0.8036\n",
      "\n",
      "Epoch 00016: val_binary_accuracy did not improve from 0.80357\n",
      "Epoch 17/30\n",
      "7/7 [==============================] - 1s 211ms/step - loss: 0.0830 - binary_accuracy: 0.9821 - val_loss: 2.2486 - val_binary_accuracy: 0.8214\n",
      "\n",
      "Epoch 00017: val_binary_accuracy improved from 0.80357 to 0.82143, saving model to /kaggle/working/datasets/01_MRI/Saved_CNN_Models/Testing/transfer_learning_model_dense169_2/AugTest/30epochs/transfer_learning_model_dense169_2_model_4.h5\n",
      "Epoch 18/30\n",
      "7/7 [==============================] - 1s 178ms/step - loss: 0.0651 - binary_accuracy: 0.9910 - val_loss: 2.2543 - val_binary_accuracy: 0.8214\n",
      "\n",
      "Epoch 00018: val_binary_accuracy did not improve from 0.82143\n",
      "Epoch 19/30\n",
      "7/7 [==============================] - 1s 175ms/step - loss: 0.0601 - binary_accuracy: 0.9955 - val_loss: 1.7638 - val_binary_accuracy: 0.8214\n",
      "\n",
      "Epoch 00019: val_binary_accuracy did not improve from 0.82143\n",
      "Epoch 20/30\n",
      "7/7 [==============================] - 1s 178ms/step - loss: 0.0181 - binary_accuracy: 0.9910 - val_loss: 1.4517 - val_binary_accuracy: 0.8750\n",
      "\n",
      "Epoch 00020: val_binary_accuracy improved from 0.82143 to 0.87500, saving model to /kaggle/working/datasets/01_MRI/Saved_CNN_Models/Testing/transfer_learning_model_dense169_2/AugTest/30epochs/transfer_learning_model_dense169_2_model_4.h5\n",
      "Epoch 21/30\n",
      "7/7 [==============================] - 1s 176ms/step - loss: 0.0104 - binary_accuracy: 0.9955 - val_loss: 1.4541 - val_binary_accuracy: 0.8750\n",
      "\n",
      "Epoch 00021: val_binary_accuracy did not improve from 0.87500\n",
      "Epoch 22/30\n",
      "7/7 [==============================] - 1s 175ms/step - loss: 0.0000e+00 - binary_accuracy: 1.0000 - val_loss: 1.4705 - val_binary_accuracy: 0.8571\n",
      "\n",
      "Epoch 00022: val_binary_accuracy did not improve from 0.87500\n",
      "Epoch 23/30\n",
      "7/7 [==============================] - 1s 178ms/step - loss: 1.2658e-04 - binary_accuracy: 1.0000 - val_loss: 0.9698 - val_binary_accuracy: 0.8929\n",
      "\n",
      "Epoch 00023: val_binary_accuracy improved from 0.87500 to 0.89286, saving model to /kaggle/working/datasets/01_MRI/Saved_CNN_Models/Testing/transfer_learning_model_dense169_2/AugTest/30epochs/transfer_learning_model_dense169_2_model_4.h5\n",
      "Epoch 24/30\n",
      "7/7 [==============================] - 1s 180ms/step - loss: 0.0000e+00 - binary_accuracy: 1.0000 - val_loss: 0.9100 - val_binary_accuracy: 0.8929\n",
      "\n",
      "Epoch 00024: val_binary_accuracy did not improve from 0.89286\n",
      "Epoch 25/30\n",
      "7/7 [==============================] - 1s 174ms/step - loss: 0.0228 - binary_accuracy: 0.9865 - val_loss: 0.8690 - val_binary_accuracy: 0.9107\n",
      "\n",
      "Epoch 00025: val_binary_accuracy improved from 0.89286 to 0.91071, saving model to /kaggle/working/datasets/01_MRI/Saved_CNN_Models/Testing/transfer_learning_model_dense169_2/AugTest/30epochs/transfer_learning_model_dense169_2_model_4.h5\n",
      "Epoch 26/30\n",
      "7/7 [==============================] - 1s 183ms/step - loss: 0.0048 - binary_accuracy: 1.0000 - val_loss: 0.9174 - val_binary_accuracy: 0.9107\n",
      "\n",
      "Epoch 00026: val_binary_accuracy did not improve from 0.91071\n",
      "Epoch 27/30\n",
      "7/7 [==============================] - 1s 195ms/step - loss: 0.0000e+00 - binary_accuracy: 1.0000 - val_loss: 1.1405 - val_binary_accuracy: 0.8929\n",
      "\n",
      "Epoch 00027: val_binary_accuracy did not improve from 0.91071\n",
      "Epoch 28/30\n",
      "7/7 [==============================] - 1s 179ms/step - loss: 0.0000e+00 - binary_accuracy: 1.0000 - val_loss: 1.1479 - val_binary_accuracy: 0.8929\n",
      "\n",
      "Epoch 00028: val_binary_accuracy did not improve from 0.91071\n",
      "Epoch 29/30\n",
      "7/7 [==============================] - 1s 176ms/step - loss: 0.0076 - binary_accuracy: 0.9910 - val_loss: 1.1500 - val_binary_accuracy: 0.8929\n",
      "\n",
      "Epoch 00029: val_binary_accuracy did not improve from 0.91071\n",
      "Epoch 30/30\n",
      "7/7 [==============================] - 1s 176ms/step - loss: 0.0000e+00 - binary_accuracy: 1.0000 - val_loss: 1.1478 - val_binary_accuracy: 0.8929\n",
      "\n",
      "Epoch 00030: val_binary_accuracy did not improve from 0.91071\n"
     ]
    },
    {
     "data": {
      "text/html": [
       "<div>                            <div id=\"51810f5a-cb52-4305-acd2-89e2b3250d70\" class=\"plotly-graph-div\" style=\"height:400px; width:800px;\"></div>            <script type=\"text/javascript\">                require([\"plotly\"], function(Plotly) {                    window.PLOTLYENV=window.PLOTLYENV || {};                                    if (document.getElementById(\"51810f5a-cb52-4305-acd2-89e2b3250d70\")) {                    Plotly.newPlot(                        \"51810f5a-cb52-4305-acd2-89e2b3250d70\",                        [{\"mode\":\"lines+markers\",\"name\":\"Training Accuracy\",\"y\":[0.7443946003913879,0.865470826625824,0.8923766613006592,0.8968609571456909,0.9641255736351013,0.9417040348052979,0.9686098694801331,0.9775784611701965,0.9775784611701965,0.9910314083099365,0.9865471124649048,0.9865471124649048,0.9955157041549683,0.9910314083099365,0.9955157041549683,0.9865471124649048,0.9820627570152283,0.9910314083099365,0.9955157041549683,0.9910314083099365,0.9955157041549683,1.0,1.0,1.0,0.9865471124649048,1.0,1.0,1.0,0.9910314083099365,1.0],\"type\":\"scatter\"},{\"mode\":\"lines+markers\",\"name\":\"Validation Accuracy\",\"y\":[0.4464285671710968,0.4642857015132904,0.4642857015132904,0.4642857015132904,0.4821428656578064,0.5,0.5357142686843872,0.5357142686843872,0.5535714030265808,0.5714285969734192,0.6071428656578064,0.7142857313156128,0.7142857313156128,0.75,0.8035714030265808,0.8035714030265808,0.8214285969734192,0.8214285969734192,0.8214285969734192,0.875,0.875,0.8571428656578064,0.8928571343421936,0.8928571343421936,0.9107142686843872,0.9107142686843872,0.8928571343421936,0.8928571343421936,0.8928571343421936,0.8928571343421936],\"type\":\"scatter\"}],                        {\"template\":{\"data\":{\"histogram2dcontour\":[{\"type\":\"histogram2dcontour\",\"colorbar\":{\"outlinewidth\":0,\"ticks\":\"\"},\"colorscale\":[[0.0,\"#0d0887\"],[0.1111111111111111,\"#46039f\"],[0.2222222222222222,\"#7201a8\"],[0.3333333333333333,\"#9c179e\"],[0.4444444444444444,\"#bd3786\"],[0.5555555555555556,\"#d8576b\"],[0.6666666666666666,\"#ed7953\"],[0.7777777777777778,\"#fb9f3a\"],[0.8888888888888888,\"#fdca26\"],[1.0,\"#f0f921\"]]}],\"choropleth\":[{\"type\":\"choropleth\",\"colorbar\":{\"outlinewidth\":0,\"ticks\":\"\"}}],\"histogram2d\":[{\"type\":\"histogram2d\",\"colorbar\":{\"outlinewidth\":0,\"ticks\":\"\"},\"colorscale\":[[0.0,\"#0d0887\"],[0.1111111111111111,\"#46039f\"],[0.2222222222222222,\"#7201a8\"],[0.3333333333333333,\"#9c179e\"],[0.4444444444444444,\"#bd3786\"],[0.5555555555555556,\"#d8576b\"],[0.6666666666666666,\"#ed7953\"],[0.7777777777777778,\"#fb9f3a\"],[0.8888888888888888,\"#fdca26\"],[1.0,\"#f0f921\"]]}],\"heatmap\":[{\"type\":\"heatmap\",\"colorbar\":{\"outlinewidth\":0,\"ticks\":\"\"},\"colorscale\":[[0.0,\"#0d0887\"],[0.1111111111111111,\"#46039f\"],[0.2222222222222222,\"#7201a8\"],[0.3333333333333333,\"#9c179e\"],[0.4444444444444444,\"#bd3786\"],[0.5555555555555556,\"#d8576b\"],[0.6666666666666666,\"#ed7953\"],[0.7777777777777778,\"#fb9f3a\"],[0.8888888888888888,\"#fdca26\"],[1.0,\"#f0f921\"]]}],\"heatmapgl\":[{\"type\":\"heatmapgl\",\"colorbar\":{\"outlinewidth\":0,\"ticks\":\"\"},\"colorscale\":[[0.0,\"#0d0887\"],[0.1111111111111111,\"#46039f\"],[0.2222222222222222,\"#7201a8\"],[0.3333333333333333,\"#9c179e\"],[0.4444444444444444,\"#bd3786\"],[0.5555555555555556,\"#d8576b\"],[0.6666666666666666,\"#ed7953\"],[0.7777777777777778,\"#fb9f3a\"],[0.8888888888888888,\"#fdca26\"],[1.0,\"#f0f921\"]]}],\"contourcarpet\":[{\"type\":\"contourcarpet\",\"colorbar\":{\"outlinewidth\":0,\"ticks\":\"\"}}],\"contour\":[{\"type\":\"contour\",\"colorbar\":{\"outlinewidth\":0,\"ticks\":\"\"},\"colorscale\":[[0.0,\"#0d0887\"],[0.1111111111111111,\"#46039f\"],[0.2222222222222222,\"#7201a8\"],[0.3333333333333333,\"#9c179e\"],[0.4444444444444444,\"#bd3786\"],[0.5555555555555556,\"#d8576b\"],[0.6666666666666666,\"#ed7953\"],[0.7777777777777778,\"#fb9f3a\"],[0.8888888888888888,\"#fdca26\"],[1.0,\"#f0f921\"]]}],\"surface\":[{\"type\":\"surface\",\"colorbar\":{\"outlinewidth\":0,\"ticks\":\"\"},\"colorscale\":[[0.0,\"#0d0887\"],[0.1111111111111111,\"#46039f\"],[0.2222222222222222,\"#7201a8\"],[0.3333333333333333,\"#9c179e\"],[0.4444444444444444,\"#bd3786\"],[0.5555555555555556,\"#d8576b\"],[0.6666666666666666,\"#ed7953\"],[0.7777777777777778,\"#fb9f3a\"],[0.8888888888888888,\"#fdca26\"],[1.0,\"#f0f921\"]]}],\"mesh3d\":[{\"type\":\"mesh3d\",\"colorbar\":{\"outlinewidth\":0,\"ticks\":\"\"}}],\"scatter\":[{\"fillpattern\":{\"fillmode\":\"overlay\",\"size\":10,\"solidity\":0.2},\"type\":\"scatter\"}],\"parcoords\":[{\"type\":\"parcoords\",\"line\":{\"colorbar\":{\"outlinewidth\":0,\"ticks\":\"\"}}}],\"scatterpolargl\":[{\"type\":\"scatterpolargl\",\"marker\":{\"colorbar\":{\"outlinewidth\":0,\"ticks\":\"\"}}}],\"bar\":[{\"error_x\":{\"color\":\"#2a3f5f\"},\"error_y\":{\"color\":\"#2a3f5f\"},\"marker\":{\"line\":{\"color\":\"#E5ECF6\",\"width\":0.5},\"pattern\":{\"fillmode\":\"overlay\",\"size\":10,\"solidity\":0.2}},\"type\":\"bar\"}],\"scattergeo\":[{\"type\":\"scattergeo\",\"marker\":{\"colorbar\":{\"outlinewidth\":0,\"ticks\":\"\"}}}],\"scatterpolar\":[{\"type\":\"scatterpolar\",\"marker\":{\"colorbar\":{\"outlinewidth\":0,\"ticks\":\"\"}}}],\"histogram\":[{\"marker\":{\"pattern\":{\"fillmode\":\"overlay\",\"size\":10,\"solidity\":0.2}},\"type\":\"histogram\"}],\"scattergl\":[{\"type\":\"scattergl\",\"marker\":{\"colorbar\":{\"outlinewidth\":0,\"ticks\":\"\"}}}],\"scatter3d\":[{\"type\":\"scatter3d\",\"line\":{\"colorbar\":{\"outlinewidth\":0,\"ticks\":\"\"}},\"marker\":{\"colorbar\":{\"outlinewidth\":0,\"ticks\":\"\"}}}],\"scattermapbox\":[{\"type\":\"scattermapbox\",\"marker\":{\"colorbar\":{\"outlinewidth\":0,\"ticks\":\"\"}}}],\"scatterternary\":[{\"type\":\"scatterternary\",\"marker\":{\"colorbar\":{\"outlinewidth\":0,\"ticks\":\"\"}}}],\"scattercarpet\":[{\"type\":\"scattercarpet\",\"marker\":{\"colorbar\":{\"outlinewidth\":0,\"ticks\":\"\"}}}],\"carpet\":[{\"aaxis\":{\"endlinecolor\":\"#2a3f5f\",\"gridcolor\":\"white\",\"linecolor\":\"white\",\"minorgridcolor\":\"white\",\"startlinecolor\":\"#2a3f5f\"},\"baxis\":{\"endlinecolor\":\"#2a3f5f\",\"gridcolor\":\"white\",\"linecolor\":\"white\",\"minorgridcolor\":\"white\",\"startlinecolor\":\"#2a3f5f\"},\"type\":\"carpet\"}],\"table\":[{\"cells\":{\"fill\":{\"color\":\"#EBF0F8\"},\"line\":{\"color\":\"white\"}},\"header\":{\"fill\":{\"color\":\"#C8D4E3\"},\"line\":{\"color\":\"white\"}},\"type\":\"table\"}],\"barpolar\":[{\"marker\":{\"line\":{\"color\":\"#E5ECF6\",\"width\":0.5},\"pattern\":{\"fillmode\":\"overlay\",\"size\":10,\"solidity\":0.2}},\"type\":\"barpolar\"}],\"pie\":[{\"automargin\":true,\"type\":\"pie\"}]},\"layout\":{\"autotypenumbers\":\"strict\",\"colorway\":[\"#636efa\",\"#EF553B\",\"#00cc96\",\"#ab63fa\",\"#FFA15A\",\"#19d3f3\",\"#FF6692\",\"#B6E880\",\"#FF97FF\",\"#FECB52\"],\"font\":{\"color\":\"#2a3f5f\"},\"hovermode\":\"closest\",\"hoverlabel\":{\"align\":\"left\"},\"paper_bgcolor\":\"white\",\"plot_bgcolor\":\"#E5ECF6\",\"polar\":{\"bgcolor\":\"#E5ECF6\",\"angularaxis\":{\"gridcolor\":\"white\",\"linecolor\":\"white\",\"ticks\":\"\"},\"radialaxis\":{\"gridcolor\":\"white\",\"linecolor\":\"white\",\"ticks\":\"\"}},\"ternary\":{\"bgcolor\":\"#E5ECF6\",\"aaxis\":{\"gridcolor\":\"white\",\"linecolor\":\"white\",\"ticks\":\"\"},\"baxis\":{\"gridcolor\":\"white\",\"linecolor\":\"white\",\"ticks\":\"\"},\"caxis\":{\"gridcolor\":\"white\",\"linecolor\":\"white\",\"ticks\":\"\"}},\"coloraxis\":{\"colorbar\":{\"outlinewidth\":0,\"ticks\":\"\"}},\"colorscale\":{\"sequential\":[[0.0,\"#0d0887\"],[0.1111111111111111,\"#46039f\"],[0.2222222222222222,\"#7201a8\"],[0.3333333333333333,\"#9c179e\"],[0.4444444444444444,\"#bd3786\"],[0.5555555555555556,\"#d8576b\"],[0.6666666666666666,\"#ed7953\"],[0.7777777777777778,\"#fb9f3a\"],[0.8888888888888888,\"#fdca26\"],[1.0,\"#f0f921\"]],\"sequentialminus\":[[0.0,\"#0d0887\"],[0.1111111111111111,\"#46039f\"],[0.2222222222222222,\"#7201a8\"],[0.3333333333333333,\"#9c179e\"],[0.4444444444444444,\"#bd3786\"],[0.5555555555555556,\"#d8576b\"],[0.6666666666666666,\"#ed7953\"],[0.7777777777777778,\"#fb9f3a\"],[0.8888888888888888,\"#fdca26\"],[1.0,\"#f0f921\"]],\"diverging\":[[0,\"#8e0152\"],[0.1,\"#c51b7d\"],[0.2,\"#de77ae\"],[0.3,\"#f1b6da\"],[0.4,\"#fde0ef\"],[0.5,\"#f7f7f7\"],[0.6,\"#e6f5d0\"],[0.7,\"#b8e186\"],[0.8,\"#7fbc41\"],[0.9,\"#4d9221\"],[1,\"#276419\"]]},\"xaxis\":{\"gridcolor\":\"white\",\"linecolor\":\"white\",\"ticks\":\"\",\"title\":{\"standoff\":15},\"zerolinecolor\":\"white\",\"automargin\":true,\"zerolinewidth\":2},\"yaxis\":{\"gridcolor\":\"white\",\"linecolor\":\"white\",\"ticks\":\"\",\"title\":{\"standoff\":15},\"zerolinecolor\":\"white\",\"automargin\":true,\"zerolinewidth\":2},\"scene\":{\"xaxis\":{\"backgroundcolor\":\"#E5ECF6\",\"gridcolor\":\"white\",\"linecolor\":\"white\",\"showbackground\":true,\"ticks\":\"\",\"zerolinecolor\":\"white\",\"gridwidth\":2},\"yaxis\":{\"backgroundcolor\":\"#E5ECF6\",\"gridcolor\":\"white\",\"linecolor\":\"white\",\"showbackground\":true,\"ticks\":\"\",\"zerolinecolor\":\"white\",\"gridwidth\":2},\"zaxis\":{\"backgroundcolor\":\"#E5ECF6\",\"gridcolor\":\"white\",\"linecolor\":\"white\",\"showbackground\":true,\"ticks\":\"\",\"zerolinecolor\":\"white\",\"gridwidth\":2}},\"shapedefaults\":{\"line\":{\"color\":\"#2a3f5f\"}},\"annotationdefaults\":{\"arrowcolor\":\"#2a3f5f\",\"arrowhead\":0,\"arrowwidth\":1},\"geo\":{\"bgcolor\":\"white\",\"landcolor\":\"#E5ECF6\",\"subunitcolor\":\"white\",\"showland\":true,\"showlakes\":true,\"lakecolor\":\"white\"},\"title\":{\"x\":0.05},\"mapbox\":{\"style\":\"light\"}}},\"yaxis\":{\"range\":[0.4,1],\"title\":{\"text\":\"Accuracy\"}},\"title\":{\"text\":\"Fold 4's performance\",\"x\":0.5},\"margin\":{\"l\":20,\"r\":20,\"t\":40,\"b\":20},\"xaxis\":{\"title\":{\"text\":\"Epochs\"}},\"autosize\":false,\"width\":800,\"height\":400},                        {\"responsive\": true}                    ).then(function(){\n",
       "                            \n",
       "var gd = document.getElementById('51810f5a-cb52-4305-acd2-89e2b3250d70');\n",
       "var x = new MutationObserver(function (mutations, observer) {{\n",
       "        var display = window.getComputedStyle(gd).display;\n",
       "        if (!display || display === 'none') {{\n",
       "            console.log([gd, 'removed!']);\n",
       "            Plotly.purge(gd);\n",
       "            observer.disconnect();\n",
       "        }}\n",
       "}});\n",
       "\n",
       "// Listen for the removal of the full notebook cells\n",
       "var notebookContainer = gd.closest('#notebook-container');\n",
       "if (notebookContainer) {{\n",
       "    x.observe(notebookContainer, {childList: true});\n",
       "}}\n",
       "\n",
       "// Listen for the clearing of the current output cell\n",
       "var outputEl = gd.closest('.output');\n",
       "if (outputEl) {{\n",
       "    x.observe(outputEl, {childList: true});\n",
       "}}\n",
       "\n",
       "                        })                };                });            </script>        </div>"
      ]
     },
     "metadata": {},
     "output_type": "display_data"
    },
    {
     "name": "stdout",
     "output_type": "stream",
     "text": [
      "4/4 [==============================] - 1s 115ms/step - loss: 0.6804 - binary_accuracy: 0.9256\n",
      "Found 224 validated image filenames belonging to 2 classes.\n",
      "Found 55 validated image filenames belonging to 2 classes.\n",
      "Epoch 1/30\n",
      "7/7 [==============================] - 15s 677ms/step - loss: 7.7244 - binary_accuracy: 0.4241 - val_loss: 8.2530 - val_binary_accuracy: 0.4182\n",
      "\n",
      "Epoch 00001: val_binary_accuracy improved from -inf to 0.41818, saving model to /kaggle/working/datasets/01_MRI/Saved_CNN_Models/Testing/transfer_learning_model_dense169_2/AugTest/30epochs/transfer_learning_model_dense169_2_model_5.h5\n",
      "Epoch 2/30\n",
      "7/7 [==============================] - 1s 177ms/step - loss: 7.7244 - binary_accuracy: 0.4241 - val_loss: 8.2620 - val_binary_accuracy: 0.4182\n",
      "\n",
      "Epoch 00002: val_binary_accuracy did not improve from 0.41818\n",
      "Epoch 3/30\n",
      "7/7 [==============================] - 1s 178ms/step - loss: 7.7244 - binary_accuracy: 0.4241 - val_loss: 8.2789 - val_binary_accuracy: 0.4182\n",
      "\n",
      "Epoch 00003: val_binary_accuracy did not improve from 0.41818\n",
      "Epoch 4/30\n",
      "7/7 [==============================] - 1s 183ms/step - loss: 7.7244 - binary_accuracy: 0.4241 - val_loss: 8.3511 - val_binary_accuracy: 0.4182\n",
      "\n",
      "Epoch 00004: val_binary_accuracy did not improve from 0.41818\n",
      "Epoch 5/30\n",
      "7/7 [==============================] - 1s 174ms/step - loss: 7.7244 - binary_accuracy: 0.4241 - val_loss: 8.7408 - val_binary_accuracy: 0.4182\n",
      "\n",
      "Epoch 00005: val_binary_accuracy did not improve from 0.41818\n",
      "Epoch 6/30\n",
      "7/7 [==============================] - 1s 173ms/step - loss: 7.7245 - binary_accuracy: 0.4241 - val_loss: 8.7511 - val_binary_accuracy: 0.4182\n",
      "\n",
      "Epoch 00006: val_binary_accuracy did not improve from 0.41818\n",
      "Epoch 7/30\n",
      "7/7 [==============================] - 1s 180ms/step - loss: 7.7244 - binary_accuracy: 0.4241 - val_loss: 8.9745 - val_binary_accuracy: 0.4182\n",
      "\n",
      "Epoch 00007: val_binary_accuracy did not improve from 0.41818\n",
      "Epoch 8/30\n",
      "7/7 [==============================] - 1s 179ms/step - loss: 7.7245 - binary_accuracy: 0.4241 - val_loss: 8.9745 - val_binary_accuracy: 0.4182\n",
      "\n",
      "Epoch 00008: val_binary_accuracy did not improve from 0.41818\n",
      "Epoch 9/30\n",
      "7/7 [==============================] - 1s 197ms/step - loss: 7.7244 - binary_accuracy: 0.4241 - val_loss: 8.9745 - val_binary_accuracy: 0.4182\n",
      "\n",
      "Epoch 00009: val_binary_accuracy did not improve from 0.41818\n",
      "Epoch 10/30\n",
      "7/7 [==============================] - 1s 179ms/step - loss: 7.7245 - binary_accuracy: 0.4241 - val_loss: 8.9745 - val_binary_accuracy: 0.4182\n",
      "\n",
      "Epoch 00010: val_binary_accuracy did not improve from 0.41818\n",
      "Epoch 11/30\n",
      "7/7 [==============================] - 2s 225ms/step - loss: 7.7249 - binary_accuracy: 0.4241 - val_loss: 5.0234 - val_binary_accuracy: 0.3636\n",
      "\n",
      "Epoch 00011: val_binary_accuracy did not improve from 0.41818\n",
      "Epoch 12/30\n",
      "7/7 [==============================] - 1s 174ms/step - loss: 7.1999 - binary_accuracy: 0.4554 - val_loss: 8.9745 - val_binary_accuracy: 0.4182\n",
      "\n",
      "Epoch 00012: val_binary_accuracy did not improve from 0.41818\n",
      "Epoch 13/30\n",
      "7/7 [==============================] - 1s 170ms/step - loss: 5.6993 - binary_accuracy: 0.5580 - val_loss: 8.9745 - val_binary_accuracy: 0.4182\n",
      "\n",
      "Epoch 00013: val_binary_accuracy did not improve from 0.41818\n",
      "Epoch 14/30\n",
      "7/7 [==============================] - 1s 176ms/step - loss: 3.5704 - binary_accuracy: 0.7232 - val_loss: 8.9745 - val_binary_accuracy: 0.4182\n",
      "\n",
      "Epoch 00014: val_binary_accuracy did not improve from 0.41818\n",
      "Epoch 15/30\n",
      "7/7 [==============================] - 1s 185ms/step - loss: 2.2868 - binary_accuracy: 0.8170 - val_loss: 8.6941 - val_binary_accuracy: 0.4364\n",
      "\n",
      "Epoch 00015: val_binary_accuracy improved from 0.41818 to 0.43636, saving model to /kaggle/working/datasets/01_MRI/Saved_CNN_Models/Testing/transfer_learning_model_dense169_2/AugTest/30epochs/transfer_learning_model_dense169_2_model_5.h5\n",
      "Epoch 16/30\n",
      "7/7 [==============================] - 1s 171ms/step - loss: 1.7172 - binary_accuracy: 0.8616 - val_loss: 8.6941 - val_binary_accuracy: 0.4364\n",
      "\n",
      "Epoch 00016: val_binary_accuracy did not improve from 0.43636\n",
      "Epoch 17/30\n",
      "7/7 [==============================] - 1s 176ms/step - loss: 1.2999 - binary_accuracy: 0.8884 - val_loss: 8.6941 - val_binary_accuracy: 0.4364\n",
      "\n",
      "Epoch 00017: val_binary_accuracy did not improve from 0.43636\n",
      "Epoch 18/30\n",
      "7/7 [==============================] - 1s 173ms/step - loss: 0.9495 - binary_accuracy: 0.9286 - val_loss: 7.8753 - val_binary_accuracy: 0.4909\n",
      "\n",
      "Epoch 00018: val_binary_accuracy improved from 0.43636 to 0.49091, saving model to /kaggle/working/datasets/01_MRI/Saved_CNN_Models/Testing/transfer_learning_model_dense169_2/AugTest/30epochs/transfer_learning_model_dense169_2_model_5.h5\n",
      "Epoch 19/30\n",
      "7/7 [==============================] - 1s 173ms/step - loss: 0.7686 - binary_accuracy: 0.9420 - val_loss: 6.5148 - val_binary_accuracy: 0.5455\n",
      "\n",
      "Epoch 00019: val_binary_accuracy improved from 0.49091 to 0.54545, saving model to /kaggle/working/datasets/01_MRI/Saved_CNN_Models/Testing/transfer_learning_model_dense169_2/AugTest/30epochs/transfer_learning_model_dense169_2_model_5.h5\n",
      "Epoch 20/30\n",
      "7/7 [==============================] - 2s 224ms/step - loss: 0.4686 - binary_accuracy: 0.9509 - val_loss: 5.6159 - val_binary_accuracy: 0.6364\n",
      "\n",
      "Epoch 00020: val_binary_accuracy improved from 0.54545 to 0.63636, saving model to /kaggle/working/datasets/01_MRI/Saved_CNN_Models/Testing/transfer_learning_model_dense169_2/AugTest/30epochs/transfer_learning_model_dense169_2_model_5.h5\n",
      "Epoch 21/30\n",
      "7/7 [==============================] - 1s 175ms/step - loss: 0.2764 - binary_accuracy: 0.9777 - val_loss: 7.9101 - val_binary_accuracy: 0.4727\n",
      "\n",
      "Epoch 00021: val_binary_accuracy did not improve from 0.63636\n",
      "Epoch 22/30\n",
      "7/7 [==============================] - 1s 171ms/step - loss: 1.6438 - binary_accuracy: 0.8973 - val_loss: 7.3312 - val_binary_accuracy: 0.5091\n",
      "\n",
      "Epoch 00022: val_binary_accuracy did not improve from 0.63636\n",
      "Epoch 23/30\n",
      "7/7 [==============================] - 1s 175ms/step - loss: 1.5289 - binary_accuracy: 0.8973 - val_loss: 6.7737 - val_binary_accuracy: 0.5455\n",
      "\n",
      "Epoch 00023: val_binary_accuracy did not improve from 0.63636\n",
      "Epoch 24/30\n",
      "7/7 [==============================] - 1s 174ms/step - loss: 1.1039 - binary_accuracy: 0.9330 - val_loss: 6.4805 - val_binary_accuracy: 0.5636\n",
      "\n",
      "Epoch 00024: val_binary_accuracy did not improve from 0.63636\n",
      "Epoch 25/30\n",
      "7/7 [==============================] - 1s 177ms/step - loss: 0.6678 - binary_accuracy: 0.9554 - val_loss: 5.9308 - val_binary_accuracy: 0.6000\n",
      "\n",
      "Epoch 00025: val_binary_accuracy did not improve from 0.63636\n",
      "Epoch 26/30\n",
      "7/7 [==============================] - 1s 181ms/step - loss: 0.6566 - binary_accuracy: 0.9509 - val_loss: 6.4676 - val_binary_accuracy: 0.5636\n",
      "\n",
      "Epoch 00026: val_binary_accuracy did not improve from 0.63636\n",
      "Epoch 27/30\n",
      "7/7 [==============================] - 1s 178ms/step - loss: 0.6278 - binary_accuracy: 0.9598 - val_loss: 6.4504 - val_binary_accuracy: 0.5818\n",
      "\n",
      "Epoch 00027: val_binary_accuracy did not improve from 0.63636\n",
      "Epoch 28/30\n",
      "7/7 [==============================] - 1s 175ms/step - loss: 1.1478 - binary_accuracy: 0.9286 - val_loss: 6.1720 - val_binary_accuracy: 0.6000\n",
      "\n",
      "Epoch 00028: val_binary_accuracy did not improve from 0.63636\n",
      "Epoch 29/30\n",
      "7/7 [==============================] - 1s 171ms/step - loss: 0.8482 - binary_accuracy: 0.9375 - val_loss: 5.4268 - val_binary_accuracy: 0.6182\n",
      "\n",
      "Epoch 00029: val_binary_accuracy did not improve from 0.63636\n",
      "Epoch 30/30\n",
      "7/7 [==============================] - 1s 176ms/step - loss: 1.0998 - binary_accuracy: 0.9018 - val_loss: 5.3286 - val_binary_accuracy: 0.6545\n",
      "\n",
      "Epoch 00030: val_binary_accuracy improved from 0.63636 to 0.65455, saving model to /kaggle/working/datasets/01_MRI/Saved_CNN_Models/Testing/transfer_learning_model_dense169_2/AugTest/30epochs/transfer_learning_model_dense169_2_model_5.h5\n"
     ]
    },
    {
     "data": {
      "text/html": [
       "<div>                            <div id=\"6068e4e1-ab13-4c49-aed8-b8e95a0ff31c\" class=\"plotly-graph-div\" style=\"height:400px; width:800px;\"></div>            <script type=\"text/javascript\">                require([\"plotly\"], function(Plotly) {                    window.PLOTLYENV=window.PLOTLYENV || {};                                    if (document.getElementById(\"6068e4e1-ab13-4c49-aed8-b8e95a0ff31c\")) {                    Plotly.newPlot(                        \"6068e4e1-ab13-4c49-aed8-b8e95a0ff31c\",                        [{\"mode\":\"lines+markers\",\"name\":\"Training Accuracy\",\"y\":[0.4241071343421936,0.4241071343421936,0.4241071343421936,0.4241071343421936,0.4241071343421936,0.4241071343421936,0.4241071343421936,0.4241071343421936,0.4241071343421936,0.4241071343421936,0.4241071343421936,0.4553571343421936,0.5580357313156128,0.7232142686843872,0.8169642686843872,0.8616071343421936,0.8883928656578064,0.9285714030265808,0.9419642686843872,0.9508928656578064,0.9776785969734192,0.8973214030265808,0.8973214030265808,0.9330357313156128,0.9553571343421936,0.9508928656578064,0.9598214030265808,0.9285714030265808,0.9375,0.9017857313156128],\"type\":\"scatter\"},{\"mode\":\"lines+markers\",\"name\":\"Validation Accuracy\",\"y\":[0.41818180680274963,0.41818180680274963,0.41818180680274963,0.41818180680274963,0.41818180680274963,0.41818180680274963,0.41818180680274963,0.41818180680274963,0.41818180680274963,0.41818180680274963,0.3636363744735718,0.41818180680274963,0.41818180680274963,0.41818180680274963,0.4363636374473572,0.4363636374473572,0.4363636374473572,0.4909090995788574,0.5454545617103577,0.6363636255264282,0.4727272689342499,0.5090909004211426,0.5454545617103577,0.5636363625526428,0.6000000238418579,0.5636363625526428,0.581818163394928,0.6000000238418579,0.6181818246841431,0.6545454263687134],\"type\":\"scatter\"}],                        {\"template\":{\"data\":{\"histogram2dcontour\":[{\"type\":\"histogram2dcontour\",\"colorbar\":{\"outlinewidth\":0,\"ticks\":\"\"},\"colorscale\":[[0.0,\"#0d0887\"],[0.1111111111111111,\"#46039f\"],[0.2222222222222222,\"#7201a8\"],[0.3333333333333333,\"#9c179e\"],[0.4444444444444444,\"#bd3786\"],[0.5555555555555556,\"#d8576b\"],[0.6666666666666666,\"#ed7953\"],[0.7777777777777778,\"#fb9f3a\"],[0.8888888888888888,\"#fdca26\"],[1.0,\"#f0f921\"]]}],\"choropleth\":[{\"type\":\"choropleth\",\"colorbar\":{\"outlinewidth\":0,\"ticks\":\"\"}}],\"histogram2d\":[{\"type\":\"histogram2d\",\"colorbar\":{\"outlinewidth\":0,\"ticks\":\"\"},\"colorscale\":[[0.0,\"#0d0887\"],[0.1111111111111111,\"#46039f\"],[0.2222222222222222,\"#7201a8\"],[0.3333333333333333,\"#9c179e\"],[0.4444444444444444,\"#bd3786\"],[0.5555555555555556,\"#d8576b\"],[0.6666666666666666,\"#ed7953\"],[0.7777777777777778,\"#fb9f3a\"],[0.8888888888888888,\"#fdca26\"],[1.0,\"#f0f921\"]]}],\"heatmap\":[{\"type\":\"heatmap\",\"colorbar\":{\"outlinewidth\":0,\"ticks\":\"\"},\"colorscale\":[[0.0,\"#0d0887\"],[0.1111111111111111,\"#46039f\"],[0.2222222222222222,\"#7201a8\"],[0.3333333333333333,\"#9c179e\"],[0.4444444444444444,\"#bd3786\"],[0.5555555555555556,\"#d8576b\"],[0.6666666666666666,\"#ed7953\"],[0.7777777777777778,\"#fb9f3a\"],[0.8888888888888888,\"#fdca26\"],[1.0,\"#f0f921\"]]}],\"heatmapgl\":[{\"type\":\"heatmapgl\",\"colorbar\":{\"outlinewidth\":0,\"ticks\":\"\"},\"colorscale\":[[0.0,\"#0d0887\"],[0.1111111111111111,\"#46039f\"],[0.2222222222222222,\"#7201a8\"],[0.3333333333333333,\"#9c179e\"],[0.4444444444444444,\"#bd3786\"],[0.5555555555555556,\"#d8576b\"],[0.6666666666666666,\"#ed7953\"],[0.7777777777777778,\"#fb9f3a\"],[0.8888888888888888,\"#fdca26\"],[1.0,\"#f0f921\"]]}],\"contourcarpet\":[{\"type\":\"contourcarpet\",\"colorbar\":{\"outlinewidth\":0,\"ticks\":\"\"}}],\"contour\":[{\"type\":\"contour\",\"colorbar\":{\"outlinewidth\":0,\"ticks\":\"\"},\"colorscale\":[[0.0,\"#0d0887\"],[0.1111111111111111,\"#46039f\"],[0.2222222222222222,\"#7201a8\"],[0.3333333333333333,\"#9c179e\"],[0.4444444444444444,\"#bd3786\"],[0.5555555555555556,\"#d8576b\"],[0.6666666666666666,\"#ed7953\"],[0.7777777777777778,\"#fb9f3a\"],[0.8888888888888888,\"#fdca26\"],[1.0,\"#f0f921\"]]}],\"surface\":[{\"type\":\"surface\",\"colorbar\":{\"outlinewidth\":0,\"ticks\":\"\"},\"colorscale\":[[0.0,\"#0d0887\"],[0.1111111111111111,\"#46039f\"],[0.2222222222222222,\"#7201a8\"],[0.3333333333333333,\"#9c179e\"],[0.4444444444444444,\"#bd3786\"],[0.5555555555555556,\"#d8576b\"],[0.6666666666666666,\"#ed7953\"],[0.7777777777777778,\"#fb9f3a\"],[0.8888888888888888,\"#fdca26\"],[1.0,\"#f0f921\"]]}],\"mesh3d\":[{\"type\":\"mesh3d\",\"colorbar\":{\"outlinewidth\":0,\"ticks\":\"\"}}],\"scatter\":[{\"fillpattern\":{\"fillmode\":\"overlay\",\"size\":10,\"solidity\":0.2},\"type\":\"scatter\"}],\"parcoords\":[{\"type\":\"parcoords\",\"line\":{\"colorbar\":{\"outlinewidth\":0,\"ticks\":\"\"}}}],\"scatterpolargl\":[{\"type\":\"scatterpolargl\",\"marker\":{\"colorbar\":{\"outlinewidth\":0,\"ticks\":\"\"}}}],\"bar\":[{\"error_x\":{\"color\":\"#2a3f5f\"},\"error_y\":{\"color\":\"#2a3f5f\"},\"marker\":{\"line\":{\"color\":\"#E5ECF6\",\"width\":0.5},\"pattern\":{\"fillmode\":\"overlay\",\"size\":10,\"solidity\":0.2}},\"type\":\"bar\"}],\"scattergeo\":[{\"type\":\"scattergeo\",\"marker\":{\"colorbar\":{\"outlinewidth\":0,\"ticks\":\"\"}}}],\"scatterpolar\":[{\"type\":\"scatterpolar\",\"marker\":{\"colorbar\":{\"outlinewidth\":0,\"ticks\":\"\"}}}],\"histogram\":[{\"marker\":{\"pattern\":{\"fillmode\":\"overlay\",\"size\":10,\"solidity\":0.2}},\"type\":\"histogram\"}],\"scattergl\":[{\"type\":\"scattergl\",\"marker\":{\"colorbar\":{\"outlinewidth\":0,\"ticks\":\"\"}}}],\"scatter3d\":[{\"type\":\"scatter3d\",\"line\":{\"colorbar\":{\"outlinewidth\":0,\"ticks\":\"\"}},\"marker\":{\"colorbar\":{\"outlinewidth\":0,\"ticks\":\"\"}}}],\"scattermapbox\":[{\"type\":\"scattermapbox\",\"marker\":{\"colorbar\":{\"outlinewidth\":0,\"ticks\":\"\"}}}],\"scatterternary\":[{\"type\":\"scatterternary\",\"marker\":{\"colorbar\":{\"outlinewidth\":0,\"ticks\":\"\"}}}],\"scattercarpet\":[{\"type\":\"scattercarpet\",\"marker\":{\"colorbar\":{\"outlinewidth\":0,\"ticks\":\"\"}}}],\"carpet\":[{\"aaxis\":{\"endlinecolor\":\"#2a3f5f\",\"gridcolor\":\"white\",\"linecolor\":\"white\",\"minorgridcolor\":\"white\",\"startlinecolor\":\"#2a3f5f\"},\"baxis\":{\"endlinecolor\":\"#2a3f5f\",\"gridcolor\":\"white\",\"linecolor\":\"white\",\"minorgridcolor\":\"white\",\"startlinecolor\":\"#2a3f5f\"},\"type\":\"carpet\"}],\"table\":[{\"cells\":{\"fill\":{\"color\":\"#EBF0F8\"},\"line\":{\"color\":\"white\"}},\"header\":{\"fill\":{\"color\":\"#C8D4E3\"},\"line\":{\"color\":\"white\"}},\"type\":\"table\"}],\"barpolar\":[{\"marker\":{\"line\":{\"color\":\"#E5ECF6\",\"width\":0.5},\"pattern\":{\"fillmode\":\"overlay\",\"size\":10,\"solidity\":0.2}},\"type\":\"barpolar\"}],\"pie\":[{\"automargin\":true,\"type\":\"pie\"}]},\"layout\":{\"autotypenumbers\":\"strict\",\"colorway\":[\"#636efa\",\"#EF553B\",\"#00cc96\",\"#ab63fa\",\"#FFA15A\",\"#19d3f3\",\"#FF6692\",\"#B6E880\",\"#FF97FF\",\"#FECB52\"],\"font\":{\"color\":\"#2a3f5f\"},\"hovermode\":\"closest\",\"hoverlabel\":{\"align\":\"left\"},\"paper_bgcolor\":\"white\",\"plot_bgcolor\":\"#E5ECF6\",\"polar\":{\"bgcolor\":\"#E5ECF6\",\"angularaxis\":{\"gridcolor\":\"white\",\"linecolor\":\"white\",\"ticks\":\"\"},\"radialaxis\":{\"gridcolor\":\"white\",\"linecolor\":\"white\",\"ticks\":\"\"}},\"ternary\":{\"bgcolor\":\"#E5ECF6\",\"aaxis\":{\"gridcolor\":\"white\",\"linecolor\":\"white\",\"ticks\":\"\"},\"baxis\":{\"gridcolor\":\"white\",\"linecolor\":\"white\",\"ticks\":\"\"},\"caxis\":{\"gridcolor\":\"white\",\"linecolor\":\"white\",\"ticks\":\"\"}},\"coloraxis\":{\"colorbar\":{\"outlinewidth\":0,\"ticks\":\"\"}},\"colorscale\":{\"sequential\":[[0.0,\"#0d0887\"],[0.1111111111111111,\"#46039f\"],[0.2222222222222222,\"#7201a8\"],[0.3333333333333333,\"#9c179e\"],[0.4444444444444444,\"#bd3786\"],[0.5555555555555556,\"#d8576b\"],[0.6666666666666666,\"#ed7953\"],[0.7777777777777778,\"#fb9f3a\"],[0.8888888888888888,\"#fdca26\"],[1.0,\"#f0f921\"]],\"sequentialminus\":[[0.0,\"#0d0887\"],[0.1111111111111111,\"#46039f\"],[0.2222222222222222,\"#7201a8\"],[0.3333333333333333,\"#9c179e\"],[0.4444444444444444,\"#bd3786\"],[0.5555555555555556,\"#d8576b\"],[0.6666666666666666,\"#ed7953\"],[0.7777777777777778,\"#fb9f3a\"],[0.8888888888888888,\"#fdca26\"],[1.0,\"#f0f921\"]],\"diverging\":[[0,\"#8e0152\"],[0.1,\"#c51b7d\"],[0.2,\"#de77ae\"],[0.3,\"#f1b6da\"],[0.4,\"#fde0ef\"],[0.5,\"#f7f7f7\"],[0.6,\"#e6f5d0\"],[0.7,\"#b8e186\"],[0.8,\"#7fbc41\"],[0.9,\"#4d9221\"],[1,\"#276419\"]]},\"xaxis\":{\"gridcolor\":\"white\",\"linecolor\":\"white\",\"ticks\":\"\",\"title\":{\"standoff\":15},\"zerolinecolor\":\"white\",\"automargin\":true,\"zerolinewidth\":2},\"yaxis\":{\"gridcolor\":\"white\",\"linecolor\":\"white\",\"ticks\":\"\",\"title\":{\"standoff\":15},\"zerolinecolor\":\"white\",\"automargin\":true,\"zerolinewidth\":2},\"scene\":{\"xaxis\":{\"backgroundcolor\":\"#E5ECF6\",\"gridcolor\":\"white\",\"linecolor\":\"white\",\"showbackground\":true,\"ticks\":\"\",\"zerolinecolor\":\"white\",\"gridwidth\":2},\"yaxis\":{\"backgroundcolor\":\"#E5ECF6\",\"gridcolor\":\"white\",\"linecolor\":\"white\",\"showbackground\":true,\"ticks\":\"\",\"zerolinecolor\":\"white\",\"gridwidth\":2},\"zaxis\":{\"backgroundcolor\":\"#E5ECF6\",\"gridcolor\":\"white\",\"linecolor\":\"white\",\"showbackground\":true,\"ticks\":\"\",\"zerolinecolor\":\"white\",\"gridwidth\":2}},\"shapedefaults\":{\"line\":{\"color\":\"#2a3f5f\"}},\"annotationdefaults\":{\"arrowcolor\":\"#2a3f5f\",\"arrowhead\":0,\"arrowwidth\":1},\"geo\":{\"bgcolor\":\"white\",\"landcolor\":\"#E5ECF6\",\"subunitcolor\":\"white\",\"showland\":true,\"showlakes\":true,\"lakecolor\":\"white\"},\"title\":{\"x\":0.05},\"mapbox\":{\"style\":\"light\"}}},\"yaxis\":{\"range\":[0.4,1],\"title\":{\"text\":\"Accuracy\"}},\"title\":{\"text\":\"Fold 5's performance\",\"x\":0.5},\"margin\":{\"l\":20,\"r\":20,\"t\":40,\"b\":20},\"xaxis\":{\"title\":{\"text\":\"Epochs\"}},\"autosize\":false,\"width\":800,\"height\":400},                        {\"responsive\": true}                    ).then(function(){\n",
       "                            \n",
       "var gd = document.getElementById('6068e4e1-ab13-4c49-aed8-b8e95a0ff31c');\n",
       "var x = new MutationObserver(function (mutations, observer) {{\n",
       "        var display = window.getComputedStyle(gd).display;\n",
       "        if (!display || display === 'none') {{\n",
       "            console.log([gd, 'removed!']);\n",
       "            Plotly.purge(gd);\n",
       "            observer.disconnect();\n",
       "        }}\n",
       "}});\n",
       "\n",
       "// Listen for the removal of the full notebook cells\n",
       "var notebookContainer = gd.closest('#notebook-container');\n",
       "if (notebookContainer) {{\n",
       "    x.observe(notebookContainer, {childList: true});\n",
       "}}\n",
       "\n",
       "// Listen for the clearing of the current output cell\n",
       "var outputEl = gd.closest('.output');\n",
       "if (outputEl) {{\n",
       "    x.observe(outputEl, {childList: true});\n",
       "}}\n",
       "\n",
       "                        })                };                });            </script>        </div>"
      ]
     },
     "metadata": {},
     "output_type": "display_data"
    },
    {
     "name": "stdout",
     "output_type": "stream",
     "text": [
      "4/4 [==============================] - 1s 112ms/step - loss: 5.9413 - binary_accuracy: 0.5785\n"
     ]
    }
   ],
   "source": [
    "model_test(5, 30, transfer_learning_model_dense169_2, (256,256))"
   ]
  }
 ],
 "metadata": {
  "kernelspec": {
   "display_name": "Python 3",
   "language": "python",
   "name": "python3"
  },
  "language_info": {
   "codemirror_mode": {
    "name": "ipython",
    "version": 3
   },
   "file_extension": ".py",
   "mimetype": "text/x-python",
   "name": "python",
   "nbconvert_exporter": "python",
   "pygments_lexer": "ipython3",
   "version": "3.7.12"
  },
  "papermill": {
   "default_parameters": {},
   "duration": 486.601711,
   "end_time": "2022-05-10T17:25:53.628003",
   "environment_variables": {},
   "exception": null,
   "input_path": "__notebook__.ipynb",
   "output_path": "__notebook__.ipynb",
   "parameters": {},
   "start_time": "2022-05-10T17:17:47.026292",
   "version": "2.3.4"
  }
 },
 "nbformat": 4,
 "nbformat_minor": 5
}
