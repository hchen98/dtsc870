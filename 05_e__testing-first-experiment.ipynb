{
 "cells": [
  {
   "cell_type": "code",
   "execution_count": 1,
   "id": "233ebcdf",
   "metadata": {
    "_cell_guid": "b1076dfc-b9ad-4769-8c92-a6c4dae69d19",
    "_uuid": "8f2839f25d086af736a60e9eeb907d3b93b6e0e5",
    "execution": {
     "iopub.execute_input": "2022-04-09T20:06:43.782857Z",
     "iopub.status.busy": "2022-04-09T20:06:43.782209Z",
     "iopub.status.idle": "2022-04-09T20:06:43.787020Z",
     "shell.execute_reply": "2022-04-09T20:06:43.787877Z"
    },
    "papermill": {
     "duration": 0.039937,
     "end_time": "2022-04-09T20:06:43.788136",
     "exception": false,
     "start_time": "2022-04-09T20:06:43.748199",
     "status": "completed"
    },
    "tags": []
   },
   "outputs": [],
   "source": [
    "# This Python 3 environment comes with many helpful analytics libraries installed\n",
    "# It is defined by the kaggle/python Docker image: https://github.com/kaggle/docker-python\n",
    "# For example, here's several helpful packages to load\n",
    "\n",
    "import numpy as np # linear algebra\n",
    "import pandas as pd # data processing, CSV file I/O (e.g. pd.read_csv)\n",
    "\n",
    "# Input data files are available in the read-only \"../input/\" directory\n",
    "# For example, running this (by clicking run or pressing Shift+Enter) will list all files under the input directory\n",
    "\n",
    "import os\n",
    "#for dirname, _, filenames in os.walk('/kaggle/input'):\n",
    " #   for filename in filenames:\n",
    "  #      print(os.path.join(dirname, filename))\n",
    "\n",
    "# You can write up to 20GB to the current directory (/kaggle/working/) that gets preserved as output when you create a version using \"Save & Run All\" \n",
    "# You can also write temporary files to /kaggle/temp/, but they won't be saved outside of the current session"
   ]
  },
  {
   "cell_type": "code",
   "execution_count": 2,
   "id": "c6880538",
   "metadata": {
    "execution": {
     "iopub.execute_input": "2022-04-09T20:06:43.829043Z",
     "iopub.status.busy": "2022-04-09T20:06:43.828162Z",
     "iopub.status.idle": "2022-04-09T20:06:56.883040Z",
     "shell.execute_reply": "2022-04-09T20:06:56.882175Z",
     "shell.execute_reply.started": "2022-04-09T14:20:24.065772Z"
    },
    "papermill": {
     "duration": 13.075841,
     "end_time": "2022-04-09T20:06:56.883176",
     "exception": false,
     "start_time": "2022-04-09T20:06:43.807335",
     "status": "completed"
    },
    "tags": []
   },
   "outputs": [
    {
     "name": "stdout",
     "output_type": "stream",
     "text": [
      "Collecting kaleido\r\n",
      "  Downloading kaleido-0.2.1-py2.py3-none-manylinux1_x86_64.whl (79.9 MB)\r\n",
      "     |████████████████████████████████| 79.9 MB 76.5 MB/s            \r\n",
      "\u001b[?25hInstalling collected packages: kaleido\r\n",
      "Successfully installed kaleido-0.2.1\r\n",
      "\u001b[33mWARNING: Running pip as the 'root' user can result in broken permissions and conflicting behaviour with the system package manager. It is recommended to use a virtual environment instead: https://pip.pypa.io/warnings/venv\u001b[0m\r\n"
     ]
    }
   ],
   "source": [
    "!pip install kaleido"
   ]
  },
  {
   "cell_type": "code",
   "execution_count": 3,
   "id": "99b7668b",
   "metadata": {
    "execution": {
     "iopub.execute_input": "2022-04-09T20:06:56.973754Z",
     "iopub.status.busy": "2022-04-09T20:06:56.972938Z",
     "iopub.status.idle": "2022-04-09T20:07:02.693888Z",
     "shell.execute_reply": "2022-04-09T20:07:02.693371Z",
     "shell.execute_reply.started": "2022-04-09T14:20:52.876215Z"
    },
    "papermill": {
     "duration": 5.769113,
     "end_time": "2022-04-09T20:07:02.694029",
     "exception": false,
     "start_time": "2022-04-09T20:06:56.924916",
     "status": "completed"
    },
    "tags": []
   },
   "outputs": [],
   "source": [
    "import pandas as pd\n",
    "import numpy as np\n",
    "import matplotlib.pyplot as plt\n",
    "import tensorflow as tf\n",
    "import tensorflow.keras.backend as K\n",
    "from tensorflow.keras.preprocessing.image import ImageDataGenerator\n",
    "from tensorflow.keras.models import Sequential\n",
    "from tensorflow.keras import datasets, layers, models\n",
    "from sklearn.metrics import classification_report, confusion_matrix\n",
    "from sklearn.model_selection import KFold, StratifiedKFold\n",
    "from sklearn.metrics import roc_curve, auc\n",
    "import plotly.graph_objects as go\n",
    "import glob\n",
    "import os"
   ]
  },
  {
   "cell_type": "code",
   "execution_count": 4,
   "id": "2cfd428c",
   "metadata": {
    "execution": {
     "iopub.execute_input": "2022-04-09T20:07:02.782713Z",
     "iopub.status.busy": "2022-04-09T20:07:02.781665Z",
     "iopub.status.idle": "2022-04-09T20:07:02.783608Z",
     "shell.execute_reply": "2022-04-09T20:07:02.784158Z",
     "shell.execute_reply.started": "2022-04-09T14:20:59.220856Z"
    },
    "papermill": {
     "duration": 0.049406,
     "end_time": "2022-04-09T20:07:02.784339",
     "exception": false,
     "start_time": "2022-04-09T20:07:02.734933",
     "status": "completed"
    },
    "tags": []
   },
   "outputs": [],
   "source": [
    "def create_dir (direct):\n",
    "  if not os.path.exists(direct):\n",
    "    os.mkdir(direct)"
   ]
  },
  {
   "cell_type": "code",
   "execution_count": 5,
   "id": "b20327e1",
   "metadata": {
    "execution": {
     "iopub.execute_input": "2022-04-09T20:07:02.882618Z",
     "iopub.status.busy": "2022-04-09T20:07:02.881609Z",
     "iopub.status.idle": "2022-04-09T20:07:02.883495Z",
     "shell.execute_reply": "2022-04-09T20:07:02.884013Z",
     "shell.execute_reply.started": "2022-04-09T14:21:00.123454Z"
    },
    "papermill": {
     "duration": 0.053594,
     "end_time": "2022-04-09T20:07:02.884151",
     "exception": false,
     "start_time": "2022-04-09T20:07:02.830557",
     "status": "completed"
    },
    "tags": []
   },
   "outputs": [],
   "source": [
    "ROOT_DIR = \"/kaggle/input/ferset\" #MT Directory\n",
    "DATASET_02 = ROOT_DIR + \"/02_FER\"\n",
    "DATASET_02_TRAIN = DATASET_02 + \"/train\"\n",
    "DATASET_02_TEST = DATASET_02+ \"/test\""
   ]
  },
  {
   "cell_type": "code",
   "execution_count": 6,
   "id": "5a1ac4f2",
   "metadata": {
    "execution": {
     "iopub.execute_input": "2022-04-09T20:07:02.975182Z",
     "iopub.status.busy": "2022-04-09T20:07:02.974348Z",
     "iopub.status.idle": "2022-04-09T20:07:03.001185Z",
     "shell.execute_reply": "2022-04-09T20:07:03.000752Z",
     "shell.execute_reply.started": "2022-04-09T14:21:02.297514Z"
    },
    "papermill": {
     "duration": 0.072513,
     "end_time": "2022-04-09T20:07:03.001362",
     "exception": false,
     "start_time": "2022-04-09T20:07:02.928849",
     "status": "completed"
    },
    "tags": []
   },
   "outputs": [
    {
     "name": "stdout",
     "output_type": "stream",
     "text": [
      "L\n",
      "48 48\n"
     ]
    }
   ],
   "source": [
    "import PIL\n",
    "\n",
    "image = PIL.Image.open(DATASET_02_TRAIN + \"/surprise/Training_99984132.jpg\")\n",
    "#image to open\n",
    "\n",
    "width, height = image.size\n",
    "\n",
    "print(image.mode)\n",
    "print(width, height)"
   ]
  },
  {
   "cell_type": "code",
   "execution_count": 7,
   "id": "fb204969",
   "metadata": {
    "execution": {
     "iopub.execute_input": "2022-04-09T20:07:03.107436Z",
     "iopub.status.busy": "2022-04-09T20:07:03.106792Z",
     "iopub.status.idle": "2022-04-09T20:07:26.096292Z",
     "shell.execute_reply": "2022-04-09T20:07:26.096701Z",
     "shell.execute_reply.started": "2022-04-09T14:21:05.478262Z"
    },
    "papermill": {
     "duration": 23.050176,
     "end_time": "2022-04-09T20:07:26.096849",
     "exception": false,
     "start_time": "2022-04-09T20:07:03.046673",
     "status": "completed"
    },
    "tags": []
   },
   "outputs": [
    {
     "name": "stdout",
     "output_type": "stream",
     "text": [
      "Found 7178 images belonging to 7 classes.\n",
      "Found 28709 images belonging to 7 classes.\n"
     ]
    }
   ],
   "source": [
    "datagen = ImageDataGenerator()\n",
    "image_size = (48, 48)\n",
    "colormode = 'rgb'\n",
    "test_set = datagen.flow_from_directory(DATASET_02_TEST, target_size=image_size, color_mode =colormode, batch_size=32, shuffle=False)\n",
    "train_set = datagen.flow_from_directory(DATASET_02_TRAIN, target_size=image_size, color_mode =colormode, batch_size=32)"
   ]
  },
  {
   "cell_type": "code",
   "execution_count": 8,
   "id": "b139aad5",
   "metadata": {
    "execution": {
     "iopub.execute_input": "2022-04-09T20:07:26.190497Z",
     "iopub.status.busy": "2022-04-09T20:07:26.189884Z",
     "iopub.status.idle": "2022-04-09T20:07:28.691582Z",
     "shell.execute_reply": "2022-04-09T20:07:28.691088Z",
     "shell.execute_reply.started": "2022-04-09T15:00:04.958753Z"
    },
    "papermill": {
     "duration": 2.552544,
     "end_time": "2022-04-09T20:07:28.691712",
     "exception": false,
     "start_time": "2022-04-09T20:07:26.139168",
     "status": "completed"
    },
    "tags": []
   },
   "outputs": [
    {
     "name": "stderr",
     "output_type": "stream",
     "text": [
      "2022-04-09 20:07:26.279332: I tensorflow/stream_executor/cuda/cuda_gpu_executor.cc:937] successful NUMA node read from SysFS had negative value (-1), but there must be at least one NUMA node, so returning NUMA node zero\n",
      "2022-04-09 20:07:26.383764: I tensorflow/stream_executor/cuda/cuda_gpu_executor.cc:937] successful NUMA node read from SysFS had negative value (-1), but there must be at least one NUMA node, so returning NUMA node zero\n",
      "2022-04-09 20:07:26.384632: I tensorflow/stream_executor/cuda/cuda_gpu_executor.cc:937] successful NUMA node read from SysFS had negative value (-1), but there must be at least one NUMA node, so returning NUMA node zero\n"
     ]
    },
    {
     "name": "stdout",
     "output_type": "stream",
     "text": [
      "Model: \"sequential\"\n",
      "_________________________________________________________________\n",
      "Layer (type)                 Output Shape              Param #   \n",
      "=================================================================\n",
      "conv2d (Conv2D)              (None, 46, 46, 64)        1792      \n",
      "_________________________________________________________________\n",
      "max_pooling2d (MaxPooling2D) (None, 23, 23, 64)        0         \n",
      "_________________________________________________________________\n",
      "conv2d_1 (Conv2D)            (None, 21, 21, 128)       73856     \n",
      "_________________________________________________________________\n",
      "max_pooling2d_1 (MaxPooling2 (None, 10, 10, 128)       0         \n",
      "_________________________________________________________________\n",
      "flatten (Flatten)            (None, 12800)             0         \n",
      "_________________________________________________________________\n",
      "dense (Dense)                (None, 256)               3277056   \n",
      "_________________________________________________________________\n",
      "dense_1 (Dense)              (None, 7)                 1799      \n",
      "=================================================================\n",
      "Total params: 3,354,503\n",
      "Trainable params: 3,354,503\n",
      "Non-trainable params: 0\n",
      "_________________________________________________________________\n"
     ]
    },
    {
     "name": "stderr",
     "output_type": "stream",
     "text": [
      "2022-04-09 20:07:26.386328: I tensorflow/core/platform/cpu_feature_guard.cc:142] This TensorFlow binary is optimized with oneAPI Deep Neural Network Library (oneDNN) to use the following CPU instructions in performance-critical operations:  AVX2 AVX512F FMA\n",
      "To enable them in other operations, rebuild TensorFlow with the appropriate compiler flags.\n",
      "2022-04-09 20:07:26.387466: I tensorflow/stream_executor/cuda/cuda_gpu_executor.cc:937] successful NUMA node read from SysFS had negative value (-1), but there must be at least one NUMA node, so returning NUMA node zero\n",
      "2022-04-09 20:07:26.388169: I tensorflow/stream_executor/cuda/cuda_gpu_executor.cc:937] successful NUMA node read from SysFS had negative value (-1), but there must be at least one NUMA node, so returning NUMA node zero\n",
      "2022-04-09 20:07:26.388818: I tensorflow/stream_executor/cuda/cuda_gpu_executor.cc:937] successful NUMA node read from SysFS had negative value (-1), but there must be at least one NUMA node, so returning NUMA node zero\n",
      "2022-04-09 20:07:28.283624: I tensorflow/stream_executor/cuda/cuda_gpu_executor.cc:937] successful NUMA node read from SysFS had negative value (-1), but there must be at least one NUMA node, so returning NUMA node zero\n",
      "2022-04-09 20:07:28.284544: I tensorflow/stream_executor/cuda/cuda_gpu_executor.cc:937] successful NUMA node read from SysFS had negative value (-1), but there must be at least one NUMA node, so returning NUMA node zero\n",
      "2022-04-09 20:07:28.285317: I tensorflow/stream_executor/cuda/cuda_gpu_executor.cc:937] successful NUMA node read from SysFS had negative value (-1), but there must be at least one NUMA node, so returning NUMA node zero\n",
      "2022-04-09 20:07:28.285988: I tensorflow/core/common_runtime/gpu/gpu_device.cc:1510] Created device /job:localhost/replica:0/task:0/device:GPU:0 with 15403 MB memory:  -> device: 0, name: Tesla P100-PCIE-16GB, pci bus id: 0000:00:04.0, compute capability: 6.0\n"
     ]
    }
   ],
   "source": [
    "def create_model_V1():\n",
    "    model = models.Sequential()\n",
    "    model.add(layers.Conv2D(64, (3, 3), activation='relu', input_shape=(48, 48, 3)))\n",
    "    model.add(layers.MaxPooling2D((2, 2)))\n",
    "    #model.add(layers.Dropout(0.4))\n",
    "    #model.add(layers.Conv2D(32, (3, 3), activation='relu'))\n",
    "    #model.add(layers.MaxPooling2D((2, 2)))\n",
    "    #model.add(layers.Dropout(0.4))\n",
    "    #model.add(layers.Conv2D(16, (3, 3), activation='relu'))\n",
    "    #model.add(layers.MaxPooling2D((2, 2)))\n",
    "    model.add(layers.Conv2D(128, (3, 3), activation='relu'))\n",
    "    model.add(layers.MaxPooling2D((2, 2)))\n",
    "    model.add(layers.Flatten())\n",
    "    model.add(layers.Dense(256, activation='relu'))\n",
    "    model.add(layers.Dense(7, activation='softmax'))\n",
    "    \n",
    "    return model\n",
    "\n",
    "\n",
    "model_1 = create_model_V1()\n",
    "model_1.summary()"
   ]
  },
  {
   "cell_type": "code",
   "execution_count": 9,
   "id": "e59143e4",
   "metadata": {
    "execution": {
     "iopub.execute_input": "2022-04-09T20:07:28.781250Z",
     "iopub.status.busy": "2022-04-09T20:07:28.780474Z",
     "iopub.status.idle": "2022-04-09T20:07:28.783107Z",
     "shell.execute_reply": "2022-04-09T20:07:28.782694Z",
     "shell.execute_reply.started": "2022-04-09T14:21:22.482688Z"
    },
    "papermill": {
     "duration": 0.049422,
     "end_time": "2022-04-09T20:07:28.783234",
     "exception": false,
     "start_time": "2022-04-09T20:07:28.733812",
     "status": "completed"
    },
    "tags": []
   },
   "outputs": [],
   "source": [
    "def get_data_df(dir):\n",
    "  # modified code from: https://www.kaggle.com/namgalielei/simple-load-images-and-count-number-of-each-class\n",
    "\n",
    "  train_df = pd.DataFrame()\n",
    "\n",
    "  trainset = glob.glob(dir)\n",
    "  #print(trainset)\n",
    "  train_df['filename'] = [img.split(\"/\")[-2]+\"/\"+img.split(\"/\")[-1] for img in trainset]\n",
    "  train_df['label'] = [img.split(\"/\")[-2] for img in trainset]\n",
    "\n",
    "  return train_df"
   ]
  },
  {
   "cell_type": "code",
   "execution_count": 10,
   "id": "86e415dd",
   "metadata": {
    "execution": {
     "iopub.execute_input": "2022-04-09T20:07:28.874333Z",
     "iopub.status.busy": "2022-04-09T20:07:28.873812Z",
     "iopub.status.idle": "2022-04-09T20:07:29.046490Z",
     "shell.execute_reply": "2022-04-09T20:07:29.046016Z",
     "shell.execute_reply.started": "2022-04-09T14:21:37.84349Z"
    },
    "papermill": {
     "duration": 0.219649,
     "end_time": "2022-04-09T20:07:29.046623",
     "exception": false,
     "start_time": "2022-04-09T20:07:28.826974",
     "status": "completed"
    },
    "tags": []
   },
   "outputs": [
    {
     "data": {
      "text/html": [
       "<div>\n",
       "<style scoped>\n",
       "    .dataframe tbody tr th:only-of-type {\n",
       "        vertical-align: middle;\n",
       "    }\n",
       "\n",
       "    .dataframe tbody tr th {\n",
       "        vertical-align: top;\n",
       "    }\n",
       "\n",
       "    .dataframe thead th {\n",
       "        text-align: right;\n",
       "    }\n",
       "</style>\n",
       "<table border=\"1\" class=\"dataframe\">\n",
       "  <thead>\n",
       "    <tr style=\"text-align: right;\">\n",
       "      <th></th>\n",
       "      <th>filename</th>\n",
       "      <th>label</th>\n",
       "    </tr>\n",
       "  </thead>\n",
       "  <tbody>\n",
       "    <tr>\n",
       "      <th>0</th>\n",
       "      <td>surprise/Training_66056468.jpg</td>\n",
       "      <td>surprise</td>\n",
       "    </tr>\n",
       "    <tr>\n",
       "      <th>1</th>\n",
       "      <td>surprise/Training_26522394.jpg</td>\n",
       "      <td>surprise</td>\n",
       "    </tr>\n",
       "    <tr>\n",
       "      <th>2</th>\n",
       "      <td>surprise/Training_63239185.jpg</td>\n",
       "      <td>surprise</td>\n",
       "    </tr>\n",
       "    <tr>\n",
       "      <th>3</th>\n",
       "      <td>surprise/Training_67725241.jpg</td>\n",
       "      <td>surprise</td>\n",
       "    </tr>\n",
       "    <tr>\n",
       "      <th>4</th>\n",
       "      <td>surprise/Training_71308969.jpg</td>\n",
       "      <td>surprise</td>\n",
       "    </tr>\n",
       "    <tr>\n",
       "      <th>...</th>\n",
       "      <td>...</td>\n",
       "      <td>...</td>\n",
       "    </tr>\n",
       "    <tr>\n",
       "      <th>28704</th>\n",
       "      <td>happy/Training_18866880.jpg</td>\n",
       "      <td>happy</td>\n",
       "    </tr>\n",
       "    <tr>\n",
       "      <th>28705</th>\n",
       "      <td>happy/Training_16513509.jpg</td>\n",
       "      <td>happy</td>\n",
       "    </tr>\n",
       "    <tr>\n",
       "      <th>28706</th>\n",
       "      <td>happy/Training_10834907.jpg</td>\n",
       "      <td>happy</td>\n",
       "    </tr>\n",
       "    <tr>\n",
       "      <th>28707</th>\n",
       "      <td>happy/Training_30459679.jpg</td>\n",
       "      <td>happy</td>\n",
       "    </tr>\n",
       "    <tr>\n",
       "      <th>28708</th>\n",
       "      <td>happy/Training_95673040.jpg</td>\n",
       "      <td>happy</td>\n",
       "    </tr>\n",
       "  </tbody>\n",
       "</table>\n",
       "<p>28709 rows × 2 columns</p>\n",
       "</div>"
      ],
      "text/plain": [
       "                             filename     label\n",
       "0      surprise/Training_66056468.jpg  surprise\n",
       "1      surprise/Training_26522394.jpg  surprise\n",
       "2      surprise/Training_63239185.jpg  surprise\n",
       "3      surprise/Training_67725241.jpg  surprise\n",
       "4      surprise/Training_71308969.jpg  surprise\n",
       "...                               ...       ...\n",
       "28704     happy/Training_18866880.jpg     happy\n",
       "28705     happy/Training_16513509.jpg     happy\n",
       "28706     happy/Training_10834907.jpg     happy\n",
       "28707     happy/Training_30459679.jpg     happy\n",
       "28708     happy/Training_95673040.jpg     happy\n",
       "\n",
       "[28709 rows x 2 columns]"
      ]
     },
     "execution_count": 10,
     "metadata": {},
     "output_type": "execute_result"
    }
   ],
   "source": [
    "test_train = get_data_df(DATASET_02_TRAIN+\"/*/*.jpg\")\n",
    "test_train"
   ]
  },
  {
   "cell_type": "code",
   "execution_count": 11,
   "id": "89c4ce25",
   "metadata": {
    "execution": {
     "iopub.execute_input": "2022-04-09T20:07:29.231545Z",
     "iopub.status.busy": "2022-04-09T20:07:29.228932Z",
     "iopub.status.idle": "2022-04-09T20:07:29.265121Z",
     "shell.execute_reply": "2022-04-09T20:07:29.266543Z",
     "shell.execute_reply.started": "2022-04-09T14:22:49.816471Z"
    },
    "papermill": {
     "duration": 0.138233,
     "end_time": "2022-04-09T20:07:29.266897",
     "exception": false,
     "start_time": "2022-04-09T20:07:29.128664",
     "status": "completed"
    },
    "tags": []
   },
   "outputs": [
    {
     "name": "stdout",
     "output_type": "stream",
     "text": [
      "surprise\n",
      "fear\n",
      "angry\n",
      "neutral\n",
      "sad\n",
      "disgust\n",
      "happy\n",
      "35887\n",
      "[4002, 5121, 4953, 6198, 6077, 547, 8989]\n",
      "{0: 1.2810380524023703, 1: 1.001115853488437, 2: 1.035072539009547, 3: 0.8271562255105334, 4: 0.8436258492207152, 5: 9.372420997649517, 6: 0.5703319930708962}\n"
     ]
    }
   ],
   "source": [
    "total = 0\n",
    "value_list = []\n",
    "for item in os.listdir(DATASET_02_TRAIN):\n",
    "    y = len(os.listdir(DATASET_02_TRAIN+'/'+item))+len(os.listdir(DATASET_02_TEST+'/'+item))\n",
    "    value_list.append(y)\n",
    "    total += y\n",
    "    print(item)\n",
    "print(total)\n",
    "print(value_list)\n",
    "weights = {}\n",
    "for n in range(0,len(value_list)):\n",
    "    w = total/(len(value_list)*value_list[n])\n",
    "    weights[n] = w\n",
    "    \n",
    "print(weights)"
   ]
  },
  {
   "cell_type": "code",
   "execution_count": 12,
   "id": "1296ee7d",
   "metadata": {
    "execution": {
     "iopub.execute_input": "2022-04-09T20:07:29.449435Z",
     "iopub.status.busy": "2022-04-09T20:07:29.448407Z",
     "iopub.status.idle": "2022-04-09T20:07:29.450832Z",
     "shell.execute_reply": "2022-04-09T20:07:29.450146Z",
     "shell.execute_reply.started": "2022-04-09T14:23:29.988288Z"
    },
    "papermill": {
     "duration": 0.092727,
     "end_time": "2022-04-09T20:07:29.451166",
     "exception": false,
     "start_time": "2022-04-09T20:07:29.358439",
     "status": "completed"
    },
    "tags": []
   },
   "outputs": [],
   "source": [
    "create_dir('/kaggle/working/Saved_CNN_Models')\n"
   ]
  },
  {
   "cell_type": "code",
   "execution_count": 13,
   "id": "106dab2d",
   "metadata": {
    "execution": {
     "iopub.execute_input": "2022-04-09T20:07:29.616977Z",
     "iopub.status.busy": "2022-04-09T20:07:29.616073Z",
     "iopub.status.idle": "2022-04-09T20:07:29.802151Z",
     "shell.execute_reply": "2022-04-09T20:07:29.801206Z",
     "shell.execute_reply.started": "2022-04-09T15:15:58.829709Z"
    },
    "papermill": {
     "duration": 0.274503,
     "end_time": "2022-04-09T20:07:29.802315",
     "exception": false,
     "start_time": "2022-04-09T20:07:29.527812",
     "status": "completed"
    },
    "tags": []
   },
   "outputs": [],
   "source": [
    "from sklearn.model_selection import KFold, StratifiedKFold\n",
    "\n",
    "train_data = get_data_df(DATASET_02_TRAIN+\"/*/*.jpg\")\n",
    "Y = train_data[['label']]\n",
    "\n",
    "#Y = final_train[['label']]\n",
    "#n = len(final_train)   \n",
    "\n",
    "skf = StratifiedKFold(n_splits = 5, random_state = 7, shuffle = True) \n",
    "\n",
    "#Un needed preprocessing aside from rescale\n",
    "#idg = ImageDataGenerator(rescale=1./255)\n",
    "create_dir('/kaggle/working/Saved_CNN_Models')\n",
    "#model name\n",
    "def get_model_name(k):\n",
    "    return 'model_'+str(k)+'.h5'\n",
    "def model_test(fold_count, epoch, model_method, image_size, mode):\n",
    "    skf = StratifiedKFold(n_splits = fold_count, random_state = 7, shuffle = True)\n",
    "    train_data = get_data_df(DATASET_02_TRAIN+\"/*/*.jpg\")\n",
    "      #Incorperate preprocessing in the method \n",
    "      #####################################################################\n",
    "      #aug_train = get_data_df(DATASET_01_ROOT+\"/Aug_train/*/*.jpg\")\n",
    "      #aug_train['filename'] = aug_train['filename'].str[7:]\n",
    "      #final_train = test_train.append(aug_train, sort=False, ignore_index=True)\n",
    "\n",
    "\n",
    "      #######################################################################\n",
    "      #idg = ImageDataGenerator(rescale=1./255)\n",
    "    idg = ImageDataGenerator()\n",
    "    Y = train_data[['label']]\n",
    "    n = len(train_data)    \n",
    "    VALIDATION_ACCURACY = []\n",
    "    VALIDATION_LOSS = []\n",
    "\n",
    "      #create a directory\n",
    "    save_dir = '/kaggle/working/Saved_CNN_Models/'+model_method.__name__+'_'+str(epoch)+'epochs/'\n",
    "    create_dir(save_dir)\n",
    "    \n",
    "    img_dir = DATASET_02_TRAIN\n",
    "\n",
    "    fold_var = 1\n",
    "\n",
    "      #n is number of samples, doesn't care about x values for split, just y\n",
    "    for train_index, val_index in skf.split(np.zeros(n),Y):\n",
    "\n",
    "        #Index value for fold\n",
    "        training_data = train_data.iloc[train_index]\n",
    "        validation_data = train_data.iloc[val_index]\n",
    "        #generator for train\n",
    "        print(\"hi\")\n",
    "        print(validation_data.head())\n",
    "        #Modify the training size, have an input adjustability \n",
    "        train_data_generator = idg.flow_from_dataframe(training_data, directory = img_dir,\n",
    "                                                       target_size=image_size, batch_size=32, color_mode =mode,\n",
    "                                                       x_col = \"filename\", y_col = \"label\",shuffle = True)\n",
    "        #print(\"hi\")\n",
    "        #generator for validation\n",
    "        valid_data_generator  = idg.flow_from_dataframe(validation_data, directory = img_dir,\n",
    "                                                        target_size=image_size, color_mode =mode,batch_size=32,\n",
    "                                                        x_col = \"filename\", y_col = \"label\",shuffle = True)\n",
    "        #print(\"hi\")\n",
    "        #create a method for this\n",
    "        # CREATE NEW MODEL\n",
    "        model = model_method()\n",
    "        # COMPILE NEW MODEL\n",
    "        model.compile(loss=tf.keras.losses.CategoricalCrossentropy(),\n",
    "                optimizer= tf.keras.optimizers.Adam(learning_rate=0.0001),\n",
    "                metrics=['accuracy'])\n",
    "\n",
    "        # CREATE CALLBACKS\n",
    "        #Unsure about checpoint\n",
    "        checkpoint = tf.keras.callbacks.ModelCheckpoint(save_dir+model_method.__name__+\"_\"+get_model_name(fold_var), \n",
    "                    monitor='val_accuracy', verbose=1, \n",
    "                    save_best_only=True, mode='max')\n",
    "\n",
    "        callbacks_list = [checkpoint]\n",
    "        # There can be other callbacks, but just showing one because it involves the model name\n",
    "        # This saves the best model\n",
    "        # FIT THE MODEL\n",
    "        #Include the weights for classes\n",
    "        history = model.fit(train_data_generator,\n",
    "                epochs=epoch,\n",
    "                callbacks=callbacks_list,\n",
    "                validation_data=valid_data_generator\n",
    "                ,class_weight = weights\n",
    "                ,verbose = 2)\n",
    "\n",
    "        #PLOT HISTORY\n",
    "        #Plots for whichever\n",
    "        #\t\t:\n",
    "        #plt.plot(history.history['binary_accuracy'], label='accuracy')\n",
    "        #plt.plot(history.history['val_binary_accuracy'], label = 'val_accuracy')\n",
    "        #plt.xlabel('Epoch')\n",
    "        #plt.ylabel('Accuracy')\n",
    "        #plt.ylim([0.3, 1])\n",
    "        #plt.legend(loc='lower right')\n",
    "        #plt.show()\n",
    "        #frame = {'Accuracy': history.history['binary_accuracy'], 'Val_Accuracy': history.history['val_binary_accuracy']}\n",
    "        #fig = px.line(frame)\n",
    "        #fig.show()\n",
    "        fig = go.Figure()\n",
    "        fig.add_trace(go.Scatter(y= history.history['accuracy'],\n",
    "                          mode='lines+markers',\n",
    "                          name='Training Accuracy'))\n",
    "        fig.add_trace(go.Scatter(y= history.history['val_accuracy'],\n",
    "                          mode='lines+markers',\n",
    "                          name='Validation Accuracy'))\n",
    "        fig.update_yaxes(range=[0, 1])\n",
    "        fig.update_layout(\n",
    "            title=\"Fold \"+ str(fold_var)+ \"'s performance\",\n",
    "            title_x=0.5,\n",
    "            xaxis_title=\"Epochs\",\n",
    "            yaxis_title=\"Accuracy\",\n",
    "            autosize=False,\n",
    "            width=800,\n",
    "            height=400,\n",
    "            margin=dict(l=20, r=20, t=40, b=20),)\n",
    "        fig.show()\n",
    "        graph_dir = '/kaggle/working/img'\n",
    "        create_dir(graph_dir)\n",
    "        fig.write_image(graph_dir+'/fold'+str(fold_var)+'.png') \n",
    "\n",
    "        #\t\t:\n",
    "        # LOAD BEST MODEL to evaluate the performance of the model\n",
    "        model.load_weights(save_dir+model_method.__name__+\"_\" + \"model_\"+str(fold_var)+\".h5\")\n",
    "\n",
    "        results = model.evaluate(test_set)\n",
    "        results = dict(zip(model.metrics_names,results))\n",
    "\n",
    "        VALIDATION_ACCURACY.append(results['accuracy'])\n",
    "        VALIDATION_LOSS.append(results['loss'])\n",
    "\n",
    "        tf.keras.backend.clear_session()\n",
    "\n",
    "        fold_var += 1"
   ]
  },
  {
   "cell_type": "code",
   "execution_count": 14,
   "id": "606b315b",
   "metadata": {
    "execution": {
     "iopub.execute_input": "2022-04-09T20:07:29.896635Z",
     "iopub.status.busy": "2022-04-09T20:07:29.894985Z",
     "iopub.status.idle": "2022-04-09T20:07:29.897273Z",
     "shell.execute_reply": "2022-04-09T20:07:29.897705Z"
    },
    "papermill": {
     "duration": 0.051376,
     "end_time": "2022-04-09T20:07:29.897838",
     "exception": false,
     "start_time": "2022-04-09T20:07:29.846462",
     "status": "completed"
    },
    "tags": []
   },
   "outputs": [],
   "source": [
    "#model_test(5, 1, create_model_V1, (48,48), 'rgb')"
   ]
  },
  {
   "cell_type": "code",
   "execution_count": 15,
   "id": "3bf35d14",
   "metadata": {
    "execution": {
     "iopub.execute_input": "2022-04-09T20:07:29.995991Z",
     "iopub.status.busy": "2022-04-09T20:07:29.995438Z",
     "iopub.status.idle": "2022-04-09T20:07:32.208829Z",
     "shell.execute_reply": "2022-04-09T20:07:32.208296Z",
     "shell.execute_reply.started": "2022-04-09T14:23:37.545036Z"
    },
    "papermill": {
     "duration": 2.267633,
     "end_time": "2022-04-09T20:07:32.208965",
     "exception": false,
     "start_time": "2022-04-09T20:07:29.941332",
     "status": "completed"
    },
    "tags": []
   },
   "outputs": [
    {
     "name": "stdout",
     "output_type": "stream",
     "text": [
      "Downloading data from https://storage.googleapis.com/tensorflow/keras-applications/resnet/resnet50_weights_tf_dim_ordering_tf_kernels_notop.h5\n",
      "94773248/94765736 [==============================] - 0s 0us/step\n",
      "94781440/94765736 [==============================] - 0s 0us/step\n"
     ]
    }
   ],
   "source": [
    "def transfer_learning_model_resnet_50():\n",
    "\n",
    "  IMG_SHAPE = (48,48,3,)\n",
    " \n",
    "  inputs = tf.keras.Input(shape=IMG_SHAPE)\n",
    "  #inputs = tf.image.grayscale_to_rgb(y)\n",
    " \n",
    "  x = tf.keras.applications.resnet50.preprocess_input(inputs)\n",
    "  base_model = tf.keras.applications.resnet50.ResNet50(input_shape=(48,48,3,),\n",
    "                                               include_top=False,\n",
    "                                               weights='imagenet')\n",
    "  #print(len(base_model.layers))\n",
    "  base_model.trainable = True\n",
    "\n",
    "  fine_tune_at = 400\n",
    "  for layer in base_model.layers[:fine_tune_at]:\n",
    "    layer.trainable = False\n",
    "\n",
    "  x = base_model(x)\n",
    "  global_average_layer = tf.keras.layers.GlobalAveragePooling2D()\n",
    "  x = global_average_layer(x)\n",
    "  x = tf.keras.layers.Dropout(0.2)(x)\n",
    "  prediction_layer = tf.keras.layers.Dense(7, activation = \"softmax\")\n",
    "  outputs = prediction_layer(x)\n",
    "  model = tf.keras.Model(inputs, outputs)\n",
    "  #print(len(model.trainable_variables))\n",
    "  return model\n",
    "\n",
    "transfer_model_resnet_50 = transfer_learning_model_resnet_50()"
   ]
  },
  {
   "cell_type": "code",
   "execution_count": 16,
   "id": "5c54e84a",
   "metadata": {
    "execution": {
     "iopub.execute_input": "2022-04-09T20:07:32.308986Z",
     "iopub.status.busy": "2022-04-09T20:07:32.308186Z",
     "iopub.status.idle": "2022-04-09T20:07:32.323550Z",
     "shell.execute_reply": "2022-04-09T20:07:32.323983Z"
    },
    "papermill": {
     "duration": 0.067966,
     "end_time": "2022-04-09T20:07:32.324122",
     "exception": false,
     "start_time": "2022-04-09T20:07:32.256156",
     "status": "completed"
    },
    "tags": []
   },
   "outputs": [
    {
     "name": "stdout",
     "output_type": "stream",
     "text": [
      "Model: \"model\"\n",
      "_________________________________________________________________\n",
      "Layer (type)                 Output Shape              Param #   \n",
      "=================================================================\n",
      "input_1 (InputLayer)         [(None, 48, 48, 3)]       0         \n",
      "_________________________________________________________________\n",
      "tf.__operators__.getitem (Sl (None, 48, 48, 3)         0         \n",
      "_________________________________________________________________\n",
      "tf.nn.bias_add (TFOpLambda)  (None, 48, 48, 3)         0         \n",
      "_________________________________________________________________\n",
      "resnet50 (Functional)        (None, 2, 2, 2048)        23587712  \n",
      "_________________________________________________________________\n",
      "global_average_pooling2d (Gl (None, 2048)              0         \n",
      "_________________________________________________________________\n",
      "dropout (Dropout)            (None, 2048)              0         \n",
      "_________________________________________________________________\n",
      "dense_2 (Dense)              (None, 7)                 14343     \n",
      "=================================================================\n",
      "Total params: 23,602,055\n",
      "Trainable params: 14,343\n",
      "Non-trainable params: 23,587,712\n",
      "_________________________________________________________________\n"
     ]
    }
   ],
   "source": [
    "transfer_model_resnet_50.summary()"
   ]
  },
  {
   "cell_type": "code",
   "execution_count": 17,
   "id": "42b367da",
   "metadata": {
    "execution": {
     "iopub.execute_input": "2022-04-09T20:07:32.422495Z",
     "iopub.status.busy": "2022-04-09T20:07:32.421794Z",
     "iopub.status.idle": "2022-04-09T21:04:20.376065Z",
     "shell.execute_reply": "2022-04-09T21:04:20.377175Z",
     "shell.execute_reply.started": "2022-04-09T14:48:53.8528Z"
    },
    "papermill": {
     "duration": 3408.006707,
     "end_time": "2022-04-09T21:04:20.377439",
     "exception": false,
     "start_time": "2022-04-09T20:07:32.370732",
     "status": "completed"
    },
    "tags": []
   },
   "outputs": [
    {
     "name": "stdout",
     "output_type": "stream",
     "text": [
      "hi\n",
      "                          filename     label\n",
      "10  surprise/Training_52655852.jpg  surprise\n",
      "16  surprise/Training_44186778.jpg  surprise\n",
      "21  surprise/Training_87248788.jpg  surprise\n",
      "31  surprise/Training_32069005.jpg  surprise\n",
      "45   surprise/Training_4473463.jpg  surprise\n",
      "Found 22967 validated image filenames belonging to 7 classes.\n",
      "Found 5742 validated image filenames belonging to 7 classes.\n"
     ]
    },
    {
     "name": "stderr",
     "output_type": "stream",
     "text": [
      "2022-04-09 20:07:47.442832: I tensorflow/compiler/mlir/mlir_graph_optimization_pass.cc:185] None of the MLIR Optimization Passes are enabled (registered 2)\n"
     ]
    },
    {
     "name": "stdout",
     "output_type": "stream",
     "text": [
      "Epoch 1/20\n"
     ]
    },
    {
     "name": "stderr",
     "output_type": "stream",
     "text": [
      "2022-04-09 20:07:51.042097: I tensorflow/stream_executor/cuda/cuda_dnn.cc:369] Loaded cuDNN version 8005\n"
     ]
    },
    {
     "name": "stdout",
     "output_type": "stream",
     "text": [
      "718/718 - 116s - loss: 4.6502 - accuracy: 0.1951 - val_loss: 2.9749 - val_accuracy: 0.1984\n",
      "\n",
      "Epoch 00001: val_accuracy improved from -inf to 0.19836, saving model to /kaggle/working/Saved_CNN_Models/transfer_learning_model_resnet_50_20epochs/transfer_learning_model_resnet_50_model_1.h5\n"
     ]
    },
    {
     "name": "stderr",
     "output_type": "stream",
     "text": [
      "/opt/conda/lib/python3.7/site-packages/keras/utils/generic_utils.py:497: CustomMaskWarning: Custom mask layers require a config and must override get_config. When loading, the custom mask layer must be passed to the custom_objects argument.\n",
      "  category=CustomMaskWarning)\n"
     ]
    },
    {
     "name": "stdout",
     "output_type": "stream",
     "text": [
      "Epoch 2/20\n",
      "718/718 - 25s - loss: 3.5723 - accuracy: 0.2282 - val_loss: 2.4894 - val_accuracy: 0.2311\n",
      "\n",
      "Epoch 00002: val_accuracy improved from 0.19836 to 0.23110, saving model to /kaggle/working/Saved_CNN_Models/transfer_learning_model_resnet_50_20epochs/transfer_learning_model_resnet_50_model_1.h5\n",
      "Epoch 3/20\n",
      "718/718 - 25s - loss: 3.1836 - accuracy: 0.2464 - val_loss: 2.3998 - val_accuracy: 0.2454\n",
      "\n",
      "Epoch 00003: val_accuracy improved from 0.23110 to 0.24538, saving model to /kaggle/working/Saved_CNN_Models/transfer_learning_model_resnet_50_20epochs/transfer_learning_model_resnet_50_model_1.h5\n",
      "Epoch 4/20\n",
      "718/718 - 25s - loss: 2.9739 - accuracy: 0.2527 - val_loss: 2.3384 - val_accuracy: 0.2389\n",
      "\n",
      "Epoch 00004: val_accuracy did not improve from 0.24538\n",
      "Epoch 5/20\n",
      "718/718 - 25s - loss: 2.8049 - accuracy: 0.2595 - val_loss: 2.2097 - val_accuracy: 0.2645\n",
      "\n",
      "Epoch 00005: val_accuracy improved from 0.24538 to 0.26454, saving model to /kaggle/working/Saved_CNN_Models/transfer_learning_model_resnet_50_20epochs/transfer_learning_model_resnet_50_model_1.h5\n",
      "Epoch 6/20\n",
      "718/718 - 24s - loss: 2.6763 - accuracy: 0.2657 - val_loss: 2.1590 - val_accuracy: 0.2625\n",
      "\n",
      "Epoch 00006: val_accuracy did not improve from 0.26454\n",
      "Epoch 7/20\n",
      "718/718 - 25s - loss: 2.5870 - accuracy: 0.2690 - val_loss: 2.1850 - val_accuracy: 0.2476\n",
      "\n",
      "Epoch 00007: val_accuracy did not improve from 0.26454\n",
      "Epoch 8/20\n",
      "718/718 - 25s - loss: 2.5208 - accuracy: 0.2750 - val_loss: 2.2145 - val_accuracy: 0.2328\n",
      "\n",
      "Epoch 00008: val_accuracy did not improve from 0.26454\n",
      "Epoch 9/20\n",
      "718/718 - 27s - loss: 2.4664 - accuracy: 0.2744 - val_loss: 2.2291 - val_accuracy: 0.2346\n",
      "\n",
      "Epoch 00009: val_accuracy did not improve from 0.26454\n",
      "Epoch 10/20\n",
      "718/718 - 26s - loss: 2.4115 - accuracy: 0.2814 - val_loss: 2.1545 - val_accuracy: 0.2445\n",
      "\n",
      "Epoch 00010: val_accuracy did not improve from 0.26454\n",
      "Epoch 11/20\n",
      "718/718 - 26s - loss: 2.3768 - accuracy: 0.2821 - val_loss: 2.1085 - val_accuracy: 0.2544\n",
      "\n",
      "Epoch 00011: val_accuracy did not improve from 0.26454\n",
      "Epoch 12/20\n",
      "718/718 - 26s - loss: 2.3227 - accuracy: 0.2875 - val_loss: 1.9162 - val_accuracy: 0.2915\n",
      "\n",
      "Epoch 00012: val_accuracy improved from 0.26454 to 0.29154, saving model to /kaggle/working/Saved_CNN_Models/transfer_learning_model_resnet_50_20epochs/transfer_learning_model_resnet_50_model_1.h5\n",
      "Epoch 13/20\n",
      "718/718 - 25s - loss: 2.3144 - accuracy: 0.2905 - val_loss: 1.9397 - val_accuracy: 0.2809\n",
      "\n",
      "Epoch 00013: val_accuracy did not improve from 0.29154\n",
      "Epoch 14/20\n",
      "718/718 - 25s - loss: 2.2991 - accuracy: 0.2898 - val_loss: 2.1217 - val_accuracy: 0.2506\n",
      "\n",
      "Epoch 00014: val_accuracy did not improve from 0.29154\n",
      "Epoch 15/20\n",
      "718/718 - 25s - loss: 2.2715 - accuracy: 0.2952 - val_loss: 1.9839 - val_accuracy: 0.2701\n",
      "\n",
      "Epoch 00015: val_accuracy did not improve from 0.29154\n",
      "Epoch 16/20\n",
      "718/718 - 26s - loss: 2.2539 - accuracy: 0.2955 - val_loss: 1.8793 - val_accuracy: 0.2926\n",
      "\n",
      "Epoch 00016: val_accuracy improved from 0.29154 to 0.29258, saving model to /kaggle/working/Saved_CNN_Models/transfer_learning_model_resnet_50_20epochs/transfer_learning_model_resnet_50_model_1.h5\n",
      "Epoch 17/20\n",
      "718/718 - 25s - loss: 2.2373 - accuracy: 0.2994 - val_loss: 1.9576 - val_accuracy: 0.2823\n",
      "\n",
      "Epoch 00017: val_accuracy did not improve from 0.29258\n",
      "Epoch 18/20\n",
      "718/718 - 25s - loss: 2.2246 - accuracy: 0.3019 - val_loss: 2.0743 - val_accuracy: 0.2544\n",
      "\n",
      "Epoch 00018: val_accuracy did not improve from 0.29258\n",
      "Epoch 19/20\n",
      "718/718 - 25s - loss: 2.2015 - accuracy: 0.3036 - val_loss: 1.9878 - val_accuracy: 0.2743\n",
      "\n",
      "Epoch 00019: val_accuracy did not improve from 0.29258\n",
      "Epoch 20/20\n",
      "718/718 - 26s - loss: 2.2000 - accuracy: 0.3059 - val_loss: 1.9889 - val_accuracy: 0.2656\n",
      "\n",
      "Epoch 00020: val_accuracy did not improve from 0.29258\n"
     ]
    },
    {
     "data": {
      "text/html": [
       "        <script type=\"text/javascript\">\n",
       "        window.PlotlyConfig = {MathJaxConfig: 'local'};\n",
       "        if (window.MathJax) {MathJax.Hub.Config({SVG: {font: \"STIX-Web\"}});}\n",
       "        if (typeof require !== 'undefined') {\n",
       "        require.undef(\"plotly\");\n",
       "        requirejs.config({\n",
       "            paths: {\n",
       "                'plotly': ['https://cdn.plot.ly/plotly-2.9.0.min']\n",
       "            }\n",
       "        });\n",
       "        require(['plotly'], function(Plotly) {\n",
       "            window._Plotly = Plotly;\n",
       "        });\n",
       "        }\n",
       "        </script>\n",
       "        "
      ]
     },
     "metadata": {},
     "output_type": "display_data"
    },
    {
     "data": {
      "text/html": [
       "<div>                            <div id=\"113513dd-3693-4eb6-b3ee-e992195ec078\" class=\"plotly-graph-div\" style=\"height:400px; width:800px;\"></div>            <script type=\"text/javascript\">                require([\"plotly\"], function(Plotly) {                    window.PLOTLYENV=window.PLOTLYENV || {};                                    if (document.getElementById(\"113513dd-3693-4eb6-b3ee-e992195ec078\")) {                    Plotly.newPlot(                        \"113513dd-3693-4eb6-b3ee-e992195ec078\",                        [{\"mode\":\"lines+markers\",\"name\":\"Training Accuracy\",\"y\":[0.19514955580234528,0.22815343737602234,0.246397003531456,0.2526668608188629,0.2594592273235321,0.2656855583190918,0.2690381705760956,0.27504679560661316,0.2744372487068176,0.2814037501811981,0.2821004092693329,0.28754299879074097,0.29050377011299133,0.28980711102485657,0.2951626181602478,0.29546740651130676,0.29942962527275085,0.30186790227890015,0.3036095201969147,0.3059171736240387],\"type\":\"scatter\"},{\"mode\":\"lines+markers\",\"name\":\"Validation Accuracy\",\"y\":[0.19836294651031494,0.23110415041446686,0.24538488686084747,0.23894113302230835,0.26454198360443115,0.262452095746994,0.2476489096879959,0.23284569382667542,0.23458725214004517,0.2445141077041626,0.25444096326828003,0.2915360629558563,0.2809125781059265,0.25060954689979553,0.270114928483963,0.2925809919834137,0.2823058068752289,0.25444096326828003,0.2742946743965149,0.2655869126319885],\"type\":\"scatter\"}],                        {\"template\":{\"data\":{\"bar\":[{\"error_x\":{\"color\":\"#2a3f5f\"},\"error_y\":{\"color\":\"#2a3f5f\"},\"marker\":{\"line\":{\"color\":\"#E5ECF6\",\"width\":0.5},\"pattern\":{\"fillmode\":\"overlay\",\"size\":10,\"solidity\":0.2}},\"type\":\"bar\"}],\"barpolar\":[{\"marker\":{\"line\":{\"color\":\"#E5ECF6\",\"width\":0.5},\"pattern\":{\"fillmode\":\"overlay\",\"size\":10,\"solidity\":0.2}},\"type\":\"barpolar\"}],\"carpet\":[{\"aaxis\":{\"endlinecolor\":\"#2a3f5f\",\"gridcolor\":\"white\",\"linecolor\":\"white\",\"minorgridcolor\":\"white\",\"startlinecolor\":\"#2a3f5f\"},\"baxis\":{\"endlinecolor\":\"#2a3f5f\",\"gridcolor\":\"white\",\"linecolor\":\"white\",\"minorgridcolor\":\"white\",\"startlinecolor\":\"#2a3f5f\"},\"type\":\"carpet\"}],\"choropleth\":[{\"colorbar\":{\"outlinewidth\":0,\"ticks\":\"\"},\"type\":\"choropleth\"}],\"contour\":[{\"colorbar\":{\"outlinewidth\":0,\"ticks\":\"\"},\"colorscale\":[[0.0,\"#0d0887\"],[0.1111111111111111,\"#46039f\"],[0.2222222222222222,\"#7201a8\"],[0.3333333333333333,\"#9c179e\"],[0.4444444444444444,\"#bd3786\"],[0.5555555555555556,\"#d8576b\"],[0.6666666666666666,\"#ed7953\"],[0.7777777777777778,\"#fb9f3a\"],[0.8888888888888888,\"#fdca26\"],[1.0,\"#f0f921\"]],\"type\":\"contour\"}],\"contourcarpet\":[{\"colorbar\":{\"outlinewidth\":0,\"ticks\":\"\"},\"type\":\"contourcarpet\"}],\"heatmap\":[{\"colorbar\":{\"outlinewidth\":0,\"ticks\":\"\"},\"colorscale\":[[0.0,\"#0d0887\"],[0.1111111111111111,\"#46039f\"],[0.2222222222222222,\"#7201a8\"],[0.3333333333333333,\"#9c179e\"],[0.4444444444444444,\"#bd3786\"],[0.5555555555555556,\"#d8576b\"],[0.6666666666666666,\"#ed7953\"],[0.7777777777777778,\"#fb9f3a\"],[0.8888888888888888,\"#fdca26\"],[1.0,\"#f0f921\"]],\"type\":\"heatmap\"}],\"heatmapgl\":[{\"colorbar\":{\"outlinewidth\":0,\"ticks\":\"\"},\"colorscale\":[[0.0,\"#0d0887\"],[0.1111111111111111,\"#46039f\"],[0.2222222222222222,\"#7201a8\"],[0.3333333333333333,\"#9c179e\"],[0.4444444444444444,\"#bd3786\"],[0.5555555555555556,\"#d8576b\"],[0.6666666666666666,\"#ed7953\"],[0.7777777777777778,\"#fb9f3a\"],[0.8888888888888888,\"#fdca26\"],[1.0,\"#f0f921\"]],\"type\":\"heatmapgl\"}],\"histogram\":[{\"marker\":{\"pattern\":{\"fillmode\":\"overlay\",\"size\":10,\"solidity\":0.2}},\"type\":\"histogram\"}],\"histogram2d\":[{\"colorbar\":{\"outlinewidth\":0,\"ticks\":\"\"},\"colorscale\":[[0.0,\"#0d0887\"],[0.1111111111111111,\"#46039f\"],[0.2222222222222222,\"#7201a8\"],[0.3333333333333333,\"#9c179e\"],[0.4444444444444444,\"#bd3786\"],[0.5555555555555556,\"#d8576b\"],[0.6666666666666666,\"#ed7953\"],[0.7777777777777778,\"#fb9f3a\"],[0.8888888888888888,\"#fdca26\"],[1.0,\"#f0f921\"]],\"type\":\"histogram2d\"}],\"histogram2dcontour\":[{\"colorbar\":{\"outlinewidth\":0,\"ticks\":\"\"},\"colorscale\":[[0.0,\"#0d0887\"],[0.1111111111111111,\"#46039f\"],[0.2222222222222222,\"#7201a8\"],[0.3333333333333333,\"#9c179e\"],[0.4444444444444444,\"#bd3786\"],[0.5555555555555556,\"#d8576b\"],[0.6666666666666666,\"#ed7953\"],[0.7777777777777778,\"#fb9f3a\"],[0.8888888888888888,\"#fdca26\"],[1.0,\"#f0f921\"]],\"type\":\"histogram2dcontour\"}],\"mesh3d\":[{\"colorbar\":{\"outlinewidth\":0,\"ticks\":\"\"},\"type\":\"mesh3d\"}],\"parcoords\":[{\"line\":{\"colorbar\":{\"outlinewidth\":0,\"ticks\":\"\"}},\"type\":\"parcoords\"}],\"pie\":[{\"automargin\":true,\"type\":\"pie\"}],\"scatter\":[{\"marker\":{\"colorbar\":{\"outlinewidth\":0,\"ticks\":\"\"}},\"type\":\"scatter\"}],\"scatter3d\":[{\"line\":{\"colorbar\":{\"outlinewidth\":0,\"ticks\":\"\"}},\"marker\":{\"colorbar\":{\"outlinewidth\":0,\"ticks\":\"\"}},\"type\":\"scatter3d\"}],\"scattercarpet\":[{\"marker\":{\"colorbar\":{\"outlinewidth\":0,\"ticks\":\"\"}},\"type\":\"scattercarpet\"}],\"scattergeo\":[{\"marker\":{\"colorbar\":{\"outlinewidth\":0,\"ticks\":\"\"}},\"type\":\"scattergeo\"}],\"scattergl\":[{\"marker\":{\"colorbar\":{\"outlinewidth\":0,\"ticks\":\"\"}},\"type\":\"scattergl\"}],\"scattermapbox\":[{\"marker\":{\"colorbar\":{\"outlinewidth\":0,\"ticks\":\"\"}},\"type\":\"scattermapbox\"}],\"scatterpolar\":[{\"marker\":{\"colorbar\":{\"outlinewidth\":0,\"ticks\":\"\"}},\"type\":\"scatterpolar\"}],\"scatterpolargl\":[{\"marker\":{\"colorbar\":{\"outlinewidth\":0,\"ticks\":\"\"}},\"type\":\"scatterpolargl\"}],\"scatterternary\":[{\"marker\":{\"colorbar\":{\"outlinewidth\":0,\"ticks\":\"\"}},\"type\":\"scatterternary\"}],\"surface\":[{\"colorbar\":{\"outlinewidth\":0,\"ticks\":\"\"},\"colorscale\":[[0.0,\"#0d0887\"],[0.1111111111111111,\"#46039f\"],[0.2222222222222222,\"#7201a8\"],[0.3333333333333333,\"#9c179e\"],[0.4444444444444444,\"#bd3786\"],[0.5555555555555556,\"#d8576b\"],[0.6666666666666666,\"#ed7953\"],[0.7777777777777778,\"#fb9f3a\"],[0.8888888888888888,\"#fdca26\"],[1.0,\"#f0f921\"]],\"type\":\"surface\"}],\"table\":[{\"cells\":{\"fill\":{\"color\":\"#EBF0F8\"},\"line\":{\"color\":\"white\"}},\"header\":{\"fill\":{\"color\":\"#C8D4E3\"},\"line\":{\"color\":\"white\"}},\"type\":\"table\"}]},\"layout\":{\"annotationdefaults\":{\"arrowcolor\":\"#2a3f5f\",\"arrowhead\":0,\"arrowwidth\":1},\"autotypenumbers\":\"strict\",\"coloraxis\":{\"colorbar\":{\"outlinewidth\":0,\"ticks\":\"\"}},\"colorscale\":{\"diverging\":[[0,\"#8e0152\"],[0.1,\"#c51b7d\"],[0.2,\"#de77ae\"],[0.3,\"#f1b6da\"],[0.4,\"#fde0ef\"],[0.5,\"#f7f7f7\"],[0.6,\"#e6f5d0\"],[0.7,\"#b8e186\"],[0.8,\"#7fbc41\"],[0.9,\"#4d9221\"],[1,\"#276419\"]],\"sequential\":[[0.0,\"#0d0887\"],[0.1111111111111111,\"#46039f\"],[0.2222222222222222,\"#7201a8\"],[0.3333333333333333,\"#9c179e\"],[0.4444444444444444,\"#bd3786\"],[0.5555555555555556,\"#d8576b\"],[0.6666666666666666,\"#ed7953\"],[0.7777777777777778,\"#fb9f3a\"],[0.8888888888888888,\"#fdca26\"],[1.0,\"#f0f921\"]],\"sequentialminus\":[[0.0,\"#0d0887\"],[0.1111111111111111,\"#46039f\"],[0.2222222222222222,\"#7201a8\"],[0.3333333333333333,\"#9c179e\"],[0.4444444444444444,\"#bd3786\"],[0.5555555555555556,\"#d8576b\"],[0.6666666666666666,\"#ed7953\"],[0.7777777777777778,\"#fb9f3a\"],[0.8888888888888888,\"#fdca26\"],[1.0,\"#f0f921\"]]},\"colorway\":[\"#636efa\",\"#EF553B\",\"#00cc96\",\"#ab63fa\",\"#FFA15A\",\"#19d3f3\",\"#FF6692\",\"#B6E880\",\"#FF97FF\",\"#FECB52\"],\"font\":{\"color\":\"#2a3f5f\"},\"geo\":{\"bgcolor\":\"white\",\"lakecolor\":\"white\",\"landcolor\":\"#E5ECF6\",\"showlakes\":true,\"showland\":true,\"subunitcolor\":\"white\"},\"hoverlabel\":{\"align\":\"left\"},\"hovermode\":\"closest\",\"mapbox\":{\"style\":\"light\"},\"paper_bgcolor\":\"white\",\"plot_bgcolor\":\"#E5ECF6\",\"polar\":{\"angularaxis\":{\"gridcolor\":\"white\",\"linecolor\":\"white\",\"ticks\":\"\"},\"bgcolor\":\"#E5ECF6\",\"radialaxis\":{\"gridcolor\":\"white\",\"linecolor\":\"white\",\"ticks\":\"\"}},\"scene\":{\"xaxis\":{\"backgroundcolor\":\"#E5ECF6\",\"gridcolor\":\"white\",\"gridwidth\":2,\"linecolor\":\"white\",\"showbackground\":true,\"ticks\":\"\",\"zerolinecolor\":\"white\"},\"yaxis\":{\"backgroundcolor\":\"#E5ECF6\",\"gridcolor\":\"white\",\"gridwidth\":2,\"linecolor\":\"white\",\"showbackground\":true,\"ticks\":\"\",\"zerolinecolor\":\"white\"},\"zaxis\":{\"backgroundcolor\":\"#E5ECF6\",\"gridcolor\":\"white\",\"gridwidth\":2,\"linecolor\":\"white\",\"showbackground\":true,\"ticks\":\"\",\"zerolinecolor\":\"white\"}},\"shapedefaults\":{\"line\":{\"color\":\"#2a3f5f\"}},\"ternary\":{\"aaxis\":{\"gridcolor\":\"white\",\"linecolor\":\"white\",\"ticks\":\"\"},\"baxis\":{\"gridcolor\":\"white\",\"linecolor\":\"white\",\"ticks\":\"\"},\"bgcolor\":\"#E5ECF6\",\"caxis\":{\"gridcolor\":\"white\",\"linecolor\":\"white\",\"ticks\":\"\"}},\"title\":{\"x\":0.05},\"xaxis\":{\"automargin\":true,\"gridcolor\":\"white\",\"linecolor\":\"white\",\"ticks\":\"\",\"title\":{\"standoff\":15},\"zerolinecolor\":\"white\",\"zerolinewidth\":2},\"yaxis\":{\"automargin\":true,\"gridcolor\":\"white\",\"linecolor\":\"white\",\"ticks\":\"\",\"title\":{\"standoff\":15},\"zerolinecolor\":\"white\",\"zerolinewidth\":2}}},\"yaxis\":{\"range\":[0,1],\"title\":{\"text\":\"Accuracy\"}},\"title\":{\"text\":\"Fold 1's performance\",\"x\":0.5},\"margin\":{\"l\":20,\"r\":20,\"t\":40,\"b\":20},\"xaxis\":{\"title\":{\"text\":\"Epochs\"}},\"autosize\":false,\"width\":800,\"height\":400},                        {\"responsive\": true}                    ).then(function(){\n",
       "                            \n",
       "var gd = document.getElementById('113513dd-3693-4eb6-b3ee-e992195ec078');\n",
       "var x = new MutationObserver(function (mutations, observer) {{\n",
       "        var display = window.getComputedStyle(gd).display;\n",
       "        if (!display || display === 'none') {{\n",
       "            console.log([gd, 'removed!']);\n",
       "            Plotly.purge(gd);\n",
       "            observer.disconnect();\n",
       "        }}\n",
       "}});\n",
       "\n",
       "// Listen for the removal of the full notebook cells\n",
       "var notebookContainer = gd.closest('#notebook-container');\n",
       "if (notebookContainer) {{\n",
       "    x.observe(notebookContainer, {childList: true});\n",
       "}}\n",
       "\n",
       "// Listen for the clearing of the current output cell\n",
       "var outputEl = gd.closest('.output');\n",
       "if (outputEl) {{\n",
       "    x.observe(outputEl, {childList: true});\n",
       "}}\n",
       "\n",
       "                        })                };                });            </script>        </div>"
      ]
     },
     "metadata": {},
     "output_type": "display_data"
    },
    {
     "name": "stdout",
     "output_type": "stream",
     "text": [
      "225/225 [==============================] - 28s 123ms/step - loss: 1.8644 - accuracy: 0.3062\n",
      "hi\n",
      "                          filename     label\n",
      "2   surprise/Training_63239185.jpg  surprise\n",
      "6   surprise/Training_69351834.jpg  surprise\n",
      "7   surprise/Training_67440750.jpg  surprise\n",
      "12  surprise/Training_46386777.jpg  surprise\n",
      "18  surprise/Training_43664635.jpg  surprise\n",
      "Found 22967 validated image filenames belonging to 7 classes.\n",
      "Found 5742 validated image filenames belonging to 7 classes.\n",
      "Epoch 1/20\n",
      "718/718 - 29s - loss: 4.2923 - accuracy: 0.2035 - val_loss: 2.7134 - val_accuracy: 0.2226\n",
      "\n",
      "Epoch 00001: val_accuracy improved from -inf to 0.22257, saving model to /kaggle/working/Saved_CNN_Models/transfer_learning_model_resnet_50_20epochs/transfer_learning_model_resnet_50_model_2.h5\n"
     ]
    },
    {
     "name": "stderr",
     "output_type": "stream",
     "text": [
      "/opt/conda/lib/python3.7/site-packages/keras/utils/generic_utils.py:497: CustomMaskWarning:\n",
      "\n",
      "Custom mask layers require a config and must override get_config. When loading, the custom mask layer must be passed to the custom_objects argument.\n",
      "\n"
     ]
    },
    {
     "name": "stdout",
     "output_type": "stream",
     "text": [
      "Epoch 2/20\n",
      "718/718 - 25s - loss: 3.5029 - accuracy: 0.2315 - val_loss: 2.5019 - val_accuracy: 0.2377\n",
      "\n",
      "Epoch 00002: val_accuracy improved from 0.22257 to 0.23772, saving model to /kaggle/working/Saved_CNN_Models/transfer_learning_model_resnet_50_20epochs/transfer_learning_model_resnet_50_model_2.h5\n",
      "Epoch 3/20\n",
      "718/718 - 25s - loss: 3.1576 - accuracy: 0.2477 - val_loss: 2.2667 - val_accuracy: 0.2571\n",
      "\n",
      "Epoch 00003: val_accuracy improved from 0.23772 to 0.25705, saving model to /kaggle/working/Saved_CNN_Models/transfer_learning_model_resnet_50_20epochs/transfer_learning_model_resnet_50_model_2.h5\n",
      "Epoch 4/20\n",
      "718/718 - 25s - loss: 2.9314 - accuracy: 0.2533 - val_loss: 2.2711 - val_accuracy: 0.2461\n",
      "\n",
      "Epoch 00004: val_accuracy did not improve from 0.25705\n",
      "Epoch 5/20\n",
      "718/718 - 26s - loss: 2.7806 - accuracy: 0.2609 - val_loss: 2.3019 - val_accuracy: 0.2334\n",
      "\n",
      "Epoch 00005: val_accuracy did not improve from 0.25705\n",
      "Epoch 6/20\n",
      "718/718 - 25s - loss: 2.6563 - accuracy: 0.2683 - val_loss: 2.1555 - val_accuracy: 0.2525\n",
      "\n",
      "Epoch 00006: val_accuracy did not improve from 0.25705\n",
      "Epoch 7/20\n",
      "718/718 - 25s - loss: 2.5742 - accuracy: 0.2749 - val_loss: 2.2515 - val_accuracy: 0.2351\n",
      "\n",
      "Epoch 00007: val_accuracy did not improve from 0.25705\n",
      "Epoch 8/20\n",
      "718/718 - 25s - loss: 2.5058 - accuracy: 0.2781 - val_loss: 2.0730 - val_accuracy: 0.2564\n",
      "\n",
      "Epoch 00008: val_accuracy did not improve from 0.25705\n",
      "Epoch 9/20\n",
      "718/718 - 25s - loss: 2.4485 - accuracy: 0.2817 - val_loss: 1.9834 - val_accuracy: 0.2849\n",
      "\n",
      "Epoch 00009: val_accuracy improved from 0.25705 to 0.28492, saving model to /kaggle/working/Saved_CNN_Models/transfer_learning_model_resnet_50_20epochs/transfer_learning_model_resnet_50_model_2.h5\n",
      "Epoch 10/20\n",
      "718/718 - 25s - loss: 2.4045 - accuracy: 0.2830 - val_loss: 1.9445 - val_accuracy: 0.2839\n",
      "\n",
      "Epoch 00010: val_accuracy did not improve from 0.28492\n",
      "Epoch 11/20\n",
      "718/718 - 25s - loss: 2.3642 - accuracy: 0.2844 - val_loss: 1.9816 - val_accuracy: 0.2659\n",
      "\n",
      "Epoch 00011: val_accuracy did not improve from 0.28492\n",
      "Epoch 12/20\n",
      "718/718 - 25s - loss: 2.3413 - accuracy: 0.2883 - val_loss: 2.0126 - val_accuracy: 0.2672\n",
      "\n",
      "Epoch 00012: val_accuracy did not improve from 0.28492\n",
      "Epoch 13/20\n",
      "718/718 - 26s - loss: 2.2973 - accuracy: 0.2936 - val_loss: 2.0812 - val_accuracy: 0.2483\n",
      "\n",
      "Epoch 00013: val_accuracy did not improve from 0.28492\n",
      "Epoch 14/20\n",
      "718/718 - 25s - loss: 2.2768 - accuracy: 0.2929 - val_loss: 2.0140 - val_accuracy: 0.2720\n",
      "\n",
      "Epoch 00014: val_accuracy did not improve from 0.28492\n",
      "Epoch 15/20\n",
      "718/718 - 25s - loss: 2.2606 - accuracy: 0.2966 - val_loss: 1.9850 - val_accuracy: 0.2788\n",
      "\n",
      "Epoch 00015: val_accuracy did not improve from 0.28492\n",
      "Epoch 16/20\n",
      "718/718 - 25s - loss: 2.2421 - accuracy: 0.2966 - val_loss: 1.9060 - val_accuracy: 0.2832\n",
      "\n",
      "Epoch 00016: val_accuracy did not improve from 0.28492\n",
      "Epoch 17/20\n",
      "718/718 - 25s - loss: 2.2229 - accuracy: 0.3039 - val_loss: 1.9561 - val_accuracy: 0.2820\n",
      "\n",
      "Epoch 00017: val_accuracy did not improve from 0.28492\n",
      "Epoch 18/20\n",
      "718/718 - 25s - loss: 2.2129 - accuracy: 0.3031 - val_loss: 1.9287 - val_accuracy: 0.2872\n",
      "\n",
      "Epoch 00018: val_accuracy improved from 0.28492 to 0.28718, saving model to /kaggle/working/Saved_CNN_Models/transfer_learning_model_resnet_50_20epochs/transfer_learning_model_resnet_50_model_2.h5\n",
      "Epoch 19/20\n",
      "718/718 - 25s - loss: 2.2004 - accuracy: 0.3052 - val_loss: 1.8990 - val_accuracy: 0.2875\n",
      "\n",
      "Epoch 00019: val_accuracy improved from 0.28718 to 0.28753, saving model to /kaggle/working/Saved_CNN_Models/transfer_learning_model_resnet_50_20epochs/transfer_learning_model_resnet_50_model_2.h5\n",
      "Epoch 20/20\n",
      "718/718 - 25s - loss: 2.1944 - accuracy: 0.3014 - val_loss: 1.8810 - val_accuracy: 0.2945\n",
      "\n",
      "Epoch 00020: val_accuracy improved from 0.28753 to 0.29450, saving model to /kaggle/working/Saved_CNN_Models/transfer_learning_model_resnet_50_20epochs/transfer_learning_model_resnet_50_model_2.h5\n"
     ]
    },
    {
     "data": {
      "text/html": [
       "<div>                            <div id=\"6c3d3984-1c14-444d-9ad1-776b57603bb7\" class=\"plotly-graph-div\" style=\"height:400px; width:800px;\"></div>            <script type=\"text/javascript\">                require([\"plotly\"], function(Plotly) {                    window.PLOTLYENV=window.PLOTLYENV || {};                                    if (document.getElementById(\"6c3d3984-1c14-444d-9ad1-776b57603bb7\")) {                    Plotly.newPlot(                        \"6c3d3984-1c14-444d-9ad1-776b57603bb7\",                        [{\"mode\":\"lines+markers\",\"name\":\"Training Accuracy\",\"y\":[0.2035093903541565,0.2314625382423401,0.24765968322753906,0.25327643752098083,0.26089605689048767,0.2683415412902832,0.27487263083457947,0.27809464931488037,0.28166499733924866,0.28297123312950134,0.2843645215034485,0.28828319907188416,0.29355162382125854,0.2928985059261322,0.29655593633651733,0.29659947752952576,0.3038707673549652,0.303130567073822,0.3051770031452179,0.3013889491558075],\"type\":\"scatter\"},{\"mode\":\"lines+markers\",\"name\":\"Validation Accuracy\",\"y\":[0.222570538520813,0.23772205412387848,0.25705328583717346,0.24608150124549866,0.2333681583404541,0.2525252401828766,0.23510971665382385,0.2563566565513611,0.2849181592464447,0.28387320041656494,0.2659352123737335,0.2671543061733246,0.2483455240726471,0.27203065156936646,0.27882272005081177,0.28317660093307495,0.2819575071334839,0.28718215227127075,0.28753048181533813,0.29449668526649475],\"type\":\"scatter\"}],                        {\"template\":{\"data\":{\"bar\":[{\"error_x\":{\"color\":\"#2a3f5f\"},\"error_y\":{\"color\":\"#2a3f5f\"},\"marker\":{\"line\":{\"color\":\"#E5ECF6\",\"width\":0.5},\"pattern\":{\"fillmode\":\"overlay\",\"size\":10,\"solidity\":0.2}},\"type\":\"bar\"}],\"barpolar\":[{\"marker\":{\"line\":{\"color\":\"#E5ECF6\",\"width\":0.5},\"pattern\":{\"fillmode\":\"overlay\",\"size\":10,\"solidity\":0.2}},\"type\":\"barpolar\"}],\"carpet\":[{\"aaxis\":{\"endlinecolor\":\"#2a3f5f\",\"gridcolor\":\"white\",\"linecolor\":\"white\",\"minorgridcolor\":\"white\",\"startlinecolor\":\"#2a3f5f\"},\"baxis\":{\"endlinecolor\":\"#2a3f5f\",\"gridcolor\":\"white\",\"linecolor\":\"white\",\"minorgridcolor\":\"white\",\"startlinecolor\":\"#2a3f5f\"},\"type\":\"carpet\"}],\"choropleth\":[{\"colorbar\":{\"outlinewidth\":0,\"ticks\":\"\"},\"type\":\"choropleth\"}],\"contour\":[{\"colorbar\":{\"outlinewidth\":0,\"ticks\":\"\"},\"colorscale\":[[0.0,\"#0d0887\"],[0.1111111111111111,\"#46039f\"],[0.2222222222222222,\"#7201a8\"],[0.3333333333333333,\"#9c179e\"],[0.4444444444444444,\"#bd3786\"],[0.5555555555555556,\"#d8576b\"],[0.6666666666666666,\"#ed7953\"],[0.7777777777777778,\"#fb9f3a\"],[0.8888888888888888,\"#fdca26\"],[1.0,\"#f0f921\"]],\"type\":\"contour\"}],\"contourcarpet\":[{\"colorbar\":{\"outlinewidth\":0,\"ticks\":\"\"},\"type\":\"contourcarpet\"}],\"heatmap\":[{\"colorbar\":{\"outlinewidth\":0,\"ticks\":\"\"},\"colorscale\":[[0.0,\"#0d0887\"],[0.1111111111111111,\"#46039f\"],[0.2222222222222222,\"#7201a8\"],[0.3333333333333333,\"#9c179e\"],[0.4444444444444444,\"#bd3786\"],[0.5555555555555556,\"#d8576b\"],[0.6666666666666666,\"#ed7953\"],[0.7777777777777778,\"#fb9f3a\"],[0.8888888888888888,\"#fdca26\"],[1.0,\"#f0f921\"]],\"type\":\"heatmap\"}],\"heatmapgl\":[{\"colorbar\":{\"outlinewidth\":0,\"ticks\":\"\"},\"colorscale\":[[0.0,\"#0d0887\"],[0.1111111111111111,\"#46039f\"],[0.2222222222222222,\"#7201a8\"],[0.3333333333333333,\"#9c179e\"],[0.4444444444444444,\"#bd3786\"],[0.5555555555555556,\"#d8576b\"],[0.6666666666666666,\"#ed7953\"],[0.7777777777777778,\"#fb9f3a\"],[0.8888888888888888,\"#fdca26\"],[1.0,\"#f0f921\"]],\"type\":\"heatmapgl\"}],\"histogram\":[{\"marker\":{\"pattern\":{\"fillmode\":\"overlay\",\"size\":10,\"solidity\":0.2}},\"type\":\"histogram\"}],\"histogram2d\":[{\"colorbar\":{\"outlinewidth\":0,\"ticks\":\"\"},\"colorscale\":[[0.0,\"#0d0887\"],[0.1111111111111111,\"#46039f\"],[0.2222222222222222,\"#7201a8\"],[0.3333333333333333,\"#9c179e\"],[0.4444444444444444,\"#bd3786\"],[0.5555555555555556,\"#d8576b\"],[0.6666666666666666,\"#ed7953\"],[0.7777777777777778,\"#fb9f3a\"],[0.8888888888888888,\"#fdca26\"],[1.0,\"#f0f921\"]],\"type\":\"histogram2d\"}],\"histogram2dcontour\":[{\"colorbar\":{\"outlinewidth\":0,\"ticks\":\"\"},\"colorscale\":[[0.0,\"#0d0887\"],[0.1111111111111111,\"#46039f\"],[0.2222222222222222,\"#7201a8\"],[0.3333333333333333,\"#9c179e\"],[0.4444444444444444,\"#bd3786\"],[0.5555555555555556,\"#d8576b\"],[0.6666666666666666,\"#ed7953\"],[0.7777777777777778,\"#fb9f3a\"],[0.8888888888888888,\"#fdca26\"],[1.0,\"#f0f921\"]],\"type\":\"histogram2dcontour\"}],\"mesh3d\":[{\"colorbar\":{\"outlinewidth\":0,\"ticks\":\"\"},\"type\":\"mesh3d\"}],\"parcoords\":[{\"line\":{\"colorbar\":{\"outlinewidth\":0,\"ticks\":\"\"}},\"type\":\"parcoords\"}],\"pie\":[{\"automargin\":true,\"type\":\"pie\"}],\"scatter\":[{\"marker\":{\"colorbar\":{\"outlinewidth\":0,\"ticks\":\"\"}},\"type\":\"scatter\"}],\"scatter3d\":[{\"line\":{\"colorbar\":{\"outlinewidth\":0,\"ticks\":\"\"}},\"marker\":{\"colorbar\":{\"outlinewidth\":0,\"ticks\":\"\"}},\"type\":\"scatter3d\"}],\"scattercarpet\":[{\"marker\":{\"colorbar\":{\"outlinewidth\":0,\"ticks\":\"\"}},\"type\":\"scattercarpet\"}],\"scattergeo\":[{\"marker\":{\"colorbar\":{\"outlinewidth\":0,\"ticks\":\"\"}},\"type\":\"scattergeo\"}],\"scattergl\":[{\"marker\":{\"colorbar\":{\"outlinewidth\":0,\"ticks\":\"\"}},\"type\":\"scattergl\"}],\"scattermapbox\":[{\"marker\":{\"colorbar\":{\"outlinewidth\":0,\"ticks\":\"\"}},\"type\":\"scattermapbox\"}],\"scatterpolar\":[{\"marker\":{\"colorbar\":{\"outlinewidth\":0,\"ticks\":\"\"}},\"type\":\"scatterpolar\"}],\"scatterpolargl\":[{\"marker\":{\"colorbar\":{\"outlinewidth\":0,\"ticks\":\"\"}},\"type\":\"scatterpolargl\"}],\"scatterternary\":[{\"marker\":{\"colorbar\":{\"outlinewidth\":0,\"ticks\":\"\"}},\"type\":\"scatterternary\"}],\"surface\":[{\"colorbar\":{\"outlinewidth\":0,\"ticks\":\"\"},\"colorscale\":[[0.0,\"#0d0887\"],[0.1111111111111111,\"#46039f\"],[0.2222222222222222,\"#7201a8\"],[0.3333333333333333,\"#9c179e\"],[0.4444444444444444,\"#bd3786\"],[0.5555555555555556,\"#d8576b\"],[0.6666666666666666,\"#ed7953\"],[0.7777777777777778,\"#fb9f3a\"],[0.8888888888888888,\"#fdca26\"],[1.0,\"#f0f921\"]],\"type\":\"surface\"}],\"table\":[{\"cells\":{\"fill\":{\"color\":\"#EBF0F8\"},\"line\":{\"color\":\"white\"}},\"header\":{\"fill\":{\"color\":\"#C8D4E3\"},\"line\":{\"color\":\"white\"}},\"type\":\"table\"}]},\"layout\":{\"annotationdefaults\":{\"arrowcolor\":\"#2a3f5f\",\"arrowhead\":0,\"arrowwidth\":1},\"autotypenumbers\":\"strict\",\"coloraxis\":{\"colorbar\":{\"outlinewidth\":0,\"ticks\":\"\"}},\"colorscale\":{\"diverging\":[[0,\"#8e0152\"],[0.1,\"#c51b7d\"],[0.2,\"#de77ae\"],[0.3,\"#f1b6da\"],[0.4,\"#fde0ef\"],[0.5,\"#f7f7f7\"],[0.6,\"#e6f5d0\"],[0.7,\"#b8e186\"],[0.8,\"#7fbc41\"],[0.9,\"#4d9221\"],[1,\"#276419\"]],\"sequential\":[[0.0,\"#0d0887\"],[0.1111111111111111,\"#46039f\"],[0.2222222222222222,\"#7201a8\"],[0.3333333333333333,\"#9c179e\"],[0.4444444444444444,\"#bd3786\"],[0.5555555555555556,\"#d8576b\"],[0.6666666666666666,\"#ed7953\"],[0.7777777777777778,\"#fb9f3a\"],[0.8888888888888888,\"#fdca26\"],[1.0,\"#f0f921\"]],\"sequentialminus\":[[0.0,\"#0d0887\"],[0.1111111111111111,\"#46039f\"],[0.2222222222222222,\"#7201a8\"],[0.3333333333333333,\"#9c179e\"],[0.4444444444444444,\"#bd3786\"],[0.5555555555555556,\"#d8576b\"],[0.6666666666666666,\"#ed7953\"],[0.7777777777777778,\"#fb9f3a\"],[0.8888888888888888,\"#fdca26\"],[1.0,\"#f0f921\"]]},\"colorway\":[\"#636efa\",\"#EF553B\",\"#00cc96\",\"#ab63fa\",\"#FFA15A\",\"#19d3f3\",\"#FF6692\",\"#B6E880\",\"#FF97FF\",\"#FECB52\"],\"font\":{\"color\":\"#2a3f5f\"},\"geo\":{\"bgcolor\":\"white\",\"lakecolor\":\"white\",\"landcolor\":\"#E5ECF6\",\"showlakes\":true,\"showland\":true,\"subunitcolor\":\"white\"},\"hoverlabel\":{\"align\":\"left\"},\"hovermode\":\"closest\",\"mapbox\":{\"style\":\"light\"},\"paper_bgcolor\":\"white\",\"plot_bgcolor\":\"#E5ECF6\",\"polar\":{\"angularaxis\":{\"gridcolor\":\"white\",\"linecolor\":\"white\",\"ticks\":\"\"},\"bgcolor\":\"#E5ECF6\",\"radialaxis\":{\"gridcolor\":\"white\",\"linecolor\":\"white\",\"ticks\":\"\"}},\"scene\":{\"xaxis\":{\"backgroundcolor\":\"#E5ECF6\",\"gridcolor\":\"white\",\"gridwidth\":2,\"linecolor\":\"white\",\"showbackground\":true,\"ticks\":\"\",\"zerolinecolor\":\"white\"},\"yaxis\":{\"backgroundcolor\":\"#E5ECF6\",\"gridcolor\":\"white\",\"gridwidth\":2,\"linecolor\":\"white\",\"showbackground\":true,\"ticks\":\"\",\"zerolinecolor\":\"white\"},\"zaxis\":{\"backgroundcolor\":\"#E5ECF6\",\"gridcolor\":\"white\",\"gridwidth\":2,\"linecolor\":\"white\",\"showbackground\":true,\"ticks\":\"\",\"zerolinecolor\":\"white\"}},\"shapedefaults\":{\"line\":{\"color\":\"#2a3f5f\"}},\"ternary\":{\"aaxis\":{\"gridcolor\":\"white\",\"linecolor\":\"white\",\"ticks\":\"\"},\"baxis\":{\"gridcolor\":\"white\",\"linecolor\":\"white\",\"ticks\":\"\"},\"bgcolor\":\"#E5ECF6\",\"caxis\":{\"gridcolor\":\"white\",\"linecolor\":\"white\",\"ticks\":\"\"}},\"title\":{\"x\":0.05},\"xaxis\":{\"automargin\":true,\"gridcolor\":\"white\",\"linecolor\":\"white\",\"ticks\":\"\",\"title\":{\"standoff\":15},\"zerolinecolor\":\"white\",\"zerolinewidth\":2},\"yaxis\":{\"automargin\":true,\"gridcolor\":\"white\",\"linecolor\":\"white\",\"ticks\":\"\",\"title\":{\"standoff\":15},\"zerolinecolor\":\"white\",\"zerolinewidth\":2}}},\"yaxis\":{\"range\":[0,1],\"title\":{\"text\":\"Accuracy\"}},\"title\":{\"text\":\"Fold 2's performance\",\"x\":0.5},\"margin\":{\"l\":20,\"r\":20,\"t\":40,\"b\":20},\"xaxis\":{\"title\":{\"text\":\"Epochs\"}},\"autosize\":false,\"width\":800,\"height\":400},                        {\"responsive\": true}                    ).then(function(){\n",
       "                            \n",
       "var gd = document.getElementById('6c3d3984-1c14-444d-9ad1-776b57603bb7');\n",
       "var x = new MutationObserver(function (mutations, observer) {{\n",
       "        var display = window.getComputedStyle(gd).display;\n",
       "        if (!display || display === 'none') {{\n",
       "            console.log([gd, 'removed!']);\n",
       "            Plotly.purge(gd);\n",
       "            observer.disconnect();\n",
       "        }}\n",
       "}});\n",
       "\n",
       "// Listen for the removal of the full notebook cells\n",
       "var notebookContainer = gd.closest('#notebook-container');\n",
       "if (notebookContainer) {{\n",
       "    x.observe(notebookContainer, {childList: true});\n",
       "}}\n",
       "\n",
       "// Listen for the clearing of the current output cell\n",
       "var outputEl = gd.closest('.output');\n",
       "if (outputEl) {{\n",
       "    x.observe(outputEl, {childList: true});\n",
       "}}\n",
       "\n",
       "                        })                };                });            </script>        </div>"
      ]
     },
     "metadata": {},
     "output_type": "display_data"
    },
    {
     "name": "stdout",
     "output_type": "stream",
     "text": [
      "225/225 [==============================] - 7s 32ms/step - loss: 1.8692 - accuracy: 0.3073\n",
      "hi\n",
      "                          filename     label\n",
      "4   surprise/Training_71308969.jpg  surprise\n",
      "8   surprise/Training_93942694.jpg  surprise\n",
      "9   surprise/Training_11693705.jpg  surprise\n",
      "22  surprise/Training_11550894.jpg  surprise\n",
      "23  surprise/Training_91279496.jpg  surprise\n",
      "Found 22967 validated image filenames belonging to 7 classes.\n",
      "Found 5742 validated image filenames belonging to 7 classes.\n",
      "Epoch 1/20\n",
      "718/718 - 35s - loss: 4.4712 - accuracy: 0.2002 - val_loss: 2.7324 - val_accuracy: 0.2187\n",
      "\n",
      "Epoch 00001: val_accuracy improved from -inf to 0.21874, saving model to /kaggle/working/Saved_CNN_Models/transfer_learning_model_resnet_50_20epochs/transfer_learning_model_resnet_50_model_3.h5\n"
     ]
    },
    {
     "name": "stderr",
     "output_type": "stream",
     "text": [
      "/opt/conda/lib/python3.7/site-packages/keras/utils/generic_utils.py:497: CustomMaskWarning:\n",
      "\n",
      "Custom mask layers require a config and must override get_config. When loading, the custom mask layer must be passed to the custom_objects argument.\n",
      "\n"
     ]
    },
    {
     "name": "stdout",
     "output_type": "stream",
     "text": [
      "Epoch 2/20\n",
      "718/718 - 25s - loss: 3.4893 - accuracy: 0.2316 - val_loss: 2.6454 - val_accuracy: 0.2116\n",
      "\n",
      "Epoch 00002: val_accuracy did not improve from 0.21874\n",
      "Epoch 3/20\n",
      "718/718 - 26s - loss: 3.1570 - accuracy: 0.2447 - val_loss: 2.2714 - val_accuracy: 0.2541\n",
      "\n",
      "Epoch 00003: val_accuracy improved from 0.21874 to 0.25409, saving model to /kaggle/working/Saved_CNN_Models/transfer_learning_model_resnet_50_20epochs/transfer_learning_model_resnet_50_model_3.h5\n",
      "Epoch 4/20\n",
      "718/718 - 25s - loss: 2.9338 - accuracy: 0.2534 - val_loss: 2.1959 - val_accuracy: 0.2543\n",
      "\n",
      "Epoch 00004: val_accuracy improved from 0.25409 to 0.25427, saving model to /kaggle/working/Saved_CNN_Models/transfer_learning_model_resnet_50_20epochs/transfer_learning_model_resnet_50_model_3.h5\n",
      "Epoch 5/20\n",
      "718/718 - 26s - loss: 2.7751 - accuracy: 0.2649 - val_loss: 2.3548 - val_accuracy: 0.2410\n",
      "\n",
      "Epoch 00005: val_accuracy did not improve from 0.25427\n",
      "Epoch 6/20\n",
      "718/718 - 25s - loss: 2.6789 - accuracy: 0.2697 - val_loss: 1.9808 - val_accuracy: 0.2820\n",
      "\n",
      "Epoch 00006: val_accuracy improved from 0.25427 to 0.28196, saving model to /kaggle/working/Saved_CNN_Models/transfer_learning_model_resnet_50_20epochs/transfer_learning_model_resnet_50_model_3.h5\n",
      "Epoch 7/20\n",
      "718/718 - 26s - loss: 2.5742 - accuracy: 0.2730 - val_loss: 2.1808 - val_accuracy: 0.2417\n",
      "\n",
      "Epoch 00007: val_accuracy did not improve from 0.28196\n",
      "Epoch 8/20\n",
      "718/718 - 25s - loss: 2.4996 - accuracy: 0.2782 - val_loss: 2.2388 - val_accuracy: 0.2299\n",
      "\n",
      "Epoch 00008: val_accuracy did not improve from 0.28196\n",
      "Epoch 9/20\n",
      "718/718 - 25s - loss: 2.4509 - accuracy: 0.2794 - val_loss: 2.0839 - val_accuracy: 0.2663\n",
      "\n",
      "Epoch 00009: val_accuracy did not improve from 0.28196\n",
      "Epoch 10/20\n",
      "718/718 - 25s - loss: 2.3952 - accuracy: 0.2881 - val_loss: 2.0591 - val_accuracy: 0.2595\n",
      "\n",
      "Epoch 00010: val_accuracy did not improve from 0.28196\n",
      "Epoch 11/20\n",
      "718/718 - 25s - loss: 2.3863 - accuracy: 0.2851 - val_loss: 2.0785 - val_accuracy: 0.2640\n",
      "\n",
      "Epoch 00011: val_accuracy did not improve from 0.28196\n",
      "Epoch 12/20\n",
      "718/718 - 24s - loss: 2.3347 - accuracy: 0.2872 - val_loss: 2.0158 - val_accuracy: 0.2694\n",
      "\n",
      "Epoch 00012: val_accuracy did not improve from 0.28196\n",
      "Epoch 13/20\n",
      "718/718 - 25s - loss: 2.3027 - accuracy: 0.2939 - val_loss: 1.9918 - val_accuracy: 0.2665\n",
      "\n",
      "Epoch 00013: val_accuracy did not improve from 0.28196\n",
      "Epoch 14/20\n",
      "718/718 - 25s - loss: 2.2880 - accuracy: 0.2925 - val_loss: 2.1167 - val_accuracy: 0.2485\n",
      "\n",
      "Epoch 00014: val_accuracy did not improve from 0.28196\n",
      "Epoch 15/20\n",
      "718/718 - 25s - loss: 2.2611 - accuracy: 0.2947 - val_loss: 1.9303 - val_accuracy: 0.2961\n",
      "\n",
      "Epoch 00015: val_accuracy improved from 0.28196 to 0.29606, saving model to /kaggle/working/Saved_CNN_Models/transfer_learning_model_resnet_50_20epochs/transfer_learning_model_resnet_50_model_3.h5\n",
      "Epoch 16/20\n",
      "718/718 - 25s - loss: 2.2517 - accuracy: 0.2992 - val_loss: 1.9694 - val_accuracy: 0.2818\n",
      "\n",
      "Epoch 00016: val_accuracy did not improve from 0.29606\n",
      "Epoch 17/20\n",
      "718/718 - 25s - loss: 2.2296 - accuracy: 0.2976 - val_loss: 1.9923 - val_accuracy: 0.2719\n",
      "\n",
      "Epoch 00017: val_accuracy did not improve from 0.29606\n",
      "Epoch 18/20\n",
      "718/718 - 25s - loss: 2.2199 - accuracy: 0.3031 - val_loss: 1.9738 - val_accuracy: 0.2696\n",
      "\n",
      "Epoch 00018: val_accuracy did not improve from 0.29606\n",
      "Epoch 19/20\n",
      "718/718 - 26s - loss: 2.2066 - accuracy: 0.3028 - val_loss: 1.9771 - val_accuracy: 0.2692\n",
      "\n",
      "Epoch 00019: val_accuracy did not improve from 0.29606\n",
      "Epoch 20/20\n",
      "718/718 - 26s - loss: 2.1948 - accuracy: 0.3081 - val_loss: 1.8889 - val_accuracy: 0.2870\n",
      "\n",
      "Epoch 00020: val_accuracy did not improve from 0.29606\n"
     ]
    },
    {
     "data": {
      "text/html": [
       "<div>                            <div id=\"53937991-3d6a-4570-b832-910fd46ce9b1\" class=\"plotly-graph-div\" style=\"height:400px; width:800px;\"></div>            <script type=\"text/javascript\">                require([\"plotly\"], function(Plotly) {                    window.PLOTLYENV=window.PLOTLYENV || {};                                    if (document.getElementById(\"53937991-3d6a-4570-b832-910fd46ce9b1\")) {                    Plotly.newPlot(                        \"53937991-3d6a-4570-b832-910fd46ce9b1\",                        [{\"mode\":\"lines+markers\",\"name\":\"Training Accuracy\",\"y\":[0.20015674829483032,0.23163670301437378,0.24465537071228027,0.2534070611000061,0.26485827565193176,0.2696912884712219,0.27295684814453125,0.27822527289390564,0.27940088510513306,0.28806549310684204,0.28506118059158325,0.2871946692466736,0.2938564121723175,0.292463093996048,0.29468366503715515,0.29921191930770874,0.29755735397338867,0.303130567073822,0.302782267332077,0.30813777446746826],\"type\":\"scatter\"},{\"mode\":\"lines+markers\",\"name\":\"Validation Accuracy\",\"y\":[0.2187391221523285,0.211598739027977,0.25409266352653503,0.25426679849624634,0.2410310059785843,0.2819575071334839,0.24172762036323547,0.2298850566148758,0.2662835121154785,0.2594914734363556,0.26401951909065247,0.269418329000473,0.2664576768875122,0.2485196739435196,0.2960640788078308,0.2817833423614502,0.27185648679733276,0.2695924639701843,0.26924416422843933,0.28700801730155945],\"type\":\"scatter\"}],                        {\"template\":{\"data\":{\"bar\":[{\"error_x\":{\"color\":\"#2a3f5f\"},\"error_y\":{\"color\":\"#2a3f5f\"},\"marker\":{\"line\":{\"color\":\"#E5ECF6\",\"width\":0.5},\"pattern\":{\"fillmode\":\"overlay\",\"size\":10,\"solidity\":0.2}},\"type\":\"bar\"}],\"barpolar\":[{\"marker\":{\"line\":{\"color\":\"#E5ECF6\",\"width\":0.5},\"pattern\":{\"fillmode\":\"overlay\",\"size\":10,\"solidity\":0.2}},\"type\":\"barpolar\"}],\"carpet\":[{\"aaxis\":{\"endlinecolor\":\"#2a3f5f\",\"gridcolor\":\"white\",\"linecolor\":\"white\",\"minorgridcolor\":\"white\",\"startlinecolor\":\"#2a3f5f\"},\"baxis\":{\"endlinecolor\":\"#2a3f5f\",\"gridcolor\":\"white\",\"linecolor\":\"white\",\"minorgridcolor\":\"white\",\"startlinecolor\":\"#2a3f5f\"},\"type\":\"carpet\"}],\"choropleth\":[{\"colorbar\":{\"outlinewidth\":0,\"ticks\":\"\"},\"type\":\"choropleth\"}],\"contour\":[{\"colorbar\":{\"outlinewidth\":0,\"ticks\":\"\"},\"colorscale\":[[0.0,\"#0d0887\"],[0.1111111111111111,\"#46039f\"],[0.2222222222222222,\"#7201a8\"],[0.3333333333333333,\"#9c179e\"],[0.4444444444444444,\"#bd3786\"],[0.5555555555555556,\"#d8576b\"],[0.6666666666666666,\"#ed7953\"],[0.7777777777777778,\"#fb9f3a\"],[0.8888888888888888,\"#fdca26\"],[1.0,\"#f0f921\"]],\"type\":\"contour\"}],\"contourcarpet\":[{\"colorbar\":{\"outlinewidth\":0,\"ticks\":\"\"},\"type\":\"contourcarpet\"}],\"heatmap\":[{\"colorbar\":{\"outlinewidth\":0,\"ticks\":\"\"},\"colorscale\":[[0.0,\"#0d0887\"],[0.1111111111111111,\"#46039f\"],[0.2222222222222222,\"#7201a8\"],[0.3333333333333333,\"#9c179e\"],[0.4444444444444444,\"#bd3786\"],[0.5555555555555556,\"#d8576b\"],[0.6666666666666666,\"#ed7953\"],[0.7777777777777778,\"#fb9f3a\"],[0.8888888888888888,\"#fdca26\"],[1.0,\"#f0f921\"]],\"type\":\"heatmap\"}],\"heatmapgl\":[{\"colorbar\":{\"outlinewidth\":0,\"ticks\":\"\"},\"colorscale\":[[0.0,\"#0d0887\"],[0.1111111111111111,\"#46039f\"],[0.2222222222222222,\"#7201a8\"],[0.3333333333333333,\"#9c179e\"],[0.4444444444444444,\"#bd3786\"],[0.5555555555555556,\"#d8576b\"],[0.6666666666666666,\"#ed7953\"],[0.7777777777777778,\"#fb9f3a\"],[0.8888888888888888,\"#fdca26\"],[1.0,\"#f0f921\"]],\"type\":\"heatmapgl\"}],\"histogram\":[{\"marker\":{\"pattern\":{\"fillmode\":\"overlay\",\"size\":10,\"solidity\":0.2}},\"type\":\"histogram\"}],\"histogram2d\":[{\"colorbar\":{\"outlinewidth\":0,\"ticks\":\"\"},\"colorscale\":[[0.0,\"#0d0887\"],[0.1111111111111111,\"#46039f\"],[0.2222222222222222,\"#7201a8\"],[0.3333333333333333,\"#9c179e\"],[0.4444444444444444,\"#bd3786\"],[0.5555555555555556,\"#d8576b\"],[0.6666666666666666,\"#ed7953\"],[0.7777777777777778,\"#fb9f3a\"],[0.8888888888888888,\"#fdca26\"],[1.0,\"#f0f921\"]],\"type\":\"histogram2d\"}],\"histogram2dcontour\":[{\"colorbar\":{\"outlinewidth\":0,\"ticks\":\"\"},\"colorscale\":[[0.0,\"#0d0887\"],[0.1111111111111111,\"#46039f\"],[0.2222222222222222,\"#7201a8\"],[0.3333333333333333,\"#9c179e\"],[0.4444444444444444,\"#bd3786\"],[0.5555555555555556,\"#d8576b\"],[0.6666666666666666,\"#ed7953\"],[0.7777777777777778,\"#fb9f3a\"],[0.8888888888888888,\"#fdca26\"],[1.0,\"#f0f921\"]],\"type\":\"histogram2dcontour\"}],\"mesh3d\":[{\"colorbar\":{\"outlinewidth\":0,\"ticks\":\"\"},\"type\":\"mesh3d\"}],\"parcoords\":[{\"line\":{\"colorbar\":{\"outlinewidth\":0,\"ticks\":\"\"}},\"type\":\"parcoords\"}],\"pie\":[{\"automargin\":true,\"type\":\"pie\"}],\"scatter\":[{\"marker\":{\"colorbar\":{\"outlinewidth\":0,\"ticks\":\"\"}},\"type\":\"scatter\"}],\"scatter3d\":[{\"line\":{\"colorbar\":{\"outlinewidth\":0,\"ticks\":\"\"}},\"marker\":{\"colorbar\":{\"outlinewidth\":0,\"ticks\":\"\"}},\"type\":\"scatter3d\"}],\"scattercarpet\":[{\"marker\":{\"colorbar\":{\"outlinewidth\":0,\"ticks\":\"\"}},\"type\":\"scattercarpet\"}],\"scattergeo\":[{\"marker\":{\"colorbar\":{\"outlinewidth\":0,\"ticks\":\"\"}},\"type\":\"scattergeo\"}],\"scattergl\":[{\"marker\":{\"colorbar\":{\"outlinewidth\":0,\"ticks\":\"\"}},\"type\":\"scattergl\"}],\"scattermapbox\":[{\"marker\":{\"colorbar\":{\"outlinewidth\":0,\"ticks\":\"\"}},\"type\":\"scattermapbox\"}],\"scatterpolar\":[{\"marker\":{\"colorbar\":{\"outlinewidth\":0,\"ticks\":\"\"}},\"type\":\"scatterpolar\"}],\"scatterpolargl\":[{\"marker\":{\"colorbar\":{\"outlinewidth\":0,\"ticks\":\"\"}},\"type\":\"scatterpolargl\"}],\"scatterternary\":[{\"marker\":{\"colorbar\":{\"outlinewidth\":0,\"ticks\":\"\"}},\"type\":\"scatterternary\"}],\"surface\":[{\"colorbar\":{\"outlinewidth\":0,\"ticks\":\"\"},\"colorscale\":[[0.0,\"#0d0887\"],[0.1111111111111111,\"#46039f\"],[0.2222222222222222,\"#7201a8\"],[0.3333333333333333,\"#9c179e\"],[0.4444444444444444,\"#bd3786\"],[0.5555555555555556,\"#d8576b\"],[0.6666666666666666,\"#ed7953\"],[0.7777777777777778,\"#fb9f3a\"],[0.8888888888888888,\"#fdca26\"],[1.0,\"#f0f921\"]],\"type\":\"surface\"}],\"table\":[{\"cells\":{\"fill\":{\"color\":\"#EBF0F8\"},\"line\":{\"color\":\"white\"}},\"header\":{\"fill\":{\"color\":\"#C8D4E3\"},\"line\":{\"color\":\"white\"}},\"type\":\"table\"}]},\"layout\":{\"annotationdefaults\":{\"arrowcolor\":\"#2a3f5f\",\"arrowhead\":0,\"arrowwidth\":1},\"autotypenumbers\":\"strict\",\"coloraxis\":{\"colorbar\":{\"outlinewidth\":0,\"ticks\":\"\"}},\"colorscale\":{\"diverging\":[[0,\"#8e0152\"],[0.1,\"#c51b7d\"],[0.2,\"#de77ae\"],[0.3,\"#f1b6da\"],[0.4,\"#fde0ef\"],[0.5,\"#f7f7f7\"],[0.6,\"#e6f5d0\"],[0.7,\"#b8e186\"],[0.8,\"#7fbc41\"],[0.9,\"#4d9221\"],[1,\"#276419\"]],\"sequential\":[[0.0,\"#0d0887\"],[0.1111111111111111,\"#46039f\"],[0.2222222222222222,\"#7201a8\"],[0.3333333333333333,\"#9c179e\"],[0.4444444444444444,\"#bd3786\"],[0.5555555555555556,\"#d8576b\"],[0.6666666666666666,\"#ed7953\"],[0.7777777777777778,\"#fb9f3a\"],[0.8888888888888888,\"#fdca26\"],[1.0,\"#f0f921\"]],\"sequentialminus\":[[0.0,\"#0d0887\"],[0.1111111111111111,\"#46039f\"],[0.2222222222222222,\"#7201a8\"],[0.3333333333333333,\"#9c179e\"],[0.4444444444444444,\"#bd3786\"],[0.5555555555555556,\"#d8576b\"],[0.6666666666666666,\"#ed7953\"],[0.7777777777777778,\"#fb9f3a\"],[0.8888888888888888,\"#fdca26\"],[1.0,\"#f0f921\"]]},\"colorway\":[\"#636efa\",\"#EF553B\",\"#00cc96\",\"#ab63fa\",\"#FFA15A\",\"#19d3f3\",\"#FF6692\",\"#B6E880\",\"#FF97FF\",\"#FECB52\"],\"font\":{\"color\":\"#2a3f5f\"},\"geo\":{\"bgcolor\":\"white\",\"lakecolor\":\"white\",\"landcolor\":\"#E5ECF6\",\"showlakes\":true,\"showland\":true,\"subunitcolor\":\"white\"},\"hoverlabel\":{\"align\":\"left\"},\"hovermode\":\"closest\",\"mapbox\":{\"style\":\"light\"},\"paper_bgcolor\":\"white\",\"plot_bgcolor\":\"#E5ECF6\",\"polar\":{\"angularaxis\":{\"gridcolor\":\"white\",\"linecolor\":\"white\",\"ticks\":\"\"},\"bgcolor\":\"#E5ECF6\",\"radialaxis\":{\"gridcolor\":\"white\",\"linecolor\":\"white\",\"ticks\":\"\"}},\"scene\":{\"xaxis\":{\"backgroundcolor\":\"#E5ECF6\",\"gridcolor\":\"white\",\"gridwidth\":2,\"linecolor\":\"white\",\"showbackground\":true,\"ticks\":\"\",\"zerolinecolor\":\"white\"},\"yaxis\":{\"backgroundcolor\":\"#E5ECF6\",\"gridcolor\":\"white\",\"gridwidth\":2,\"linecolor\":\"white\",\"showbackground\":true,\"ticks\":\"\",\"zerolinecolor\":\"white\"},\"zaxis\":{\"backgroundcolor\":\"#E5ECF6\",\"gridcolor\":\"white\",\"gridwidth\":2,\"linecolor\":\"white\",\"showbackground\":true,\"ticks\":\"\",\"zerolinecolor\":\"white\"}},\"shapedefaults\":{\"line\":{\"color\":\"#2a3f5f\"}},\"ternary\":{\"aaxis\":{\"gridcolor\":\"white\",\"linecolor\":\"white\",\"ticks\":\"\"},\"baxis\":{\"gridcolor\":\"white\",\"linecolor\":\"white\",\"ticks\":\"\"},\"bgcolor\":\"#E5ECF6\",\"caxis\":{\"gridcolor\":\"white\",\"linecolor\":\"white\",\"ticks\":\"\"}},\"title\":{\"x\":0.05},\"xaxis\":{\"automargin\":true,\"gridcolor\":\"white\",\"linecolor\":\"white\",\"ticks\":\"\",\"title\":{\"standoff\":15},\"zerolinecolor\":\"white\",\"zerolinewidth\":2},\"yaxis\":{\"automargin\":true,\"gridcolor\":\"white\",\"linecolor\":\"white\",\"ticks\":\"\",\"title\":{\"standoff\":15},\"zerolinecolor\":\"white\",\"zerolinewidth\":2}}},\"yaxis\":{\"range\":[0,1],\"title\":{\"text\":\"Accuracy\"}},\"title\":{\"text\":\"Fold 3's performance\",\"x\":0.5},\"margin\":{\"l\":20,\"r\":20,\"t\":40,\"b\":20},\"xaxis\":{\"title\":{\"text\":\"Epochs\"}},\"autosize\":false,\"width\":800,\"height\":400},                        {\"responsive\": true}                    ).then(function(){\n",
       "                            \n",
       "var gd = document.getElementById('53937991-3d6a-4570-b832-910fd46ce9b1');\n",
       "var x = new MutationObserver(function (mutations, observer) {{\n",
       "        var display = window.getComputedStyle(gd).display;\n",
       "        if (!display || display === 'none') {{\n",
       "            console.log([gd, 'removed!']);\n",
       "            Plotly.purge(gd);\n",
       "            observer.disconnect();\n",
       "        }}\n",
       "}});\n",
       "\n",
       "// Listen for the removal of the full notebook cells\n",
       "var notebookContainer = gd.closest('#notebook-container');\n",
       "if (notebookContainer) {{\n",
       "    x.observe(notebookContainer, {childList: true});\n",
       "}}\n",
       "\n",
       "// Listen for the clearing of the current output cell\n",
       "var outputEl = gd.closest('.output');\n",
       "if (outputEl) {{\n",
       "    x.observe(outputEl, {childList: true});\n",
       "}}\n",
       "\n",
       "                        })                };                });            </script>        </div>"
      ]
     },
     "metadata": {},
     "output_type": "display_data"
    },
    {
     "name": "stdout",
     "output_type": "stream",
     "text": [
      "225/225 [==============================] - 7s 29ms/step - loss: 1.9221 - accuracy: 0.3044\n",
      "hi\n",
      "                          filename     label\n",
      "0   surprise/Training_66056468.jpg  surprise\n",
      "3   surprise/Training_67725241.jpg  surprise\n",
      "11  surprise/Training_62829838.jpg  surprise\n",
      "14  surprise/Training_97275390.jpg  surprise\n",
      "19  surprise/Training_29912845.jpg  surprise\n",
      "Found 22967 validated image filenames belonging to 7 classes.\n",
      "Found 5742 validated image filenames belonging to 7 classes.\n",
      "Epoch 1/20\n",
      "718/718 - 29s - loss: 4.1899 - accuracy: 0.2036 - val_loss: 2.7576 - val_accuracy: 0.2194\n",
      "\n",
      "Epoch 00001: val_accuracy improved from -inf to 0.21944, saving model to /kaggle/working/Saved_CNN_Models/transfer_learning_model_resnet_50_20epochs/transfer_learning_model_resnet_50_model_4.h5\n"
     ]
    },
    {
     "name": "stderr",
     "output_type": "stream",
     "text": [
      "/opt/conda/lib/python3.7/site-packages/keras/utils/generic_utils.py:497: CustomMaskWarning:\n",
      "\n",
      "Custom mask layers require a config and must override get_config. When loading, the custom mask layer must be passed to the custom_objects argument.\n",
      "\n"
     ]
    },
    {
     "name": "stdout",
     "output_type": "stream",
     "text": [
      "Epoch 2/20\n",
      "718/718 - 25s - loss: 3.4340 - accuracy: 0.2333 - val_loss: 2.7215 - val_accuracy: 0.2074\n",
      "\n",
      "Epoch 00002: val_accuracy did not improve from 0.21944\n",
      "Epoch 3/20\n",
      "718/718 - 25s - loss: 3.1092 - accuracy: 0.2471 - val_loss: 2.4754 - val_accuracy: 0.2215\n",
      "\n",
      "Epoch 00003: val_accuracy improved from 0.21944 to 0.22153, saving model to /kaggle/working/Saved_CNN_Models/transfer_learning_model_resnet_50_20epochs/transfer_learning_model_resnet_50_model_4.h5\n",
      "Epoch 4/20\n",
      "718/718 - 25s - loss: 2.8871 - accuracy: 0.2547 - val_loss: 2.2895 - val_accuracy: 0.2478\n",
      "\n",
      "Epoch 00004: val_accuracy improved from 0.22153 to 0.24782, saving model to /kaggle/working/Saved_CNN_Models/transfer_learning_model_resnet_50_20epochs/transfer_learning_model_resnet_50_model_4.h5\n",
      "Epoch 5/20\n",
      "718/718 - 25s - loss: 2.7661 - accuracy: 0.2592 - val_loss: 2.3064 - val_accuracy: 0.2339\n",
      "\n",
      "Epoch 00005: val_accuracy did not improve from 0.24782\n",
      "Epoch 6/20\n",
      "718/718 - 25s - loss: 2.6712 - accuracy: 0.2637 - val_loss: 2.1679 - val_accuracy: 0.2485\n",
      "\n",
      "Epoch 00006: val_accuracy improved from 0.24782 to 0.24852, saving model to /kaggle/working/Saved_CNN_Models/transfer_learning_model_resnet_50_20epochs/transfer_learning_model_resnet_50_model_4.h5\n",
      "Epoch 7/20\n",
      "718/718 - 25s - loss: 2.5650 - accuracy: 0.2693 - val_loss: 2.1706 - val_accuracy: 0.2442\n",
      "\n",
      "Epoch 00007: val_accuracy did not improve from 0.24852\n",
      "Epoch 8/20\n",
      "718/718 - 25s - loss: 2.5087 - accuracy: 0.2742 - val_loss: 2.2207 - val_accuracy: 0.2335\n",
      "\n",
      "Epoch 00008: val_accuracy did not improve from 0.24852\n",
      "Epoch 9/20\n",
      "718/718 - 25s - loss: 2.4341 - accuracy: 0.2815 - val_loss: 2.0694 - val_accuracy: 0.2668\n",
      "\n",
      "Epoch 00009: val_accuracy improved from 0.24852 to 0.26681, saving model to /kaggle/working/Saved_CNN_Models/transfer_learning_model_resnet_50_20epochs/transfer_learning_model_resnet_50_model_4.h5\n",
      "Epoch 10/20\n",
      "718/718 - 26s - loss: 2.4046 - accuracy: 0.2812 - val_loss: 2.0325 - val_accuracy: 0.2551\n",
      "\n",
      "Epoch 00010: val_accuracy did not improve from 0.26681\n",
      "Epoch 11/20\n",
      "718/718 - 25s - loss: 2.3514 - accuracy: 0.2865 - val_loss: 2.0710 - val_accuracy: 0.2576\n",
      "\n",
      "Epoch 00011: val_accuracy did not improve from 0.26681\n",
      "Epoch 12/20\n",
      "718/718 - 25s - loss: 2.3207 - accuracy: 0.2861 - val_loss: 2.0671 - val_accuracy: 0.2468\n",
      "\n",
      "Epoch 00012: val_accuracy did not improve from 0.26681\n",
      "Epoch 13/20\n",
      "718/718 - 25s - loss: 2.2973 - accuracy: 0.2868 - val_loss: 1.8962 - val_accuracy: 0.3060\n",
      "\n",
      "Epoch 00013: val_accuracy improved from 0.26681 to 0.30599, saving model to /kaggle/working/Saved_CNN_Models/transfer_learning_model_resnet_50_20epochs/transfer_learning_model_resnet_50_model_4.h5\n",
      "Epoch 14/20\n",
      "718/718 - 25s - loss: 2.2702 - accuracy: 0.2940 - val_loss: 1.9349 - val_accuracy: 0.2792\n",
      "\n",
      "Epoch 00014: val_accuracy did not improve from 0.30599\n",
      "Epoch 15/20\n",
      "718/718 - 25s - loss: 2.2626 - accuracy: 0.2942 - val_loss: 1.9931 - val_accuracy: 0.2684\n",
      "\n",
      "Epoch 00015: val_accuracy did not improve from 0.30599\n",
      "Epoch 16/20\n",
      "718/718 - 26s - loss: 2.2394 - accuracy: 0.2988 - val_loss: 1.8692 - val_accuracy: 0.2907\n",
      "\n",
      "Epoch 00016: val_accuracy did not improve from 0.30599\n",
      "Epoch 17/20\n",
      "718/718 - 27s - loss: 2.2249 - accuracy: 0.2998 - val_loss: 1.9403 - val_accuracy: 0.2781\n",
      "\n",
      "Epoch 00017: val_accuracy did not improve from 0.30599\n",
      "Epoch 18/20\n",
      "718/718 - 25s - loss: 2.2172 - accuracy: 0.2990 - val_loss: 1.9889 - val_accuracy: 0.2781\n",
      "\n",
      "Epoch 00018: val_accuracy did not improve from 0.30599\n",
      "Epoch 19/20\n",
      "718/718 - 25s - loss: 2.1913 - accuracy: 0.3053 - val_loss: 1.9051 - val_accuracy: 0.2945\n",
      "\n",
      "Epoch 00019: val_accuracy did not improve from 0.30599\n",
      "Epoch 20/20\n",
      "718/718 - 26s - loss: 2.1899 - accuracy: 0.3073 - val_loss: 1.9896 - val_accuracy: 0.2731\n",
      "\n",
      "Epoch 00020: val_accuracy did not improve from 0.30599\n"
     ]
    },
    {
     "data": {
      "text/html": [
       "<div>                            <div id=\"de78d960-dd76-4895-ba8b-0fa29881407d\" class=\"plotly-graph-div\" style=\"height:400px; width:800px;\"></div>            <script type=\"text/javascript\">                require([\"plotly\"], function(Plotly) {                    window.PLOTLYENV=window.PLOTLYENV || {};                                    if (document.getElementById(\"de78d960-dd76-4895-ba8b-0fa29881407d\")) {                    Plotly.newPlot(                        \"de78d960-dd76-4895-ba8b-0fa29881407d\",                        [{\"mode\":\"lines+markers\",\"name\":\"Training Accuracy\",\"y\":[0.20359645783901215,0.23329123854637146,0.24709366261959076,0.2547132968902588,0.25919798016548157,0.26368266344070435,0.2692558765411377,0.2742195427417755,0.2815343737602234,0.28122958540916443,0.2864544689655304,0.2860625982284546,0.2868027985095978,0.2939870357513428,0.2942047417163849,0.2987765073776245,0.29982149600982666,0.2989942133426666,0.30530762672424316,0.3073104918003082],\"type\":\"scatter\"},{\"mode\":\"lines+markers\",\"name\":\"Validation Accuracy\",\"y\":[0.21943573653697968,0.2074190229177475,0.22152559459209442,0.2478230595588684,0.23389063775539398,0.2485196739435196,0.2441657930612564,0.2335423231124878,0.2668059766292572,0.2551375925540924,0.25757575035095215,0.24677813053131104,0.30599093437194824,0.27917101979255676,0.26837339997291565,0.29066526889801025,0.2781260907649994,0.2781260907649994,0.29449668526649475,0.27307558059692383],\"type\":\"scatter\"}],                        {\"template\":{\"data\":{\"bar\":[{\"error_x\":{\"color\":\"#2a3f5f\"},\"error_y\":{\"color\":\"#2a3f5f\"},\"marker\":{\"line\":{\"color\":\"#E5ECF6\",\"width\":0.5},\"pattern\":{\"fillmode\":\"overlay\",\"size\":10,\"solidity\":0.2}},\"type\":\"bar\"}],\"barpolar\":[{\"marker\":{\"line\":{\"color\":\"#E5ECF6\",\"width\":0.5},\"pattern\":{\"fillmode\":\"overlay\",\"size\":10,\"solidity\":0.2}},\"type\":\"barpolar\"}],\"carpet\":[{\"aaxis\":{\"endlinecolor\":\"#2a3f5f\",\"gridcolor\":\"white\",\"linecolor\":\"white\",\"minorgridcolor\":\"white\",\"startlinecolor\":\"#2a3f5f\"},\"baxis\":{\"endlinecolor\":\"#2a3f5f\",\"gridcolor\":\"white\",\"linecolor\":\"white\",\"minorgridcolor\":\"white\",\"startlinecolor\":\"#2a3f5f\"},\"type\":\"carpet\"}],\"choropleth\":[{\"colorbar\":{\"outlinewidth\":0,\"ticks\":\"\"},\"type\":\"choropleth\"}],\"contour\":[{\"colorbar\":{\"outlinewidth\":0,\"ticks\":\"\"},\"colorscale\":[[0.0,\"#0d0887\"],[0.1111111111111111,\"#46039f\"],[0.2222222222222222,\"#7201a8\"],[0.3333333333333333,\"#9c179e\"],[0.4444444444444444,\"#bd3786\"],[0.5555555555555556,\"#d8576b\"],[0.6666666666666666,\"#ed7953\"],[0.7777777777777778,\"#fb9f3a\"],[0.8888888888888888,\"#fdca26\"],[1.0,\"#f0f921\"]],\"type\":\"contour\"}],\"contourcarpet\":[{\"colorbar\":{\"outlinewidth\":0,\"ticks\":\"\"},\"type\":\"contourcarpet\"}],\"heatmap\":[{\"colorbar\":{\"outlinewidth\":0,\"ticks\":\"\"},\"colorscale\":[[0.0,\"#0d0887\"],[0.1111111111111111,\"#46039f\"],[0.2222222222222222,\"#7201a8\"],[0.3333333333333333,\"#9c179e\"],[0.4444444444444444,\"#bd3786\"],[0.5555555555555556,\"#d8576b\"],[0.6666666666666666,\"#ed7953\"],[0.7777777777777778,\"#fb9f3a\"],[0.8888888888888888,\"#fdca26\"],[1.0,\"#f0f921\"]],\"type\":\"heatmap\"}],\"heatmapgl\":[{\"colorbar\":{\"outlinewidth\":0,\"ticks\":\"\"},\"colorscale\":[[0.0,\"#0d0887\"],[0.1111111111111111,\"#46039f\"],[0.2222222222222222,\"#7201a8\"],[0.3333333333333333,\"#9c179e\"],[0.4444444444444444,\"#bd3786\"],[0.5555555555555556,\"#d8576b\"],[0.6666666666666666,\"#ed7953\"],[0.7777777777777778,\"#fb9f3a\"],[0.8888888888888888,\"#fdca26\"],[1.0,\"#f0f921\"]],\"type\":\"heatmapgl\"}],\"histogram\":[{\"marker\":{\"pattern\":{\"fillmode\":\"overlay\",\"size\":10,\"solidity\":0.2}},\"type\":\"histogram\"}],\"histogram2d\":[{\"colorbar\":{\"outlinewidth\":0,\"ticks\":\"\"},\"colorscale\":[[0.0,\"#0d0887\"],[0.1111111111111111,\"#46039f\"],[0.2222222222222222,\"#7201a8\"],[0.3333333333333333,\"#9c179e\"],[0.4444444444444444,\"#bd3786\"],[0.5555555555555556,\"#d8576b\"],[0.6666666666666666,\"#ed7953\"],[0.7777777777777778,\"#fb9f3a\"],[0.8888888888888888,\"#fdca26\"],[1.0,\"#f0f921\"]],\"type\":\"histogram2d\"}],\"histogram2dcontour\":[{\"colorbar\":{\"outlinewidth\":0,\"ticks\":\"\"},\"colorscale\":[[0.0,\"#0d0887\"],[0.1111111111111111,\"#46039f\"],[0.2222222222222222,\"#7201a8\"],[0.3333333333333333,\"#9c179e\"],[0.4444444444444444,\"#bd3786\"],[0.5555555555555556,\"#d8576b\"],[0.6666666666666666,\"#ed7953\"],[0.7777777777777778,\"#fb9f3a\"],[0.8888888888888888,\"#fdca26\"],[1.0,\"#f0f921\"]],\"type\":\"histogram2dcontour\"}],\"mesh3d\":[{\"colorbar\":{\"outlinewidth\":0,\"ticks\":\"\"},\"type\":\"mesh3d\"}],\"parcoords\":[{\"line\":{\"colorbar\":{\"outlinewidth\":0,\"ticks\":\"\"}},\"type\":\"parcoords\"}],\"pie\":[{\"automargin\":true,\"type\":\"pie\"}],\"scatter\":[{\"marker\":{\"colorbar\":{\"outlinewidth\":0,\"ticks\":\"\"}},\"type\":\"scatter\"}],\"scatter3d\":[{\"line\":{\"colorbar\":{\"outlinewidth\":0,\"ticks\":\"\"}},\"marker\":{\"colorbar\":{\"outlinewidth\":0,\"ticks\":\"\"}},\"type\":\"scatter3d\"}],\"scattercarpet\":[{\"marker\":{\"colorbar\":{\"outlinewidth\":0,\"ticks\":\"\"}},\"type\":\"scattercarpet\"}],\"scattergeo\":[{\"marker\":{\"colorbar\":{\"outlinewidth\":0,\"ticks\":\"\"}},\"type\":\"scattergeo\"}],\"scattergl\":[{\"marker\":{\"colorbar\":{\"outlinewidth\":0,\"ticks\":\"\"}},\"type\":\"scattergl\"}],\"scattermapbox\":[{\"marker\":{\"colorbar\":{\"outlinewidth\":0,\"ticks\":\"\"}},\"type\":\"scattermapbox\"}],\"scatterpolar\":[{\"marker\":{\"colorbar\":{\"outlinewidth\":0,\"ticks\":\"\"}},\"type\":\"scatterpolar\"}],\"scatterpolargl\":[{\"marker\":{\"colorbar\":{\"outlinewidth\":0,\"ticks\":\"\"}},\"type\":\"scatterpolargl\"}],\"scatterternary\":[{\"marker\":{\"colorbar\":{\"outlinewidth\":0,\"ticks\":\"\"}},\"type\":\"scatterternary\"}],\"surface\":[{\"colorbar\":{\"outlinewidth\":0,\"ticks\":\"\"},\"colorscale\":[[0.0,\"#0d0887\"],[0.1111111111111111,\"#46039f\"],[0.2222222222222222,\"#7201a8\"],[0.3333333333333333,\"#9c179e\"],[0.4444444444444444,\"#bd3786\"],[0.5555555555555556,\"#d8576b\"],[0.6666666666666666,\"#ed7953\"],[0.7777777777777778,\"#fb9f3a\"],[0.8888888888888888,\"#fdca26\"],[1.0,\"#f0f921\"]],\"type\":\"surface\"}],\"table\":[{\"cells\":{\"fill\":{\"color\":\"#EBF0F8\"},\"line\":{\"color\":\"white\"}},\"header\":{\"fill\":{\"color\":\"#C8D4E3\"},\"line\":{\"color\":\"white\"}},\"type\":\"table\"}]},\"layout\":{\"annotationdefaults\":{\"arrowcolor\":\"#2a3f5f\",\"arrowhead\":0,\"arrowwidth\":1},\"autotypenumbers\":\"strict\",\"coloraxis\":{\"colorbar\":{\"outlinewidth\":0,\"ticks\":\"\"}},\"colorscale\":{\"diverging\":[[0,\"#8e0152\"],[0.1,\"#c51b7d\"],[0.2,\"#de77ae\"],[0.3,\"#f1b6da\"],[0.4,\"#fde0ef\"],[0.5,\"#f7f7f7\"],[0.6,\"#e6f5d0\"],[0.7,\"#b8e186\"],[0.8,\"#7fbc41\"],[0.9,\"#4d9221\"],[1,\"#276419\"]],\"sequential\":[[0.0,\"#0d0887\"],[0.1111111111111111,\"#46039f\"],[0.2222222222222222,\"#7201a8\"],[0.3333333333333333,\"#9c179e\"],[0.4444444444444444,\"#bd3786\"],[0.5555555555555556,\"#d8576b\"],[0.6666666666666666,\"#ed7953\"],[0.7777777777777778,\"#fb9f3a\"],[0.8888888888888888,\"#fdca26\"],[1.0,\"#f0f921\"]],\"sequentialminus\":[[0.0,\"#0d0887\"],[0.1111111111111111,\"#46039f\"],[0.2222222222222222,\"#7201a8\"],[0.3333333333333333,\"#9c179e\"],[0.4444444444444444,\"#bd3786\"],[0.5555555555555556,\"#d8576b\"],[0.6666666666666666,\"#ed7953\"],[0.7777777777777778,\"#fb9f3a\"],[0.8888888888888888,\"#fdca26\"],[1.0,\"#f0f921\"]]},\"colorway\":[\"#636efa\",\"#EF553B\",\"#00cc96\",\"#ab63fa\",\"#FFA15A\",\"#19d3f3\",\"#FF6692\",\"#B6E880\",\"#FF97FF\",\"#FECB52\"],\"font\":{\"color\":\"#2a3f5f\"},\"geo\":{\"bgcolor\":\"white\",\"lakecolor\":\"white\",\"landcolor\":\"#E5ECF6\",\"showlakes\":true,\"showland\":true,\"subunitcolor\":\"white\"},\"hoverlabel\":{\"align\":\"left\"},\"hovermode\":\"closest\",\"mapbox\":{\"style\":\"light\"},\"paper_bgcolor\":\"white\",\"plot_bgcolor\":\"#E5ECF6\",\"polar\":{\"angularaxis\":{\"gridcolor\":\"white\",\"linecolor\":\"white\",\"ticks\":\"\"},\"bgcolor\":\"#E5ECF6\",\"radialaxis\":{\"gridcolor\":\"white\",\"linecolor\":\"white\",\"ticks\":\"\"}},\"scene\":{\"xaxis\":{\"backgroundcolor\":\"#E5ECF6\",\"gridcolor\":\"white\",\"gridwidth\":2,\"linecolor\":\"white\",\"showbackground\":true,\"ticks\":\"\",\"zerolinecolor\":\"white\"},\"yaxis\":{\"backgroundcolor\":\"#E5ECF6\",\"gridcolor\":\"white\",\"gridwidth\":2,\"linecolor\":\"white\",\"showbackground\":true,\"ticks\":\"\",\"zerolinecolor\":\"white\"},\"zaxis\":{\"backgroundcolor\":\"#E5ECF6\",\"gridcolor\":\"white\",\"gridwidth\":2,\"linecolor\":\"white\",\"showbackground\":true,\"ticks\":\"\",\"zerolinecolor\":\"white\"}},\"shapedefaults\":{\"line\":{\"color\":\"#2a3f5f\"}},\"ternary\":{\"aaxis\":{\"gridcolor\":\"white\",\"linecolor\":\"white\",\"ticks\":\"\"},\"baxis\":{\"gridcolor\":\"white\",\"linecolor\":\"white\",\"ticks\":\"\"},\"bgcolor\":\"#E5ECF6\",\"caxis\":{\"gridcolor\":\"white\",\"linecolor\":\"white\",\"ticks\":\"\"}},\"title\":{\"x\":0.05},\"xaxis\":{\"automargin\":true,\"gridcolor\":\"white\",\"linecolor\":\"white\",\"ticks\":\"\",\"title\":{\"standoff\":15},\"zerolinecolor\":\"white\",\"zerolinewidth\":2},\"yaxis\":{\"automargin\":true,\"gridcolor\":\"white\",\"linecolor\":\"white\",\"ticks\":\"\",\"title\":{\"standoff\":15},\"zerolinecolor\":\"white\",\"zerolinewidth\":2}}},\"yaxis\":{\"range\":[0,1],\"title\":{\"text\":\"Accuracy\"}},\"title\":{\"text\":\"Fold 4's performance\",\"x\":0.5},\"margin\":{\"l\":20,\"r\":20,\"t\":40,\"b\":20},\"xaxis\":{\"title\":{\"text\":\"Epochs\"}},\"autosize\":false,\"width\":800,\"height\":400},                        {\"responsive\": true}                    ).then(function(){\n",
       "                            \n",
       "var gd = document.getElementById('de78d960-dd76-4895-ba8b-0fa29881407d');\n",
       "var x = new MutationObserver(function (mutations, observer) {{\n",
       "        var display = window.getComputedStyle(gd).display;\n",
       "        if (!display || display === 'none') {{\n",
       "            console.log([gd, 'removed!']);\n",
       "            Plotly.purge(gd);\n",
       "            observer.disconnect();\n",
       "        }}\n",
       "}});\n",
       "\n",
       "// Listen for the removal of the full notebook cells\n",
       "var notebookContainer = gd.closest('#notebook-container');\n",
       "if (notebookContainer) {{\n",
       "    x.observe(notebookContainer, {childList: true});\n",
       "}}\n",
       "\n",
       "// Listen for the clearing of the current output cell\n",
       "var outputEl = gd.closest('.output');\n",
       "if (outputEl) {{\n",
       "    x.observe(outputEl, {childList: true});\n",
       "}}\n",
       "\n",
       "                        })                };                });            </script>        </div>"
      ]
     },
     "metadata": {},
     "output_type": "display_data"
    },
    {
     "name": "stdout",
     "output_type": "stream",
     "text": [
      "225/225 [==============================] - 7s 30ms/step - loss: 1.8926 - accuracy: 0.3091\n",
      "hi\n",
      "                          filename     label\n",
      "1   surprise/Training_26522394.jpg  surprise\n",
      "5   surprise/Training_49242724.jpg  surprise\n",
      "13   surprise/Training_7022565.jpg  surprise\n",
      "15  surprise/Training_37026288.jpg  surprise\n",
      "17  surprise/Training_97667504.jpg  surprise\n",
      "Found 22968 validated image filenames belonging to 7 classes.\n",
      "Found 5741 validated image filenames belonging to 7 classes.\n",
      "Epoch 1/20\n",
      "718/718 - 29s - loss: 4.6149 - accuracy: 0.1954 - val_loss: 2.7739 - val_accuracy: 0.2132\n",
      "\n",
      "Epoch 00001: val_accuracy improved from -inf to 0.21320, saving model to /kaggle/working/Saved_CNN_Models/transfer_learning_model_resnet_50_20epochs/transfer_learning_model_resnet_50_model_5.h5\n"
     ]
    },
    {
     "name": "stderr",
     "output_type": "stream",
     "text": [
      "/opt/conda/lib/python3.7/site-packages/keras/utils/generic_utils.py:497: CustomMaskWarning:\n",
      "\n",
      "Custom mask layers require a config and must override get_config. When loading, the custom mask layer must be passed to the custom_objects argument.\n",
      "\n"
     ]
    },
    {
     "name": "stdout",
     "output_type": "stream",
     "text": [
      "Epoch 2/20\n",
      "718/718 - 25s - loss: 3.4560 - accuracy: 0.2312 - val_loss: 2.4276 - val_accuracy: 0.2379\n",
      "\n",
      "Epoch 00002: val_accuracy improved from 0.21320 to 0.23794, saving model to /kaggle/working/Saved_CNN_Models/transfer_learning_model_resnet_50_20epochs/transfer_learning_model_resnet_50_model_5.h5\n",
      "Epoch 3/20\n",
      "718/718 - 25s - loss: 3.1551 - accuracy: 0.2444 - val_loss: 2.6300 - val_accuracy: 0.2165\n",
      "\n",
      "Epoch 00003: val_accuracy did not improve from 0.23794\n",
      "Epoch 4/20\n",
      "718/718 - 25s - loss: 2.9420 - accuracy: 0.2527 - val_loss: 2.4424 - val_accuracy: 0.2327\n",
      "\n",
      "Epoch 00004: val_accuracy did not improve from 0.23794\n",
      "Epoch 5/20\n",
      "718/718 - 25s - loss: 2.7775 - accuracy: 0.2631 - val_loss: 2.2618 - val_accuracy: 0.2353\n",
      "\n",
      "Epoch 00005: val_accuracy did not improve from 0.23794\n",
      "Epoch 6/20\n",
      "718/718 - 25s - loss: 2.6581 - accuracy: 0.2629 - val_loss: 2.3802 - val_accuracy: 0.2313\n",
      "\n",
      "Epoch 00006: val_accuracy did not improve from 0.23794\n",
      "Epoch 7/20\n",
      "718/718 - 25s - loss: 2.5782 - accuracy: 0.2690 - val_loss: 2.2079 - val_accuracy: 0.2386\n",
      "\n",
      "Epoch 00007: val_accuracy improved from 0.23794 to 0.23863, saving model to /kaggle/working/Saved_CNN_Models/transfer_learning_model_resnet_50_20epochs/transfer_learning_model_resnet_50_model_5.h5\n",
      "Epoch 8/20\n",
      "718/718 - 25s - loss: 2.5290 - accuracy: 0.2729 - val_loss: 2.0016 - val_accuracy: 0.2733\n",
      "\n",
      "Epoch 00008: val_accuracy improved from 0.23863 to 0.27330, saving model to /kaggle/working/Saved_CNN_Models/transfer_learning_model_resnet_50_20epochs/transfer_learning_model_resnet_50_model_5.h5\n",
      "Epoch 9/20\n",
      "718/718 - 26s - loss: 2.4412 - accuracy: 0.2775 - val_loss: 2.0373 - val_accuracy: 0.2597\n",
      "\n",
      "Epoch 00009: val_accuracy did not improve from 0.27330\n",
      "Epoch 10/20\n",
      "718/718 - 25s - loss: 2.4068 - accuracy: 0.2771 - val_loss: 2.0147 - val_accuracy: 0.2710\n",
      "\n",
      "Epoch 00010: val_accuracy did not improve from 0.27330\n",
      "Epoch 11/20\n",
      "718/718 - 25s - loss: 2.3711 - accuracy: 0.2842 - val_loss: 1.9854 - val_accuracy: 0.2700\n",
      "\n",
      "Epoch 00011: val_accuracy did not improve from 0.27330\n",
      "Epoch 12/20\n",
      "718/718 - 24s - loss: 2.3490 - accuracy: 0.2868 - val_loss: 1.9239 - val_accuracy: 0.2975\n",
      "\n",
      "Epoch 00012: val_accuracy improved from 0.27330 to 0.29751, saving model to /kaggle/working/Saved_CNN_Models/transfer_learning_model_resnet_50_20epochs/transfer_learning_model_resnet_50_model_5.h5\n",
      "Epoch 13/20\n",
      "718/718 - 25s - loss: 2.3137 - accuracy: 0.2879 - val_loss: 2.0409 - val_accuracy: 0.2646\n",
      "\n",
      "Epoch 00013: val_accuracy did not improve from 0.29751\n",
      "Epoch 14/20\n",
      "718/718 - 25s - loss: 2.2881 - accuracy: 0.2901 - val_loss: 1.9583 - val_accuracy: 0.2723\n",
      "\n",
      "Epoch 00014: val_accuracy did not improve from 0.29751\n",
      "Epoch 15/20\n",
      "718/718 - 25s - loss: 2.2580 - accuracy: 0.2938 - val_loss: 1.9165 - val_accuracy: 0.2832\n",
      "\n",
      "Epoch 00015: val_accuracy did not improve from 0.29751\n",
      "Epoch 16/20\n",
      "718/718 - 25s - loss: 2.2520 - accuracy: 0.2927 - val_loss: 2.0565 - val_accuracy: 0.2583\n",
      "\n",
      "Epoch 00016: val_accuracy did not improve from 0.29751\n",
      "Epoch 17/20\n",
      "718/718 - 25s - loss: 2.2379 - accuracy: 0.2935 - val_loss: 1.9414 - val_accuracy: 0.2804\n",
      "\n",
      "Epoch 00017: val_accuracy did not improve from 0.29751\n",
      "Epoch 18/20\n",
      "718/718 - 25s - loss: 2.2266 - accuracy: 0.2985 - val_loss: 1.9270 - val_accuracy: 0.2815\n",
      "\n",
      "Epoch 00018: val_accuracy did not improve from 0.29751\n",
      "Epoch 19/20\n",
      "718/718 - 25s - loss: 2.2012 - accuracy: 0.3004 - val_loss: 1.9698 - val_accuracy: 0.2756\n",
      "\n",
      "Epoch 00019: val_accuracy did not improve from 0.29751\n",
      "Epoch 20/20\n",
      "718/718 - 26s - loss: 2.2004 - accuracy: 0.3040 - val_loss: 1.9880 - val_accuracy: 0.2587\n",
      "\n",
      "Epoch 00020: val_accuracy did not improve from 0.29751\n"
     ]
    },
    {
     "data": {
      "text/html": [
       "<div>                            <div id=\"3d3b1ebd-2317-46cf-bdc3-9b2aab96847b\" class=\"plotly-graph-div\" style=\"height:400px; width:800px;\"></div>            <script type=\"text/javascript\">                require([\"plotly\"], function(Plotly) {                    window.PLOTLYENV=window.PLOTLYENV || {};                                    if (document.getElementById(\"3d3b1ebd-2317-46cf-bdc3-9b2aab96847b\")) {                    Plotly.newPlot(                        \"3d3b1ebd-2317-46cf-bdc3-9b2aab96847b\",                        [{\"mode\":\"lines+markers\",\"name\":\"Training Accuracy\",\"y\":[0.1953587532043457,0.23123475909233093,0.24442702531814575,0.2527429461479187,0.263105183839798,0.26293104887008667,0.2690264582633972,0.27290141582489014,0.27747300267219543,0.277081161737442,0.2842215299606323,0.28679031133651733,0.28792232275009155,0.2900557219982147,0.2938435971736908,0.29266807436943054,0.2935388386249542,0.29854580760002136,0.300417959690094,0.30398815870285034],\"type\":\"scatter\"},{\"mode\":\"lines+markers\",\"name\":\"Validation Accuracy\",\"y\":[0.2132032811641693,0.23793764412403107,0.2165127992630005,0.23271207511425018,0.23532485961914062,0.23131859302520752,0.2386343777179718,0.27329733967781067,0.2597108483314514,0.2710329294204712,0.2699878215789795,0.2975091338157654,0.26458805799484253,0.27225223183631897,0.2832259237766266,0.25831738114356995,0.28043895959854126,0.28148406744003296,0.27556174993515015,0.2586657404899597],\"type\":\"scatter\"}],                        {\"template\":{\"data\":{\"bar\":[{\"error_x\":{\"color\":\"#2a3f5f\"},\"error_y\":{\"color\":\"#2a3f5f\"},\"marker\":{\"line\":{\"color\":\"#E5ECF6\",\"width\":0.5},\"pattern\":{\"fillmode\":\"overlay\",\"size\":10,\"solidity\":0.2}},\"type\":\"bar\"}],\"barpolar\":[{\"marker\":{\"line\":{\"color\":\"#E5ECF6\",\"width\":0.5},\"pattern\":{\"fillmode\":\"overlay\",\"size\":10,\"solidity\":0.2}},\"type\":\"barpolar\"}],\"carpet\":[{\"aaxis\":{\"endlinecolor\":\"#2a3f5f\",\"gridcolor\":\"white\",\"linecolor\":\"white\",\"minorgridcolor\":\"white\",\"startlinecolor\":\"#2a3f5f\"},\"baxis\":{\"endlinecolor\":\"#2a3f5f\",\"gridcolor\":\"white\",\"linecolor\":\"white\",\"minorgridcolor\":\"white\",\"startlinecolor\":\"#2a3f5f\"},\"type\":\"carpet\"}],\"choropleth\":[{\"colorbar\":{\"outlinewidth\":0,\"ticks\":\"\"},\"type\":\"choropleth\"}],\"contour\":[{\"colorbar\":{\"outlinewidth\":0,\"ticks\":\"\"},\"colorscale\":[[0.0,\"#0d0887\"],[0.1111111111111111,\"#46039f\"],[0.2222222222222222,\"#7201a8\"],[0.3333333333333333,\"#9c179e\"],[0.4444444444444444,\"#bd3786\"],[0.5555555555555556,\"#d8576b\"],[0.6666666666666666,\"#ed7953\"],[0.7777777777777778,\"#fb9f3a\"],[0.8888888888888888,\"#fdca26\"],[1.0,\"#f0f921\"]],\"type\":\"contour\"}],\"contourcarpet\":[{\"colorbar\":{\"outlinewidth\":0,\"ticks\":\"\"},\"type\":\"contourcarpet\"}],\"heatmap\":[{\"colorbar\":{\"outlinewidth\":0,\"ticks\":\"\"},\"colorscale\":[[0.0,\"#0d0887\"],[0.1111111111111111,\"#46039f\"],[0.2222222222222222,\"#7201a8\"],[0.3333333333333333,\"#9c179e\"],[0.4444444444444444,\"#bd3786\"],[0.5555555555555556,\"#d8576b\"],[0.6666666666666666,\"#ed7953\"],[0.7777777777777778,\"#fb9f3a\"],[0.8888888888888888,\"#fdca26\"],[1.0,\"#f0f921\"]],\"type\":\"heatmap\"}],\"heatmapgl\":[{\"colorbar\":{\"outlinewidth\":0,\"ticks\":\"\"},\"colorscale\":[[0.0,\"#0d0887\"],[0.1111111111111111,\"#46039f\"],[0.2222222222222222,\"#7201a8\"],[0.3333333333333333,\"#9c179e\"],[0.4444444444444444,\"#bd3786\"],[0.5555555555555556,\"#d8576b\"],[0.6666666666666666,\"#ed7953\"],[0.7777777777777778,\"#fb9f3a\"],[0.8888888888888888,\"#fdca26\"],[1.0,\"#f0f921\"]],\"type\":\"heatmapgl\"}],\"histogram\":[{\"marker\":{\"pattern\":{\"fillmode\":\"overlay\",\"size\":10,\"solidity\":0.2}},\"type\":\"histogram\"}],\"histogram2d\":[{\"colorbar\":{\"outlinewidth\":0,\"ticks\":\"\"},\"colorscale\":[[0.0,\"#0d0887\"],[0.1111111111111111,\"#46039f\"],[0.2222222222222222,\"#7201a8\"],[0.3333333333333333,\"#9c179e\"],[0.4444444444444444,\"#bd3786\"],[0.5555555555555556,\"#d8576b\"],[0.6666666666666666,\"#ed7953\"],[0.7777777777777778,\"#fb9f3a\"],[0.8888888888888888,\"#fdca26\"],[1.0,\"#f0f921\"]],\"type\":\"histogram2d\"}],\"histogram2dcontour\":[{\"colorbar\":{\"outlinewidth\":0,\"ticks\":\"\"},\"colorscale\":[[0.0,\"#0d0887\"],[0.1111111111111111,\"#46039f\"],[0.2222222222222222,\"#7201a8\"],[0.3333333333333333,\"#9c179e\"],[0.4444444444444444,\"#bd3786\"],[0.5555555555555556,\"#d8576b\"],[0.6666666666666666,\"#ed7953\"],[0.7777777777777778,\"#fb9f3a\"],[0.8888888888888888,\"#fdca26\"],[1.0,\"#f0f921\"]],\"type\":\"histogram2dcontour\"}],\"mesh3d\":[{\"colorbar\":{\"outlinewidth\":0,\"ticks\":\"\"},\"type\":\"mesh3d\"}],\"parcoords\":[{\"line\":{\"colorbar\":{\"outlinewidth\":0,\"ticks\":\"\"}},\"type\":\"parcoords\"}],\"pie\":[{\"automargin\":true,\"type\":\"pie\"}],\"scatter\":[{\"marker\":{\"colorbar\":{\"outlinewidth\":0,\"ticks\":\"\"}},\"type\":\"scatter\"}],\"scatter3d\":[{\"line\":{\"colorbar\":{\"outlinewidth\":0,\"ticks\":\"\"}},\"marker\":{\"colorbar\":{\"outlinewidth\":0,\"ticks\":\"\"}},\"type\":\"scatter3d\"}],\"scattercarpet\":[{\"marker\":{\"colorbar\":{\"outlinewidth\":0,\"ticks\":\"\"}},\"type\":\"scattercarpet\"}],\"scattergeo\":[{\"marker\":{\"colorbar\":{\"outlinewidth\":0,\"ticks\":\"\"}},\"type\":\"scattergeo\"}],\"scattergl\":[{\"marker\":{\"colorbar\":{\"outlinewidth\":0,\"ticks\":\"\"}},\"type\":\"scattergl\"}],\"scattermapbox\":[{\"marker\":{\"colorbar\":{\"outlinewidth\":0,\"ticks\":\"\"}},\"type\":\"scattermapbox\"}],\"scatterpolar\":[{\"marker\":{\"colorbar\":{\"outlinewidth\":0,\"ticks\":\"\"}},\"type\":\"scatterpolar\"}],\"scatterpolargl\":[{\"marker\":{\"colorbar\":{\"outlinewidth\":0,\"ticks\":\"\"}},\"type\":\"scatterpolargl\"}],\"scatterternary\":[{\"marker\":{\"colorbar\":{\"outlinewidth\":0,\"ticks\":\"\"}},\"type\":\"scatterternary\"}],\"surface\":[{\"colorbar\":{\"outlinewidth\":0,\"ticks\":\"\"},\"colorscale\":[[0.0,\"#0d0887\"],[0.1111111111111111,\"#46039f\"],[0.2222222222222222,\"#7201a8\"],[0.3333333333333333,\"#9c179e\"],[0.4444444444444444,\"#bd3786\"],[0.5555555555555556,\"#d8576b\"],[0.6666666666666666,\"#ed7953\"],[0.7777777777777778,\"#fb9f3a\"],[0.8888888888888888,\"#fdca26\"],[1.0,\"#f0f921\"]],\"type\":\"surface\"}],\"table\":[{\"cells\":{\"fill\":{\"color\":\"#EBF0F8\"},\"line\":{\"color\":\"white\"}},\"header\":{\"fill\":{\"color\":\"#C8D4E3\"},\"line\":{\"color\":\"white\"}},\"type\":\"table\"}]},\"layout\":{\"annotationdefaults\":{\"arrowcolor\":\"#2a3f5f\",\"arrowhead\":0,\"arrowwidth\":1},\"autotypenumbers\":\"strict\",\"coloraxis\":{\"colorbar\":{\"outlinewidth\":0,\"ticks\":\"\"}},\"colorscale\":{\"diverging\":[[0,\"#8e0152\"],[0.1,\"#c51b7d\"],[0.2,\"#de77ae\"],[0.3,\"#f1b6da\"],[0.4,\"#fde0ef\"],[0.5,\"#f7f7f7\"],[0.6,\"#e6f5d0\"],[0.7,\"#b8e186\"],[0.8,\"#7fbc41\"],[0.9,\"#4d9221\"],[1,\"#276419\"]],\"sequential\":[[0.0,\"#0d0887\"],[0.1111111111111111,\"#46039f\"],[0.2222222222222222,\"#7201a8\"],[0.3333333333333333,\"#9c179e\"],[0.4444444444444444,\"#bd3786\"],[0.5555555555555556,\"#d8576b\"],[0.6666666666666666,\"#ed7953\"],[0.7777777777777778,\"#fb9f3a\"],[0.8888888888888888,\"#fdca26\"],[1.0,\"#f0f921\"]],\"sequentialminus\":[[0.0,\"#0d0887\"],[0.1111111111111111,\"#46039f\"],[0.2222222222222222,\"#7201a8\"],[0.3333333333333333,\"#9c179e\"],[0.4444444444444444,\"#bd3786\"],[0.5555555555555556,\"#d8576b\"],[0.6666666666666666,\"#ed7953\"],[0.7777777777777778,\"#fb9f3a\"],[0.8888888888888888,\"#fdca26\"],[1.0,\"#f0f921\"]]},\"colorway\":[\"#636efa\",\"#EF553B\",\"#00cc96\",\"#ab63fa\",\"#FFA15A\",\"#19d3f3\",\"#FF6692\",\"#B6E880\",\"#FF97FF\",\"#FECB52\"],\"font\":{\"color\":\"#2a3f5f\"},\"geo\":{\"bgcolor\":\"white\",\"lakecolor\":\"white\",\"landcolor\":\"#E5ECF6\",\"showlakes\":true,\"showland\":true,\"subunitcolor\":\"white\"},\"hoverlabel\":{\"align\":\"left\"},\"hovermode\":\"closest\",\"mapbox\":{\"style\":\"light\"},\"paper_bgcolor\":\"white\",\"plot_bgcolor\":\"#E5ECF6\",\"polar\":{\"angularaxis\":{\"gridcolor\":\"white\",\"linecolor\":\"white\",\"ticks\":\"\"},\"bgcolor\":\"#E5ECF6\",\"radialaxis\":{\"gridcolor\":\"white\",\"linecolor\":\"white\",\"ticks\":\"\"}},\"scene\":{\"xaxis\":{\"backgroundcolor\":\"#E5ECF6\",\"gridcolor\":\"white\",\"gridwidth\":2,\"linecolor\":\"white\",\"showbackground\":true,\"ticks\":\"\",\"zerolinecolor\":\"white\"},\"yaxis\":{\"backgroundcolor\":\"#E5ECF6\",\"gridcolor\":\"white\",\"gridwidth\":2,\"linecolor\":\"white\",\"showbackground\":true,\"ticks\":\"\",\"zerolinecolor\":\"white\"},\"zaxis\":{\"backgroundcolor\":\"#E5ECF6\",\"gridcolor\":\"white\",\"gridwidth\":2,\"linecolor\":\"white\",\"showbackground\":true,\"ticks\":\"\",\"zerolinecolor\":\"white\"}},\"shapedefaults\":{\"line\":{\"color\":\"#2a3f5f\"}},\"ternary\":{\"aaxis\":{\"gridcolor\":\"white\",\"linecolor\":\"white\",\"ticks\":\"\"},\"baxis\":{\"gridcolor\":\"white\",\"linecolor\":\"white\",\"ticks\":\"\"},\"bgcolor\":\"#E5ECF6\",\"caxis\":{\"gridcolor\":\"white\",\"linecolor\":\"white\",\"ticks\":\"\"}},\"title\":{\"x\":0.05},\"xaxis\":{\"automargin\":true,\"gridcolor\":\"white\",\"linecolor\":\"white\",\"ticks\":\"\",\"title\":{\"standoff\":15},\"zerolinecolor\":\"white\",\"zerolinewidth\":2},\"yaxis\":{\"automargin\":true,\"gridcolor\":\"white\",\"linecolor\":\"white\",\"ticks\":\"\",\"title\":{\"standoff\":15},\"zerolinecolor\":\"white\",\"zerolinewidth\":2}}},\"yaxis\":{\"range\":[0,1],\"title\":{\"text\":\"Accuracy\"}},\"title\":{\"text\":\"Fold 5's performance\",\"x\":0.5},\"margin\":{\"l\":20,\"r\":20,\"t\":40,\"b\":20},\"xaxis\":{\"title\":{\"text\":\"Epochs\"}},\"autosize\":false,\"width\":800,\"height\":400},                        {\"responsive\": true}                    ).then(function(){\n",
       "                            \n",
       "var gd = document.getElementById('3d3b1ebd-2317-46cf-bdc3-9b2aab96847b');\n",
       "var x = new MutationObserver(function (mutations, observer) {{\n",
       "        var display = window.getComputedStyle(gd).display;\n",
       "        if (!display || display === 'none') {{\n",
       "            console.log([gd, 'removed!']);\n",
       "            Plotly.purge(gd);\n",
       "            observer.disconnect();\n",
       "        }}\n",
       "}});\n",
       "\n",
       "// Listen for the removal of the full notebook cells\n",
       "var notebookContainer = gd.closest('#notebook-container');\n",
       "if (notebookContainer) {{\n",
       "    x.observe(notebookContainer, {childList: true});\n",
       "}}\n",
       "\n",
       "// Listen for the clearing of the current output cell\n",
       "var outputEl = gd.closest('.output');\n",
       "if (outputEl) {{\n",
       "    x.observe(outputEl, {childList: true});\n",
       "}}\n",
       "\n",
       "                        })                };                });            </script>        </div>"
      ]
     },
     "metadata": {},
     "output_type": "display_data"
    },
    {
     "name": "stdout",
     "output_type": "stream",
     "text": [
      "225/225 [==============================] - 7s 30ms/step - loss: 1.9437 - accuracy: 0.2933\n"
     ]
    }
   ],
   "source": [
    "model_test(5, 20, transfer_learning_model_resnet_50, (48,48,), 'rgb')"
   ]
  },
  {
   "cell_type": "code",
   "execution_count": null,
   "id": "d30eecdf",
   "metadata": {
    "execution": {
     "iopub.execute_input": "2022-04-09T15:15:09.882748Z",
     "iopub.status.busy": "2022-04-09T15:15:09.88234Z",
     "iopub.status.idle": "2022-04-09T15:15:24.871826Z",
     "shell.execute_reply": "2022-04-09T15:15:24.870878Z",
     "shell.execute_reply.started": "2022-04-09T15:15:09.882669Z"
    },
    "papermill": {
     "duration": 0.477092,
     "end_time": "2022-04-09T21:04:21.440928",
     "exception": false,
     "start_time": "2022-04-09T21:04:20.963836",
     "status": "completed"
    },
    "tags": []
   },
   "outputs": [],
   "source": []
  },
  {
   "cell_type": "code",
   "execution_count": null,
   "id": "94baa1d3",
   "metadata": {
    "papermill": {
     "duration": 0.344732,
     "end_time": "2022-04-09T21:04:22.130588",
     "exception": false,
     "start_time": "2022-04-09T21:04:21.785856",
     "status": "completed"
    },
    "tags": []
   },
   "outputs": [],
   "source": []
  }
 ],
 "metadata": {
  "kernelspec": {
   "display_name": "Python 3",
   "language": "python",
   "name": "python3"
  },
  "language_info": {
   "codemirror_mode": {
    "name": "ipython",
    "version": 3
   },
   "file_extension": ".py",
   "mimetype": "text/x-python",
   "name": "python",
   "nbconvert_exporter": "python",
   "pygments_lexer": "ipython3",
   "version": "3.7.12"
  },
  "papermill": {
   "default_parameters": {},
   "duration": 3471.605855,
   "end_time": "2022-04-09T21:04:26.475762",
   "environment_variables": {},
   "exception": null,
   "input_path": "__notebook__.ipynb",
   "output_path": "__notebook__.ipynb",
   "parameters": {},
   "start_time": "2022-04-09T20:06:34.869907",
   "version": "2.3.3"
  }
 },
 "nbformat": 4,
 "nbformat_minor": 5
}
