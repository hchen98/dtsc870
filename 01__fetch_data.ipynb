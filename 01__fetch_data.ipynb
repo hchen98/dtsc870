{
  "nbformat": 4,
  "nbformat_minor": 0,
  "metadata": {
    "colab": {
      "name": "01__fetch_data.ipynb",
      "provenance": [],
      "collapsed_sections": [],
      "toc_visible": true
    },
    "kernelspec": {
      "name": "python3",
      "display_name": "Python 3"
    },
    "language_info": {
      "name": "python"
    }
  },
  "cells": [
    {
      "cell_type": "markdown",
      "source": [
        "New York Institute of Technology<br>\n",
        "Course: DTSC 870 / Spring 2022<br>\n",
        "Advisor: Dr. Cao<br>\n",
        "Team: Michael Trzaskoma, Hui (Henry) Chen\n",
        "\n",
        "----\n",
        "\n",
        "This notebook is meant to fetch all necessary dataset for the project. Therefore, this is part of Phase I of the project."
      ],
      "metadata": {
        "id": "17b6hdPYYwaw"
      }
    },
    {
      "cell_type": "code",
      "source": [
        "# setup to see the execution time in each cell\n",
        "\n",
        "!pip install ipython-autotime tqdm\n",
        "%load_ext autotime"
      ],
      "metadata": {
        "id": "0hHgVP-9fAV6",
        "colab": {
          "base_uri": "https://localhost:8080/"
        },
        "outputId": "e580c7fe-bad4-4856-f175-54937318fdc9"
      },
      "execution_count": null,
      "outputs": [
        {
          "output_type": "stream",
          "name": "stdout",
          "text": [
            "Collecting ipython-autotime\n",
            "  Downloading ipython_autotime-0.3.1-py2.py3-none-any.whl (6.8 kB)\n",
            "Requirement already satisfied: tqdm in /usr/local/lib/python3.7/dist-packages (4.62.3)\n",
            "Requirement already satisfied: ipython in /usr/local/lib/python3.7/dist-packages (from ipython-autotime) (5.5.0)\n",
            "Requirement already satisfied: prompt-toolkit<2.0.0,>=1.0.4 in /usr/local/lib/python3.7/dist-packages (from ipython->ipython-autotime) (1.0.18)\n",
            "Requirement already satisfied: pygments in /usr/local/lib/python3.7/dist-packages (from ipython->ipython-autotime) (2.6.1)\n",
            "Requirement already satisfied: simplegeneric>0.8 in /usr/local/lib/python3.7/dist-packages (from ipython->ipython-autotime) (0.8.1)\n",
            "Requirement already satisfied: traitlets>=4.2 in /usr/local/lib/python3.7/dist-packages (from ipython->ipython-autotime) (5.1.1)\n",
            "Requirement already satisfied: pexpect in /usr/local/lib/python3.7/dist-packages (from ipython->ipython-autotime) (4.8.0)\n",
            "Requirement already satisfied: decorator in /usr/local/lib/python3.7/dist-packages (from ipython->ipython-autotime) (4.4.2)\n",
            "Requirement already satisfied: setuptools>=18.5 in /usr/local/lib/python3.7/dist-packages (from ipython->ipython-autotime) (57.4.0)\n",
            "Requirement already satisfied: pickleshare in /usr/local/lib/python3.7/dist-packages (from ipython->ipython-autotime) (0.7.5)\n",
            "Requirement already satisfied: six>=1.9.0 in /usr/local/lib/python3.7/dist-packages (from prompt-toolkit<2.0.0,>=1.0.4->ipython->ipython-autotime) (1.15.0)\n",
            "Requirement already satisfied: wcwidth in /usr/local/lib/python3.7/dist-packages (from prompt-toolkit<2.0.0,>=1.0.4->ipython->ipython-autotime) (0.2.5)\n",
            "Requirement already satisfied: ptyprocess>=0.5 in /usr/local/lib/python3.7/dist-packages (from pexpect->ipython->ipython-autotime) (0.7.0)\n",
            "Installing collected packages: ipython-autotime\n",
            "Successfully installed ipython-autotime-0.3.1\n",
            "time: 2.84 ms (started: 2022-02-11 16:04:36 +00:00)\n"
          ]
        }
      ]
    },
    {
      "cell_type": "markdown",
      "source": [
        "# Mount the driver"
      ],
      "metadata": {
        "id": "SLnjg3bPal-w"
      }
    },
    {
      "cell_type": "code",
      "execution_count": null,
      "metadata": {
        "colab": {
          "base_uri": "https://localhost:8080/"
        },
        "id": "_hvFJpqwYsV5",
        "outputId": "f9eb5e6e-a789-4098-df82-b5e721f7c9a8"
      },
      "outputs": [
        {
          "output_type": "stream",
          "name": "stdout",
          "text": [
            "Drive already mounted at /content/drive; to attempt to forcibly remount, call drive.mount(\"/content/drive\", force_remount=True).\n"
          ]
        }
      ],
      "source": [
        "from google.colab import drive\n",
        "drive.mount('/content/drive')"
      ]
    },
    {
      "cell_type": "markdown",
      "source": [
        "Now, let's see what's the current directory."
      ],
      "metadata": {
        "id": "z5FPNSSnavZh"
      }
    },
    {
      "cell_type": "code",
      "source": [
        "import os\n",
        "\n",
        "print(os.getcwd())"
      ],
      "metadata": {
        "colab": {
          "base_uri": "https://localhost:8080/"
        },
        "id": "5o-uUOFhaqfj",
        "outputId": "629d6e0c-6ad0-4e94-eb87-f8e4a68054cd"
      },
      "execution_count": null,
      "outputs": [
        {
          "output_type": "stream",
          "name": "stdout",
          "text": [
            "/content\n"
          ]
        }
      ]
    },
    {
      "cell_type": "markdown",
      "source": [
        "## Change dataset dir"
      ],
      "metadata": {
        "id": "V6E-ZJfgfnvG"
      }
    },
    {
      "cell_type": "code",
      "source": [
        "# feel free to change the dataset to your desired directory:\n",
        "\n",
        "ROOT_DIR = \"/content/drive/MyDrive/Spring 2022/DTSC 870/Code\" #HC Directory\n",
        "# ROOT_DIR = \"/content/drive/MyDrive/DTSC 870/Code\" #MT Directory\n",
        "\n",
        "DATASET_DIR = ROOT_DIR + \"/datasets\"\n",
        "# DATASET_DIR = \"/content/drive/MyDrive/Spring 2022/DTSC 870/Code/datasets\"\n",
        "\n",
        "os.chdir(ROOT_DIR)\n",
        "\n",
        "print(\"Current directory is: {}\".format(os.getcwd()))"
      ],
      "metadata": {
        "colab": {
          "base_uri": "https://localhost:8080/"
        },
        "id": "C-GRPQ-Ja00I",
        "outputId": "b2f9d44b-1da6-4315-d3d5-68a5b472f39b"
      },
      "execution_count": null,
      "outputs": [
        {
          "output_type": "stream",
          "name": "stdout",
          "text": [
            "Current directory is: /content/drive/MyDrive/Spring 2022/DTSC 870/Code\n"
          ]
        }
      ]
    },
    {
      "cell_type": "markdown",
      "source": [
        "List of all files under current directory."
      ],
      "metadata": {
        "id": "YY76Q458fzMn"
      }
    },
    {
      "cell_type": "code",
      "source": [
        "!pip install directory_structure"
      ],
      "metadata": {
        "colab": {
          "base_uri": "https://localhost:8080/"
        },
        "id": "e0hj43KGgJWI",
        "outputId": "c5144045-c272-4d4a-d3f8-4fcb534302b3"
      },
      "execution_count": null,
      "outputs": [
        {
          "output_type": "stream",
          "name": "stdout",
          "text": [
            "Collecting directory_structure\n",
            "  Downloading directory_structure-1.1.2-py3-none-any.whl (4.3 kB)\n",
            "Collecting emoji\n",
            "  Downloading emoji-1.6.3.tar.gz (174 kB)\n",
            "\u001b[K     |████████████████████████████████| 174 kB 5.1 MB/s \n",
            "\u001b[?25hBuilding wheels for collected packages: emoji\n",
            "  Building wheel for emoji (setup.py) ... \u001b[?25l\u001b[?25hdone\n",
            "  Created wheel for emoji: filename=emoji-1.6.3-py3-none-any.whl size=170298 sha256=28fbd89a5a543ff80efdf473286a6aa769719c1bf08f93c90639d131d42c3b8a\n",
            "  Stored in directory: /root/.cache/pip/wheels/03/8b/d7/ad579fbef83c287215c0caab60fb0ae0f30c4d7ce5f580eade\n",
            "Successfully built emoji\n",
            "Installing collected packages: emoji, directory-structure\n",
            "Successfully installed directory-structure-1.1.2 emoji-1.6.3\n",
            "time: 7.07 s (started: 2022-02-11 16:04:53 +00:00)\n"
          ]
        }
      ]
    },
    {
      "cell_type": "code",
      "source": [
        "from directory_structure import Tree\n",
        "\n",
        "print(Tree(os.getcwd()))"
      ],
      "metadata": {
        "colab": {
          "base_uri": "https://localhost:8080/"
        },
        "id": "IiOBjT9RgXQH",
        "outputId": "0506f60b-2bc4-4162-d417-90c36b4ebec4"
      },
      "execution_count": null,
      "outputs": [
        {
          "output_type": "stream",
          "name": "stdout",
          "text": [
            "📂 Code\n",
            "|_📁 datasets\n",
            "|_📁 keys\n",
            "|_📄 02__dataset_visualizations.ipynb\n",
            "|_📄 01__fetch_data.ipynb\n",
            "|_📄 03__MRI_Classifier_a.ipynb\n",
            "time: 42 ms (started: 2022-02-11 16:05:02 +00:00)\n"
          ]
        }
      ]
    },
    {
      "cell_type": "markdown",
      "source": [
        "## Create dataset directories."
      ],
      "metadata": {
        "id": "gVM9cyD_tjPl"
      }
    },
    {
      "cell_type": "code",
      "source": [
        "# create the directories if not exist\n",
        "if not os.path.exists(\"./datasets/01_MRI\"):\n",
        "  os.mkdir(\"./datasets/01_MRI\")\n",
        "  os.mkdir(\"./datasets/02_FER\")\n",
        "  os.mkdir(\"./datasets/03_F_MINST\")\n",
        "\n",
        "DATASET_01 = ROOT_DIR + \"/datasets/01_MRI/Brain_tumor_images\"\n",
        "DATASET_02 = ROOT_DIR + \"/datasets/02_FER\"\n",
        "DATASET_03 = ROOT_DIR + \"/datasets/03_F_MINST\""
      ],
      "metadata": {
        "id": "LfFoexg3tHEa"
      },
      "execution_count": null,
      "outputs": []
    },
    {
      "cell_type": "markdown",
      "source": [
        "# Download datasets"
      ],
      "metadata": {
        "id": "RES6Ya1MgcUY"
      }
    },
    {
      "cell_type": "markdown",
      "source": [
        "## Setup\n",
        "\n",
        "The easiest way to download the dataset from the Kaggle would be through the Kaggle API. Ref: https://www.kaggle.com/general/74235"
      ],
      "metadata": {
        "id": "hzzdTwLMt4pr"
      }
    },
    {
      "cell_type": "code",
      "source": [
        "!pip install -q kaggle"
      ],
      "metadata": {
        "id": "hoDYgNn1gpPQ",
        "outputId": "7ee5fb79-54b9-4929-dbe7-cddbfb228229",
        "colab": {
          "base_uri": "https://localhost:8080/"
        }
      },
      "execution_count": null,
      "outputs": [
        {
          "output_type": "stream",
          "name": "stdout",
          "text": [
            "time: 4.86 s (started: 2022-02-10 16:34:48 +00:00)\n"
          ]
        }
      ]
    },
    {
      "cell_type": "code",
      "source": [
        "KAGGLE_KEY = ROOT_DIR + \"/keys/kaggle.json\"\n",
        "print(KAGGLE_KEY)"
      ],
      "metadata": {
        "colab": {
          "base_uri": "https://localhost:8080/"
        },
        "id": "kLPgNGWIiwo0",
        "outputId": "24e575c4-d875-4cbe-9988-28a4dbeec03d"
      },
      "execution_count": null,
      "outputs": [
        {
          "output_type": "stream",
          "name": "stdout",
          "text": [
            "/content/drive/MyDrive/Spring 2022/DTSC 870/Code/keys/kaggle.json\n",
            "time: 3.45 ms (started: 2022-02-10 16:34:52 +00:00)\n"
          ]
        }
      ]
    },
    {
      "cell_type": "markdown",
      "source": [
        "Create a kaggle environment and then copy the kaggle key to that directory. Lastly, modify the key's permission."
      ],
      "metadata": {
        "id": "kC9GmDuLp8iO"
      }
    },
    {
      "cell_type": "code",
      "source": [
        "!mkdir ~/.kaggle\n",
        "\n",
        "!cp /content/drive/MyDrive/'Spring 2022'/'DTSC 870'/Code/keys/kaggle.json ~/.kaggle/\n",
        "\n",
        "!chmod 600  ~/.kaggle/kaggle.json"
      ],
      "metadata": {
        "colab": {
          "base_uri": "https://localhost:8080/"
        },
        "id": "SNrEiW6yiqxZ",
        "outputId": "c49c2a7e-8174-4bb4-e4da-90fd7defdf94"
      },
      "execution_count": null,
      "outputs": [
        {
          "output_type": "stream",
          "name": "stdout",
          "text": [
            "time: 675 ms (started: 2022-02-10 16:34:59 +00:00)\n"
          ]
        }
      ]
    },
    {
      "cell_type": "markdown",
      "source": [
        "Output a list of dataset to test if it's working."
      ],
      "metadata": {
        "id": "uFKLFVDaqPYe"
      }
    },
    {
      "cell_type": "code",
      "source": [
        "!kaggle datasets list"
      ],
      "metadata": {
        "colab": {
          "base_uri": "https://localhost:8080/"
        },
        "id": "R4yVEBNUmZCI",
        "outputId": "91448afa-1b8a-46da-9d69-ef82bc2b780d"
      },
      "execution_count": null,
      "outputs": [
        {
          "output_type": "stream",
          "name": "stdout",
          "text": [
            "Warning: Looks like you're using an outdated API Version, please consider updating (server 1.5.12 / client 1.5.4)\n",
            "ref                                                         title                                             size  lastUpdated          downloadCount  \n",
            "----------------------------------------------------------  -----------------------------------------------  -----  -------------------  -------------  \n",
            "nkitgupta/jigsaw-regression-based-data                      Jigsaw Regression Based Data                       3GB  2022-02-05 20:51:56            872  \n",
            "prasertk/netflix-subscription-price-in-different-countries  Netflix subscription fee in different countries    3KB  2022-01-15 07:06:09           2763  \n",
            "yasserh/wine-quality-dataset                                Wine Quality Dataset                              21KB  2022-01-15 19:15:11           2375  \n",
            "sanjeetsinghnaik/top-1000-highest-grossing-movies           Top 1000 Highest Grossing Movies                 106KB  2022-01-15 16:26:14           1763  \n",
            "iamsouravbanerjee/analytics-industry-salaries-2022-india    Data Professionals Salary - 2022                  57KB  2022-02-04 09:04:46           2884  \n",
            "majyhain/height-of-male-and-female-by-country-2022          Height of Male and Female by Country 2022          4KB  2022-02-02 00:40:19            757  \n",
            "majyhain/top-100-cryptocurrency-2022                        Top 100 Cryptocurrency 2022                        4KB  2022-01-31 09:23:53            447  \n",
            "kenjee/ken-jee-youtube-data                                 Ken Jee YouTube Data                               6MB  2022-01-22 20:38:53            183  \n",
            "yamqwe/netflix-showse                                       Netflix Shows                                     11KB  2022-02-08 15:33:37           1547  \n",
            "meetnagadia/netflix-stock-price-data-set-20022022           Netflix Stock Price Data set 2002-2022            94KB  2022-01-12 05:28:11           1018  \n",
            "dansbecker/melbourne-housing-snapshot                       Melbourne Housing Snapshot                       451KB  2018-06-05 12:52:24          80380  \n",
            "datasnaek/youtube-new                                       Trending YouTube Video Statistics                201MB  2019-06-03 00:56:47         165386  \n",
            "vivovinco/nba-player-stats                                  2021-2022 NBA Player Stats                        29KB  2022-01-22 14:53:22            648  \n",
            "maricinnamon/harry-potter-movies-dataset                    Harry Potter Movies Dataset                      211KB  2022-01-14 10:13:19            617  \n",
            "zynicide/wine-reviews                                       Wine Reviews                                      51MB  2017-11-27 17:08:04         153963  \n",
            "datasnaek/chess                                             Chess Game Dataset (Lichess)                       3MB  2017-09-04 03:09:09          27557  \n",
            "residentmario/ramen-ratings                                 Ramen Ratings                                     40KB  2018-01-11 16:04:39          32385  \n",
            "rtatman/188-million-us-wildfires                            1.88 Million US Wildfires                        168MB  2020-05-12 21:03:49          18847  \n",
            "jpmiller/publicassistance                                   US Public Food Assistance                        703KB  2020-08-21 16:51:18          15490  \n",
            "thiagoazen/all-pokemon-with-stats                           All Pokemon with stats                            17KB  2022-02-03 00:06:43            197  \n",
            "time: 729 ms (started: 2022-02-10 16:35:01 +00:00)\n"
          ]
        }
      ]
    },
    {
      "cell_type": "markdown",
      "source": [
        "---"
      ],
      "metadata": {
        "id": "mzkBUE_M05N6"
      }
    },
    {
      "cell_type": "markdown",
      "source": [
        "### Train and Test ratio"
      ],
      "metadata": {
        "id": "JtCbBLeFiGJW"
      }
    },
    {
      "cell_type": "markdown",
      "source": [
        "We want to split the Normal and Tumor into train and test set with ratio of 0.7:0.3."
      ],
      "metadata": {
        "id": "xVHq8mrjxPwE"
      }
    },
    {
      "cell_type": "code",
      "source": [
        "TRAIN_K = 0.7\n",
        "TEST_K = 1 - TRAIN_K"
      ],
      "metadata": {
        "id": "NJLUwRYrxJsw",
        "colab": {
          "base_uri": "https://localhost:8080/"
        },
        "outputId": "dd651476-7733-4e0b-f307-3c7452bd3f3f"
      },
      "execution_count": null,
      "outputs": [
        {
          "output_type": "stream",
          "name": "stdout",
          "text": [
            "time: 1.18 ms (started: 2022-02-11 16:05:31 +00:00)\n"
          ]
        }
      ]
    },
    {
      "cell_type": "markdown",
      "source": [
        "## Utility Func"
      ],
      "metadata": {
        "id": "4w4LsjVWuQY0"
      }
    },
    {
      "cell_type": "code",
      "source": [
        "import os\n",
        "\n",
        "def create_train_test_dir(sub_dir, class_):\n",
        "  # sub_dir : train/test\n",
        "  # class_ : class label of the dataset\n",
        "  # print(os.getcwd())\n",
        "  # dir = dataset_dir + sub_dir + \"/\" + class_\n",
        "  dir = os.getcwd() + sub_dir + \"/\" + class_\n",
        "\n",
        "  if not os.path.exists(dir):\n",
        "    os.makedirs(dir)"
      ],
      "metadata": {
        "id": "IZG7dC3-5the"
      },
      "execution_count": null,
      "outputs": []
    },
    {
      "cell_type": "code",
      "source": [
        "import numpy as np\n",
        "import shutil\n",
        "from tqdm import tqdm\n",
        "\n",
        "def set_move2(class_, data_source):\n",
        "  '''\n",
        "    Split the given dataset directory into train and test sets \n",
        "    based on the given classes.\n",
        "\n",
        "    class_ : dataset prelabled class\n",
        "    data_source : the root direcotry of the dataset\n",
        "\n",
        "    Code ref: https://www.kaggle.com/questions-and-answers/102677\n",
        "  '''\n",
        "\n",
        "  for c in class_:\n",
        "    print(f\"################### {c} ################### \")\n",
        "    '''\n",
        "      Create the necessary directories before we split.\n",
        "      \n",
        "      NOTE: we have to create direcotires here because \"class_\" is dynamically\n",
        "      scan the data source directory. Therefore, if we create \"train\" and \n",
        "      \"test\" folders prior the split, the scan will count \"train\" and \"test\" as \n",
        "      part of the class, which will throw an error as this func try to \n",
        "      copy into \"<data source root>/train/train\" (or test) directory.\n",
        "    '''\n",
        "\n",
        "    if not os.path.exists(data_source +'/train'):\n",
        "      os.mkdir(data_source +'/train')\n",
        "      os.mkdir(data_source +'/test')\n",
        "      \n",
        "    if not os.path.exists(data_source +'/train/'+c):\n",
        "      os.makedirs(data_source +'/train/'+c)\n",
        "      os.makedirs(data_source +'/test/'+c)\n",
        "    \n",
        "    # specify the datasource\n",
        "    # e.g., datasets/Brain_tumor_images/<class>\n",
        "    source = data_source + \"/\" + c\n",
        "\n",
        "    # get all file names\n",
        "    all_file_names = os.listdir(source)\n",
        "\n",
        "    # randomize the files by shuffling it\n",
        "    # aka random sampling\n",
        "    np.random.shuffle(all_file_names)\n",
        "\n",
        "    # split the file names in the given test ratio\n",
        "    train_file_name, test_file_name = np.split(\n",
        "        np.array(all_file_names), [int(len(all_file_names) * (1 - TEST_K))]\n",
        "        )\n",
        "    \n",
        "    # assign absolute source directory to each train and test file array\n",
        "    train_file_name = [source + \"/\" + name for name in train_file_name.tolist()]\n",
        "    test_file_name = [source + \"/\" + name for name in test_file_name.tolist()]\n",
        "\n",
        "    # copy the train and test files to the desired directories\n",
        "    for name in tqdm(train_file_name):\n",
        "      shutil.copy(name, data_source +'/train/' + c)\n",
        "\n",
        "    for name in tqdm(test_file_name):\n",
        "      shutil.copy(name, data_source +'/test/' + c)\n",
        "  \n",
        "  print(\"\\nAll jobs are done!\")\n"
      ],
      "metadata": {
        "id": "H6PxTfP09olN"
      },
      "execution_count": null,
      "outputs": []
    },
    {
      "cell_type": "code",
      "source": [
        "from tqdm import tqdm\n",
        "\n",
        "def merge_sets(class_, root_dir):\n",
        "  '''\n",
        "    Merge the train and test sets.\n",
        "\n",
        "    class_ : dataset prelabled class\n",
        "    data_source : the root direcotry of the dataset\n",
        "\n",
        "    Code ref: https://www.kaggle.com/questions-and-answers/102677\n",
        "  '''\n",
        "  \n",
        "  # since the dataset itself already splitted into train and test sets\n",
        "  # we need to manually specify the directory in order to merge all of them\n",
        "\n",
        "  sub_dir = [root_dir+\"/train\", root_dir+\"/test\"]\n",
        "\n",
        "  # the train and test set loop\n",
        "  for sub in sub_dir:\n",
        "    print(f\"################### {sub} ################### \")\n",
        "    # the class loop\n",
        "    for c in class_:\n",
        "      print(f\"Class: {c} \")\n",
        "      if not os.path.exists(root_dir +'/merge/'+c):\n",
        "        os.makedirs(root_dir +'/merge/'+c)\n",
        "      \n",
        "      # specify the datasource\n",
        "      # e.g., datasets/Brain_tumor_images/<class>\n",
        "      source = sub + \"/\" + c\n",
        "\n",
        "      # get all file names\n",
        "      all_file_names = os.listdir(source)\n",
        "      \n",
        "      # assign absolute source directory to each train and test file array\n",
        "      files_ = [source + \"/\" + name for name in all_file_names]\n",
        "\n",
        "      # copy the train and test files to the desired directories\n",
        "      for name in tqdm(files_):\n",
        "        shutil.copy(name, root_dir +'/merge/' + c)\n",
        "  \n",
        "  print(\"\\nAll jobs are done!\")"
      ],
      "metadata": {
        "id": "oRL_RHqc1JIR"
      },
      "execution_count": null,
      "outputs": []
    },
    {
      "cell_type": "code",
      "source": [
        "def remove_unused_dir(dir_path, class_):\n",
        "  '''\n",
        "    Remove unused directories from a given dir path. It will remove all dir \n",
        "    and sub-dir along with all content inside those sub-dir.\n",
        "\n",
        "    NOTE: it will only keep \"train\" and \"test\" dir.\n",
        "\n",
        "    dir_path : input root dir\n",
        "  '''\n",
        "\n",
        "  # redir to the given path\n",
        "  os.chdir(dir_path)\n",
        "\n",
        "  # retrieve a list of folder names in that dir\n",
        "  # list_dir_name = [name for name in os.listdir(os.getcwd())]\n",
        "\n",
        "  for c in class_:\n",
        "    # remove everything except the \"train\" and \"test\" dir\n",
        "    if not str(c).lower == \"train\" or not str(c).lower == \"test\":\n",
        "      shutil.rmtree(os.getcwd()+\"/\"+c)\n",
        "      # print(\"The dir is {}\".format(os.getcwd() + \"/\" + c))\n",
        "  \n",
        "  print(\"\\nAll jobs are done!\")"
      ],
      "metadata": {
        "id": "ymmcCKKrZaMJ"
      },
      "execution_count": null,
      "outputs": []
    },
    {
      "cell_type": "markdown",
      "source": [
        "## MRI Based Brain Tumor Images\n",
        "\n",
        "URL: https://www.kaggle.com/mhantor/mri-based-brain-tumor-images"
      ],
      "metadata": {
        "id": "PxAD7K22giW8"
      }
    },
    {
      "cell_type": "code",
      "source": [
        "os.chdir(DATASET_01)"
      ],
      "metadata": {
        "id": "L3fLbd-IqYEN",
        "colab": {
          "base_uri": "https://localhost:8080/"
        },
        "outputId": "1453d69b-6ccd-4773-c1bc-c41949f8462b"
      },
      "execution_count": null,
      "outputs": [
        {
          "output_type": "stream",
          "name": "stdout",
          "text": [
            "time: 301 ms (started: 2022-02-10 16:20:45 +00:00)\n"
          ]
        }
      ]
    },
    {
      "cell_type": "markdown",
      "source": [
        "In order to download and unzip the dataset from a competition, we need to provide the URL of the dataset along with the following command line:\n",
        "\n",
        "```\n",
        "!kaggle datasets download <URL suffix: everything afer \"kaggle.com/\"> -p <desired directory to save the dataset> --unzip\n",
        "```"
      ],
      "metadata": {
        "id": "YAV_29jaolHI"
      }
    },
    {
      "cell_type": "code",
      "source": [
        "print(DATASET_01)"
      ],
      "metadata": {
        "colab": {
          "base_uri": "https://localhost:8080/"
        },
        "id": "ny91S7WdsxLP",
        "outputId": "c08df491-c269-42c2-cdfa-cd72e8e54613"
      },
      "execution_count": null,
      "outputs": [
        {
          "output_type": "stream",
          "name": "stdout",
          "text": [
            "/content/drive/MyDrive/DTSC 870/Code/datasets/01_MRI\n"
          ]
        }
      ]
    },
    {
      "cell_type": "code",
      "source": [
        "# !kaggle competitions download -c 'MRI-Based-Brain-Tumor-Images'\n",
        "\n",
        "!kaggle datasets download mhantor/mri-based-brain-tumor-images/download -p /content/drive/MyDrive/'Spring 2022'/'DTSC 870'/Code/datasets/01_MRI --unzip"
      ],
      "metadata": {
        "colab": {
          "base_uri": "https://localhost:8080/"
        },
        "id": "qAQ3tks_mc8P",
        "outputId": "2351b0c9-c5f5-4bfd-f57f-b3e9f62c9525"
      },
      "execution_count": null,
      "outputs": [
        {
          "output_type": "stream",
          "name": "stdout",
          "text": [
            "Downloading mri-based-brain-tumor-images.zip to /content/drive/MyDrive/Spring 2022/DTSC 870/Code/datasets/01_MRI\n",
            "\r  0% 0.00/8.99M [00:00<?, ?B/s]\n",
            "\r100% 8.99M/8.99M [00:00<00:00, 149MB/s]\n",
            "time: 3.72 s (started: 2022-02-06 03:31:57 +00:00)\n"
          ]
        }
      ]
    },
    {
      "cell_type": "markdown",
      "source": [
        "Now let's see if we have downloaded all MRI dataset."
      ],
      "metadata": {
        "id": "wFaSRjGuue4V"
      }
    },
    {
      "cell_type": "code",
      "source": [
        "# os.chdir(\"./Brain_tumor_images\")\n",
        "print(Tree(os.getcwd()))"
      ],
      "metadata": {
        "colab": {
          "base_uri": "https://localhost:8080/"
        },
        "id": "GtVrUjtMuks4",
        "outputId": "3791cc21-40aa-4ca1-c9b9-022b3912fc33"
      },
      "execution_count": null,
      "outputs": [
        {
          "output_type": "stream",
          "name": "stdout",
          "text": [
            "📂 Brain_tumor_images\n",
            "|_📁 train\n",
            "|_📁 test\n",
            "time: 8.78 ms (started: 2022-02-10 16:20:47 +00:00)\n"
          ]
        }
      ]
    },
    {
      "cell_type": "code",
      "source": [
        "os.chdir(os.getcwd() + \"/Normal\")\n",
        "print(Tree(os.getcwd()))"
      ],
      "metadata": {
        "id": "o7oBBvZTuo0l",
        "colab": {
          "base_uri": "https://localhost:8080/"
        },
        "outputId": "5a82f7a9-d4cf-4d7b-e3f2-5ca8e5d9efab"
      },
      "execution_count": null,
      "outputs": [
        {
          "output_type": "stream",
          "name": "stdout",
          "text": [
            "📂 train\n",
            "|_📁 Normal\n",
            "|_📁 Tumor\n",
            "time: 12.3 ms (started: 2022-02-10 16:20:59 +00:00)\n"
          ]
        }
      ]
    },
    {
      "cell_type": "code",
      "source": [
        "os.chdir(\"../Tumor\")\n",
        "print(Tree(os.getcwd()))"
      ],
      "metadata": {
        "id": "dS4megBWuz82"
      },
      "execution_count": null,
      "outputs": []
    },
    {
      "cell_type": "markdown",
      "source": [
        "### Generate the train and test set"
      ],
      "metadata": {
        "id": "Sc3PPmAfr9df"
      }
    },
    {
      "cell_type": "markdown",
      "source": [
        "Get a list of class and # of records in each class."
      ],
      "metadata": {
        "id": "AVrtsz5tMSGO"
      }
    },
    {
      "cell_type": "code",
      "source": [
        "import random\n",
        "import glob\n",
        "\n",
        "# get the length of tumor and normal\n",
        "#tumor_len = len([file for file in os.scandir(DATASET_01+\"/Tumor\")])\n",
        "tumor_len = len([file for file in os.scandir(DATASET_01+\"/Tumor\")])\n",
        "#normal_len = len([file for file in os.scandir(DATASET_01+\"/Normal\")])\n",
        "normal_len = len([file for file in os.scandir(DATASET_01+\"/Normal\")])\n",
        "\n",
        "# get a list class in MRI img data\n",
        "#os.chdir(DATASET_01)\n",
        "os.chdir(DATASET_01)\n",
        "\n",
        "mri_classes = [file for file in os.listdir(os.getcwd())]\n",
        "\n",
        "print(f\"# of tumor img: {tumor_len}\")\n",
        "print(f\"# of normal img: {normal_len}\")\n",
        "print(f\"List of class in MRI image data: {mri_classes}\")"
      ],
      "metadata": {
        "colab": {
          "base_uri": "https://localhost:8080/"
        },
        "id": "FiZU35hLrHhb",
        "outputId": "1dbb79fb-66ad-4ee5-fee5-26a7726b19e9"
      },
      "execution_count": null,
      "outputs": [
        {
          "output_type": "stream",
          "name": "stdout",
          "text": [
            "# of tumor img: 230\n",
            "# of normal img: 170\n",
            "List of class in MRI image data: ['Normal', 'Tumor']\n",
            "time: 23.6 ms (started: 2022-02-07 16:53:50 +00:00)\n"
          ]
        }
      ]
    },
    {
      "cell_type": "markdown",
      "source": [
        "Create 'train' and 'test' directories."
      ],
      "metadata": {
        "id": "7Ob4Bh9DMgZs"
      }
    },
    {
      "cell_type": "code",
      "source": [
        "# create the train and test directories with class labels\n",
        "\n",
        "dirs = [\"/train\", \"/test\"]\n",
        "\n",
        "for c in mri_classes:\n",
        "  for tar_k in dirs:\n",
        "    # check the current dir back to MRI dataset\n",
        "    os.chdir(DATASET_01)\n",
        "    # print(os.getcwd())\n",
        "    # print(f\"For class: {c} and target: {tar_k}\")\n",
        "    create_train_test_dir(tar_k, c)"
      ],
      "metadata": {
        "colab": {
          "base_uri": "https://localhost:8080/"
        },
        "id": "lOy1c33uEVSa",
        "outputId": "1e783d0a-4be4-4cc8-af1f-1ee9604e97b8"
      },
      "execution_count": null,
      "outputs": [
        {
          "output_type": "stream",
          "name": "stdout",
          "text": [
            "time: 43 ms (started: 2022-02-07 16:13:45 +00:00)\n"
          ]
        }
      ]
    },
    {
      "cell_type": "markdown",
      "source": [
        "Perform the train and test split."
      ],
      "metadata": {
        "id": "EWT5EYW5Mkor"
      }
    },
    {
      "cell_type": "code",
      "source": [
        "# tumor_k = [{\"k\": round(tumor_len*TRAIN_K), \"dir\": \"/train\"}, {\"k\": round(tumor_len*TEST_K), \"dir\": \"/test\"}]\n",
        "# normal_k = [{\"k\": round(normal_len*TRAIN_K), \"dir\": \"/train\"}, {\"k\": round(normal_len*TEST_K), \"dir\": \"/test\"}]\n",
        "\n",
        "# #print(tumor_k)\n",
        "# for c in mri_classes:\n",
        "\n",
        "#   # since tumor and normal have different sample size, \n",
        "#   # we need to seprating specify the train and test split ratio\n",
        "#   target = tumor_k\n",
        "#   if str(c) == \"Normal\":\n",
        "#     target = normal_k\n",
        "\n",
        "#   for tar_k in target:\n",
        "#     # check the current dir back to MRI dataset\n",
        "#     os.chdir(DATASET_01+\"/Brain_tumor_images\")\n",
        "#     # print(os.getcwd())\n",
        "#     print(f\"For class: '{c}' and target: {tar_k}\")\n",
        "#     set_move(c, tar_k)\n",
        "\n",
        "\n",
        "# perform the train and test set spliting on \"set_move\" func version 2\n",
        "set_move2(mri_classes, DATASET_01)"
      ],
      "metadata": {
        "id": "7jYm5vtc07g6",
        "colab": {
          "base_uri": "https://localhost:8080/"
        },
        "outputId": "5f824bbc-3ab8-42d3-c506-9c1e961f2eec"
      },
      "execution_count": null,
      "outputs": [
        {
          "output_type": "stream",
          "name": "stdout",
          "text": [
            "All operations are done!\n",
            "time: 5.77 s (started: 2022-02-07 16:55:46 +00:00)\n"
          ]
        }
      ]
    },
    {
      "cell_type": "markdown",
      "source": [
        "### Validate the split"
      ],
      "metadata": {
        "id": "5TOTjsho2hKI"
      }
    },
    {
      "cell_type": "markdown",
      "source": [
        "Now let's validate the train and test split."
      ],
      "metadata": {
        "id": "afpfgGApHeMY"
      }
    },
    {
      "cell_type": "code",
      "source": [
        "tempTrain_ = DATASET_01+\"/train\"\n",
        "tempTest_ = DATASET_01+\"/test\"\n",
        "\n",
        "train_normal_len = len([i for i in os.listdir(tempTrain_+\"/Normal\")])\n",
        "train_tumor_len = len([i for i in os.listdir(tempTrain_+\"/Tumor\")])\n",
        "\n",
        "test_normal_len = len([i for i in os.listdir(tempTest_+\"/Normal\")])\n",
        "test_tumor_len = len([i for i in os.listdir(tempTest_+\"/Tumor\")])\n",
        "\n",
        "print(\"The total # of Normal and Tumor instances: {}, {}\".format(normal_len, tumor_len))\n",
        "print(\"Train set with \\tNormal: {} \\t Tumor: {} \\nTest set with \\tNormal: {} \\t Tumor: {}\".format(train_normal_len, train_tumor_len, test_normal_len, test_tumor_len))"
      ],
      "metadata": {
        "colab": {
          "base_uri": "https://localhost:8080/"
        },
        "id": "GnoiEkT3H6IO",
        "outputId": "1266ca91-fcf2-48d5-b394-eb6e4a18e3fb"
      },
      "execution_count": null,
      "outputs": [
        {
          "output_type": "stream",
          "name": "stdout",
          "text": [
            "The total # of Normal and Tumor instances: 170, 230\n",
            "Train set with \tNormal: 118 \t Tumor: 161 \n",
            "Test set with \tNormal: 52 \t Tumor: 69\n",
            "time: 25.9 ms (started: 2022-02-07 17:19:52 +00:00)\n"
          ]
        }
      ]
    },
    {
      "cell_type": "markdown",
      "source": [
        "Now, we need to remove the additional dir that are not in use.\n",
        "\n",
        "e.g., `/Brain_tumor_imdages/<Normal/Tumor>` "
      ],
      "metadata": {
        "id": "nCPENq2PYkvh"
      }
    },
    {
      "cell_type": "code",
      "source": [
        "# redirect to the correct dir\n",
        "# os.chdir(DATASET_01)\n",
        "\n",
        "# # remvoe the unused directories\n",
        "# shutil.rmtree(DATASET_02+\"/Normal\")\n",
        "# shutil.rmtree(DATASET_02+\"/Tumor\")\n",
        "\n",
        "remove_unused_dir(DATASET_01, mri_classes)"
      ],
      "metadata": {
        "id": "Y2wn1uimY19R"
      },
      "execution_count": null,
      "outputs": []
    },
    {
      "cell_type": "markdown",
      "source": [
        "## FER-2013\n",
        "\n",
        "URL: https://www.kaggle.com/msambare/fer2013"
      ],
      "metadata": {
        "id": "o_rRpBGnv-y7"
      }
    },
    {
      "cell_type": "code",
      "source": [
        "os.chdir(DATASET_02)\n",
        "print(\"The current dir is: {}\".format(os.getcwd()))"
      ],
      "metadata": {
        "id": "S1btVuM1vyQX",
        "colab": {
          "base_uri": "https://localhost:8080/"
        },
        "outputId": "f09626e6-535e-4ca1-a1c3-eab42d774a21"
      },
      "execution_count": null,
      "outputs": [
        {
          "output_type": "stream",
          "name": "stdout",
          "text": [
            "The current dir is: /content/drive/MyDrive/Spring 2022/DTSC 870/Code/datasets/02_FER\n",
            "time: 3.23 ms (started: 2022-02-10 16:35:41 +00:00)\n"
          ]
        }
      ]
    },
    {
      "cell_type": "markdown",
      "source": [
        "Downloading the dataset.\n",
        "\n",
        "**Note: this process will take long as there are many images to unzip from the dataset.**"
      ],
      "metadata": {
        "id": "wA4UqNB8wf8Z"
      }
    },
    {
      "cell_type": "code",
      "source": [
        "!kaggle datasets download msambare/fer2013/download -p /content/drive/MyDrive/'Spring 2022'/'DTSC 870'/Code/datasets/02_FER --unzip"
      ],
      "metadata": {
        "colab": {
          "base_uri": "https://localhost:8080/"
        },
        "id": "s1t6SpmMwWWr",
        "outputId": "1c638321-8dfd-44a8-e2b4-b45406abc1f8"
      },
      "execution_count": null,
      "outputs": [
        {
          "output_type": "stream",
          "name": "stdout",
          "text": [
            "Downloading fer2013.zip to /content/drive/MyDrive/Spring 2022/DTSC 870/Code/datasets/02_FER\n",
            " 94% 57.0M/60.3M [00:01<00:00, 42.4MB/s]\n",
            "100% 60.3M/60.3M [00:01<00:00, 40.3MB/s]\n",
            "time: 5min 52s (started: 2022-02-10 16:35:48 +00:00)\n"
          ]
        }
      ]
    },
    {
      "cell_type": "code",
      "source": [
        "os.chdir(DATASET_02 + \"/train\")\n",
        "print(Tree(os.getcwd()))"
      ],
      "metadata": {
        "colab": {
          "base_uri": "https://localhost:8080/"
        },
        "id": "6Nc-CyiUwxYZ",
        "outputId": "84565d7d-c1e7-4350-ef3d-45db4f48c897"
      },
      "execution_count": null,
      "outputs": [
        {
          "output_type": "stream",
          "name": "stdout",
          "text": [
            "📂 train\n",
            "|_📁 angry\n",
            "|_📁 disgust\n",
            "|_📁 fear\n",
            "|_📁 happy\n",
            "|_📁 neutral\n",
            "|_📁 sad\n",
            "|_📁 surprise\n",
            "time: 17.6 ms (started: 2022-02-10 16:41:47 +00:00)\n"
          ]
        }
      ]
    },
    {
      "cell_type": "code",
      "source": [
        "os.chdir(\"./angry\")\n",
        "print(Tree(os.getcwd()))"
      ],
      "metadata": {
        "id": "P9eUycS9yJxp"
      },
      "execution_count": null,
      "outputs": []
    },
    {
      "cell_type": "markdown",
      "source": [
        "### Merge the sets\n",
        "\n",
        "Here we are merging the predefined train and test sets so that we can resplit into the ratio that we want."
      ],
      "metadata": {
        "id": "lk9c1amn0wok"
      }
    },
    {
      "cell_type": "code",
      "source": [
        "# dynamically get a list of class\n",
        "\n",
        "fer_classes = [i for i in os.listdir(DATASET_02+\"/train\")]\n",
        "\n",
        "print(f\"The classes in FER-2013 dataset: \\n{fer_classes}\")"
      ],
      "metadata": {
        "colab": {
          "base_uri": "https://localhost:8080/"
        },
        "id": "QVofimMX09nt",
        "outputId": "3fb3b30d-c19f-4e9f-e2ec-9f86af088a19"
      },
      "execution_count": null,
      "outputs": [
        {
          "output_type": "stream",
          "name": "stdout",
          "text": [
            "The classes in FER-2013 dataset: \n",
            "['angry', 'disgust', 'fear', 'happy', 'neutral', 'sad', 'surprise']\n",
            "time: 551 ms (started: 2022-02-10 20:36:03 +00:00)\n"
          ]
        }
      ]
    },
    {
      "cell_type": "markdown",
      "source": [
        "Now, let's merge the train and test sets together.\n",
        "\n",
        "<b>Note, this operation will take a bit of time to process!</b>"
      ],
      "metadata": {
        "id": "dxsvIR3q7cnc"
      }
    },
    {
      "cell_type": "code",
      "source": [
        "merge_sets(fer_classes, DATASET_02)"
      ],
      "metadata": {
        "colab": {
          "base_uri": "https://localhost:8080/"
        },
        "id": "7Z7Ufdk77ajy",
        "outputId": "d4588d37-ec18-414d-c571-6bcab335dd8c"
      },
      "execution_count": null,
      "outputs": [
        {
          "output_type": "stream",
          "name": "stdout",
          "text": [
            "################### /content/drive/MyDrive/Spring 2022/DTSC 870/Code/datasets/02_FER/train ################### \n",
            "Class: angry \n"
          ]
        },
        {
          "output_type": "stream",
          "name": "stderr",
          "text": [
            "100%|██████████| 3995/3995 [00:57<00:00, 69.28it/s]\n"
          ]
        },
        {
          "output_type": "stream",
          "name": "stdout",
          "text": [
            "Class: disgust \n"
          ]
        },
        {
          "output_type": "stream",
          "name": "stderr",
          "text": [
            "100%|██████████| 436/436 [00:05<00:00, 81.35it/s]\n"
          ]
        },
        {
          "output_type": "stream",
          "name": "stdout",
          "text": [
            "Class: fear \n"
          ]
        },
        {
          "output_type": "stream",
          "name": "stderr",
          "text": [
            "100%|██████████| 4097/4097 [00:59<00:00, 69.44it/s]\n"
          ]
        },
        {
          "output_type": "stream",
          "name": "stdout",
          "text": [
            "Class: happy \n"
          ]
        },
        {
          "output_type": "stream",
          "name": "stderr",
          "text": [
            "100%|██████████| 7215/7215 [01:57<00:00, 61.52it/s]\n"
          ]
        },
        {
          "output_type": "stream",
          "name": "stdout",
          "text": [
            "Class: neutral \n"
          ]
        },
        {
          "output_type": "stream",
          "name": "stderr",
          "text": [
            "100%|██████████| 4965/4965 [01:12<00:00, 68.41it/s]\n"
          ]
        },
        {
          "output_type": "stream",
          "name": "stdout",
          "text": [
            "Class: sad \n"
          ]
        },
        {
          "output_type": "stream",
          "name": "stderr",
          "text": [
            "100%|██████████| 4830/4830 [01:09<00:00, 69.00it/s]\n"
          ]
        },
        {
          "output_type": "stream",
          "name": "stdout",
          "text": [
            "Class: surprise \n"
          ]
        },
        {
          "output_type": "stream",
          "name": "stderr",
          "text": [
            "100%|██████████| 3171/3171 [00:43<00:00, 72.81it/s]\n"
          ]
        },
        {
          "output_type": "stream",
          "name": "stdout",
          "text": [
            "################### /content/drive/MyDrive/Spring 2022/DTSC 870/Code/datasets/02_FER/test ################### \n",
            "Class: angry \n"
          ]
        },
        {
          "output_type": "stream",
          "name": "stderr",
          "text": [
            "100%|██████████| 958/958 [00:15<00:00, 61.70it/s]\n"
          ]
        },
        {
          "output_type": "stream",
          "name": "stdout",
          "text": [
            "Class: disgust \n"
          ]
        },
        {
          "output_type": "stream",
          "name": "stderr",
          "text": [
            "100%|██████████| 111/111 [00:01<00:00, 80.82it/s]\n"
          ]
        },
        {
          "output_type": "stream",
          "name": "stdout",
          "text": [
            "Class: fear \n"
          ]
        },
        {
          "output_type": "stream",
          "name": "stderr",
          "text": [
            "100%|██████████| 1024/1024 [00:17<00:00, 57.81it/s]\n"
          ]
        },
        {
          "output_type": "stream",
          "name": "stdout",
          "text": [
            "Class: happy \n"
          ]
        },
        {
          "output_type": "stream",
          "name": "stderr",
          "text": [
            "100%|██████████| 1774/1774 [00:34<00:00, 51.07it/s]\n"
          ]
        },
        {
          "output_type": "stream",
          "name": "stdout",
          "text": [
            "Class: neutral \n"
          ]
        },
        {
          "output_type": "stream",
          "name": "stderr",
          "text": [
            "100%|██████████| 1233/1233 [00:21<00:00, 57.25it/s]\n"
          ]
        },
        {
          "output_type": "stream",
          "name": "stdout",
          "text": [
            "Class: sad \n"
          ]
        },
        {
          "output_type": "stream",
          "name": "stderr",
          "text": [
            "100%|██████████| 1247/1247 [00:22<00:00, 56.55it/s]\n"
          ]
        },
        {
          "output_type": "stream",
          "name": "stdout",
          "text": [
            "Class: surprise \n"
          ]
        },
        {
          "output_type": "stream",
          "name": "stderr",
          "text": [
            "100%|██████████| 831/831 [00:13<00:00, 60.83it/s]"
          ]
        },
        {
          "output_type": "stream",
          "name": "stdout",
          "text": [
            "All jobs are done!\n",
            "time: 9min 13s (started: 2022-02-10 16:44:43 +00:00)\n"
          ]
        },
        {
          "output_type": "stream",
          "name": "stderr",
          "text": [
            "\n"
          ]
        }
      ]
    },
    {
      "cell_type": "code",
      "source": [
        "# now remove the train and test set\n",
        "\n",
        "shutil.rmtree(DATASET_02+\"/train\")\n",
        "shutil.rmtree(DATASET_02+\"/test\")"
      ],
      "metadata": {
        "colab": {
          "base_uri": "https://localhost:8080/"
        },
        "id": "zp73DJmqG4hg",
        "outputId": "10469186-b100-4ae1-8499-596a0c6825c2"
      },
      "execution_count": null,
      "outputs": [
        {
          "output_type": "stream",
          "name": "stdout",
          "text": [
            "time: 26.7 ms (started: 2022-02-07 23:43:47 +00:00)\n"
          ]
        }
      ]
    },
    {
      "cell_type": "markdown",
      "source": [
        "### Generate the train and test set"
      ],
      "metadata": {
        "id": "ErW6sqk8XXI4"
      }
    },
    {
      "cell_type": "markdown",
      "source": [
        "Now, we need to split the dataset into the ratio that we want, which is 0.7:0.3."
      ],
      "metadata": {
        "id": "C3QGkuSrHBOr"
      }
    },
    {
      "cell_type": "code",
      "source": [
        "set_move2(fer_classes, DATASET_02+\"/merge\")"
      ],
      "metadata": {
        "colab": {
          "base_uri": "https://localhost:8080/"
        },
        "id": "4aT61Z0iHAjI",
        "outputId": "e4e965e6-6505-488b-ac69-3fb319991aa8"
      },
      "execution_count": null,
      "outputs": [
        {
          "output_type": "stream",
          "name": "stdout",
          "text": [
            "################### angry ################### \n"
          ]
        },
        {
          "output_type": "stream",
          "name": "stderr",
          "text": [
            "100%|██████████| 3467/3467 [01:57<00:00, 29.63it/s]\n",
            "100%|██████████| 1486/1486 [00:14<00:00, 100.07it/s]\n"
          ]
        },
        {
          "output_type": "stream",
          "name": "stdout",
          "text": [
            "################### disgust ################### \n"
          ]
        },
        {
          "output_type": "stream",
          "name": "stderr",
          "text": [
            "100%|██████████| 382/382 [00:08<00:00, 43.15it/s]\n",
            "100%|██████████| 165/165 [00:01<00:00, 101.91it/s]\n"
          ]
        },
        {
          "output_type": "stream",
          "name": "stdout",
          "text": [
            "################### fear ################### \n"
          ]
        },
        {
          "output_type": "stream",
          "name": "stderr",
          "text": [
            "100%|██████████| 3584/3584 [04:05<00:00, 14.63it/s]\n",
            "100%|██████████| 1537/1537 [00:16<00:00, 92.42it/s]\n"
          ]
        },
        {
          "output_type": "stream",
          "name": "stdout",
          "text": [
            "################### happy ################### \n"
          ]
        },
        {
          "output_type": "stream",
          "name": "stderr",
          "text": [
            "100%|██████████| 6292/6292 [08:09<00:00, 12.86it/s] \n",
            "100%|██████████| 2697/2697 [00:27<00:00, 99.30it/s]\n"
          ]
        },
        {
          "output_type": "stream",
          "name": "stdout",
          "text": [
            "################### neutral ################### \n"
          ]
        },
        {
          "output_type": "stream",
          "name": "stderr",
          "text": [
            "100%|██████████| 4338/4338 [04:23<00:00, 16.47it/s]\n",
            "100%|██████████| 1860/1860 [00:20<00:00, 92.92it/s]\n"
          ]
        },
        {
          "output_type": "stream",
          "name": "stdout",
          "text": [
            "################### sad ################### \n"
          ]
        },
        {
          "output_type": "stream",
          "name": "stderr",
          "text": [
            "100%|██████████| 4253/4253 [03:36<00:00, 19.68it/s]\n",
            "100%|██████████| 1824/1824 [00:19<00:00, 95.32it/s]\n"
          ]
        },
        {
          "output_type": "stream",
          "name": "stdout",
          "text": [
            "################### surprise ################### \n"
          ]
        },
        {
          "output_type": "stream",
          "name": "stderr",
          "text": [
            "100%|██████████| 2801/2801 [02:06<00:00, 22.17it/s]\n",
            "100%|██████████| 1201/1201 [00:12<00:00, 94.63it/s]"
          ]
        },
        {
          "output_type": "stream",
          "name": "stdout",
          "text": [
            "All jobs are done!\n",
            "time: 30min 39s (started: 2022-02-10 20:40:34 +00:00)\n"
          ]
        },
        {
          "output_type": "stream",
          "name": "stderr",
          "text": [
            "\n"
          ]
        }
      ]
    },
    {
      "cell_type": "markdown",
      "source": [
        "### Validate the split"
      ],
      "metadata": {
        "id": "BbPB8EmJ2ku8"
      }
    },
    {
      "cell_type": "markdown",
      "source": [
        "After the split, the new directory for the FER-2013 dataset is `DATASET_02/merge/<train/test set>`."
      ],
      "metadata": {
        "id": "lOb0g_8Xx7ld"
      }
    },
    {
      "cell_type": "code",
      "source": [
        "os.chdir(DATASET_02+\"/merge/train\")\n",
        "print(Tree(os.getcwd()))"
      ],
      "metadata": {
        "colab": {
          "base_uri": "https://localhost:8080/"
        },
        "id": "5H19xOFiyKTz",
        "outputId": "8957947d-553e-4a41-b631-38fc854b5e09"
      },
      "execution_count": null,
      "outputs": [
        {
          "output_type": "stream",
          "name": "stdout",
          "text": [
            "📂 train\n",
            "|_📁 angry\n",
            "|_📁 disgust\n",
            "|_📁 fear\n",
            "|_📁 happy\n",
            "|_📁 neutral\n",
            "|_📁 sad\n",
            "|_📁 surprise\n",
            "time: 695 ms (started: 2022-02-08 19:26:14 +00:00)\n"
          ]
        }
      ]
    },
    {
      "cell_type": "code",
      "source": [
        "os.chdir(DATASET_02+\"/merge/test\")\n",
        "print(Tree(os.getcwd()))"
      ],
      "metadata": {
        "colab": {
          "base_uri": "https://localhost:8080/"
        },
        "id": "nFwCifkCzX9M",
        "outputId": "f78ccc13-8f33-43b4-e3d8-f00d956d7698"
      },
      "execution_count": null,
      "outputs": [
        {
          "output_type": "stream",
          "name": "stdout",
          "text": [
            "📂 test\n",
            "|_📁 angry\n",
            "|_📁 disgust\n",
            "|_📁 fear\n",
            "|_📁 happy\n",
            "|_📁 neutral\n",
            "|_📁 sad\n",
            "|_📁 surprise\n",
            "time: 268 ms (started: 2022-02-08 19:26:51 +00:00)\n"
          ]
        }
      ]
    },
    {
      "cell_type": "code",
      "source": [
        "source = DATASET_02+\"/merge/train/disgust\"\n",
        "source2 = DATASET_02+\"/merge/test/disgust\"\n",
        "\n",
        "# get all file names\n",
        "file_train_disgust = os.listdir(source)\n",
        "file_test_disgust = os.listdir(source2)\n",
        "\n",
        "np.random.shuffle(file_train_disgust)\n",
        "np.random.shuffle(file_test_disgust)\n",
        "\n",
        "print(\"Training set sample:\")\n",
        "for i in range(5, 10):\n",
        "  print(file_train_disgust[i])\n",
        "\n",
        "print(\"\\n##############################\\n\")\n",
        "\n",
        "print(\"Test set sample:\")\n",
        "for i in range(5, 10):\n",
        "  print(file_test_disgust[i])"
      ],
      "metadata": {
        "colab": {
          "base_uri": "https://localhost:8080/"
        },
        "id": "egi27QWBzX3O",
        "outputId": "2ec3540e-ae5d-47f0-af85-a9929af64202"
      },
      "execution_count": null,
      "outputs": [
        {
          "output_type": "stream",
          "name": "stdout",
          "text": [
            "Training set sample:\n",
            "Training_7975772.jpg\n",
            "Training_33035381.jpg\n",
            "Training_40778169.jpg\n",
            "Training_5420780.jpg\n",
            "Training_5151632.jpg\n",
            "\n",
            "##############################\n",
            "\n",
            "Test set sample:\n",
            "Training_85886105.jpg\n",
            "Training_2408820.jpg\n",
            "Training_73540712.jpg\n",
            "Training_39330477.jpg\n",
            "Training_42657020.jpg\n",
            "time: 45.4 ms (started: 2022-02-10 21:41:16 +00:00)\n"
          ]
        }
      ]
    },
    {
      "cell_type": "markdown",
      "source": [
        "Now we need to remove the unused dir."
      ],
      "metadata": {
        "id": "VSCY1h04ckNg"
      }
    },
    {
      "cell_type": "code",
      "source": [
        "remove_unused_dir(DATASET_02+\"/merge\", fer_classes)"
      ],
      "metadata": {
        "colab": {
          "base_uri": "https://localhost:8080/"
        },
        "id": "RBlKrqNxcjzL",
        "outputId": "8a9cc34c-502a-4254-9f0e-f2d6f35dc4d1"
      },
      "execution_count": null,
      "outputs": [
        {
          "output_type": "stream",
          "name": "stdout",
          "text": [
            "All jobs are done!\n",
            "time: 1min 16s (started: 2022-02-10 21:39:02 +00:00)\n"
          ]
        }
      ]
    },
    {
      "cell_type": "markdown",
      "source": [
        "## Fashion-MNIST"
      ],
      "metadata": {
        "id": "tcPWMDX0ycZr"
      }
    },
    {
      "cell_type": "markdown",
      "source": [
        "For the Fashion-MNIST dataset, we can retrieve it through TensorFlow:\n",
        "\n",
        "```\n",
        "from tensorflow.keras.datasets.fashion_mnist import load_data\n",
        "(images, labels), (_,_) = load_data()\n",
        "```"
      ],
      "metadata": {
        "id": "i1XYCrN0zX-f"
      }
    },
    {
      "cell_type": "code",
      "source": [
        "from tensorflow.keras.datasets.fashion_mnist import load_data\n",
        "\n",
        "(x_train, y_train), (x_test, y_test) = load_data()"
      ],
      "metadata": {
        "id": "sOq6y9Z-zlhp",
        "colab": {
          "base_uri": "https://localhost:8080/"
        },
        "outputId": "b01b4190-6fca-4678-f5fd-a3f7a186e1ea"
      },
      "execution_count": null,
      "outputs": [
        {
          "output_type": "stream",
          "name": "stdout",
          "text": [
            "Downloading data from https://storage.googleapis.com/tensorflow/tf-keras-datasets/train-labels-idx1-ubyte.gz\n",
            "32768/29515 [=================================] - 0s 0us/step\n",
            "40960/29515 [=========================================] - 0s 0us/step\n",
            "Downloading data from https://storage.googleapis.com/tensorflow/tf-keras-datasets/train-images-idx3-ubyte.gz\n",
            "26427392/26421880 [==============================] - 0s 0us/step\n",
            "26435584/26421880 [==============================] - 0s 0us/step\n",
            "Downloading data from https://storage.googleapis.com/tensorflow/tf-keras-datasets/t10k-labels-idx1-ubyte.gz\n",
            "16384/5148 [===============================================================================================] - 0s 0us/step\n",
            "Downloading data from https://storage.googleapis.com/tensorflow/tf-keras-datasets/t10k-images-idx3-ubyte.gz\n",
            "4423680/4422102 [==============================] - 0s 0us/step\n",
            "4431872/4422102 [==============================] - 0s 0us/step\n",
            "time: 3.63 s (started: 2022-02-11 16:06:30 +00:00)\n"
          ]
        }
      ]
    },
    {
      "cell_type": "code",
      "source": [
        "print(x_train.shape)"
      ],
      "metadata": {
        "colab": {
          "base_uri": "https://localhost:8080/"
        },
        "id": "vtPp1bixl-CJ",
        "outputId": "65dd7d6e-d288-4bf4-dab8-52d1929780d0"
      },
      "execution_count": null,
      "outputs": [
        {
          "output_type": "stream",
          "name": "stdout",
          "text": [
            "(60000, 28, 28)\n",
            "time: 1.96 ms (started: 2022-02-11 16:06:36 +00:00)\n"
          ]
        }
      ]
    },
    {
      "cell_type": "code",
      "source": [
        "print(x_test.shape)"
      ],
      "metadata": {
        "colab": {
          "base_uri": "https://localhost:8080/"
        },
        "id": "ZizfEJ1OmDIg",
        "outputId": "10e5029a-7df9-49e9-8a44-03d59d034534"
      },
      "execution_count": null,
      "outputs": [
        {
          "output_type": "stream",
          "name": "stdout",
          "text": [
            "(10000, 28, 28)\n",
            "time: 1.35 ms (started: 2022-02-11 16:06:37 +00:00)\n"
          ]
        }
      ]
    },
    {
      "cell_type": "code",
      "source": [
        "print(y_train.shape)"
      ],
      "metadata": {
        "colab": {
          "base_uri": "https://localhost:8080/"
        },
        "id": "qhyg-zPymbHQ",
        "outputId": "faa31aa1-3300-4575-d931-e99667fadfbf"
      },
      "execution_count": null,
      "outputs": [
        {
          "output_type": "stream",
          "name": "stdout",
          "text": [
            "(60000,)\n",
            "time: 1.38 ms (started: 2022-02-11 16:06:38 +00:00)\n"
          ]
        }
      ]
    },
    {
      "cell_type": "code",
      "source": [
        "print(y_test.shape)"
      ],
      "metadata": {
        "colab": {
          "base_uri": "https://localhost:8080/"
        },
        "id": "elUfF-uqmb76",
        "outputId": "830dd39e-6675-418f-8f1f-4301d7a81e1f"
      },
      "execution_count": null,
      "outputs": [
        {
          "output_type": "stream",
          "name": "stdout",
          "text": [
            "(10000,)\n",
            "time: 1.43 ms (started: 2022-02-11 16:06:39 +00:00)\n"
          ]
        }
      ]
    },
    {
      "cell_type": "code",
      "source": [
        "for li in [x_train, x_test]:\n",
        "  # print(x_train)\n",
        "  # print(x_test)\n",
        "  break"
      ],
      "metadata": {
        "id": "0Gi1nkT6GXwv"
      },
      "execution_count": null,
      "outputs": []
    },
    {
      "cell_type": "markdown",
      "source": [
        "### Merge"
      ],
      "metadata": {
        "id": "J2wL1P1Mmx8C"
      }
    },
    {
      "cell_type": "code",
      "source": [
        "X = [i for i in x_train] + [i for i in x_test]\n",
        "y = [i for i in y_train] + [i for i in y_test]"
      ],
      "metadata": {
        "colab": {
          "base_uri": "https://localhost:8080/"
        },
        "id": "QHMN0fTLmzYP",
        "outputId": "a8d4c387-183d-4c88-bb5c-729348670787"
      },
      "execution_count": null,
      "outputs": [
        {
          "output_type": "stream",
          "name": "stdout",
          "text": [
            "time: 33.6 ms (started: 2022-02-11 16:06:41 +00:00)\n"
          ]
        }
      ]
    },
    {
      "cell_type": "code",
      "source": [
        "print(len(X))\n",
        "print(len(y))"
      ],
      "metadata": {
        "colab": {
          "base_uri": "https://localhost:8080/"
        },
        "id": "VhFwc7mpm7AD",
        "outputId": "ed7c0961-6756-4024-fef9-f2d84d9bc8e9"
      },
      "execution_count": null,
      "outputs": [
        {
          "output_type": "stream",
          "name": "stdout",
          "text": [
            "70000\n",
            "70000\n",
            "time: 1.53 ms (started: 2022-02-11 16:06:43 +00:00)\n"
          ]
        }
      ]
    },
    {
      "cell_type": "code",
      "source": [
        "import numpy as np\n",
        "\n",
        "fashion_classes = np.unique(y)\n",
        "\n",
        "print(fashion_classes)"
      ],
      "metadata": {
        "colab": {
          "base_uri": "https://localhost:8080/"
        },
        "id": "ZgJRcezRoE9v",
        "outputId": "81f81286-de87-4045-c73c-ec1a6389ce5a"
      },
      "execution_count": null,
      "outputs": [
        {
          "output_type": "stream",
          "name": "stdout",
          "text": [
            "[0 1 2 3 4 5 6 7 8 9]\n",
            "time: 15 ms (started: 2022-02-11 16:06:46 +00:00)\n"
          ]
        }
      ]
    },
    {
      "cell_type": "code",
      "source": [
        "ARR = []\n",
        "\n",
        "for class_ in fashion_classes:\n",
        "  ARR.append({\"X\": [], \"y\": class_})"
      ],
      "metadata": {
        "colab": {
          "base_uri": "https://localhost:8080/"
        },
        "id": "kij9PxfAicG-",
        "outputId": "90275b9f-5a55-4115-9c4f-a955e1a59fee"
      },
      "execution_count": null,
      "outputs": [
        {
          "output_type": "stream",
          "name": "stdout",
          "text": [
            "time: 2.02 ms (started: 2022-02-11 18:50:49 +00:00)\n"
          ]
        }
      ]
    },
    {
      "cell_type": "code",
      "source": [
        "for item in ARR:\n",
        "  print(item)"
      ],
      "metadata": {
        "colab": {
          "base_uri": "https://localhost:8080/"
        },
        "id": "nV2PnEhbmwYc",
        "outputId": "2f65f9ec-c5d2-4161-8bfe-5460669b94d2"
      },
      "execution_count": null,
      "outputs": [
        {
          "output_type": "stream",
          "name": "stdout",
          "text": [
            "{'X': [], 'y': 0}\n",
            "{'X': [], 'y': 1}\n",
            "{'X': [], 'y': 2}\n",
            "{'X': [], 'y': 3}\n",
            "{'X': [], 'y': 4}\n",
            "{'X': [], 'y': 5}\n",
            "{'X': [], 'y': 6}\n",
            "{'X': [], 'y': 7}\n",
            "{'X': [], 'y': 8}\n",
            "{'X': [], 'y': 9}\n",
            "time: 5.76 ms (started: 2022-02-11 18:50:50 +00:00)\n"
          ]
        }
      ]
    },
    {
      "cell_type": "code",
      "source": [
        "def append_arr():\n",
        "  for i in range(len(X)):\n",
        "    ARR[y[i]][\"X\"].append(X[i])\n",
        "\n",
        "append_arr()"
      ],
      "metadata": {
        "colab": {
          "base_uri": "https://localhost:8080/"
        },
        "id": "eAQAoU72mO0r",
        "outputId": "a2e3a894-426b-4d33-f88a-5d5d9464d8f5"
      },
      "execution_count": null,
      "outputs": [
        {
          "output_type": "stream",
          "name": "stdout",
          "text": [
            "time: 25.3 ms (started: 2022-02-11 18:50:58 +00:00)\n"
          ]
        }
      ]
    },
    {
      "cell_type": "code",
      "source": [
        "for i in range(5):\n",
        "  print(ARR[0][\"X\"][i])\n",
        "  print(\"#####################################################################\")"
      ],
      "metadata": {
        "id": "dyrFK2hDpscr"
      },
      "execution_count": null,
      "outputs": []
    },
    {
      "cell_type": "code",
      "source": [
        "import matplotlib.pyplot as plt\n",
        "\n",
        "plt.imshow(ARR[0][\"X\"][i])"
      ],
      "metadata": {
        "colab": {
          "base_uri": "https://localhost:8080/",
          "height": 300
        },
        "id": "hoX9U-sg4gis",
        "outputId": "0c947c92-2141-4d91-9670-b15bf9827f0b"
      },
      "execution_count": null,
      "outputs": [
        {
          "output_type": "execute_result",
          "data": {
            "text/plain": [
              "<matplotlib.image.AxesImage at 0x7f01539a4510>"
            ]
          },
          "metadata": {},
          "execution_count": 85
        },
        {
          "output_type": "display_data",
          "data": {
            "image/png": "[encoded data removed]",
            "text/plain": [
              "<Figure size 432x288 with 1 Axes>"
            ]
          },
          "metadata": {
            "needs_background": "light"
          }
        },
        {
          "output_type": "stream",
          "name": "stdout",
          "text": [
            "time: 291 ms (started: 2022-02-11 18:51:38 +00:00)\n"
          ]
        }
      ]
    },
    {
      "cell_type": "markdown",
      "source": [
        "### Generate the train and test set"
      ],
      "metadata": {
        "id": "o_pHA5K9nu06"
      }
    },
    {
      "cell_type": "code",
      "source": [
        "DIR_NAME = \"XXXX/fefe\"\n",
        "i = 0\n",
        "filename = \"{0}/{1:05d}.jpg\".format(DIR_NAME,i)\n",
        "filename"
      ],
      "metadata": {
        "colab": {
          "base_uri": "https://localhost:8080/",
          "height": 35
        },
        "id": "gz7hIj9RJPPs",
        "outputId": "5c7b9dfc-bd47-4635-8d1a-1154b5a11842"
      },
      "execution_count": null,
      "outputs": [
        {
          "output_type": "execute_result",
          "data": {
            "application/vnd.google.colaboratory.intrinsic+json": {
              "type": "string"
            },
            "text/plain": [
              "'XXXX/fefe/00000.jpg'"
            ]
          },
          "metadata": {},
          "execution_count": 87
        },
        {
          "output_type": "stream",
          "name": "stdout",
          "text": [
            "time: 5.96 ms (started: 2022-02-11 18:57:03 +00:00)\n"
          ]
        }
      ]
    },
    {
      "cell_type": "code",
      "source": [
        "from PIL import Image, ImageOps\n",
        "\n",
        "def fashion_split(array_, dir):\n",
        "\n",
        "  for i in range(len(array_)):\n",
        "    print(f\"########################## {i} ##########################\")\n",
        "\n",
        "    class_train_dir = dir+\"/train/\"+str(i)\n",
        "    class_test_dir = dir+\"/test/\"+str(i)\n",
        "\n",
        "    np.random.shuffle(array_[i][\"X\"])\n",
        "\n",
        "    # split the file names in the given test ratio\n",
        "    X_train, X_test = np.split(\n",
        "        np.array(array_[i][\"X\"]), [int(len(array_[i][\"X\"]) * (1 - TEST_K))]\n",
        "        )\n",
        "\n",
        "    print(class_train_dir)\n",
        "\n",
        "    # create necessary dir and sub-dir\n",
        "    if os.path.exists(class_train_dir) == False:\n",
        "      os.makedirs(class_train_dir)\n",
        "\n",
        "    if os.path.exists(class_test_dir) == False:\n",
        "      os.makedirs(class_test_dir)\n",
        "\n",
        "    # Code ref: https://gist.github.com/uchidama/a75bd3b949b89f64ccc77a9a5de445a9\n",
        "    j = 0\n",
        "    for item in tqdm(X_train):\n",
        "      filename = \"{0}/{1:05d}.jpg\".format(class_train_dir, j)\n",
        "      im = Image.fromarray(item.astype('uint8'))\n",
        "      im_invert = ImageOps.invert(im)\n",
        "      im_invert.save(filename)\n",
        "      j += 1\n",
        "\n",
        "    k = 0\n",
        "    for item in tqdm(X_test):\n",
        "      filename = \"{0}/{1:05d}.jpg\".format(class_test_dir, k)\n",
        "      im = Image.fromarray(item.astype('uint8'))\n",
        "      im_invert = ImageOps.invert(im)\n",
        "      im_invert.save(filename)\n",
        "      k += 1\n",
        "\n",
        "\n",
        "  #   train_df[str(class_)] = [item for item in X_train]\n",
        "  #   test_df[str(class_)] = [item for item in X_test]\n",
        "  #   # end for loop here\n",
        "\n",
        "  # train_df.to_csv(dir+\"/fashion_x_train.csv\", header=False)\n",
        "  # test_df.to_csv(dir+\"/fashion_x_test.csv\", header=False)\n",
        "\n",
        "  print(\"\\nAll jobs are done!\")"
      ],
      "metadata": {
        "id": "hoLNigZ1nxGW",
        "colab": {
          "base_uri": "https://localhost:8080/"
        },
        "outputId": "c5ffa91e-9763-4b33-bacf-2378a7e659a6"
      },
      "execution_count": null,
      "outputs": [
        {
          "output_type": "stream",
          "name": "stdout",
          "text": [
            "time: 43.2 ms (started: 2022-02-11 19:45:12 +00:00)\n"
          ]
        }
      ]
    },
    {
      "cell_type": "code",
      "source": [
        "import numpy as np\n",
        "\n",
        "arr1 = np.random.random_sample((5,))\n",
        "arr2 = np.random.random_sample((5,))\n",
        "\n",
        "for i in [arr1, arr2]:\n",
        "  print(i)"
      ],
      "metadata": {
        "colab": {
          "base_uri": "https://localhost:8080/"
        },
        "id": "zZ7VUXj_RNnr",
        "outputId": "ac129fed-6ebd-44ad-e4f1-9ae7f8356f58"
      },
      "execution_count": null,
      "outputs": [
        {
          "output_type": "stream",
          "name": "stdout",
          "text": [
            "[0.39817112 0.13013252 0.84102392 0.93975914 0.9662808 ]\n",
            "[0.01864808 0.2710862  0.50886917 0.18996455 0.29267318]\n",
            "time: 24.9 ms (started: 2022-02-11 19:31:29 +00:00)\n"
          ]
        }
      ]
    },
    {
      "cell_type": "code",
      "source": [
        "fashion_split(ARR, DATASET_03)"
      ],
      "metadata": {
        "colab": {
          "base_uri": "https://localhost:8080/"
        },
        "id": "xuQoOS2YvKmF",
        "outputId": "b7d87be3-e2a6-4116-cabb-ce0dd9bff3ff"
      },
      "execution_count": null,
      "outputs": [
        {
          "output_type": "stream",
          "name": "stdout",
          "text": [
            "########################## 0 ##########################\n",
            "/content/drive/MyDrive/Spring 2022/DTSC 870/Code/datasets/03_F_MINST/train/0\n"
          ]
        },
        {
          "output_type": "stream",
          "name": "stderr",
          "text": [
            "100%|██████████| 4900/4900 [00:40<00:00, 120.92it/s]\n",
            "100%|██████████| 2100/2100 [00:15<00:00, 134.10it/s]\n"
          ]
        },
        {
          "output_type": "stream",
          "name": "stdout",
          "text": [
            "########################## 1 ##########################\n",
            "/content/drive/MyDrive/Spring 2022/DTSC 870/Code/datasets/03_F_MINST/train/1\n"
          ]
        },
        {
          "output_type": "stream",
          "name": "stderr",
          "text": [
            "100%|██████████| 4900/4900 [00:48<00:00, 100.08it/s]\n",
            "100%|██████████| 2100/2100 [00:21<00:00, 96.16it/s]\n"
          ]
        },
        {
          "output_type": "stream",
          "name": "stdout",
          "text": [
            "########################## 2 ##########################\n",
            "/content/drive/MyDrive/Spring 2022/DTSC 870/Code/datasets/03_F_MINST/train/2\n"
          ]
        },
        {
          "output_type": "stream",
          "name": "stderr",
          "text": [
            "100%|██████████| 4900/4900 [00:57<00:00, 84.65it/s]\n",
            "100%|██████████| 2100/2100 [00:19<00:00, 109.99it/s]\n"
          ]
        },
        {
          "output_type": "stream",
          "name": "stdout",
          "text": [
            "########################## 3 ##########################\n",
            "/content/drive/MyDrive/Spring 2022/DTSC 870/Code/datasets/03_F_MINST/train/3\n"
          ]
        },
        {
          "output_type": "stream",
          "name": "stderr",
          "text": [
            "100%|██████████| 4900/4900 [00:41<00:00, 118.36it/s]\n",
            "100%|██████████| 2100/2100 [00:15<00:00, 133.37it/s]\n"
          ]
        },
        {
          "output_type": "stream",
          "name": "stdout",
          "text": [
            "########################## 4 ##########################\n",
            "/content/drive/MyDrive/Spring 2022/DTSC 870/Code/datasets/03_F_MINST/train/4\n"
          ]
        },
        {
          "output_type": "stream",
          "name": "stderr",
          "text": [
            "100%|██████████| 4900/4900 [00:40<00:00, 119.90it/s]\n",
            "100%|██████████| 2100/2100 [00:15<00:00, 134.86it/s]\n"
          ]
        },
        {
          "output_type": "stream",
          "name": "stdout",
          "text": [
            "########################## 5 ##########################\n",
            "/content/drive/MyDrive/Spring 2022/DTSC 870/Code/datasets/03_F_MINST/train/5\n"
          ]
        },
        {
          "output_type": "stream",
          "name": "stderr",
          "text": [
            "100%|██████████| 4900/4900 [00:41<00:00, 118.37it/s]\n",
            "100%|██████████| 2100/2100 [00:21<00:00, 96.71it/s]\n"
          ]
        },
        {
          "output_type": "stream",
          "name": "stdout",
          "text": [
            "########################## 6 ##########################\n",
            "/content/drive/MyDrive/Spring 2022/DTSC 870/Code/datasets/03_F_MINST/train/6\n"
          ]
        },
        {
          "output_type": "stream",
          "name": "stderr",
          "text": [
            "100%|██████████| 4900/4900 [00:42<00:00, 116.59it/s]\n",
            "100%|██████████| 2100/2100 [00:15<00:00, 137.67it/s]\n"
          ]
        },
        {
          "output_type": "stream",
          "name": "stdout",
          "text": [
            "########################## 7 ##########################\n",
            "/content/drive/MyDrive/Spring 2022/DTSC 870/Code/datasets/03_F_MINST/train/7\n"
          ]
        },
        {
          "output_type": "stream",
          "name": "stderr",
          "text": [
            "100%|██████████| 4900/4900 [00:41<00:00, 119.21it/s]\n",
            "100%|██████████| 2100/2100 [00:15<00:00, 133.28it/s]\n"
          ]
        },
        {
          "output_type": "stream",
          "name": "stdout",
          "text": [
            "########################## 8 ##########################\n",
            "/content/drive/MyDrive/Spring 2022/DTSC 870/Code/datasets/03_F_MINST/train/8\n"
          ]
        },
        {
          "output_type": "stream",
          "name": "stderr",
          "text": [
            "100%|██████████| 4900/4900 [00:40<00:00, 119.94it/s]\n",
            "100%|██████████| 2100/2100 [00:15<00:00, 135.30it/s]\n"
          ]
        },
        {
          "output_type": "stream",
          "name": "stdout",
          "text": [
            "########################## 9 ##########################\n",
            "/content/drive/MyDrive/Spring 2022/DTSC 870/Code/datasets/03_F_MINST/train/9\n"
          ]
        },
        {
          "output_type": "stream",
          "name": "stderr",
          "text": [
            "100%|██████████| 4900/4900 [00:40<00:00, 121.94it/s]\n",
            "100%|██████████| 2100/2100 [00:15<00:00, 135.53it/s]"
          ]
        },
        {
          "output_type": "stream",
          "name": "stdout",
          "text": [
            "\n",
            "All jobs are done!\n",
            "time: 10min 7s (started: 2022-02-11 19:45:18 +00:00)\n"
          ]
        },
        {
          "output_type": "stream",
          "name": "stderr",
          "text": [
            "\n"
          ]
        }
      ]
    },
    {
      "cell_type": "markdown",
      "source": [
        "### Validate the split"
      ],
      "metadata": {
        "id": "xoW3bceDXOwP"
      }
    },
    {
      "cell_type": "code",
      "source": [
        "fashion_train = pd.read_csv(DATASET_03+\"/fashion_x_train.csv\", header=None)\n",
        "\n",
        "fashion_train.head(3)"
      ],
      "metadata": {
        "id": "BcTHHQBt3sGZ"
      },
      "execution_count": null,
      "outputs": []
    },
    {
      "cell_type": "code",
      "source": [
        "sample = fashion_train.iloc[1, 1]"
      ],
      "metadata": {
        "colab": {
          "base_uri": "https://localhost:8080/"
        },
        "id": "QydqH9ey37kp",
        "outputId": "1194489b-2b25-413e-ad87-70affa911f59"
      },
      "execution_count": null,
      "outputs": [
        {
          "output_type": "stream",
          "name": "stdout",
          "text": [
            "time: 7.85 ms (started: 2022-02-11 17:45:25 +00:00)\n"
          ]
        }
      ]
    },
    {
      "cell_type": "code",
      "source": [
        "print(sample)"
      ],
      "metadata": {
        "id": "NgkCXYVe4Qw1"
      },
      "execution_count": null,
      "outputs": []
    },
    {
      "cell_type": "code",
      "source": [
        "from PIL import Image\n",
        "\n",
        "sample_fashion = os.listdir(DATASET_03+\"/train/0\")\n",
        "os.chdir(DATASET_03)\n",
        "print(DATASET_03+\"/train/0/\"+sample_fashion[0])\n",
        "flag = os.path.isfile(DATASET_03+\"/train/5/\"+sample_fashion[0])\n",
        "print(flag)\n",
        "im = Image.open(DATASET_03+\"/train/5/\"+sample_fashion[0])\n",
        "\n",
        "# plt.imshow(DATASET_03+\"/train/0/\"+sample_fashion[0])\n",
        "# for i in range(5):\n",
        "#   plt.imshow(os.path.join(\"./train/0\", sample_fashion[i]))\n",
        "#   print(os.path.join(\"/train/0\", sample_fashion[i]))"
      ],
      "metadata": {
        "colab": {
          "base_uri": "https://localhost:8080/"
        },
        "id": "iQA1sis1XUtf",
        "outputId": "78c71496-a7b4-4997-deb9-9e01e5ef7ac3"
      },
      "execution_count": null,
      "outputs": [
        {
          "output_type": "stream",
          "name": "stdout",
          "text": [
            "/content/drive/MyDrive/Spring 2022/DTSC 870/Code/datasets/03_F_MINST/train/0/00000.jpg\n",
            "True\n"
          ]
        }
      ]
    },
    {
      "cell_type": "code",
      "source": [
        "im"
      ],
      "metadata": {
        "id": "6WM8-tHb5O7m",
        "colab": {
          "base_uri": "https://localhost:8080/",
          "height": 45
        },
        "outputId": "5533995e-16db-4237-cc8c-5df71cd7817e"
      },
      "execution_count": null,
      "outputs": [
        {
          "output_type": "execute_result",
          "data": {
            "image/png": "[encoded data removed]",
            "text/plain": [
              "<PIL.JpegImagePlugin.JpegImageFile image mode=L size=28x28 at 0x7FC9085F1C50>"
            ]
          },
          "metadata": {},
          "execution_count": 27
        }
      ]
    },
    {
      "cell_type": "code",
      "source": [
        ""
      ],
      "metadata": {
        "id": "zM2et1auytUD"
      },
      "execution_count": null,
      "outputs": []
    }
  ]
}