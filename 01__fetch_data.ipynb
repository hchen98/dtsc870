{
  "nbformat": 4,
  "nbformat_minor": 0,
  "metadata": {
    "colab": {
      "name": "01__fetch_data.ipynb",
      "provenance": [],
      "collapsed_sections": [],
      "toc_visible": true
    },
    "kernelspec": {
      "name": "python3",
      "display_name": "Python 3"
    },
    "language_info": {
      "name": "python"
    }
  },
  "cells": [
    {
      "cell_type": "markdown",
      "source": [
        "New York Institute of Technology<br>\n",
        "Course: DTSC 870 / Spring 2022<br>\n",
        "Advisor: Dr. Cao<br>\n",
        "Team: Michael Trzaskoma, Hui (Henry) Chen\n",
        "\n",
        "----\n",
        "\n",
        "This notebook is meant to fetch all necessary dataset for the project. Therefore, this is part of Phase I of the project."
      ],
      "metadata": {
        "id": "17b6hdPYYwaw"
      }
    },
    {
      "cell_type": "markdown",
      "source": [
        "# Mount the driver"
      ],
      "metadata": {
        "id": "SLnjg3bPal-w"
      }
    },
    {
      "cell_type": "code",
      "execution_count": 1,
      "metadata": {
        "colab": {
          "base_uri": "https://localhost:8080/"
        },
        "id": "_hvFJpqwYsV5",
        "outputId": "ae564c4a-404e-406b-cd10-fa35501224a7"
      },
      "outputs": [
        {
          "output_type": "stream",
          "name": "stdout",
          "text": [
            "Drive already mounted at /content/drive; to attempt to forcibly remount, call drive.mount(\"/content/drive\", force_remount=True).\n"
          ]
        }
      ],
      "source": [
        "from google.colab import drive\n",
        "drive.mount('/content/drive')"
      ]
    },
    {
      "cell_type": "markdown",
      "source": [
        "Now, let's see what's the current directory."
      ],
      "metadata": {
        "id": "z5FPNSSnavZh"
      }
    },
    {
      "cell_type": "code",
      "source": [
        "import os\n",
        "\n",
        "print(os.getcwd())"
      ],
      "metadata": {
        "colab": {
          "base_uri": "https://localhost:8080/"
        },
        "id": "5o-uUOFhaqfj",
        "outputId": "7a7b4587-42f6-449c-839d-4d3690299312"
      },
      "execution_count": 3,
      "outputs": [
        {
          "output_type": "stream",
          "name": "stdout",
          "text": [
            "/content\n"
          ]
        }
      ]
    },
    {
      "cell_type": "markdown",
      "source": [
        "## Change dataset dir"
      ],
      "metadata": {
        "id": "V6E-ZJfgfnvG"
      }
    },
    {
      "cell_type": "code",
      "source": [
        "# feel free to change the dataset to your desired directory:\n",
        "\n",
        "ROOT_DIR = \"/content/drive/MyDrive/Spring 2022/DTSC 870/Code\"\n",
        "# ROOT_DIR = \"/content/drive/MyDrive/Spring 2022/DTSC 870/Code\"\n",
        "\n",
        "DATASET_DIR = ROOT_DIR + \"/datasets\"\n",
        "# DATASET_DIR = \"/content/drive/MyDrive/Spring 2022/DTSC 870/Code/datasets\"\n",
        "\n",
        "os.chdir(ROOT_DIR)\n",
        "\n",
        "print(\"Current directory is: {}\".format(os.getcwd()))"
      ],
      "metadata": {
        "colab": {
          "base_uri": "https://localhost:8080/"
        },
        "id": "C-GRPQ-Ja00I",
        "outputId": "b613698f-073d-40b8-cae3-86dbd61e329e"
      },
      "execution_count": 41,
      "outputs": [
        {
          "output_type": "stream",
          "name": "stdout",
          "text": [
            "Current directory is: /content/drive/MyDrive/Spring 2022/DTSC 870/Code\n"
          ]
        }
      ]
    },
    {
      "cell_type": "markdown",
      "source": [
        "List of all files under current directory."
      ],
      "metadata": {
        "id": "YY76Q458fzMn"
      }
    },
    {
      "cell_type": "code",
      "source": [
        "!pip install directory_structure"
      ],
      "metadata": {
        "colab": {
          "base_uri": "https://localhost:8080/"
        },
        "id": "e0hj43KGgJWI",
        "outputId": "606a7602-6d64-4619-f720-f7e3c7e89534"
      },
      "execution_count": 20,
      "outputs": [
        {
          "output_type": "stream",
          "name": "stdout",
          "text": [
            "Requirement already satisfied: directory_structure in /usr/local/lib/python3.7/dist-packages (1.1.2)\n",
            "Requirement already satisfied: emoji in /usr/local/lib/python3.7/dist-packages (from directory_structure) (1.6.3)\n"
          ]
        }
      ]
    },
    {
      "cell_type": "code",
      "source": [
        "from directory_structure import Tree\n",
        "\n",
        "print(Tree(os.getcwd()))"
      ],
      "metadata": {
        "colab": {
          "base_uri": "https://localhost:8080/"
        },
        "id": "IiOBjT9RgXQH",
        "outputId": "a4bff56b-5b67-49f2-a134-e834672e1829"
      },
      "execution_count": 42,
      "outputs": [
        {
          "output_type": "stream",
          "name": "stdout",
          "text": [
            "📂 Code\n",
            "|_📁 datasets\n",
            "|_📁 keys\n",
            "|_📄 01__fetch_data.ipynb\n",
            "|_📄 02__dataset_visualizations.ipynb\n"
          ]
        }
      ]
    },
    {
      "cell_type": "markdown",
      "source": [
        "## Create dataset directories."
      ],
      "metadata": {
        "id": "gVM9cyD_tjPl"
      }
    },
    {
      "cell_type": "code",
      "source": [
        "os.mkdir(\"./datasets/01_MRI\")\n",
        "os.mkdir(\"./datasets/02_FER\")\n",
        "os.mkdir(\"./datasets/03_F_MINST\")\n",
        "\n",
        "DATASET_01 = ROOT_DIR + \"/datasets/01_MRI\"\n",
        "DATASET_02 = ROOT_DIR + \"/datasets/02_FER\"\n",
        "DATASET_03 = ROOT_DIR + \"/datasets/03_F_MINST\""
      ],
      "metadata": {
        "id": "LfFoexg3tHEa"
      },
      "execution_count": 43,
      "outputs": []
    },
    {
      "cell_type": "markdown",
      "source": [
        "# Download datasets"
      ],
      "metadata": {
        "id": "RES6Ya1MgcUY"
      }
    },
    {
      "cell_type": "markdown",
      "source": [
        "## Setup\n",
        "\n",
        "The easiest way to download the dataset from the Kaggle would be through the Kaggle API. Ref: https://www.kaggle.com/general/74235"
      ],
      "metadata": {
        "id": "hzzdTwLMt4pr"
      }
    },
    {
      "cell_type": "code",
      "source": [
        "!pip install -q kaggle"
      ],
      "metadata": {
        "id": "hoDYgNn1gpPQ"
      },
      "execution_count": 44,
      "outputs": []
    },
    {
      "cell_type": "code",
      "source": [
        "KAGGLE_KEY = ROOT_DIR + \"/keys/kaggle.json\"\n",
        "print(KAGGLE_KEY)"
      ],
      "metadata": {
        "colab": {
          "base_uri": "https://localhost:8080/"
        },
        "id": "kLPgNGWIiwo0",
        "outputId": "5d9b5d76-faf6-4c8d-c8c3-18028cdd1764"
      },
      "execution_count": 45,
      "outputs": [
        {
          "output_type": "stream",
          "name": "stdout",
          "text": [
            "/content/drive/MyDrive/Spring 2022/DTSC 870/Code/keys/kaggle.json\n"
          ]
        }
      ]
    },
    {
      "cell_type": "markdown",
      "source": [
        "Create a kaggle environment and then copy the kaggle key to that directory. Lastly, modify the key's permission."
      ],
      "metadata": {
        "id": "kC9GmDuLp8iO"
      }
    },
    {
      "cell_type": "code",
      "source": [
        "!mkdir ~/.kaggle\n",
        "\n",
        "!cp /content/drive/MyDrive/'Spring 2022'/'DTSC 870'/Code/keys/kaggle.json ~/.kaggle/\n",
        "\n",
        "!chmod 600  ~/.kaggle/kaggle.json"
      ],
      "metadata": {
        "colab": {
          "base_uri": "https://localhost:8080/"
        },
        "id": "SNrEiW6yiqxZ",
        "outputId": "9f5bec05-ffcb-4c80-c987-fd7394c2fb7f"
      },
      "execution_count": 31,
      "outputs": [
        {
          "output_type": "stream",
          "name": "stdout",
          "text": [
            "mkdir: cannot create directory ‘/root/.kaggle’: File exists\n"
          ]
        }
      ]
    },
    {
      "cell_type": "markdown",
      "source": [
        "Output a list of dataset to test if it's working."
      ],
      "metadata": {
        "id": "uFKLFVDaqPYe"
      }
    },
    {
      "cell_type": "code",
      "source": [
        "!kaggle datasets list"
      ],
      "metadata": {
        "colab": {
          "base_uri": "https://localhost:8080/"
        },
        "id": "R4yVEBNUmZCI",
        "outputId": "86eb861a-6664-46b1-fd39-1766e0f43caf"
      },
      "execution_count": 46,
      "outputs": [
        {
          "output_type": "stream",
          "name": "stdout",
          "text": [
            "Warning: Looks like you're using an outdated API Version, please consider updating (server 1.5.12 / client 1.5.4)\n",
            "ref                                                         title                                               size  lastUpdated          downloadCount  \n",
            "----------------------------------------------------------  -------------------------------------------------  -----  -------------------  -------------  \n",
            "yamqwe/omicron-covid19-variant-daily-cases                  Omicron daily cases by country (COVID-19 variant)  432KB  2022-01-24 07:15:53           9904  \n",
            "iamsouravbanerjee/analytics-industry-salaries-2022-india    Data Professionals Salary - 2022                    56KB  2022-01-28 08:47:00           1312  \n",
            "nkitgupta/jigsaw-regression-based-data                      Jigsaw Regression Based Data                         3GB  2022-01-10 06:29:59            553  \n",
            "prasertk/netflix-subscription-price-in-different-countries  Netflix subscription fee in different countries      3KB  2022-01-15 07:06:09           1177  \n",
            "yasserh/song-popularity-dataset                             Song Popularity Dataset                            805KB  2022-01-07 13:18:43           1266  \n",
            "vishalmane10/anime-dataset-2022                             Anime DataSet 2022                                   5MB  2022-01-16 13:56:16            637  \n",
            "yasserh/wine-quality-dataset                                Wine Quality Dataset                                21KB  2022-01-15 19:15:11           1065  \n",
            "carlmcbrideellis/gdp-20152019-finland-norway-and-sweden     GDP 2015-2019: Finland, Norway, and Sweden          365B  2022-01-05 07:48:49            470  \n",
            "yasserh/uber-fares-dataset                                  Uber Fares Dataset                                   7MB  2022-01-01 15:54:14           1045  \n",
            "dansbecker/melbourne-housing-snapshot                       Melbourne Housing Snapshot                         451KB  2018-06-05 12:52:24          79509  \n",
            "fedesoriano/stellar-classification-dataset-sdss17           Stellar Classification Dataset - SDSS17              7MB  2022-01-15 17:11:30            345  \n",
            "datasnaek/youtube-new                                       Trending YouTube Video Statistics                  201MB  2019-06-03 00:56:47         164391  \n",
            "zynicide/wine-reviews                                       Wine Reviews                                        51MB  2017-11-27 17:08:04         153287  \n",
            "residentmario/ramen-ratings                                 Ramen Ratings                                       40KB  2018-01-11 16:04:39          32199  \n",
            "datasnaek/chess                                             Chess Game Dataset (Lichess)                         3MB  2017-09-04 03:09:09          27274  \n",
            "jpmiller/publicassistance                                   US Public Food Assistance                          703KB  2020-08-21 16:51:18          15407  \n",
            "rtatman/188-million-us-wildfires                            1.88 Million US Wildfires                          168MB  2020-05-12 21:03:49          18694  \n",
            "nasa/kepler-exoplanet-search-results                        Kepler Exoplanet Search Results                      1MB  2017-10-10 18:26:59           9810  \n",
            "residentmario/things-on-reddit                              Things on Reddit                                    16MB  2017-10-26 14:10:15           8051  \n",
            "nolanbconaway/pitchfork-data                                18,393 Pitchfork Reviews                            33MB  2017-01-13 04:18:10           9934  \n"
          ]
        }
      ]
    },
    {
      "cell_type": "markdown",
      "source": [
        "## MRI Based Brain Tumor Images\n",
        "\n",
        "URL: https://www.kaggle.com/mhantor/mri-based-brain-tumor-images"
      ],
      "metadata": {
        "id": "PxAD7K22giW8"
      }
    },
    {
      "cell_type": "code",
      "source": [
        "os.chdir(DATASET_01)"
      ],
      "metadata": {
        "colab": {
          "base_uri": "https://localhost:8080/"
        },
        "id": "L3fLbd-IqYEN",
        "outputId": "4ace6f02-7be4-4a4d-99ad-942312eee08a"
      },
      "execution_count": 47,
      "outputs": [
        {
          "output_type": "stream",
          "name": "stdout",
          "text": [
            "/content/drive/MyDrive/Spring 2022/DTSC 870/Code\n"
          ]
        }
      ]
    },
    {
      "cell_type": "markdown",
      "source": [
        "In order to download and unzip the dataset from a competition, we need to provide the URL of the dataset along with the following command line:\n",
        "\n",
        "```\n",
        "!kaggle datasets download <URL suffix: everything afer \"kaggle.com/\"> -p <desired directory to save the dataset> --unzip\n",
        "```"
      ],
      "metadata": {
        "id": "YAV_29jaolHI"
      }
    },
    {
      "cell_type": "code",
      "source": [
        "print(DATASET_01)"
      ],
      "metadata": {
        "colab": {
          "base_uri": "https://localhost:8080/"
        },
        "id": "ny91S7WdsxLP",
        "outputId": "bfb04339-2970-4882-d1be-3dc59629ece9"
      },
      "execution_count": 50,
      "outputs": [
        {
          "output_type": "stream",
          "name": "stdout",
          "text": [
            "/content/drive/MyDrive/Spring 2022/DTSC 870/Code/datasets/01_MRI\n"
          ]
        }
      ]
    },
    {
      "cell_type": "code",
      "source": [
        "# !kaggle competitions download -c 'MRI-Based-Brain-Tumor-Images'\n",
        "\n",
        "!kaggle datasets download mhantor/mri-based-brain-tumor-images/download -p /content/drive/MyDrive/'Spring 2022'/'DTSC 870'/Code/datasets/01_MRI --unzip"
      ],
      "metadata": {
        "colab": {
          "base_uri": "https://localhost:8080/"
        },
        "id": "qAQ3tks_mc8P",
        "outputId": "a74c2b1c-cb35-46fb-d090-6ed3190f57ed"
      },
      "execution_count": 52,
      "outputs": [
        {
          "output_type": "stream",
          "name": "stdout",
          "text": [
            "Downloading mri-based-brain-tumor-images.zip to /content/drive/MyDrive/Spring 2022/DTSC 870/Code/datasets/01_MRI\n",
            "\r  0% 0.00/8.99M [00:00<?, ?B/s]\n",
            "\r100% 8.99M/8.99M [00:00<00:00, 81.7MB/s]\n"
          ]
        }
      ]
    },
    {
      "cell_type": "markdown",
      "source": [
        "Now let's see if we have downloaded all MRI dataset."
      ],
      "metadata": {
        "id": "wFaSRjGuue4V"
      }
    },
    {
      "cell_type": "code",
      "source": [
        "os.chdir(\"./Brain_tumor_images\")\n",
        "print(Tree(os.getcwd()))"
      ],
      "metadata": {
        "colab": {
          "base_uri": "https://localhost:8080/"
        },
        "id": "GtVrUjtMuks4",
        "outputId": "9e05fc61-3f31-439c-fa3d-82148683199c"
      },
      "execution_count": 54,
      "outputs": [
        {
          "output_type": "stream",
          "name": "stdout",
          "text": [
            "📂 Brain_tumor_images\n",
            "|_📁 Normal\n",
            "|_📁 Tumor\n"
          ]
        }
      ]
    },
    {
      "cell_type": "code",
      "source": [
        "os.chdir(\"./Normal\")\n",
        "print(Tree(os.getcwd()))"
      ],
      "metadata": {
        "id": "o7oBBvZTuo0l"
      },
      "execution_count": null,
      "outputs": []
    },
    {
      "cell_type": "code",
      "source": [
        "os.chdir(\"../Tumor\")\n",
        "print(Tree(os.getcwd()))"
      ],
      "metadata": {
        "id": "dS4megBWuz82"
      },
      "execution_count": null,
      "outputs": []
    },
    {
      "cell_type": "markdown",
      "source": [
        "## FER-2013\n",
        "\n",
        "URL: https://www.kaggle.com/msambare/fer2013"
      ],
      "metadata": {
        "id": "o_rRpBGnv-y7"
      }
    },
    {
      "cell_type": "code",
      "source": [
        "os.chdir(DATASET_02)"
      ],
      "metadata": {
        "id": "S1btVuM1vyQX"
      },
      "execution_count": 59,
      "outputs": []
    },
    {
      "cell_type": "markdown",
      "source": [
        "Downloading the dataset.\n",
        "\n",
        "**Note: this process will take long as there are many images to unzip from the dataset.**"
      ],
      "metadata": {
        "id": "wA4UqNB8wf8Z"
      }
    },
    {
      "cell_type": "code",
      "source": [
        "!kaggle datasets download msambare/fer2013/download -p /content/drive/MyDrive/'Spring 2022'/'DTSC 870'/Code/datasets/02_FER --unzip"
      ],
      "metadata": {
        "colab": {
          "base_uri": "https://localhost:8080/"
        },
        "id": "s1t6SpmMwWWr",
        "outputId": "0a744499-72ad-4afd-db9f-32b3161b84bc"
      },
      "execution_count": 58,
      "outputs": [
        {
          "output_type": "stream",
          "name": "stdout",
          "text": [
            "Downloading fer2013.zip to /content/drive/MyDrive/Spring 2022/DTSC 870/Code/datasets/02_FER\n",
            " 80% 48.0M/60.3M [00:00<00:00, 58.3MB/s]\n",
            "100% 60.3M/60.3M [00:00<00:00, 102MB/s] \n"
          ]
        }
      ]
    },
    {
      "cell_type": "code",
      "source": [
        "os.chdir(\"02_FER/train\")\n",
        "print(Tree(os.getcwd()))"
      ],
      "metadata": {
        "colab": {
          "base_uri": "https://localhost:8080/"
        },
        "id": "6Nc-CyiUwxYZ",
        "outputId": "0f054d26-27e9-42ca-e95d-e26b757c0e01"
      },
      "execution_count": 60,
      "outputs": [
        {
          "output_type": "stream",
          "name": "stdout",
          "text": [
            "📂 train\n",
            "|_📁 angry\n",
            "|_📁 disgust\n",
            "|_📁 fear\n",
            "|_📁 happy\n",
            "|_📁 neutral\n",
            "|_📁 sad\n",
            "|_📁 surprise\n"
          ]
        }
      ]
    },
    {
      "cell_type": "code",
      "source": [
        "os.chdir(\"./angry\")\n",
        "print(Tree(os.getcwd()))"
      ],
      "metadata": {
        "id": "P9eUycS9yJxp"
      },
      "execution_count": null,
      "outputs": []
    },
    {
      "cell_type": "markdown",
      "source": [
        "## Fashion-MNIST"
      ],
      "metadata": {
        "id": "tcPWMDX0ycZr"
      }
    },
    {
      "cell_type": "markdown",
      "source": [
        "For the Fashion-MNIST dataset, we can retrieve it through TensorFlow:\n",
        "\n",
        "```\n",
        "from tensorflow.keras.datasets.fashion_mnist import load_data\n",
        "(images, labels), (_,_) = load_data()\n",
        "```"
      ],
      "metadata": {
        "id": "i1XYCrN0zX-f"
      }
    },
    {
      "cell_type": "code",
      "source": [
        ""
      ],
      "metadata": {
        "id": "sOq6y9Z-zlhp"
      },
      "execution_count": null,
      "outputs": []
    }
  ]
}