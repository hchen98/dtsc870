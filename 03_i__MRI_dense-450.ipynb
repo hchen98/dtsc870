{
 "cells": [
  {
   "cell_type": "code",
   "execution_count": 1,
   "id": "dfc83fb6",
   "metadata": {
    "_cell_guid": "b1076dfc-b9ad-4769-8c92-a6c4dae69d19",
    "_uuid": "8f2839f25d086af736a60e9eeb907d3b93b6e0e5",
    "execution": {
     "iopub.execute_input": "2022-05-10T03:53:38.920699Z",
     "iopub.status.busy": "2022-05-10T03:53:38.919938Z",
     "iopub.status.idle": "2022-05-10T03:53:38.925297Z",
     "shell.execute_reply": "2022-05-10T03:53:38.924545Z"
    },
    "papermill": {
     "duration": 0.037982,
     "end_time": "2022-05-10T03:53:38.927494",
     "exception": false,
     "start_time": "2022-05-10T03:53:38.889512",
     "status": "completed"
    },
    "tags": []
   },
   "outputs": [],
   "source": [
    "# MRI STUFF\n",
    "# Test increase in layers \n",
    "# Increase in layer architectures\n",
    "# Increase in drop out \n",
    "# With class weights, without class weights "
   ]
  },
  {
   "cell_type": "code",
   "execution_count": 2,
   "id": "93e86a13",
   "metadata": {
    "execution": {
     "iopub.execute_input": "2022-05-10T03:53:38.985799Z",
     "iopub.status.busy": "2022-05-10T03:53:38.985478Z",
     "iopub.status.idle": "2022-05-10T03:53:44.364725Z",
     "shell.execute_reply": "2022-05-10T03:53:44.363983Z"
    },
    "papermill": {
     "duration": 5.410658,
     "end_time": "2022-05-10T03:53:44.366977",
     "exception": false,
     "start_time": "2022-05-10T03:53:38.956319",
     "status": "completed"
    },
    "tags": []
   },
   "outputs": [],
   "source": [
    "import pandas as pd\n",
    "import numpy as np\n",
    "import matplotlib.pyplot as plt\n",
    "import tensorflow as tf\n",
    "import tensorflow.keras.backend as K\n",
    "from tensorflow.keras.preprocessing.image import ImageDataGenerator\n",
    "from tensorflow.keras.models import Sequential\n",
    "from tensorflow.keras import datasets, layers, models\n",
    "from sklearn.metrics import (classification_report, confusion_matrix, balanced_accuracy_score, \n",
    "accuracy_score, roc_auc_score, auc)\n",
    "from sklearn.model_selection import KFold, StratifiedKFold\n",
    "import plotly.graph_objects as go\n",
    "import glob\n"
   ]
  },
  {
   "cell_type": "code",
   "execution_count": 3,
   "id": "6da19477",
   "metadata": {
    "execution": {
     "iopub.execute_input": "2022-05-10T03:53:44.420048Z",
     "iopub.status.busy": "2022-05-10T03:53:44.419413Z",
     "iopub.status.idle": "2022-05-10T03:53:44.423429Z",
     "shell.execute_reply": "2022-05-10T03:53:44.422792Z"
    },
    "papermill": {
     "duration": 0.031662,
     "end_time": "2022-05-10T03:53:44.425310",
     "exception": false,
     "start_time": "2022-05-10T03:53:44.393648",
     "status": "completed"
    },
    "tags": []
   },
   "outputs": [],
   "source": [
    "#drive.mount('/content/drive')\n",
    "\n",
    "#ROOT_DIR = \"/content/drive/MyDrive/Spring 2022/DTSC 870/Code\" # HC Directory\n",
    "#ROOT_DIR = \"/content/drive/MyDrive/DTSC 870/Code\" #MT Directory\n",
    "KAGGLE_START = \"/kaggle/input\"\n",
    "ROOT_DIR = KAGGLE_START\n",
    "DATASET_01_TEST = KAGGLE_START + \"/mri-test-set/test\"\n",
    "DATASET_01_TRAIN = KAGGLE_START + \"/mri-trainset/train\"\n",
    "KAGGLE_OUT = \"/kaggle/working\"\n",
    "\n"
   ]
  },
  {
   "cell_type": "code",
   "execution_count": 4,
   "id": "613cbe4a",
   "metadata": {
    "execution": {
     "iopub.execute_input": "2022-05-10T03:53:44.477018Z",
     "iopub.status.busy": "2022-05-10T03:53:44.476794Z",
     "iopub.status.idle": "2022-05-10T03:53:44.693740Z",
     "shell.execute_reply": "2022-05-10T03:53:44.693059Z"
    },
    "papermill": {
     "duration": 0.244975,
     "end_time": "2022-05-10T03:53:44.695876",
     "exception": false,
     "start_time": "2022-05-10T03:53:44.450901",
     "status": "completed"
    },
    "tags": []
   },
   "outputs": [
    {
     "name": "stdout",
     "output_type": "stream",
     "text": [
      "Found 121 images belonging to 2 classes.\n",
      "Found 279 images belonging to 2 classes.\n"
     ]
    }
   ],
   "source": [
    "datagen = ImageDataGenerator()\n",
    "image_size = (256, 256)\n",
    "test_set = datagen.flow_from_directory(DATASET_01_TEST, target_size=image_size, batch_size=32, class_mode='binary', shuffle=False)\n",
    "train_set = datagen.flow_from_directory(DATASET_01_TRAIN, target_size=image_size, batch_size=32, class_mode='binary')\n"
   ]
  },
  {
   "cell_type": "code",
   "execution_count": 5,
   "id": "9b581456",
   "metadata": {
    "execution": {
     "iopub.execute_input": "2022-05-10T03:53:44.750094Z",
     "iopub.status.busy": "2022-05-10T03:53:44.749780Z",
     "iopub.status.idle": "2022-05-10T03:53:44.756138Z",
     "shell.execute_reply": "2022-05-10T03:53:44.755490Z"
    },
    "papermill": {
     "duration": 0.036241,
     "end_time": "2022-05-10T03:53:44.757800",
     "exception": false,
     "start_time": "2022-05-10T03:53:44.721559",
     "status": "completed"
    },
    "tags": []
   },
   "outputs": [],
   "source": [
    "def create_model_V1():\n",
    "  model = models.Sequential()\n",
    "  model.add(layers.Conv2D(32, (3, 3), activation='relu', input_shape=(256, 256, 3)))\n",
    "  model.add(layers.MaxPooling2D((2, 2)))\n",
    "  #model.add(layers.Dropout(0.4))\n",
    "  model.add(layers.Conv2D(64, (3, 3), activation='relu'))\n",
    "  model.add(layers.MaxPooling2D((2, 2)))\n",
    "  #model.add(layers.Dropout(0.4))\n",
    "  model.add(layers.Conv2D(128, (3, 3), activation='relu'))\n",
    "  #model.add(layers.MaxPooling2D((2, 2)))\n",
    "  #model.add(layers.Conv2D(64, (3, 3), activation='relu'))\n",
    "  model.add(layers.Flatten())\n",
    "  model.add(layers.Dense(128, activation='relu'))\n",
    "  model.add(layers.Dense(1, activation='sigmoid'))\n",
    "  return model\n"
   ]
  },
  {
   "cell_type": "code",
   "execution_count": 6,
   "id": "72e966d8",
   "metadata": {
    "execution": {
     "iopub.execute_input": "2022-05-10T03:53:44.809562Z",
     "iopub.status.busy": "2022-05-10T03:53:44.809363Z",
     "iopub.status.idle": "2022-05-10T03:53:44.816126Z",
     "shell.execute_reply": "2022-05-10T03:53:44.815438Z"
    },
    "papermill": {
     "duration": 0.034236,
     "end_time": "2022-05-10T03:53:44.817703",
     "exception": false,
     "start_time": "2022-05-10T03:53:44.783467",
     "status": "completed"
    },
    "tags": []
   },
   "outputs": [],
   "source": [
    "def create_model_V1_02():\n",
    "  model = models.Sequential()\n",
    "  model.add(layers.Conv2D(32, (3, 3), activation='relu', input_shape=(256, 256, 3)))\n",
    "  model.add(layers.MaxPooling2D((2, 2)))\n",
    "  model.add(layers.Dropout(0.2))\n",
    "  model.add(layers.Conv2D(64, (3, 3), activation='relu'))\n",
    "  model.add(layers.MaxPooling2D((2, 2)))\n",
    "  model.add(layers.Dropout(0.2))\n",
    "  model.add(layers.Conv2D(128, (3, 3), activation='relu'))\n",
    "  #model.add(layers.MaxPooling2D((2, 2)))\n",
    "  #model.add(layers.Conv2D(64, (3, 3), activation='relu'))\n",
    "  model.add(layers.Flatten())\n",
    "  model.add(layers.Dense(128, activation='relu'))\n",
    "  model.add(layers.Dense(1, activation='sigmoid'))\n",
    "  return model"
   ]
  },
  {
   "cell_type": "code",
   "execution_count": 7,
   "id": "71d34ffd",
   "metadata": {
    "execution": {
     "iopub.execute_input": "2022-05-10T03:53:44.870247Z",
     "iopub.status.busy": "2022-05-10T03:53:44.869599Z",
     "iopub.status.idle": "2022-05-10T03:53:44.876675Z",
     "shell.execute_reply": "2022-05-10T03:53:44.876048Z"
    },
    "papermill": {
     "duration": 0.03453,
     "end_time": "2022-05-10T03:53:44.878215",
     "exception": false,
     "start_time": "2022-05-10T03:53:44.843685",
     "status": "completed"
    },
    "tags": []
   },
   "outputs": [],
   "source": [
    "def create_model_V1_04():\n",
    "  model = models.Sequential()\n",
    "  model.add(layers.Conv2D(32, (3, 3), activation='relu', input_shape=(256, 256, 3)))\n",
    "  model.add(layers.MaxPooling2D((2, 2)))\n",
    "  model.add(layers.Dropout(0.4))\n",
    "  model.add(layers.Conv2D(64, (3, 3), activation='relu'))\n",
    "  model.add(layers.MaxPooling2D((2, 2)))\n",
    "  model.add(layers.Dropout(0.4))\n",
    "  model.add(layers.Conv2D(128, (3, 3), activation='relu'))\n",
    "  #model.add(layers.MaxPooling2D((2, 2)))\n",
    "  #model.add(layers.Conv2D(64, (3, 3), activation='relu'))\n",
    "  model.add(layers.Flatten())\n",
    "  model.add(layers.Dense(128, activation='relu'))\n",
    "  model.add(layers.Dense(1, activation='sigmoid'))\n",
    "  return model"
   ]
  },
  {
   "cell_type": "code",
   "execution_count": 8,
   "id": "ada036ee",
   "metadata": {
    "execution": {
     "iopub.execute_input": "2022-05-10T03:53:44.931094Z",
     "iopub.status.busy": "2022-05-10T03:53:44.930472Z",
     "iopub.status.idle": "2022-05-10T03:53:44.936603Z",
     "shell.execute_reply": "2022-05-10T03:53:44.936013Z"
    },
    "papermill": {
     "duration": 0.033796,
     "end_time": "2022-05-10T03:53:44.938176",
     "exception": false,
     "start_time": "2022-05-10T03:53:44.904380",
     "status": "completed"
    },
    "tags": []
   },
   "outputs": [],
   "source": [
    "def create_model_V2():\n",
    "  model = models.Sequential()\n",
    "  model.add(layers.Conv2D(32, (3, 3), activation='relu', input_shape=(256, 256, 3)))\n",
    "  model.add(layers.MaxPooling2D((2, 2)))\n",
    "  #model.add(layers.Dropout(0.4))\n",
    "  model.add(layers.Conv2D(64, (3, 3), activation='relu'))\n",
    "  #model.add(layers.MaxPooling2D((2, 2)))\n",
    "  #model.add(layers.Dropout(0.4))\n",
    "  #model.add(layers.Conv2D(128, (3, 3), activation='relu'))\n",
    "  #model.add(layers.MaxPooling2D((2, 2)))\n",
    "  #model.add(layers.Conv2D(64, (3, 3), activation='relu'))\n",
    "  model.add(layers.Flatten())\n",
    "  model.add(layers.Dense(64, activation='relu'))\n",
    "  model.add(layers.Dense(1, activation='sigmoid'))\n",
    "  return model"
   ]
  },
  {
   "cell_type": "code",
   "execution_count": 9,
   "id": "82e9832d",
   "metadata": {
    "execution": {
     "iopub.execute_input": "2022-05-10T03:53:44.994405Z",
     "iopub.status.busy": "2022-05-10T03:53:44.994112Z",
     "iopub.status.idle": "2022-05-10T03:53:45.000328Z",
     "shell.execute_reply": "2022-05-10T03:53:44.999592Z"
    },
    "papermill": {
     "duration": 0.036959,
     "end_time": "2022-05-10T03:53:45.002113",
     "exception": false,
     "start_time": "2022-05-10T03:53:44.965154",
     "status": "completed"
    },
    "tags": []
   },
   "outputs": [],
   "source": [
    "def create_model_V2_02():\n",
    "  model = models.Sequential()\n",
    "  model.add(layers.Conv2D(32, (3, 3), activation='relu', input_shape=(256, 256, 3)))\n",
    "  model.add(layers.MaxPooling2D((2, 2)))\n",
    "  model.add(layers.Dropout(0.2))\n",
    "  model.add(layers.Conv2D(64, (3, 3), activation='relu'))\n",
    "  #model.add(layers.MaxPooling2D((2, 2)))\n",
    "  #model.add(layers.Dropout(0.4))\n",
    "  #model.add(layers.Conv2D(128, (3, 3), activation='relu'))\n",
    "  #model.add(layers.MaxPooling2D((2, 2)))\n",
    "  #model.add(layers.Conv2D(64, (3, 3), activation='relu'))\n",
    "  model.add(layers.Flatten())\n",
    "  model.add(layers.Dense(64, activation='relu'))\n",
    "  model.add(layers.Dense(1, activation='sigmoid'))\n",
    "  return model"
   ]
  },
  {
   "cell_type": "code",
   "execution_count": 10,
   "id": "21e1218b",
   "metadata": {
    "execution": {
     "iopub.execute_input": "2022-05-10T03:53:45.059780Z",
     "iopub.status.busy": "2022-05-10T03:53:45.059239Z",
     "iopub.status.idle": "2022-05-10T03:53:45.065313Z",
     "shell.execute_reply": "2022-05-10T03:53:45.064655Z"
    },
    "papermill": {
     "duration": 0.036704,
     "end_time": "2022-05-10T03:53:45.067063",
     "exception": false,
     "start_time": "2022-05-10T03:53:45.030359",
     "status": "completed"
    },
    "tags": []
   },
   "outputs": [],
   "source": [
    "def create_model_V2_04():\n",
    "  model = models.Sequential()\n",
    "  model.add(layers.Conv2D(32, (3, 3), activation='relu', input_shape=(256, 256, 3)))\n",
    "  model.add(layers.MaxPooling2D((2, 2)))\n",
    "  model.add(layers.Dropout(0.4))\n",
    "  model.add(layers.Conv2D(64, (3, 3), activation='relu'))\n",
    "  #model.add(layers.MaxPooling2D((2, 2)))\n",
    "  #model.add(layers.Dropout(0.4))\n",
    "  #model.add(layers.Conv2D(128, (3, 3), activation='relu'))\n",
    "  #model.add(layers.MaxPooling2D((2, 2)))\n",
    "  #model.add(layers.Conv2D(64, (3, 3), activation='relu'))\n",
    "  model.add(layers.Flatten())\n",
    "  model.add(layers.Dense(64, activation='relu'))\n",
    "  model.add(layers.Dense(1, activation='sigmoid'))\n",
    "  return model"
   ]
  },
  {
   "cell_type": "code",
   "execution_count": 11,
   "id": "d2b40ed3",
   "metadata": {
    "execution": {
     "iopub.execute_input": "2022-05-10T03:53:45.126068Z",
     "iopub.status.busy": "2022-05-10T03:53:45.125453Z",
     "iopub.status.idle": "2022-05-10T03:53:45.133021Z",
     "shell.execute_reply": "2022-05-10T03:53:45.132370Z"
    },
    "papermill": {
     "duration": 0.039414,
     "end_time": "2022-05-10T03:53:45.134923",
     "exception": false,
     "start_time": "2022-05-10T03:53:45.095509",
     "status": "completed"
    },
    "tags": []
   },
   "outputs": [],
   "source": [
    "def create_model_V3():\n",
    "  model = models.Sequential()\n",
    "  model.add(layers.Conv2D(32, (3, 3), activation='relu', input_shape=(256, 256, 3)))\n",
    "  model.add(layers.MaxPooling2D((2, 2)))\n",
    "  #model.add(layers.Dropout(0.4))\n",
    "  model.add(layers.Conv2D(64, (3, 3), activation='relu'))\n",
    "  model.add(layers.MaxPooling2D((2, 2)))\n",
    "  #model.add(layers.Dropout(0.4))\n",
    "  model.add(layers.Conv2D(128, (3, 3), activation='relu'))\n",
    "  model.add(layers.MaxPooling2D((2, 2)))\n",
    "  #model.add(layers.Conv2D(64, (3, 3), activation='relu'))\n",
    "  model.add(layers.Conv2D(256, (3, 3), activation='relu'))\n",
    "  model.add(layers.Flatten())\n",
    "  model.add(layers.Dense(256, activation='relu'))\n",
    "  model.add(layers.Dense(1, activation='sigmoid'))\n",
    "  return model"
   ]
  },
  {
   "cell_type": "code",
   "execution_count": 12,
   "id": "6acbd1b0",
   "metadata": {
    "execution": {
     "iopub.execute_input": "2022-05-10T03:53:45.195123Z",
     "iopub.status.busy": "2022-05-10T03:53:45.194463Z",
     "iopub.status.idle": "2022-05-10T03:53:45.203202Z",
     "shell.execute_reply": "2022-05-10T03:53:45.202476Z"
    },
    "papermill": {
     "duration": 0.040075,
     "end_time": "2022-05-10T03:53:45.204853",
     "exception": false,
     "start_time": "2022-05-10T03:53:45.164778",
     "status": "completed"
    },
    "tags": []
   },
   "outputs": [],
   "source": [
    "def create_model_V3_02():\n",
    "  model = models.Sequential()\n",
    "  model.add(layers.Conv2D(32, (3, 3), activation='relu', input_shape=(256, 256, 3)))\n",
    "  model.add(layers.MaxPooling2D((2, 2)))\n",
    "  model.add(layers.Dropout(0.2))\n",
    "  model.add(layers.Conv2D(64, (3, 3), activation='relu'))\n",
    "  model.add(layers.MaxPooling2D((2, 2)))\n",
    "  model.add(layers.Dropout(0.2))\n",
    "  model.add(layers.Conv2D(128, (3, 3), activation='relu'))\n",
    "  model.add(layers.MaxPooling2D((2, 2)))\n",
    "  model.add(layers.Dropout(0.2))\n",
    "  #model.add(layers.Conv2D(64, (3, 3), activation='relu'))\n",
    "  model.add(layers.Conv2D(256, (3, 3), activation='relu'))\n",
    "  model.add(layers.Flatten())\n",
    "  model.add(layers.Dense(256, activation='relu'))\n",
    "  model.add(layers.Dense(1, activation='sigmoid'))\n",
    "  return model"
   ]
  },
  {
   "cell_type": "code",
   "execution_count": 13,
   "id": "11fdb44d",
   "metadata": {
    "execution": {
     "iopub.execute_input": "2022-05-10T03:53:45.264966Z",
     "iopub.status.busy": "2022-05-10T03:53:45.264335Z",
     "iopub.status.idle": "2022-05-10T03:53:45.273654Z",
     "shell.execute_reply": "2022-05-10T03:53:45.273051Z"
    },
    "papermill": {
     "duration": 0.041843,
     "end_time": "2022-05-10T03:53:45.275301",
     "exception": false,
     "start_time": "2022-05-10T03:53:45.233458",
     "status": "completed"
    },
    "tags": []
   },
   "outputs": [],
   "source": [
    "def create_model_V3_04():\n",
    "  model = models.Sequential()\n",
    "  model.add(layers.Conv2D(32, (3, 3), activation='relu', input_shape=(256, 256, 3)))\n",
    "  model.add(layers.MaxPooling2D((2, 2)))\n",
    "  model.add(layers.Dropout(0.4))\n",
    "  model.add(layers.Conv2D(64, (3, 3), activation='relu'))\n",
    "  model.add(layers.MaxPooling2D((2, 2)))\n",
    "  model.add(layers.Dropout(0.4))\n",
    "  model.add(layers.Conv2D(128, (3, 3), activation='relu'))\n",
    "  model.add(layers.MaxPooling2D((2, 2)))\n",
    "  model.add(layers.Dropout(0.4))\n",
    "  #model.add(layers.Conv2D(64, (3, 3), activation='relu'))\n",
    "  model.add(layers.Conv2D(256, (3, 3), activation='relu'))\n",
    "  model.add(layers.Flatten())\n",
    "  model.add(layers.Dense(256, activation='relu'))\n",
    "  model.add(layers.Dense(1, activation='sigmoid'))\n",
    "  return model"
   ]
  },
  {
   "cell_type": "code",
   "execution_count": 14,
   "id": "c02de0f4",
   "metadata": {
    "execution": {
     "iopub.execute_input": "2022-05-10T03:53:45.333148Z",
     "iopub.status.busy": "2022-05-10T03:53:45.332875Z",
     "iopub.status.idle": "2022-05-10T03:53:45.341503Z",
     "shell.execute_reply": "2022-05-10T03:53:45.340814Z"
    },
    "papermill": {
     "duration": 0.039773,
     "end_time": "2022-05-10T03:53:45.343135",
     "exception": false,
     "start_time": "2022-05-10T03:53:45.303362",
     "status": "completed"
    },
    "tags": []
   },
   "outputs": [],
   "source": [
    "def create_model_V4():\n",
    "  model = models.Sequential()\n",
    "  model.add(layers.Conv2D(32, (3, 3), activation='relu', input_shape=(256, 256, 3)))\n",
    "  model.add(layers.MaxPooling2D((2, 2)))\n",
    "  #model.add(layers.Dropout(0.4))\n",
    "  model.add(layers.Conv2D(64, (3, 3), activation='relu'))\n",
    "  model.add(layers.MaxPooling2D((2, 2)))\n",
    "  #model.add(layers.Dropout(0.4))\n",
    "  model.add(layers.Conv2D(128, (3, 3), activation='relu'))\n",
    "  model.add(layers.MaxPooling2D((2, 2)))\n",
    "  model.add(layers.Conv2D(128, (3, 3), activation='relu'))\n",
    "  model.add(layers.MaxPooling2D((2, 2)))\n",
    "  #model.add(layers.Conv2D(64, (3, 3), activation='relu'))\n",
    "  model.add(layers.Conv2D(256, (3, 3), activation='relu'))\n",
    "  model.add(layers.Flatten())\n",
    "  model.add(layers.Dense(256, activation='relu'))\n",
    "  model.add(layers.Dense(1, activation='sigmoid'))\n",
    "  return model"
   ]
  },
  {
   "cell_type": "code",
   "execution_count": 15,
   "id": "54837669",
   "metadata": {
    "execution": {
     "iopub.execute_input": "2022-05-10T03:53:45.401564Z",
     "iopub.status.busy": "2022-05-10T03:53:45.401351Z",
     "iopub.status.idle": "2022-05-10T03:53:45.410386Z",
     "shell.execute_reply": "2022-05-10T03:53:45.409693Z"
    },
    "papermill": {
     "duration": 0.040376,
     "end_time": "2022-05-10T03:53:45.412088",
     "exception": false,
     "start_time": "2022-05-10T03:53:45.371712",
     "status": "completed"
    },
    "tags": []
   },
   "outputs": [],
   "source": [
    "def create_model_V4_02():\n",
    "  model = models.Sequential()\n",
    "  model.add(layers.Conv2D(32, (3, 3), activation='relu', input_shape=(256, 256, 3)))\n",
    "  model.add(layers.MaxPooling2D((2, 2)))\n",
    "  model.add(layers.Dropout(0.2))\n",
    "  model.add(layers.Conv2D(64, (3, 3), activation='relu'))\n",
    "  model.add(layers.MaxPooling2D((2, 2)))\n",
    "  model.add(layers.Dropout(0.2))\n",
    "  model.add(layers.Conv2D(128, (3, 3), activation='relu'))\n",
    "  model.add(layers.MaxPooling2D((2, 2)))\n",
    "  model.add(layers.Dropout(0.2))\n",
    "  model.add(layers.Conv2D(128, (3, 3), activation='relu'))\n",
    "  model.add(layers.MaxPooling2D((2, 2)))\n",
    "  #model.add(layers.Conv2D(64, (3, 3), activation='relu'))\n",
    "  model.add(layers.Conv2D(256, (3, 3), activation='relu'))\n",
    "  model.add(layers.Flatten())\n",
    "  model.add(layers.Dense(256, activation='relu'))\n",
    "  model.add(layers.Dense(1, activation='sigmoid'))\n",
    "  return model"
   ]
  },
  {
   "cell_type": "code",
   "execution_count": 16,
   "id": "f8db19e2",
   "metadata": {
    "execution": {
     "iopub.execute_input": "2022-05-10T03:53:45.470143Z",
     "iopub.status.busy": "2022-05-10T03:53:45.469928Z",
     "iopub.status.idle": "2022-05-10T03:53:45.478449Z",
     "shell.execute_reply": "2022-05-10T03:53:45.477822Z"
    },
    "papermill": {
     "duration": 0.038457,
     "end_time": "2022-05-10T03:53:45.480031",
     "exception": false,
     "start_time": "2022-05-10T03:53:45.441574",
     "status": "completed"
    },
    "tags": []
   },
   "outputs": [],
   "source": [
    "def create_model_V4_04():\n",
    "  model = models.Sequential()\n",
    "  model.add(layers.Conv2D(32, (3, 3), activation='relu', input_shape=(256, 256, 3)))\n",
    "  model.add(layers.MaxPooling2D((2, 2)))\n",
    "  model.add(layers.Dropout(0.4))\n",
    "  model.add(layers.Conv2D(64, (3, 3), activation='relu'))\n",
    "  model.add(layers.MaxPooling2D((2, 2)))\n",
    "  model.add(layers.Dropout(0.4))\n",
    "  model.add(layers.Conv2D(128, (3, 3), activation='relu'))\n",
    "  model.add(layers.MaxPooling2D((2, 2)))\n",
    "  model.add(layers.Dropout(0.4))\n",
    "  model.add(layers.Conv2D(128, (3, 3), activation='relu'))\n",
    "  model.add(layers.MaxPooling2D((2, 2)))\n",
    "  #model.add(layers.Conv2D(64, (3, 3), activation='relu'))\n",
    "  model.add(layers.Conv2D(256, (3, 3), activation='relu'))\n",
    "  model.add(layers.Flatten())\n",
    "  model.add(layers.Dense(256, activation='relu'))\n",
    "  model.add(layers.Dense(1, activation='sigmoid'))\n",
    "  return model"
   ]
  },
  {
   "cell_type": "code",
   "execution_count": 17,
   "id": "decf6fcd",
   "metadata": {
    "execution": {
     "iopub.execute_input": "2022-05-10T03:53:45.536046Z",
     "iopub.status.busy": "2022-05-10T03:53:45.535515Z",
     "iopub.status.idle": "2022-05-10T03:53:45.539275Z",
     "shell.execute_reply": "2022-05-10T03:53:45.538640Z"
    },
    "papermill": {
     "duration": 0.033459,
     "end_time": "2022-05-10T03:53:45.540910",
     "exception": false,
     "start_time": "2022-05-10T03:53:45.507451",
     "status": "completed"
    },
    "tags": []
   },
   "outputs": [],
   "source": [
    "#modify this \n",
    "norm_weight = 400/(2*(118+52))\n",
    "tumor_weight = 400/(2*(161+69))\n",
    "\n",
    "class_weights = {0:norm_weight, 1:tumor_weight}"
   ]
  },
  {
   "cell_type": "code",
   "execution_count": 18,
   "id": "cebe0aa5",
   "metadata": {
    "execution": {
     "iopub.execute_input": "2022-05-10T03:53:45.595318Z",
     "iopub.status.busy": "2022-05-10T03:53:45.594970Z",
     "iopub.status.idle": "2022-05-10T03:53:45.600345Z",
     "shell.execute_reply": "2022-05-10T03:53:45.599717Z"
    },
    "papermill": {
     "duration": 0.034463,
     "end_time": "2022-05-10T03:53:45.601958",
     "exception": false,
     "start_time": "2022-05-10T03:53:45.567495",
     "status": "completed"
    },
    "tags": []
   },
   "outputs": [],
   "source": [
    "import glob\n",
    "\n",
    "#borrowed from svm code\n",
    "def get_data_df(dir):\n",
    "  # modified code from: https://www.kaggle.com/namgalielei/simple-load-images-and-count-number-of-each-class\n",
    "\n",
    "  train_df = pd.DataFrame()\n",
    "\n",
    "  trainset = glob.glob(dir)\n",
    "  #print(trainset)\n",
    "  train_df['filename'] = [img.split(\"/\")[-4] + \"/\" + img.split(\"/\")[-3] + \"/\" + img.split(\"/\")[-2]+\"/\"+img.split(\"/\")[-1] for img in trainset]\n",
    "  train_df['label'] = [img.split(\"/\")[-2] for img in trainset]\n",
    "\n",
    "  return train_df"
   ]
  },
  {
   "cell_type": "code",
   "execution_count": 19,
   "id": "d14d789e",
   "metadata": {
    "execution": {
     "iopub.execute_input": "2022-05-10T03:53:45.656793Z",
     "iopub.status.busy": "2022-05-10T03:53:45.656176Z",
     "iopub.status.idle": "2022-05-10T03:53:45.681354Z",
     "shell.execute_reply": "2022-05-10T03:53:45.680702Z"
    },
    "papermill": {
     "duration": 0.054342,
     "end_time": "2022-05-10T03:53:45.683087",
     "exception": false,
     "start_time": "2022-05-10T03:53:45.628745",
     "status": "completed"
    },
    "tags": []
   },
   "outputs": [
    {
     "data": {
      "text/html": [
       "<div>\n",
       "<style scoped>\n",
       "    .dataframe tbody tr th:only-of-type {\n",
       "        vertical-align: middle;\n",
       "    }\n",
       "\n",
       "    .dataframe tbody tr th {\n",
       "        vertical-align: top;\n",
       "    }\n",
       "\n",
       "    .dataframe thead th {\n",
       "        text-align: right;\n",
       "    }\n",
       "</style>\n",
       "<table border=\"1\" class=\"dataframe\">\n",
       "  <thead>\n",
       "    <tr style=\"text-align: right;\">\n",
       "      <th></th>\n",
       "      <th>filename</th>\n",
       "      <th>label</th>\n",
       "    </tr>\n",
       "  </thead>\n",
       "  <tbody>\n",
       "    <tr>\n",
       "      <th>0</th>\n",
       "      <td>mri-trainset/train/Tumor/Tumor (77).jpg</td>\n",
       "      <td>Tumor</td>\n",
       "    </tr>\n",
       "    <tr>\n",
       "      <th>1</th>\n",
       "      <td>mri-trainset/train/Tumor/Tumor (116).jpg</td>\n",
       "      <td>Tumor</td>\n",
       "    </tr>\n",
       "    <tr>\n",
       "      <th>2</th>\n",
       "      <td>mri-trainset/train/Tumor/Tumor (86).jpg</td>\n",
       "      <td>Tumor</td>\n",
       "    </tr>\n",
       "    <tr>\n",
       "      <th>3</th>\n",
       "      <td>mri-trainset/train/Tumor/Tumor (49).jpg</td>\n",
       "      <td>Tumor</td>\n",
       "    </tr>\n",
       "    <tr>\n",
       "      <th>4</th>\n",
       "      <td>mri-trainset/train/Tumor/Tumor (40).jpg</td>\n",
       "      <td>Tumor</td>\n",
       "    </tr>\n",
       "  </tbody>\n",
       "</table>\n",
       "</div>"
      ],
      "text/plain": [
       "                                   filename  label\n",
       "0   mri-trainset/train/Tumor/Tumor (77).jpg  Tumor\n",
       "1  mri-trainset/train/Tumor/Tumor (116).jpg  Tumor\n",
       "2   mri-trainset/train/Tumor/Tumor (86).jpg  Tumor\n",
       "3   mri-trainset/train/Tumor/Tumor (49).jpg  Tumor\n",
       "4   mri-trainset/train/Tumor/Tumor (40).jpg  Tumor"
      ]
     },
     "execution_count": 19,
     "metadata": {},
     "output_type": "execute_result"
    }
   ],
   "source": [
    "test_train = get_data_df(DATASET_01_TRAIN+\"/*/*.jpg\")\n",
    "test_train.head()"
   ]
  },
  {
   "cell_type": "code",
   "execution_count": 20,
   "id": "eebfc2fc",
   "metadata": {
    "execution": {
     "iopub.execute_input": "2022-05-10T03:53:45.739390Z",
     "iopub.status.busy": "2022-05-10T03:53:45.739181Z",
     "iopub.status.idle": "2022-05-10T03:53:45.764712Z",
     "shell.execute_reply": "2022-05-10T03:53:45.764107Z"
    },
    "papermill": {
     "duration": 0.056234,
     "end_time": "2022-05-10T03:53:45.766482",
     "exception": false,
     "start_time": "2022-05-10T03:53:45.710248",
     "status": "completed"
    },
    "tags": []
   },
   "outputs": [],
   "source": [
    "from sklearn.model_selection import KFold, StratifiedKFold\n",
    "\n",
    "train_data = get_data_df(DATASET_01_TRAIN+\"/*/*.jpg\")\n",
    "Y = train_data[['label']]\n",
    "\n",
    "#Y = final_train[['label']]\n",
    "#n = len(final_train)   \n",
    "\n",
    "skf = StratifiedKFold(n_splits = 5, random_state = 7, shuffle = True) \n",
    "\n",
    "#Un needed preprocessing aside from rescale\n",
    "idg = ImageDataGenerator()\n",
    "\n",
    "#model name\n",
    "def get_model_name(k):\n",
    "    return 'model_'+str(k)+'.h5'\n",
    "def model_test(fold_count, epoch, model_method, image_size):\n",
    "  skf = StratifiedKFold(n_splits = fold_count, random_state = 7, shuffle = True)\n",
    "  train_data = get_data_df(DATASET_01_TRAIN+\"/*/*.jpg\")\n",
    "  Y = train_data[['label']]\n",
    "  n = len (train_data)\n",
    "  #Incorperate preprocessing in the method \n",
    "  #####################################################################\n",
    "  #aug_train = get_data_df(DATASET_01_ROOT+\"/Aug_train/*/*.jpg\")\n",
    "  #aug_train['filename'] = aug_train['filename'].str[7:]\n",
    "  #final_train = test_train.append(aug_train, sort=False, ignore_index=True)\n",
    "\n",
    "\n",
    "  #######################################################################\n",
    "  idg = ImageDataGenerator()\n",
    "  #idg = ImageDataGenerator()\n",
    "  #Y = final_train[['label']]\n",
    "  #n = len(final_train)    \n",
    "  VALIDATION_ACCURACY = []\n",
    "  VALIDATION_LOSS = []\n",
    "\n",
    "  #create a directory\n",
    "  save_dir = KAGGLE_OUT+'/datasets/01_MRI/Saved_CNN_Models/Testing/'+model_method.__name__+'/AugTest'+'/'+str(epoch)+'epochs/'\n",
    "  img_dir = ROOT_DIR\n",
    "\n",
    "  fold_var = 1\n",
    "\n",
    "  #n is number of samples, doesn't care about x values for split, just y\n",
    "  for train_index, val_index in skf.split(np.zeros(n),Y):\n",
    "\n",
    "    #Index value for fold\n",
    "    training_data = train_data.iloc[train_index]\n",
    "    validation_data = train_data.iloc[val_index]\n",
    "    #generator for train\n",
    "    #print(\"hi\")\n",
    "    #Modify the training size, have an input adjustability \n",
    "    train_data_generator = idg.flow_from_dataframe(training_data, directory = img_dir,\n",
    "                      target_size=image_size, batch_size=32,\n",
    "                    x_col = \"filename\", y_col = \"label\",\n",
    "                    class_mode = \"binary\", shuffle = True)\n",
    "    #print(\"hi\")\n",
    "    #generator for validation\n",
    "    valid_data_generator  = idg.flow_from_dataframe(validation_data, directory = img_dir,\n",
    "                target_size=image_size, batch_size=32,\n",
    "                x_col = \"filename\", y_col = \"label\",\n",
    "                class_mode = \"binary\", shuffle = True)\n",
    "    #print(\"hi\")\n",
    "    #create a method for this\n",
    "    # CREATE NEW MODEL\n",
    "    model = model_method()\n",
    "    # COMPILE NEW MODEL\n",
    "    #Binary cross entropy, opt will be adam, metric will be binary accuracy?\n",
    "    model.compile(loss=tf.keras.losses.BinaryCrossentropy(),\n",
    "            optimizer= tf.keras.optimizers.Adam(learning_rate = 0.0001),\n",
    "            metrics=['binary_accuracy'])\n",
    "    \n",
    "    # CREATE CALLBACKS\n",
    "    #Unsure about checpoint\n",
    "    checkpoint = tf.keras.callbacks.ModelCheckpoint(save_dir+model_method.__name__+\"_\"+get_model_name(fold_var), \n",
    "                monitor='val_binary_accuracy', verbose=1, \n",
    "                save_best_only=True, mode='max')\n",
    "  \n",
    "    callbacks_list = [checkpoint]\n",
    "    # There can be other callbacks, but just showing one because it involves the model name\n",
    "    # This saves the best model\n",
    "    # FIT THE MODEL\n",
    "    #Include the weights for classes\n",
    "    history = model.fit(train_data_generator,\n",
    "            epochs=epoch,\n",
    "            callbacks=callbacks_list,\n",
    "            validation_data=valid_data_generator,\n",
    "                       class_weight = class_weights)\n",
    "  \n",
    "    #PLOT HISTORY\n",
    "    #Plots for whichever\n",
    "    #\t\t:\n",
    "    #plt.plot(history.history['binary_accuracy'], label='accuracy')\n",
    "    #plt.plot(history.history['val_binary_accuracy'], label = 'val_accuracy')\n",
    "    #plt.xlabel('Epoch')\n",
    "    #plt.ylabel('Accuracy')\n",
    "    #plt.ylim([0.3, 1])\n",
    "    #plt.legend(loc='lower right')\n",
    "    #plt.show()\n",
    "    #frame = {'Accuracy': history.history['binary_accuracy'], 'Val_Accuracy': history.history['val_binary_accuracy']}\n",
    "    #fig = px.line(frame)\n",
    "    #fig.show()\n",
    "    fig = go.Figure()\n",
    "    fig.add_trace(go.Scatter(y= history.history['binary_accuracy'],\n",
    "                      mode='lines+markers',\n",
    "                      name='Training Accuracy'))\n",
    "    fig.add_trace(go.Scatter(y= history.history['val_binary_accuracy'],\n",
    "                      mode='lines+markers',\n",
    "                      name='Validation Accuracy'))\n",
    "    fig.update_yaxes(range=[0.40, 1])\n",
    "    fig.update_layout(\n",
    "      title=\"Fold \"+ str(fold_var)+ \"'s performance\",\n",
    "      title_x=0.5,\n",
    "      xaxis_title=\"Epochs\",\n",
    "      yaxis_title=\"Accuracy\",\n",
    "      autosize=False,\n",
    "      width=800,\n",
    "      height=400,\n",
    "      margin=dict(l=20, r=20, t=40, b=20),)\n",
    "    fig.show()\n",
    "    #\t\t:\n",
    "    # LOAD BEST MODEL to evaluate the performance of the model\n",
    "    model.load_weights(save_dir+model_method.__name__+\"_\" + \"model_\"+str(fold_var)+\".h5\")\n",
    "    \n",
    "    results = model.evaluate(test_set)\n",
    "    \n",
    "    results = dict(zip(model.metrics_names,results))\n",
    "    \n",
    "    VALIDATION_ACCURACY.append(results['binary_accuracy'])\n",
    "    VALIDATION_LOSS.append(results['loss'])\n",
    "    \n",
    "    tf.keras.backend.clear_session()\n",
    "    \n",
    "    fold_var += 1"
   ]
  },
  {
   "cell_type": "code",
   "execution_count": 21,
   "id": "5faf1f8b",
   "metadata": {
    "execution": {
     "iopub.execute_input": "2022-05-10T03:53:45.823057Z",
     "iopub.status.busy": "2022-05-10T03:53:45.822385Z",
     "iopub.status.idle": "2022-05-10T03:53:45.825901Z",
     "shell.execute_reply": "2022-05-10T03:53:45.825247Z"
    },
    "papermill": {
     "duration": 0.033434,
     "end_time": "2022-05-10T03:53:45.827554",
     "exception": false,
     "start_time": "2022-05-10T03:53:45.794120",
     "status": "completed"
    },
    "tags": []
   },
   "outputs": [],
   "source": [
    "#model_test(5, 30, create_model_V1, (256,256))"
   ]
  },
  {
   "cell_type": "code",
   "execution_count": 22,
   "id": "b2526733",
   "metadata": {
    "execution": {
     "iopub.execute_input": "2022-05-10T03:53:45.883040Z",
     "iopub.status.busy": "2022-05-10T03:53:45.882487Z",
     "iopub.status.idle": "2022-05-10T03:53:45.885474Z",
     "shell.execute_reply": "2022-05-10T03:53:45.884860Z"
    },
    "papermill": {
     "duration": 0.03223,
     "end_time": "2022-05-10T03:53:45.887081",
     "exception": false,
     "start_time": "2022-05-10T03:53:45.854851",
     "status": "completed"
    },
    "tags": []
   },
   "outputs": [],
   "source": [
    "#model_test(5, 30, create_model_V1_02, (256,256))"
   ]
  },
  {
   "cell_type": "code",
   "execution_count": 23,
   "id": "a23e7b02",
   "metadata": {
    "execution": {
     "iopub.execute_input": "2022-05-10T03:53:45.942502Z",
     "iopub.status.busy": "2022-05-10T03:53:45.941946Z",
     "iopub.status.idle": "2022-05-10T03:53:45.944941Z",
     "shell.execute_reply": "2022-05-10T03:53:45.944338Z"
    },
    "papermill": {
     "duration": 0.032572,
     "end_time": "2022-05-10T03:53:45.946637",
     "exception": false,
     "start_time": "2022-05-10T03:53:45.914065",
     "status": "completed"
    },
    "tags": []
   },
   "outputs": [],
   "source": [
    "#model_test(5, 30, create_model_V1_04, (256,256))"
   ]
  },
  {
   "cell_type": "code",
   "execution_count": 24,
   "id": "909983b9",
   "metadata": {
    "execution": {
     "iopub.execute_input": "2022-05-10T03:53:46.007428Z",
     "iopub.status.busy": "2022-05-10T03:53:46.006882Z",
     "iopub.status.idle": "2022-05-10T03:53:46.010127Z",
     "shell.execute_reply": "2022-05-10T03:53:46.009442Z"
    },
    "papermill": {
     "duration": 0.036069,
     "end_time": "2022-05-10T03:53:46.011821",
     "exception": false,
     "start_time": "2022-05-10T03:53:45.975752",
     "status": "completed"
    },
    "tags": []
   },
   "outputs": [],
   "source": [
    "#model_test(5, 30, create_model_V2, (256,256))"
   ]
  },
  {
   "cell_type": "code",
   "execution_count": 25,
   "id": "26c74222",
   "metadata": {
    "execution": {
     "iopub.execute_input": "2022-05-10T03:53:46.073611Z",
     "iopub.status.busy": "2022-05-10T03:53:46.072927Z",
     "iopub.status.idle": "2022-05-10T03:53:46.076580Z",
     "shell.execute_reply": "2022-05-10T03:53:46.075913Z"
    },
    "papermill": {
     "duration": 0.035819,
     "end_time": "2022-05-10T03:53:46.078292",
     "exception": false,
     "start_time": "2022-05-10T03:53:46.042473",
     "status": "completed"
    },
    "tags": []
   },
   "outputs": [],
   "source": [
    "#model_test(5, 30, create_model_V2_02, (256,256))"
   ]
  },
  {
   "cell_type": "code",
   "execution_count": 26,
   "id": "3ff1af25",
   "metadata": {
    "execution": {
     "iopub.execute_input": "2022-05-10T03:53:46.140874Z",
     "iopub.status.busy": "2022-05-10T03:53:46.140243Z",
     "iopub.status.idle": "2022-05-10T03:53:46.143686Z",
     "shell.execute_reply": "2022-05-10T03:53:46.142966Z"
    },
    "papermill": {
     "duration": 0.036622,
     "end_time": "2022-05-10T03:53:46.145449",
     "exception": false,
     "start_time": "2022-05-10T03:53:46.108827",
     "status": "completed"
    },
    "tags": []
   },
   "outputs": [],
   "source": [
    "#model_test(5, 30, create_model_V2_04, (256,256))"
   ]
  },
  {
   "cell_type": "code",
   "execution_count": 27,
   "id": "6ffe6225",
   "metadata": {
    "execution": {
     "iopub.execute_input": "2022-05-10T03:53:46.206696Z",
     "iopub.status.busy": "2022-05-10T03:53:46.206158Z",
     "iopub.status.idle": "2022-05-10T03:53:46.209315Z",
     "shell.execute_reply": "2022-05-10T03:53:46.208587Z"
    },
    "papermill": {
     "duration": 0.035457,
     "end_time": "2022-05-10T03:53:46.211005",
     "exception": false,
     "start_time": "2022-05-10T03:53:46.175548",
     "status": "completed"
    },
    "tags": []
   },
   "outputs": [],
   "source": [
    "#model_test(5, 30, create_model_V3, (256,256))"
   ]
  },
  {
   "cell_type": "code",
   "execution_count": 28,
   "id": "dc270464",
   "metadata": {
    "execution": {
     "iopub.execute_input": "2022-05-10T03:53:46.273160Z",
     "iopub.status.busy": "2022-05-10T03:53:46.272612Z",
     "iopub.status.idle": "2022-05-10T03:53:46.275702Z",
     "shell.execute_reply": "2022-05-10T03:53:46.275013Z"
    },
    "papermill": {
     "duration": 0.036313,
     "end_time": "2022-05-10T03:53:46.277442",
     "exception": false,
     "start_time": "2022-05-10T03:53:46.241129",
     "status": "completed"
    },
    "tags": []
   },
   "outputs": [],
   "source": [
    "#model_test(5, 30, create_model_V3_02, (256,256))"
   ]
  },
  {
   "cell_type": "code",
   "execution_count": 29,
   "id": "2d6aa6aa",
   "metadata": {
    "execution": {
     "iopub.execute_input": "2022-05-10T03:53:46.336125Z",
     "iopub.status.busy": "2022-05-10T03:53:46.335605Z",
     "iopub.status.idle": "2022-05-10T03:53:46.338541Z",
     "shell.execute_reply": "2022-05-10T03:53:46.337883Z"
    },
    "papermill": {
     "duration": 0.034129,
     "end_time": "2022-05-10T03:53:46.340138",
     "exception": false,
     "start_time": "2022-05-10T03:53:46.306009",
     "status": "completed"
    },
    "tags": []
   },
   "outputs": [],
   "source": [
    "#model_test(5, 30, create_model_V3_04, (256,256))"
   ]
  },
  {
   "cell_type": "code",
   "execution_count": 30,
   "id": "be90baf6",
   "metadata": {
    "execution": {
     "iopub.execute_input": "2022-05-10T03:53:46.399178Z",
     "iopub.status.busy": "2022-05-10T03:53:46.398652Z",
     "iopub.status.idle": "2022-05-10T03:53:46.401826Z",
     "shell.execute_reply": "2022-05-10T03:53:46.401031Z"
    },
    "papermill": {
     "duration": 0.033931,
     "end_time": "2022-05-10T03:53:46.403389",
     "exception": false,
     "start_time": "2022-05-10T03:53:46.369458",
     "status": "completed"
    },
    "tags": []
   },
   "outputs": [],
   "source": [
    "#model_test(5, 30, create_model_V4, (256,256))"
   ]
  },
  {
   "cell_type": "code",
   "execution_count": 31,
   "id": "96d72cdb",
   "metadata": {
    "execution": {
     "iopub.execute_input": "2022-05-10T03:53:46.460582Z",
     "iopub.status.busy": "2022-05-10T03:53:46.460136Z",
     "iopub.status.idle": "2022-05-10T03:53:46.463223Z",
     "shell.execute_reply": "2022-05-10T03:53:46.462598Z"
    },
    "papermill": {
     "duration": 0.033176,
     "end_time": "2022-05-10T03:53:46.464807",
     "exception": false,
     "start_time": "2022-05-10T03:53:46.431631",
     "status": "completed"
    },
    "tags": []
   },
   "outputs": [],
   "source": [
    "#model_test(5, 30, create_model_V4_02, (256,256))"
   ]
  },
  {
   "cell_type": "code",
   "execution_count": 32,
   "id": "fada7ccb",
   "metadata": {
    "execution": {
     "iopub.execute_input": "2022-05-10T03:53:46.522522Z",
     "iopub.status.busy": "2022-05-10T03:53:46.522050Z",
     "iopub.status.idle": "2022-05-10T03:53:46.525015Z",
     "shell.execute_reply": "2022-05-10T03:53:46.524385Z"
    },
    "papermill": {
     "duration": 0.033647,
     "end_time": "2022-05-10T03:53:46.526656",
     "exception": false,
     "start_time": "2022-05-10T03:53:46.493009",
     "status": "completed"
    },
    "tags": []
   },
   "outputs": [],
   "source": [
    "#model_test(5, 30, create_model_V4_04, (256,256))"
   ]
  },
  {
   "cell_type": "code",
   "execution_count": 33,
   "id": "b4ae173f",
   "metadata": {
    "execution": {
     "iopub.execute_input": "2022-05-10T03:53:46.584597Z",
     "iopub.status.busy": "2022-05-10T03:53:46.584058Z",
     "iopub.status.idle": "2022-05-10T03:53:46.590682Z",
     "shell.execute_reply": "2022-05-10T03:53:46.590058Z"
    },
    "papermill": {
     "duration": 0.037499,
     "end_time": "2022-05-10T03:53:46.592269",
     "exception": false,
     "start_time": "2022-05-10T03:53:46.554770",
     "status": "completed"
    },
    "tags": []
   },
   "outputs": [],
   "source": [
    "def transfer_learning_model_dense169_2():\n",
    "\n",
    "  IMG_SHAPE = (256,256,3,)\n",
    " \n",
    "  inputs = tf.keras.Input(shape=IMG_SHAPE)\n",
    "  x = tf.keras.applications.densenet.preprocess_input(inputs)\n",
    "  base_model = tf.keras.applications.densenet.DenseNet169(input_shape=IMG_SHAPE,\n",
    "                                               include_top=False,\n",
    "                                               weights='imagenet')\n",
    "  #print(len(base_model.layers))\n",
    "  base_model.trainable = True\n",
    "\n",
    "  fine_tune_at = 450\n",
    "  for layer in base_model.layers[:fine_tune_at]:\n",
    "    layer.trainable = False\n",
    "\n",
    "  x = base_model(x)\n",
    "  global_average_layer = tf.keras.layers.GlobalAveragePooling2D()\n",
    "  x = global_average_layer(x)\n",
    "  x = tf.keras.layers.Dropout(0.2)(x)\n",
    "  prediction_layer = tf.keras.layers.Dense(1)\n",
    "  outputs = prediction_layer(x)\n",
    "  model = tf.keras.Model(inputs, outputs)\n",
    "  #print(len(model.trainable_variables))\n",
    "  return model"
   ]
  },
  {
   "cell_type": "code",
   "execution_count": 34,
   "id": "509040e6",
   "metadata": {
    "execution": {
     "iopub.execute_input": "2022-05-10T03:53:46.663311Z",
     "iopub.status.busy": "2022-05-10T03:53:46.663118Z",
     "iopub.status.idle": "2022-05-10T03:59:45.396591Z",
     "shell.execute_reply": "2022-05-10T03:59:45.395735Z"
    },
    "papermill": {
     "duration": 358.778587,
     "end_time": "2022-05-10T03:59:45.399153",
     "exception": false,
     "start_time": "2022-05-10T03:53:46.620566",
     "status": "completed"
    },
    "tags": []
   },
   "outputs": [
    {
     "name": "stdout",
     "output_type": "stream",
     "text": [
      "Found 223 validated image filenames belonging to 2 classes.\n",
      "Found 56 validated image filenames belonging to 2 classes.\n"
     ]
    },
    {
     "name": "stderr",
     "output_type": "stream",
     "text": [
      "2022-05-10 03:53:46.760068: I tensorflow/stream_executor/cuda/cuda_gpu_executor.cc:937] successful NUMA node read from SysFS had negative value (-1), but there must be at least one NUMA node, so returning NUMA node zero\n",
      "2022-05-10 03:53:46.852514: I tensorflow/stream_executor/cuda/cuda_gpu_executor.cc:937] successful NUMA node read from SysFS had negative value (-1), but there must be at least one NUMA node, so returning NUMA node zero\n",
      "2022-05-10 03:53:46.853327: I tensorflow/stream_executor/cuda/cuda_gpu_executor.cc:937] successful NUMA node read from SysFS had negative value (-1), but there must be at least one NUMA node, so returning NUMA node zero\n",
      "2022-05-10 03:53:46.854487: I tensorflow/core/platform/cpu_feature_guard.cc:142] This TensorFlow binary is optimized with oneAPI Deep Neural Network Library (oneDNN) to use the following CPU instructions in performance-critical operations:  AVX2 AVX512F FMA\n",
      "To enable them in other operations, rebuild TensorFlow with the appropriate compiler flags.\n",
      "2022-05-10 03:53:46.854751: I tensorflow/stream_executor/cuda/cuda_gpu_executor.cc:937] successful NUMA node read from SysFS had negative value (-1), but there must be at least one NUMA node, so returning NUMA node zero\n",
      "2022-05-10 03:53:46.855455: I tensorflow/stream_executor/cuda/cuda_gpu_executor.cc:937] successful NUMA node read from SysFS had negative value (-1), but there must be at least one NUMA node, so returning NUMA node zero\n",
      "2022-05-10 03:53:46.856103: I tensorflow/stream_executor/cuda/cuda_gpu_executor.cc:937] successful NUMA node read from SysFS had negative value (-1), but there must be at least one NUMA node, so returning NUMA node zero\n",
      "2022-05-10 03:53:48.519266: I tensorflow/stream_executor/cuda/cuda_gpu_executor.cc:937] successful NUMA node read from SysFS had negative value (-1), but there must be at least one NUMA node, so returning NUMA node zero\n",
      "2022-05-10 03:53:48.520141: I tensorflow/stream_executor/cuda/cuda_gpu_executor.cc:937] successful NUMA node read from SysFS had negative value (-1), but there must be at least one NUMA node, so returning NUMA node zero\n",
      "2022-05-10 03:53:48.520802: I tensorflow/stream_executor/cuda/cuda_gpu_executor.cc:937] successful NUMA node read from SysFS had negative value (-1), but there must be at least one NUMA node, so returning NUMA node zero\n",
      "2022-05-10 03:53:48.522079: I tensorflow/core/common_runtime/gpu/gpu_device.cc:1510] Created device /job:localhost/replica:0/task:0/device:GPU:0 with 15403 MB memory:  -> device: 0, name: Tesla P100-PCIE-16GB, pci bus id: 0000:00:04.0, compute capability: 6.0\n"
     ]
    },
    {
     "name": "stdout",
     "output_type": "stream",
     "text": [
      "Downloading data from https://storage.googleapis.com/tensorflow/keras-applications/densenet/densenet169_weights_tf_dim_ordering_tf_kernels_notop.h5\n",
      "51879936/51877672 [==============================] - 0s 0us/step\n",
      "51888128/51877672 [==============================] - 0s 0us/step\n"
     ]
    },
    {
     "name": "stderr",
     "output_type": "stream",
     "text": [
      "2022-05-10 03:53:54.368384: I tensorflow/compiler/mlir/mlir_graph_optimization_pass.cc:185] None of the MLIR Optimization Passes are enabled (registered 2)\n"
     ]
    },
    {
     "name": "stdout",
     "output_type": "stream",
     "text": [
      "Epoch 1/30\n"
     ]
    },
    {
     "name": "stderr",
     "output_type": "stream",
     "text": [
      "2022-05-10 03:54:04.066921: I tensorflow/stream_executor/cuda/cuda_dnn.cc:369] Loaded cuDNN version 8005\n"
     ]
    },
    {
     "name": "stdout",
     "output_type": "stream",
     "text": [
      "7/7 [==============================] - 21s 868ms/step - loss: 2.2011 - binary_accuracy: 0.7265 - val_loss: 0.9267 - val_binary_accuracy: 0.7500\n",
      "\n",
      "Epoch 00001: val_binary_accuracy improved from -inf to 0.75000, saving model to /kaggle/working/datasets/01_MRI/Saved_CNN_Models/Testing/transfer_learning_model_dense169_2/AugTest/30epochs/transfer_learning_model_dense169_2_model_1.h5\n",
      "Epoch 2/30\n",
      "7/7 [==============================] - 1s 176ms/step - loss: 1.2921 - binary_accuracy: 0.8655 - val_loss: 0.4224 - val_binary_accuracy: 0.9286\n",
      "\n",
      "Epoch 00002: val_binary_accuracy improved from 0.75000 to 0.92857, saving model to /kaggle/working/datasets/01_MRI/Saved_CNN_Models/Testing/transfer_learning_model_dense169_2/AugTest/30epochs/transfer_learning_model_dense169_2_model_1.h5\n",
      "Epoch 3/30\n",
      "7/7 [==============================] - 1s 158ms/step - loss: 0.7357 - binary_accuracy: 0.9058 - val_loss: 0.5765 - val_binary_accuracy: 0.9643\n",
      "\n",
      "Epoch 00003: val_binary_accuracy improved from 0.92857 to 0.96429, saving model to /kaggle/working/datasets/01_MRI/Saved_CNN_Models/Testing/transfer_learning_model_dense169_2/AugTest/30epochs/transfer_learning_model_dense169_2_model_1.h5\n",
      "Epoch 4/30\n",
      "7/7 [==============================] - 1s 159ms/step - loss: 0.6259 - binary_accuracy: 0.9372 - val_loss: 0.3694 - val_binary_accuracy: 0.9107\n",
      "\n",
      "Epoch 00004: val_binary_accuracy did not improve from 0.96429\n",
      "Epoch 5/30\n",
      "7/7 [==============================] - 1s 154ms/step - loss: 0.2447 - binary_accuracy: 0.9641 - val_loss: 0.3886 - val_binary_accuracy: 0.8929\n",
      "\n",
      "Epoch 00005: val_binary_accuracy did not improve from 0.96429\n",
      "Epoch 6/30\n",
      "7/7 [==============================] - 1s 159ms/step - loss: 0.2836 - binary_accuracy: 0.9776 - val_loss: 0.3737 - val_binary_accuracy: 0.9286\n",
      "\n",
      "Epoch 00006: val_binary_accuracy did not improve from 0.96429\n",
      "Epoch 7/30\n",
      "7/7 [==============================] - 1s 195ms/step - loss: 0.1718 - binary_accuracy: 0.9731 - val_loss: 0.3485 - val_binary_accuracy: 0.9464\n",
      "\n",
      "Epoch 00007: val_binary_accuracy did not improve from 0.96429\n",
      "Epoch 8/30\n",
      "7/7 [==============================] - 1s 163ms/step - loss: 0.0925 - binary_accuracy: 0.9865 - val_loss: 0.3376 - val_binary_accuracy: 0.9464\n",
      "\n",
      "Epoch 00008: val_binary_accuracy did not improve from 0.96429\n",
      "Epoch 9/30\n",
      "7/7 [==============================] - 1s 162ms/step - loss: 0.1607 - binary_accuracy: 0.9731 - val_loss: 0.3330 - val_binary_accuracy: 0.9643\n",
      "\n",
      "Epoch 00009: val_binary_accuracy did not improve from 0.96429\n",
      "Epoch 10/30\n",
      "7/7 [==============================] - 1s 172ms/step - loss: 0.1503 - binary_accuracy: 0.9865 - val_loss: 0.3215 - val_binary_accuracy: 0.9643\n",
      "\n",
      "Epoch 00010: val_binary_accuracy did not improve from 0.96429\n",
      "Epoch 11/30\n",
      "7/7 [==============================] - 1s 159ms/step - loss: 0.0956 - binary_accuracy: 0.9865 - val_loss: 0.3089 - val_binary_accuracy: 0.9643\n",
      "\n",
      "Epoch 00011: val_binary_accuracy did not improve from 0.96429\n",
      "Epoch 12/30\n",
      "7/7 [==============================] - 1s 162ms/step - loss: 0.0873 - binary_accuracy: 0.9910 - val_loss: 0.2984 - val_binary_accuracy: 0.9643\n",
      "\n",
      "Epoch 00012: val_binary_accuracy did not improve from 0.96429\n",
      "Epoch 13/30\n",
      "7/7 [==============================] - 1s 154ms/step - loss: 0.0871 - binary_accuracy: 0.9910 - val_loss: 0.2955 - val_binary_accuracy: 0.9821\n",
      "\n",
      "Epoch 00013: val_binary_accuracy improved from 0.96429 to 0.98214, saving model to /kaggle/working/datasets/01_MRI/Saved_CNN_Models/Testing/transfer_learning_model_dense169_2/AugTest/30epochs/transfer_learning_model_dense169_2_model_1.h5\n",
      "Epoch 14/30\n",
      "7/7 [==============================] - 1s 163ms/step - loss: 0.0857 - binary_accuracy: 0.9910 - val_loss: 0.0575 - val_binary_accuracy: 0.9821\n",
      "\n",
      "Epoch 00014: val_binary_accuracy did not improve from 0.98214\n",
      "Epoch 15/30\n",
      "7/7 [==============================] - 1s 160ms/step - loss: 0.0804 - binary_accuracy: 0.9955 - val_loss: 0.0374 - val_binary_accuracy: 0.9821\n",
      "\n",
      "Epoch 00015: val_binary_accuracy did not improve from 0.98214\n",
      "Epoch 16/30\n",
      "7/7 [==============================] - 1s 165ms/step - loss: 0.0825 - binary_accuracy: 0.9955 - val_loss: 0.0315 - val_binary_accuracy: 1.0000\n",
      "\n",
      "Epoch 00016: val_binary_accuracy improved from 0.98214 to 1.00000, saving model to /kaggle/working/datasets/01_MRI/Saved_CNN_Models/Testing/transfer_learning_model_dense169_2/AugTest/30epochs/transfer_learning_model_dense169_2_model_1.h5\n",
      "Epoch 17/30\n",
      "7/7 [==============================] - 1s 196ms/step - loss: 0.0804 - binary_accuracy: 0.9955 - val_loss: 0.0288 - val_binary_accuracy: 1.0000\n",
      "\n",
      "Epoch 00017: val_binary_accuracy did not improve from 1.00000\n",
      "Epoch 18/30\n",
      "7/7 [==============================] - 1s 170ms/step - loss: 0.0955 - binary_accuracy: 0.9865 - val_loss: 0.0227 - val_binary_accuracy: 1.0000\n",
      "\n",
      "Epoch 00018: val_binary_accuracy did not improve from 1.00000\n",
      "Epoch 19/30\n",
      "7/7 [==============================] - 1s 160ms/step - loss: 0.0813 - binary_accuracy: 0.9955 - val_loss: 0.0186 - val_binary_accuracy: 1.0000\n",
      "\n",
      "Epoch 00019: val_binary_accuracy did not improve from 1.00000\n",
      "Epoch 20/30\n",
      "7/7 [==============================] - 1s 159ms/step - loss: 0.0883 - binary_accuracy: 0.9910 - val_loss: 0.0194 - val_binary_accuracy: 1.0000\n",
      "\n",
      "Epoch 00020: val_binary_accuracy did not improve from 1.00000\n",
      "Epoch 21/30\n",
      "7/7 [==============================] - 1s 196ms/step - loss: 0.0808 - binary_accuracy: 0.9955 - val_loss: 0.0195 - val_binary_accuracy: 1.0000\n",
      "\n",
      "Epoch 00021: val_binary_accuracy did not improve from 1.00000\n",
      "Epoch 22/30\n",
      "7/7 [==============================] - 1s 158ms/step - loss: 0.0817 - binary_accuracy: 0.9955 - val_loss: 0.0202 - val_binary_accuracy: 1.0000\n",
      "\n",
      "Epoch 00022: val_binary_accuracy did not improve from 1.00000\n",
      "Epoch 23/30\n",
      "7/7 [==============================] - 1s 160ms/step - loss: 0.0809 - binary_accuracy: 0.9955 - val_loss: 0.0211 - val_binary_accuracy: 1.0000\n",
      "\n",
      "Epoch 00023: val_binary_accuracy did not improve from 1.00000\n",
      "Epoch 24/30\n",
      "7/7 [==============================] - 1s 153ms/step - loss: 0.0806 - binary_accuracy: 0.9955 - val_loss: 0.0210 - val_binary_accuracy: 1.0000\n",
      "\n",
      "Epoch 00024: val_binary_accuracy did not improve from 1.00000\n",
      "Epoch 25/30\n",
      "7/7 [==============================] - 1s 160ms/step - loss: 0.0804 - binary_accuracy: 0.9955 - val_loss: 0.0210 - val_binary_accuracy: 1.0000\n",
      "\n",
      "Epoch 00025: val_binary_accuracy did not improve from 1.00000\n",
      "Epoch 26/30\n",
      "7/7 [==============================] - 1s 150ms/step - loss: 0.0806 - binary_accuracy: 0.9955 - val_loss: 0.0201 - val_binary_accuracy: 1.0000\n",
      "\n",
      "Epoch 00026: val_binary_accuracy did not improve from 1.00000\n",
      "Epoch 27/30\n",
      "7/7 [==============================] - 1s 157ms/step - loss: 0.0853 - binary_accuracy: 0.9955 - val_loss: 0.0173 - val_binary_accuracy: 1.0000\n",
      "\n",
      "Epoch 00027: val_binary_accuracy did not improve from 1.00000\n",
      "Epoch 28/30\n",
      "7/7 [==============================] - 1s 156ms/step - loss: 0.1618 - binary_accuracy: 0.9910 - val_loss: 0.0152 - val_binary_accuracy: 1.0000\n",
      "\n",
      "Epoch 00028: val_binary_accuracy did not improve from 1.00000\n",
      "Epoch 29/30\n",
      "7/7 [==============================] - 1s 161ms/step - loss: 0.0808 - binary_accuracy: 0.9955 - val_loss: 0.0144 - val_binary_accuracy: 1.0000\n",
      "\n",
      "Epoch 00029: val_binary_accuracy did not improve from 1.00000\n",
      "Epoch 30/30\n",
      "7/7 [==============================] - 1s 191ms/step - loss: 0.0804 - binary_accuracy: 0.9955 - val_loss: 0.0143 - val_binary_accuracy: 1.0000\n",
      "\n",
      "Epoch 00030: val_binary_accuracy did not improve from 1.00000\n"
     ]
    },
    {
     "data": {
      "text/html": [
       "        <script type=\"text/javascript\">\n",
       "        window.PlotlyConfig = {MathJaxConfig: 'local'};\n",
       "        if (window.MathJax) {MathJax.Hub.Config({SVG: {font: \"STIX-Web\"}});}\n",
       "        if (typeof require !== 'undefined') {\n",
       "        require.undef(\"plotly\");\n",
       "        requirejs.config({\n",
       "            paths: {\n",
       "                'plotly': ['https://cdn.plot.ly/plotly-2.11.1.min']\n",
       "            }\n",
       "        });\n",
       "        require(['plotly'], function(Plotly) {\n",
       "            window._Plotly = Plotly;\n",
       "        });\n",
       "        }\n",
       "        </script>\n",
       "        "
      ]
     },
     "metadata": {},
     "output_type": "display_data"
    },
    {
     "data": {
      "text/html": [
       "<div>                            <div id=\"73d3c5ce-e53d-43e9-a0f6-ce97aec5cdb6\" class=\"plotly-graph-div\" style=\"height:400px; width:800px;\"></div>            <script type=\"text/javascript\">                require([\"plotly\"], function(Plotly) {                    window.PLOTLYENV=window.PLOTLYENV || {};                                    if (document.getElementById(\"73d3c5ce-e53d-43e9-a0f6-ce97aec5cdb6\")) {                    Plotly.newPlot(                        \"73d3c5ce-e53d-43e9-a0f6-ce97aec5cdb6\",                        [{\"mode\":\"lines+markers\",\"name\":\"Training Accuracy\",\"y\":[0.726457417011261,0.865470826625824,0.9058296084403992,0.9372197389602661,0.9641255736351013,0.9775784611701965,0.9730941653251648,0.9865471124649048,0.9730941653251648,0.9865471124649048,0.9865471124649048,0.9910314083099365,0.9910314083099365,0.9910314083099365,0.9955157041549683,0.9955157041549683,0.9955157041549683,0.9865471124649048,0.9955157041549683,0.9910314083099365,0.9955157041549683,0.9955157041549683,0.9955157041549683,0.9955157041549683,0.9955157041549683,0.9955157041549683,0.9955157041549683,0.9910314083099365,0.9955157041549683,0.9955157041549683],\"type\":\"scatter\"},{\"mode\":\"lines+markers\",\"name\":\"Validation Accuracy\",\"y\":[0.75,0.9285714030265808,0.9642857313156128,0.9107142686843872,0.8928571343421936,0.9285714030265808,0.9464285969734192,0.9464285969734192,0.9642857313156128,0.9642857313156128,0.9642857313156128,0.9642857313156128,0.9821428656578064,0.9821428656578064,0.9821428656578064,1.0,1.0,1.0,1.0,1.0,1.0,1.0,1.0,1.0,1.0,1.0,1.0,1.0,1.0,1.0],\"type\":\"scatter\"}],                        {\"template\":{\"data\":{\"histogram2dcontour\":[{\"type\":\"histogram2dcontour\",\"colorbar\":{\"outlinewidth\":0,\"ticks\":\"\"},\"colorscale\":[[0.0,\"#0d0887\"],[0.1111111111111111,\"#46039f\"],[0.2222222222222222,\"#7201a8\"],[0.3333333333333333,\"#9c179e\"],[0.4444444444444444,\"#bd3786\"],[0.5555555555555556,\"#d8576b\"],[0.6666666666666666,\"#ed7953\"],[0.7777777777777778,\"#fb9f3a\"],[0.8888888888888888,\"#fdca26\"],[1.0,\"#f0f921\"]]}],\"choropleth\":[{\"type\":\"choropleth\",\"colorbar\":{\"outlinewidth\":0,\"ticks\":\"\"}}],\"histogram2d\":[{\"type\":\"histogram2d\",\"colorbar\":{\"outlinewidth\":0,\"ticks\":\"\"},\"colorscale\":[[0.0,\"#0d0887\"],[0.1111111111111111,\"#46039f\"],[0.2222222222222222,\"#7201a8\"],[0.3333333333333333,\"#9c179e\"],[0.4444444444444444,\"#bd3786\"],[0.5555555555555556,\"#d8576b\"],[0.6666666666666666,\"#ed7953\"],[0.7777777777777778,\"#fb9f3a\"],[0.8888888888888888,\"#fdca26\"],[1.0,\"#f0f921\"]]}],\"heatmap\":[{\"type\":\"heatmap\",\"colorbar\":{\"outlinewidth\":0,\"ticks\":\"\"},\"colorscale\":[[0.0,\"#0d0887\"],[0.1111111111111111,\"#46039f\"],[0.2222222222222222,\"#7201a8\"],[0.3333333333333333,\"#9c179e\"],[0.4444444444444444,\"#bd3786\"],[0.5555555555555556,\"#d8576b\"],[0.6666666666666666,\"#ed7953\"],[0.7777777777777778,\"#fb9f3a\"],[0.8888888888888888,\"#fdca26\"],[1.0,\"#f0f921\"]]}],\"heatmapgl\":[{\"type\":\"heatmapgl\",\"colorbar\":{\"outlinewidth\":0,\"ticks\":\"\"},\"colorscale\":[[0.0,\"#0d0887\"],[0.1111111111111111,\"#46039f\"],[0.2222222222222222,\"#7201a8\"],[0.3333333333333333,\"#9c179e\"],[0.4444444444444444,\"#bd3786\"],[0.5555555555555556,\"#d8576b\"],[0.6666666666666666,\"#ed7953\"],[0.7777777777777778,\"#fb9f3a\"],[0.8888888888888888,\"#fdca26\"],[1.0,\"#f0f921\"]]}],\"contourcarpet\":[{\"type\":\"contourcarpet\",\"colorbar\":{\"outlinewidth\":0,\"ticks\":\"\"}}],\"contour\":[{\"type\":\"contour\",\"colorbar\":{\"outlinewidth\":0,\"ticks\":\"\"},\"colorscale\":[[0.0,\"#0d0887\"],[0.1111111111111111,\"#46039f\"],[0.2222222222222222,\"#7201a8\"],[0.3333333333333333,\"#9c179e\"],[0.4444444444444444,\"#bd3786\"],[0.5555555555555556,\"#d8576b\"],[0.6666666666666666,\"#ed7953\"],[0.7777777777777778,\"#fb9f3a\"],[0.8888888888888888,\"#fdca26\"],[1.0,\"#f0f921\"]]}],\"surface\":[{\"type\":\"surface\",\"colorbar\":{\"outlinewidth\":0,\"ticks\":\"\"},\"colorscale\":[[0.0,\"#0d0887\"],[0.1111111111111111,\"#46039f\"],[0.2222222222222222,\"#7201a8\"],[0.3333333333333333,\"#9c179e\"],[0.4444444444444444,\"#bd3786\"],[0.5555555555555556,\"#d8576b\"],[0.6666666666666666,\"#ed7953\"],[0.7777777777777778,\"#fb9f3a\"],[0.8888888888888888,\"#fdca26\"],[1.0,\"#f0f921\"]]}],\"mesh3d\":[{\"type\":\"mesh3d\",\"colorbar\":{\"outlinewidth\":0,\"ticks\":\"\"}}],\"scatter\":[{\"fillpattern\":{\"fillmode\":\"overlay\",\"size\":10,\"solidity\":0.2},\"type\":\"scatter\"}],\"parcoords\":[{\"type\":\"parcoords\",\"line\":{\"colorbar\":{\"outlinewidth\":0,\"ticks\":\"\"}}}],\"scatterpolargl\":[{\"type\":\"scatterpolargl\",\"marker\":{\"colorbar\":{\"outlinewidth\":0,\"ticks\":\"\"}}}],\"bar\":[{\"error_x\":{\"color\":\"#2a3f5f\"},\"error_y\":{\"color\":\"#2a3f5f\"},\"marker\":{\"line\":{\"color\":\"#E5ECF6\",\"width\":0.5},\"pattern\":{\"fillmode\":\"overlay\",\"size\":10,\"solidity\":0.2}},\"type\":\"bar\"}],\"scattergeo\":[{\"type\":\"scattergeo\",\"marker\":{\"colorbar\":{\"outlinewidth\":0,\"ticks\":\"\"}}}],\"scatterpolar\":[{\"type\":\"scatterpolar\",\"marker\":{\"colorbar\":{\"outlinewidth\":0,\"ticks\":\"\"}}}],\"histogram\":[{\"marker\":{\"pattern\":{\"fillmode\":\"overlay\",\"size\":10,\"solidity\":0.2}},\"type\":\"histogram\"}],\"scattergl\":[{\"type\":\"scattergl\",\"marker\":{\"colorbar\":{\"outlinewidth\":0,\"ticks\":\"\"}}}],\"scatter3d\":[{\"type\":\"scatter3d\",\"line\":{\"colorbar\":{\"outlinewidth\":0,\"ticks\":\"\"}},\"marker\":{\"colorbar\":{\"outlinewidth\":0,\"ticks\":\"\"}}}],\"scattermapbox\":[{\"type\":\"scattermapbox\",\"marker\":{\"colorbar\":{\"outlinewidth\":0,\"ticks\":\"\"}}}],\"scatterternary\":[{\"type\":\"scatterternary\",\"marker\":{\"colorbar\":{\"outlinewidth\":0,\"ticks\":\"\"}}}],\"scattercarpet\":[{\"type\":\"scattercarpet\",\"marker\":{\"colorbar\":{\"outlinewidth\":0,\"ticks\":\"\"}}}],\"carpet\":[{\"aaxis\":{\"endlinecolor\":\"#2a3f5f\",\"gridcolor\":\"white\",\"linecolor\":\"white\",\"minorgridcolor\":\"white\",\"startlinecolor\":\"#2a3f5f\"},\"baxis\":{\"endlinecolor\":\"#2a3f5f\",\"gridcolor\":\"white\",\"linecolor\":\"white\",\"minorgridcolor\":\"white\",\"startlinecolor\":\"#2a3f5f\"},\"type\":\"carpet\"}],\"table\":[{\"cells\":{\"fill\":{\"color\":\"#EBF0F8\"},\"line\":{\"color\":\"white\"}},\"header\":{\"fill\":{\"color\":\"#C8D4E3\"},\"line\":{\"color\":\"white\"}},\"type\":\"table\"}],\"barpolar\":[{\"marker\":{\"line\":{\"color\":\"#E5ECF6\",\"width\":0.5},\"pattern\":{\"fillmode\":\"overlay\",\"size\":10,\"solidity\":0.2}},\"type\":\"barpolar\"}],\"pie\":[{\"automargin\":true,\"type\":\"pie\"}]},\"layout\":{\"autotypenumbers\":\"strict\",\"colorway\":[\"#636efa\",\"#EF553B\",\"#00cc96\",\"#ab63fa\",\"#FFA15A\",\"#19d3f3\",\"#FF6692\",\"#B6E880\",\"#FF97FF\",\"#FECB52\"],\"font\":{\"color\":\"#2a3f5f\"},\"hovermode\":\"closest\",\"hoverlabel\":{\"align\":\"left\"},\"paper_bgcolor\":\"white\",\"plot_bgcolor\":\"#E5ECF6\",\"polar\":{\"bgcolor\":\"#E5ECF6\",\"angularaxis\":{\"gridcolor\":\"white\",\"linecolor\":\"white\",\"ticks\":\"\"},\"radialaxis\":{\"gridcolor\":\"white\",\"linecolor\":\"white\",\"ticks\":\"\"}},\"ternary\":{\"bgcolor\":\"#E5ECF6\",\"aaxis\":{\"gridcolor\":\"white\",\"linecolor\":\"white\",\"ticks\":\"\"},\"baxis\":{\"gridcolor\":\"white\",\"linecolor\":\"white\",\"ticks\":\"\"},\"caxis\":{\"gridcolor\":\"white\",\"linecolor\":\"white\",\"ticks\":\"\"}},\"coloraxis\":{\"colorbar\":{\"outlinewidth\":0,\"ticks\":\"\"}},\"colorscale\":{\"sequential\":[[0.0,\"#0d0887\"],[0.1111111111111111,\"#46039f\"],[0.2222222222222222,\"#7201a8\"],[0.3333333333333333,\"#9c179e\"],[0.4444444444444444,\"#bd3786\"],[0.5555555555555556,\"#d8576b\"],[0.6666666666666666,\"#ed7953\"],[0.7777777777777778,\"#fb9f3a\"],[0.8888888888888888,\"#fdca26\"],[1.0,\"#f0f921\"]],\"sequentialminus\":[[0.0,\"#0d0887\"],[0.1111111111111111,\"#46039f\"],[0.2222222222222222,\"#7201a8\"],[0.3333333333333333,\"#9c179e\"],[0.4444444444444444,\"#bd3786\"],[0.5555555555555556,\"#d8576b\"],[0.6666666666666666,\"#ed7953\"],[0.7777777777777778,\"#fb9f3a\"],[0.8888888888888888,\"#fdca26\"],[1.0,\"#f0f921\"]],\"diverging\":[[0,\"#8e0152\"],[0.1,\"#c51b7d\"],[0.2,\"#de77ae\"],[0.3,\"#f1b6da\"],[0.4,\"#fde0ef\"],[0.5,\"#f7f7f7\"],[0.6,\"#e6f5d0\"],[0.7,\"#b8e186\"],[0.8,\"#7fbc41\"],[0.9,\"#4d9221\"],[1,\"#276419\"]]},\"xaxis\":{\"gridcolor\":\"white\",\"linecolor\":\"white\",\"ticks\":\"\",\"title\":{\"standoff\":15},\"zerolinecolor\":\"white\",\"automargin\":true,\"zerolinewidth\":2},\"yaxis\":{\"gridcolor\":\"white\",\"linecolor\":\"white\",\"ticks\":\"\",\"title\":{\"standoff\":15},\"zerolinecolor\":\"white\",\"automargin\":true,\"zerolinewidth\":2},\"scene\":{\"xaxis\":{\"backgroundcolor\":\"#E5ECF6\",\"gridcolor\":\"white\",\"linecolor\":\"white\",\"showbackground\":true,\"ticks\":\"\",\"zerolinecolor\":\"white\",\"gridwidth\":2},\"yaxis\":{\"backgroundcolor\":\"#E5ECF6\",\"gridcolor\":\"white\",\"linecolor\":\"white\",\"showbackground\":true,\"ticks\":\"\",\"zerolinecolor\":\"white\",\"gridwidth\":2},\"zaxis\":{\"backgroundcolor\":\"#E5ECF6\",\"gridcolor\":\"white\",\"linecolor\":\"white\",\"showbackground\":true,\"ticks\":\"\",\"zerolinecolor\":\"white\",\"gridwidth\":2}},\"shapedefaults\":{\"line\":{\"color\":\"#2a3f5f\"}},\"annotationdefaults\":{\"arrowcolor\":\"#2a3f5f\",\"arrowhead\":0,\"arrowwidth\":1},\"geo\":{\"bgcolor\":\"white\",\"landcolor\":\"#E5ECF6\",\"subunitcolor\":\"white\",\"showland\":true,\"showlakes\":true,\"lakecolor\":\"white\"},\"title\":{\"x\":0.05},\"mapbox\":{\"style\":\"light\"}}},\"yaxis\":{\"range\":[0.4,1],\"title\":{\"text\":\"Accuracy\"}},\"title\":{\"text\":\"Fold 1's performance\",\"x\":0.5},\"margin\":{\"l\":20,\"r\":20,\"t\":40,\"b\":20},\"xaxis\":{\"title\":{\"text\":\"Epochs\"}},\"autosize\":false,\"width\":800,\"height\":400},                        {\"responsive\": true}                    ).then(function(){\n",
       "                            \n",
       "var gd = document.getElementById('73d3c5ce-e53d-43e9-a0f6-ce97aec5cdb6');\n",
       "var x = new MutationObserver(function (mutations, observer) {{\n",
       "        var display = window.getComputedStyle(gd).display;\n",
       "        if (!display || display === 'none') {{\n",
       "            console.log([gd, 'removed!']);\n",
       "            Plotly.purge(gd);\n",
       "            observer.disconnect();\n",
       "        }}\n",
       "}});\n",
       "\n",
       "// Listen for the removal of the full notebook cells\n",
       "var notebookContainer = gd.closest('#notebook-container');\n",
       "if (notebookContainer) {{\n",
       "    x.observe(notebookContainer, {childList: true});\n",
       "}}\n",
       "\n",
       "// Listen for the clearing of the current output cell\n",
       "var outputEl = gd.closest('.output');\n",
       "if (outputEl) {{\n",
       "    x.observe(outputEl, {childList: true});\n",
       "}}\n",
       "\n",
       "                        })                };                });            </script>        </div>"
      ]
     },
     "metadata": {},
     "output_type": "display_data"
    },
    {
     "name": "stdout",
     "output_type": "stream",
     "text": [
      "4/4 [==============================] - 1s 392ms/step - loss: 0.5487 - binary_accuracy: 0.9421\n",
      "Found 223 validated image filenames belonging to 2 classes.\n",
      "Found 56 validated image filenames belonging to 2 classes.\n",
      "Epoch 1/30\n",
      "7/7 [==============================] - 13s 596ms/step - loss: 2.2390 - binary_accuracy: 0.7892 - val_loss: 1.4710 - val_binary_accuracy: 0.8571\n",
      "\n",
      "Epoch 00001: val_binary_accuracy improved from -inf to 0.85714, saving model to /kaggle/working/datasets/01_MRI/Saved_CNN_Models/Testing/transfer_learning_model_dense169_2/AugTest/30epochs/transfer_learning_model_dense169_2_model_2.h5\n",
      "Epoch 2/30\n",
      "7/7 [==============================] - 1s 170ms/step - loss: 0.8979 - binary_accuracy: 0.9103 - val_loss: 1.5062 - val_binary_accuracy: 0.8214\n",
      "\n",
      "Epoch 00002: val_binary_accuracy did not improve from 0.85714\n",
      "Epoch 3/30\n",
      "7/7 [==============================] - 1s 160ms/step - loss: 0.8090 - binary_accuracy: 0.8879 - val_loss: 1.9849 - val_binary_accuracy: 0.8214\n",
      "\n",
      "Epoch 00003: val_binary_accuracy did not improve from 0.85714\n",
      "Epoch 4/30\n",
      "7/7 [==============================] - 1s 161ms/step - loss: 0.4157 - binary_accuracy: 0.9327 - val_loss: 2.0010 - val_binary_accuracy: 0.8214\n",
      "\n",
      "Epoch 00004: val_binary_accuracy did not improve from 0.85714\n",
      "Epoch 5/30\n",
      "7/7 [==============================] - 1s 161ms/step - loss: 0.5654 - binary_accuracy: 0.9417 - val_loss: 1.9952 - val_binary_accuracy: 0.8214\n",
      "\n",
      "Epoch 00005: val_binary_accuracy did not improve from 0.85714\n",
      "Epoch 6/30\n",
      "7/7 [==============================] - 1s 158ms/step - loss: 0.3619 - binary_accuracy: 0.9596 - val_loss: 1.4795 - val_binary_accuracy: 0.8750\n",
      "\n",
      "Epoch 00006: val_binary_accuracy improved from 0.85714 to 0.87500, saving model to /kaggle/working/datasets/01_MRI/Saved_CNN_Models/Testing/transfer_learning_model_dense169_2/AugTest/30epochs/transfer_learning_model_dense169_2_model_2.h5\n",
      "Epoch 7/30\n",
      "7/7 [==============================] - 1s 156ms/step - loss: 0.2585 - binary_accuracy: 0.9507 - val_loss: 1.2119 - val_binary_accuracy: 0.8750\n",
      "\n",
      "Epoch 00007: val_binary_accuracy did not improve from 0.87500\n",
      "Epoch 8/30\n",
      "7/7 [==============================] - 1s 189ms/step - loss: 0.0747 - binary_accuracy: 0.9910 - val_loss: 0.6452 - val_binary_accuracy: 0.9107\n",
      "\n",
      "Epoch 00008: val_binary_accuracy improved from 0.87500 to 0.91071, saving model to /kaggle/working/datasets/01_MRI/Saved_CNN_Models/Testing/transfer_learning_model_dense169_2/AugTest/30epochs/transfer_learning_model_dense169_2_model_2.h5\n",
      "Epoch 9/30\n",
      "7/7 [==============================] - 1s 159ms/step - loss: 0.0657 - binary_accuracy: 0.9955 - val_loss: 0.5807 - val_binary_accuracy: 0.9464\n",
      "\n",
      "Epoch 00009: val_binary_accuracy improved from 0.91071 to 0.94643, saving model to /kaggle/working/datasets/01_MRI/Saved_CNN_Models/Testing/transfer_learning_model_dense169_2/AugTest/30epochs/transfer_learning_model_dense169_2_model_2.h5\n",
      "Epoch 10/30\n",
      "7/7 [==============================] - 1s 166ms/step - loss: 0.0617 - binary_accuracy: 0.9955 - val_loss: 0.3265 - val_binary_accuracy: 0.9464\n",
      "\n",
      "Epoch 00010: val_binary_accuracy did not improve from 0.94643\n",
      "Epoch 11/30\n",
      "7/7 [==============================] - 1s 163ms/step - loss: 0.0661 - binary_accuracy: 0.9955 - val_loss: 0.3160 - val_binary_accuracy: 0.9464\n",
      "\n",
      "Epoch 00011: val_binary_accuracy did not improve from 0.94643\n",
      "Epoch 12/30\n",
      "7/7 [==============================] - 1s 156ms/step - loss: 0.0967 - binary_accuracy: 0.9865 - val_loss: 0.3133 - val_binary_accuracy: 0.9464\n",
      "\n",
      "Epoch 00012: val_binary_accuracy did not improve from 0.94643\n",
      "Epoch 13/30\n",
      "7/7 [==============================] - 1s 185ms/step - loss: 0.0074 - binary_accuracy: 0.9955 - val_loss: 0.1128 - val_binary_accuracy: 0.9464\n",
      "\n",
      "Epoch 00013: val_binary_accuracy did not improve from 0.94643\n",
      "Epoch 14/30\n",
      "7/7 [==============================] - 1s 157ms/step - loss: 0.0036 - binary_accuracy: 0.9955 - val_loss: 0.0872 - val_binary_accuracy: 0.9643\n",
      "\n",
      "Epoch 00014: val_binary_accuracy improved from 0.94643 to 0.96429, saving model to /kaggle/working/datasets/01_MRI/Saved_CNN_Models/Testing/transfer_learning_model_dense169_2/AugTest/30epochs/transfer_learning_model_dense169_2_model_2.h5\n",
      "Epoch 15/30\n",
      "7/7 [==============================] - 1s 157ms/step - loss: 0.0058 - binary_accuracy: 0.9955 - val_loss: 0.0789 - val_binary_accuracy: 0.9643\n",
      "\n",
      "Epoch 00015: val_binary_accuracy did not improve from 0.96429\n",
      "Epoch 16/30\n",
      "7/7 [==============================] - 2s 219ms/step - loss: 0.0784 - binary_accuracy: 0.9821 - val_loss: 0.0692 - val_binary_accuracy: 0.9643\n",
      "\n",
      "Epoch 00016: val_binary_accuracy did not improve from 0.96429\n",
      "Epoch 17/30\n",
      "7/7 [==============================] - 1s 172ms/step - loss: 9.2533e-04 - binary_accuracy: 1.0000 - val_loss: 0.0604 - val_binary_accuracy: 0.9643\n",
      "\n",
      "Epoch 00017: val_binary_accuracy did not improve from 0.96429\n",
      "Epoch 18/30\n",
      "7/7 [==============================] - 1s 158ms/step - loss: 0.0615 - binary_accuracy: 0.9955 - val_loss: 0.0559 - val_binary_accuracy: 0.9643\n",
      "\n",
      "Epoch 00018: val_binary_accuracy did not improve from 0.96429\n",
      "Epoch 19/30\n",
      "7/7 [==============================] - 1s 162ms/step - loss: 0.0066 - binary_accuracy: 0.9955 - val_loss: 0.0443 - val_binary_accuracy: 0.9821\n",
      "\n",
      "Epoch 00019: val_binary_accuracy improved from 0.96429 to 0.98214, saving model to /kaggle/working/datasets/01_MRI/Saved_CNN_Models/Testing/transfer_learning_model_dense169_2/AugTest/30epochs/transfer_learning_model_dense169_2_model_2.h5\n",
      "Epoch 20/30\n",
      "7/7 [==============================] - 1s 158ms/step - loss: 0.0033 - binary_accuracy: 0.9955 - val_loss: 0.0390 - val_binary_accuracy: 0.9821\n",
      "\n",
      "Epoch 00020: val_binary_accuracy did not improve from 0.98214\n",
      "Epoch 21/30\n",
      "7/7 [==============================] - 1s 160ms/step - loss: 0.0000e+00 - binary_accuracy: 1.0000 - val_loss: 0.0363 - val_binary_accuracy: 0.9821\n",
      "\n",
      "Epoch 00021: val_binary_accuracy did not improve from 0.98214\n",
      "Epoch 22/30\n",
      "7/7 [==============================] - 1s 158ms/step - loss: 0.0021 - binary_accuracy: 1.0000 - val_loss: 0.0337 - val_binary_accuracy: 0.9821\n",
      "\n",
      "Epoch 00022: val_binary_accuracy did not improve from 0.98214\n",
      "Epoch 23/30\n",
      "7/7 [==============================] - 1s 159ms/step - loss: 0.0000e+00 - binary_accuracy: 1.0000 - val_loss: 0.0314 - val_binary_accuracy: 0.9821\n",
      "\n",
      "Epoch 00023: val_binary_accuracy did not improve from 0.98214\n",
      "Epoch 24/30\n",
      "7/7 [==============================] - 1s 164ms/step - loss: 0.0000e+00 - binary_accuracy: 1.0000 - val_loss: 0.0303 - val_binary_accuracy: 0.9821\n",
      "\n",
      "Epoch 00024: val_binary_accuracy did not improve from 0.98214\n",
      "Epoch 25/30\n",
      "7/7 [==============================] - 1s 158ms/step - loss: 0.0000e+00 - binary_accuracy: 1.0000 - val_loss: 0.0300 - val_binary_accuracy: 0.9821\n",
      "\n",
      "Epoch 00025: val_binary_accuracy did not improve from 0.98214\n",
      "Epoch 26/30\n",
      "7/7 [==============================] - 1s 159ms/step - loss: 0.0020 - binary_accuracy: 1.0000 - val_loss: 0.0294 - val_binary_accuracy: 0.9821\n",
      "\n",
      "Epoch 00026: val_binary_accuracy did not improve from 0.98214\n",
      "Epoch 27/30\n",
      "7/7 [==============================] - 1s 158ms/step - loss: 0.0000e+00 - binary_accuracy: 1.0000 - val_loss: 0.0286 - val_binary_accuracy: 0.9821\n",
      "\n",
      "Epoch 00027: val_binary_accuracy did not improve from 0.98214\n",
      "Epoch 28/30\n",
      "7/7 [==============================] - 1s 192ms/step - loss: 0.0012 - binary_accuracy: 1.0000 - val_loss: 0.0278 - val_binary_accuracy: 0.9821\n",
      "\n",
      "Epoch 00028: val_binary_accuracy did not improve from 0.98214\n",
      "Epoch 29/30\n",
      "7/7 [==============================] - 1s 164ms/step - loss: 3.0727e-04 - binary_accuracy: 1.0000 - val_loss: 0.0281 - val_binary_accuracy: 0.9821\n",
      "\n",
      "Epoch 00029: val_binary_accuracy did not improve from 0.98214\n",
      "Epoch 30/30\n",
      "7/7 [==============================] - 1s 164ms/step - loss: 4.4721e-04 - binary_accuracy: 1.0000 - val_loss: 0.0283 - val_binary_accuracy: 0.9821\n",
      "\n",
      "Epoch 00030: val_binary_accuracy did not improve from 0.98214\n"
     ]
    },
    {
     "data": {
      "text/html": [
       "<div>                            <div id=\"863ac658-78f0-4b74-87e1-afefcc10179d\" class=\"plotly-graph-div\" style=\"height:400px; width:800px;\"></div>            <script type=\"text/javascript\">                require([\"plotly\"], function(Plotly) {                    window.PLOTLYENV=window.PLOTLYENV || {};                                    if (document.getElementById(\"863ac658-78f0-4b74-87e1-afefcc10179d\")) {                    Plotly.newPlot(                        \"863ac658-78f0-4b74-87e1-afefcc10179d\",                        [{\"mode\":\"lines+markers\",\"name\":\"Training Accuracy\",\"y\":[0.7892376780509949,0.9103139042854309,0.8878923654556274,0.9327354431152344,0.9417040348052979,0.9596412777900696,0.9506726264953613,0.9910314083099365,0.9955157041549683,0.9955157041549683,0.9955157041549683,0.9865471124649048,0.9955157041549683,0.9955157041549683,0.9955157041549683,0.9820627570152283,1.0,0.9955157041549683,0.9955157041549683,0.9955157041549683,1.0,1.0,1.0,1.0,1.0,1.0,1.0,1.0,1.0,1.0],\"type\":\"scatter\"},{\"mode\":\"lines+markers\",\"name\":\"Validation Accuracy\",\"y\":[0.8571428656578064,0.8214285969734192,0.8214285969734192,0.8214285969734192,0.8214285969734192,0.875,0.875,0.9107142686843872,0.9464285969734192,0.9464285969734192,0.9464285969734192,0.9464285969734192,0.9464285969734192,0.9642857313156128,0.9642857313156128,0.9642857313156128,0.9642857313156128,0.9642857313156128,0.9821428656578064,0.9821428656578064,0.9821428656578064,0.9821428656578064,0.9821428656578064,0.9821428656578064,0.9821428656578064,0.9821428656578064,0.9821428656578064,0.9821428656578064,0.9821428656578064,0.9821428656578064],\"type\":\"scatter\"}],                        {\"template\":{\"data\":{\"histogram2dcontour\":[{\"type\":\"histogram2dcontour\",\"colorbar\":{\"outlinewidth\":0,\"ticks\":\"\"},\"colorscale\":[[0.0,\"#0d0887\"],[0.1111111111111111,\"#46039f\"],[0.2222222222222222,\"#7201a8\"],[0.3333333333333333,\"#9c179e\"],[0.4444444444444444,\"#bd3786\"],[0.5555555555555556,\"#d8576b\"],[0.6666666666666666,\"#ed7953\"],[0.7777777777777778,\"#fb9f3a\"],[0.8888888888888888,\"#fdca26\"],[1.0,\"#f0f921\"]]}],\"choropleth\":[{\"type\":\"choropleth\",\"colorbar\":{\"outlinewidth\":0,\"ticks\":\"\"}}],\"histogram2d\":[{\"type\":\"histogram2d\",\"colorbar\":{\"outlinewidth\":0,\"ticks\":\"\"},\"colorscale\":[[0.0,\"#0d0887\"],[0.1111111111111111,\"#46039f\"],[0.2222222222222222,\"#7201a8\"],[0.3333333333333333,\"#9c179e\"],[0.4444444444444444,\"#bd3786\"],[0.5555555555555556,\"#d8576b\"],[0.6666666666666666,\"#ed7953\"],[0.7777777777777778,\"#fb9f3a\"],[0.8888888888888888,\"#fdca26\"],[1.0,\"#f0f921\"]]}],\"heatmap\":[{\"type\":\"heatmap\",\"colorbar\":{\"outlinewidth\":0,\"ticks\":\"\"},\"colorscale\":[[0.0,\"#0d0887\"],[0.1111111111111111,\"#46039f\"],[0.2222222222222222,\"#7201a8\"],[0.3333333333333333,\"#9c179e\"],[0.4444444444444444,\"#bd3786\"],[0.5555555555555556,\"#d8576b\"],[0.6666666666666666,\"#ed7953\"],[0.7777777777777778,\"#fb9f3a\"],[0.8888888888888888,\"#fdca26\"],[1.0,\"#f0f921\"]]}],\"heatmapgl\":[{\"type\":\"heatmapgl\",\"colorbar\":{\"outlinewidth\":0,\"ticks\":\"\"},\"colorscale\":[[0.0,\"#0d0887\"],[0.1111111111111111,\"#46039f\"],[0.2222222222222222,\"#7201a8\"],[0.3333333333333333,\"#9c179e\"],[0.4444444444444444,\"#bd3786\"],[0.5555555555555556,\"#d8576b\"],[0.6666666666666666,\"#ed7953\"],[0.7777777777777778,\"#fb9f3a\"],[0.8888888888888888,\"#fdca26\"],[1.0,\"#f0f921\"]]}],\"contourcarpet\":[{\"type\":\"contourcarpet\",\"colorbar\":{\"outlinewidth\":0,\"ticks\":\"\"}}],\"contour\":[{\"type\":\"contour\",\"colorbar\":{\"outlinewidth\":0,\"ticks\":\"\"},\"colorscale\":[[0.0,\"#0d0887\"],[0.1111111111111111,\"#46039f\"],[0.2222222222222222,\"#7201a8\"],[0.3333333333333333,\"#9c179e\"],[0.4444444444444444,\"#bd3786\"],[0.5555555555555556,\"#d8576b\"],[0.6666666666666666,\"#ed7953\"],[0.7777777777777778,\"#fb9f3a\"],[0.8888888888888888,\"#fdca26\"],[1.0,\"#f0f921\"]]}],\"surface\":[{\"type\":\"surface\",\"colorbar\":{\"outlinewidth\":0,\"ticks\":\"\"},\"colorscale\":[[0.0,\"#0d0887\"],[0.1111111111111111,\"#46039f\"],[0.2222222222222222,\"#7201a8\"],[0.3333333333333333,\"#9c179e\"],[0.4444444444444444,\"#bd3786\"],[0.5555555555555556,\"#d8576b\"],[0.6666666666666666,\"#ed7953\"],[0.7777777777777778,\"#fb9f3a\"],[0.8888888888888888,\"#fdca26\"],[1.0,\"#f0f921\"]]}],\"mesh3d\":[{\"type\":\"mesh3d\",\"colorbar\":{\"outlinewidth\":0,\"ticks\":\"\"}}],\"scatter\":[{\"fillpattern\":{\"fillmode\":\"overlay\",\"size\":10,\"solidity\":0.2},\"type\":\"scatter\"}],\"parcoords\":[{\"type\":\"parcoords\",\"line\":{\"colorbar\":{\"outlinewidth\":0,\"ticks\":\"\"}}}],\"scatterpolargl\":[{\"type\":\"scatterpolargl\",\"marker\":{\"colorbar\":{\"outlinewidth\":0,\"ticks\":\"\"}}}],\"bar\":[{\"error_x\":{\"color\":\"#2a3f5f\"},\"error_y\":{\"color\":\"#2a3f5f\"},\"marker\":{\"line\":{\"color\":\"#E5ECF6\",\"width\":0.5},\"pattern\":{\"fillmode\":\"overlay\",\"size\":10,\"solidity\":0.2}},\"type\":\"bar\"}],\"scattergeo\":[{\"type\":\"scattergeo\",\"marker\":{\"colorbar\":{\"outlinewidth\":0,\"ticks\":\"\"}}}],\"scatterpolar\":[{\"type\":\"scatterpolar\",\"marker\":{\"colorbar\":{\"outlinewidth\":0,\"ticks\":\"\"}}}],\"histogram\":[{\"marker\":{\"pattern\":{\"fillmode\":\"overlay\",\"size\":10,\"solidity\":0.2}},\"type\":\"histogram\"}],\"scattergl\":[{\"type\":\"scattergl\",\"marker\":{\"colorbar\":{\"outlinewidth\":0,\"ticks\":\"\"}}}],\"scatter3d\":[{\"type\":\"scatter3d\",\"line\":{\"colorbar\":{\"outlinewidth\":0,\"ticks\":\"\"}},\"marker\":{\"colorbar\":{\"outlinewidth\":0,\"ticks\":\"\"}}}],\"scattermapbox\":[{\"type\":\"scattermapbox\",\"marker\":{\"colorbar\":{\"outlinewidth\":0,\"ticks\":\"\"}}}],\"scatterternary\":[{\"type\":\"scatterternary\",\"marker\":{\"colorbar\":{\"outlinewidth\":0,\"ticks\":\"\"}}}],\"scattercarpet\":[{\"type\":\"scattercarpet\",\"marker\":{\"colorbar\":{\"outlinewidth\":0,\"ticks\":\"\"}}}],\"carpet\":[{\"aaxis\":{\"endlinecolor\":\"#2a3f5f\",\"gridcolor\":\"white\",\"linecolor\":\"white\",\"minorgridcolor\":\"white\",\"startlinecolor\":\"#2a3f5f\"},\"baxis\":{\"endlinecolor\":\"#2a3f5f\",\"gridcolor\":\"white\",\"linecolor\":\"white\",\"minorgridcolor\":\"white\",\"startlinecolor\":\"#2a3f5f\"},\"type\":\"carpet\"}],\"table\":[{\"cells\":{\"fill\":{\"color\":\"#EBF0F8\"},\"line\":{\"color\":\"white\"}},\"header\":{\"fill\":{\"color\":\"#C8D4E3\"},\"line\":{\"color\":\"white\"}},\"type\":\"table\"}],\"barpolar\":[{\"marker\":{\"line\":{\"color\":\"#E5ECF6\",\"width\":0.5},\"pattern\":{\"fillmode\":\"overlay\",\"size\":10,\"solidity\":0.2}},\"type\":\"barpolar\"}],\"pie\":[{\"automargin\":true,\"type\":\"pie\"}]},\"layout\":{\"autotypenumbers\":\"strict\",\"colorway\":[\"#636efa\",\"#EF553B\",\"#00cc96\",\"#ab63fa\",\"#FFA15A\",\"#19d3f3\",\"#FF6692\",\"#B6E880\",\"#FF97FF\",\"#FECB52\"],\"font\":{\"color\":\"#2a3f5f\"},\"hovermode\":\"closest\",\"hoverlabel\":{\"align\":\"left\"},\"paper_bgcolor\":\"white\",\"plot_bgcolor\":\"#E5ECF6\",\"polar\":{\"bgcolor\":\"#E5ECF6\",\"angularaxis\":{\"gridcolor\":\"white\",\"linecolor\":\"white\",\"ticks\":\"\"},\"radialaxis\":{\"gridcolor\":\"white\",\"linecolor\":\"white\",\"ticks\":\"\"}},\"ternary\":{\"bgcolor\":\"#E5ECF6\",\"aaxis\":{\"gridcolor\":\"white\",\"linecolor\":\"white\",\"ticks\":\"\"},\"baxis\":{\"gridcolor\":\"white\",\"linecolor\":\"white\",\"ticks\":\"\"},\"caxis\":{\"gridcolor\":\"white\",\"linecolor\":\"white\",\"ticks\":\"\"}},\"coloraxis\":{\"colorbar\":{\"outlinewidth\":0,\"ticks\":\"\"}},\"colorscale\":{\"sequential\":[[0.0,\"#0d0887\"],[0.1111111111111111,\"#46039f\"],[0.2222222222222222,\"#7201a8\"],[0.3333333333333333,\"#9c179e\"],[0.4444444444444444,\"#bd3786\"],[0.5555555555555556,\"#d8576b\"],[0.6666666666666666,\"#ed7953\"],[0.7777777777777778,\"#fb9f3a\"],[0.8888888888888888,\"#fdca26\"],[1.0,\"#f0f921\"]],\"sequentialminus\":[[0.0,\"#0d0887\"],[0.1111111111111111,\"#46039f\"],[0.2222222222222222,\"#7201a8\"],[0.3333333333333333,\"#9c179e\"],[0.4444444444444444,\"#bd3786\"],[0.5555555555555556,\"#d8576b\"],[0.6666666666666666,\"#ed7953\"],[0.7777777777777778,\"#fb9f3a\"],[0.8888888888888888,\"#fdca26\"],[1.0,\"#f0f921\"]],\"diverging\":[[0,\"#8e0152\"],[0.1,\"#c51b7d\"],[0.2,\"#de77ae\"],[0.3,\"#f1b6da\"],[0.4,\"#fde0ef\"],[0.5,\"#f7f7f7\"],[0.6,\"#e6f5d0\"],[0.7,\"#b8e186\"],[0.8,\"#7fbc41\"],[0.9,\"#4d9221\"],[1,\"#276419\"]]},\"xaxis\":{\"gridcolor\":\"white\",\"linecolor\":\"white\",\"ticks\":\"\",\"title\":{\"standoff\":15},\"zerolinecolor\":\"white\",\"automargin\":true,\"zerolinewidth\":2},\"yaxis\":{\"gridcolor\":\"white\",\"linecolor\":\"white\",\"ticks\":\"\",\"title\":{\"standoff\":15},\"zerolinecolor\":\"white\",\"automargin\":true,\"zerolinewidth\":2},\"scene\":{\"xaxis\":{\"backgroundcolor\":\"#E5ECF6\",\"gridcolor\":\"white\",\"linecolor\":\"white\",\"showbackground\":true,\"ticks\":\"\",\"zerolinecolor\":\"white\",\"gridwidth\":2},\"yaxis\":{\"backgroundcolor\":\"#E5ECF6\",\"gridcolor\":\"white\",\"linecolor\":\"white\",\"showbackground\":true,\"ticks\":\"\",\"zerolinecolor\":\"white\",\"gridwidth\":2},\"zaxis\":{\"backgroundcolor\":\"#E5ECF6\",\"gridcolor\":\"white\",\"linecolor\":\"white\",\"showbackground\":true,\"ticks\":\"\",\"zerolinecolor\":\"white\",\"gridwidth\":2}},\"shapedefaults\":{\"line\":{\"color\":\"#2a3f5f\"}},\"annotationdefaults\":{\"arrowcolor\":\"#2a3f5f\",\"arrowhead\":0,\"arrowwidth\":1},\"geo\":{\"bgcolor\":\"white\",\"landcolor\":\"#E5ECF6\",\"subunitcolor\":\"white\",\"showland\":true,\"showlakes\":true,\"lakecolor\":\"white\"},\"title\":{\"x\":0.05},\"mapbox\":{\"style\":\"light\"}}},\"yaxis\":{\"range\":[0.4,1],\"title\":{\"text\":\"Accuracy\"}},\"title\":{\"text\":\"Fold 2's performance\",\"x\":0.5},\"margin\":{\"l\":20,\"r\":20,\"t\":40,\"b\":20},\"xaxis\":{\"title\":{\"text\":\"Epochs\"}},\"autosize\":false,\"width\":800,\"height\":400},                        {\"responsive\": true}                    ).then(function(){\n",
       "                            \n",
       "var gd = document.getElementById('863ac658-78f0-4b74-87e1-afefcc10179d');\n",
       "var x = new MutationObserver(function (mutations, observer) {{\n",
       "        var display = window.getComputedStyle(gd).display;\n",
       "        if (!display || display === 'none') {{\n",
       "            console.log([gd, 'removed!']);\n",
       "            Plotly.purge(gd);\n",
       "            observer.disconnect();\n",
       "        }}\n",
       "}});\n",
       "\n",
       "// Listen for the removal of the full notebook cells\n",
       "var notebookContainer = gd.closest('#notebook-container');\n",
       "if (notebookContainer) {{\n",
       "    x.observe(notebookContainer, {childList: true});\n",
       "}}\n",
       "\n",
       "// Listen for the clearing of the current output cell\n",
       "var outputEl = gd.closest('.output');\n",
       "if (outputEl) {{\n",
       "    x.observe(outputEl, {childList: true});\n",
       "}}\n",
       "\n",
       "                        })                };                });            </script>        </div>"
      ]
     },
     "metadata": {},
     "output_type": "display_data"
    },
    {
     "name": "stdout",
     "output_type": "stream",
     "text": [
      "4/4 [==============================] - 1s 109ms/step - loss: 0.2929 - binary_accuracy: 0.9504\n",
      "Found 223 validated image filenames belonging to 2 classes.\n",
      "Found 56 validated image filenames belonging to 2 classes.\n",
      "Epoch 1/30\n",
      "7/7 [==============================] - 14s 623ms/step - loss: 4.8704 - binary_accuracy: 0.5605 - val_loss: 8.8143 - val_binary_accuracy: 0.4286\n",
      "\n",
      "Epoch 00001: val_binary_accuracy improved from -inf to 0.42857, saving model to /kaggle/working/datasets/01_MRI/Saved_CNN_Models/Testing/transfer_learning_model_dense169_2/AugTest/30epochs/transfer_learning_model_dense169_2_model_3.h5\n",
      "Epoch 2/30\n",
      "7/7 [==============================] - 1s 169ms/step - loss: 3.1429 - binary_accuracy: 0.7175 - val_loss: 8.8143 - val_binary_accuracy: 0.4286\n",
      "\n",
      "Epoch 00002: val_binary_accuracy did not improve from 0.42857\n",
      "Epoch 3/30\n",
      "7/7 [==============================] - 1s 160ms/step - loss: 2.7589 - binary_accuracy: 0.7713 - val_loss: 8.8143 - val_binary_accuracy: 0.4286\n",
      "\n",
      "Epoch 00003: val_binary_accuracy did not improve from 0.42857\n",
      "Epoch 4/30\n",
      "7/7 [==============================] - 1s 168ms/step - loss: 2.1023 - binary_accuracy: 0.7937 - val_loss: 8.8143 - val_binary_accuracy: 0.4286\n",
      "\n",
      "Epoch 00004: val_binary_accuracy did not improve from 0.42857\n",
      "Epoch 5/30\n",
      "7/7 [==============================] - 1s 159ms/step - loss: 1.9340 - binary_accuracy: 0.8117 - val_loss: 8.8143 - val_binary_accuracy: 0.4286\n",
      "\n",
      "Epoch 00005: val_binary_accuracy did not improve from 0.42857\n",
      "Epoch 6/30\n",
      "7/7 [==============================] - 1s 164ms/step - loss: 1.6483 - binary_accuracy: 0.8251 - val_loss: 8.8143 - val_binary_accuracy: 0.4286\n",
      "\n",
      "Epoch 00006: val_binary_accuracy did not improve from 0.42857\n",
      "Epoch 7/30\n",
      "7/7 [==============================] - 1s 171ms/step - loss: 1.6454 - binary_accuracy: 0.8386 - val_loss: 8.8143 - val_binary_accuracy: 0.4286\n",
      "\n",
      "Epoch 00007: val_binary_accuracy did not improve from 0.42857\n",
      "Epoch 8/30\n",
      "7/7 [==============================] - 1s 175ms/step - loss: 1.5276 - binary_accuracy: 0.8655 - val_loss: 8.8143 - val_binary_accuracy: 0.4286\n",
      "\n",
      "Epoch 00008: val_binary_accuracy did not improve from 0.42857\n",
      "Epoch 9/30\n",
      "7/7 [==============================] - 1s 171ms/step - loss: 1.2023 - binary_accuracy: 0.8969 - val_loss: 8.8143 - val_binary_accuracy: 0.4286\n",
      "\n",
      "Epoch 00009: val_binary_accuracy did not improve from 0.42857\n",
      "Epoch 10/30\n",
      "7/7 [==============================] - 1s 160ms/step - loss: 1.4311 - binary_accuracy: 0.8655 - val_loss: 8.3686 - val_binary_accuracy: 0.4286\n",
      "\n",
      "Epoch 00010: val_binary_accuracy did not improve from 0.42857\n",
      "Epoch 11/30\n",
      "7/7 [==============================] - 1s 161ms/step - loss: 1.1733 - binary_accuracy: 0.8655 - val_loss: 8.2902 - val_binary_accuracy: 0.4286\n",
      "\n",
      "Epoch 00011: val_binary_accuracy did not improve from 0.42857\n",
      "Epoch 12/30\n",
      "7/7 [==============================] - 1s 157ms/step - loss: 0.9438 - binary_accuracy: 0.8969 - val_loss: 8.0869 - val_binary_accuracy: 0.4643\n",
      "\n",
      "Epoch 00012: val_binary_accuracy improved from 0.42857 to 0.46429, saving model to /kaggle/working/datasets/01_MRI/Saved_CNN_Models/Testing/transfer_learning_model_dense169_2/AugTest/30epochs/transfer_learning_model_dense169_2_model_3.h5\n",
      "Epoch 13/30\n",
      "7/7 [==============================] - 1s 155ms/step - loss: 1.0799 - binary_accuracy: 0.8969 - val_loss: 8.0054 - val_binary_accuracy: 0.4643\n",
      "\n",
      "Epoch 00013: val_binary_accuracy did not improve from 0.46429\n",
      "Epoch 14/30\n",
      "7/7 [==============================] - 1s 158ms/step - loss: 1.0543 - binary_accuracy: 0.8924 - val_loss: 7.9934 - val_binary_accuracy: 0.4821\n",
      "\n",
      "Epoch 00014: val_binary_accuracy improved from 0.46429 to 0.48214, saving model to /kaggle/working/datasets/01_MRI/Saved_CNN_Models/Testing/transfer_learning_model_dense169_2/AugTest/30epochs/transfer_learning_model_dense169_2_model_3.h5\n",
      "Epoch 15/30\n",
      "7/7 [==============================] - 1s 163ms/step - loss: 0.8057 - binary_accuracy: 0.9103 - val_loss: 7.9879 - val_binary_accuracy: 0.4821\n",
      "\n",
      "Epoch 00015: val_binary_accuracy did not improve from 0.48214\n",
      "Epoch 16/30\n",
      "7/7 [==============================] - 1s 158ms/step - loss: 0.7086 - binary_accuracy: 0.9193 - val_loss: 7.9879 - val_binary_accuracy: 0.4821\n",
      "\n",
      "Epoch 00016: val_binary_accuracy did not improve from 0.48214\n",
      "Epoch 17/30\n",
      "7/7 [==============================] - 1s 165ms/step - loss: 0.6520 - binary_accuracy: 0.9283 - val_loss: 7.2426 - val_binary_accuracy: 0.4821\n",
      "\n",
      "Epoch 00017: val_binary_accuracy did not improve from 0.48214\n",
      "Epoch 18/30\n",
      "7/7 [==============================] - 1s 158ms/step - loss: 0.6918 - binary_accuracy: 0.9462 - val_loss: 6.5393 - val_binary_accuracy: 0.5000\n",
      "\n",
      "Epoch 00018: val_binary_accuracy improved from 0.48214 to 0.50000, saving model to /kaggle/working/datasets/01_MRI/Saved_CNN_Models/Testing/transfer_learning_model_dense169_2/AugTest/30epochs/transfer_learning_model_dense169_2_model_3.h5\n",
      "Epoch 19/30\n",
      "7/7 [==============================] - 1s 182ms/step - loss: 0.6998 - binary_accuracy: 0.9193 - val_loss: 5.5111 - val_binary_accuracy: 0.5357\n",
      "\n",
      "Epoch 00019: val_binary_accuracy improved from 0.50000 to 0.53571, saving model to /kaggle/working/datasets/01_MRI/Saved_CNN_Models/Testing/transfer_learning_model_dense169_2/AugTest/30epochs/transfer_learning_model_dense169_2_model_3.h5\n",
      "Epoch 20/30\n",
      "7/7 [==============================] - 1s 162ms/step - loss: 0.6175 - binary_accuracy: 0.9327 - val_loss: 5.3591 - val_binary_accuracy: 0.5714\n",
      "\n",
      "Epoch 00020: val_binary_accuracy improved from 0.53571 to 0.57143, saving model to /kaggle/working/datasets/01_MRI/Saved_CNN_Models/Testing/transfer_learning_model_dense169_2/AugTest/30epochs/transfer_learning_model_dense169_2_model_3.h5\n",
      "Epoch 21/30\n",
      "7/7 [==============================] - 1s 161ms/step - loss: 0.5555 - binary_accuracy: 0.9327 - val_loss: 5.1163 - val_binary_accuracy: 0.6250\n",
      "\n",
      "Epoch 00021: val_binary_accuracy improved from 0.57143 to 0.62500, saving model to /kaggle/working/datasets/01_MRI/Saved_CNN_Models/Testing/transfer_learning_model_dense169_2/AugTest/30epochs/transfer_learning_model_dense169_2_model_3.h5\n",
      "Epoch 22/30\n",
      "7/7 [==============================] - 1s 160ms/step - loss: 0.6208 - binary_accuracy: 0.9327 - val_loss: 5.1435 - val_binary_accuracy: 0.5893\n",
      "\n",
      "Epoch 00022: val_binary_accuracy did not improve from 0.62500\n",
      "Epoch 23/30\n",
      "7/7 [==============================] - 1s 154ms/step - loss: 0.5158 - binary_accuracy: 0.9507 - val_loss: 4.8627 - val_binary_accuracy: 0.6071\n",
      "\n",
      "Epoch 00023: val_binary_accuracy did not improve from 0.62500\n",
      "Epoch 24/30\n",
      "7/7 [==============================] - 1s 158ms/step - loss: 0.4913 - binary_accuracy: 0.9372 - val_loss: 4.7915 - val_binary_accuracy: 0.6250\n",
      "\n",
      "Epoch 00024: val_binary_accuracy did not improve from 0.62500\n",
      "Epoch 25/30\n",
      "7/7 [==============================] - 1s 158ms/step - loss: 0.4285 - binary_accuracy: 0.9552 - val_loss: 4.0634 - val_binary_accuracy: 0.6607\n",
      "\n",
      "Epoch 00025: val_binary_accuracy improved from 0.62500 to 0.66071, saving model to /kaggle/working/datasets/01_MRI/Saved_CNN_Models/Testing/transfer_learning_model_dense169_2/AugTest/30epochs/transfer_learning_model_dense169_2_model_3.h5\n",
      "Epoch 26/30\n",
      "7/7 [==============================] - 1s 160ms/step - loss: 0.2401 - binary_accuracy: 0.9731 - val_loss: 3.9677 - val_binary_accuracy: 0.6786\n",
      "\n",
      "Epoch 00026: val_binary_accuracy improved from 0.66071 to 0.67857, saving model to /kaggle/working/datasets/01_MRI/Saved_CNN_Models/Testing/transfer_learning_model_dense169_2/AugTest/30epochs/transfer_learning_model_dense169_2_model_3.h5\n",
      "Epoch 27/30\n",
      "7/7 [==============================] - 1s 166ms/step - loss: 0.5651 - binary_accuracy: 0.9462 - val_loss: 3.7587 - val_binary_accuracy: 0.6964\n",
      "\n",
      "Epoch 00027: val_binary_accuracy improved from 0.67857 to 0.69643, saving model to /kaggle/working/datasets/01_MRI/Saved_CNN_Models/Testing/transfer_learning_model_dense169_2/AugTest/30epochs/transfer_learning_model_dense169_2_model_3.h5\n",
      "Epoch 28/30\n",
      "7/7 [==============================] - 1s 168ms/step - loss: 0.3399 - binary_accuracy: 0.9731 - val_loss: 3.4290 - val_binary_accuracy: 0.7321\n",
      "\n",
      "Epoch 00028: val_binary_accuracy improved from 0.69643 to 0.73214, saving model to /kaggle/working/datasets/01_MRI/Saved_CNN_Models/Testing/transfer_learning_model_dense169_2/AugTest/30epochs/transfer_learning_model_dense169_2_model_3.h5\n",
      "Epoch 29/30\n",
      "7/7 [==============================] - 1s 157ms/step - loss: 0.3074 - binary_accuracy: 0.9686 - val_loss: 3.1276 - val_binary_accuracy: 0.7500\n",
      "\n",
      "Epoch 00029: val_binary_accuracy improved from 0.73214 to 0.75000, saving model to /kaggle/working/datasets/01_MRI/Saved_CNN_Models/Testing/transfer_learning_model_dense169_2/AugTest/30epochs/transfer_learning_model_dense169_2_model_3.h5\n",
      "Epoch 30/30\n",
      "7/7 [==============================] - 1s 160ms/step - loss: 0.3184 - binary_accuracy: 0.9596 - val_loss: 1.9196 - val_binary_accuracy: 0.7500\n",
      "\n",
      "Epoch 00030: val_binary_accuracy did not improve from 0.75000\n"
     ]
    },
    {
     "data": {
      "text/html": [
       "<div>                            <div id=\"80b9829e-89a4-4117-b812-8623df0ce634\" class=\"plotly-graph-div\" style=\"height:400px; width:800px;\"></div>            <script type=\"text/javascript\">                require([\"plotly\"], function(Plotly) {                    window.PLOTLYENV=window.PLOTLYENV || {};                                    if (document.getElementById(\"80b9829e-89a4-4117-b812-8623df0ce634\")) {                    Plotly.newPlot(                        \"80b9829e-89a4-4117-b812-8623df0ce634\",                        [{\"mode\":\"lines+markers\",\"name\":\"Training Accuracy\",\"y\":[0.560538113117218,0.7174887657165527,0.7713004350662231,0.7937219738960266,0.8116592168807983,0.8251121044158936,0.8385650515556335,0.865470826625824,0.8968609571456909,0.865470826625824,0.865470826625824,0.8968609571456909,0.8968609571456909,0.8923766613006592,0.9103139042854309,0.9192824959754944,0.9282511472702026,0.9461883306503296,0.9192824959754944,0.9327354431152344,0.9327354431152344,0.9327354431152344,0.9506726264953613,0.9372197389602661,0.9551569223403931,0.9730941653251648,0.9461883306503296,0.9730941653251648,0.9686098694801331,0.9596412777900696],\"type\":\"scatter\"},{\"mode\":\"lines+markers\",\"name\":\"Validation Accuracy\",\"y\":[0.4285714328289032,0.4285714328289032,0.4285714328289032,0.4285714328289032,0.4285714328289032,0.4285714328289032,0.4285714328289032,0.4285714328289032,0.4285714328289032,0.4285714328289032,0.4285714328289032,0.4642857015132904,0.4642857015132904,0.4821428656578064,0.4821428656578064,0.4821428656578064,0.4821428656578064,0.5,0.5357142686843872,0.5714285969734192,0.625,0.5892857313156128,0.6071428656578064,0.625,0.6607142686843872,0.6785714030265808,0.6964285969734192,0.7321428656578064,0.75,0.75],\"type\":\"scatter\"}],                        {\"template\":{\"data\":{\"histogram2dcontour\":[{\"type\":\"histogram2dcontour\",\"colorbar\":{\"outlinewidth\":0,\"ticks\":\"\"},\"colorscale\":[[0.0,\"#0d0887\"],[0.1111111111111111,\"#46039f\"],[0.2222222222222222,\"#7201a8\"],[0.3333333333333333,\"#9c179e\"],[0.4444444444444444,\"#bd3786\"],[0.5555555555555556,\"#d8576b\"],[0.6666666666666666,\"#ed7953\"],[0.7777777777777778,\"#fb9f3a\"],[0.8888888888888888,\"#fdca26\"],[1.0,\"#f0f921\"]]}],\"choropleth\":[{\"type\":\"choropleth\",\"colorbar\":{\"outlinewidth\":0,\"ticks\":\"\"}}],\"histogram2d\":[{\"type\":\"histogram2d\",\"colorbar\":{\"outlinewidth\":0,\"ticks\":\"\"},\"colorscale\":[[0.0,\"#0d0887\"],[0.1111111111111111,\"#46039f\"],[0.2222222222222222,\"#7201a8\"],[0.3333333333333333,\"#9c179e\"],[0.4444444444444444,\"#bd3786\"],[0.5555555555555556,\"#d8576b\"],[0.6666666666666666,\"#ed7953\"],[0.7777777777777778,\"#fb9f3a\"],[0.8888888888888888,\"#fdca26\"],[1.0,\"#f0f921\"]]}],\"heatmap\":[{\"type\":\"heatmap\",\"colorbar\":{\"outlinewidth\":0,\"ticks\":\"\"},\"colorscale\":[[0.0,\"#0d0887\"],[0.1111111111111111,\"#46039f\"],[0.2222222222222222,\"#7201a8\"],[0.3333333333333333,\"#9c179e\"],[0.4444444444444444,\"#bd3786\"],[0.5555555555555556,\"#d8576b\"],[0.6666666666666666,\"#ed7953\"],[0.7777777777777778,\"#fb9f3a\"],[0.8888888888888888,\"#fdca26\"],[1.0,\"#f0f921\"]]}],\"heatmapgl\":[{\"type\":\"heatmapgl\",\"colorbar\":{\"outlinewidth\":0,\"ticks\":\"\"},\"colorscale\":[[0.0,\"#0d0887\"],[0.1111111111111111,\"#46039f\"],[0.2222222222222222,\"#7201a8\"],[0.3333333333333333,\"#9c179e\"],[0.4444444444444444,\"#bd3786\"],[0.5555555555555556,\"#d8576b\"],[0.6666666666666666,\"#ed7953\"],[0.7777777777777778,\"#fb9f3a\"],[0.8888888888888888,\"#fdca26\"],[1.0,\"#f0f921\"]]}],\"contourcarpet\":[{\"type\":\"contourcarpet\",\"colorbar\":{\"outlinewidth\":0,\"ticks\":\"\"}}],\"contour\":[{\"type\":\"contour\",\"colorbar\":{\"outlinewidth\":0,\"ticks\":\"\"},\"colorscale\":[[0.0,\"#0d0887\"],[0.1111111111111111,\"#46039f\"],[0.2222222222222222,\"#7201a8\"],[0.3333333333333333,\"#9c179e\"],[0.4444444444444444,\"#bd3786\"],[0.5555555555555556,\"#d8576b\"],[0.6666666666666666,\"#ed7953\"],[0.7777777777777778,\"#fb9f3a\"],[0.8888888888888888,\"#fdca26\"],[1.0,\"#f0f921\"]]}],\"surface\":[{\"type\":\"surface\",\"colorbar\":{\"outlinewidth\":0,\"ticks\":\"\"},\"colorscale\":[[0.0,\"#0d0887\"],[0.1111111111111111,\"#46039f\"],[0.2222222222222222,\"#7201a8\"],[0.3333333333333333,\"#9c179e\"],[0.4444444444444444,\"#bd3786\"],[0.5555555555555556,\"#d8576b\"],[0.6666666666666666,\"#ed7953\"],[0.7777777777777778,\"#fb9f3a\"],[0.8888888888888888,\"#fdca26\"],[1.0,\"#f0f921\"]]}],\"mesh3d\":[{\"type\":\"mesh3d\",\"colorbar\":{\"outlinewidth\":0,\"ticks\":\"\"}}],\"scatter\":[{\"fillpattern\":{\"fillmode\":\"overlay\",\"size\":10,\"solidity\":0.2},\"type\":\"scatter\"}],\"parcoords\":[{\"type\":\"parcoords\",\"line\":{\"colorbar\":{\"outlinewidth\":0,\"ticks\":\"\"}}}],\"scatterpolargl\":[{\"type\":\"scatterpolargl\",\"marker\":{\"colorbar\":{\"outlinewidth\":0,\"ticks\":\"\"}}}],\"bar\":[{\"error_x\":{\"color\":\"#2a3f5f\"},\"error_y\":{\"color\":\"#2a3f5f\"},\"marker\":{\"line\":{\"color\":\"#E5ECF6\",\"width\":0.5},\"pattern\":{\"fillmode\":\"overlay\",\"size\":10,\"solidity\":0.2}},\"type\":\"bar\"}],\"scattergeo\":[{\"type\":\"scattergeo\",\"marker\":{\"colorbar\":{\"outlinewidth\":0,\"ticks\":\"\"}}}],\"scatterpolar\":[{\"type\":\"scatterpolar\",\"marker\":{\"colorbar\":{\"outlinewidth\":0,\"ticks\":\"\"}}}],\"histogram\":[{\"marker\":{\"pattern\":{\"fillmode\":\"overlay\",\"size\":10,\"solidity\":0.2}},\"type\":\"histogram\"}],\"scattergl\":[{\"type\":\"scattergl\",\"marker\":{\"colorbar\":{\"outlinewidth\":0,\"ticks\":\"\"}}}],\"scatter3d\":[{\"type\":\"scatter3d\",\"line\":{\"colorbar\":{\"outlinewidth\":0,\"ticks\":\"\"}},\"marker\":{\"colorbar\":{\"outlinewidth\":0,\"ticks\":\"\"}}}],\"scattermapbox\":[{\"type\":\"scattermapbox\",\"marker\":{\"colorbar\":{\"outlinewidth\":0,\"ticks\":\"\"}}}],\"scatterternary\":[{\"type\":\"scatterternary\",\"marker\":{\"colorbar\":{\"outlinewidth\":0,\"ticks\":\"\"}}}],\"scattercarpet\":[{\"type\":\"scattercarpet\",\"marker\":{\"colorbar\":{\"outlinewidth\":0,\"ticks\":\"\"}}}],\"carpet\":[{\"aaxis\":{\"endlinecolor\":\"#2a3f5f\",\"gridcolor\":\"white\",\"linecolor\":\"white\",\"minorgridcolor\":\"white\",\"startlinecolor\":\"#2a3f5f\"},\"baxis\":{\"endlinecolor\":\"#2a3f5f\",\"gridcolor\":\"white\",\"linecolor\":\"white\",\"minorgridcolor\":\"white\",\"startlinecolor\":\"#2a3f5f\"},\"type\":\"carpet\"}],\"table\":[{\"cells\":{\"fill\":{\"color\":\"#EBF0F8\"},\"line\":{\"color\":\"white\"}},\"header\":{\"fill\":{\"color\":\"#C8D4E3\"},\"line\":{\"color\":\"white\"}},\"type\":\"table\"}],\"barpolar\":[{\"marker\":{\"line\":{\"color\":\"#E5ECF6\",\"width\":0.5},\"pattern\":{\"fillmode\":\"overlay\",\"size\":10,\"solidity\":0.2}},\"type\":\"barpolar\"}],\"pie\":[{\"automargin\":true,\"type\":\"pie\"}]},\"layout\":{\"autotypenumbers\":\"strict\",\"colorway\":[\"#636efa\",\"#EF553B\",\"#00cc96\",\"#ab63fa\",\"#FFA15A\",\"#19d3f3\",\"#FF6692\",\"#B6E880\",\"#FF97FF\",\"#FECB52\"],\"font\":{\"color\":\"#2a3f5f\"},\"hovermode\":\"closest\",\"hoverlabel\":{\"align\":\"left\"},\"paper_bgcolor\":\"white\",\"plot_bgcolor\":\"#E5ECF6\",\"polar\":{\"bgcolor\":\"#E5ECF6\",\"angularaxis\":{\"gridcolor\":\"white\",\"linecolor\":\"white\",\"ticks\":\"\"},\"radialaxis\":{\"gridcolor\":\"white\",\"linecolor\":\"white\",\"ticks\":\"\"}},\"ternary\":{\"bgcolor\":\"#E5ECF6\",\"aaxis\":{\"gridcolor\":\"white\",\"linecolor\":\"white\",\"ticks\":\"\"},\"baxis\":{\"gridcolor\":\"white\",\"linecolor\":\"white\",\"ticks\":\"\"},\"caxis\":{\"gridcolor\":\"white\",\"linecolor\":\"white\",\"ticks\":\"\"}},\"coloraxis\":{\"colorbar\":{\"outlinewidth\":0,\"ticks\":\"\"}},\"colorscale\":{\"sequential\":[[0.0,\"#0d0887\"],[0.1111111111111111,\"#46039f\"],[0.2222222222222222,\"#7201a8\"],[0.3333333333333333,\"#9c179e\"],[0.4444444444444444,\"#bd3786\"],[0.5555555555555556,\"#d8576b\"],[0.6666666666666666,\"#ed7953\"],[0.7777777777777778,\"#fb9f3a\"],[0.8888888888888888,\"#fdca26\"],[1.0,\"#f0f921\"]],\"sequentialminus\":[[0.0,\"#0d0887\"],[0.1111111111111111,\"#46039f\"],[0.2222222222222222,\"#7201a8\"],[0.3333333333333333,\"#9c179e\"],[0.4444444444444444,\"#bd3786\"],[0.5555555555555556,\"#d8576b\"],[0.6666666666666666,\"#ed7953\"],[0.7777777777777778,\"#fb9f3a\"],[0.8888888888888888,\"#fdca26\"],[1.0,\"#f0f921\"]],\"diverging\":[[0,\"#8e0152\"],[0.1,\"#c51b7d\"],[0.2,\"#de77ae\"],[0.3,\"#f1b6da\"],[0.4,\"#fde0ef\"],[0.5,\"#f7f7f7\"],[0.6,\"#e6f5d0\"],[0.7,\"#b8e186\"],[0.8,\"#7fbc41\"],[0.9,\"#4d9221\"],[1,\"#276419\"]]},\"xaxis\":{\"gridcolor\":\"white\",\"linecolor\":\"white\",\"ticks\":\"\",\"title\":{\"standoff\":15},\"zerolinecolor\":\"white\",\"automargin\":true,\"zerolinewidth\":2},\"yaxis\":{\"gridcolor\":\"white\",\"linecolor\":\"white\",\"ticks\":\"\",\"title\":{\"standoff\":15},\"zerolinecolor\":\"white\",\"automargin\":true,\"zerolinewidth\":2},\"scene\":{\"xaxis\":{\"backgroundcolor\":\"#E5ECF6\",\"gridcolor\":\"white\",\"linecolor\":\"white\",\"showbackground\":true,\"ticks\":\"\",\"zerolinecolor\":\"white\",\"gridwidth\":2},\"yaxis\":{\"backgroundcolor\":\"#E5ECF6\",\"gridcolor\":\"white\",\"linecolor\":\"white\",\"showbackground\":true,\"ticks\":\"\",\"zerolinecolor\":\"white\",\"gridwidth\":2},\"zaxis\":{\"backgroundcolor\":\"#E5ECF6\",\"gridcolor\":\"white\",\"linecolor\":\"white\",\"showbackground\":true,\"ticks\":\"\",\"zerolinecolor\":\"white\",\"gridwidth\":2}},\"shapedefaults\":{\"line\":{\"color\":\"#2a3f5f\"}},\"annotationdefaults\":{\"arrowcolor\":\"#2a3f5f\",\"arrowhead\":0,\"arrowwidth\":1},\"geo\":{\"bgcolor\":\"white\",\"landcolor\":\"#E5ECF6\",\"subunitcolor\":\"white\",\"showland\":true,\"showlakes\":true,\"lakecolor\":\"white\"},\"title\":{\"x\":0.05},\"mapbox\":{\"style\":\"light\"}}},\"yaxis\":{\"range\":[0.4,1],\"title\":{\"text\":\"Accuracy\"}},\"title\":{\"text\":\"Fold 3's performance\",\"x\":0.5},\"margin\":{\"l\":20,\"r\":20,\"t\":40,\"b\":20},\"xaxis\":{\"title\":{\"text\":\"Epochs\"}},\"autosize\":false,\"width\":800,\"height\":400},                        {\"responsive\": true}                    ).then(function(){\n",
       "                            \n",
       "var gd = document.getElementById('80b9829e-89a4-4117-b812-8623df0ce634');\n",
       "var x = new MutationObserver(function (mutations, observer) {{\n",
       "        var display = window.getComputedStyle(gd).display;\n",
       "        if (!display || display === 'none') {{\n",
       "            console.log([gd, 'removed!']);\n",
       "            Plotly.purge(gd);\n",
       "            observer.disconnect();\n",
       "        }}\n",
       "}});\n",
       "\n",
       "// Listen for the removal of the full notebook cells\n",
       "var notebookContainer = gd.closest('#notebook-container');\n",
       "if (notebookContainer) {{\n",
       "    x.observe(notebookContainer, {childList: true});\n",
       "}}\n",
       "\n",
       "// Listen for the clearing of the current output cell\n",
       "var outputEl = gd.closest('.output');\n",
       "if (outputEl) {{\n",
       "    x.observe(outputEl, {childList: true});\n",
       "}}\n",
       "\n",
       "                        })                };                });            </script>        </div>"
      ]
     },
     "metadata": {},
     "output_type": "display_data"
    },
    {
     "name": "stdout",
     "output_type": "stream",
     "text": [
      "4/4 [==============================] - 1s 106ms/step - loss: 2.5629 - binary_accuracy: 0.7769\n",
      "Found 223 validated image filenames belonging to 2 classes.\n",
      "Found 56 validated image filenames belonging to 2 classes.\n",
      "Epoch 1/30\n",
      "7/7 [==============================] - 13s 555ms/step - loss: 4.2586 - binary_accuracy: 0.5830 - val_loss: 8.8143 - val_binary_accuracy: 0.4286\n",
      "\n",
      "Epoch 00001: val_binary_accuracy improved from -inf to 0.42857, saving model to /kaggle/working/datasets/01_MRI/Saved_CNN_Models/Testing/transfer_learning_model_dense169_2/AugTest/30epochs/transfer_learning_model_dense169_2_model_4.h5\n",
      "Epoch 2/30\n",
      "7/7 [==============================] - 1s 165ms/step - loss: 2.4882 - binary_accuracy: 0.7309 - val_loss: 8.8143 - val_binary_accuracy: 0.4286\n",
      "\n",
      "Epoch 00002: val_binary_accuracy did not improve from 0.42857\n",
      "Epoch 3/30\n",
      "7/7 [==============================] - 1s 158ms/step - loss: 1.5822 - binary_accuracy: 0.8341 - val_loss: 8.8143 - val_binary_accuracy: 0.4286\n",
      "\n",
      "Epoch 00003: val_binary_accuracy did not improve from 0.42857\n",
      "Epoch 4/30\n",
      "7/7 [==============================] - 1s 194ms/step - loss: 1.1994 - binary_accuracy: 0.8520 - val_loss: 8.0168 - val_binary_accuracy: 0.4821\n",
      "\n",
      "Epoch 00004: val_binary_accuracy improved from 0.42857 to 0.48214, saving model to /kaggle/working/datasets/01_MRI/Saved_CNN_Models/Testing/transfer_learning_model_dense169_2/AugTest/30epochs/transfer_learning_model_dense169_2_model_4.h5\n",
      "Epoch 5/30\n",
      "7/7 [==============================] - 1s 156ms/step - loss: 1.0832 - binary_accuracy: 0.8924 - val_loss: 6.7363 - val_binary_accuracy: 0.5179\n",
      "\n",
      "Epoch 00005: val_binary_accuracy improved from 0.48214 to 0.51786, saving model to /kaggle/working/datasets/01_MRI/Saved_CNN_Models/Testing/transfer_learning_model_dense169_2/AugTest/30epochs/transfer_learning_model_dense169_2_model_4.h5\n",
      "Epoch 6/30\n",
      "7/7 [==============================] - 1s 171ms/step - loss: 0.4573 - binary_accuracy: 0.9148 - val_loss: 6.4297 - val_binary_accuracy: 0.5179\n",
      "\n",
      "Epoch 00006: val_binary_accuracy did not improve from 0.51786\n",
      "Epoch 7/30\n",
      "7/7 [==============================] - 1s 170ms/step - loss: 0.7525 - binary_accuracy: 0.9193 - val_loss: 5.9141 - val_binary_accuracy: 0.5536\n",
      "\n",
      "Epoch 00007: val_binary_accuracy improved from 0.51786 to 0.55357, saving model to /kaggle/working/datasets/01_MRI/Saved_CNN_Models/Testing/transfer_learning_model_dense169_2/AugTest/30epochs/transfer_learning_model_dense169_2_model_4.h5\n",
      "Epoch 8/30\n",
      "7/7 [==============================] - 1s 154ms/step - loss: 0.5788 - binary_accuracy: 0.9103 - val_loss: 4.9581 - val_binary_accuracy: 0.5893\n",
      "\n",
      "Epoch 00008: val_binary_accuracy improved from 0.55357 to 0.58929, saving model to /kaggle/working/datasets/01_MRI/Saved_CNN_Models/Testing/transfer_learning_model_dense169_2/AugTest/30epochs/transfer_learning_model_dense169_2_model_4.h5\n",
      "Epoch 9/30\n",
      "7/7 [==============================] - 1s 196ms/step - loss: 0.3758 - binary_accuracy: 0.9552 - val_loss: 4.0732 - val_binary_accuracy: 0.6250\n",
      "\n",
      "Epoch 00009: val_binary_accuracy improved from 0.58929 to 0.62500, saving model to /kaggle/working/datasets/01_MRI/Saved_CNN_Models/Testing/transfer_learning_model_dense169_2/AugTest/30epochs/transfer_learning_model_dense169_2_model_4.h5\n",
      "Epoch 10/30\n",
      "7/7 [==============================] - 1s 207ms/step - loss: 0.1909 - binary_accuracy: 0.9731 - val_loss: 1.8365 - val_binary_accuracy: 0.8036\n",
      "\n",
      "Epoch 00010: val_binary_accuracy improved from 0.62500 to 0.80357, saving model to /kaggle/working/datasets/01_MRI/Saved_CNN_Models/Testing/transfer_learning_model_dense169_2/AugTest/30epochs/transfer_learning_model_dense169_2_model_4.h5\n",
      "Epoch 11/30\n",
      "7/7 [==============================] - 1s 193ms/step - loss: 0.2792 - binary_accuracy: 0.9641 - val_loss: 1.4503 - val_binary_accuracy: 0.8750\n",
      "\n",
      "Epoch 00011: val_binary_accuracy improved from 0.80357 to 0.87500, saving model to /kaggle/working/datasets/01_MRI/Saved_CNN_Models/Testing/transfer_learning_model_dense169_2/AugTest/30epochs/transfer_learning_model_dense169_2_model_4.h5\n",
      "Epoch 12/30\n",
      "7/7 [==============================] - 1s 163ms/step - loss: 0.1490 - binary_accuracy: 0.9686 - val_loss: 1.1946 - val_binary_accuracy: 0.8929\n",
      "\n",
      "Epoch 00012: val_binary_accuracy improved from 0.87500 to 0.89286, saving model to /kaggle/working/datasets/01_MRI/Saved_CNN_Models/Testing/transfer_learning_model_dense169_2/AugTest/30epochs/transfer_learning_model_dense169_2_model_4.h5\n",
      "Epoch 13/30\n",
      "7/7 [==============================] - 1s 192ms/step - loss: 0.0895 - binary_accuracy: 0.9821 - val_loss: 0.4663 - val_binary_accuracy: 0.8929\n",
      "\n",
      "Epoch 00013: val_binary_accuracy did not improve from 0.89286\n",
      "Epoch 14/30\n",
      "7/7 [==============================] - 1s 158ms/step - loss: 0.0176 - binary_accuracy: 0.9865 - val_loss: 0.4187 - val_binary_accuracy: 0.8929\n",
      "\n",
      "Epoch 00014: val_binary_accuracy did not improve from 0.89286\n",
      "Epoch 15/30\n",
      "7/7 [==============================] - 1s 169ms/step - loss: 0.0073 - binary_accuracy: 0.9955 - val_loss: 0.1771 - val_binary_accuracy: 0.9107\n",
      "\n",
      "Epoch 00015: val_binary_accuracy improved from 0.89286 to 0.91071, saving model to /kaggle/working/datasets/01_MRI/Saved_CNN_Models/Testing/transfer_learning_model_dense169_2/AugTest/30epochs/transfer_learning_model_dense169_2_model_4.h5\n",
      "Epoch 16/30\n",
      "7/7 [==============================] - 1s 154ms/step - loss: 0.0037 - binary_accuracy: 0.9955 - val_loss: 0.1418 - val_binary_accuracy: 0.9107\n",
      "\n",
      "Epoch 00016: val_binary_accuracy did not improve from 0.91071\n",
      "Epoch 17/30\n",
      "7/7 [==============================] - 1s 159ms/step - loss: 0.0734 - binary_accuracy: 0.9865 - val_loss: 0.1223 - val_binary_accuracy: 0.9107\n",
      "\n",
      "Epoch 00017: val_binary_accuracy did not improve from 0.91071\n",
      "Epoch 18/30\n",
      "7/7 [==============================] - 1s 154ms/step - loss: 0.0274 - binary_accuracy: 0.9865 - val_loss: 0.1142 - val_binary_accuracy: 0.9107\n",
      "\n",
      "Epoch 00018: val_binary_accuracy did not improve from 0.91071\n",
      "Epoch 19/30\n",
      "7/7 [==============================] - 1s 165ms/step - loss: 0.0142 - binary_accuracy: 0.9910 - val_loss: 0.0993 - val_binary_accuracy: 0.9464\n",
      "\n",
      "Epoch 00019: val_binary_accuracy improved from 0.91071 to 0.94643, saving model to /kaggle/working/datasets/01_MRI/Saved_CNN_Models/Testing/transfer_learning_model_dense169_2/AugTest/30epochs/transfer_learning_model_dense169_2_model_4.h5\n",
      "Epoch 20/30\n",
      "7/7 [==============================] - 1s 205ms/step - loss: 0.0021 - binary_accuracy: 1.0000 - val_loss: 0.0891 - val_binary_accuracy: 0.9464\n",
      "\n",
      "Epoch 00020: val_binary_accuracy did not improve from 0.94643\n",
      "Epoch 21/30\n",
      "7/7 [==============================] - 1s 174ms/step - loss: 0.0119 - binary_accuracy: 0.9910 - val_loss: 0.0869 - val_binary_accuracy: 0.9643\n",
      "\n",
      "Epoch 00021: val_binary_accuracy improved from 0.94643 to 0.96429, saving model to /kaggle/working/datasets/01_MRI/Saved_CNN_Models/Testing/transfer_learning_model_dense169_2/AugTest/30epochs/transfer_learning_model_dense169_2_model_4.h5\n",
      "Epoch 22/30\n",
      "7/7 [==============================] - 1s 160ms/step - loss: 0.0171 - binary_accuracy: 0.9910 - val_loss: 0.1016 - val_binary_accuracy: 0.9286\n",
      "\n",
      "Epoch 00022: val_binary_accuracy did not improve from 0.96429\n",
      "Epoch 23/30\n",
      "7/7 [==============================] - 1s 164ms/step - loss: 0.0036 - binary_accuracy: 1.0000 - val_loss: 0.1135 - val_binary_accuracy: 0.9286\n",
      "\n",
      "Epoch 00023: val_binary_accuracy did not improve from 0.96429\n",
      "Epoch 24/30\n",
      "7/7 [==============================] - 1s 156ms/step - loss: 0.0031 - binary_accuracy: 1.0000 - val_loss: 0.1214 - val_binary_accuracy: 0.9464\n",
      "\n",
      "Epoch 00024: val_binary_accuracy did not improve from 0.96429\n",
      "Epoch 25/30\n",
      "7/7 [==============================] - 1s 165ms/step - loss: 0.0036 - binary_accuracy: 0.9955 - val_loss: 0.1341 - val_binary_accuracy: 0.9464\n",
      "\n",
      "Epoch 00025: val_binary_accuracy did not improve from 0.96429\n",
      "Epoch 26/30\n",
      "7/7 [==============================] - 1s 152ms/step - loss: 0.0000e+00 - binary_accuracy: 1.0000 - val_loss: 0.1565 - val_binary_accuracy: 0.9464\n",
      "\n",
      "Epoch 00026: val_binary_accuracy did not improve from 0.96429\n",
      "Epoch 27/30\n",
      "7/7 [==============================] - 1s 166ms/step - loss: 0.0045 - binary_accuracy: 1.0000 - val_loss: 0.1534 - val_binary_accuracy: 0.9464\n",
      "\n",
      "Epoch 00027: val_binary_accuracy did not improve from 0.96429\n",
      "Epoch 28/30\n",
      "7/7 [==============================] - 2s 238ms/step - loss: 0.0000e+00 - binary_accuracy: 1.0000 - val_loss: 0.1443 - val_binary_accuracy: 0.9464\n",
      "\n",
      "Epoch 00028: val_binary_accuracy did not improve from 0.96429\n",
      "Epoch 29/30\n",
      "7/7 [==============================] - 1s 159ms/step - loss: 0.0136 - binary_accuracy: 0.9910 - val_loss: 0.3310 - val_binary_accuracy: 0.9464\n",
      "\n",
      "Epoch 00029: val_binary_accuracy did not improve from 0.96429\n",
      "Epoch 30/30\n",
      "7/7 [==============================] - 1s 162ms/step - loss: 2.7436e-04 - binary_accuracy: 1.0000 - val_loss: 0.3274 - val_binary_accuracy: 0.9464\n",
      "\n",
      "Epoch 00030: val_binary_accuracy did not improve from 0.96429\n"
     ]
    },
    {
     "data": {
      "text/html": [
       "<div>                            <div id=\"9e0a5126-a67f-4f88-af67-3c82c12bedd1\" class=\"plotly-graph-div\" style=\"height:400px; width:800px;\"></div>            <script type=\"text/javascript\">                require([\"plotly\"], function(Plotly) {                    window.PLOTLYENV=window.PLOTLYENV || {};                                    if (document.getElementById(\"9e0a5126-a67f-4f88-af67-3c82c12bedd1\")) {                    Plotly.newPlot(                        \"9e0a5126-a67f-4f88-af67-3c82c12bedd1\",                        [{\"mode\":\"lines+markers\",\"name\":\"Training Accuracy\",\"y\":[0.5829596519470215,0.7309417128562927,0.834080696105957,0.8520179390907288,0.8923766613006592,0.9147982001304626,0.9192824959754944,0.9103139042854309,0.9551569223403931,0.9730941653251648,0.9641255736351013,0.9686098694801331,0.9820627570152283,0.9865471124649048,0.9955157041549683,0.9955157041549683,0.9865471124649048,0.9865471124649048,0.9910314083099365,1.0,0.9910314083099365,0.9910314083099365,1.0,1.0,0.9955157041549683,1.0,1.0,1.0,0.9910314083099365,1.0],\"type\":\"scatter\"},{\"mode\":\"lines+markers\",\"name\":\"Validation Accuracy\",\"y\":[0.4285714328289032,0.4285714328289032,0.4285714328289032,0.4821428656578064,0.5178571343421936,0.5178571343421936,0.5535714030265808,0.5892857313156128,0.625,0.8035714030265808,0.875,0.8928571343421936,0.8928571343421936,0.8928571343421936,0.9107142686843872,0.9107142686843872,0.9107142686843872,0.9107142686843872,0.9464285969734192,0.9464285969734192,0.9642857313156128,0.9285714030265808,0.9285714030265808,0.9464285969734192,0.9464285969734192,0.9464285969734192,0.9464285969734192,0.9464285969734192,0.9464285969734192,0.9464285969734192],\"type\":\"scatter\"}],                        {\"template\":{\"data\":{\"histogram2dcontour\":[{\"type\":\"histogram2dcontour\",\"colorbar\":{\"outlinewidth\":0,\"ticks\":\"\"},\"colorscale\":[[0.0,\"#0d0887\"],[0.1111111111111111,\"#46039f\"],[0.2222222222222222,\"#7201a8\"],[0.3333333333333333,\"#9c179e\"],[0.4444444444444444,\"#bd3786\"],[0.5555555555555556,\"#d8576b\"],[0.6666666666666666,\"#ed7953\"],[0.7777777777777778,\"#fb9f3a\"],[0.8888888888888888,\"#fdca26\"],[1.0,\"#f0f921\"]]}],\"choropleth\":[{\"type\":\"choropleth\",\"colorbar\":{\"outlinewidth\":0,\"ticks\":\"\"}}],\"histogram2d\":[{\"type\":\"histogram2d\",\"colorbar\":{\"outlinewidth\":0,\"ticks\":\"\"},\"colorscale\":[[0.0,\"#0d0887\"],[0.1111111111111111,\"#46039f\"],[0.2222222222222222,\"#7201a8\"],[0.3333333333333333,\"#9c179e\"],[0.4444444444444444,\"#bd3786\"],[0.5555555555555556,\"#d8576b\"],[0.6666666666666666,\"#ed7953\"],[0.7777777777777778,\"#fb9f3a\"],[0.8888888888888888,\"#fdca26\"],[1.0,\"#f0f921\"]]}],\"heatmap\":[{\"type\":\"heatmap\",\"colorbar\":{\"outlinewidth\":0,\"ticks\":\"\"},\"colorscale\":[[0.0,\"#0d0887\"],[0.1111111111111111,\"#46039f\"],[0.2222222222222222,\"#7201a8\"],[0.3333333333333333,\"#9c179e\"],[0.4444444444444444,\"#bd3786\"],[0.5555555555555556,\"#d8576b\"],[0.6666666666666666,\"#ed7953\"],[0.7777777777777778,\"#fb9f3a\"],[0.8888888888888888,\"#fdca26\"],[1.0,\"#f0f921\"]]}],\"heatmapgl\":[{\"type\":\"heatmapgl\",\"colorbar\":{\"outlinewidth\":0,\"ticks\":\"\"},\"colorscale\":[[0.0,\"#0d0887\"],[0.1111111111111111,\"#46039f\"],[0.2222222222222222,\"#7201a8\"],[0.3333333333333333,\"#9c179e\"],[0.4444444444444444,\"#bd3786\"],[0.5555555555555556,\"#d8576b\"],[0.6666666666666666,\"#ed7953\"],[0.7777777777777778,\"#fb9f3a\"],[0.8888888888888888,\"#fdca26\"],[1.0,\"#f0f921\"]]}],\"contourcarpet\":[{\"type\":\"contourcarpet\",\"colorbar\":{\"outlinewidth\":0,\"ticks\":\"\"}}],\"contour\":[{\"type\":\"contour\",\"colorbar\":{\"outlinewidth\":0,\"ticks\":\"\"},\"colorscale\":[[0.0,\"#0d0887\"],[0.1111111111111111,\"#46039f\"],[0.2222222222222222,\"#7201a8\"],[0.3333333333333333,\"#9c179e\"],[0.4444444444444444,\"#bd3786\"],[0.5555555555555556,\"#d8576b\"],[0.6666666666666666,\"#ed7953\"],[0.7777777777777778,\"#fb9f3a\"],[0.8888888888888888,\"#fdca26\"],[1.0,\"#f0f921\"]]}],\"surface\":[{\"type\":\"surface\",\"colorbar\":{\"outlinewidth\":0,\"ticks\":\"\"},\"colorscale\":[[0.0,\"#0d0887\"],[0.1111111111111111,\"#46039f\"],[0.2222222222222222,\"#7201a8\"],[0.3333333333333333,\"#9c179e\"],[0.4444444444444444,\"#bd3786\"],[0.5555555555555556,\"#d8576b\"],[0.6666666666666666,\"#ed7953\"],[0.7777777777777778,\"#fb9f3a\"],[0.8888888888888888,\"#fdca26\"],[1.0,\"#f0f921\"]]}],\"mesh3d\":[{\"type\":\"mesh3d\",\"colorbar\":{\"outlinewidth\":0,\"ticks\":\"\"}}],\"scatter\":[{\"fillpattern\":{\"fillmode\":\"overlay\",\"size\":10,\"solidity\":0.2},\"type\":\"scatter\"}],\"parcoords\":[{\"type\":\"parcoords\",\"line\":{\"colorbar\":{\"outlinewidth\":0,\"ticks\":\"\"}}}],\"scatterpolargl\":[{\"type\":\"scatterpolargl\",\"marker\":{\"colorbar\":{\"outlinewidth\":0,\"ticks\":\"\"}}}],\"bar\":[{\"error_x\":{\"color\":\"#2a3f5f\"},\"error_y\":{\"color\":\"#2a3f5f\"},\"marker\":{\"line\":{\"color\":\"#E5ECF6\",\"width\":0.5},\"pattern\":{\"fillmode\":\"overlay\",\"size\":10,\"solidity\":0.2}},\"type\":\"bar\"}],\"scattergeo\":[{\"type\":\"scattergeo\",\"marker\":{\"colorbar\":{\"outlinewidth\":0,\"ticks\":\"\"}}}],\"scatterpolar\":[{\"type\":\"scatterpolar\",\"marker\":{\"colorbar\":{\"outlinewidth\":0,\"ticks\":\"\"}}}],\"histogram\":[{\"marker\":{\"pattern\":{\"fillmode\":\"overlay\",\"size\":10,\"solidity\":0.2}},\"type\":\"histogram\"}],\"scattergl\":[{\"type\":\"scattergl\",\"marker\":{\"colorbar\":{\"outlinewidth\":0,\"ticks\":\"\"}}}],\"scatter3d\":[{\"type\":\"scatter3d\",\"line\":{\"colorbar\":{\"outlinewidth\":0,\"ticks\":\"\"}},\"marker\":{\"colorbar\":{\"outlinewidth\":0,\"ticks\":\"\"}}}],\"scattermapbox\":[{\"type\":\"scattermapbox\",\"marker\":{\"colorbar\":{\"outlinewidth\":0,\"ticks\":\"\"}}}],\"scatterternary\":[{\"type\":\"scatterternary\",\"marker\":{\"colorbar\":{\"outlinewidth\":0,\"ticks\":\"\"}}}],\"scattercarpet\":[{\"type\":\"scattercarpet\",\"marker\":{\"colorbar\":{\"outlinewidth\":0,\"ticks\":\"\"}}}],\"carpet\":[{\"aaxis\":{\"endlinecolor\":\"#2a3f5f\",\"gridcolor\":\"white\",\"linecolor\":\"white\",\"minorgridcolor\":\"white\",\"startlinecolor\":\"#2a3f5f\"},\"baxis\":{\"endlinecolor\":\"#2a3f5f\",\"gridcolor\":\"white\",\"linecolor\":\"white\",\"minorgridcolor\":\"white\",\"startlinecolor\":\"#2a3f5f\"},\"type\":\"carpet\"}],\"table\":[{\"cells\":{\"fill\":{\"color\":\"#EBF0F8\"},\"line\":{\"color\":\"white\"}},\"header\":{\"fill\":{\"color\":\"#C8D4E3\"},\"line\":{\"color\":\"white\"}},\"type\":\"table\"}],\"barpolar\":[{\"marker\":{\"line\":{\"color\":\"#E5ECF6\",\"width\":0.5},\"pattern\":{\"fillmode\":\"overlay\",\"size\":10,\"solidity\":0.2}},\"type\":\"barpolar\"}],\"pie\":[{\"automargin\":true,\"type\":\"pie\"}]},\"layout\":{\"autotypenumbers\":\"strict\",\"colorway\":[\"#636efa\",\"#EF553B\",\"#00cc96\",\"#ab63fa\",\"#FFA15A\",\"#19d3f3\",\"#FF6692\",\"#B6E880\",\"#FF97FF\",\"#FECB52\"],\"font\":{\"color\":\"#2a3f5f\"},\"hovermode\":\"closest\",\"hoverlabel\":{\"align\":\"left\"},\"paper_bgcolor\":\"white\",\"plot_bgcolor\":\"#E5ECF6\",\"polar\":{\"bgcolor\":\"#E5ECF6\",\"angularaxis\":{\"gridcolor\":\"white\",\"linecolor\":\"white\",\"ticks\":\"\"},\"radialaxis\":{\"gridcolor\":\"white\",\"linecolor\":\"white\",\"ticks\":\"\"}},\"ternary\":{\"bgcolor\":\"#E5ECF6\",\"aaxis\":{\"gridcolor\":\"white\",\"linecolor\":\"white\",\"ticks\":\"\"},\"baxis\":{\"gridcolor\":\"white\",\"linecolor\":\"white\",\"ticks\":\"\"},\"caxis\":{\"gridcolor\":\"white\",\"linecolor\":\"white\",\"ticks\":\"\"}},\"coloraxis\":{\"colorbar\":{\"outlinewidth\":0,\"ticks\":\"\"}},\"colorscale\":{\"sequential\":[[0.0,\"#0d0887\"],[0.1111111111111111,\"#46039f\"],[0.2222222222222222,\"#7201a8\"],[0.3333333333333333,\"#9c179e\"],[0.4444444444444444,\"#bd3786\"],[0.5555555555555556,\"#d8576b\"],[0.6666666666666666,\"#ed7953\"],[0.7777777777777778,\"#fb9f3a\"],[0.8888888888888888,\"#fdca26\"],[1.0,\"#f0f921\"]],\"sequentialminus\":[[0.0,\"#0d0887\"],[0.1111111111111111,\"#46039f\"],[0.2222222222222222,\"#7201a8\"],[0.3333333333333333,\"#9c179e\"],[0.4444444444444444,\"#bd3786\"],[0.5555555555555556,\"#d8576b\"],[0.6666666666666666,\"#ed7953\"],[0.7777777777777778,\"#fb9f3a\"],[0.8888888888888888,\"#fdca26\"],[1.0,\"#f0f921\"]],\"diverging\":[[0,\"#8e0152\"],[0.1,\"#c51b7d\"],[0.2,\"#de77ae\"],[0.3,\"#f1b6da\"],[0.4,\"#fde0ef\"],[0.5,\"#f7f7f7\"],[0.6,\"#e6f5d0\"],[0.7,\"#b8e186\"],[0.8,\"#7fbc41\"],[0.9,\"#4d9221\"],[1,\"#276419\"]]},\"xaxis\":{\"gridcolor\":\"white\",\"linecolor\":\"white\",\"ticks\":\"\",\"title\":{\"standoff\":15},\"zerolinecolor\":\"white\",\"automargin\":true,\"zerolinewidth\":2},\"yaxis\":{\"gridcolor\":\"white\",\"linecolor\":\"white\",\"ticks\":\"\",\"title\":{\"standoff\":15},\"zerolinecolor\":\"white\",\"automargin\":true,\"zerolinewidth\":2},\"scene\":{\"xaxis\":{\"backgroundcolor\":\"#E5ECF6\",\"gridcolor\":\"white\",\"linecolor\":\"white\",\"showbackground\":true,\"ticks\":\"\",\"zerolinecolor\":\"white\",\"gridwidth\":2},\"yaxis\":{\"backgroundcolor\":\"#E5ECF6\",\"gridcolor\":\"white\",\"linecolor\":\"white\",\"showbackground\":true,\"ticks\":\"\",\"zerolinecolor\":\"white\",\"gridwidth\":2},\"zaxis\":{\"backgroundcolor\":\"#E5ECF6\",\"gridcolor\":\"white\",\"linecolor\":\"white\",\"showbackground\":true,\"ticks\":\"\",\"zerolinecolor\":\"white\",\"gridwidth\":2}},\"shapedefaults\":{\"line\":{\"color\":\"#2a3f5f\"}},\"annotationdefaults\":{\"arrowcolor\":\"#2a3f5f\",\"arrowhead\":0,\"arrowwidth\":1},\"geo\":{\"bgcolor\":\"white\",\"landcolor\":\"#E5ECF6\",\"subunitcolor\":\"white\",\"showland\":true,\"showlakes\":true,\"lakecolor\":\"white\"},\"title\":{\"x\":0.05},\"mapbox\":{\"style\":\"light\"}}},\"yaxis\":{\"range\":[0.4,1],\"title\":{\"text\":\"Accuracy\"}},\"title\":{\"text\":\"Fold 4's performance\",\"x\":0.5},\"margin\":{\"l\":20,\"r\":20,\"t\":40,\"b\":20},\"xaxis\":{\"title\":{\"text\":\"Epochs\"}},\"autosize\":false,\"width\":800,\"height\":400},                        {\"responsive\": true}                    ).then(function(){\n",
       "                            \n",
       "var gd = document.getElementById('9e0a5126-a67f-4f88-af67-3c82c12bedd1');\n",
       "var x = new MutationObserver(function (mutations, observer) {{\n",
       "        var display = window.getComputedStyle(gd).display;\n",
       "        if (!display || display === 'none') {{\n",
       "            console.log([gd, 'removed!']);\n",
       "            Plotly.purge(gd);\n",
       "            observer.disconnect();\n",
       "        }}\n",
       "}});\n",
       "\n",
       "// Listen for the removal of the full notebook cells\n",
       "var notebookContainer = gd.closest('#notebook-container');\n",
       "if (notebookContainer) {{\n",
       "    x.observe(notebookContainer, {childList: true});\n",
       "}}\n",
       "\n",
       "// Listen for the clearing of the current output cell\n",
       "var outputEl = gd.closest('.output');\n",
       "if (outputEl) {{\n",
       "    x.observe(outputEl, {childList: true});\n",
       "}}\n",
       "\n",
       "                        })                };                });            </script>        </div>"
      ]
     },
     "metadata": {},
     "output_type": "display_data"
    },
    {
     "name": "stdout",
     "output_type": "stream",
     "text": [
      "4/4 [==============================] - 1s 145ms/step - loss: 0.8271 - binary_accuracy: 0.9256\n",
      "Found 224 validated image filenames belonging to 2 classes.\n",
      "Found 55 validated image filenames belonging to 2 classes.\n",
      "Epoch 1/30\n",
      "7/7 [==============================] - 13s 679ms/step - loss: 2.6089 - binary_accuracy: 0.7143 - val_loss: 1.3591 - val_binary_accuracy: 0.7818\n",
      "\n",
      "Epoch 00001: val_binary_accuracy improved from -inf to 0.78182, saving model to /kaggle/working/datasets/01_MRI/Saved_CNN_Models/Testing/transfer_learning_model_dense169_2/AugTest/30epochs/transfer_learning_model_dense169_2_model_5.h5\n",
      "Epoch 2/30\n",
      "7/7 [==============================] - 1s 201ms/step - loss: 1.2357 - binary_accuracy: 0.8750 - val_loss: 0.7208 - val_binary_accuracy: 0.8727\n",
      "\n",
      "Epoch 00002: val_binary_accuracy improved from 0.78182 to 0.87273, saving model to /kaggle/working/datasets/01_MRI/Saved_CNN_Models/Testing/transfer_learning_model_dense169_2/AugTest/30epochs/transfer_learning_model_dense169_2_model_5.h5\n",
      "Epoch 3/30\n",
      "7/7 [==============================] - 1s 160ms/step - loss: 1.2796 - binary_accuracy: 0.8661 - val_loss: 0.5930 - val_binary_accuracy: 0.8545\n",
      "\n",
      "Epoch 00003: val_binary_accuracy did not improve from 0.87273\n",
      "Epoch 4/30\n",
      "7/7 [==============================] - 1s 167ms/step - loss: 1.4178 - binary_accuracy: 0.8527 - val_loss: 0.8112 - val_binary_accuracy: 0.8364\n",
      "\n",
      "Epoch 00004: val_binary_accuracy did not improve from 0.87273\n",
      "Epoch 5/30\n",
      "7/7 [==============================] - 1s 162ms/step - loss: 0.8630 - binary_accuracy: 0.9152 - val_loss: 0.7887 - val_binary_accuracy: 0.8364\n",
      "\n",
      "Epoch 00005: val_binary_accuracy did not improve from 0.87273\n",
      "Epoch 6/30\n",
      "7/7 [==============================] - 2s 260ms/step - loss: 0.9573 - binary_accuracy: 0.9286 - val_loss: 0.7611 - val_binary_accuracy: 0.8364\n",
      "\n",
      "Epoch 00006: val_binary_accuracy did not improve from 0.87273\n",
      "Epoch 7/30\n",
      "7/7 [==============================] - 1s 172ms/step - loss: 1.1092 - binary_accuracy: 0.8973 - val_loss: 0.7355 - val_binary_accuracy: 0.8545\n",
      "\n",
      "Epoch 00007: val_binary_accuracy did not improve from 0.87273\n",
      "Epoch 8/30\n",
      "7/7 [==============================] - 1s 172ms/step - loss: 1.0544 - binary_accuracy: 0.9062 - val_loss: 0.7097 - val_binary_accuracy: 0.8727\n",
      "\n",
      "Epoch 00008: val_binary_accuracy did not improve from 0.87273\n",
      "Epoch 9/30\n",
      "7/7 [==============================] - 1s 160ms/step - loss: 0.9253 - binary_accuracy: 0.9107 - val_loss: 0.6798 - val_binary_accuracy: 0.8727\n",
      "\n",
      "Epoch 00009: val_binary_accuracy did not improve from 0.87273\n",
      "Epoch 10/30\n",
      "7/7 [==============================] - 1s 177ms/step - loss: 0.6757 - binary_accuracy: 0.9464 - val_loss: 0.6594 - val_binary_accuracy: 0.8727\n",
      "\n",
      "Epoch 00010: val_binary_accuracy did not improve from 0.87273\n",
      "Epoch 11/30\n",
      "7/7 [==============================] - 1s 154ms/step - loss: 0.4813 - binary_accuracy: 0.9375 - val_loss: 0.6502 - val_binary_accuracy: 0.8727\n",
      "\n",
      "Epoch 00011: val_binary_accuracy did not improve from 0.87273\n",
      "Epoch 12/30\n",
      "7/7 [==============================] - 1s 160ms/step - loss: 0.4262 - binary_accuracy: 0.9554 - val_loss: 0.6419 - val_binary_accuracy: 0.9273\n",
      "\n",
      "Epoch 00012: val_binary_accuracy improved from 0.87273 to 0.92727, saving model to /kaggle/working/datasets/01_MRI/Saved_CNN_Models/Testing/transfer_learning_model_dense169_2/AugTest/30epochs/transfer_learning_model_dense169_2_model_5.h5\n",
      "Epoch 13/30\n",
      "7/7 [==============================] - 1s 161ms/step - loss: 0.4975 - binary_accuracy: 0.9509 - val_loss: 0.6334 - val_binary_accuracy: 0.9273\n",
      "\n",
      "Epoch 00013: val_binary_accuracy did not improve from 0.92727\n",
      "Epoch 14/30\n",
      "7/7 [==============================] - 1s 161ms/step - loss: 0.3010 - binary_accuracy: 0.9509 - val_loss: 0.6367 - val_binary_accuracy: 0.9273\n",
      "\n",
      "Epoch 00014: val_binary_accuracy did not improve from 0.92727\n",
      "Epoch 15/30\n",
      "7/7 [==============================] - 1s 159ms/step - loss: 0.4019 - binary_accuracy: 0.9643 - val_loss: 0.4194 - val_binary_accuracy: 0.9455\n",
      "\n",
      "Epoch 00015: val_binary_accuracy improved from 0.92727 to 0.94545, saving model to /kaggle/working/datasets/01_MRI/Saved_CNN_Models/Testing/transfer_learning_model_dense169_2/AugTest/30epochs/transfer_learning_model_dense169_2_model_5.h5\n",
      "Epoch 16/30\n",
      "7/7 [==============================] - 1s 180ms/step - loss: 0.3542 - binary_accuracy: 0.9554 - val_loss: 0.3959 - val_binary_accuracy: 0.9455\n",
      "\n",
      "Epoch 00016: val_binary_accuracy did not improve from 0.94545\n",
      "Epoch 17/30\n",
      "7/7 [==============================] - 1s 165ms/step - loss: 0.3272 - binary_accuracy: 0.9688 - val_loss: 0.3783 - val_binary_accuracy: 0.9455\n",
      "\n",
      "Epoch 00017: val_binary_accuracy did not improve from 0.94545\n",
      "Epoch 18/30\n",
      "7/7 [==============================] - 1s 159ms/step - loss: 0.1121 - binary_accuracy: 0.9821 - val_loss: 0.3624 - val_binary_accuracy: 0.9455\n",
      "\n",
      "Epoch 00018: val_binary_accuracy did not improve from 0.94545\n",
      "Epoch 19/30\n",
      "7/7 [==============================] - 1s 160ms/step - loss: 0.1142 - binary_accuracy: 0.9777 - val_loss: 0.1372 - val_binary_accuracy: 0.9455\n",
      "\n",
      "Epoch 00019: val_binary_accuracy did not improve from 0.94545\n",
      "Epoch 20/30\n",
      "7/7 [==============================] - 1s 162ms/step - loss: 0.1080 - binary_accuracy: 0.9821 - val_loss: 0.0998 - val_binary_accuracy: 0.9636\n",
      "\n",
      "Epoch 00020: val_binary_accuracy improved from 0.94545 to 0.96364, saving model to /kaggle/working/datasets/01_MRI/Saved_CNN_Models/Testing/transfer_learning_model_dense169_2/AugTest/30epochs/transfer_learning_model_dense169_2_model_5.h5\n",
      "Epoch 21/30\n",
      "7/7 [==============================] - 1s 176ms/step - loss: 0.1035 - binary_accuracy: 0.9821 - val_loss: 0.0791 - val_binary_accuracy: 0.9636\n",
      "\n",
      "Epoch 00021: val_binary_accuracy did not improve from 0.96364\n",
      "Epoch 22/30\n",
      "7/7 [==============================] - 1s 164ms/step - loss: 0.1910 - binary_accuracy: 0.9821 - val_loss: 0.0752 - val_binary_accuracy: 0.9636\n",
      "\n",
      "Epoch 00022: val_binary_accuracy did not improve from 0.96364\n",
      "Epoch 23/30\n",
      "7/7 [==============================] - 1s 183ms/step - loss: 0.1025 - binary_accuracy: 0.9821 - val_loss: 0.0781 - val_binary_accuracy: 0.9636\n",
      "\n",
      "Epoch 00023: val_binary_accuracy did not improve from 0.96364\n",
      "Epoch 24/30\n",
      "7/7 [==============================] - 1s 163ms/step - loss: 0.1183 - binary_accuracy: 0.9866 - val_loss: 0.0568 - val_binary_accuracy: 0.9636\n",
      "\n",
      "Epoch 00024: val_binary_accuracy did not improve from 0.96364\n",
      "Epoch 25/30\n",
      "7/7 [==============================] - 1s 157ms/step - loss: 0.1563 - binary_accuracy: 0.9866 - val_loss: 0.0458 - val_binary_accuracy: 0.9818\n",
      "\n",
      "Epoch 00025: val_binary_accuracy improved from 0.96364 to 0.98182, saving model to /kaggle/working/datasets/01_MRI/Saved_CNN_Models/Testing/transfer_learning_model_dense169_2/AugTest/30epochs/transfer_learning_model_dense169_2_model_5.h5\n",
      "Epoch 26/30\n",
      "7/7 [==============================] - 1s 182ms/step - loss: 0.0960 - binary_accuracy: 0.9866 - val_loss: 0.0445 - val_binary_accuracy: 0.9636\n",
      "\n",
      "Epoch 00026: val_binary_accuracy did not improve from 0.98182\n",
      "Epoch 27/30\n",
      "7/7 [==============================] - 1s 171ms/step - loss: 0.1093 - binary_accuracy: 0.9911 - val_loss: 0.0514 - val_binary_accuracy: 0.9455\n",
      "\n",
      "Epoch 00027: val_binary_accuracy did not improve from 0.98182\n",
      "Epoch 28/30\n",
      "7/7 [==============================] - 1s 160ms/step - loss: 0.0937 - binary_accuracy: 0.9911 - val_loss: 0.0718 - val_binary_accuracy: 0.9455\n",
      "\n",
      "Epoch 00028: val_binary_accuracy did not improve from 0.98182\n",
      "Epoch 29/30\n",
      "7/7 [==============================] - 1s 165ms/step - loss: 0.1588 - binary_accuracy: 0.9821 - val_loss: 0.0812 - val_binary_accuracy: 0.9455\n",
      "\n",
      "Epoch 00029: val_binary_accuracy did not improve from 0.98182\n",
      "Epoch 30/30\n",
      "7/7 [==============================] - 1s 161ms/step - loss: 0.0941 - binary_accuracy: 0.9911 - val_loss: 0.0826 - val_binary_accuracy: 0.9455\n",
      "\n",
      "Epoch 00030: val_binary_accuracy did not improve from 0.98182\n"
     ]
    },
    {
     "data": {
      "text/html": [
       "<div>                            <div id=\"e7c9ee42-94d8-41d9-804a-f55b3f203515\" class=\"plotly-graph-div\" style=\"height:400px; width:800px;\"></div>            <script type=\"text/javascript\">                require([\"plotly\"], function(Plotly) {                    window.PLOTLYENV=window.PLOTLYENV || {};                                    if (document.getElementById(\"e7c9ee42-94d8-41d9-804a-f55b3f203515\")) {                    Plotly.newPlot(                        \"e7c9ee42-94d8-41d9-804a-f55b3f203515\",                        [{\"mode\":\"lines+markers\",\"name\":\"Training Accuracy\",\"y\":[0.7142857313156128,0.875,0.8660714030265808,0.8526785969734192,0.9151785969734192,0.9285714030265808,0.8973214030265808,0.90625,0.9107142686843872,0.9464285969734192,0.9375,0.9553571343421936,0.9508928656578064,0.9508928656578064,0.9642857313156128,0.9553571343421936,0.96875,0.9821428656578064,0.9776785969734192,0.9821428656578064,0.9821428656578064,0.9821428656578064,0.9821428656578064,0.9866071343421936,0.9866071343421936,0.9866071343421936,0.9910714030265808,0.9910714030265808,0.9821428656578064,0.9910714030265808],\"type\":\"scatter\"},{\"mode\":\"lines+markers\",\"name\":\"Validation Accuracy\",\"y\":[0.7818182110786438,0.8727272748947144,0.8545454740524292,0.8363636136054993,0.8363636136054993,0.8363636136054993,0.8545454740524292,0.8727272748947144,0.8727272748947144,0.8727272748947144,0.8727272748947144,0.9272727370262146,0.9272727370262146,0.9272727370262146,0.9454545378684998,0.9454545378684998,0.9454545378684998,0.9454545378684998,0.9454545378684998,0.9636363387107849,0.9636363387107849,0.9636363387107849,0.9636363387107849,0.9636363387107849,0.9818181991577148,0.9636363387107849,0.9454545378684998,0.9454545378684998,0.9454545378684998,0.9454545378684998],\"type\":\"scatter\"}],                        {\"template\":{\"data\":{\"histogram2dcontour\":[{\"type\":\"histogram2dcontour\",\"colorbar\":{\"outlinewidth\":0,\"ticks\":\"\"},\"colorscale\":[[0.0,\"#0d0887\"],[0.1111111111111111,\"#46039f\"],[0.2222222222222222,\"#7201a8\"],[0.3333333333333333,\"#9c179e\"],[0.4444444444444444,\"#bd3786\"],[0.5555555555555556,\"#d8576b\"],[0.6666666666666666,\"#ed7953\"],[0.7777777777777778,\"#fb9f3a\"],[0.8888888888888888,\"#fdca26\"],[1.0,\"#f0f921\"]]}],\"choropleth\":[{\"type\":\"choropleth\",\"colorbar\":{\"outlinewidth\":0,\"ticks\":\"\"}}],\"histogram2d\":[{\"type\":\"histogram2d\",\"colorbar\":{\"outlinewidth\":0,\"ticks\":\"\"},\"colorscale\":[[0.0,\"#0d0887\"],[0.1111111111111111,\"#46039f\"],[0.2222222222222222,\"#7201a8\"],[0.3333333333333333,\"#9c179e\"],[0.4444444444444444,\"#bd3786\"],[0.5555555555555556,\"#d8576b\"],[0.6666666666666666,\"#ed7953\"],[0.7777777777777778,\"#fb9f3a\"],[0.8888888888888888,\"#fdca26\"],[1.0,\"#f0f921\"]]}],\"heatmap\":[{\"type\":\"heatmap\",\"colorbar\":{\"outlinewidth\":0,\"ticks\":\"\"},\"colorscale\":[[0.0,\"#0d0887\"],[0.1111111111111111,\"#46039f\"],[0.2222222222222222,\"#7201a8\"],[0.3333333333333333,\"#9c179e\"],[0.4444444444444444,\"#bd3786\"],[0.5555555555555556,\"#d8576b\"],[0.6666666666666666,\"#ed7953\"],[0.7777777777777778,\"#fb9f3a\"],[0.8888888888888888,\"#fdca26\"],[1.0,\"#f0f921\"]]}],\"heatmapgl\":[{\"type\":\"heatmapgl\",\"colorbar\":{\"outlinewidth\":0,\"ticks\":\"\"},\"colorscale\":[[0.0,\"#0d0887\"],[0.1111111111111111,\"#46039f\"],[0.2222222222222222,\"#7201a8\"],[0.3333333333333333,\"#9c179e\"],[0.4444444444444444,\"#bd3786\"],[0.5555555555555556,\"#d8576b\"],[0.6666666666666666,\"#ed7953\"],[0.7777777777777778,\"#fb9f3a\"],[0.8888888888888888,\"#fdca26\"],[1.0,\"#f0f921\"]]}],\"contourcarpet\":[{\"type\":\"contourcarpet\",\"colorbar\":{\"outlinewidth\":0,\"ticks\":\"\"}}],\"contour\":[{\"type\":\"contour\",\"colorbar\":{\"outlinewidth\":0,\"ticks\":\"\"},\"colorscale\":[[0.0,\"#0d0887\"],[0.1111111111111111,\"#46039f\"],[0.2222222222222222,\"#7201a8\"],[0.3333333333333333,\"#9c179e\"],[0.4444444444444444,\"#bd3786\"],[0.5555555555555556,\"#d8576b\"],[0.6666666666666666,\"#ed7953\"],[0.7777777777777778,\"#fb9f3a\"],[0.8888888888888888,\"#fdca26\"],[1.0,\"#f0f921\"]]}],\"surface\":[{\"type\":\"surface\",\"colorbar\":{\"outlinewidth\":0,\"ticks\":\"\"},\"colorscale\":[[0.0,\"#0d0887\"],[0.1111111111111111,\"#46039f\"],[0.2222222222222222,\"#7201a8\"],[0.3333333333333333,\"#9c179e\"],[0.4444444444444444,\"#bd3786\"],[0.5555555555555556,\"#d8576b\"],[0.6666666666666666,\"#ed7953\"],[0.7777777777777778,\"#fb9f3a\"],[0.8888888888888888,\"#fdca26\"],[1.0,\"#f0f921\"]]}],\"mesh3d\":[{\"type\":\"mesh3d\",\"colorbar\":{\"outlinewidth\":0,\"ticks\":\"\"}}],\"scatter\":[{\"fillpattern\":{\"fillmode\":\"overlay\",\"size\":10,\"solidity\":0.2},\"type\":\"scatter\"}],\"parcoords\":[{\"type\":\"parcoords\",\"line\":{\"colorbar\":{\"outlinewidth\":0,\"ticks\":\"\"}}}],\"scatterpolargl\":[{\"type\":\"scatterpolargl\",\"marker\":{\"colorbar\":{\"outlinewidth\":0,\"ticks\":\"\"}}}],\"bar\":[{\"error_x\":{\"color\":\"#2a3f5f\"},\"error_y\":{\"color\":\"#2a3f5f\"},\"marker\":{\"line\":{\"color\":\"#E5ECF6\",\"width\":0.5},\"pattern\":{\"fillmode\":\"overlay\",\"size\":10,\"solidity\":0.2}},\"type\":\"bar\"}],\"scattergeo\":[{\"type\":\"scattergeo\",\"marker\":{\"colorbar\":{\"outlinewidth\":0,\"ticks\":\"\"}}}],\"scatterpolar\":[{\"type\":\"scatterpolar\",\"marker\":{\"colorbar\":{\"outlinewidth\":0,\"ticks\":\"\"}}}],\"histogram\":[{\"marker\":{\"pattern\":{\"fillmode\":\"overlay\",\"size\":10,\"solidity\":0.2}},\"type\":\"histogram\"}],\"scattergl\":[{\"type\":\"scattergl\",\"marker\":{\"colorbar\":{\"outlinewidth\":0,\"ticks\":\"\"}}}],\"scatter3d\":[{\"type\":\"scatter3d\",\"line\":{\"colorbar\":{\"outlinewidth\":0,\"ticks\":\"\"}},\"marker\":{\"colorbar\":{\"outlinewidth\":0,\"ticks\":\"\"}}}],\"scattermapbox\":[{\"type\":\"scattermapbox\",\"marker\":{\"colorbar\":{\"outlinewidth\":0,\"ticks\":\"\"}}}],\"scatterternary\":[{\"type\":\"scatterternary\",\"marker\":{\"colorbar\":{\"outlinewidth\":0,\"ticks\":\"\"}}}],\"scattercarpet\":[{\"type\":\"scattercarpet\",\"marker\":{\"colorbar\":{\"outlinewidth\":0,\"ticks\":\"\"}}}],\"carpet\":[{\"aaxis\":{\"endlinecolor\":\"#2a3f5f\",\"gridcolor\":\"white\",\"linecolor\":\"white\",\"minorgridcolor\":\"white\",\"startlinecolor\":\"#2a3f5f\"},\"baxis\":{\"endlinecolor\":\"#2a3f5f\",\"gridcolor\":\"white\",\"linecolor\":\"white\",\"minorgridcolor\":\"white\",\"startlinecolor\":\"#2a3f5f\"},\"type\":\"carpet\"}],\"table\":[{\"cells\":{\"fill\":{\"color\":\"#EBF0F8\"},\"line\":{\"color\":\"white\"}},\"header\":{\"fill\":{\"color\":\"#C8D4E3\"},\"line\":{\"color\":\"white\"}},\"type\":\"table\"}],\"barpolar\":[{\"marker\":{\"line\":{\"color\":\"#E5ECF6\",\"width\":0.5},\"pattern\":{\"fillmode\":\"overlay\",\"size\":10,\"solidity\":0.2}},\"type\":\"barpolar\"}],\"pie\":[{\"automargin\":true,\"type\":\"pie\"}]},\"layout\":{\"autotypenumbers\":\"strict\",\"colorway\":[\"#636efa\",\"#EF553B\",\"#00cc96\",\"#ab63fa\",\"#FFA15A\",\"#19d3f3\",\"#FF6692\",\"#B6E880\",\"#FF97FF\",\"#FECB52\"],\"font\":{\"color\":\"#2a3f5f\"},\"hovermode\":\"closest\",\"hoverlabel\":{\"align\":\"left\"},\"paper_bgcolor\":\"white\",\"plot_bgcolor\":\"#E5ECF6\",\"polar\":{\"bgcolor\":\"#E5ECF6\",\"angularaxis\":{\"gridcolor\":\"white\",\"linecolor\":\"white\",\"ticks\":\"\"},\"radialaxis\":{\"gridcolor\":\"white\",\"linecolor\":\"white\",\"ticks\":\"\"}},\"ternary\":{\"bgcolor\":\"#E5ECF6\",\"aaxis\":{\"gridcolor\":\"white\",\"linecolor\":\"white\",\"ticks\":\"\"},\"baxis\":{\"gridcolor\":\"white\",\"linecolor\":\"white\",\"ticks\":\"\"},\"caxis\":{\"gridcolor\":\"white\",\"linecolor\":\"white\",\"ticks\":\"\"}},\"coloraxis\":{\"colorbar\":{\"outlinewidth\":0,\"ticks\":\"\"}},\"colorscale\":{\"sequential\":[[0.0,\"#0d0887\"],[0.1111111111111111,\"#46039f\"],[0.2222222222222222,\"#7201a8\"],[0.3333333333333333,\"#9c179e\"],[0.4444444444444444,\"#bd3786\"],[0.5555555555555556,\"#d8576b\"],[0.6666666666666666,\"#ed7953\"],[0.7777777777777778,\"#fb9f3a\"],[0.8888888888888888,\"#fdca26\"],[1.0,\"#f0f921\"]],\"sequentialminus\":[[0.0,\"#0d0887\"],[0.1111111111111111,\"#46039f\"],[0.2222222222222222,\"#7201a8\"],[0.3333333333333333,\"#9c179e\"],[0.4444444444444444,\"#bd3786\"],[0.5555555555555556,\"#d8576b\"],[0.6666666666666666,\"#ed7953\"],[0.7777777777777778,\"#fb9f3a\"],[0.8888888888888888,\"#fdca26\"],[1.0,\"#f0f921\"]],\"diverging\":[[0,\"#8e0152\"],[0.1,\"#c51b7d\"],[0.2,\"#de77ae\"],[0.3,\"#f1b6da\"],[0.4,\"#fde0ef\"],[0.5,\"#f7f7f7\"],[0.6,\"#e6f5d0\"],[0.7,\"#b8e186\"],[0.8,\"#7fbc41\"],[0.9,\"#4d9221\"],[1,\"#276419\"]]},\"xaxis\":{\"gridcolor\":\"white\",\"linecolor\":\"white\",\"ticks\":\"\",\"title\":{\"standoff\":15},\"zerolinecolor\":\"white\",\"automargin\":true,\"zerolinewidth\":2},\"yaxis\":{\"gridcolor\":\"white\",\"linecolor\":\"white\",\"ticks\":\"\",\"title\":{\"standoff\":15},\"zerolinecolor\":\"white\",\"automargin\":true,\"zerolinewidth\":2},\"scene\":{\"xaxis\":{\"backgroundcolor\":\"#E5ECF6\",\"gridcolor\":\"white\",\"linecolor\":\"white\",\"showbackground\":true,\"ticks\":\"\",\"zerolinecolor\":\"white\",\"gridwidth\":2},\"yaxis\":{\"backgroundcolor\":\"#E5ECF6\",\"gridcolor\":\"white\",\"linecolor\":\"white\",\"showbackground\":true,\"ticks\":\"\",\"zerolinecolor\":\"white\",\"gridwidth\":2},\"zaxis\":{\"backgroundcolor\":\"#E5ECF6\",\"gridcolor\":\"white\",\"linecolor\":\"white\",\"showbackground\":true,\"ticks\":\"\",\"zerolinecolor\":\"white\",\"gridwidth\":2}},\"shapedefaults\":{\"line\":{\"color\":\"#2a3f5f\"}},\"annotationdefaults\":{\"arrowcolor\":\"#2a3f5f\",\"arrowhead\":0,\"arrowwidth\":1},\"geo\":{\"bgcolor\":\"white\",\"landcolor\":\"#E5ECF6\",\"subunitcolor\":\"white\",\"showland\":true,\"showlakes\":true,\"lakecolor\":\"white\"},\"title\":{\"x\":0.05},\"mapbox\":{\"style\":\"light\"}}},\"yaxis\":{\"range\":[0.4,1],\"title\":{\"text\":\"Accuracy\"}},\"title\":{\"text\":\"Fold 5's performance\",\"x\":0.5},\"margin\":{\"l\":20,\"r\":20,\"t\":40,\"b\":20},\"xaxis\":{\"title\":{\"text\":\"Epochs\"}},\"autosize\":false,\"width\":800,\"height\":400},                        {\"responsive\": true}                    ).then(function(){\n",
       "                            \n",
       "var gd = document.getElementById('e7c9ee42-94d8-41d9-804a-f55b3f203515');\n",
       "var x = new MutationObserver(function (mutations, observer) {{\n",
       "        var display = window.getComputedStyle(gd).display;\n",
       "        if (!display || display === 'none') {{\n",
       "            console.log([gd, 'removed!']);\n",
       "            Plotly.purge(gd);\n",
       "            observer.disconnect();\n",
       "        }}\n",
       "}});\n",
       "\n",
       "// Listen for the removal of the full notebook cells\n",
       "var notebookContainer = gd.closest('#notebook-container');\n",
       "if (notebookContainer) {{\n",
       "    x.observe(notebookContainer, {childList: true});\n",
       "}}\n",
       "\n",
       "// Listen for the clearing of the current output cell\n",
       "var outputEl = gd.closest('.output');\n",
       "if (outputEl) {{\n",
       "    x.observe(outputEl, {childList: true});\n",
       "}}\n",
       "\n",
       "                        })                };                });            </script>        </div>"
      ]
     },
     "metadata": {},
     "output_type": "display_data"
    },
    {
     "name": "stdout",
     "output_type": "stream",
     "text": [
      "4/4 [==============================] - 1s 102ms/step - loss: 0.5745 - binary_accuracy: 0.9174\n"
     ]
    }
   ],
   "source": [
    "model_test(5, 30, transfer_learning_model_dense169_2, (256,256))"
   ]
  }
 ],
 "metadata": {
  "kernelspec": {
   "display_name": "Python 3",
   "language": "python",
   "name": "python3"
  },
  "language_info": {
   "codemirror_mode": {
    "name": "ipython",
    "version": 3
   },
   "file_extension": ".py",
   "mimetype": "text/x-python",
   "name": "python",
   "nbconvert_exporter": "python",
   "pygments_lexer": "ipython3",
   "version": "3.7.12"
  },
  "papermill": {
   "default_parameters": {},
   "duration": 378.519314,
   "end_time": "2022-05-10T03:59:48.957475",
   "environment_variables": {},
   "exception": null,
   "input_path": "__notebook__.ipynb",
   "output_path": "__notebook__.ipynb",
   "parameters": {},
   "start_time": "2022-05-10T03:53:30.438161",
   "version": "2.3.4"
  }
 },
 "nbformat": 4,
 "nbformat_minor": 5
}
