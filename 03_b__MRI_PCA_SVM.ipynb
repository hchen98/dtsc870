{
  "cells": [
    {
      "cell_type": "markdown",
      "metadata": {
        "id": "2q3MEPJ1mqT1"
      },
      "source": [
        "New York Institute of Technology<br>\n",
        "Course: DTSC 870 / Spring 2022<br>\n",
        "Advisor: Dr. Cao<br>\n",
        "Team: Michael Trzaskoma, Hui (Henry) Chen\n",
        "\n",
        "----\n",
        "\n",
        "This notebook is for the MRI tumor image classification (binary) model of the project. Therefore, this is part of Phase I of the project.\n",
        "\n",
        "For more info, please visit the SVM pratical guide: https://www.csie.ntu.edu.tw/~cjlin/papers/guide/guide.pdf"
      ]
    },
    {
      "cell_type": "markdown",
      "metadata": {
        "id": "ezydF934voEl"
      },
      "source": [
        "Switch the Notebook runtime to GPU then check the available GPU."
      ]
    },
    {
      "cell_type": "markdown",
      "metadata": {
        "id": "cZTYGZ0ToSgw"
      },
      "source": [
        "# Set up"
      ]
    },
    {
      "cell_type": "code",
      "execution_count": null,
      "metadata": {
        "colab": {
          "base_uri": "https://localhost:8080/"
        },
        "id": "JEtsrz_CiGNq",
        "outputId": "c09d1caa-0ecb-4861-df8a-14292e6881e5"
      },
      "outputs": [
        {
          "output_type": "stream",
          "name": "stdout",
          "text": [
            "Collecting ipython-autotime\n",
            "  Downloading ipython_autotime-0.3.1-py2.py3-none-any.whl (6.8 kB)\n",
            "Requirement already satisfied: ipython in /usr/local/lib/python3.7/dist-packages (from ipython-autotime) (5.5.0)\n",
            "Requirement already satisfied: decorator in /usr/local/lib/python3.7/dist-packages (from ipython->ipython-autotime) (4.4.2)\n",
            "Requirement already satisfied: prompt-toolkit<2.0.0,>=1.0.4 in /usr/local/lib/python3.7/dist-packages (from ipython->ipython-autotime) (1.0.18)\n",
            "Requirement already satisfied: simplegeneric>0.8 in /usr/local/lib/python3.7/dist-packages (from ipython->ipython-autotime) (0.8.1)\n",
            "Requirement already satisfied: pexpect in /usr/local/lib/python3.7/dist-packages (from ipython->ipython-autotime) (4.8.0)\n",
            "Requirement already satisfied: pickleshare in /usr/local/lib/python3.7/dist-packages (from ipython->ipython-autotime) (0.7.5)\n",
            "Requirement already satisfied: setuptools>=18.5 in /usr/local/lib/python3.7/dist-packages (from ipython->ipython-autotime) (57.4.0)\n",
            "Requirement already satisfied: traitlets>=4.2 in /usr/local/lib/python3.7/dist-packages (from ipython->ipython-autotime) (5.1.1)\n",
            "Requirement already satisfied: pygments in /usr/local/lib/python3.7/dist-packages (from ipython->ipython-autotime) (2.6.1)\n",
            "Requirement already satisfied: wcwidth in /usr/local/lib/python3.7/dist-packages (from prompt-toolkit<2.0.0,>=1.0.4->ipython->ipython-autotime) (0.2.5)\n",
            "Requirement already satisfied: six>=1.9.0 in /usr/local/lib/python3.7/dist-packages (from prompt-toolkit<2.0.0,>=1.0.4->ipython->ipython-autotime) (1.15.0)\n",
            "Requirement already satisfied: ptyprocess>=0.5 in /usr/local/lib/python3.7/dist-packages (from pexpect->ipython->ipython-autotime) (0.7.0)\n",
            "Installing collected packages: ipython-autotime\n",
            "Successfully installed ipython-autotime-0.3.1\n",
            "Collecting directory_structure\n",
            "  Downloading directory_structure-1.1.2-py3-none-any.whl (4.3 kB)\n",
            "Collecting emoji\n",
            "  Downloading emoji-1.7.0.tar.gz (175 kB)\n",
            "\u001b[K     |████████████████████████████████| 175 kB 34.5 MB/s \n",
            "\u001b[?25hBuilding wheels for collected packages: emoji\n",
            "  Building wheel for emoji (setup.py) ... \u001b[?25l\u001b[?25hdone\n",
            "  Created wheel for emoji: filename=emoji-1.7.0-py3-none-any.whl size=171046 sha256=54d2df23774b7f52701faf339d30b3fe3ae5c773510d9903d7479149a4529d65\n",
            "  Stored in directory: /root/.cache/pip/wheels/8a/4e/b6/57b01db010d17ef6ea9b40300af725ef3e210cb1acfb7ac8b6\n",
            "Successfully built emoji\n",
            "Installing collected packages: emoji, directory-structure\n",
            "Successfully installed directory-structure-1.1.2 emoji-1.7.0\n",
            "  % Total    % Received % Xferd  Average Speed   Time    Time     Time  Current\n",
            "                                 Dload  Upload   Total   Spent    Left  Speed\n",
            "100  1580  100  1580    0     0   3427      0 --:--:-- --:--:-- --:--:--  3419\n",
            "+ apt -y -q install cuda-libraries-dev-10-0\n",
            "Reading package lists...\n",
            "Building dependency tree...\n",
            "Reading state information...\n",
            "cuda-libraries-dev-10-0 is already the newest version (10.0.130-1).\n",
            "The following packages were automatically installed and are no longer required:\n",
            "  libnvidia-common-460 nsight-compute-2020.2.0\n",
            "Use 'apt autoremove' to remove them.\n",
            "0 upgraded, 0 newly installed, 0 to remove and 42 not upgraded.\n",
            "+ pip install -q cupy-cuda100  chainer \n",
            "\u001b[K     |████████████████████████████████| 58.9 MB 92 kB/s \n",
            "\u001b[K     |████████████████████████████████| 1.0 MB 18.2 MB/s \n",
            "\u001b[?25h  Building wheel for chainer (setup.py) ... \u001b[?25l\u001b[?25hdone\n",
            "+ set +ex\n",
            "Installation succeeded!\n",
            "time: 4.48 ms (started: 2022-05-09 17:44:36 +00:00)\n"
          ]
        }
      ],
      "source": [
        "# setup to see the execution time in each cell\n",
        "\n",
        "!pip install ipython-autotime\n",
        "!pip install directory_structure\n",
        "!curl https://colab.chainer.org/install | sh -\n",
        "%load_ext autotime"
      ]
    },
    {
      "cell_type": "code",
      "execution_count": null,
      "metadata": {
        "colab": {
          "base_uri": "https://localhost:8080/"
        },
        "id": "YbrDSdGEvR_7",
        "outputId": "103256bd-04c7-4e4c-a882-90c066bf6f53"
      },
      "outputs": [
        {
          "output_type": "stream",
          "name": "stdout",
          "text": [
            "Mounted at /content/drive\n",
            "time: 28.3 s (started: 2022-05-09 17:49:03 +00:00)\n"
          ]
        }
      ],
      "source": [
        "from google.colab import drive\n",
        "drive.mount('/content/drive')"
      ]
    },
    {
      "cell_type": "code",
      "execution_count": null,
      "metadata": {
        "colab": {
          "base_uri": "https://localhost:8080/"
        },
        "id": "Lygx7PDiXibd",
        "outputId": "b07ca2b0-2186-4415-9c29-1f1011fe2ea4"
      },
      "outputs": [
        {
          "output_type": "stream",
          "name": "stdout",
          "text": [
            "time: 1.26 s (started: 2022-05-09 17:49:34 +00:00)\n"
          ]
        }
      ],
      "source": [
        "import pandas as pd\n",
        "import os\n",
        "import glob\n",
        "import PIL\n",
        "from PIL import Image\n",
        "import numpy as np\n",
        "import cupy as cp\n",
        "import matplotlib.pyplot as plt"
      ]
    },
    {
      "cell_type": "markdown",
      "source": [
        "### No Img Aug"
      ],
      "metadata": {
        "id": "sacygmdQ4Ufg"
      }
    },
    {
      "cell_type": "code",
      "source": [
        "# ROOT_DIR = \"/content/drive/MyDrive/Spring 2022/DTSC 870/Code\" # HC Directory\n",
        "# # ROOT_DIR = \"/content/drive/MyDrive/DTSC 870/Code\" #MT Directory\n",
        "\n",
        "# DATASET_01 = ROOT_DIR + \"/datasets/01_MRI/Brain_tumor_images\"\n",
        "# DATASET_01_TRAIN = DATASET_01 + \"/train\"\n",
        "# DATASET_01_TEST = DATASET_01 + \"/test\""
      ],
      "metadata": {
        "id": "r027dqN14VgV",
        "colab": {
          "base_uri": "https://localhost:8080/"
        },
        "outputId": "2687c743-0202-4331-aff5-bd3a8edb629a"
      },
      "execution_count": null,
      "outputs": [
        {
          "output_type": "stream",
          "name": "stdout",
          "text": [
            "time: 1.37 ms (started: 2022-05-09 17:49:37 +00:00)\n"
          ]
        }
      ]
    },
    {
      "cell_type": "markdown",
      "source": [
        "### Img Aug"
      ],
      "metadata": {
        "id": "0-ijuj8n4Ws4"
      }
    },
    {
      "cell_type": "code",
      "execution_count": null,
      "metadata": {
        "colab": {
          "base_uri": "https://localhost:8080/"
        },
        "id": "VKdK8OcnV2wG",
        "outputId": "01521335-c7da-45e4-a6c5-db7edb605664"
      },
      "outputs": [
        {
          "output_type": "stream",
          "name": "stdout",
          "text": [
            "time: 2.48 ms (started: 2022-05-09 18:28:01 +00:00)\n"
          ]
        }
      ],
      "source": [
        "ROOT_DIR = \"/content/drive/MyDrive/Spring 2022/DTSC 870/Code\" # HC Directory\n",
        "# ROOT_DIR = \"/content/drive/MyDrive/DTSC 870/Code\" #MT Directory\n",
        "\n",
        "DATASET_01 = ROOT_DIR + \"/datasets/01_MRI\"\n",
        "DATASET_01_TRAIN = DATASET_01 + \"/Aug_train\"\n",
        "DATASET_01_TEST = DATASET_01 + \"/Aug_test\""
      ]
    },
    {
      "cell_type": "code",
      "execution_count": null,
      "metadata": {
        "colab": {
          "base_uri": "https://localhost:8080/"
        },
        "id": "QzIbFlJPYj-c",
        "outputId": "4489549d-07a6-418f-bbc1-c5d359a4d445"
      },
      "outputs": [
        {
          "output_type": "stream",
          "name": "stdout",
          "text": [
            "📂 01_MRI\n",
            "|_📁 Brain_tumor_images\n",
            "|_📁 Saved_CNN_Models\n",
            "|_📁 Aug_train\n",
            "|_📁 Aug_test\n",
            "|_📁 Brain_tumor_downsampling\n",
            "|_📄 Copy of Normal (2).jpg\n",
            "time: 9.87 ms (started: 2022-05-09 18:28:01 +00:00)\n"
          ]
        }
      ],
      "source": [
        "from directory_structure import Tree\n",
        "\n",
        "os.chdir(DATASET_01)\n",
        "print(Tree(os.getcwd()))"
      ]
    },
    {
      "cell_type": "markdown",
      "metadata": {
        "id": "mVE6px2lvOPb"
      },
      "source": [
        "# Preprocessing"
      ]
    },
    {
      "cell_type": "markdown",
      "metadata": {
        "id": "OvHaJhlR8gf-"
      },
      "source": [
        "## Untility func"
      ]
    },
    {
      "cell_type": "code",
      "execution_count": null,
      "metadata": {
        "colab": {
          "base_uri": "https://localhost:8080/"
        },
        "id": "Mz4OVijyvQsD",
        "outputId": "ef43e50e-e476-4f8e-a475-384e883d3d5a"
      },
      "outputs": [
        {
          "output_type": "stream",
          "name": "stdout",
          "text": [
            "time: 1.36 ms (started: 2022-05-09 18:28:04 +00:00)\n"
          ]
        }
      ],
      "source": [
        "#Figuring out loading images to preprocess\n",
        "\n",
        "def get_total_train_num(dir):\n",
        "  return len(glob.glob(dir))"
      ]
    },
    {
      "cell_type": "code",
      "execution_count": null,
      "metadata": {
        "colab": {
          "base_uri": "https://localhost:8080/"
        },
        "id": "6CQv2gbS8fyX",
        "outputId": "1d804785-1dd7-4aaa-b083-205d79bf1a30"
      },
      "outputs": [
        {
          "output_type": "stream",
          "name": "stdout",
          "text": [
            "time: 4.93 ms (started: 2022-05-09 18:28:05 +00:00)\n"
          ]
        }
      ],
      "source": [
        "def get_data_df(dir):\n",
        "  # modified code from: https://www.kaggle.com/namgalielei/simple-load-images-and-count-number-of-each-class\n",
        "\n",
        "  train_df = pd.DataFrame()\n",
        "\n",
        "  trainset = glob.glob(dir)\n",
        "\n",
        "  train_df['file'] = [img.split(\"/\")[-1] for img in trainset]\n",
        "  train_df['class'] = [img.split(\"/\")[-2] for img in trainset]\n",
        "\n",
        "  return train_df"
      ]
    },
    {
      "cell_type": "code",
      "execution_count": null,
      "metadata": {
        "colab": {
          "base_uri": "https://localhost:8080/"
        },
        "id": "dB20P75y8jbB",
        "outputId": "d8e9e494-5a79-4e20-cc70-8963c8fc45c4"
      },
      "outputs": [
        {
          "output_type": "stream",
          "name": "stdout",
          "text": [
            "time: 16.6 ms (started: 2022-05-09 18:28:05 +00:00)\n"
          ]
        }
      ],
      "source": [
        "def generate_set(df, dir):\n",
        "\n",
        "  # new_df = pd.DataFrame()\n",
        "  pixels = []\n",
        "  class_ = []\n",
        "\n",
        "  # trainset = glob.glob(dir)\n",
        "  for i in range(len(df.index)):\n",
        "    # get the absolute img path\n",
        "    # e.g., Brain_tumor_images/<train or test>/<class label>/<file name>\n",
        "    path = dir + \"/\" + df.iloc[i][\"class\"] + \"/\" +df.iloc[i][\"file\"]\n",
        "    # print(img)\n",
        "    img = Image.open(path)\n",
        "    # print(\"Img: {} \\tClass: {}\".format(np.array(img).flatten(), df.iloc[i][\"class\"]))\n",
        "    pixels.append(cp.asnumpy(cp.array(img)).flatten())\n",
        "    # pixels.append(np.array(img))\n",
        "\n",
        "    # y_true encoding here\n",
        "    if df.iloc[i][\"class\"] == \"Normal\":\n",
        "      class_.append(0)\n",
        "    else:\n",
        "      class_.append(1)\n",
        "\n",
        "  # train_df['file'] = [img.split(\"/\")[-1] for img in trainset]\n",
        "  # train_df['class'] = [img.split(\"/\")[-2] for img in trainset]\n",
        "\n",
        "  # return train_df\n",
        "  return pixels, class_"
      ]
    },
    {
      "cell_type": "markdown",
      "metadata": {
        "id": "7BFIAnjCvEDF"
      },
      "source": [
        "## Generate Train & Test set"
      ]
    },
    {
      "cell_type": "markdown",
      "metadata": {
        "id": "58ulU-p8vKcZ"
      },
      "source": [
        "Generate a general dataframe"
      ]
    },
    {
      "cell_type": "code",
      "execution_count": null,
      "metadata": {
        "colab": {
          "base_uri": "https://localhost:8080/"
        },
        "id": "gkqPckA3hPm6",
        "outputId": "03de343b-33ff-4876-eb73-f0416eb4edda"
      },
      "outputs": [
        {
          "output_type": "stream",
          "name": "stdout",
          "text": [
            "time: 8.16 s (started: 2022-05-09 18:28:05 +00:00)\n"
          ]
        }
      ],
      "source": [
        "mri_df_train = get_data_df(DATASET_01_TRAIN+\"/*/*.jpg\")\n",
        "mri_df_test = get_data_df(DATASET_01_TEST+\"/*/*.jpg\")"
      ]
    },
    {
      "cell_type": "markdown",
      "metadata": {
        "id": "H83PcEXqvOOp"
      },
      "source": [
        "Splitting the dataset into train and test sets with a ratio of 0.7:0.3"
      ]
    },
    {
      "cell_type": "code",
      "execution_count": null,
      "metadata": {
        "colab": {
          "base_uri": "https://localhost:8080/"
        },
        "id": "YY3vzKcd_dhg",
        "outputId": "bd8ee722-2c29-46fe-cc81-a476336d386c"
      },
      "outputs": [
        {
          "output_type": "stream",
          "name": "stdout",
          "text": [
            "time: 5min 29s (started: 2022-05-09 18:28:13 +00:00)\n"
          ]
        }
      ],
      "source": [
        "x_train, y_train = generate_set(mri_df_train, DATASET_01_TRAIN)\n",
        "x_test, y_test = generate_set(mri_df_test, DATASET_01_TEST)"
      ]
    },
    {
      "cell_type": "code",
      "execution_count": null,
      "metadata": {
        "colab": {
          "base_uri": "https://localhost:8080/"
        },
        "id": "XkVJXoDJbDsi",
        "outputId": "65d2ca70-e74e-495d-fbed-04d91478c550"
      },
      "outputs": [
        {
          "output_type": "stream",
          "name": "stdout",
          "text": [
            "x_train shape: (279, 196608)\n",
            "y_train shape: (279,)\n",
            "x_test shape: (279, 196608)\n",
            "y_test shape: (279,)\n",
            "time: 39.8 ms (started: 2022-05-09 18:33:42 +00:00)\n"
          ]
        }
      ],
      "source": [
        "# np.array().shape\n",
        "print(\"x_train shape: {}\\ny_train shape: {}\\nx_test shape: {}\\ny_test shape: {}\".format(np.array(x_train).shape, np.array(y_train).shape, np.array(x_test).shape, np.array(y_test).shape))"
      ]
    },
    {
      "cell_type": "markdown",
      "metadata": {
        "id": "FbxoVX6ov8aC"
      },
      "source": [
        "## Get the dimensions of the data"
      ]
    },
    {
      "cell_type": "code",
      "execution_count": null,
      "metadata": {
        "colab": {
          "base_uri": "https://localhost:8080/"
        },
        "id": "TW7fTPaDXz72",
        "outputId": "54f8a72f-21c8-42b8-f5fc-f4c51c322408"
      },
      "outputs": [
        {
          "output_type": "stream",
          "name": "stdout",
          "text": [
            "196608\n",
            "time: 1.79 ms (started: 2022-05-09 18:33:42 +00:00)\n"
          ]
        }
      ],
      "source": [
        "print(len(x_train[0]))"
      ]
    },
    {
      "cell_type": "code",
      "execution_count": null,
      "metadata": {
        "colab": {
          "base_uri": "https://localhost:8080/"
        },
        "id": "LC3iTFDlbgZg",
        "outputId": "f9f91a74-3561-4a2d-a67b-3c11cb277ccc"
      },
      "outputs": [
        {
          "output_type": "execute_result",
          "data": {
            "text/plain": [
              "(256, 256)"
            ]
          },
          "metadata": {},
          "execution_count": 55
        },
        {
          "output_type": "stream",
          "name": "stdout",
          "text": [
            "time: 8.01 ms (started: 2022-05-09 18:33:42 +00:00)\n"
          ]
        }
      ],
      "source": [
        "# print(len(mri_df_train))\n",
        "# print(len(mri_df_test))\n",
        "mri_df_train.head()\n",
        "img = Image.open(DATASET_01_TRAIN +\"/\"+ mri_df_train['class'].iloc[0]+\"/\"+ mri_df_train['file'].iloc[0])\n",
        "w, h = img.size\n",
        "w, h\n",
        "# img"
      ]
    },
    {
      "cell_type": "code",
      "execution_count": null,
      "metadata": {
        "colab": {
          "base_uri": "https://localhost:8080/"
        },
        "id": "SYatnBNdbphi",
        "outputId": "664a347e-edb3-40de-a8d0-45fb72c0a2db"
      },
      "outputs": [
        {
          "output_type": "stream",
          "name": "stdout",
          "text": [
            "time: 775 µs (started: 2022-05-05 18:34:25 +00:00)\n"
          ]
        }
      ],
      "source": [
        "# len(img.getbands())"
      ]
    },
    {
      "cell_type": "code",
      "execution_count": null,
      "metadata": {
        "colab": {
          "base_uri": "https://localhost:8080/"
        },
        "id": "jT4pN-LThfx3",
        "outputId": "03bd2c7d-d053-4282-fea4-647f93ea67cd"
      },
      "outputs": [
        {
          "output_type": "stream",
          "name": "stdout",
          "text": [
            "image has 3 channels\n",
            "time: 12.8 ms (started: 2022-05-05 18:34:25 +00:00)\n"
          ]
        }
      ],
      "source": [
        "img = np.array(img)\n",
        "\n",
        "# Code ref: https://gist.github.com/liuhh02/ade48d822139006f98d8f05681209ab6\n",
        "\n",
        "# find number of channels\n",
        "if img.ndim == 2:\n",
        "    channels = 1\n",
        "    print(\"image has 1 channel\")\n",
        "else:\n",
        "    channels = img.shape[-1]\n",
        "    print(\"image has\", channels, \"channels\")"
      ]
    },
    {
      "cell_type": "code",
      "execution_count": null,
      "metadata": {
        "colab": {
          "base_uri": "https://localhost:8080/"
        },
        "id": "aQ_6vvHV-WJR",
        "outputId": "90dc6fe8-b5f3-4768-98c9-ad5b6333c813"
      },
      "outputs": [
        {
          "output_type": "stream",
          "name": "stdout",
          "text": [
            "time: 2.9 ms (started: 2022-05-05 18:34:25 +00:00)\n"
          ]
        }
      ],
      "source": [
        "# arr = np.array(img)\n",
        "# print(arr)"
      ]
    },
    {
      "cell_type": "code",
      "execution_count": null,
      "metadata": {
        "colab": {
          "base_uri": "https://localhost:8080/"
        },
        "id": "DOiyJ2VsEaAc",
        "outputId": "abb2874b-4cf5-41e4-f6d8-447f6209cdcf"
      },
      "outputs": [
        {
          "output_type": "stream",
          "name": "stdout",
          "text": [
            "time: 978 µs (started: 2022-05-05 18:34:25 +00:00)\n"
          ]
        }
      ],
      "source": [
        "# print(arr.flatten())"
      ]
    },
    {
      "cell_type": "markdown",
      "metadata": {
        "id": "9GuuZpoKigHq"
      },
      "source": [
        "# Feature Engineering"
      ]
    },
    {
      "cell_type": "markdown",
      "metadata": {
        "id": "gtWgAIKgiZLP"
      },
      "source": [
        "## Dimensionality Reduction (PCA)"
      ]
    },
    {
      "cell_type": "markdown",
      "metadata": {
        "id": "t2v04LdJj9BQ"
      },
      "source": [
        "Unbalanced problem with SVM:\n",
        "https://scikit-learn.org/stable/modules/svm.html#unbalanced-problems"
      ]
    },
    {
      "cell_type": "markdown",
      "metadata": {
        "id": "XyAPOK6jUvnH"
      },
      "source": [
        "For more info, please visit plotly doc here:\n",
        "1. https://plotly.com/python/pca-visualization/\n",
        "2. https://machinelearningmastery.com/principal-components-analysis-for-dimensionality-reduction-in-python/\n",
        "3. https://stackoverflow.com/questions/50796024/feature-variable-importance-after-a-pca-analysis\n",
        "4. https://github.com/StatQuest/pca_demo/blob/master/pca_demo.py\n",
        "5. https://vitalflux.com/pca-explained-variance-concept-python-example/#:~:text=explained_variance_ratio_%20method%20of%20PCA%20is,scaled%20before%20applying%20PCA%20technique."
      ]
    },
    {
      "cell_type": "markdown",
      "metadata": {
        "id": "n_0D-rVz4VfX"
      },
      "source": [
        "Backup the X train and test set"
      ]
    },
    {
      "cell_type": "code",
      "execution_count": null,
      "metadata": {
        "colab": {
          "base_uri": "https://localhost:8080/"
        },
        "id": "Fv2cfJ4F3iYq",
        "outputId": "2d021b66-f4e1-40a0-bf35-9e42fcb0268e"
      },
      "outputs": [
        {
          "output_type": "stream",
          "name": "stdout",
          "text": [
            "time: 1.07 ms (started: 2022-05-09 18:33:42 +00:00)\n"
          ]
        }
      ],
      "source": [
        "# backup the train and test sets\n",
        "x_train_org, x_test_org = x_train, x_test"
      ]
    },
    {
      "cell_type": "code",
      "execution_count": null,
      "metadata": {
        "colab": {
          "base_uri": "https://localhost:8080/"
        },
        "id": "SiqQ7c4DilnN",
        "outputId": "4aca0e7c-2c15-4b3c-a95a-f4afdead16ed"
      },
      "outputs": [
        {
          "output_type": "stream",
          "name": "stdout",
          "text": [
            "time: 1.31 ms (started: 2022-05-09 18:33:42 +00:00)\n"
          ]
        }
      ],
      "source": [
        "from sklearn.decomposition import PCA\n",
        "import matplotlib.pyplot as plt\n",
        "import plotly.express as px"
      ]
    },
    {
      "cell_type": "code",
      "execution_count": null,
      "metadata": {
        "colab": {
          "base_uri": "https://localhost:8080/"
        },
        "id": "7DopHzOWMc8q",
        "outputId": "44d693f6-bfcc-4477-bc82-26bc767b0195"
      },
      "outputs": [
        {
          "output_type": "stream",
          "name": "stdout",
          "text": [
            "time: 20 s (started: 2022-05-09 18:33:42 +00:00)\n"
          ]
        }
      ],
      "source": [
        "pca = PCA()\n",
        "\n",
        "x_train_pca = pca.fit_transform(x_train)\n",
        "x_test_pca = pca.transform(x_test)"
      ]
    },
    {
      "cell_type": "code",
      "source": [
        "print(\"Original X train shape: {}\".format(np.array(x_train).shape))\n",
        "print(\"X Train shape after PCA: {}\".format(x_train_pca.shape))\n",
        "\n",
        "print(\"Original X test shape: {}\".format(np.array(x_test).shape))\n",
        "print(\"X test shape after PCA: {}\".format(x_test_pca.shape))"
      ],
      "metadata": {
        "colab": {
          "base_uri": "https://localhost:8080/"
        },
        "id": "MKVWXIEBJI-u",
        "outputId": "ae5fa5de-b08b-438a-93e8-bfa5a50274e1"
      },
      "execution_count": null,
      "outputs": [
        {
          "output_type": "stream",
          "name": "stdout",
          "text": [
            "Original X train shape: (279, 196608)\n",
            "X Train shape after PCA: (279, 279)\n",
            "Original X test shape: (279, 196608)\n",
            "X test shape after PCA: (279, 279)\n",
            "time: 44.2 ms (started: 2022-05-09 18:34:02 +00:00)\n"
          ]
        }
      ]
    },
    {
      "cell_type": "code",
      "execution_count": null,
      "metadata": {
        "colab": {
          "base_uri": "https://localhost:8080/"
        },
        "id": "9xsei6PnX5gv",
        "outputId": "88910d30-90b1-41f8-d849-46c6e2d9ce9e"
      },
      "outputs": [
        {
          "output_type": "stream",
          "name": "stdout",
          "text": [
            "time: 568 µs (started: 2022-05-09 18:34:02 +00:00)\n"
          ]
        }
      ],
      "source": [
        "# header = [\"PC\"+str(i) for i in range(1, len(x_train_pca[0]) + 1)]\n",
        "# header"
      ]
    },
    {
      "cell_type": "markdown",
      "source": [
        "Comment out for actual run."
      ],
      "metadata": {
        "id": "XItsc179O7Jd"
      }
    },
    {
      "cell_type": "code",
      "execution_count": null,
      "metadata": {
        "colab": {
          "base_uri": "https://localhost:8080/",
          "height": 559
        },
        "id": "Ht_wkGkZZiR0",
        "outputId": "dc0f1bc4-448b-4d71-bb39-cb2f080ba246"
      },
      "outputs": [
        {
          "output_type": "display_data",
          "data": {
            "text/html": [
              "<html>\n",
              "<head><meta charset=\"utf-8\" /></head>\n",
              "<body>\n",
              "    <div>            <script src=\"https://cdnjs.cloudflare.com/ajax/libs/mathjax/2.7.5/MathJax.js?config=TeX-AMS-MML_SVG\"></script><script type=\"text/javascript\">if (window.MathJax) {MathJax.Hub.Config({SVG: {font: \"STIX-Web\"}});}</script>                <script type=\"text/javascript\">window.PlotlyConfig = {MathJaxConfig: 'local'};</script>\n",
              "        <script src=\"https://cdn.plot.ly/plotly-2.8.3.min.js\"></script>                <div id=\"de028171-9a13-4a66-8ebd-ffa10e3bfc42\" class=\"plotly-graph-div\" style=\"height:525px; width:100%;\"></div>            <script type=\"text/javascript\">                                    window.PLOTLYENV=window.PLOTLYENV || {};                                    if (document.getElementById(\"de028171-9a13-4a66-8ebd-ffa10e3bfc42\")) {                    Plotly.newPlot(                        \"de028171-9a13-4a66-8ebd-ffa10e3bfc42\",                        [{\"dimensions\":[{\"axis\":{\"matches\":true},\"label\":\"PC 1 (18.1%)\",\"values\":[-3994.61130196501,9492.674264350895,9350.061770760532,205.9883347507598,-2336.9261909135676,-1287.4601014454045,-513.4624152888857,-750.1922929147678,-5557.044749849372,8566.261625848723,-7199.795039145132,-1694.9092275819758,11860.056015695009,-4034.3959191482954,-2098.354235451488,-2527.4496348235107,7424.345962868846,-5389.624820657104,-549.692201339718,-4244.717176954859,-5016.599607153092,11735.702742807915,-1556.301419568683,10073.953031012004,-18450.299880783317,8907.070206579107,-1548.8734500938294,19512.622133657693,-1299.8393553393717,-18223.559218781997,-5962.98146231324,-7775.91636713728,-762.2738932944163,-936.843248110183,8411.438130151391,-1284.4719338715165,11646.189689645546,7891.277583439285,-161.86777998201845,-16619.368324327792,-21688.145704656414,8204.916798317916,-17745.3543509818,-30.01074879984767,15799.748958026647,-2926.8302478048736,-10286.976839415665,9626.588148555182,-11959.992147842566,-4497.67801413747,-13905.736365693288,12339.75042379519,-7275.3151273285675,9656.432195837084,-2874.103625206653,-1485.1030824503262,-14027.218928274475,-7237.715704651486,1486.3196263834802,9964.744708069775,12500.23680068253,-17544.609668258872,-14061.060369323566,-21807.066427554335,7956.34840719439,-509.9675454647919,-18311.83046658519,-1804.3731433517905,-1174.9963680189837,3686.953035750052,-5357.0763929340865,-1442.5806885093634,11340.48844230823,9704.313704446848,8754.841963799348,13009.940662801451,12619.720090156792,-11474.38362069768,-199.00322129014893,-17002.329918828378,9350.51757826918,-19331.163935509205,-10348.715431163508,-1343.9228336944238,-13978.66002675007,-3669.8222108295663,-1032.1654627067715,-1422.865710831802,2218.6471749665366,8923.014812005431,-17422.411110802183,7006.873580763069,-11999.126089394402,-1427.3588549225638,9714.495001511923,-1525.9738712227881,9600.329985404074,-5320.818539838121,-13858.88268283609,8618.724206880017,-7360.572643699331,-4995.524545682442,-1455.4761431855106,-1644.6379157060303,-18905.75013280168,12479.2954880973,13375.61800680762,985.5820435957339,1466.1847983381385,-6059.968154113328,-1268.9478481060678,-5333.521820359371,-10792.152921708674,-5323.930715438843,21422.196244373667,-13523.188649460388,11880.928786918146,-1186.3300136349803,-1475.1611713679827,2224.707486410772,20772.06285208432,1687.3673152755791,6637.405021869164,-6654.315704274169,-7558.29999376907,4185.477310349048,-6973.093650834611,13412.321181510782,-5959.18595394031,6884.66986090425,10245.011525308459,871.0883039186355,21533.220335102033,-1918.1442194795275,-5318.236875850777,11797.180120312321,-1658.8279756750937,-3499.492502670017,3820.282224356298,-11171.970149545938,6301.98509939654,-445.11255513435987,22325.80937328867,9672.31155805963,14099.861326094056,7083.816147463684,1487.1951040770277,-4271.58543237377,-14899.497416178572,-15678.628512490208,-11379.040543058629,-2336.1815218691318,-5320.618446557889,-1990.9142118770376,-9799.99581868183,-1749.4108124455918,4532.355965209139,8434.25753615993,-1020.3835992075406,10255.40098636988,-5786.9133877066615,-12753.33589086727,-13173.224049017357,3234.7307489916134,-3271.7910403185965,21484.241732977272,33161.57019863118,-2662.8756117017147,-5357.196624947322,-2841.8541908080756,-5685.579003938678,-6468.475319795095,6007.304455022457,-2932.817938981797,8462.571937388655,-12928.271190302616,-16797.488548873414,13897.416777524395,19220.92719863536,1224.7434241604567,-12736.812087537139,10360.390017893109,-13371.5750485161,-14691.159119969232,-4868.269575697516,-2441.5065475638917,-2242.502955413224,2647.074090953808,4618.555895816489,-3558.2485997947897,4618.690310749495,6241.081886992594,-12916.44834041588,-3572.996700006264,-3448.0186683336924,-11923.96423828385,19445.981338098445,-8155.271924923671,1833.6590398273709,2459.1299283252947,19647.81616381727,10803.268829330254,5052.572312549995,-13203.17825139099,6031.528751226085,-4064.40294611277,6687.2290591293795,-2729.421799546339,23787.777098931005,-4699.478886992281,815.0327108591939,1142.2283214129895,1841.3209446805195,-2757.115746754961,-3774.8857375695143,-4105.90174517647,-6754.522988563463,4779.6433161877885,10647.661836402734,-5058.041855791634,-3489.1592955435544,-4139.16586356828,21785.721819173046,-2300.834401635096,-12094.899928861909,-2094.831731402373,299.5160364997533,-4021.485501550181,-16065.879632382252,-494.1247560727788,-9317.071656823284,-4573.861443639993,2652.993592265538,22519.238939263065,19201.99725187497,8486.895770000863,-4709.312987894931,9288.051116291586,11463.336826393275,-12542.575641125268,-2913.26383632983,-6671.521254623829,-1897.9544619025892,-10601.370622508626,19080.160322402942,-2182.1669100604327,6645.310239039902,6076.861442019182,-3533.2003749671735,-12902.275189171058,2021.7562401680282,-5407.384960376549,-4979.298362480664,-12720.12841518463,-9670.571060928,12639.532070053001,20528.583193420567,207.48475556430168,18731.69785322039,-711.1888713338147,1097.6129818977752,21044.857583530433,575.5201332494964,-3735.777814241068,-16974.92066942434,2204.529268992401,5634.921144012631,20632.27927305897,-1104.1750063582645,-13309.656774455865,-13874.556036984428,4858.584746606503,-239.48851558084783,1482.7795689989769,5018.461760305363,7826.853550442811,9644.728110309692,-4481.843912453263,-3334.8259652603565]},{\"axis\":{\"matches\":true},\"label\":\"PC 2 (4.7%)\",\"values\":[220.98191746465477,14870.169705382106,-1669.662531624548,3050.4705979431797,3734.064176273848,-361.2892350006718,-6655.7567080059425,-1402.571423999032,-2555.185783786973,-5752.171047805377,3653.6578536990387,-1422.8004901906197,-8062.816354395157,3385.1589249529125,672.74167243011,4973.739187523856,4446.718191685346,-8616.169587600027,-4732.528898845629,-421.6365269864422,2613.5738205097564,-1438.001326806881,362.59765575407926,4055.5457501231595,-1452.6933198755592,14762.796896327825,1631.5336433145521,7140.788149049636,-4034.747173359423,-3136.257950891766,638.5548862334205,5348.73380062416,14459.748703349864,-5073.457626646409,2709.692467343295,3208.8200413362433,-3540.6967905555803,5220.55367280971,-404.6861152606064,-5025.742445501375,-2181.382900171183,-2696.489266783163,398.1778536503227,3051.1446358623266,-3360.987238270091,-5194.05223515821,1041.88535960386,-4440.244726002285,-410.5527292651165,-8051.72466758773,2004.6396806619487,-5427.132643194684,3833.837175466982,16687.004622627726,1274.58663114027,2434.119740285757,2232.922296969896,4269.058924793107,1561.0658031514392,2310.056997816502,3933.581227320428,-1963.68462044716,1599.989153059822,2005.6332280087142,5212.441178765511,2136.6467445285016,-2721.5080447587234,787.0532723004137,3995.4232523318146,-6113.427237573383,441.41131509134607,2638.181905502451,248.86432506423202,16185.72848932967,-1664.5174502511788,-9883.094883913871,3248.9162889764516,-171.92599562689728,1593.1681468818445,-2860.767362241221,16460.703362864617,-901.0402433833968,-506.8272699587219,-4400.130773948512,2201.531748608669,1565.238689683953,1929.7013599817376,4505.276626463779,2079.4752770550576,18527.40029434237,-2214.496810092195,3893.494689116784,-453.6167332814086,2191.5337676828262,1450.6690850914445,998.7508069515314,14818.11744517849,-2403.874778799116,-1371.4919341813081,8363.168901037718,3562.0817822798917,-2028.2393481764893,1774.712516427786,1340.398778812081,-573.3266381227879,-3454.4547230950925,-10620.653576325501,-2433.825344654654,-153.34830166766992,-4731.306092720273,3175.076839106888,3805.450229322962,3881.0971038592947,888.4971846322536,-13051.566558671915,159.86091573035725,2442.1774282568563,5052.063055477829,-2138.278690886856,3682.170115839141,1635.135569607839,-5408.307339248892,2315.820182591447,1712.453663948162,-1426.9889016496043,-6101.203887468767,321.2765975180635,-3234.2902395269075,-4957.6366994489945,-1591.860061147547,3204.291707580353,12047.567628194402,6013.8665660429215,-3360.189486231602,-5529.629683813505,-5021.717695702528,-4659.9135211711155,-1704.4587601223843,1944.3212638843493,-7249.799541402913,-630.558491263998,421.0117239250559,-8864.652431966582,-737.9558789875149,2522.6992333933867,6382.5891228468745,2318.048944477378,-2741.9937765415443,864.3527689535598,1220.0779441952468,-3409.7483294926124,5547.831484131539,2979.6521644252484,3132.036207454074,1578.7980060248108,-6047.059105153109,-2471.823596870742,-7966.6468670957565,-4527.783189474369,-4641.957256063233,2451.884903473547,-2329.0717639379336,-623.6032398701176,-8770.614010167628,846.1037907067955,8121.228914208751,1396.3612622433945,156.62868131993608,-5582.78605457846,-8515.0332468225,-1622.959920186979,1277.6208721699618,3974.7491988356546,-5803.207672611699,-1734.6771411095915,755.7652963457283,-3163.4062034655312,7370.490638751586,-3092.9444859170885,-5525.930267665096,-1179.2737860487186,-10448.051528238828,367.23567931306223,-1285.0096093588354,-8073.555753995421,1843.7073095445007,238.35096704680132,1306.7342817141387,-5229.698460464201,-170.27464299135403,2000.0297162580046,-77.18988416186515,-517.7809874851041,-4946.47592322818,-1397.480095227907,-5271.931418404363,-8027.8761942791325,-73.2640118153517,1579.839735363464,2552.7975656288886,1001.6964598475267,-4954.853938120888,5650.1937150029335,1896.628235250597,4894.83200249181,-3807.0200309063316,6688.890557309301,2213.865991566883,5470.881420472852,-5963.2646022407735,8940.532215602292,-699.253470232611,-4714.577691911798,317.67564113340546,10555.48327089116,5028.181831822045,1088.1968880115307,-5520.137214876849,-5084.2633576713615,-1907.7978396534347,-1469.9575722606833,2871.6973433827716,-8566.005640626643,-3531.0401377453986,-2539.15298820108,1916.330480932789,2931.0223364798458,-2281.9512887366027,1070.6751444838178,-1485.365302712634,10984.082241750588,-1836.0121875144812,-5892.268049320825,-6058.780696089599,-7156.847600849418,-7377.314835208394,-1940.14836906072,-6384.073044830017,831.450272061197,-1827.032493288555,-871.1437926127122,423.7142260328679,-4202.383594860884,4750.73571275429,-9380.05158856511,-19.70240097451393,3428.6989496671163,-5208.112073384955,68.00664380955963,1604.5935926263558,-3868.268567447811,3636.3427842937945,1245.7654816343731,-4826.908223179795,9810.03210340544,5719.830036916139,-1931.231137943326,-588.1966921744432,3520.589033367473,1494.2390919107922,-166.9764004750447,-7807.592937701708,2602.5106936954408,11827.629149724899,-3240.101766668683,1046.8210457174284,-2887.72482143784,1044.2021897403074,-205.17776894938712,-5678.386240865055,875.5228370606413,-2113.4790018883396,5813.7291210738,-92.70634607111715,1535.2370462184883,-13877.89858790664,-647.8725848077227,-2656.2715114452562,-884.2867577434231]},{\"axis\":{\"matches\":true},\"label\":\"PC 3 (4.4%)\",\"values\":[2855.767546526908,2918.8010305548987,3048.956096822898,-2714.6491919218647,-5646.45138550324,1217.266391244373,6221.164366842638,-8177.5839182683685,-2419.410032600966,1588.2245058403005,-1195.5104390059992,-1267.184885813724,1765.6862521525027,-766.1479957280557,-4582.991083246914,-4038.0789194317194,643.6959651988174,5723.017186216724,4947.516953893753,2011.9382741321251,-1303.3528194572368,-528.8644383295011,-4639.143326311887,-5379.528924687816,-46.565367339828995,2944.367182148623,602.4330700700071,-3135.815038262737,5243.674485238469,-265.5465341501613,-7795.509629955983,-2719.213609798426,10176.384904483719,6046.062426915803,-1312.7974042277303,630.3643714162093,2562.297123146697,-4572.478258910789,-6857.506316780734,2468.8427207689165,-314.52921562228903,-1248.848305082002,-965.1496508164108,-2620.8950031138497,-3395.9493772083465,-4241.121930950574,-6992.641810186163,-506.2693526038741,-4653.318976739805,6919.468450551025,-5792.552494218793,2965.982783254174,-2877.3638345268223,3068.537297174077,1870.62604827568,1798.07752771339,-5989.93923749487,-2371.69813062876,-5128.037713286934,-4379.130902752631,-1165.2478305226718,-1109.419137434475,-4778.904402398662,-2537.8275871782785,6943.012458202513,-4651.753715431827,-538.7477051492205,-4966.269628298843,-2620.1837011475927,-5967.705234670402,-6211.135539489355,-4200.019313215508,335.16187248673316,2403.8015058810506,-618.6983084380707,-1275.1007436372083,-1666.4443235326535,-5488.208603376015,-3614.4400756774744,1312.3478459495918,4609.700693109114,2473.685661631932,-4739.8889055545715,2817.8383262013203,-5704.430752327634,2318.5394941562886,2433.7304438179017,-3456.809592003973,-1434.1385108229003,16050.942218282331,-780.6990250512539,107.79610060616366,-4979.465595655057,-1610.9501485656547,-4245.493387080067,-5066.737863526261,5131.256761221253,-2321.0391175130153,-3639.7563945971037,3440.478668277078,-1448.0948328886996,-1772.3060371847291,1407.2547108586864,-2531.7332586414386,1669.123840113874,-1861.634715425898,-414.1468090561029,-5026.209242565615,-2345.748694304439,-974.7764572749023,1532.9469605794334,-1555.2729459805737,15521.95597590135,-1235.4733925267478,-5546.961135905549,-4259.974478310211,-2011.6417993952732,-3753.0140265992304,-5561.560917237602,-848.0602893728905,-3008.6706949577797,-359.5401575453018,4689.654895549181,-5558.574587292604,-1691.8715806295534,-8569.134373076273,-2933.50880175046,-677.3703736232463,-1318.835586446198,-3239.6384670170687,-9654.055201528929,84.91375316782033,-2465.264731068263,2330.719288758878,-1296.655600870927,1163.294873339189,2461.3044315255543,-5841.504612578872,-245.23770754264174,7843.602727839599,1346.267663122671,809.3479533521125,9885.200494203798,1420.4870018065453,-1451.0685567313458,-169.68629434699525,-1386.1894878406936,2388.366746749162,-3574.7678807390726,3898.1800460078434,5728.423634676823,-1487.4154624315422,-3153.4987957313497,12.095966732957603,-4560.257174375964,1030.5298564003506,6089.381537911627,-11915.348988735233,-614.9276248504549,5421.53827946314,2638.3754890584632,2722.068212200334,1786.9085115465293,15662.84767300468,-7884.302754864254,-3531.1619589988754,-5899.86160269016,2776.4009057551416,-1398.4086789873104,7733.13252154194,2880.117772497443,-5057.841014111428,7062.6093332503,11879.45945819082,-3262.887208248698,-6019.188655929922,-452.97529234999166,204.2381334738103,-2025.024569659368,3199.1550880861346,-898.768793671015,10074.885377235254,2481.900169618719,493.2091918683932,7208.204342737695,-441.14929400045867,-6391.001130833814,-1809.936142568875,-9925.206248366092,-625.8608557142454,2545.5945208826515,6083.295330630259,-954.4433024698885,2121.168321492539,-6010.324371491215,7524.133458266272,-6903.0606133528445,-8650.611508598657,6024.890862977658,8402.751241589458,-476.5049925953099,-5745.946990391294,8411.817574918634,-299.9486048035101,6451.567105474025,9959.890631709308,5460.424031725193,677.681381430617,-1968.4607126268309,4419.519396290602,10238.739857153247,-1461.4213576680093,4526.763039605229,-7990.349222586565,-35.8212695420647,8347.215230848476,-2289.8210861284215,-9144.805951865479,1753.3409668419822,-5.30816750128855,10203.072245381558,5214.6500152372855,12223.49226940517,802.8472501907853,654.4450511867835,-362.7072104008502,-4098.153740259472,-5199.557784689808,2323.2234144315776,-482.87736398996435,1712.817324985156,-3735.3221123449234,2177.846262107937,6781.491436450409,-8402.934090473695,-5417.938951089752,-946.172619114537,-5533.126073014698,9179.03067031089,3028.5141937961876,-1688.3987639320565,-8541.557727948646,2860.839804994775,5948.503799060161,-6785.861670950189,-6709.8027261491525,8245.313392284907,10442.728477613347,-1108.7367938124778,3573.031044138485,4352.513663885641,-1717.335135487964,4087.4461576901613,8136.301609130334,1628.8856376240553,-851.5891571392361,-63.05522858768426,-2583.373496214241,-7378.3094352697935,-6139.920750931254,1281.3427887196974,-6202.122157410574,-5908.901208691055,-1159.9293980253526,3973.581691309487,7542.388317585293,669.0330214281217,-2468.515098085527,10023.787028309194,6798.213663336998,-353.7777814601624,643.5395561349036,908.7642953893909,-543.8704687375482,5325.79170696494,12465.83717206231,1654.3488149270447,-4876.85542866482,-595.9354593077724]},{\"axis\":{\"matches\":true},\"label\":\"PC 4 (3.3%)\",\"values\":[-9902.176175568415,6932.385164566821,-4278.532586146279,1226.8625728538284,-1297.9488220913072,-4904.755846028031,-40.60745354347515,1521.284551317251,2339.4636538723043,5060.166152678743,-4551.2569545418,2668.8332704527706,2105.807678000387,-1499.271888743614,-3584.011865480329,692.1642730396586,821.674978853346,-2754.90723920721,-424.0494541336874,-9002.412521740003,-1511.8412837491976,-1062.5107558949655,-3780.3460673266973,-1949.3282457145597,902.2090155453408,2140.544275878807,4838.355621043745,-1156.6494817875603,-2985.2261330644897,-56.75511428082205,957.5884905110566,-5519.5757273676145,-3043.6077448260994,-2404.0690346327274,-5501.553530480972,1951.2209899512045,-6482.490934220428,-2904.0188382503165,540.9844718905239,-403.23840683901886,2741.427504849329,-7184.238686563321,-625.7576258696995,3068.758471954283,3578.5273181711977,2715.92306951589,-2622.519002363688,-2927.9950847335504,2988.9598060239837,3425.8932246233744,-2297.856485614648,-2422.742160888637,-5544.058517998,4654.828320747584,6004.85710012207,3226.337115561802,-2375.3223023086753,-5906.5834931946165,1151.54280334092,935.4653180450989,-1066.7585638522376,-937.3794558085118,-2173.661234136913,-3521.051937178214,13260.277905931725,2854.4938314749515,-566.3624122000563,-3440.029627282002,-67.47556478338075,5862.220718462295,-481.06038007033834,-1946.512344637535,-5057.394671748716,6055.879821930101,-4377.7747696769975,-2793.3836704914092,220.65034415177627,3933.3032045035975,3416.637773986943,-3156.7647096193427,-2423.5258518962387,2050.9585906989146,846.5816311702449,2618.72386777948,-2351.968043691197,3078.895541145775,3967.7087536543545,2512.6759430420766,4093.6632125719075,5139.977274174643,-1027.482928515501,1126.8812008920545,3342.474262612654,2447.0710212004883,1218.087126909286,-3369.9474432733564,5792.997075374979,2492.4689093984107,3239.907347212838,11321.95061381416,-5579.681371873472,4167.78044860589,4284.197994546903,5922.843149426227,2922.880125303684,-7144.552504443368,-3044.0174824330848,4704.020164579391,3169.6122323394657,6094.16519748134,1818.3449677764809,1069.1553929379156,4362.4147168366235,14.42460279589586,1909.8908224744614,-1243.7736624230367,889.9918267707586,-1826.8643443106748,-7480.800945532029,133.7730586012209,-4054.2836587830147,3690.8781187520062,-3733.989424490185,309.4960780423666,3880.4043821618734,1280.9238393179967,-1647.4660408235598,10123.906492419386,340.56434307086244,2064.1563149998674,-1784.205197124054,2472.564518625952,-136.59772643625433,-824.049096001732,1426.5057540537207,2522.5552990040405,5865.547216146292,1776.8075553697854,3474.836675330631,3526.6517903981103,5736.31807765375,-3198.053803961608,3988.695235039165,-8494.020116844698,-3293.6181700709844,-3201.024704846521,-6901.106864548572,-1372.441503027763,-430.09505445687734,-7343.61719748924,1906.107203821816,-1199.2064936902643,-3349.367565636938,1454.076553635506,-1300.3089613592267,1981.7414574285986,2635.2750809675335,-1222.6916733678565,5368.437199335223,1860.1350410907855,5748.06390141817,2565.3606736581473,2074.213011317273,2851.777840595483,-748.5581027953314,-2289.733964149654,7460.44948167129,-4773.866329481043,1637.8410618827302,1537.0763295452603,-540.2983117074875,-1157.1536104819197,-12234.167116417326,-341.31924350538094,-2388.97328828744,-1740.916459630946,3198.2643607754253,2406.6619367033813,8046.669110101411,2614.7875864140183,147.5377815386943,3131.66941344974,853.8433897085471,4061.086910767374,2512.469816202677,6427.34960110373,-852.1508802799829,1854.7708051333773,-531.0212090623164,-5497.839797655157,-5275.519182085175,-8118.1583684421375,-317.6712226569611,3339.6344931525728,2682.953895739076,1701.0157963634397,-7119.47625326138,544.1722341481137,-1822.8866459693602,-6837.839957012434,6687.697554430335,4569.482500190126,-808.6229092775525,-437.2466170254257,-10691.0936835184,-4706.73473677206,-5007.912263705005,6055.206540984831,1393.1077592668685,2584.0661915021374,-4070.961124545323,-4241.503973170416,608.1001264049792,4.885599743012252,3572.3908786866045,-2036.666005988219,-3577.9536980840935,-1186.3374019133073,5871.12471016851,2992.7474285083053,-10369.886337424301,-1045.2287973100117,3144.4189250993054,4841.954838800702,-1930.656229856627,7006.941178483078,-1702.405747846641,1043.2852725260034,-1104.3871329476892,-6135.6132806027645,2030.1534875823938,-6074.433113464788,-3613.3878298948803,3403.1703061809258,-5258.8969554337455,2590.311819127563,-212.98175338397834,5612.566686148074,-7472.398845164343,-1005.9117345320783,7799.730118487045,321.98689080926954,7172.957219326853,-5117.354347254969,-3218.510844651753,69.84280728053557,-10127.777828363372,3569.4813428390817,-886.4949126690427,-6611.976011135975,-323.41017747327584,-3054.338647005103,2034.223758694885,3350.8947807462546,3341.0998755883697,-38.17333878142777,7432.791138551237,-416.2723549413361,-1511.6750336292207,-288.72597513006326,-5477.524375629572,-5409.59388080788,-1495.2509604350755,3126.9939110391224,1292.7015903105028,-6914.141036378925,-3295.1749141196105,-3824.315557611005,8735.676629295189,966.5260343550574,207.25708657355315,-6225.701058926003,11029.014558745299,3218.58511623898,-11066.723744948556,-4343.711781599813,-10727.951565162228,2176.4979667411444,633.978925935765]}],\"hovertemplate\":\"%{xaxis.title.text}=%{x}<br>%{yaxis.title.text}=%{y}<extra></extra>\",\"legendgroup\":\"\",\"marker\":{\"color\":\"#636efa\",\"symbol\":\"circle\"},\"name\":\"\",\"showlegend\":false,\"type\":\"splom\",\"diagonal\":{\"visible\":false}}],                        {\"template\":{\"data\":{\"bar\":[{\"error_x\":{\"color\":\"#2a3f5f\"},\"error_y\":{\"color\":\"#2a3f5f\"},\"marker\":{\"line\":{\"color\":\"#E5ECF6\",\"width\":0.5},\"pattern\":{\"fillmode\":\"overlay\",\"size\":10,\"solidity\":0.2}},\"type\":\"bar\"}],\"barpolar\":[{\"marker\":{\"line\":{\"color\":\"#E5ECF6\",\"width\":0.5},\"pattern\":{\"fillmode\":\"overlay\",\"size\":10,\"solidity\":0.2}},\"type\":\"barpolar\"}],\"carpet\":[{\"aaxis\":{\"endlinecolor\":\"#2a3f5f\",\"gridcolor\":\"white\",\"linecolor\":\"white\",\"minorgridcolor\":\"white\",\"startlinecolor\":\"#2a3f5f\"},\"baxis\":{\"endlinecolor\":\"#2a3f5f\",\"gridcolor\":\"white\",\"linecolor\":\"white\",\"minorgridcolor\":\"white\",\"startlinecolor\":\"#2a3f5f\"},\"type\":\"carpet\"}],\"choropleth\":[{\"colorbar\":{\"outlinewidth\":0,\"ticks\":\"\"},\"type\":\"choropleth\"}],\"contour\":[{\"colorbar\":{\"outlinewidth\":0,\"ticks\":\"\"},\"colorscale\":[[0.0,\"#0d0887\"],[0.1111111111111111,\"#46039f\"],[0.2222222222222222,\"#7201a8\"],[0.3333333333333333,\"#9c179e\"],[0.4444444444444444,\"#bd3786\"],[0.5555555555555556,\"#d8576b\"],[0.6666666666666666,\"#ed7953\"],[0.7777777777777778,\"#fb9f3a\"],[0.8888888888888888,\"#fdca26\"],[1.0,\"#f0f921\"]],\"type\":\"contour\"}],\"contourcarpet\":[{\"colorbar\":{\"outlinewidth\":0,\"ticks\":\"\"},\"type\":\"contourcarpet\"}],\"heatmap\":[{\"colorbar\":{\"outlinewidth\":0,\"ticks\":\"\"},\"colorscale\":[[0.0,\"#0d0887\"],[0.1111111111111111,\"#46039f\"],[0.2222222222222222,\"#7201a8\"],[0.3333333333333333,\"#9c179e\"],[0.4444444444444444,\"#bd3786\"],[0.5555555555555556,\"#d8576b\"],[0.6666666666666666,\"#ed7953\"],[0.7777777777777778,\"#fb9f3a\"],[0.8888888888888888,\"#fdca26\"],[1.0,\"#f0f921\"]],\"type\":\"heatmap\"}],\"heatmapgl\":[{\"colorbar\":{\"outlinewidth\":0,\"ticks\":\"\"},\"colorscale\":[[0.0,\"#0d0887\"],[0.1111111111111111,\"#46039f\"],[0.2222222222222222,\"#7201a8\"],[0.3333333333333333,\"#9c179e\"],[0.4444444444444444,\"#bd3786\"],[0.5555555555555556,\"#d8576b\"],[0.6666666666666666,\"#ed7953\"],[0.7777777777777778,\"#fb9f3a\"],[0.8888888888888888,\"#fdca26\"],[1.0,\"#f0f921\"]],\"type\":\"heatmapgl\"}],\"histogram\":[{\"marker\":{\"pattern\":{\"fillmode\":\"overlay\",\"size\":10,\"solidity\":0.2}},\"type\":\"histogram\"}],\"histogram2d\":[{\"colorbar\":{\"outlinewidth\":0,\"ticks\":\"\"},\"colorscale\":[[0.0,\"#0d0887\"],[0.1111111111111111,\"#46039f\"],[0.2222222222222222,\"#7201a8\"],[0.3333333333333333,\"#9c179e\"],[0.4444444444444444,\"#bd3786\"],[0.5555555555555556,\"#d8576b\"],[0.6666666666666666,\"#ed7953\"],[0.7777777777777778,\"#fb9f3a\"],[0.8888888888888888,\"#fdca26\"],[1.0,\"#f0f921\"]],\"type\":\"histogram2d\"}],\"histogram2dcontour\":[{\"colorbar\":{\"outlinewidth\":0,\"ticks\":\"\"},\"colorscale\":[[0.0,\"#0d0887\"],[0.1111111111111111,\"#46039f\"],[0.2222222222222222,\"#7201a8\"],[0.3333333333333333,\"#9c179e\"],[0.4444444444444444,\"#bd3786\"],[0.5555555555555556,\"#d8576b\"],[0.6666666666666666,\"#ed7953\"],[0.7777777777777778,\"#fb9f3a\"],[0.8888888888888888,\"#fdca26\"],[1.0,\"#f0f921\"]],\"type\":\"histogram2dcontour\"}],\"mesh3d\":[{\"colorbar\":{\"outlinewidth\":0,\"ticks\":\"\"},\"type\":\"mesh3d\"}],\"parcoords\":[{\"line\":{\"colorbar\":{\"outlinewidth\":0,\"ticks\":\"\"}},\"type\":\"parcoords\"}],\"pie\":[{\"automargin\":true,\"type\":\"pie\"}],\"scatter\":[{\"marker\":{\"colorbar\":{\"outlinewidth\":0,\"ticks\":\"\"}},\"type\":\"scatter\"}],\"scatter3d\":[{\"line\":{\"colorbar\":{\"outlinewidth\":0,\"ticks\":\"\"}},\"marker\":{\"colorbar\":{\"outlinewidth\":0,\"ticks\":\"\"}},\"type\":\"scatter3d\"}],\"scattercarpet\":[{\"marker\":{\"colorbar\":{\"outlinewidth\":0,\"ticks\":\"\"}},\"type\":\"scattercarpet\"}],\"scattergeo\":[{\"marker\":{\"colorbar\":{\"outlinewidth\":0,\"ticks\":\"\"}},\"type\":\"scattergeo\"}],\"scattergl\":[{\"marker\":{\"colorbar\":{\"outlinewidth\":0,\"ticks\":\"\"}},\"type\":\"scattergl\"}],\"scattermapbox\":[{\"marker\":{\"colorbar\":{\"outlinewidth\":0,\"ticks\":\"\"}},\"type\":\"scattermapbox\"}],\"scatterpolar\":[{\"marker\":{\"colorbar\":{\"outlinewidth\":0,\"ticks\":\"\"}},\"type\":\"scatterpolar\"}],\"scatterpolargl\":[{\"marker\":{\"colorbar\":{\"outlinewidth\":0,\"ticks\":\"\"}},\"type\":\"scatterpolargl\"}],\"scatterternary\":[{\"marker\":{\"colorbar\":{\"outlinewidth\":0,\"ticks\":\"\"}},\"type\":\"scatterternary\"}],\"surface\":[{\"colorbar\":{\"outlinewidth\":0,\"ticks\":\"\"},\"colorscale\":[[0.0,\"#0d0887\"],[0.1111111111111111,\"#46039f\"],[0.2222222222222222,\"#7201a8\"],[0.3333333333333333,\"#9c179e\"],[0.4444444444444444,\"#bd3786\"],[0.5555555555555556,\"#d8576b\"],[0.6666666666666666,\"#ed7953\"],[0.7777777777777778,\"#fb9f3a\"],[0.8888888888888888,\"#fdca26\"],[1.0,\"#f0f921\"]],\"type\":\"surface\"}],\"table\":[{\"cells\":{\"fill\":{\"color\":\"#EBF0F8\"},\"line\":{\"color\":\"white\"}},\"header\":{\"fill\":{\"color\":\"#C8D4E3\"},\"line\":{\"color\":\"white\"}},\"type\":\"table\"}]},\"layout\":{\"annotationdefaults\":{\"arrowcolor\":\"#2a3f5f\",\"arrowhead\":0,\"arrowwidth\":1},\"autotypenumbers\":\"strict\",\"coloraxis\":{\"colorbar\":{\"outlinewidth\":0,\"ticks\":\"\"}},\"colorscale\":{\"diverging\":[[0,\"#8e0152\"],[0.1,\"#c51b7d\"],[0.2,\"#de77ae\"],[0.3,\"#f1b6da\"],[0.4,\"#fde0ef\"],[0.5,\"#f7f7f7\"],[0.6,\"#e6f5d0\"],[0.7,\"#b8e186\"],[0.8,\"#7fbc41\"],[0.9,\"#4d9221\"],[1,\"#276419\"]],\"sequential\":[[0.0,\"#0d0887\"],[0.1111111111111111,\"#46039f\"],[0.2222222222222222,\"#7201a8\"],[0.3333333333333333,\"#9c179e\"],[0.4444444444444444,\"#bd3786\"],[0.5555555555555556,\"#d8576b\"],[0.6666666666666666,\"#ed7953\"],[0.7777777777777778,\"#fb9f3a\"],[0.8888888888888888,\"#fdca26\"],[1.0,\"#f0f921\"]],\"sequentialminus\":[[0.0,\"#0d0887\"],[0.1111111111111111,\"#46039f\"],[0.2222222222222222,\"#7201a8\"],[0.3333333333333333,\"#9c179e\"],[0.4444444444444444,\"#bd3786\"],[0.5555555555555556,\"#d8576b\"],[0.6666666666666666,\"#ed7953\"],[0.7777777777777778,\"#fb9f3a\"],[0.8888888888888888,\"#fdca26\"],[1.0,\"#f0f921\"]]},\"colorway\":[\"#636efa\",\"#EF553B\",\"#00cc96\",\"#ab63fa\",\"#FFA15A\",\"#19d3f3\",\"#FF6692\",\"#B6E880\",\"#FF97FF\",\"#FECB52\"],\"font\":{\"color\":\"#2a3f5f\"},\"geo\":{\"bgcolor\":\"white\",\"lakecolor\":\"white\",\"landcolor\":\"#E5ECF6\",\"showlakes\":true,\"showland\":true,\"subunitcolor\":\"white\"},\"hoverlabel\":{\"align\":\"left\"},\"hovermode\":\"closest\",\"mapbox\":{\"style\":\"light\"},\"paper_bgcolor\":\"white\",\"plot_bgcolor\":\"#E5ECF6\",\"polar\":{\"angularaxis\":{\"gridcolor\":\"white\",\"linecolor\":\"white\",\"ticks\":\"\"},\"bgcolor\":\"#E5ECF6\",\"radialaxis\":{\"gridcolor\":\"white\",\"linecolor\":\"white\",\"ticks\":\"\"}},\"scene\":{\"xaxis\":{\"backgroundcolor\":\"#E5ECF6\",\"gridcolor\":\"white\",\"gridwidth\":2,\"linecolor\":\"white\",\"showbackground\":true,\"ticks\":\"\",\"zerolinecolor\":\"white\"},\"yaxis\":{\"backgroundcolor\":\"#E5ECF6\",\"gridcolor\":\"white\",\"gridwidth\":2,\"linecolor\":\"white\",\"showbackground\":true,\"ticks\":\"\",\"zerolinecolor\":\"white\"},\"zaxis\":{\"backgroundcolor\":\"#E5ECF6\",\"gridcolor\":\"white\",\"gridwidth\":2,\"linecolor\":\"white\",\"showbackground\":true,\"ticks\":\"\",\"zerolinecolor\":\"white\"}},\"shapedefaults\":{\"line\":{\"color\":\"#2a3f5f\"}},\"ternary\":{\"aaxis\":{\"gridcolor\":\"white\",\"linecolor\":\"white\",\"ticks\":\"\"},\"baxis\":{\"gridcolor\":\"white\",\"linecolor\":\"white\",\"ticks\":\"\"},\"bgcolor\":\"#E5ECF6\",\"caxis\":{\"gridcolor\":\"white\",\"linecolor\":\"white\",\"ticks\":\"\"}},\"title\":{\"x\":0.05},\"xaxis\":{\"automargin\":true,\"gridcolor\":\"white\",\"linecolor\":\"white\",\"ticks\":\"\",\"title\":{\"standoff\":15},\"zerolinecolor\":\"white\",\"zerolinewidth\":2},\"yaxis\":{\"automargin\":true,\"gridcolor\":\"white\",\"linecolor\":\"white\",\"ticks\":\"\",\"title\":{\"standoff\":15},\"zerolinecolor\":\"white\",\"zerolinewidth\":2}}},\"legend\":{\"tracegroupgap\":0},\"margin\":{\"t\":60},\"dragmode\":\"select\"},                        {\"responsive\": true}                    ).then(function(){\n",
              "                            \n",
              "var gd = document.getElementById('de028171-9a13-4a66-8ebd-ffa10e3bfc42');\n",
              "var x = new MutationObserver(function (mutations, observer) {{\n",
              "        var display = window.getComputedStyle(gd).display;\n",
              "        if (!display || display === 'none') {{\n",
              "            console.log([gd, 'removed!']);\n",
              "            Plotly.purge(gd);\n",
              "            observer.disconnect();\n",
              "        }}\n",
              "}});\n",
              "\n",
              "// Listen for the removal of the full notebook cells\n",
              "var notebookContainer = gd.closest('#notebook-container');\n",
              "if (notebookContainer) {{\n",
              "    x.observe(notebookContainer, {childList: true});\n",
              "}}\n",
              "\n",
              "// Listen for the clearing of the current output cell\n",
              "var outputEl = gd.closest('.output');\n",
              "if (outputEl) {{\n",
              "    x.observe(outputEl, {childList: true});\n",
              "}}\n",
              "\n",
              "                        })                };                            </script>        </div>\n",
              "</body>\n",
              "</html>"
            ]
          },
          "metadata": {}
        },
        {
          "output_type": "stream",
          "name": "stdout",
          "text": [
            "time: 1.2 s (started: 2022-05-05 18:34:52 +00:00)\n"
          ]
        }
      ],
      "source": [
        "labels = {\n",
        "    str(i): f\"PC {i+1} ({var:.1f}%)\"\n",
        "    for i, var in enumerate(pca.explained_variance_ratio_ * 100)\n",
        "}\n",
        "\n",
        "fig = px.scatter_matrix(\n",
        "    x_train_pca,\n",
        "    # x_train_df,\n",
        "    labels=labels,\n",
        "    # dimensions=(0, 1),\n",
        "    dimensions=range(4),\n",
        "    # color=x_train_df['class'],\n",
        ")\n",
        "fig.update_traces(diagonal_visible=False)\n",
        "fig.show()"
      ]
    },
    {
      "cell_type": "markdown",
      "metadata": {
        "id": "oV22pP2y-ggq"
      },
      "source": [
        "Display the cumulative of variance."
      ]
    },
    {
      "cell_type": "code",
      "execution_count": null,
      "metadata": {
        "colab": {
          "base_uri": "https://localhost:8080/"
        },
        "id": "y1c7QffpVqyh",
        "outputId": "e42f1fc2-e925-4b4a-e3c8-321c8bd82833"
      },
      "outputs": [
        {
          "output_type": "stream",
          "name": "stdout",
          "text": [
            "[0.18   0.2252 0.2688 0.3035 0.3304 0.355  0.3775 0.3955 0.4112 0.4266\n",
            " 0.4414 0.4545 0.4671 0.4792 0.491  0.5019 0.5126 0.5225 0.5322 0.5414\n",
            " 0.55   0.5583 0.5666 0.5747 0.5821 0.5894 0.5964 0.6032 0.6098 0.6162\n",
            " 0.6223 0.6283 0.6341 0.6397 0.6452 0.6507 0.6559 0.6608 0.6658 0.6706\n",
            " 0.6753 0.68   0.6845 0.6889 0.6932 0.6975 0.7016 0.7058 0.7098 0.7138\n",
            " 0.7177 0.7215 0.7253 0.729  0.7327 0.7363 0.7398 0.7433 0.7467 0.7499\n",
            " 0.7532 0.7564 0.7595 0.7626 0.7657 0.7687 0.7717 0.7746 0.7775 0.7804\n",
            " 0.7832 0.7859 0.7886 0.7912 0.7939 0.7965 0.799  0.8016 0.8041 0.8065\n",
            " 0.8089 0.8113 0.8136 0.8159 0.8182 0.8204 0.8226 0.8248 0.827  0.8291\n",
            " 0.8312 0.8333 0.8353 0.8374 0.8394 0.8414 0.8433 0.8453 0.8472 0.849\n",
            " 0.8509 0.8527 0.8545 0.8563 0.8581 0.8598 0.8615 0.8632 0.8649 0.8666\n",
            " 0.8682 0.8698 0.8715 0.8731 0.8746 0.8762 0.8777 0.8793 0.8808 0.8823\n",
            " 0.8837 0.8852 0.8867 0.8881 0.8895 0.8909 0.8923 0.8937 0.8951 0.8964\n",
            " 0.8978 0.8991 0.9004 0.9017 0.903  0.9043 0.9056 0.9068 0.9081 0.9093\n",
            " 0.9105 0.9117 0.9129 0.914  0.9152 0.9163 0.9175 0.9186 0.9197 0.9208\n",
            " 0.9219 0.923  0.9241 0.9251 0.9262 0.9272 0.9282 0.9292 0.9302 0.9313\n",
            " 0.9322 0.9332 0.9342 0.9351 0.9361 0.937  0.9379 0.9389 0.9398 0.9407\n",
            " 0.9416 0.9424 0.9433 0.9442 0.9451 0.9459 0.9467 0.9476 0.9484 0.9492\n",
            " 0.95   0.9508 0.9516 0.9524 0.9532 0.954  0.9548 0.9555 0.9563 0.957\n",
            " 0.9578 0.9585 0.9592 0.96   0.9607 0.9614 0.9621 0.9628 0.9635 0.9641\n",
            " 0.9648 0.9655 0.9662 0.9668 0.9675 0.9681 0.9688 0.9694 0.97   0.9706\n",
            " 0.9713 0.9719 0.9725 0.9731 0.9736 0.9742 0.9748 0.9754 0.976  0.9765\n",
            " 0.9771 0.9776 0.9782 0.9787 0.9792 0.9798 0.9803 0.9808 0.9813 0.9818\n",
            " 0.9823 0.9828 0.9833 0.9838 0.9843 0.9848 0.9852 0.9857 0.9862 0.9866\n",
            " 0.9871 0.9875 0.988  0.9884 0.9889 0.9893 0.9897 0.9901 0.9905 0.991\n",
            " 0.9914 0.9918 0.9922 0.9926 0.9929 0.9933 0.9937 0.9941 0.9944 0.9948\n",
            " 0.9951 0.9955 0.9958 0.9962 0.9965 0.9968 0.9972 0.9975 0.9978 0.9981\n",
            " 0.9984 0.9987 0.999  0.9993 0.9995 0.9997 0.9999 1.     1.    ]\n",
            "time: 6.63 ms (started: 2022-05-09 18:34:03 +00:00)\n"
          ]
        }
      ],
      "source": [
        "# import plotly.express as px\n",
        "\n",
        "# pca = PCA()\n",
        "# components = pca.fit_transform(x_train_sc)\n",
        "exp_var_cumul = np.cumsum(pca.explained_variance_ratio_)\n",
        "exp_var_cumul_round = np.round_(exp_var_cumul, decimals = 4)\n",
        "print(exp_var_cumul_round)"
      ]
    },
    {
      "cell_type": "code",
      "execution_count": null,
      "metadata": {
        "colab": {
          "base_uri": "https://localhost:8080/"
        },
        "id": "bPTneVHbAmdX",
        "outputId": "1f0265b2-8852-4186-e4cb-a67e6bc12eb7"
      },
      "outputs": [
        {
          "output_type": "stream",
          "name": "stdout",
          "text": [
            "time: 2.03 ms (started: 2022-05-09 18:34:03 +00:00)\n"
          ]
        }
      ],
      "source": [
        "# get a list of # of components\n",
        "num_comp = range(1, exp_var_cumul_round.shape[0] + 1)\n",
        "\n",
        "per_var = np.round(pca.explained_variance_ratio_* 100, decimals=1)"
      ]
    },
    {
      "cell_type": "code",
      "execution_count": null,
      "metadata": {
        "colab": {
          "base_uri": "https://localhost:8080/",
          "height": 559
        },
        "id": "y-U8AHla-cwn",
        "outputId": "64994ef0-2faa-4a85-e160-20e3bb64b2a3"
      },
      "outputs": [
        {
          "output_type": "display_data",
          "data": {
            "text/html": [
              "<html>\n",
              "<head><meta charset=\"utf-8\" /></head>\n",
              "<body>\n",
              "    <div>            <script src=\"https://cdnjs.cloudflare.com/ajax/libs/mathjax/2.7.5/MathJax.js?config=TeX-AMS-MML_SVG\"></script><script type=\"text/javascript\">if (window.MathJax) {MathJax.Hub.Config({SVG: {font: \"STIX-Web\"}});}</script>                <script type=\"text/javascript\">window.PlotlyConfig = {MathJaxConfig: 'local'};</script>\n",
              "        <script src=\"https://cdn.plot.ly/plotly-2.8.3.min.js\"></script>                <div id=\"ce169988-c6be-41a4-8887-28c357420490\" class=\"plotly-graph-div\" style=\"height:525px; width:100%;\"></div>            <script type=\"text/javascript\">                                    window.PLOTLYENV=window.PLOTLYENV || {};                                    if (document.getElementById(\"ce169988-c6be-41a4-8887-28c357420490\")) {                    Plotly.newPlot(                        \"ce169988-c6be-41a4-8887-28c357420490\",                        [{\"hovertemplate\":\"# Components=%{x}<br>Cumulative Explained Variance=%{y}<extra></extra>\",\"legendgroup\":\"\",\"line\":{\"color\":\"#636efa\",\"dash\":\"solid\"},\"marker\":{\"symbol\":\"circle\"},\"mode\":\"lines\",\"name\":\"\",\"orientation\":\"v\",\"showlegend\":false,\"x\":[1,2,3,4,5,6,7,8,9,10,11,12,13,14,15,16,17,18,19,20,21,22,23,24,25,26,27,28,29,30,31,32,33,34,35,36,37,38,39,40,41,42,43,44,45,46,47,48,49,50,51,52,53,54,55,56,57,58,59,60,61,62,63,64,65,66,67,68,69,70,71,72,73,74,75,76,77,78,79,80,81,82,83,84,85,86,87,88,89,90,91,92,93,94,95,96,97,98,99,100,101,102,103,104,105,106,107,108,109,110,111,112,113,114,115,116,117,118,119,120,121,122,123,124,125,126,127,128,129,130,131,132,133,134,135,136,137,138,139,140,141,142,143,144,145,146,147,148,149,150,151,152,153,154,155,156,157,158,159,160,161,162,163,164,165,166,167,168,169,170,171,172,173,174,175,176,177,178,179,180,181,182,183,184,185,186,187,188,189,190,191,192,193,194,195,196,197,198,199,200,201,202,203,204,205,206,207,208,209,210,211,212,213,214,215,216,217,218,219,220,221,222,223,224,225,226,227,228,229,230,231,232,233,234,235,236,237,238,239,240,241,242,243,244,245,246,247,248,249,250,251,252,253,254,255,256,257,258,259,260,261,262,263,264,265,266,267,268,269,270,271,272,273,274,275,276,277,278,279],\"xaxis\":\"x\",\"y\":[0.1807,0.2274,0.2716,0.3044,0.3304,0.3549,0.3749,0.3923,0.409,0.425,0.4404,0.4543,0.4674,0.48,0.4915,0.5028,0.5138,0.5238,0.5333,0.5422,0.5507,0.5589,0.5668,0.5745,0.5821,0.5893,0.5963,0.6032,0.6099,0.6166,0.6229,0.629,0.6349,0.6407,0.6464,0.6519,0.6573,0.6625,0.6677,0.6725,0.6773,0.682,0.6865,0.691,0.6954,0.6998,0.704,0.7081,0.7121,0.7161,0.72,0.7238,0.7277,0.7314,0.735,0.7386,0.7421,0.7455,0.7489,0.7522,0.7555,0.7587,0.7618,0.7649,0.7679,0.7709,0.7739,0.7768,0.7796,0.7825,0.7852,0.788,0.7907,0.7934,0.796,0.7986,0.8012,0.8037,0.8062,0.8086,0.8109,0.8133,0.8156,0.8179,0.8202,0.8224,0.8246,0.8268,0.829,0.8311,0.8332,0.8352,0.8373,0.8393,0.8413,0.8433,0.8452,0.8471,0.8491,0.8509,0.8528,0.8546,0.8565,0.8583,0.86,0.8618,0.8635,0.8652,0.8669,0.8686,0.8703,0.8719,0.8735,0.8751,0.8767,0.8782,0.8798,0.8813,0.8828,0.8843,0.8858,0.8873,0.8887,0.8901,0.8916,0.893,0.8943,0.8957,0.8971,0.8985,0.8998,0.9011,0.9024,0.9037,0.905,0.9062,0.9075,0.9087,0.91,0.9112,0.9124,0.9136,0.9147,0.9159,0.917,0.9182,0.9193,0.9204,0.9215,0.9226,0.9236,0.9247,0.9258,0.9268,0.9278,0.9289,0.9299,0.9309,0.9319,0.9329,0.9339,0.9349,0.9358,0.9368,0.9377,0.9387,0.9396,0.9405,0.9414,0.9423,0.9432,0.9441,0.945,0.9459,0.9468,0.9476,0.9485,0.9493,0.9502,0.951,0.9518,0.9526,0.9534,0.9542,0.955,0.9558,0.9566,0.9573,0.9581,0.9588,0.9596,0.9603,0.961,0.9617,0.9625,0.9632,0.9639,0.9645,0.9652,0.9659,0.9666,0.9673,0.9679,0.9686,0.9692,0.9699,0.9705,0.9711,0.9718,0.9724,0.973,0.9736,0.9742,0.9748,0.9753,0.9759,0.9765,0.977,0.9776,0.9782,0.9787,0.9792,0.9798,0.9803,0.9808,0.9813,0.9818,0.9823,0.9828,0.9833,0.9838,0.9843,0.9848,0.9853,0.9857,0.9862,0.9866,0.9871,0.9875,0.988,0.9884,0.9888,0.9893,0.9897,0.9901,0.9905,0.9909,0.9913,0.9917,0.9921,0.9924,0.9928,0.9932,0.9936,0.9939,0.9943,0.9946,0.995,0.9953,0.9957,0.996,0.9964,0.9967,0.997,0.9973,0.9976,0.998,0.9983,0.9985,0.9988,0.9991,0.9993,0.9995,0.9997,0.9998,0.9999,0.9999,1.0,1.0],\"yaxis\":\"y\",\"type\":\"scatter\"}],                        {\"template\":{\"data\":{\"bar\":[{\"error_x\":{\"color\":\"#2a3f5f\"},\"error_y\":{\"color\":\"#2a3f5f\"},\"marker\":{\"line\":{\"color\":\"#E5ECF6\",\"width\":0.5},\"pattern\":{\"fillmode\":\"overlay\",\"size\":10,\"solidity\":0.2}},\"type\":\"bar\"}],\"barpolar\":[{\"marker\":{\"line\":{\"color\":\"#E5ECF6\",\"width\":0.5},\"pattern\":{\"fillmode\":\"overlay\",\"size\":10,\"solidity\":0.2}},\"type\":\"barpolar\"}],\"carpet\":[{\"aaxis\":{\"endlinecolor\":\"#2a3f5f\",\"gridcolor\":\"white\",\"linecolor\":\"white\",\"minorgridcolor\":\"white\",\"startlinecolor\":\"#2a3f5f\"},\"baxis\":{\"endlinecolor\":\"#2a3f5f\",\"gridcolor\":\"white\",\"linecolor\":\"white\",\"minorgridcolor\":\"white\",\"startlinecolor\":\"#2a3f5f\"},\"type\":\"carpet\"}],\"choropleth\":[{\"colorbar\":{\"outlinewidth\":0,\"ticks\":\"\"},\"type\":\"choropleth\"}],\"contour\":[{\"colorbar\":{\"outlinewidth\":0,\"ticks\":\"\"},\"colorscale\":[[0.0,\"#0d0887\"],[0.1111111111111111,\"#46039f\"],[0.2222222222222222,\"#7201a8\"],[0.3333333333333333,\"#9c179e\"],[0.4444444444444444,\"#bd3786\"],[0.5555555555555556,\"#d8576b\"],[0.6666666666666666,\"#ed7953\"],[0.7777777777777778,\"#fb9f3a\"],[0.8888888888888888,\"#fdca26\"],[1.0,\"#f0f921\"]],\"type\":\"contour\"}],\"contourcarpet\":[{\"colorbar\":{\"outlinewidth\":0,\"ticks\":\"\"},\"type\":\"contourcarpet\"}],\"heatmap\":[{\"colorbar\":{\"outlinewidth\":0,\"ticks\":\"\"},\"colorscale\":[[0.0,\"#0d0887\"],[0.1111111111111111,\"#46039f\"],[0.2222222222222222,\"#7201a8\"],[0.3333333333333333,\"#9c179e\"],[0.4444444444444444,\"#bd3786\"],[0.5555555555555556,\"#d8576b\"],[0.6666666666666666,\"#ed7953\"],[0.7777777777777778,\"#fb9f3a\"],[0.8888888888888888,\"#fdca26\"],[1.0,\"#f0f921\"]],\"type\":\"heatmap\"}],\"heatmapgl\":[{\"colorbar\":{\"outlinewidth\":0,\"ticks\":\"\"},\"colorscale\":[[0.0,\"#0d0887\"],[0.1111111111111111,\"#46039f\"],[0.2222222222222222,\"#7201a8\"],[0.3333333333333333,\"#9c179e\"],[0.4444444444444444,\"#bd3786\"],[0.5555555555555556,\"#d8576b\"],[0.6666666666666666,\"#ed7953\"],[0.7777777777777778,\"#fb9f3a\"],[0.8888888888888888,\"#fdca26\"],[1.0,\"#f0f921\"]],\"type\":\"heatmapgl\"}],\"histogram\":[{\"marker\":{\"pattern\":{\"fillmode\":\"overlay\",\"size\":10,\"solidity\":0.2}},\"type\":\"histogram\"}],\"histogram2d\":[{\"colorbar\":{\"outlinewidth\":0,\"ticks\":\"\"},\"colorscale\":[[0.0,\"#0d0887\"],[0.1111111111111111,\"#46039f\"],[0.2222222222222222,\"#7201a8\"],[0.3333333333333333,\"#9c179e\"],[0.4444444444444444,\"#bd3786\"],[0.5555555555555556,\"#d8576b\"],[0.6666666666666666,\"#ed7953\"],[0.7777777777777778,\"#fb9f3a\"],[0.8888888888888888,\"#fdca26\"],[1.0,\"#f0f921\"]],\"type\":\"histogram2d\"}],\"histogram2dcontour\":[{\"colorbar\":{\"outlinewidth\":0,\"ticks\":\"\"},\"colorscale\":[[0.0,\"#0d0887\"],[0.1111111111111111,\"#46039f\"],[0.2222222222222222,\"#7201a8\"],[0.3333333333333333,\"#9c179e\"],[0.4444444444444444,\"#bd3786\"],[0.5555555555555556,\"#d8576b\"],[0.6666666666666666,\"#ed7953\"],[0.7777777777777778,\"#fb9f3a\"],[0.8888888888888888,\"#fdca26\"],[1.0,\"#f0f921\"]],\"type\":\"histogram2dcontour\"}],\"mesh3d\":[{\"colorbar\":{\"outlinewidth\":0,\"ticks\":\"\"},\"type\":\"mesh3d\"}],\"parcoords\":[{\"line\":{\"colorbar\":{\"outlinewidth\":0,\"ticks\":\"\"}},\"type\":\"parcoords\"}],\"pie\":[{\"automargin\":true,\"type\":\"pie\"}],\"scatter\":[{\"marker\":{\"colorbar\":{\"outlinewidth\":0,\"ticks\":\"\"}},\"type\":\"scatter\"}],\"scatter3d\":[{\"line\":{\"colorbar\":{\"outlinewidth\":0,\"ticks\":\"\"}},\"marker\":{\"colorbar\":{\"outlinewidth\":0,\"ticks\":\"\"}},\"type\":\"scatter3d\"}],\"scattercarpet\":[{\"marker\":{\"colorbar\":{\"outlinewidth\":0,\"ticks\":\"\"}},\"type\":\"scattercarpet\"}],\"scattergeo\":[{\"marker\":{\"colorbar\":{\"outlinewidth\":0,\"ticks\":\"\"}},\"type\":\"scattergeo\"}],\"scattergl\":[{\"marker\":{\"colorbar\":{\"outlinewidth\":0,\"ticks\":\"\"}},\"type\":\"scattergl\"}],\"scattermapbox\":[{\"marker\":{\"colorbar\":{\"outlinewidth\":0,\"ticks\":\"\"}},\"type\":\"scattermapbox\"}],\"scatterpolar\":[{\"marker\":{\"colorbar\":{\"outlinewidth\":0,\"ticks\":\"\"}},\"type\":\"scatterpolar\"}],\"scatterpolargl\":[{\"marker\":{\"colorbar\":{\"outlinewidth\":0,\"ticks\":\"\"}},\"type\":\"scatterpolargl\"}],\"scatterternary\":[{\"marker\":{\"colorbar\":{\"outlinewidth\":0,\"ticks\":\"\"}},\"type\":\"scatterternary\"}],\"surface\":[{\"colorbar\":{\"outlinewidth\":0,\"ticks\":\"\"},\"colorscale\":[[0.0,\"#0d0887\"],[0.1111111111111111,\"#46039f\"],[0.2222222222222222,\"#7201a8\"],[0.3333333333333333,\"#9c179e\"],[0.4444444444444444,\"#bd3786\"],[0.5555555555555556,\"#d8576b\"],[0.6666666666666666,\"#ed7953\"],[0.7777777777777778,\"#fb9f3a\"],[0.8888888888888888,\"#fdca26\"],[1.0,\"#f0f921\"]],\"type\":\"surface\"}],\"table\":[{\"cells\":{\"fill\":{\"color\":\"#EBF0F8\"},\"line\":{\"color\":\"white\"}},\"header\":{\"fill\":{\"color\":\"#C8D4E3\"},\"line\":{\"color\":\"white\"}},\"type\":\"table\"}]},\"layout\":{\"annotationdefaults\":{\"arrowcolor\":\"#2a3f5f\",\"arrowhead\":0,\"arrowwidth\":1},\"autotypenumbers\":\"strict\",\"coloraxis\":{\"colorbar\":{\"outlinewidth\":0,\"ticks\":\"\"}},\"colorscale\":{\"diverging\":[[0,\"#8e0152\"],[0.1,\"#c51b7d\"],[0.2,\"#de77ae\"],[0.3,\"#f1b6da\"],[0.4,\"#fde0ef\"],[0.5,\"#f7f7f7\"],[0.6,\"#e6f5d0\"],[0.7,\"#b8e186\"],[0.8,\"#7fbc41\"],[0.9,\"#4d9221\"],[1,\"#276419\"]],\"sequential\":[[0.0,\"#0d0887\"],[0.1111111111111111,\"#46039f\"],[0.2222222222222222,\"#7201a8\"],[0.3333333333333333,\"#9c179e\"],[0.4444444444444444,\"#bd3786\"],[0.5555555555555556,\"#d8576b\"],[0.6666666666666666,\"#ed7953\"],[0.7777777777777778,\"#fb9f3a\"],[0.8888888888888888,\"#fdca26\"],[1.0,\"#f0f921\"]],\"sequentialminus\":[[0.0,\"#0d0887\"],[0.1111111111111111,\"#46039f\"],[0.2222222222222222,\"#7201a8\"],[0.3333333333333333,\"#9c179e\"],[0.4444444444444444,\"#bd3786\"],[0.5555555555555556,\"#d8576b\"],[0.6666666666666666,\"#ed7953\"],[0.7777777777777778,\"#fb9f3a\"],[0.8888888888888888,\"#fdca26\"],[1.0,\"#f0f921\"]]},\"colorway\":[\"#636efa\",\"#EF553B\",\"#00cc96\",\"#ab63fa\",\"#FFA15A\",\"#19d3f3\",\"#FF6692\",\"#B6E880\",\"#FF97FF\",\"#FECB52\"],\"font\":{\"color\":\"#2a3f5f\"},\"geo\":{\"bgcolor\":\"white\",\"lakecolor\":\"white\",\"landcolor\":\"#E5ECF6\",\"showlakes\":true,\"showland\":true,\"subunitcolor\":\"white\"},\"hoverlabel\":{\"align\":\"left\"},\"hovermode\":\"closest\",\"mapbox\":{\"style\":\"light\"},\"paper_bgcolor\":\"white\",\"plot_bgcolor\":\"#E5ECF6\",\"polar\":{\"angularaxis\":{\"gridcolor\":\"white\",\"linecolor\":\"white\",\"ticks\":\"\"},\"bgcolor\":\"#E5ECF6\",\"radialaxis\":{\"gridcolor\":\"white\",\"linecolor\":\"white\",\"ticks\":\"\"}},\"scene\":{\"xaxis\":{\"backgroundcolor\":\"#E5ECF6\",\"gridcolor\":\"white\",\"gridwidth\":2,\"linecolor\":\"white\",\"showbackground\":true,\"ticks\":\"\",\"zerolinecolor\":\"white\"},\"yaxis\":{\"backgroundcolor\":\"#E5ECF6\",\"gridcolor\":\"white\",\"gridwidth\":2,\"linecolor\":\"white\",\"showbackground\":true,\"ticks\":\"\",\"zerolinecolor\":\"white\"},\"zaxis\":{\"backgroundcolor\":\"#E5ECF6\",\"gridcolor\":\"white\",\"gridwidth\":2,\"linecolor\":\"white\",\"showbackground\":true,\"ticks\":\"\",\"zerolinecolor\":\"white\"}},\"shapedefaults\":{\"line\":{\"color\":\"#2a3f5f\"}},\"ternary\":{\"aaxis\":{\"gridcolor\":\"white\",\"linecolor\":\"white\",\"ticks\":\"\"},\"baxis\":{\"gridcolor\":\"white\",\"linecolor\":\"white\",\"ticks\":\"\"},\"bgcolor\":\"#E5ECF6\",\"caxis\":{\"gridcolor\":\"white\",\"linecolor\":\"white\",\"ticks\":\"\"}},\"title\":{\"x\":0.05},\"xaxis\":{\"automargin\":true,\"gridcolor\":\"white\",\"linecolor\":\"white\",\"ticks\":\"\",\"title\":{\"standoff\":15},\"zerolinecolor\":\"white\",\"zerolinewidth\":2},\"yaxis\":{\"automargin\":true,\"gridcolor\":\"white\",\"linecolor\":\"white\",\"ticks\":\"\",\"title\":{\"standoff\":15},\"zerolinecolor\":\"white\",\"zerolinewidth\":2}}},\"xaxis\":{\"anchor\":\"y\",\"domain\":[0.0,1.0],\"title\":{\"text\":\"# Components\"}},\"yaxis\":{\"anchor\":\"x\",\"domain\":[0.0,1.0],\"title\":{\"text\":\"Cumulative Explained Variance\"}},\"legend\":{\"tracegroupgap\":0},\"title\":{\"text\":\"# of components V.S. variance\"}},                        {\"responsive\": true}                    ).then(function(){\n",
              "                            \n",
              "var gd = document.getElementById('ce169988-c6be-41a4-8887-28c357420490');\n",
              "var x = new MutationObserver(function (mutations, observer) {{\n",
              "        var display = window.getComputedStyle(gd).display;\n",
              "        if (!display || display === 'none') {{\n",
              "            console.log([gd, 'removed!']);\n",
              "            Plotly.purge(gd);\n",
              "            observer.disconnect();\n",
              "        }}\n",
              "}});\n",
              "\n",
              "// Listen for the removal of the full notebook cells\n",
              "var notebookContainer = gd.closest('#notebook-container');\n",
              "if (notebookContainer) {{\n",
              "    x.observe(notebookContainer, {childList: true});\n",
              "}}\n",
              "\n",
              "// Listen for the clearing of the current output cell\n",
              "var outputEl = gd.closest('.output');\n",
              "if (outputEl) {{\n",
              "    x.observe(outputEl, {childList: true});\n",
              "}}\n",
              "\n",
              "                        })                };                            </script>        </div>\n",
              "</body>\n",
              "</html>"
            ]
          },
          "metadata": {}
        },
        {
          "output_type": "stream",
          "name": "stdout",
          "text": [
            "time: 107 ms (started: 2022-05-05 18:34:54 +00:00)\n"
          ]
        }
      ],
      "source": [
        "fig = px.line(\n",
        "    x=num_comp,\n",
        "    y=exp_var_cumul_round,\n",
        "    labels={\"x\": \"# Components\", \"y\": \"Cumulative Explained Variance\"},\n",
        "    title = \"# of components V.S. variance\",\n",
        "    # markers=True\n",
        ")\n",
        "\n",
        "fig.show()"
      ]
    },
    {
      "cell_type": "code",
      "source": [
        "selected_exp_var = [0.7, 0.8, 0.9, 0.95, 0.97, 0.99, 1.0]\n",
        "selected_num_comp = [46, 77, 131, 179, 206, 245, 275]"
      ],
      "metadata": {
        "colab": {
          "base_uri": "https://localhost:8080/"
        },
        "id": "tRmlPLcQe8T6",
        "outputId": "65000393-e8bd-49d3-8877-f09039ad5e77"
      },
      "execution_count": null,
      "outputs": [
        {
          "output_type": "stream",
          "name": "stdout",
          "text": [
            "time: 1.56 ms (started: 2022-05-09 18:34:03 +00:00)\n"
          ]
        }
      ]
    },
    {
      "cell_type": "code",
      "execution_count": null,
      "metadata": {
        "colab": {
          "base_uri": "https://localhost:8080/",
          "height": 837
        },
        "id": "WaPZHO4pZQDF",
        "outputId": "ccce23c8-afba-444f-8819-07a23af9429e"
      },
      "outputs": [
        {
          "output_type": "display_data",
          "data": {
            "text/html": [
              "<html>\n",
              "<head><meta charset=\"utf-8\" /></head>\n",
              "<body>\n",
              "    <div>            <script src=\"https://cdnjs.cloudflare.com/ajax/libs/mathjax/2.7.5/MathJax.js?config=TeX-AMS-MML_SVG\"></script><script type=\"text/javascript\">if (window.MathJax) {MathJax.Hub.Config({SVG: {font: \"STIX-Web\"}});}</script>                <script type=\"text/javascript\">window.PlotlyConfig = {MathJaxConfig: 'local'};</script>\n",
              "        <script src=\"https://cdn.plot.ly/plotly-2.8.3.min.js\"></script>                <div id=\"deaeee90-80b7-4ffb-b5ba-83911dfa0ac5\" class=\"plotly-graph-div\" style=\"height:525px; width:100%;\"></div>            <script type=\"text/javascript\">                                    window.PLOTLYENV=window.PLOTLYENV || {};                                    if (document.getElementById(\"deaeee90-80b7-4ffb-b5ba-83911dfa0ac5\")) {                    Plotly.newPlot(                        \"deaeee90-80b7-4ffb-b5ba-83911dfa0ac5\",                        [{\"alignmentgroup\":\"True\",\"hovertemplate\":\"# Components=%{x}<br>% of Explained Variance=%{y}<extra></extra>\",\"legendgroup\":\"\",\"marker\":{\"color\":\"#636efa\",\"pattern\":{\"shape\":\"\"}},\"name\":\"\",\"offsetgroup\":\"\",\"orientation\":\"v\",\"showlegend\":false,\"textposition\":\"auto\",\"x\":[1,2,3,4,5,6,7,8,9,10,11,12,13,14,15,16,17,18,19,20,21,22,23,24,25,26,27,28,29,30,31,32,33,34,35,36,37,38,39,40,41,42,43,44,45,46,47,48,49,50,51,52,53,54,55,56,57,58,59,60,61,62,63,64,65,66,67,68,69,70,71,72,73,74,75,76,77,78,79,80,81,82,83,84,85,86,87,88,89,90,91,92,93,94,95,96,97,98,99,100,101,102,103,104,105,106,107,108,109,110,111,112,113,114,115,116,117,118,119,120,121,122,123,124,125,126,127,128,129,130,131,132,133,134,135,136,137,138,139,140,141,142,143,144,145,146,147,148,149,150,151,152,153,154,155,156,157,158,159,160,161,162,163,164,165,166,167,168,169,170,171,172,173,174,175,176,177,178,179,180,181,182,183,184,185,186,187,188,189,190,191,192,193,194,195,196,197,198,199,200,201,202,203,204,205,206,207,208,209,210,211,212,213,214,215,216,217,218,219,220,221,222,223,224,225,226,227,228,229,230,231,232,233,234,235,236,237,238,239,240,241,242,243,244,245,246,247,248,249,250,251,252,253,254,255,256,257,258,259,260,261,262,263,264,265,266,267,268,269,270,271,272,273,274,275,276,277,278,279],\"xaxis\":\"x\",\"y\":[18.1,4.7,4.4,3.3,2.6,2.5,2.0,1.7,1.7,1.6,1.5,1.4,1.3,1.3,1.2,1.1,1.1,1.0,0.9,0.9,0.9,0.8,0.8,0.8,0.8,0.7,0.7,0.7,0.7,0.7,0.6,0.6,0.6,0.6,0.6,0.6,0.5,0.5,0.5,0.5,0.5,0.5,0.5,0.4,0.4,0.4,0.4,0.4,0.4,0.4,0.4,0.4,0.4,0.4,0.4,0.4,0.4,0.3,0.3,0.3,0.3,0.3,0.3,0.3,0.3,0.3,0.3,0.3,0.3,0.3,0.3,0.3,0.3,0.3,0.3,0.3,0.3,0.3,0.2,0.2,0.2,0.2,0.2,0.2,0.2,0.2,0.2,0.2,0.2,0.2,0.2,0.2,0.2,0.2,0.2,0.2,0.2,0.2,0.2,0.2,0.2,0.2,0.2,0.2,0.2,0.2,0.2,0.2,0.2,0.2,0.2,0.2,0.2,0.2,0.2,0.2,0.2,0.2,0.2,0.1,0.1,0.1,0.1,0.1,0.1,0.1,0.1,0.1,0.1,0.1,0.1,0.1,0.1,0.1,0.1,0.1,0.1,0.1,0.1,0.1,0.1,0.1,0.1,0.1,0.1,0.1,0.1,0.1,0.1,0.1,0.1,0.1,0.1,0.1,0.1,0.1,0.1,0.1,0.1,0.1,0.1,0.1,0.1,0.1,0.1,0.1,0.1,0.1,0.1,0.1,0.1,0.1,0.1,0.1,0.1,0.1,0.1,0.1,0.1,0.1,0.1,0.1,0.1,0.1,0.1,0.1,0.1,0.1,0.1,0.1,0.1,0.1,0.1,0.1,0.1,0.1,0.1,0.1,0.1,0.1,0.1,0.1,0.1,0.1,0.1,0.1,0.1,0.1,0.1,0.1,0.1,0.1,0.1,0.1,0.1,0.1,0.1,0.1,0.1,0.1,0.1,0.1,0.1,0.1,0.1,0.1,0.1,0.1,0.0,0.0,0.0,0.0,0.0,0.0,0.0,0.0,0.0,0.0,0.0,0.0,0.0,0.0,0.0,0.0,0.0,0.0,0.0,0.0,0.0,0.0,0.0,0.0,0.0,0.0,0.0,0.0,0.0,0.0,0.0,0.0,0.0,0.0,0.0,0.0,0.0,0.0,0.0,0.0,0.0,0.0,0.0,0.0,0.0,0.0,0.0,0.0,0.0,0.0,0.0],\"yaxis\":\"y\",\"type\":\"bar\"}],                        {\"template\":{\"data\":{\"bar\":[{\"error_x\":{\"color\":\"#2a3f5f\"},\"error_y\":{\"color\":\"#2a3f5f\"},\"marker\":{\"line\":{\"color\":\"#E5ECF6\",\"width\":0.5},\"pattern\":{\"fillmode\":\"overlay\",\"size\":10,\"solidity\":0.2}},\"type\":\"bar\"}],\"barpolar\":[{\"marker\":{\"line\":{\"color\":\"#E5ECF6\",\"width\":0.5},\"pattern\":{\"fillmode\":\"overlay\",\"size\":10,\"solidity\":0.2}},\"type\":\"barpolar\"}],\"carpet\":[{\"aaxis\":{\"endlinecolor\":\"#2a3f5f\",\"gridcolor\":\"white\",\"linecolor\":\"white\",\"minorgridcolor\":\"white\",\"startlinecolor\":\"#2a3f5f\"},\"baxis\":{\"endlinecolor\":\"#2a3f5f\",\"gridcolor\":\"white\",\"linecolor\":\"white\",\"minorgridcolor\":\"white\",\"startlinecolor\":\"#2a3f5f\"},\"type\":\"carpet\"}],\"choropleth\":[{\"colorbar\":{\"outlinewidth\":0,\"ticks\":\"\"},\"type\":\"choropleth\"}],\"contour\":[{\"colorbar\":{\"outlinewidth\":0,\"ticks\":\"\"},\"colorscale\":[[0.0,\"#0d0887\"],[0.1111111111111111,\"#46039f\"],[0.2222222222222222,\"#7201a8\"],[0.3333333333333333,\"#9c179e\"],[0.4444444444444444,\"#bd3786\"],[0.5555555555555556,\"#d8576b\"],[0.6666666666666666,\"#ed7953\"],[0.7777777777777778,\"#fb9f3a\"],[0.8888888888888888,\"#fdca26\"],[1.0,\"#f0f921\"]],\"type\":\"contour\"}],\"contourcarpet\":[{\"colorbar\":{\"outlinewidth\":0,\"ticks\":\"\"},\"type\":\"contourcarpet\"}],\"heatmap\":[{\"colorbar\":{\"outlinewidth\":0,\"ticks\":\"\"},\"colorscale\":[[0.0,\"#0d0887\"],[0.1111111111111111,\"#46039f\"],[0.2222222222222222,\"#7201a8\"],[0.3333333333333333,\"#9c179e\"],[0.4444444444444444,\"#bd3786\"],[0.5555555555555556,\"#d8576b\"],[0.6666666666666666,\"#ed7953\"],[0.7777777777777778,\"#fb9f3a\"],[0.8888888888888888,\"#fdca26\"],[1.0,\"#f0f921\"]],\"type\":\"heatmap\"}],\"heatmapgl\":[{\"colorbar\":{\"outlinewidth\":0,\"ticks\":\"\"},\"colorscale\":[[0.0,\"#0d0887\"],[0.1111111111111111,\"#46039f\"],[0.2222222222222222,\"#7201a8\"],[0.3333333333333333,\"#9c179e\"],[0.4444444444444444,\"#bd3786\"],[0.5555555555555556,\"#d8576b\"],[0.6666666666666666,\"#ed7953\"],[0.7777777777777778,\"#fb9f3a\"],[0.8888888888888888,\"#fdca26\"],[1.0,\"#f0f921\"]],\"type\":\"heatmapgl\"}],\"histogram\":[{\"marker\":{\"pattern\":{\"fillmode\":\"overlay\",\"size\":10,\"solidity\":0.2}},\"type\":\"histogram\"}],\"histogram2d\":[{\"colorbar\":{\"outlinewidth\":0,\"ticks\":\"\"},\"colorscale\":[[0.0,\"#0d0887\"],[0.1111111111111111,\"#46039f\"],[0.2222222222222222,\"#7201a8\"],[0.3333333333333333,\"#9c179e\"],[0.4444444444444444,\"#bd3786\"],[0.5555555555555556,\"#d8576b\"],[0.6666666666666666,\"#ed7953\"],[0.7777777777777778,\"#fb9f3a\"],[0.8888888888888888,\"#fdca26\"],[1.0,\"#f0f921\"]],\"type\":\"histogram2d\"}],\"histogram2dcontour\":[{\"colorbar\":{\"outlinewidth\":0,\"ticks\":\"\"},\"colorscale\":[[0.0,\"#0d0887\"],[0.1111111111111111,\"#46039f\"],[0.2222222222222222,\"#7201a8\"],[0.3333333333333333,\"#9c179e\"],[0.4444444444444444,\"#bd3786\"],[0.5555555555555556,\"#d8576b\"],[0.6666666666666666,\"#ed7953\"],[0.7777777777777778,\"#fb9f3a\"],[0.8888888888888888,\"#fdca26\"],[1.0,\"#f0f921\"]],\"type\":\"histogram2dcontour\"}],\"mesh3d\":[{\"colorbar\":{\"outlinewidth\":0,\"ticks\":\"\"},\"type\":\"mesh3d\"}],\"parcoords\":[{\"line\":{\"colorbar\":{\"outlinewidth\":0,\"ticks\":\"\"}},\"type\":\"parcoords\"}],\"pie\":[{\"automargin\":true,\"type\":\"pie\"}],\"scatter\":[{\"marker\":{\"colorbar\":{\"outlinewidth\":0,\"ticks\":\"\"}},\"type\":\"scatter\"}],\"scatter3d\":[{\"line\":{\"colorbar\":{\"outlinewidth\":0,\"ticks\":\"\"}},\"marker\":{\"colorbar\":{\"outlinewidth\":0,\"ticks\":\"\"}},\"type\":\"scatter3d\"}],\"scattercarpet\":[{\"marker\":{\"colorbar\":{\"outlinewidth\":0,\"ticks\":\"\"}},\"type\":\"scattercarpet\"}],\"scattergeo\":[{\"marker\":{\"colorbar\":{\"outlinewidth\":0,\"ticks\":\"\"}},\"type\":\"scattergeo\"}],\"scattergl\":[{\"marker\":{\"colorbar\":{\"outlinewidth\":0,\"ticks\":\"\"}},\"type\":\"scattergl\"}],\"scattermapbox\":[{\"marker\":{\"colorbar\":{\"outlinewidth\":0,\"ticks\":\"\"}},\"type\":\"scattermapbox\"}],\"scatterpolar\":[{\"marker\":{\"colorbar\":{\"outlinewidth\":0,\"ticks\":\"\"}},\"type\":\"scatterpolar\"}],\"scatterpolargl\":[{\"marker\":{\"colorbar\":{\"outlinewidth\":0,\"ticks\":\"\"}},\"type\":\"scatterpolargl\"}],\"scatterternary\":[{\"marker\":{\"colorbar\":{\"outlinewidth\":0,\"ticks\":\"\"}},\"type\":\"scatterternary\"}],\"surface\":[{\"colorbar\":{\"outlinewidth\":0,\"ticks\":\"\"},\"colorscale\":[[0.0,\"#0d0887\"],[0.1111111111111111,\"#46039f\"],[0.2222222222222222,\"#7201a8\"],[0.3333333333333333,\"#9c179e\"],[0.4444444444444444,\"#bd3786\"],[0.5555555555555556,\"#d8576b\"],[0.6666666666666666,\"#ed7953\"],[0.7777777777777778,\"#fb9f3a\"],[0.8888888888888888,\"#fdca26\"],[1.0,\"#f0f921\"]],\"type\":\"surface\"}],\"table\":[{\"cells\":{\"fill\":{\"color\":\"#EBF0F8\"},\"line\":{\"color\":\"white\"}},\"header\":{\"fill\":{\"color\":\"#C8D4E3\"},\"line\":{\"color\":\"white\"}},\"type\":\"table\"}]},\"layout\":{\"annotationdefaults\":{\"arrowcolor\":\"#2a3f5f\",\"arrowhead\":0,\"arrowwidth\":1},\"autotypenumbers\":\"strict\",\"coloraxis\":{\"colorbar\":{\"outlinewidth\":0,\"ticks\":\"\"}},\"colorscale\":{\"diverging\":[[0,\"#8e0152\"],[0.1,\"#c51b7d\"],[0.2,\"#de77ae\"],[0.3,\"#f1b6da\"],[0.4,\"#fde0ef\"],[0.5,\"#f7f7f7\"],[0.6,\"#e6f5d0\"],[0.7,\"#b8e186\"],[0.8,\"#7fbc41\"],[0.9,\"#4d9221\"],[1,\"#276419\"]],\"sequential\":[[0.0,\"#0d0887\"],[0.1111111111111111,\"#46039f\"],[0.2222222222222222,\"#7201a8\"],[0.3333333333333333,\"#9c179e\"],[0.4444444444444444,\"#bd3786\"],[0.5555555555555556,\"#d8576b\"],[0.6666666666666666,\"#ed7953\"],[0.7777777777777778,\"#fb9f3a\"],[0.8888888888888888,\"#fdca26\"],[1.0,\"#f0f921\"]],\"sequentialminus\":[[0.0,\"#0d0887\"],[0.1111111111111111,\"#46039f\"],[0.2222222222222222,\"#7201a8\"],[0.3333333333333333,\"#9c179e\"],[0.4444444444444444,\"#bd3786\"],[0.5555555555555556,\"#d8576b\"],[0.6666666666666666,\"#ed7953\"],[0.7777777777777778,\"#fb9f3a\"],[0.8888888888888888,\"#fdca26\"],[1.0,\"#f0f921\"]]},\"colorway\":[\"#636efa\",\"#EF553B\",\"#00cc96\",\"#ab63fa\",\"#FFA15A\",\"#19d3f3\",\"#FF6692\",\"#B6E880\",\"#FF97FF\",\"#FECB52\"],\"font\":{\"color\":\"#2a3f5f\"},\"geo\":{\"bgcolor\":\"white\",\"lakecolor\":\"white\",\"landcolor\":\"#E5ECF6\",\"showlakes\":true,\"showland\":true,\"subunitcolor\":\"white\"},\"hoverlabel\":{\"align\":\"left\"},\"hovermode\":\"closest\",\"mapbox\":{\"style\":\"light\"},\"paper_bgcolor\":\"white\",\"plot_bgcolor\":\"#E5ECF6\",\"polar\":{\"angularaxis\":{\"gridcolor\":\"white\",\"linecolor\":\"white\",\"ticks\":\"\"},\"bgcolor\":\"#E5ECF6\",\"radialaxis\":{\"gridcolor\":\"white\",\"linecolor\":\"white\",\"ticks\":\"\"}},\"scene\":{\"xaxis\":{\"backgroundcolor\":\"#E5ECF6\",\"gridcolor\":\"white\",\"gridwidth\":2,\"linecolor\":\"white\",\"showbackground\":true,\"ticks\":\"\",\"zerolinecolor\":\"white\"},\"yaxis\":{\"backgroundcolor\":\"#E5ECF6\",\"gridcolor\":\"white\",\"gridwidth\":2,\"linecolor\":\"white\",\"showbackground\":true,\"ticks\":\"\",\"zerolinecolor\":\"white\"},\"zaxis\":{\"backgroundcolor\":\"#E5ECF6\",\"gridcolor\":\"white\",\"gridwidth\":2,\"linecolor\":\"white\",\"showbackground\":true,\"ticks\":\"\",\"zerolinecolor\":\"white\"}},\"shapedefaults\":{\"line\":{\"color\":\"#2a3f5f\"}},\"ternary\":{\"aaxis\":{\"gridcolor\":\"white\",\"linecolor\":\"white\",\"ticks\":\"\"},\"baxis\":{\"gridcolor\":\"white\",\"linecolor\":\"white\",\"ticks\":\"\"},\"bgcolor\":\"#E5ECF6\",\"caxis\":{\"gridcolor\":\"white\",\"linecolor\":\"white\",\"ticks\":\"\"}},\"title\":{\"x\":0.05},\"xaxis\":{\"automargin\":true,\"gridcolor\":\"white\",\"linecolor\":\"white\",\"ticks\":\"\",\"title\":{\"standoff\":15},\"zerolinecolor\":\"white\",\"zerolinewidth\":2},\"yaxis\":{\"automargin\":true,\"gridcolor\":\"white\",\"linecolor\":\"white\",\"ticks\":\"\",\"title\":{\"standoff\":15},\"zerolinecolor\":\"white\",\"zerolinewidth\":2}}},\"xaxis\":{\"anchor\":\"y\",\"domain\":[0.0,1.0],\"title\":{\"text\":\"# Components\"}},\"yaxis\":{\"anchor\":\"x\",\"domain\":[0.0,1.0],\"title\":{\"text\":\"% of Explained Variance\"}},\"legend\":{\"tracegroupgap\":0},\"title\":{\"text\":\"Scree Plot of # of components and % of explained variance\"},\"barmode\":\"relative\"},                        {\"responsive\": true}                    ).then(function(){\n",
              "                            \n",
              "var gd = document.getElementById('deaeee90-80b7-4ffb-b5ba-83911dfa0ac5');\n",
              "var x = new MutationObserver(function (mutations, observer) {{\n",
              "        var display = window.getComputedStyle(gd).display;\n",
              "        if (!display || display === 'none') {{\n",
              "            console.log([gd, 'removed!']);\n",
              "            Plotly.purge(gd);\n",
              "            observer.disconnect();\n",
              "        }}\n",
              "}});\n",
              "\n",
              "// Listen for the removal of the full notebook cells\n",
              "var notebookContainer = gd.closest('#notebook-container');\n",
              "if (notebookContainer) {{\n",
              "    x.observe(notebookContainer, {childList: true});\n",
              "}}\n",
              "\n",
              "// Listen for the clearing of the current output cell\n",
              "var outputEl = gd.closest('.output');\n",
              "if (outputEl) {{\n",
              "    x.observe(outputEl, {childList: true});\n",
              "}}\n",
              "\n",
              "                        })                };                            </script>        </div>\n",
              "</body>\n",
              "</html>"
            ]
          },
          "metadata": {}
        },
        {
          "output_type": "display_data",
          "data": {
            "text/plain": [
              "<Figure size 432x288 with 1 Axes>"
            ],
            "image/png": "[encoded data removed]"
          },
          "metadata": {
            "needs_background": "light"
          }
        },
        {
          "output_type": "stream",
          "name": "stdout",
          "text": [
            "time: 4.09 s (started: 2022-05-09 17:58:38 +00:00)\n"
          ]
        }
      ],
      "source": [
        "per_var = np.round(pca.explained_variance_ratio_* 100, decimals=1)\n",
        "labels = ['PC' + str(x) for x in range(1, len(per_var)+1)]\n",
        "\n",
        "fig = px.bar(\n",
        "    x=range(1,len(per_var)+1), \n",
        "    y=per_var, \n",
        "    title='Scree Plot of # of components and % of explained variance',\n",
        "    labels={\"x\": \"# Components\", \"y\": \"% of Explained Variance\"},\n",
        ")\n",
        "fig.show()\n",
        "\n",
        "# matplotlib version\n",
        "plt.bar(x=range(1,len(per_var)+1), height=per_var, tick_label=labels)\n",
        "plt.ylabel('Percentage of Explained Variance')\n",
        "plt.xlabel('Principal Component')\n",
        "plt.title('Scree Plot of PC and % explained variance')\n",
        "plt.show()"
      ]
    },
    {
      "cell_type": "markdown",
      "source": [
        "### Selected variance listing"
      ],
      "metadata": {
        "id": "q5AFBXJP_r3G"
      }
    },
    {
      "cell_type": "markdown",
      "metadata": {
        "id": "zxE568q7F1k6"
      },
      "source": [
        "Here we are going to select a list of different variance to experiment how the % of the variance would impact the model's accuracy.\n",
        "\n",
        "Here, we are selecting 70%, 80%, 90%, 95%, 97%, 99%, and 100% variance for PCA."
      ]
    },
    {
      "cell_type": "code",
      "execution_count": null,
      "metadata": {
        "colab": {
          "base_uri": "https://localhost:8080/"
        },
        "id": "9-j45GuABc7w",
        "outputId": "fb9494af-87e9-4459-b275-4d126d4bf622"
      },
      "outputs": [
        {
          "output_type": "stream",
          "name": "stdout",
          "text": [
            "time: 6.51 ms (started: 2022-05-09 18:34:03 +00:00)\n"
          ]
        }
      ],
      "source": [
        "# a list of variance to experiment\n",
        "selected_exp_var = [0.7, 0.8, 0.9, 0.95, 0.97, 0.99, 1.0]\n",
        "selected_num_comp = [46, 77, 131, 179, 206, 245, 279]\n",
        "# selected_num_comp = list()\n",
        "\n",
        "# # loop through the two list to find the cooresponding \n",
        "# #cumulative variance and # of comp\n",
        "# for i in range(len(exp_var_cumul_round)):\n",
        "#   for j in range(len(selected_exp_var)):\n",
        "#     if exp_var_cumul_round[i] == selected_exp_var[j]:\n",
        "#       selected_num_comp.append(num_comp[i])\n",
        "\n",
        "# # we have to trim the extra 1.0 (aka 100% variance) since we round\n",
        "# # the variance into 2 decimal. Then we add the variance of 100%, \n",
        "# # which is 275 # of comp.\n",
        "# selected_num_comp = selected_num_comp[:len(selected_exp_var)-1]\n",
        "# selected_num_comp.append(275)"
      ]
    },
    {
      "cell_type": "code",
      "execution_count": null,
      "metadata": {
        "colab": {
          "base_uri": "https://localhost:8080/"
        },
        "id": "4NUEMXyf9ymo",
        "outputId": "96b551fb-0980-4fad-ff5f-7b274115a3f4"
      },
      "outputs": [
        {
          "output_type": "execute_result",
          "data": {
            "text/plain": [
              "[46, 77, 131, 179, 206, 245, 279]"
            ]
          },
          "metadata": {},
          "execution_count": 24
        },
        {
          "output_type": "stream",
          "name": "stdout",
          "text": [
            "time: 3.2 ms (started: 2022-05-09 17:58:44 +00:00)\n"
          ]
        }
      ],
      "source": [
        "# a list of # of comp that we are going to experiment\n",
        "selected_num_comp"
      ]
    },
    {
      "cell_type": "markdown",
      "metadata": {
        "id": "JAd6So6Zre1m"
      },
      "source": [
        "## Standardization"
      ]
    },
    {
      "cell_type": "code",
      "execution_count": null,
      "metadata": {
        "colab": {
          "base_uri": "https://localhost:8080/"
        },
        "id": "WIQUYGGaWF86",
        "outputId": "dc8dcdb3-333b-4383-94bb-928dfddb4e33"
      },
      "outputs": [
        {
          "output_type": "stream",
          "name": "stdout",
          "text": [
            "time: 9.51 ms (started: 2022-05-09 18:34:03 +00:00)\n"
          ]
        }
      ],
      "source": [
        "# from sklearn import preprocessing\n",
        "from sklearn.preprocessing import StandardScaler\n",
        "\n",
        "# x_train_sc = preprocessing.scale(np.array(x_train))\n",
        "# x_test_sc = preprocessing.scale(np.array(x_test))\n",
        "\n",
        "# x_train_sc = np.divide(np.array(x_train), 255.0)\n",
        "# x_test_sc = np.divide(np.array(x_test), 255.0)\n",
        "\n",
        "# x_train_sc = preprocessing.scale(np.array(x_train).T)\n",
        "# x_test_sc = preprocessing.scale(np.array(x_test).T)\n",
        "\n",
        "sc = StandardScaler()\n",
        "\n",
        "x_train_sc = sc.fit_transform(np.array(x_train_pca))\n",
        "x_test_sc = sc.transform(np.array(x_test_pca))"
      ]
    },
    {
      "cell_type": "code",
      "execution_count": null,
      "metadata": {
        "colab": {
          "base_uri": "https://localhost:8080/"
        },
        "id": "J6C1kVry4VM1",
        "outputId": "fa2db495-6467-441d-cb45-46d3013abd04"
      },
      "outputs": [
        {
          "output_type": "stream",
          "name": "stdout",
          "text": [
            "time: 3.48 ms (started: 2022-05-05 18:40:38 +00:00)\n"
          ]
        }
      ],
      "source": [
        "# x_train = np.divide(x_train, 255)\n",
        "# x_test = np.divide(x_test, 255)\n",
        "\n",
        "# x_mean = x_train.mean(axis=0)\n",
        "\n",
        "# x_train_nm = x_train - x_mean\n",
        "# x_test_nm = x_test - x_mean\n",
        "\n",
        "# x_mean\n",
        "\n",
        "# x_train_nm[0]"
      ]
    },
    {
      "cell_type": "code",
      "execution_count": null,
      "metadata": {
        "colab": {
          "base_uri": "https://localhost:8080/"
        },
        "id": "jon4MQ3bg8r_",
        "outputId": "18694349-0abf-4b22-f3f0-067e9070a86e"
      },
      "outputs": [
        {
          "output_type": "execute_result",
          "data": {
            "text/plain": [
              "(279, 279)"
            ]
          },
          "metadata": {},
          "execution_count": 35
        },
        {
          "output_type": "stream",
          "name": "stdout",
          "text": [
            "time: 4.33 ms (started: 2022-05-05 18:40:38 +00:00)\n"
          ]
        }
      ],
      "source": [
        "x_train_sc.shape"
      ]
    },
    {
      "cell_type": "code",
      "execution_count": null,
      "metadata": {
        "colab": {
          "base_uri": "https://localhost:8080/"
        },
        "id": "95HmQ_bUXo74",
        "outputId": "097d8bcd-836d-48dd-fd78-41ae88d8f434"
      },
      "outputs": [
        {
          "output_type": "stream",
          "name": "stdout",
          "text": [
            "time: 2.72 ms (started: 2022-05-09 18:34:03 +00:00)\n"
          ]
        }
      ],
      "source": [
        "header = [\"PCA\"+str(i) for i in range(1, x_train_pca.shape[1] + 1)]\n",
        "x_train_df = pd.DataFrame(x_train_sc, columns=header)\n",
        "x_train_df['class'] = y_train\n",
        "\n",
        "# x_train_df"
      ]
    },
    {
      "cell_type": "markdown",
      "metadata": {
        "id": "DS3OwLn9Ec_4"
      },
      "source": [
        "# SVM with PCA"
      ]
    },
    {
      "cell_type": "code",
      "execution_count": null,
      "metadata": {
        "colab": {
          "base_uri": "https://localhost:8080/"
        },
        "id": "ixpSleUQDR6P",
        "outputId": "a7431a62-965f-4093-8889-159d2df68d95"
      },
      "outputs": [
        {
          "output_type": "stream",
          "name": "stdout",
          "text": [
            "time: 1.95 ms (started: 2022-05-09 17:59:16 +00:00)\n"
          ]
        }
      ],
      "source": [
        "from sklearn.model_selection import StratifiedKFold, cross_val_score\n",
        "from sklearn.svm import SVC"
      ]
    },
    {
      "cell_type": "markdown",
      "source": [
        "## Setup"
      ],
      "metadata": {
        "id": "zo9eVYhEqdTH"
      }
    },
    {
      "cell_type": "markdown",
      "metadata": {
        "id": "I5WGAZKTklf0"
      },
      "source": [
        "Define a list of x_train from the given # of components for PCA AND the model."
      ]
    },
    {
      "cell_type": "code",
      "execution_count": null,
      "metadata": {
        "colab": {
          "base_uri": "https://localhost:8080/"
        },
        "id": "OQsc3Pwckt0y",
        "outputId": "d6330884-4712-4915-ca73-ee3f68255d0a"
      },
      "outputs": [
        {
          "output_type": "stream",
          "name": "stdout",
          "text": [
            "time: 1.93 ms (started: 2022-05-09 17:59:16 +00:00)\n"
          ]
        }
      ],
      "source": [
        "def generate_PCA_set(comp, x_train, x_test):\n",
        "  pca = PCA(n_components=comp)\n",
        "  __x_train__ = pca.fit_transform(x_train)\n",
        "  __x_test__ = pca.transform(x_test)\n",
        "  return __x_train__, __x_test__"
      ]
    },
    {
      "cell_type": "code",
      "execution_count": null,
      "metadata": {
        "colab": {
          "base_uri": "https://localhost:8080/"
        },
        "id": "qTOJl-mhl3nb",
        "outputId": "b96987e1-ade8-4162-ff28-ff522fb70cc3"
      },
      "outputs": [
        {
          "output_type": "stream",
          "name": "stdout",
          "text": [
            "time: 774 µs (started: 2022-05-09 17:59:17 +00:00)\n"
          ]
        }
      ],
      "source": [
        "def get_model():\n",
        "  return SVC(random_state=1)"
      ]
    },
    {
      "cell_type": "code",
      "source": [
        "def feature_scale(_x_train_, _x_test_):\n",
        "  sc = StandardScaler()\n",
        "\n",
        "  train_sc = sc.fit_transform(_x_train_)\n",
        "  test_sc = sc.transform(_x_test_)\n",
        "\n",
        "  return train_sc, test_sc"
      ],
      "metadata": {
        "colab": {
          "base_uri": "https://localhost:8080/"
        },
        "id": "ItZdTpLZS4H8",
        "outputId": "70f4843e-e2f4-493d-f66a-f699dec29ad9"
      },
      "execution_count": null,
      "outputs": [
        {
          "output_type": "stream",
          "name": "stdout",
          "text": [
            "time: 1.7 ms (started: 2022-05-09 17:59:17 +00:00)\n"
          ]
        }
      ]
    },
    {
      "cell_type": "code",
      "source": [
        "def feature_scale2(_x_train_):\n",
        "  sc = StandardScaler()\n",
        "\n",
        "  train_sc2 = sc.fit_transform(np.array(_x_train_))\n",
        "\n",
        "  return train_sc2"
      ],
      "metadata": {
        "colab": {
          "base_uri": "https://localhost:8080/"
        },
        "id": "pNfSb7grbts7",
        "outputId": "5ac9cac9-70c8-45d3-be40-535ecdbe8aea"
      },
      "execution_count": null,
      "outputs": [
        {
          "output_type": "stream",
          "name": "stdout",
          "text": [
            "time: 1.89 ms (started: 2022-05-09 17:59:18 +00:00)\n"
          ]
        }
      ]
    },
    {
      "cell_type": "markdown",
      "metadata": {
        "id": "L-THytMon_ty"
      },
      "source": [
        "## Model Evaluation"
      ]
    },
    {
      "cell_type": "markdown",
      "metadata": {
        "id": "1b0ReUrSoDXX"
      },
      "source": [
        "We gonna perform K fold (10 folds) cross validation targetting the highest accuracy while maintaining the data distribution per class. Luckily, `StratifiedKFold` from the scikit learn is able to achieve that."
      ]
    },
    {
      "cell_type": "markdown",
      "metadata": {
        "id": "DXFRFhUhs2xb"
      },
      "source": [
        "Unweighted accuracy: \n",
        "* https://scikit-learn.org/stable/modules/model_evaluation.html#balanced-accuracy-score\n",
        "* https://scikit-learn.org/stable/modules/generated/sklearn.metrics.balanced_accuracy_score.html\n",
        "* https://scikit-learn.org/stable/modules/generated/sklearn.metrics.balanced_accuracy_score.html#sklearn.metrics.balanced_accuracy_score\n",
        "* https://stackoverflow.com/questions/65848571/why-is-cross-val-score-different-to-when-i-calculate-it-manually"
      ]
    },
    {
      "cell_type": "code",
      "execution_count": null,
      "metadata": {
        "colab": {
          "base_uri": "https://localhost:8080/"
        },
        "id": "VUXijrVqs1Cx",
        "outputId": "bb56f5d0-414b-4aff-a46f-90a5b94ce47d"
      },
      "outputs": [
        {
          "output_type": "stream",
          "name": "stdout",
          "text": [
            "time: 1.22 ms (started: 2022-05-09 18:00:31 +00:00)\n"
          ]
        }
      ],
      "source": [
        "from sklearn.metrics import balanced_accuracy_score, accuracy_score\n",
        "from numpy import mean"
      ]
    },
    {
      "cell_type": "markdown",
      "metadata": {
        "id": "geApNDns8h0m"
      },
      "source": [
        "Here, we are doing CV with <b>training set</b> only."
      ]
    },
    {
      "cell_type": "code",
      "execution_count": null,
      "metadata": {
        "colab": {
          "base_uri": "https://localhost:8080/"
        },
        "id": "dVKs5IIe4oxI",
        "outputId": "bd14bf92-ebb2-4e8e-d6cc-aa043393844b"
      },
      "outputs": [
        {
          "output_type": "execute_result",
          "data": {
            "text/plain": [
              "(279, 196609)"
            ]
          },
          "metadata": {},
          "execution_count": 67
        },
        {
          "output_type": "stream",
          "name": "stdout",
          "text": [
            "time: 37.3 s (started: 2022-05-09 18:34:03 +00:00)\n"
          ]
        }
      ],
      "source": [
        "df_temp = pd.DataFrame(x_train)\n",
        "df_temp['class'] = y_train\n",
        "df_temp.shape"
      ]
    },
    {
      "cell_type": "code",
      "execution_count": null,
      "metadata": {
        "colab": {
          "base_uri": "https://localhost:8080/"
        },
        "id": "I0Ot1hJTkYhc",
        "outputId": "edb7a887-e010-4c62-e143-1a66ffe69c25"
      },
      "outputs": [
        {
          "output_type": "stream",
          "name": "stdout",
          "text": [
            "time: 1min 51s (started: 2022-05-09 18:34:40 +00:00)\n"
          ]
        }
      ],
      "source": [
        "# go through all PCA components\n",
        "\n",
        "x_train_exp = list()\n",
        "\n",
        "for i in range(len(selected_num_comp)):\n",
        "  temp_train, temp_test = generate_PCA_set(selected_num_comp[i], x_train, x_test)\n",
        "  \n",
        "  x_train_exp.append({\n",
        "      \"num_comp\": selected_num_comp[i],\n",
        "      \"variance_\": selected_exp_var[i],\n",
        "      \"model\": get_model(),\n",
        "      \"x_train_\": temp_train,\n",
        "      \"y_train_\": y_train,\n",
        "      \"x_test_\": temp_test,\n",
        "      \"y_test_\": y_test,\n",
        "  })"
      ]
    },
    {
      "cell_type": "markdown",
      "source": [
        "### Cross Validation Accuracies\n",
        "\n",
        "Comment out for actual run."
      ],
      "metadata": {
        "id": "7POLcWeK_4u5"
      }
    },
    {
      "cell_type": "code",
      "source": [
        "# crossValidate_weighted = list()\n",
        "# crossValidate_unweighted = list()\n",
        "# kfold_num = 5\n",
        "\n",
        "# for item in x_train_exp:\n",
        "#   # print(\"\\n########################################################################\")\n",
        "#   # print(\"{} % variance PCA\".format(item['variance_'] * 100))\n",
        "#   # print(\"########################################################################\")\n",
        "#   # define the k fold\n",
        "#   kfold = StratifiedKFold(n_splits=kfold_num, random_state=1, shuffle=True)\n",
        "\n",
        "#   x_train_evaluation = feature_scale2(item[\"x_train_\"])\n",
        "\n",
        "#   # retrieve the cross validation score\n",
        "#   unweighted_results = cross_val_score(\n",
        "#       item[\"model\"],\n",
        "#       x_train_evaluation,\n",
        "#       item[\"y_train_\"],\n",
        "#       cv=kfold,\n",
        "#       scoring='balanced_accuracy',\n",
        "#       # scoring='accuracy',\n",
        "#       n_jobs=-1\n",
        "#     )\n",
        "  \n",
        "#   weighted_results = cross_val_score(\n",
        "#       item[\"model\"],\n",
        "#       x_train_evaluation,\n",
        "#       item[\"y_train_\"],\n",
        "#       cv=kfold,\n",
        "#       scoring='accuracy',\n",
        "#       # scoring='accuracy',\n",
        "#       n_jobs=-1\n",
        "#     )\n",
        "  \n",
        "#   # # append the score val\n",
        "#   # results.append(unweighted_results)\n",
        "#   # names.append(item[\"variance_\"])\n",
        "\n",
        "#   # output the score data\n",
        "#   crossValidate_weighted.append(mean(weighted_results))\n",
        "#   crossValidate_unweighted.append(mean(unweighted_results))\n",
        "#   # print(\"Cross Validation Accuracies:\")\n",
        "#   # print('Unweighted Accuracy: %0.6f' % (mean(unweighted_results)))\n",
        "#   # print('Weighted Accuracy: %0.6f' % (mean(weighted_results)))\n",
        "#   # print(\"\\n\")"
      ],
      "metadata": {
        "colab": {
          "base_uri": "https://localhost:8080/"
        },
        "id": "Cu6ygJYy_0iF",
        "outputId": "6f2c992b-dbc1-4004-a8c0-93c2838da2e7"
      },
      "execution_count": null,
      "outputs": [
        {
          "output_type": "stream",
          "name": "stdout",
          "text": [
            "time: 4.87 ms (started: 2022-05-05 18:41:25 +00:00)\n"
          ]
        }
      ]
    },
    {
      "cell_type": "markdown",
      "source": [
        "#### CV Accuracy Result Visualization\n",
        "\n",
        "Comment out for actual run."
      ],
      "metadata": {
        "id": "zEHzbP_iEkCo"
      }
    },
    {
      "cell_type": "code",
      "source": [
        "# import plotly.graph_objects as go\n",
        "\n",
        "# fig = go.Figure()\n",
        "# fig.add_trace(go.Line(\n",
        "#     x=selected_exp_var, \n",
        "#     y=crossValidate_weighted,\n",
        "#     mode='lines',\n",
        "#     name='Weighted Training Accuracy',\n",
        "#     marker=dict(\n",
        "#         color='red',\n",
        "#         size=10\n",
        "#     ))\n",
        "# )\n",
        "\n",
        "# fig.add_trace(go.Line(\n",
        "#     x=selected_exp_var, \n",
        "#     y=crossValidate_unweighted,\n",
        "#     mode='lines',\n",
        "#     name='Unweighted Training Accuracy',\n",
        "#     marker=dict(\n",
        "#         color='green',\n",
        "#         size=10\n",
        "#     ))\n",
        "# )\n",
        "\n",
        "\n",
        "# fig.update_layout(\n",
        "#     title=\"Cross Validation accuracies amongst different variance % in the PCA\",\n",
        "#     xaxis_title=\"% of Explained Variance\",\n",
        "#     yaxis_title=\"Accuracy (%)\"\n",
        "# )\n",
        "# fig.update_traces(mode='markers+lines')\n",
        "\n",
        "# fig.show()"
      ],
      "metadata": {
        "colab": {
          "base_uri": "https://localhost:8080/"
        },
        "id": "h0FiEikSErgn",
        "outputId": "7c7f6219-e92d-4c54-f0b4-f48a13a8b410"
      },
      "execution_count": null,
      "outputs": [
        {
          "output_type": "stream",
          "name": "stdout",
          "text": [
            "time: 7.58 ms (started: 2022-05-05 18:41:25 +00:00)\n"
          ]
        }
      ]
    },
    {
      "cell_type": "code",
      "execution_count": null,
      "metadata": {
        "id": "tYWSeYnzm6-P",
        "colab": {
          "base_uri": "https://localhost:8080/"
        },
        "outputId": "d97e2cc1-e8b4-4b65-c106-e3c7ae678df6"
      },
      "outputs": [
        {
          "output_type": "stream",
          "name": "stdout",
          "text": [
            "time: 21 ms (started: 2022-05-05 18:41:25 +00:00)\n"
          ]
        }
      ],
      "source": [
        "# results, names = list(), list()\n",
        "# var_kfold_results = list()\n",
        "# kfold_num = 5\n",
        "\n",
        "# # print(\"Unweighted accruacy\\n\")\n",
        "# for item in x_train_exp:\n",
        "#   print(\"\\n########################################################################\")\n",
        "#   print(\"{} % variance PCA\".format(item['variance_'] * 100))\n",
        "#   print(\"########################################################################\")\n",
        "#   # define the k fold\n",
        "#   kfold = StratifiedKFold(n_splits=kfold_num, random_state=1, shuffle=True)\n",
        "\n",
        "#   # retrieve the cross validation score\n",
        "#   unweighted_results = cross_val_score(\n",
        "#       item[\"model\"],\n",
        "#       item[\"x_train_\"],\n",
        "#       x_train_df['class'],\n",
        "#       cv=kfold,\n",
        "#       scoring='balanced_accuracy',\n",
        "#       # scoring='accuracy',\n",
        "#       n_jobs=-1\n",
        "#     )\n",
        "  \n",
        "#   weighted_results = cross_val_score(\n",
        "#       item[\"model\"],\n",
        "#       item[\"x_train_\"],\n",
        "#       x_train_df['class'],\n",
        "#       cv=kfold,\n",
        "#       scoring='accuracy',\n",
        "#       # scoring='accuracy',\n",
        "#       n_jobs=-1\n",
        "#     )\n",
        "  \n",
        "#   # append the score val\n",
        "#   results.append(unweighted_results)\n",
        "#   names.append(item[\"variance_\"])\n",
        "\n",
        "#   # output the score data\n",
        "#   print(\"Training set:\")\n",
        "#   print('Unweighted Accuracy: %0.6f' % (mean(unweighted_results)))\n",
        "#   print('Weighted Accuracy: %0.6f' % (mean(weighted_results)))\n",
        "\n",
        "#   # keep track of the model array\n",
        "#   i = 0\n",
        "\n",
        "#   # track the all unweighted and weighted accuracies during the fold training\n",
        "#   vali_unw_acc, vali_wei_acc = list(), list()\n",
        "\n",
        "\n",
        "#   # fit the train and test data index into the model\n",
        "#   for train, test in kfold.split(item['x_train_'], x_train_df['class']):\n",
        "#     # get the train and validation sets\n",
        "#     x_train_, y_train_ = np.array(item['x_train_'][train]), np.array(x_train_df['class'][train])\n",
        "#     # x_test_, y_test_ = np.array(df[test]), np.array(df['class'][test])\n",
        "\n",
        "#     # print(x_train_.shape)\n",
        "#     # print(y_train_.shape)\n",
        "#     # print(\"\\n\")\n",
        "    \n",
        "#     # save the trained model to 'var_kfold_results' array\n",
        "#     item[\"model\"].fit(x_train_, y_train_)\n",
        "\n",
        "#     # make a classification with the validation set\n",
        "#     y_pred = item[\"model\"].predict(item[\"x_test_\"])\n",
        "\n",
        "#     # calculate the accuracies and save it\n",
        "#     # unweighted and weighted accuracy for this fold\n",
        "#     unweighted = balanced_accuracy_score(y_test, y_pred)\n",
        "#     weighted = accuracy_score(y_test, y_pred)\n",
        "\n",
        "#     # save the current accuracy\n",
        "#     vali_unw_acc.append(unweighted)\n",
        "#     vali_wei_acc.append(weighted)\n",
        "#     # end inner loop here\n",
        "\n",
        "#     # Note: we have to manually calculate the gamma since scikit learn does not\n",
        "#     # provide that attribute with SCV obj.\n",
        "#     # Ref: https://stackoverflow.com/questions/59660939/default-value-of-gamma-svc-sklearn\n",
        "#     # calculate the gamma value\n",
        "#     n_features = x_train_.shape[1]\n",
        "#     gamma = 1/(n_features * x_train_.var())\n",
        "#     print('gamma: %.09f' % gamma)\n",
        "\n",
        "\n",
        "\n",
        "#   var_kfold_results.append({\n",
        "#       \"%_variance\": item['variance_'],\n",
        "#       \"unweighted_train_results\": mean(unweighted_results),\n",
        "#       \"weighted_train_results\": mean(weighted_results),\n",
        "#       \"unweighted_validate_acc\": mean(vali_unw_acc),\n",
        "#       \"weighted_validate_acc\": mean(vali_wei_acc),\n",
        "#   })\n",
        "\n",
        "#   print(\"\\nValidation set:\")\n",
        "#   print(f\"Unweighted Accuracy: %0.6f\" %  var_kfold_results[i][\"unweighted_validate_acc\"])\n",
        "#   print(f\"Weighted Accuracy: %0.6f\" %  var_kfold_results[i][\"weighted_validate_acc\"])\n",
        "\n",
        "#   i += 1"
      ]
    },
    {
      "cell_type": "code",
      "source": [
        "# for item in var_kfold_results:\n",
        "#   print(item)"
      ],
      "metadata": {
        "id": "i0ETqppXTC3L",
        "colab": {
          "base_uri": "https://localhost:8080/"
        },
        "outputId": "5c6ac9d9-77f4-4f6e-f500-e98f884f445c"
      },
      "execution_count": null,
      "outputs": [
        {
          "output_type": "stream",
          "name": "stdout",
          "text": [
            "time: 949 µs (started: 2022-05-05 18:41:25 +00:00)\n"
          ]
        }
      ]
    },
    {
      "cell_type": "markdown",
      "source": [
        "Since we have the models from the kfold, let's plot the results on the graph."
      ],
      "metadata": {
        "id": "DWAgOjL5OuSM"
      }
    },
    {
      "cell_type": "code",
      "source": [
        "# # train set\n",
        "# unweighted_train_acc = list()\n",
        "# weighted_train_acc = list()\n",
        "# # validation set\n",
        "# unweighted_vali_acc = list()\n",
        "# weighted_vali_acc = list()\n",
        "\n",
        "# for item in var_kfold_results:\n",
        "#   unweighted_train_acc.append(item[\"unweighted_train_results\"])\n",
        "#   weighted_train_acc.append(item[\"weighted_train_results\"])\n",
        "#   unweighted_vali_acc.append(item[\"unweighted_validate_acc\"])\n",
        "#   weighted_vali_acc.append(item[\"weighted_validate_acc\"])\n",
        "\n",
        "# kfold_results_df = pd.DataFrame()\n",
        "# kfold_results_df['unweighted_train_results'] = unweighted_train_acc\n",
        "# kfold_results_df['weighted_train_results'] = weighted_train_acc\n",
        "# kfold_results_df['unweighted_validate_acc'] = unweighted_vali_acc\n",
        "# kfold_results_df['weighted_validate_acc'] = weighted_vali_acc\n",
        "# kfold_results_df['variance%'] = selected_exp_var"
      ],
      "metadata": {
        "colab": {
          "base_uri": "https://localhost:8080/"
        },
        "id": "jCnwV6DqO1jV",
        "outputId": "36f64d3d-5855-460a-b9fb-9bd65f9bbb83"
      },
      "execution_count": null,
      "outputs": [
        {
          "output_type": "stream",
          "name": "stdout",
          "text": [
            "time: 7.57 ms (started: 2022-05-05 18:41:25 +00:00)\n"
          ]
        }
      ]
    },
    {
      "cell_type": "code",
      "source": [
        "# kfold_results_df"
      ],
      "metadata": {
        "colab": {
          "base_uri": "https://localhost:8080/"
        },
        "id": "yMS0c9IQRwSj",
        "outputId": "fe46d7a7-72a9-415c-be7b-cf1b50fb3a7c"
      },
      "execution_count": null,
      "outputs": [
        {
          "output_type": "stream",
          "name": "stdout",
          "text": [
            "time: 803 µs (started: 2022-05-05 18:41:25 +00:00)\n"
          ]
        }
      ]
    },
    {
      "cell_type": "markdown",
      "source": [
        " Evaluation Visualization"
      ],
      "metadata": {
        "id": "vbBbHATxcAMw"
      }
    },
    {
      "cell_type": "markdown",
      "source": [
        "# FINAL REPORT USE"
      ],
      "metadata": {
        "id": "ANJ4zbuONfUN"
      }
    },
    {
      "cell_type": "code",
      "source": [
        "# import plotly.graph_objects as go\n",
        "\n",
        "# fig = go.Figure()\n",
        "# fig.add_trace(go.Line(\n",
        "#     x=kfold_results_df[\"variance%\"], \n",
        "#     y=kfold_results_df[\"unweighted_train_results\"],\n",
        "#     mode='lines',\n",
        "#     name='Unweighted Training Accuracy',\n",
        "#     marker=dict(\n",
        "#         color='red',\n",
        "#         size=10\n",
        "#     ))\n",
        "# )\n",
        "\n",
        "# fig.add_trace(go.Line(\n",
        "#     x=kfold_results_df[\"variance%\"], \n",
        "#     y=kfold_results_df[\"weighted_train_results\"],\n",
        "#     mode='lines',\n",
        "#     name='Weighted Training Accuracy',\n",
        "#     marker=dict(\n",
        "#         color='green',\n",
        "#         size=10\n",
        "#     ))\n",
        "# )\n",
        "\n",
        "# fig.add_trace(go.Line(\n",
        "#     x=kfold_results_df[\"variance%\"], \n",
        "#     y=kfold_results_df[\"unweighted_validate_acc\"],\n",
        "#     mode='lines',\n",
        "#     name='Unweighted Validation Accuracy',\n",
        "#     marker=dict(\n",
        "#         color='blue',\n",
        "#         size=10\n",
        "#     ))\n",
        "# )\n",
        "\n",
        "# fig.add_trace(go.Line(\n",
        "#     x=kfold_results_df[\"variance%\"], \n",
        "#     y=kfold_results_df[\"weighted_validate_acc\"],\n",
        "#     mode='lines',\n",
        "#     name='Weighted Validation Accuracy',\n",
        "#     marker=dict(\n",
        "#         color='cyan',\n",
        "#         size=10\n",
        "#     ))\n",
        "# )\n",
        "\n",
        "# fig.update_layout(\n",
        "#     title=\"SVM K-Fold (\" + str(kfold_num) + \" folds) validation accuracy with PCA explained % variance (aug)\",\n",
        "#     xaxis_title=\"% of Explained Variance\",\n",
        "#     yaxis_title=\"Accuracy (%)\"\n",
        "# )\n",
        "# fig.update_traces(mode='markers+lines')\n",
        "\n",
        "# fig.show()"
      ],
      "metadata": {
        "colab": {
          "base_uri": "https://localhost:8080/"
        },
        "id": "T2-GByQpWYZi",
        "outputId": "a758db9a-018c-4209-8ce5-ddb72c4bd02f"
      },
      "execution_count": null,
      "outputs": [
        {
          "output_type": "stream",
          "name": "stdout",
          "text": [
            "time: 13.2 ms (started: 2022-05-05 18:41:25 +00:00)\n"
          ]
        }
      ]
    },
    {
      "cell_type": "code",
      "source": [
        "# for item in x_train_exp:\n",
        "#   # print(item['model'].get_params())\n",
        "#   print(item['model']._gamma)"
      ],
      "metadata": {
        "colab": {
          "base_uri": "https://localhost:8080/"
        },
        "id": "unPN4xw1W-iv",
        "outputId": "9a5925b5-3f04-48e4-b146-e04193f28d23"
      },
      "execution_count": null,
      "outputs": [
        {
          "output_type": "stream",
          "name": "stdout",
          "text": [
            "time: 1.11 ms (started: 2022-05-05 18:41:25 +00:00)\n"
          ]
        }
      ]
    },
    {
      "cell_type": "markdown",
      "source": [
        "## Hyperparameter Tuning"
      ],
      "metadata": {
        "id": "PLb1uOu27nCm"
      }
    },
    {
      "cell_type": "code",
      "source": [
        "from sklearn.model_selection import GridSearchCV\n",
        "from sklearn.metrics import confusion_matrix"
      ],
      "metadata": {
        "id": "xQf9QS7t-dDc",
        "colab": {
          "base_uri": "https://localhost:8080/"
        },
        "outputId": "e4cb0a15-db07-47d0-a6f0-1cac6b24b8f2"
      },
      "execution_count": null,
      "outputs": [
        {
          "output_type": "stream",
          "name": "stdout",
          "text": [
            "time: 1.73 ms (started: 2022-05-05 18:41:25 +00:00)\n"
          ]
        }
      ]
    },
    {
      "cell_type": "code",
      "source": [
        "# # store a list of best parameter of SVM\n",
        "# w_best_para = list()\n",
        "# uw_best_para = list()"
      ],
      "metadata": {
        "colab": {
          "base_uri": "https://localhost:8080/"
        },
        "id": "EZxGiSpv8vMA",
        "outputId": "b4254729-837c-4985-8caf-d9b144dc96e3"
      },
      "execution_count": null,
      "outputs": [
        {
          "output_type": "stream",
          "name": "stdout",
          "text": [
            "time: 660 µs (started: 2022-05-05 18:41:25 +00:00)\n"
          ]
        }
      ]
    },
    {
      "cell_type": "code",
      "source": [
        "# # a list of set of parameter for the SVM\n",
        "# tuned_paramteres = [\n",
        "#   {'kernel': ['rbf'], 'gamma': [0.0001, 0.001, 0.01, 0.1, 1.0, 10, 20, 50, 70, 100, 'scale'], 'C': [0.03125, 0.0001, 0.001, 0.01,0.1, 1.0, 2.0, 3.0, 4.0, 5.0, 10.0, 25.0, 50.0, 100.0, 1000.0]},\n",
        "#   {'kernel': ['linear', 'sigmoid', ], 'C': [0.03125, 0.0001, 0.001, 0.01,0.1, 1.0, 2.0, 3.0, 4.0, 5.0, 10.0, 25.0, 50.0, 100.0, 1000.0]},\n",
        "#   {'kernel': ['poly'], 'degree': [1, 2, 3, 4, 5, 6, 7, 8, 9, 10], 'C': [0.03125, 0.0001, 0.001, 0.01,0.1, 1.0, 2.0, 3.0, 4.0, 5.0, 10.0, 25.0, 50.0, 100.0, 1000.0]},\n",
        "# ]"
      ],
      "metadata": {
        "colab": {
          "base_uri": "https://localhost:8080/"
        },
        "id": "auyyGUNX_Rhp",
        "outputId": "dbbee039-7d37-4b1a-be14-e6f2313d9f82"
      },
      "execution_count": null,
      "outputs": [
        {
          "output_type": "stream",
          "name": "stdout",
          "text": [
            "time: 1.79 ms (started: 2022-05-05 18:41:25 +00:00)\n"
          ]
        }
      ]
    },
    {
      "cell_type": "code",
      "source": [
        "# x_train_exp2 = list()\n",
        "\n",
        "# for i in range(len(selected_num_comp)):\n",
        "#   temp_train, temp_test = generate_PCA_set(selected_num_comp[i], x_train, x_test)\n",
        "  \n",
        "#   x_train_exp2.append({\n",
        "#       \"num_comp\": selected_num_comp[i],\n",
        "#       \"variance_\": selected_exp_var[i],\n",
        "#       \"model\": get_model(),\n",
        "#       \"x_train_\": temp_train,\n",
        "#       \"x_test_\": temp_test,\n",
        "#   })"
      ],
      "metadata": {
        "colab": {
          "base_uri": "https://localhost:8080/"
        },
        "id": "2cnZZuIUz92t",
        "outputId": "7cb2057a-2cb3-4790-bf27-06715596083b"
      },
      "execution_count": null,
      "outputs": [
        {
          "output_type": "stream",
          "name": "stdout",
          "text": [
            "time: 4.96 ms (started: 2022-05-05 18:41:25 +00:00)\n"
          ]
        }
      ]
    },
    {
      "cell_type": "code",
      "source": [
        "# parameterTune_results = list()\n",
        "# parameterTune_kfold_results = list()"
      ],
      "metadata": {
        "colab": {
          "base_uri": "https://localhost:8080/"
        },
        "id": "IuLsIZAx5hnY",
        "outputId": "329f8a88-4921-4db6-a68a-9c72fad39240"
      },
      "execution_count": null,
      "outputs": [
        {
          "output_type": "stream",
          "name": "stdout",
          "text": [
            "time: 890 µs (started: 2022-05-05 18:41:25 +00:00)\n"
          ]
        }
      ]
    },
    {
      "cell_type": "markdown",
      "source": [
        "Experiment 2.1\n",
        "\n",
        "TBC"
      ],
      "metadata": {
        "id": "UBXNd7jiutlK"
      }
    },
    {
      "cell_type": "code",
      "source": [
        "# for item in x_train_exp2:\n",
        "\n",
        "#   x_train_sc, x_test_sc = feature_scale(item[\"x_train_\"], np.array(item[\"x_test_\"]))\n",
        "#   # print(\"x_train sample size: {}, x_test sample size: {}\".format(np.array(item[\"x_train_\"]).shape, np.array(item[\"x_test_\"]).shape))\n",
        "\n",
        "#   # the weighted\n",
        "#   SVM_GRID_w = GridSearchCV(SVC(), tuned_paramteres, scoring='accuracy', n_jobs=-1)\n",
        "#   SVM_GRID_w.fit(x_train_sc, y_train)\n",
        "#   y_pred = SVM_GRID_w.predict(x_test_sc)\n",
        "\n",
        "#   w_acc = accuracy_score(y_test, y_pred)\n",
        "#   # print(\"Y Test: {}\\nY Pred: {}\".format(np.array(y_test_).shape, np.array(y_pred).shape))\n",
        "#   print(\"The weighted accuracy: {}\".format(w_acc))\n",
        "\n",
        "#   # the unweighted\n",
        "#   SVM_GRID_uw = GridSearchCV(SVC(), tuned_paramteres, scoring='balanced_accuracy', n_jobs=-1)\n",
        "#   SVM_GRID_uw.fit(x_train_sc, y_train)\n",
        "#   unw_y_pred = SVM_GRID_uw.predict(x_test_sc)\n",
        "\n",
        "#   uw_acc = balanced_accuracy_score(y_test, unw_y_pred)\n",
        "#   print(\"The unweighted accuracy: {}\".format(uw_acc))\n",
        "\n",
        "#   # calculate the gamma value\n",
        "#   # n_features = x_train_sc.shape[1]\n",
        "#   # gamma = 1/(n_features * x_train_sc.var())\n",
        "#   # print('Gamma: %.09f' % gamma)\n",
        "    \n",
        "#   print(\"The best Weighted para: \")\n",
        "#   print(SVM_GRID_w.best_params_)\n",
        "\n",
        "#   print(\"The best Unweighted para: \")\n",
        "#   print(SVM_GRID_uw.best_params_)\n",
        "#   print(\"\")"
      ],
      "metadata": {
        "id": "f3JY8fFxta5S",
        "colab": {
          "base_uri": "https://localhost:8080/"
        },
        "outputId": "a2ceee10-fe5c-4bc2-8693-db4adfb1ecf2"
      },
      "execution_count": null,
      "outputs": [
        {
          "output_type": "stream",
          "name": "stdout",
          "text": [
            "time: 8.49 ms (started: 2022-05-05 18:41:25 +00:00)\n"
          ]
        }
      ]
    },
    {
      "cell_type": "markdown",
      "source": [
        "### Paramter evaluation"
      ],
      "metadata": {
        "id": "JT_kI08SuwLc"
      }
    },
    {
      "cell_type": "code",
      "source": [
        "exper22_variance = list()\n",
        "exper22_weighted_cv = list()\n",
        "exper22_unweighted_cv = list()\n",
        "exper22_weighted_validate = list()\n",
        "exper22_unweighted_validate = list()\n",
        "\n",
        "def get_optimal_para(kfold_num, tune_para):\n",
        "\n",
        "  # print(\"Unweighted accruacy\\n\")\n",
        "  for item in x_train_exp2:\n",
        "    print(\"\\n########################################################################\")\n",
        "    print(\"{} % variance PCA\".format(item['variance_'] * 100))\n",
        "    print(\"########################################################################\")\n",
        "    # define the k fold\n",
        "    kfold = StratifiedKFold(n_splits=kfold_num, random_state=1, shuffle=True)\n",
        "\n",
        "    x_train_evaluation = feature_scale2(item[\"x_train_\"])\n",
        "\n",
        "    # retrieve the cross validation score\n",
        "    unweighted_results = cross_val_score(\n",
        "        item[\"model\"],\n",
        "        x_train_evaluation,\n",
        "        x_train_df[\"class\"],\n",
        "        cv=kfold,\n",
        "        scoring='balanced_accuracy',\n",
        "        # scoring='accuracy',\n",
        "        n_jobs=-1\n",
        "      )\n",
        "    \n",
        "    weighted_results = cross_val_score(\n",
        "        item[\"model\"],\n",
        "        x_train_evaluation,\n",
        "        x_train_df[\"class\"],\n",
        "        cv=kfold,\n",
        "        scoring='accuracy',\n",
        "        # scoring='accuracy',\n",
        "        n_jobs=-1\n",
        "      )\n",
        "    \n",
        "    # # append the score val\n",
        "    # results.append(unweighted_results)\n",
        "    # names.append(item[\"variance_\"])\n",
        "\n",
        "    # output the score data\n",
        "    print(\"Cross Validation Accuracies:\")\n",
        "    print('Unweighted Accuracy: %0.6f' % (mean(unweighted_results)))\n",
        "    print('Weighted Accuracy: %0.6f' % (mean(weighted_results)))\n",
        "    print(\"\\n\")\n",
        "\n",
        "    # keep track of the model array\n",
        "    i = 0\n",
        "    j = 1\n",
        "\n",
        "    # track the all unweighted and weighted accuracies during the fold training\n",
        "    test_unw_acc, test_wei_acc = list(), list()\n",
        "\n",
        "\n",
        "    # fit the train and test data index into the model\n",
        "    for train, test in kfold.split(item['x_train_'], x_train_df[\"class\"]):\n",
        "      print(\"Fold number: \" + str(j))\n",
        "\n",
        "      ########################## Validation Set ##########################\n",
        "      # get the train and validation sets\n",
        "      x_train_, y_train_ = np.array(item['x_train_'][train]), np.array(x_train_df[\"class\"][train])\n",
        "      x_test_, y_test_ = np.array(item['x_train_'][test]), np.array(x_train_df[\"class\"][test])\n",
        "\n",
        "      x_train_sc, x_test_sc = feature_scale(x_train_, x_test_)\n",
        "\n",
        "      # save the trained model to 'var_kfold_results' array\n",
        "      # item[\"model\"].fit(x_train_.T, y_train_.T)\n",
        "\n",
        "      # the weighted\n",
        "      SVM_GRID_w = GridSearchCV(item[\"model\"], tune_para, scoring='accuracy')\n",
        "      SVM_GRID_w.fit(x_train_sc, y_train_.T)\n",
        "      y_pred = SVM_GRID_w.predict(x_test_sc)\n",
        "\n",
        "      w_acc = accuracy_score(y_test_, y_pred)\n",
        "      # print(\"Y Test: {}\\nY Pred: {}\".format(np.array(y_test_).shape, np.array(y_pred).shape))\n",
        "      test_wei_acc.append(w_acc)\n",
        "\n",
        "      # the unweighted\n",
        "      SVM_GRID_uw = GridSearchCV(item[\"model\"], tune_para, scoring='balanced_accuracy')\n",
        "      SVM_GRID_uw.fit(x_train_sc, y_train_.T)\n",
        "      unw_y_pred = SVM_GRID_uw.predict(x_test_sc)\n",
        "\n",
        "      uw_acc = balanced_accuracy_score(y_test_, unw_y_pred)\n",
        "      test_unw_acc.append(uw_acc)\n",
        "      \n",
        "      # calculate the gamma value\n",
        "      # n_features = x_train_sc.shape[1]\n",
        "      # gamma = 1/(n_features * x_train_sc.var())\n",
        "      # print('Gamma: %.09f' % gamma)\n",
        "        \n",
        "      print(\"The best weighted para: \")\n",
        "      print(SVM_GRID_w.best_params_)\n",
        "      print(f\"Accuracy: %0.6f\" % (w_acc))\n",
        "      # print(\"====\")\n",
        "      print(\"The best unweighted para: \")\n",
        "      print(SVM_GRID_uw.best_params_)\n",
        "      print(f\"Accuracy: %0.6f\" % (uw_acc))\n",
        "      print(\"\")\n",
        "\n",
        "      j += 1\n",
        "      # end inner loop\n",
        "    \n",
        "    # parameterTune_results.append({\n",
        "    #   \"variance%\": item[\"variance_\"],\n",
        "    #   \"weighted_train\": mean(weighted_results),\n",
        "    #   \"unweighted_train\": mean(unweighted_results),\n",
        "    #   \"weighted_validation\": mean(test_wei_acc),\n",
        "    #   \"unweighted_validation\": mean(test_unw_acc)\n",
        "    # })\n",
        "    exper22_variance.append(item[\"variance_\"])\n",
        "    exper22_weighted_cv.append(mean(weighted_results))\n",
        "    exper22_unweighted_cv.append(mean(unweighted_results))\n",
        "    exper22_weighted_validate.append(mean(test_wei_acc))\n",
        "    exper22_unweighted_validate.append(mean(test_unw_acc))\n",
        "\n",
        "    print(\"\\nMean Validation set:\")\n",
        "    print(f\"Weighted accuracy: %0.6f\" % (mean(test_wei_acc)))\n",
        "    print(f\"Unweighted accuracy: %0.6f\" % (mean(test_unw_acc)))\n",
        "\n",
        "    i += 1\n",
        "    # end outter loop"
      ],
      "metadata": {
        "colab": {
          "base_uri": "https://localhost:8080/"
        },
        "id": "KqXVHjT8aT_s",
        "outputId": "d862be21-a691-4ef6-9956-2a59d051b6fe"
      },
      "execution_count": null,
      "outputs": [
        {
          "output_type": "stream",
          "name": "stdout",
          "text": [
            "time: 159 ms (started: 2022-05-05 18:41:25 +00:00)\n"
          ]
        }
      ]
    },
    {
      "cell_type": "code",
      "source": [
        "# get_optimal_para(5, tuned_paramteres)"
      ],
      "metadata": {
        "colab": {
          "base_uri": "https://localhost:8080/"
        },
        "id": "mMKXvy-NahLA",
        "outputId": "af560e53-9cf3-4e4f-9e3e-f4ccd51061b7"
      },
      "execution_count": null,
      "outputs": [
        {
          "output_type": "stream",
          "name": "stdout",
          "text": [
            "time: 976 µs (started: 2022-05-05 18:41:25 +00:00)\n"
          ]
        }
      ]
    },
    {
      "cell_type": "markdown",
      "source": [
        "#### Evaluation visualization\n",
        "\n",
        "Comment out for actual run"
      ],
      "metadata": {
        "id": "hMyGH1eTgYB1"
      }
    },
    {
      "cell_type": "code",
      "source": [
        "# import plotly.graph_objects as go\n",
        "\n",
        "# fig = go.Figure()\n",
        "# fig.add_trace(go.Line(\n",
        "#     x=exper22_variance,\n",
        "#     y=exper22_weighted_cv,\n",
        "#     mode='lines',\n",
        "#     name='Weighted CV Accuracy',\n",
        "#     marker=dict(\n",
        "#         color='red',\n",
        "#         size=10\n",
        "#     ))\n",
        "# )\n",
        "\n",
        "# fig.add_trace(go.Line(\n",
        "#     x=exper22_variance,\n",
        "#     y=exper22_unweighted_cv,\n",
        "#     mode='lines',\n",
        "#     name='Unweighted CV Accuracy',\n",
        "#     marker=dict(\n",
        "#         color='green',\n",
        "#         size=10\n",
        "#     ))\n",
        "# )\n",
        "\n",
        "# fig.add_trace(go.Line(\n",
        "#     x=exper22_variance,\n",
        "#     y=exper22_weighted_validate,\n",
        "#     mode='lines',\n",
        "#     name='Weighted Validation Accuracy',\n",
        "#     marker=dict(\n",
        "#         color='blue',\n",
        "#         size=10\n",
        "#     ))\n",
        "# )\n",
        "\n",
        "# fig.add_trace(go.Line(\n",
        "#     x=exper22_variance,\n",
        "#     y=exper22_unweighted_validate,\n",
        "#     mode='lines',\n",
        "#     name='Unweighted Validation Accuracy',\n",
        "#     marker=dict(\n",
        "#         color='cyan',\n",
        "#         size=10\n",
        "#     ))\n",
        "# )\n",
        "\n",
        "\n",
        "\n",
        "# fig.update_layout(\n",
        "#     title=\"CV and validation accuracies amongst different variance % in the PCA\",\n",
        "#     xaxis_title=\"% of Explained Variance\",\n",
        "#     yaxis_title=\"Accuracy (%)\"\n",
        "# )\n",
        "# fig.update_traces(mode='markers+lines')\n",
        "\n",
        "# fig.show()"
      ],
      "metadata": {
        "colab": {
          "base_uri": "https://localhost:8080/"
        },
        "id": "QbRkFB_GgTyi",
        "outputId": "965f07e4-f73c-4c60-b85a-a3d03791c237"
      },
      "execution_count": null,
      "outputs": [
        {
          "output_type": "stream",
          "name": "stdout",
          "text": [
            "time: 10.1 ms (started: 2022-05-05 18:41:25 +00:00)\n"
          ]
        }
      ]
    },
    {
      "cell_type": "markdown",
      "source": [
        "## Training with the best parameters"
      ],
      "metadata": {
        "id": "rcRwh2yReGuz"
      }
    },
    {
      "cell_type": "markdown",
      "source": [
        "As we can see, it turns out that the best hyperparameter are:\n",
        "* `{'C': 4.0, 'gamma': scale, 'kernel': 'rbf'}`\n",
        "\n",
        "  In both weighted and unweighted accuracies from the second and fourth folders.\n",
        "\n",
        "* `'C': 3.0, 'gamma': 0.01, 'kernel': 'rbf'`\n",
        "\n",
        "  All occured in both weighted and unweighted accuracies on the first fold.\n",
        "\n",
        "<br>\n",
        "\n",
        "Therefore, we need to replace the parameters with the original default parameters."
      ],
      "metadata": {
        "id": "SOldd8MobskS"
      }
    },
    {
      "cell_type": "code",
      "source": [
        "def tuned_svm():\n",
        "  return SVC(C=4.0, gamma=\"scale\", kernel='rbf', random_state=1)\n",
        "\n",
        "\n",
        "def tuned_svm2():\n",
        "  return SVC(C=3.0, gamma='scale', kernel='rbf', random_state=1)"
      ],
      "metadata": {
        "colab": {
          "base_uri": "https://localhost:8080/"
        },
        "id": "6CBAIXuTd6o7",
        "outputId": "d5ace2c0-960d-4c29-f443-fc9fc3fc20c0"
      },
      "execution_count": null,
      "outputs": [
        {
          "output_type": "stream",
          "name": "stdout",
          "text": [
            "time: 1.66 ms (started: 2022-05-09 18:05:40 +00:00)\n"
          ]
        }
      ]
    },
    {
      "cell_type": "code",
      "source": [
        "# for batch PCA run\n",
        "\n",
        "pca_tuned_para_svm1 = x_train_exp\n",
        "\n",
        "for item in pca_tuned_para_svm1:\n",
        "  item['model'] = tuned_svm()"
      ],
      "metadata": {
        "colab": {
          "base_uri": "https://localhost:8080/"
        },
        "id": "27UZGEOjdu77",
        "outputId": "61127d66-8a02-4c1a-d5dd-7725ad596642"
      },
      "execution_count": null,
      "outputs": [
        {
          "output_type": "stream",
          "name": "stdout",
          "text": [
            "time: 2.16 ms (started: 2022-05-09 18:37:21 +00:00)\n"
          ]
        }
      ]
    },
    {
      "cell_type": "code",
      "source": [
        "# indexs = 1\n",
        "\n",
        "# temp_train, temp_test = generate_PCA_set(selected_num_comp[indexs], x_train, x_test)\n",
        "\n",
        "# pca_tuned_para_svm1 = {\n",
        "#       \"num_comp\": selected_num_comp[indexs],\n",
        "#       \"variance_\": selected_exp_var[indexs],\n",
        "#       \"model\": tuned_svm2(),\n",
        "#       \"x_train_\": temp_train,\n",
        "#       \"y_train_\": y_train,\n",
        "#       \"x_test_\": temp_test,\n",
        "#       \"y_test_\": y_test,\n",
        "#   }"
      ],
      "metadata": {
        "colab": {
          "base_uri": "https://localhost:8080/"
        },
        "id": "uKtdGwKsddrA",
        "outputId": "dfa6a268-22a9-4dff-df0a-8743e86b9afe"
      },
      "execution_count": null,
      "outputs": [
        {
          "output_type": "stream",
          "name": "stdout",
          "text": [
            "time: 11.2 s (started: 2022-05-05 18:41:25 +00:00)\n"
          ]
        }
      ]
    },
    {
      "cell_type": "code",
      "source": [
        "# batch PCA training\n",
        "\n",
        "tunePara_uw_train_acc = list()\n",
        "tunePara_w_train_acc = list()\n",
        "tunePara_uw_test_acc = list()\n",
        "tunePara_w_test_acc = list()\n",
        "\n",
        "for item in pca_tuned_para_svm1:\n",
        "  \n",
        "  # scaling the features aftert the PCA\n",
        "  # sc = StandardScaler()\n",
        "  # x_train_sc23 = sc.fit_transform(item[\"x_train_\"])\n",
        "  # x_test_sc23 = sc.transform(item[\"x_test_\"])\n",
        "  x_train_sc23, x_test_sc23 = feature_scale(item[\"x_train_\"], item[\"x_test_\"])\n",
        "\n",
        "  # train the model\n",
        "  item['model'].fit(x_train_sc23, y_train)\n",
        "\n",
        "  # predict the train set\n",
        "  y_trainHat = item[\"model\"].predict(x_train_sc23)\n",
        "\n",
        "  # predict the test set\n",
        "  y_testHat = item[\"model\"].predict(x_test_sc23)\n",
        "\n",
        "  # calculate the gamma value\n",
        "  n_features = x_train_sc23.shape[1]\n",
        "  gamma = 1/(n_features * x_train_sc23.var())\n",
        "  print('Gamma: %.09f' % gamma)\n",
        "  \n",
        "  # save the accuracy results\n",
        "  tunePara_uw_train_acc.append(balanced_accuracy_score(y_train, y_trainHat))\n",
        "  tunePara_w_train_acc.append(accuracy_score(y_train, y_trainHat))\n",
        "  tunePara_uw_test_acc.append(balanced_accuracy_score(y_test, y_testHat))\n",
        "  tunePara_w_test_acc.append(accuracy_score(y_test, y_testHat))\n",
        "\n",
        "  print(\"UW ACC: {}\".format(balanced_accuracy_score(y_test, y_testHat)))\n",
        "\n",
        "  # np.array().shape\n",
        "  # print(\"x_train shape: {}\\n x_train after scaling shape: {}\".format(np.array(item[\"x_train_\"]).shape, np.array(x_train_sc23).shape))"
      ],
      "metadata": {
        "colab": {
          "base_uri": "https://localhost:8080/"
        },
        "id": "UEREeRc5HQO-",
        "outputId": "33ba1a55-6551-4643-c9ae-32e4b2a1ba7a"
      },
      "execution_count": null,
      "outputs": [
        {
          "output_type": "stream",
          "name": "stdout",
          "text": [
            "Gamma: 0.021739130\n",
            "UW ACC: 0.9192283398252448\n",
            "Gamma: 0.012987013\n",
            "UW ACC: 0.9370196862827667\n",
            "Gamma: 0.007633588\n",
            "UW ACC: 0.9183861459100957\n",
            "Gamma: 0.005586592\n",
            "UW ACC: 0.9085166859669439\n",
            "Gamma: 0.004854369\n",
            "UW ACC: 0.9003316138540899\n",
            "Gamma: 0.004081633\n",
            "UW ACC: 0.8653279292557111\n",
            "Gamma: 0.003597122\n",
            "UW ACC: 0.8350352668701968\n",
            "time: 276 ms (started: 2022-05-09 18:37:26 +00:00)\n"
          ]
        }
      ]
    },
    {
      "cell_type": "code",
      "source": [
        "# single SVM train: 80% variance\n",
        "\n",
        "\n",
        "def single_svm_train(model_data: dict):\n",
        "  x_train_sc_, x_test_sc_ = feature_scale(model_data[\"x_train_\"], model_data[\"x_test_\"])\n",
        "\n",
        "  # train the model\n",
        "  model_data['model'].fit(x_train_sc_, y_train)\n",
        "\n",
        "  # predict the train set\n",
        "  y_trainHat = model_data[\"model\"].predict(x_train_sc_)\n",
        "\n",
        "  # predict the test set\n",
        "  y_testHat = model_data[\"model\"].predict(x_test_sc_)\n",
        "\n",
        "  # calculate the gamma value\n",
        "  n_features = x_train_sc_.shape[1]\n",
        "  gamma = 1/(n_features * x_train_sc_.var())\n",
        "  print('Gamma: %.09f' % gamma)\n",
        "\n",
        "\n",
        "single_svm_train(pca_tuned_para_svm1)"
      ],
      "metadata": {
        "colab": {
          "base_uri": "https://localhost:8080/"
        },
        "id": "ChlboE7ld7-5",
        "outputId": "1f400684-f528-423a-e453-194b1c72e549"
      },
      "execution_count": null,
      "outputs": [
        {
          "output_type": "stream",
          "name": "stdout",
          "text": [
            "Gamma: 0.012987013\n",
            "time: 40.9 ms (started: 2022-05-05 18:45:05 +00:00)\n"
          ]
        }
      ]
    },
    {
      "cell_type": "markdown",
      "source": [
        "### Tuned parameter accuracy visualization"
      ],
      "metadata": {
        "id": "TMKeEsGZPdCL"
      }
    },
    {
      "cell_type": "code",
      "source": [
        "import plotly.graph_objects as go\n",
        "\n",
        "fig = go.Figure()\n",
        "fig.add_trace(go.Line(\n",
        "    x=selected_exp_var,\n",
        "    y=tunePara_uw_test_acc,\n",
        "    mode='lines',\n",
        "    name='Unweighted Test Accuracy',\n",
        "    marker=dict(\n",
        "        color='red',\n",
        "        size=10\n",
        "    ))\n",
        ")\n",
        "\n",
        "fig.add_trace(go.Line(\n",
        "    x=selected_exp_var,\n",
        "    y=tunePara_w_test_acc,\n",
        "    mode='lines',\n",
        "    name='Weighted Test Accuracy',\n",
        "    marker=dict(\n",
        "        color='green',\n",
        "        size=10\n",
        "    ))\n",
        ")\n",
        "\n",
        "fig.add_trace(go.Line(\n",
        "    x=selected_exp_var,\n",
        "    y=tunePara_w_train_acc,\n",
        "    mode='lines',\n",
        "    name='Weighted Training Accuracy',\n",
        "    marker=dict(\n",
        "        color='blue',\n",
        "        size=10\n",
        "    ))\n",
        ")\n",
        "\n",
        "fig.add_trace(go.Line(\n",
        "    x=selected_exp_var,\n",
        "    y=tunePara_uw_train_acc,\n",
        "    mode='lines',\n",
        "    name='Unweighted Training Accuracy',\n",
        "    marker=dict(\n",
        "        color='cyan',\n",
        "        size=10\n",
        "    ))\n",
        ")\n",
        "\n",
        "fig.update_layout(\n",
        "    title=\"Parameter-tuning SVM (PCA) weighted and unweighted accuracies (aug)\",\n",
        "    xaxis_title=\"% of Explained Variance\",\n",
        "    yaxis_title=\"Accuracy (%)\"\n",
        ")\n",
        "fig.update_traces(mode='markers+lines')\n",
        "\n",
        "fig.show()"
      ],
      "metadata": {
        "colab": {
          "base_uri": "https://localhost:8080/",
          "height": 716
        },
        "id": "Bw4YXx5NPaoL",
        "outputId": "1b42c9eb-bfe8-4a1c-8abc-154b285d6142"
      },
      "execution_count": null,
      "outputs": [
        {
          "output_type": "stream",
          "name": "stderr",
          "text": [
            "/usr/local/lib/python3.7/dist-packages/plotly/graph_objs/_deprecations.py:385: DeprecationWarning:\n",
            "\n",
            "plotly.graph_objs.Line is deprecated.\n",
            "Please replace it with one of the following more specific types\n",
            "  - plotly.graph_objs.scatter.Line\n",
            "  - plotly.graph_objs.layout.shape.Line\n",
            "  - etc.\n",
            "\n",
            "\n"
          ]
        },
        {
          "output_type": "display_data",
          "data": {
            "text/html": [
              "<html>\n",
              "<head><meta charset=\"utf-8\" /></head>\n",
              "<body>\n",
              "    <div>            <script src=\"https://cdnjs.cloudflare.com/ajax/libs/mathjax/2.7.5/MathJax.js?config=TeX-AMS-MML_SVG\"></script><script type=\"text/javascript\">if (window.MathJax) {MathJax.Hub.Config({SVG: {font: \"STIX-Web\"}});}</script>                <script type=\"text/javascript\">window.PlotlyConfig = {MathJaxConfig: 'local'};</script>\n",
              "        <script src=\"https://cdn.plot.ly/plotly-2.8.3.min.js\"></script>                <div id=\"d78a6d81-2355-42b3-963d-e2c96c698f64\" class=\"plotly-graph-div\" style=\"height:525px; width:100%;\"></div>            <script type=\"text/javascript\">                                    window.PLOTLYENV=window.PLOTLYENV || {};                                    if (document.getElementById(\"d78a6d81-2355-42b3-963d-e2c96c698f64\")) {                    Plotly.newPlot(                        \"d78a6d81-2355-42b3-963d-e2c96c698f64\",                        [{\"marker\":{\"color\":\"red\",\"size\":10},\"mode\":\"markers+lines\",\"name\":\"Unweighted Test Accuracy\",\"x\":[0.7,0.8,0.9,0.95,0.97,0.99,1.0],\"y\":[0.7905518394648829,0.7759197324414716,0.6964882943143813,0.7059643255295429,0.6914715719063544,0.6308528428093645,0.6776755852842808],\"type\":\"scatter\"},{\"marker\":{\"color\":\"green\",\"size\":10},\"mode\":\"markers+lines\",\"name\":\"Weighted Test Accuracy\",\"x\":[0.7,0.8,0.9,0.95,0.97,0.99,1.0],\"y\":[0.8016528925619835,0.7768595041322314,0.7024793388429752,0.7024793388429752,0.6859504132231405,0.6033057851239669,0.7107438016528925],\"type\":\"scatter\"},{\"marker\":{\"color\":\"blue\",\"size\":10},\"mode\":\"markers+lines\",\"name\":\"Weighted Training Accuracy\",\"x\":[0.7,0.8,0.9,0.95,0.97,0.99,1.0],\"y\":[1.0,1.0,1.0,1.0,1.0,1.0,1.0],\"type\":\"scatter\"},{\"marker\":{\"color\":\"cyan\",\"size\":10},\"mode\":\"markers+lines\",\"name\":\"Unweighted Training Accuracy\",\"x\":[0.7,0.8,0.9,0.95,0.97,0.99,1.0],\"y\":[1.0,1.0,1.0,1.0,1.0,1.0,1.0],\"type\":\"scatter\"}],                        {\"template\":{\"data\":{\"bar\":[{\"error_x\":{\"color\":\"#2a3f5f\"},\"error_y\":{\"color\":\"#2a3f5f\"},\"marker\":{\"line\":{\"color\":\"#E5ECF6\",\"width\":0.5},\"pattern\":{\"fillmode\":\"overlay\",\"size\":10,\"solidity\":0.2}},\"type\":\"bar\"}],\"barpolar\":[{\"marker\":{\"line\":{\"color\":\"#E5ECF6\",\"width\":0.5},\"pattern\":{\"fillmode\":\"overlay\",\"size\":10,\"solidity\":0.2}},\"type\":\"barpolar\"}],\"carpet\":[{\"aaxis\":{\"endlinecolor\":\"#2a3f5f\",\"gridcolor\":\"white\",\"linecolor\":\"white\",\"minorgridcolor\":\"white\",\"startlinecolor\":\"#2a3f5f\"},\"baxis\":{\"endlinecolor\":\"#2a3f5f\",\"gridcolor\":\"white\",\"linecolor\":\"white\",\"minorgridcolor\":\"white\",\"startlinecolor\":\"#2a3f5f\"},\"type\":\"carpet\"}],\"choropleth\":[{\"colorbar\":{\"outlinewidth\":0,\"ticks\":\"\"},\"type\":\"choropleth\"}],\"contour\":[{\"colorbar\":{\"outlinewidth\":0,\"ticks\":\"\"},\"colorscale\":[[0.0,\"#0d0887\"],[0.1111111111111111,\"#46039f\"],[0.2222222222222222,\"#7201a8\"],[0.3333333333333333,\"#9c179e\"],[0.4444444444444444,\"#bd3786\"],[0.5555555555555556,\"#d8576b\"],[0.6666666666666666,\"#ed7953\"],[0.7777777777777778,\"#fb9f3a\"],[0.8888888888888888,\"#fdca26\"],[1.0,\"#f0f921\"]],\"type\":\"contour\"}],\"contourcarpet\":[{\"colorbar\":{\"outlinewidth\":0,\"ticks\":\"\"},\"type\":\"contourcarpet\"}],\"heatmap\":[{\"colorbar\":{\"outlinewidth\":0,\"ticks\":\"\"},\"colorscale\":[[0.0,\"#0d0887\"],[0.1111111111111111,\"#46039f\"],[0.2222222222222222,\"#7201a8\"],[0.3333333333333333,\"#9c179e\"],[0.4444444444444444,\"#bd3786\"],[0.5555555555555556,\"#d8576b\"],[0.6666666666666666,\"#ed7953\"],[0.7777777777777778,\"#fb9f3a\"],[0.8888888888888888,\"#fdca26\"],[1.0,\"#f0f921\"]],\"type\":\"heatmap\"}],\"heatmapgl\":[{\"colorbar\":{\"outlinewidth\":0,\"ticks\":\"\"},\"colorscale\":[[0.0,\"#0d0887\"],[0.1111111111111111,\"#46039f\"],[0.2222222222222222,\"#7201a8\"],[0.3333333333333333,\"#9c179e\"],[0.4444444444444444,\"#bd3786\"],[0.5555555555555556,\"#d8576b\"],[0.6666666666666666,\"#ed7953\"],[0.7777777777777778,\"#fb9f3a\"],[0.8888888888888888,\"#fdca26\"],[1.0,\"#f0f921\"]],\"type\":\"heatmapgl\"}],\"histogram\":[{\"marker\":{\"pattern\":{\"fillmode\":\"overlay\",\"size\":10,\"solidity\":0.2}},\"type\":\"histogram\"}],\"histogram2d\":[{\"colorbar\":{\"outlinewidth\":0,\"ticks\":\"\"},\"colorscale\":[[0.0,\"#0d0887\"],[0.1111111111111111,\"#46039f\"],[0.2222222222222222,\"#7201a8\"],[0.3333333333333333,\"#9c179e\"],[0.4444444444444444,\"#bd3786\"],[0.5555555555555556,\"#d8576b\"],[0.6666666666666666,\"#ed7953\"],[0.7777777777777778,\"#fb9f3a\"],[0.8888888888888888,\"#fdca26\"],[1.0,\"#f0f921\"]],\"type\":\"histogram2d\"}],\"histogram2dcontour\":[{\"colorbar\":{\"outlinewidth\":0,\"ticks\":\"\"},\"colorscale\":[[0.0,\"#0d0887\"],[0.1111111111111111,\"#46039f\"],[0.2222222222222222,\"#7201a8\"],[0.3333333333333333,\"#9c179e\"],[0.4444444444444444,\"#bd3786\"],[0.5555555555555556,\"#d8576b\"],[0.6666666666666666,\"#ed7953\"],[0.7777777777777778,\"#fb9f3a\"],[0.8888888888888888,\"#fdca26\"],[1.0,\"#f0f921\"]],\"type\":\"histogram2dcontour\"}],\"mesh3d\":[{\"colorbar\":{\"outlinewidth\":0,\"ticks\":\"\"},\"type\":\"mesh3d\"}],\"parcoords\":[{\"line\":{\"colorbar\":{\"outlinewidth\":0,\"ticks\":\"\"}},\"type\":\"parcoords\"}],\"pie\":[{\"automargin\":true,\"type\":\"pie\"}],\"scatter\":[{\"marker\":{\"colorbar\":{\"outlinewidth\":0,\"ticks\":\"\"}},\"type\":\"scatter\"}],\"scatter3d\":[{\"line\":{\"colorbar\":{\"outlinewidth\":0,\"ticks\":\"\"}},\"marker\":{\"colorbar\":{\"outlinewidth\":0,\"ticks\":\"\"}},\"type\":\"scatter3d\"}],\"scattercarpet\":[{\"marker\":{\"colorbar\":{\"outlinewidth\":0,\"ticks\":\"\"}},\"type\":\"scattercarpet\"}],\"scattergeo\":[{\"marker\":{\"colorbar\":{\"outlinewidth\":0,\"ticks\":\"\"}},\"type\":\"scattergeo\"}],\"scattergl\":[{\"marker\":{\"colorbar\":{\"outlinewidth\":0,\"ticks\":\"\"}},\"type\":\"scattergl\"}],\"scattermapbox\":[{\"marker\":{\"colorbar\":{\"outlinewidth\":0,\"ticks\":\"\"}},\"type\":\"scattermapbox\"}],\"scatterpolar\":[{\"marker\":{\"colorbar\":{\"outlinewidth\":0,\"ticks\":\"\"}},\"type\":\"scatterpolar\"}],\"scatterpolargl\":[{\"marker\":{\"colorbar\":{\"outlinewidth\":0,\"ticks\":\"\"}},\"type\":\"scatterpolargl\"}],\"scatterternary\":[{\"marker\":{\"colorbar\":{\"outlinewidth\":0,\"ticks\":\"\"}},\"type\":\"scatterternary\"}],\"surface\":[{\"colorbar\":{\"outlinewidth\":0,\"ticks\":\"\"},\"colorscale\":[[0.0,\"#0d0887\"],[0.1111111111111111,\"#46039f\"],[0.2222222222222222,\"#7201a8\"],[0.3333333333333333,\"#9c179e\"],[0.4444444444444444,\"#bd3786\"],[0.5555555555555556,\"#d8576b\"],[0.6666666666666666,\"#ed7953\"],[0.7777777777777778,\"#fb9f3a\"],[0.8888888888888888,\"#fdca26\"],[1.0,\"#f0f921\"]],\"type\":\"surface\"}],\"table\":[{\"cells\":{\"fill\":{\"color\":\"#EBF0F8\"},\"line\":{\"color\":\"white\"}},\"header\":{\"fill\":{\"color\":\"#C8D4E3\"},\"line\":{\"color\":\"white\"}},\"type\":\"table\"}]},\"layout\":{\"annotationdefaults\":{\"arrowcolor\":\"#2a3f5f\",\"arrowhead\":0,\"arrowwidth\":1},\"autotypenumbers\":\"strict\",\"coloraxis\":{\"colorbar\":{\"outlinewidth\":0,\"ticks\":\"\"}},\"colorscale\":{\"diverging\":[[0,\"#8e0152\"],[0.1,\"#c51b7d\"],[0.2,\"#de77ae\"],[0.3,\"#f1b6da\"],[0.4,\"#fde0ef\"],[0.5,\"#f7f7f7\"],[0.6,\"#e6f5d0\"],[0.7,\"#b8e186\"],[0.8,\"#7fbc41\"],[0.9,\"#4d9221\"],[1,\"#276419\"]],\"sequential\":[[0.0,\"#0d0887\"],[0.1111111111111111,\"#46039f\"],[0.2222222222222222,\"#7201a8\"],[0.3333333333333333,\"#9c179e\"],[0.4444444444444444,\"#bd3786\"],[0.5555555555555556,\"#d8576b\"],[0.6666666666666666,\"#ed7953\"],[0.7777777777777778,\"#fb9f3a\"],[0.8888888888888888,\"#fdca26\"],[1.0,\"#f0f921\"]],\"sequentialminus\":[[0.0,\"#0d0887\"],[0.1111111111111111,\"#46039f\"],[0.2222222222222222,\"#7201a8\"],[0.3333333333333333,\"#9c179e\"],[0.4444444444444444,\"#bd3786\"],[0.5555555555555556,\"#d8576b\"],[0.6666666666666666,\"#ed7953\"],[0.7777777777777778,\"#fb9f3a\"],[0.8888888888888888,\"#fdca26\"],[1.0,\"#f0f921\"]]},\"colorway\":[\"#636efa\",\"#EF553B\",\"#00cc96\",\"#ab63fa\",\"#FFA15A\",\"#19d3f3\",\"#FF6692\",\"#B6E880\",\"#FF97FF\",\"#FECB52\"],\"font\":{\"color\":\"#2a3f5f\"},\"geo\":{\"bgcolor\":\"white\",\"lakecolor\":\"white\",\"landcolor\":\"#E5ECF6\",\"showlakes\":true,\"showland\":true,\"subunitcolor\":\"white\"},\"hoverlabel\":{\"align\":\"left\"},\"hovermode\":\"closest\",\"mapbox\":{\"style\":\"light\"},\"paper_bgcolor\":\"white\",\"plot_bgcolor\":\"#E5ECF6\",\"polar\":{\"angularaxis\":{\"gridcolor\":\"white\",\"linecolor\":\"white\",\"ticks\":\"\"},\"bgcolor\":\"#E5ECF6\",\"radialaxis\":{\"gridcolor\":\"white\",\"linecolor\":\"white\",\"ticks\":\"\"}},\"scene\":{\"xaxis\":{\"backgroundcolor\":\"#E5ECF6\",\"gridcolor\":\"white\",\"gridwidth\":2,\"linecolor\":\"white\",\"showbackground\":true,\"ticks\":\"\",\"zerolinecolor\":\"white\"},\"yaxis\":{\"backgroundcolor\":\"#E5ECF6\",\"gridcolor\":\"white\",\"gridwidth\":2,\"linecolor\":\"white\",\"showbackground\":true,\"ticks\":\"\",\"zerolinecolor\":\"white\"},\"zaxis\":{\"backgroundcolor\":\"#E5ECF6\",\"gridcolor\":\"white\",\"gridwidth\":2,\"linecolor\":\"white\",\"showbackground\":true,\"ticks\":\"\",\"zerolinecolor\":\"white\"}},\"shapedefaults\":{\"line\":{\"color\":\"#2a3f5f\"}},\"ternary\":{\"aaxis\":{\"gridcolor\":\"white\",\"linecolor\":\"white\",\"ticks\":\"\"},\"baxis\":{\"gridcolor\":\"white\",\"linecolor\":\"white\",\"ticks\":\"\"},\"bgcolor\":\"#E5ECF6\",\"caxis\":{\"gridcolor\":\"white\",\"linecolor\":\"white\",\"ticks\":\"\"}},\"title\":{\"x\":0.05},\"xaxis\":{\"automargin\":true,\"gridcolor\":\"white\",\"linecolor\":\"white\",\"ticks\":\"\",\"title\":{\"standoff\":15},\"zerolinecolor\":\"white\",\"zerolinewidth\":2},\"yaxis\":{\"automargin\":true,\"gridcolor\":\"white\",\"linecolor\":\"white\",\"ticks\":\"\",\"title\":{\"standoff\":15},\"zerolinecolor\":\"white\",\"zerolinewidth\":2}}},\"title\":{\"text\":\"Parameter-tuning SVM (PCA) weighted and unweighted accuracies (aug)\"},\"xaxis\":{\"title\":{\"text\":\"% of Explained Variance\"}},\"yaxis\":{\"title\":{\"text\":\"Accuracy (%)\"}}},                        {\"responsive\": true}                    ).then(function(){\n",
              "                            \n",
              "var gd = document.getElementById('d78a6d81-2355-42b3-963d-e2c96c698f64');\n",
              "var x = new MutationObserver(function (mutations, observer) {{\n",
              "        var display = window.getComputedStyle(gd).display;\n",
              "        if (!display || display === 'none') {{\n",
              "            console.log([gd, 'removed!']);\n",
              "            Plotly.purge(gd);\n",
              "            observer.disconnect();\n",
              "        }}\n",
              "}});\n",
              "\n",
              "// Listen for the removal of the full notebook cells\n",
              "var notebookContainer = gd.closest('#notebook-container');\n",
              "if (notebookContainer) {{\n",
              "    x.observe(notebookContainer, {childList: true});\n",
              "}}\n",
              "\n",
              "// Listen for the clearing of the current output cell\n",
              "var outputEl = gd.closest('.output');\n",
              "if (outputEl) {{\n",
              "    x.observe(outputEl, {childList: true});\n",
              "}}\n",
              "\n",
              "                        })                };                            </script>        </div>\n",
              "</body>\n",
              "</html>"
            ]
          },
          "metadata": {}
        },
        {
          "output_type": "stream",
          "name": "stdout",
          "text": [
            "time: 63.2 ms (started: 2022-05-09 18:06:09 +00:00)\n"
          ]
        }
      ]
    },
    {
      "cell_type": "code",
      "source": [
        "pca_tuned_para_svm2 = x_train_exp\n",
        "\n",
        "for item in pca_tuned_para_svm2:\n",
        "  item['model'] = tuned_svm2()"
      ],
      "metadata": {
        "colab": {
          "base_uri": "https://localhost:8080/"
        },
        "id": "tHCmrKUCdyX6",
        "outputId": "434c6d16-8fb1-4505-de94-394f5c74ab66"
      },
      "execution_count": null,
      "outputs": [
        {
          "output_type": "stream",
          "name": "stdout",
          "text": [
            "time: 1.76 ms (started: 2022-05-09 18:36:31 +00:00)\n"
          ]
        }
      ]
    },
    {
      "cell_type": "code",
      "source": [
        "tunePara_uw_train_acc2 = list()\n",
        "tunePara_w_train_acc2 = list()\n",
        "tunePara_uw_test_acc2 = list()\n",
        "tunePara_w_test_acc2 = list()\n",
        "\n",
        "for item in pca_tuned_para_svm2:\n",
        "  \n",
        "  # scaling the features aftert the PCA\n",
        "  # sc = StandardScaler()\n",
        "  # x_train_sc23 = sc.fit_transform(item[\"x_train_\"])\n",
        "  # x_test_sc23 = sc.transform(item[\"x_test_\"])\n",
        "  x_train_sc24, x_test_sc24 = feature_scale(item[\"x_train_\"], item[\"x_test_\"])\n",
        "\n",
        "  # train the model\n",
        "  item['model'].fit(x_train_sc24, y_train)\n",
        "\n",
        "  # predict the train set\n",
        "  y_trainHat = item[\"model\"].predict(x_train_sc24)\n",
        "\n",
        "  # predict the test set\n",
        "  y_testHat = item[\"model\"].predict(x_test_sc24)\n",
        "\n",
        "  # calculate the gamma value\n",
        "  n_features = x_train_sc23.shape[1]\n",
        "  gamma = 1/(n_features * x_train_sc23.var())\n",
        "  print('Gamma: %.09f' % gamma)\n",
        "  \n",
        "  # save the accuracy results\n",
        "  tunePara_uw_train_acc2.append(balanced_accuracy_score(y_train, y_trainHat))\n",
        "  tunePara_w_train_acc2.append(accuracy_score(y_train, y_trainHat))\n",
        "  tunePara_uw_test_acc2.append(balanced_accuracy_score(y_test, y_testHat))\n",
        "  tunePara_w_test_acc2.append(accuracy_score(y_test, y_testHat))\n",
        "\n",
        "  print(\"UW ACC: {}\".format(balanced_accuracy_score(y_test, y_testHat)))\n",
        "\n",
        "  # np.array().shape\n",
        "  # print(\"x_train shape: {}\\n x_train after scaling shape: {}\".format(np.array(item[\"x_train_\"]).shape, np.array(x_train_sc23).shape))"
      ],
      "metadata": {
        "colab": {
          "base_uri": "https://localhost:8080/"
        },
        "id": "1zy5LKr5d2M2",
        "outputId": "318832c0-913f-4acd-a149-2f8f9404db5a"
      },
      "execution_count": null,
      "outputs": [
        {
          "output_type": "stream",
          "name": "stdout",
          "text": [
            "Gamma: 0.003597122\n",
            "UW ACC: 0.9087798715654279\n",
            "Gamma: 0.003597122\n",
            "UW ACC: 0.9327823981471735\n",
            "Gamma: 0.003597122\n",
            "UW ACC: 0.9226234340456889\n",
            "Gamma: 0.003597122\n",
            "UW ACC: 0.9085166859669439\n",
            "Gamma: 0.003597122\n",
            "UW ACC: 0.9003316138540899\n",
            "Gamma: 0.003597122\n",
            "UW ACC: 0.8653279292557111\n",
            "Gamma: 0.003597122\n",
            "UW ACC: 0.8350352668701968\n",
            "time: 297 ms (started: 2022-05-09 18:36:31 +00:00)\n"
          ]
        }
      ]
    },
    {
      "cell_type": "code",
      "source": [
        "import plotly.graph_objects as go\n",
        "\n",
        "fig = go.Figure()\n",
        "fig.add_trace(go.Line(\n",
        "    x=selected_exp_var,\n",
        "    y=tunePara_uw_test_acc2,\n",
        "    mode='lines',\n",
        "    name='Unweighted Test Accuracy',\n",
        "    marker=dict(\n",
        "        color='red',\n",
        "        size=10\n",
        "    ))\n",
        ")\n",
        "\n",
        "fig.add_trace(go.Line(\n",
        "    x=selected_exp_var,\n",
        "    y=tunePara_w_test_acc2,\n",
        "    mode='lines',\n",
        "    name='Weighted Test Accuracy',\n",
        "    marker=dict(\n",
        "        color='green',\n",
        "        size=10\n",
        "    ))\n",
        ")\n",
        "\n",
        "fig.add_trace(go.Line(\n",
        "    x=selected_exp_var,\n",
        "    y=tunePara_w_train_acc2,\n",
        "    mode='lines',\n",
        "    name='Weighted Training Accuracy',\n",
        "    marker=dict(\n",
        "        color='blue',\n",
        "        size=10\n",
        "    ))\n",
        ")\n",
        "\n",
        "fig.add_trace(go.Line(\n",
        "    x=selected_exp_var,\n",
        "    y=tunePara_uw_train_acc2,\n",
        "    mode='lines',\n",
        "    name='Unweighted Training Accuracy',\n",
        "    marker=dict(\n",
        "        color='cyan',\n",
        "        size=10\n",
        "    ))\n",
        ")\n",
        "\n",
        "fig.update_layout(\n",
        "    title=\"Parameter-tuned SVM (PCA) weighted and unweighted accuracies (no aug)\",\n",
        "    xaxis_title=\"% of Explained Variance\",\n",
        "    yaxis_title=\"Accuracy (%)\"\n",
        ")\n",
        "fig.update_traces(mode='markers+lines')\n",
        "\n",
        "fig.show()"
      ],
      "metadata": {
        "colab": {
          "base_uri": "https://localhost:8080/",
          "height": 716
        },
        "id": "JIZuSM9MeCWZ",
        "outputId": "48fa49f7-fc9c-4d42-903a-1a46ddb0439c"
      },
      "execution_count": null,
      "outputs": [
        {
          "output_type": "stream",
          "name": "stderr",
          "text": [
            "/usr/local/lib/python3.7/dist-packages/plotly/graph_objs/_deprecations.py:385: DeprecationWarning:\n",
            "\n",
            "plotly.graph_objs.Line is deprecated.\n",
            "Please replace it with one of the following more specific types\n",
            "  - plotly.graph_objs.scatter.Line\n",
            "  - plotly.graph_objs.layout.shape.Line\n",
            "  - etc.\n",
            "\n",
            "\n"
          ]
        },
        {
          "output_type": "display_data",
          "data": {
            "text/html": [
              "<html>\n",
              "<head><meta charset=\"utf-8\" /></head>\n",
              "<body>\n",
              "    <div>            <script src=\"https://cdnjs.cloudflare.com/ajax/libs/mathjax/2.7.5/MathJax.js?config=TeX-AMS-MML_SVG\"></script><script type=\"text/javascript\">if (window.MathJax) {MathJax.Hub.Config({SVG: {font: \"STIX-Web\"}});}</script>                <script type=\"text/javascript\">window.PlotlyConfig = {MathJaxConfig: 'local'};</script>\n",
              "        <script src=\"https://cdn.plot.ly/plotly-2.8.3.min.js\"></script>                <div id=\"a51a13e0-ea82-4519-9fb3-f228e2158edb\" class=\"plotly-graph-div\" style=\"height:525px; width:100%;\"></div>            <script type=\"text/javascript\">                                    window.PLOTLYENV=window.PLOTLYENV || {};                                    if (document.getElementById(\"a51a13e0-ea82-4519-9fb3-f228e2158edb\")) {                    Plotly.newPlot(                        \"a51a13e0-ea82-4519-9fb3-f228e2158edb\",                        [{\"marker\":{\"color\":\"red\",\"size\":10},\"mode\":\"markers+lines\",\"name\":\"Unweighted Test Accuracy\",\"x\":[0.7,0.8,0.9,0.95,0.97,0.99,1.0],\"y\":[0.7760590858416945,0.7759197324414716,0.6892419175027871,0.6963489409141583,0.6914715719063544,0.6308528428093645,0.6776755852842808],\"type\":\"scatter\"},{\"marker\":{\"color\":\"green\",\"size\":10},\"mode\":\"markers+lines\",\"name\":\"Weighted Test Accuracy\",\"x\":[0.7,0.8,0.9,0.95,0.97,0.99,1.0],\"y\":[0.7851239669421488,0.7768595041322314,0.6942148760330579,0.6942148760330579,0.6859504132231405,0.6033057851239669,0.7107438016528925],\"type\":\"scatter\"},{\"marker\":{\"color\":\"blue\",\"size\":10},\"mode\":\"markers+lines\",\"name\":\"Weighted Training Accuracy\",\"x\":[0.7,0.8,0.9,0.95,0.97,0.99,1.0],\"y\":[1.0,1.0,1.0,1.0,1.0,1.0,1.0],\"type\":\"scatter\"},{\"marker\":{\"color\":\"cyan\",\"size\":10},\"mode\":\"markers+lines\",\"name\":\"Unweighted Training Accuracy\",\"x\":[0.7,0.8,0.9,0.95,0.97,0.99,1.0],\"y\":[1.0,1.0,1.0,1.0,1.0,1.0,1.0],\"type\":\"scatter\"}],                        {\"template\":{\"data\":{\"bar\":[{\"error_x\":{\"color\":\"#2a3f5f\"},\"error_y\":{\"color\":\"#2a3f5f\"},\"marker\":{\"line\":{\"color\":\"#E5ECF6\",\"width\":0.5},\"pattern\":{\"fillmode\":\"overlay\",\"size\":10,\"solidity\":0.2}},\"type\":\"bar\"}],\"barpolar\":[{\"marker\":{\"line\":{\"color\":\"#E5ECF6\",\"width\":0.5},\"pattern\":{\"fillmode\":\"overlay\",\"size\":10,\"solidity\":0.2}},\"type\":\"barpolar\"}],\"carpet\":[{\"aaxis\":{\"endlinecolor\":\"#2a3f5f\",\"gridcolor\":\"white\",\"linecolor\":\"white\",\"minorgridcolor\":\"white\",\"startlinecolor\":\"#2a3f5f\"},\"baxis\":{\"endlinecolor\":\"#2a3f5f\",\"gridcolor\":\"white\",\"linecolor\":\"white\",\"minorgridcolor\":\"white\",\"startlinecolor\":\"#2a3f5f\"},\"type\":\"carpet\"}],\"choropleth\":[{\"colorbar\":{\"outlinewidth\":0,\"ticks\":\"\"},\"type\":\"choropleth\"}],\"contour\":[{\"colorbar\":{\"outlinewidth\":0,\"ticks\":\"\"},\"colorscale\":[[0.0,\"#0d0887\"],[0.1111111111111111,\"#46039f\"],[0.2222222222222222,\"#7201a8\"],[0.3333333333333333,\"#9c179e\"],[0.4444444444444444,\"#bd3786\"],[0.5555555555555556,\"#d8576b\"],[0.6666666666666666,\"#ed7953\"],[0.7777777777777778,\"#fb9f3a\"],[0.8888888888888888,\"#fdca26\"],[1.0,\"#f0f921\"]],\"type\":\"contour\"}],\"contourcarpet\":[{\"colorbar\":{\"outlinewidth\":0,\"ticks\":\"\"},\"type\":\"contourcarpet\"}],\"heatmap\":[{\"colorbar\":{\"outlinewidth\":0,\"ticks\":\"\"},\"colorscale\":[[0.0,\"#0d0887\"],[0.1111111111111111,\"#46039f\"],[0.2222222222222222,\"#7201a8\"],[0.3333333333333333,\"#9c179e\"],[0.4444444444444444,\"#bd3786\"],[0.5555555555555556,\"#d8576b\"],[0.6666666666666666,\"#ed7953\"],[0.7777777777777778,\"#fb9f3a\"],[0.8888888888888888,\"#fdca26\"],[1.0,\"#f0f921\"]],\"type\":\"heatmap\"}],\"heatmapgl\":[{\"colorbar\":{\"outlinewidth\":0,\"ticks\":\"\"},\"colorscale\":[[0.0,\"#0d0887\"],[0.1111111111111111,\"#46039f\"],[0.2222222222222222,\"#7201a8\"],[0.3333333333333333,\"#9c179e\"],[0.4444444444444444,\"#bd3786\"],[0.5555555555555556,\"#d8576b\"],[0.6666666666666666,\"#ed7953\"],[0.7777777777777778,\"#fb9f3a\"],[0.8888888888888888,\"#fdca26\"],[1.0,\"#f0f921\"]],\"type\":\"heatmapgl\"}],\"histogram\":[{\"marker\":{\"pattern\":{\"fillmode\":\"overlay\",\"size\":10,\"solidity\":0.2}},\"type\":\"histogram\"}],\"histogram2d\":[{\"colorbar\":{\"outlinewidth\":0,\"ticks\":\"\"},\"colorscale\":[[0.0,\"#0d0887\"],[0.1111111111111111,\"#46039f\"],[0.2222222222222222,\"#7201a8\"],[0.3333333333333333,\"#9c179e\"],[0.4444444444444444,\"#bd3786\"],[0.5555555555555556,\"#d8576b\"],[0.6666666666666666,\"#ed7953\"],[0.7777777777777778,\"#fb9f3a\"],[0.8888888888888888,\"#fdca26\"],[1.0,\"#f0f921\"]],\"type\":\"histogram2d\"}],\"histogram2dcontour\":[{\"colorbar\":{\"outlinewidth\":0,\"ticks\":\"\"},\"colorscale\":[[0.0,\"#0d0887\"],[0.1111111111111111,\"#46039f\"],[0.2222222222222222,\"#7201a8\"],[0.3333333333333333,\"#9c179e\"],[0.4444444444444444,\"#bd3786\"],[0.5555555555555556,\"#d8576b\"],[0.6666666666666666,\"#ed7953\"],[0.7777777777777778,\"#fb9f3a\"],[0.8888888888888888,\"#fdca26\"],[1.0,\"#f0f921\"]],\"type\":\"histogram2dcontour\"}],\"mesh3d\":[{\"colorbar\":{\"outlinewidth\":0,\"ticks\":\"\"},\"type\":\"mesh3d\"}],\"parcoords\":[{\"line\":{\"colorbar\":{\"outlinewidth\":0,\"ticks\":\"\"}},\"type\":\"parcoords\"}],\"pie\":[{\"automargin\":true,\"type\":\"pie\"}],\"scatter\":[{\"marker\":{\"colorbar\":{\"outlinewidth\":0,\"ticks\":\"\"}},\"type\":\"scatter\"}],\"scatter3d\":[{\"line\":{\"colorbar\":{\"outlinewidth\":0,\"ticks\":\"\"}},\"marker\":{\"colorbar\":{\"outlinewidth\":0,\"ticks\":\"\"}},\"type\":\"scatter3d\"}],\"scattercarpet\":[{\"marker\":{\"colorbar\":{\"outlinewidth\":0,\"ticks\":\"\"}},\"type\":\"scattercarpet\"}],\"scattergeo\":[{\"marker\":{\"colorbar\":{\"outlinewidth\":0,\"ticks\":\"\"}},\"type\":\"scattergeo\"}],\"scattergl\":[{\"marker\":{\"colorbar\":{\"outlinewidth\":0,\"ticks\":\"\"}},\"type\":\"scattergl\"}],\"scattermapbox\":[{\"marker\":{\"colorbar\":{\"outlinewidth\":0,\"ticks\":\"\"}},\"type\":\"scattermapbox\"}],\"scatterpolar\":[{\"marker\":{\"colorbar\":{\"outlinewidth\":0,\"ticks\":\"\"}},\"type\":\"scatterpolar\"}],\"scatterpolargl\":[{\"marker\":{\"colorbar\":{\"outlinewidth\":0,\"ticks\":\"\"}},\"type\":\"scatterpolargl\"}],\"scatterternary\":[{\"marker\":{\"colorbar\":{\"outlinewidth\":0,\"ticks\":\"\"}},\"type\":\"scatterternary\"}],\"surface\":[{\"colorbar\":{\"outlinewidth\":0,\"ticks\":\"\"},\"colorscale\":[[0.0,\"#0d0887\"],[0.1111111111111111,\"#46039f\"],[0.2222222222222222,\"#7201a8\"],[0.3333333333333333,\"#9c179e\"],[0.4444444444444444,\"#bd3786\"],[0.5555555555555556,\"#d8576b\"],[0.6666666666666666,\"#ed7953\"],[0.7777777777777778,\"#fb9f3a\"],[0.8888888888888888,\"#fdca26\"],[1.0,\"#f0f921\"]],\"type\":\"surface\"}],\"table\":[{\"cells\":{\"fill\":{\"color\":\"#EBF0F8\"},\"line\":{\"color\":\"white\"}},\"header\":{\"fill\":{\"color\":\"#C8D4E3\"},\"line\":{\"color\":\"white\"}},\"type\":\"table\"}]},\"layout\":{\"annotationdefaults\":{\"arrowcolor\":\"#2a3f5f\",\"arrowhead\":0,\"arrowwidth\":1},\"autotypenumbers\":\"strict\",\"coloraxis\":{\"colorbar\":{\"outlinewidth\":0,\"ticks\":\"\"}},\"colorscale\":{\"diverging\":[[0,\"#8e0152\"],[0.1,\"#c51b7d\"],[0.2,\"#de77ae\"],[0.3,\"#f1b6da\"],[0.4,\"#fde0ef\"],[0.5,\"#f7f7f7\"],[0.6,\"#e6f5d0\"],[0.7,\"#b8e186\"],[0.8,\"#7fbc41\"],[0.9,\"#4d9221\"],[1,\"#276419\"]],\"sequential\":[[0.0,\"#0d0887\"],[0.1111111111111111,\"#46039f\"],[0.2222222222222222,\"#7201a8\"],[0.3333333333333333,\"#9c179e\"],[0.4444444444444444,\"#bd3786\"],[0.5555555555555556,\"#d8576b\"],[0.6666666666666666,\"#ed7953\"],[0.7777777777777778,\"#fb9f3a\"],[0.8888888888888888,\"#fdca26\"],[1.0,\"#f0f921\"]],\"sequentialminus\":[[0.0,\"#0d0887\"],[0.1111111111111111,\"#46039f\"],[0.2222222222222222,\"#7201a8\"],[0.3333333333333333,\"#9c179e\"],[0.4444444444444444,\"#bd3786\"],[0.5555555555555556,\"#d8576b\"],[0.6666666666666666,\"#ed7953\"],[0.7777777777777778,\"#fb9f3a\"],[0.8888888888888888,\"#fdca26\"],[1.0,\"#f0f921\"]]},\"colorway\":[\"#636efa\",\"#EF553B\",\"#00cc96\",\"#ab63fa\",\"#FFA15A\",\"#19d3f3\",\"#FF6692\",\"#B6E880\",\"#FF97FF\",\"#FECB52\"],\"font\":{\"color\":\"#2a3f5f\"},\"geo\":{\"bgcolor\":\"white\",\"lakecolor\":\"white\",\"landcolor\":\"#E5ECF6\",\"showlakes\":true,\"showland\":true,\"subunitcolor\":\"white\"},\"hoverlabel\":{\"align\":\"left\"},\"hovermode\":\"closest\",\"mapbox\":{\"style\":\"light\"},\"paper_bgcolor\":\"white\",\"plot_bgcolor\":\"#E5ECF6\",\"polar\":{\"angularaxis\":{\"gridcolor\":\"white\",\"linecolor\":\"white\",\"ticks\":\"\"},\"bgcolor\":\"#E5ECF6\",\"radialaxis\":{\"gridcolor\":\"white\",\"linecolor\":\"white\",\"ticks\":\"\"}},\"scene\":{\"xaxis\":{\"backgroundcolor\":\"#E5ECF6\",\"gridcolor\":\"white\",\"gridwidth\":2,\"linecolor\":\"white\",\"showbackground\":true,\"ticks\":\"\",\"zerolinecolor\":\"white\"},\"yaxis\":{\"backgroundcolor\":\"#E5ECF6\",\"gridcolor\":\"white\",\"gridwidth\":2,\"linecolor\":\"white\",\"showbackground\":true,\"ticks\":\"\",\"zerolinecolor\":\"white\"},\"zaxis\":{\"backgroundcolor\":\"#E5ECF6\",\"gridcolor\":\"white\",\"gridwidth\":2,\"linecolor\":\"white\",\"showbackground\":true,\"ticks\":\"\",\"zerolinecolor\":\"white\"}},\"shapedefaults\":{\"line\":{\"color\":\"#2a3f5f\"}},\"ternary\":{\"aaxis\":{\"gridcolor\":\"white\",\"linecolor\":\"white\",\"ticks\":\"\"},\"baxis\":{\"gridcolor\":\"white\",\"linecolor\":\"white\",\"ticks\":\"\"},\"bgcolor\":\"#E5ECF6\",\"caxis\":{\"gridcolor\":\"white\",\"linecolor\":\"white\",\"ticks\":\"\"}},\"title\":{\"x\":0.05},\"xaxis\":{\"automargin\":true,\"gridcolor\":\"white\",\"linecolor\":\"white\",\"ticks\":\"\",\"title\":{\"standoff\":15},\"zerolinecolor\":\"white\",\"zerolinewidth\":2},\"yaxis\":{\"automargin\":true,\"gridcolor\":\"white\",\"linecolor\":\"white\",\"ticks\":\"\",\"title\":{\"standoff\":15},\"zerolinecolor\":\"white\",\"zerolinewidth\":2}}},\"title\":{\"text\":\"Parameter-tuned SVM (PCA) weighted and unweighted accuracies (no aug)\"},\"xaxis\":{\"title\":{\"text\":\"% of Explained Variance\"}},\"yaxis\":{\"title\":{\"text\":\"Accuracy (%)\"}}},                        {\"responsive\": true}                    ).then(function(){\n",
              "                            \n",
              "var gd = document.getElementById('a51a13e0-ea82-4519-9fb3-f228e2158edb');\n",
              "var x = new MutationObserver(function (mutations, observer) {{\n",
              "        var display = window.getComputedStyle(gd).display;\n",
              "        if (!display || display === 'none') {{\n",
              "            console.log([gd, 'removed!']);\n",
              "            Plotly.purge(gd);\n",
              "            observer.disconnect();\n",
              "        }}\n",
              "}});\n",
              "\n",
              "// Listen for the removal of the full notebook cells\n",
              "var notebookContainer = gd.closest('#notebook-container');\n",
              "if (notebookContainer) {{\n",
              "    x.observe(notebookContainer, {childList: true});\n",
              "}}\n",
              "\n",
              "// Listen for the clearing of the current output cell\n",
              "var outputEl = gd.closest('.output');\n",
              "if (outputEl) {{\n",
              "    x.observe(outputEl, {childList: true});\n",
              "}}\n",
              "\n",
              "                        })                };                            </script>        </div>\n",
              "</body>\n",
              "</html>"
            ]
          },
          "metadata": {}
        },
        {
          "output_type": "stream",
          "name": "stdout",
          "text": [
            "time: 29.8 ms (started: 2022-05-09 18:07:00 +00:00)\n"
          ]
        }
      ]
    },
    {
      "cell_type": "markdown",
      "metadata": {
        "id": "SCOfNBFzFQxI"
      },
      "source": [
        "# Analysis (pure PCA)"
      ]
    },
    {
      "cell_type": "markdown",
      "source": [
        "The best is SVM with parameter (C=3.0, gamma='0.003636364', kernel='rbf', random_state=1) on PCA of 80% variance."
      ],
      "metadata": {
        "id": "Ci-bY4QbcT4C"
      }
    },
    {
      "cell_type": "markdown",
      "metadata": {
        "id": "CP9OuBmXFZ7a"
      },
      "source": [
        "Accuracy"
      ]
    },
    {
      "cell_type": "code",
      "execution_count": null,
      "metadata": {
        "id": "v2TZE2PvEzjX",
        "colab": {
          "base_uri": "https://localhost:8080/"
        },
        "outputId": "9b314433-5c58-41d1-ed17-78c2db631c4b"
      },
      "outputs": [
        {
          "output_type": "stream",
          "name": "stdout",
          "text": [
            "time: 2.21 ms (started: 2022-05-05 18:41:36 +00:00)\n"
          ]
        }
      ],
      "source": [
        "# from sklearn.metrics import accuracy_score\n",
        "# print(f\"Accuracy: {accuracy_score(y_test, y_pred)}\")"
      ]
    },
    {
      "cell_type": "markdown",
      "metadata": {
        "id": "LtjqpFWAFV_a"
      },
      "source": [
        "### Confusion Metrix"
      ]
    },
    {
      "cell_type": "code",
      "execution_count": null,
      "metadata": {
        "id": "WBIcL2yrFM_4",
        "colab": {
          "base_uri": "https://localhost:8080/"
        },
        "outputId": "0e9bbfac-9000-4657-a182-77f76fe2e73a"
      },
      "outputs": [
        {
          "output_type": "stream",
          "name": "stdout",
          "text": [
            "time: 1.08 ms (started: 2022-05-05 18:43:28 +00:00)\n"
          ]
        }
      ],
      "source": [
        "from sklearn.metrics import plot_confusion_matrix\n",
        "import matplotlib.pyplot as plt"
      ]
    },
    {
      "cell_type": "markdown",
      "source": [
        "Here we gonna save the no parameter tunning and parameter tunning's confusion matrix results. Then plot them."
      ],
      "metadata": {
        "id": "0hEGeJJlrGS7"
      }
    },
    {
      "cell_type": "code",
      "source": [
        "# noPara_confMatrix = list()\n",
        "# para_confMatrix = list()"
      ],
      "metadata": {
        "colab": {
          "base_uri": "https://localhost:8080/"
        },
        "id": "FfVezY7FrRxR",
        "outputId": "5ad0be79-b83d-4f6f-9501-2ffc0e96f56c"
      },
      "execution_count": null,
      "outputs": [
        {
          "output_type": "stream",
          "name": "stdout",
          "text": [
            "time: 724 µs (started: 2022-05-02 01:42:20 +00:00)\n"
          ]
        }
      ]
    },
    {
      "cell_type": "code",
      "source": [
        "# for item in pca_tuned_para_svm2:\n",
        "#   x_train_sc23, x_test_sc23 = feature_scale(item[\"x_train_\"], item[\"x_test_\"])\n",
        "\n",
        "#   disp = plot_confusion_matrix(item['model'], x_test_sc23, y_test)\n",
        "#   plt.title(\"Confusion Matrix wtih \" + str(item['variance_']) + \"% variance (PCA)\")\n",
        "#   para_confMatrix.append(disp.confusion_matrix)\n",
        "#   plt.show()\n",
        "\n",
        "# best_item = pca_tuned_para_svm2[1]\n",
        "best_item = pca_tuned_para_svm1\n",
        "print(best_item[\"variance_\"])\n",
        "x_train_sc23_, x_test_sc23_ = feature_scale(best_item[\"x_train_\"], best_item[\"x_test_\"])\n",
        "\n",
        "disp = plot_confusion_matrix(best_item['model'], x_test_sc23_, y_test, display_labels=[\"Normal\", \"Tumor\"], normalize='true')\n",
        "plt.title(\"Normalized Confusion Matrix for SVM with \\n PCA \" + str(best_item['variance_']) + \"% variance\")\n",
        "confM = disp.confusion_matrix\n",
        "plt.show()"
      ],
      "metadata": {
        "colab": {
          "base_uri": "https://localhost:8080/",
          "height": 434
        },
        "id": "psHhRqw3rmFh",
        "outputId": "5c1008ba-1168-4c0b-a4b0-f37a83eeb507"
      },
      "execution_count": null,
      "outputs": [
        {
          "output_type": "stream",
          "name": "stdout",
          "text": [
            "0.8\n"
          ]
        },
        {
          "output_type": "stream",
          "name": "stderr",
          "text": [
            "/usr/local/lib/python3.7/dist-packages/sklearn/utils/deprecation.py:87: FutureWarning:\n",
            "\n",
            "Function plot_confusion_matrix is deprecated; Function `plot_confusion_matrix` is deprecated in 1.0 and will be removed in 1.2. Use one of the class methods: ConfusionMatrixDisplay.from_predictions or ConfusionMatrixDisplay.from_estimator.\n",
            "\n"
          ]
        },
        {
          "output_type": "display_data",
          "data": {
            "text/plain": [
              "<Figure size 432x288 with 2 Axes>"
            ],
            "image/png": "[encoded data removed]"
          },
          "metadata": {
            "needs_background": "light"
          }
        },
        {
          "output_type": "stream",
          "name": "stdout",
          "text": [
            "time: 218 ms (started: 2022-05-05 18:45:11 +00:00)\n"
          ]
        }
      ]
    },
    {
      "cell_type": "code",
      "source": [
        "print(confM)"
      ],
      "metadata": {
        "id": "_eNpVKRq76Vn",
        "outputId": "7bcd3a81-3f67-4473-a295-9109a7e44f11",
        "colab": {
          "base_uri": "https://localhost:8080/"
        }
      },
      "execution_count": null,
      "outputs": [
        {
          "output_type": "stream",
          "name": "stdout",
          "text": [
            "[[39 13]\n",
            " [16 53]]\n",
            "time: 1.43 ms (started: 2022-05-02 01:42:21 +00:00)\n"
          ]
        }
      ]
    },
    {
      "cell_type": "markdown",
      "source": [
        "## Per class accuracy"
      ],
      "metadata": {
        "id": "3u_aFN4os4dE"
      }
    },
    {
      "cell_type": "code",
      "source": [
        "# 0: normal\n",
        "# 1: tumor\n",
        "\n",
        "# print(\"Accuracy per class (no parameter tunning):\")\n",
        "# for i in range(len(para_confMatrix)):\n",
        "#   print(\"The variance: \" + str(selected_exp_var[i]))\n",
        "#   row1_sum = np.array(para_confMatrix[i][0]).sum()\n",
        "#   row2_sum = np.array(para_confMatrix[i][1]).sum()\n",
        "\n",
        "#   acc_Normal = (para_confMatrix[i][0][0] / row1_sum)*100\n",
        "#   acc_Tumor = (para_confMatrix[i][1][1] / row2_sum)*100\n",
        "\n",
        "#   print(f\"Normal accuracy: {acc_Normal}, Tumor accuracy: {acc_Tumor}\")\n",
        "#   print(\"\")\n",
        "\n",
        "\n",
        "print(\"The variance: 80%\")\n",
        "row1_sum = np.array(confM[0]).sum()\n",
        "row2_sum = np.array(confM[1]).sum()\n",
        "\n",
        "acc_Normal = (confM[0][0] / row1_sum)*100\n",
        "acc_Tumor = (confM[1][1] / row2_sum)*100\n",
        "\n",
        "print(f\"Normal accuracy: {acc_Normal}, Tumor accuracy: {acc_Tumor}\")\n",
        "print(\"\")"
      ],
      "metadata": {
        "id": "zfRK64ZlsvVM",
        "colab": {
          "base_uri": "https://localhost:8080/"
        },
        "outputId": "c29a44c2-6d48-4119-fc1b-4775edaddffc"
      },
      "execution_count": null,
      "outputs": [
        {
          "output_type": "stream",
          "name": "stdout",
          "text": [
            "The variance: 80%\n",
            "Normal accuracy: 75.0, Tumor accuracy: 76.81159420289855\n",
            "\n",
            "time: 15.5 ms (started: 2022-05-02 01:42:21 +00:00)\n"
          ]
        }
      ]
    },
    {
      "cell_type": "markdown",
      "source": [
        "## ROC"
      ],
      "metadata": {
        "id": "7FtcJiHBu14n"
      }
    },
    {
      "cell_type": "code",
      "source": [
        "from sklearn.metrics import roc_curve, auc"
      ],
      "metadata": {
        "id": "G2dHEXtj6ox8",
        "colab": {
          "base_uri": "https://localhost:8080/"
        },
        "outputId": "3aa51e63-ceff-47e9-db4a-33b567f6bd46"
      },
      "execution_count": null,
      "outputs": [
        {
          "output_type": "stream",
          "name": "stdout",
          "text": [
            "time: 1.16 ms (started: 2022-04-27 03:36:04 +00:00)\n"
          ]
        }
      ]
    },
    {
      "cell_type": "code",
      "source": [
        "for item in pca_tuned_para_svm2:\n",
        "  x_train_sc23, x_test_sc23 = feature_scale(item[\"x_train_\"], item[\"x_test_\"])\n",
        "\n",
        "  y_pred = item['model'].predict(x_test_sc23)\n",
        "\n",
        "  fpr, tpr, thresholds = roc_curve(y_test, y_pred)\n",
        "  roc_auc = np.round_(auc(fpr, tpr), decimals=4)\n",
        "  txt = \"(AUC\" + str(roc_auc) + \") - (Variance: \" + str(item[\"variance_\"]) + \")\"\n",
        "  plt.plot(fpr, tpr, label=txt)\n",
        "\n",
        "plt.title(\"ROC curve of PCA experiment - SVM\")\n",
        "plt.ylabel(\"True Positive Rate\")\n",
        "plt.xlabel(\"False Positive Rate\")\n",
        "plt.legend()\n",
        "plt.show()"
      ],
      "metadata": {
        "colab": {
          "base_uri": "https://localhost:8080/",
          "height": 312
        },
        "id": "AaknJvVpeBiv",
        "outputId": "e4d60d4b-4b4d-4a4f-9f87-a08132c4aca1"
      },
      "execution_count": null,
      "outputs": [
        {
          "output_type": "display_data",
          "data": {
            "text/plain": [
              "<Figure size 432x288 with 1 Axes>"
            ],
            "image/png": "[encoded data removed]"
          },
          "metadata": {
            "needs_background": "light"
          }
        },
        {
          "output_type": "stream",
          "name": "stdout",
          "text": [
            "time: 363 ms (started: 2022-04-27 03:36:04 +00:00)\n"
          ]
        }
      ]
    },
    {
      "cell_type": "code",
      "source": [
        "# for item in x_train_exp:\n",
        "y_pred = best_item['model'].predict(x_test_sc23_)\n",
        "\n",
        "fpr, tpr, thresholds = roc_curve(y_test, y_pred)\n",
        "roc_auc = np.round_(auc(fpr, tpr), decimals=4)\n",
        "plt.plot(fpr, tpr, label=roc_auc)\n",
        "\n",
        "plt.title(\"ROC curve for \" + str(best_item[\"variance_\"]) + \" variance PCA SVM\")\n",
        "plt.ylabel(\"True Positive Rate\")\n",
        "plt.xlabel(\"False Positive Rate\")\n",
        "plt.legend()\n",
        "plt.show()"
      ],
      "metadata": {
        "id": "uyEqJbCv6pc7",
        "colab": {
          "base_uri": "https://localhost:8080/",
          "height": 312
        },
        "outputId": "099c92c5-11d1-42e9-e7ad-ef2083e7ac9c"
      },
      "execution_count": null,
      "outputs": [
        {
          "output_type": "display_data",
          "data": {
            "text/plain": [
              "<Figure size 432x288 with 1 Axes>"
            ],
            "image/png": "[encoded data removed]"
          },
          "metadata": {
            "needs_background": "light"
          }
        },
        {
          "output_type": "stream",
          "name": "stdout",
          "text": [
            "time: 196 ms (started: 2022-04-27 03:36:05 +00:00)\n"
          ]
        }
      ]
    },
    {
      "cell_type": "markdown",
      "source": [
        "## Classification reports"
      ],
      "metadata": {
        "id": "Z7kjraf_0MAO"
      }
    },
    {
      "cell_type": "code",
      "source": [
        "from sklearn.metrics import classification_report"
      ],
      "metadata": {
        "id": "0PDtLxocyvJM",
        "colab": {
          "base_uri": "https://localhost:8080/"
        },
        "outputId": "bad765ee-beae-43ca-9552-a059d9818889"
      },
      "execution_count": null,
      "outputs": [
        {
          "output_type": "stream",
          "name": "stdout",
          "text": [
            "time: 1.26 ms (started: 2022-04-27 03:36:05 +00:00)\n"
          ]
        }
      ]
    },
    {
      "cell_type": "code",
      "source": [
        "target_names = ['Normal', 'Tumor']\n",
        "print(\"Classification report for \" + str(best_item['variance_']))\n",
        "y_pred = best_item['model'].predict(x_test_sc23_)\n",
        "print(classification_report(y_test, y_pred, target_names=target_names))\n",
        "print(\"\\n\\n\")"
      ],
      "metadata": {
        "id": "NIcGjGnn0O1B",
        "colab": {
          "base_uri": "https://localhost:8080/"
        },
        "outputId": "ed2823b6-f291-4239-cc6b-1b85d097eedd"
      },
      "execution_count": null,
      "outputs": [
        {
          "output_type": "stream",
          "name": "stdout",
          "text": [
            "Classification report for 0.8\n",
            "              precision    recall  f1-score   support\n",
            "\n",
            "      Normal       0.74      0.77      0.75        52\n",
            "       Tumor       0.82      0.80      0.81        69\n",
            "\n",
            "    accuracy                           0.79       121\n",
            "   macro avg       0.78      0.78      0.78       121\n",
            "weighted avg       0.79      0.79      0.79       121\n",
            "\n",
            "\n",
            "\n",
            "\n",
            "time: 20.8 ms (started: 2022-04-27 03:36:05 +00:00)\n"
          ]
        }
      ]
    },
    {
      "cell_type": "markdown",
      "source": [
        "# Save the best model"
      ],
      "metadata": {
        "id": "VaV8t8gs3MgA"
      }
    },
    {
      "cell_type": "markdown",
      "source": [
        "## Save the model"
      ],
      "metadata": {
        "id": "ClgUMkOooO_4"
      }
    },
    {
      "cell_type": "code",
      "source": [
        "import pickle"
      ],
      "metadata": {
        "id": "b3m4RFxk_AKz"
      },
      "execution_count": null,
      "outputs": []
    },
    {
      "cell_type": "code",
      "source": [
        "SAVE_DIR = ROOT_DIR + \"/saved_models/\"\n",
        "\n",
        "# no img aug\n",
        "# FILE_NAME = \"svm_mri_pca_noAug.pkl\"\n",
        "\n",
        "# img aug\n",
        "FILE_NAME = \"svm_mri_pca_Aug.pkl\"\n",
        "\n",
        "with open(SAVE_DIR+FILE_NAME,'wb') as f:\n",
        "    pickle.dump(best_item['model'],f)"
      ],
      "metadata": {
        "colab": {
          "base_uri": "https://localhost:8080/"
        },
        "id": "YAqrDAPO3RuN",
        "outputId": "856725af-a1d1-4ae2-b6b9-9dbb1d414230"
      },
      "execution_count": null,
      "outputs": [
        {
          "output_type": "stream",
          "name": "stdout",
          "text": [
            "time: 3.43 ms (started: 2022-04-27 03:36:05 +00:00)\n"
          ]
        }
      ]
    },
    {
      "cell_type": "markdown",
      "source": [
        "## Load the model"
      ],
      "metadata": {
        "id": "Ug8OZZnToSQm"
      }
    },
    {
      "cell_type": "code",
      "source": [
        "SAVE_DIR = ROOT_DIR + \"/saved_models/\"\n",
        "\n",
        "# no img aug\n",
        "# FILE_NAME = \"svm_mri_pca_noAug.pkl\"\n",
        "\n",
        "FILE_NAME = \"svm_mri_pca_Aug.pkl\"\n",
        "\n",
        "loaded_model = pickle.load(open(SAVE_DIR+FILE_NAME, 'rb'))\n",
        "\n",
        "result = loaded_model.score(x_train_exp[1][\"x_test_\"], x_train_exp[1][\"y_test_\"])"
      ],
      "metadata": {
        "id": "wuRJ_OYB3ug2"
      },
      "execution_count": null,
      "outputs": []
    }
  ],
  "metadata": {
    "colab": {
      "collapsed_sections": [
        "FbxoVX6ov8aC"
      ],
      "name": "03.b__MRI_PCA_SVM.ipynb",
      "provenance": [],
      "toc_visible": true
    },
    "kernelspec": {
      "display_name": "Python 3",
      "name": "python3"
    },
    "language_info": {
      "name": "python"
    },
    "accelerator": "GPU"
  },
  "nbformat": 4,
  "nbformat_minor": 0
}