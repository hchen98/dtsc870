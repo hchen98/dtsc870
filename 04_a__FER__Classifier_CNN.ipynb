{
  "cells": [
    {
      "cell_type": "markdown",
      "metadata": {
        "id": "Qerbcbtkkmb4"
      },
      "source": [
        "# Imports"
      ]
    },
    {
      "cell_type": "code",
      "execution_count": null,
      "metadata": {
        "id": "8sruhlP7izyz"
      },
      "outputs": [],
      "source": [
        "import pandas as pd\n",
        "import numpy as np\n",
        "import matplotlib.pyplot as plt\n",
        "import tensorflow as tf\n",
        "import tensorflow.keras.backend as K\n",
        "from tensorflow.keras.preprocessing.image import ImageDataGenerator\n",
        "from tensorflow.keras.models import Sequential\n",
        "from tensorflow.keras import datasets, layers, models\n",
        "from google.colab import drive\n",
        "from sklearn.metrics import classification_report, confusion_matrix\n",
        "from sklearn.model_selection import KFold, StratifiedKFold\n",
        "from sklearn.metrics import roc_curve, auc\n",
        "import plotly.graph_objects as go\n",
        "import glob"
      ]
    },
    {
      "cell_type": "markdown",
      "metadata": {
        "id": "ahoSSVIWkqzk"
      },
      "source": [
        "# Directories"
      ]
    },
    {
      "cell_type": "code",
      "execution_count": null,
      "metadata": {
        "colab": {
          "base_uri": "https://localhost:8080/"
        },
        "id": "kaF1Q1IOi_Cd",
        "outputId": "99cdcf28-f40a-4843-9f2b-ef2d62642222"
      },
      "outputs": [
        {
          "output_type": "stream",
          "name": "stdout",
          "text": [
            "Mounted at /content/drive\n"
          ]
        }
      ],
      "source": [
        "drive.mount('/content/drive')\n",
        "\n",
        "#ROOT_DIR = \"/content/drive/MyDrive/Spring 2022/DTSC 870/Code\" # HC Directory\n",
        "ROOT_DIR = \"/content/drive/MyDrive/DTSC 870/Code\" #MT Directory\n",
        "DATASET_02 = ROOT_DIR + \"/datasets/02_FER\"\n",
        "DATASET_02_ROOT = ROOT_DIR + \"/datasets/02_FER\"\n",
        "DATASET_02_TRAIN = DATASET_02 + \"/train\"\n",
        "DATASET_02_TEST = DATASET_02+ \"/test\""
      ]
    },
    {
      "cell_type": "markdown",
      "metadata": {
        "id": "7u64x13wkuSN"
      },
      "source": [
        "# Image Size"
      ]
    },
    {
      "cell_type": "code",
      "execution_count": null,
      "metadata": {
        "colab": {
          "base_uri": "https://localhost:8080/"
        },
        "id": "2GQApt-yjpFb",
        "outputId": "f4717b79-3e4c-4682-8005-46a85cd11037"
      },
      "outputs": [
        {
          "name": "stdout",
          "output_type": "stream",
          "text": [
            "48 48\n"
          ]
        }
      ],
      "source": [
        "import PIL\n",
        "\n",
        "image = PIL.Image.open(DATASET_02_TRAIN + \"/surprise/Training_99984132.jpg\")\n",
        "#image to open\n",
        "\n",
        "width, height = image.size\n",
        "print(width, height)"
      ]
    },
    {
      "cell_type": "markdown",
      "metadata": {
        "id": "YvRGijR0kySN"
      },
      "source": [
        "# General Loading\n"
      ]
    },
    {
      "cell_type": "code",
      "execution_count": null,
      "metadata": {
        "colab": {
          "base_uri": "https://localhost:8080/"
        },
        "id": "ez52MhrCjUPR",
        "outputId": "c3bb510b-84b6-460f-a40b-e0660b22198a"
      },
      "outputs": [
        {
          "output_type": "stream",
          "name": "stdout",
          "text": [
            "Found 7178 images belonging to 7 classes.\n",
            "Found 28709 images belonging to 7 classes.\n"
          ]
        }
      ],
      "source": [
        "datagen = ImageDataGenerator()\n",
        "image_size = (224, 224)\n",
        "test_set = datagen.flow_from_directory(DATASET_02_TEST, target_size=image_size, batch_size=256, shuffle=False)\n",
        "train_set = datagen.flow_from_directory(DATASET_02_TRAIN, target_size=image_size, batch_size=256)\n",
        "\n"
      ]
    },
    {
      "cell_type": "markdown",
      "metadata": {
        "id": "Zk84q6NMk1HT"
      },
      "source": [
        "# Model Creation"
      ]
    },
    {
      "cell_type": "code",
      "execution_count": null,
      "metadata": {
        "colab": {
          "base_uri": "https://localhost:8080/"
        },
        "id": "3JPqYCQ5kZVU",
        "outputId": "5bd0eea4-bb0b-45bb-c3e8-6995cfc7a6f5"
      },
      "outputs": [
        {
          "name": "stdout",
          "output_type": "stream",
          "text": [
            "Model: \"sequential\"\n",
            "_________________________________________________________________\n",
            " Layer (type)                Output Shape              Param #   \n",
            "=================================================================\n",
            " conv2d (Conv2D)             (None, 46, 46, 32)        896       \n",
            "                                                                 \n",
            " max_pooling2d (MaxPooling2D  (None, 23, 23, 32)       0         \n",
            " )                                                               \n",
            "                                                                 \n",
            " dropout (Dropout)           (None, 23, 23, 32)        0         \n",
            "                                                                 \n",
            " conv2d_1 (Conv2D)           (None, 21, 21, 64)        18496     \n",
            "                                                                 \n",
            " max_pooling2d_1 (MaxPooling  (None, 10, 10, 64)       0         \n",
            " 2D)                                                             \n",
            "                                                                 \n",
            " dropout_1 (Dropout)         (None, 10, 10, 64)        0         \n",
            "                                                                 \n",
            " conv2d_2 (Conv2D)           (None, 8, 8, 64)          36928     \n",
            "                                                                 \n",
            " flatten (Flatten)           (None, 4096)              0         \n",
            "                                                                 \n",
            " dense (Dense)               (None, 64)                262208    \n",
            "                                                                 \n",
            " dense_1 (Dense)             (None, 1)                 65        \n",
            "                                                                 \n",
            "=================================================================\n",
            "Total params: 318,593\n",
            "Trainable params: 318,593\n",
            "Non-trainable params: 0\n",
            "_________________________________________________________________\n"
          ]
        }
      ],
      "source": [
        "def create_model_V1():\n",
        "  model = models.Sequential()\n",
        "  model.add(layers.Conv2D(32, (3, 3), activation='relu', input_shape=(48, 48, 3)))\n",
        "  model.add(layers.MaxPooling2D((2, 2)))\n",
        "  model.add(layers.Dropout(0.4))\n",
        "  model.add(layers.Conv2D(64, (3, 3), activation='relu'))\n",
        "  model.add(layers.MaxPooling2D((2, 2)))\n",
        "  model.add(layers.Dropout(0.4))\n",
        "  model.add(layers.Conv2D(64, (3, 3), activation='relu'))\n",
        "  #model.add(layers.MaxPooling2D((2, 2)))\n",
        "  #model.add(layers.Conv2D(64, (3, 3), activation='relu'))\n",
        "  model.add(layers.Flatten())\n",
        "  model.add(layers.Dense(64, activation='relu'))\n",
        "  model.add(layers.Dense(1, activation='sigmoid'))\n",
        "  return model\n",
        "\n",
        "\n",
        "model_1 = create_model_V1()\n",
        "model_1.summary()"
      ]
    },
    {
      "cell_type": "markdown",
      "metadata": {
        "id": "AKbQqfFRk4A0"
      },
      "source": [
        "# Glob for loading data"
      ]
    },
    {
      "cell_type": "code",
      "execution_count": null,
      "metadata": {
        "id": "3xR9Q4gvkk4Z"
      },
      "outputs": [],
      "source": [
        "import glob\n",
        "\n",
        "#borrowed from svm code\n",
        "def get_data_df(dir):\n",
        "  # modified code from: https://www.kaggle.com/namgalielei/simple-load-images-and-count-number-of-each-class\n",
        "\n",
        "  train_df = pd.DataFrame()\n",
        "\n",
        "  trainset = glob.glob(dir)\n",
        "  #print(trainset)\n",
        "  train_df['filename'] = [img.split(\"/\")[-2]+\"/\"+img.split(\"/\")[-1] for img in trainset]\n",
        "  train_df['label'] = [img.split(\"/\")[-2] for img in trainset]\n",
        "\n",
        "  return train_df"
      ]
    },
    {
      "cell_type": "code",
      "execution_count": null,
      "metadata": {
        "colab": {
          "base_uri": "https://localhost:8080/",
          "height": 424
        },
        "id": "SlPjcpDGk9kU",
        "outputId": "e39ee5c2-bea5-4321-e317-e60ede2f7581"
      },
      "outputs": [
        {
          "data": {
            "text/html": [
              "\n",
              "  <div id=\"df-1ebc44de-cccb-4ab0-978f-4be36a866bc4\">\n",
              "    <div class=\"colab-df-container\">\n",
              "      <div>\n",
              "<style scoped>\n",
              "    .dataframe tbody tr th:only-of-type {\n",
              "        vertical-align: middle;\n",
              "    }\n",
              "\n",
              "    .dataframe tbody tr th {\n",
              "        vertical-align: top;\n",
              "    }\n",
              "\n",
              "    .dataframe thead th {\n",
              "        text-align: right;\n",
              "    }\n",
              "</style>\n",
              "<table border=\"1\" class=\"dataframe\">\n",
              "  <thead>\n",
              "    <tr style=\"text-align: right;\">\n",
              "      <th></th>\n",
              "      <th>filename</th>\n",
              "      <th>label</th>\n",
              "    </tr>\n",
              "  </thead>\n",
              "  <tbody>\n",
              "    <tr>\n",
              "      <th>0</th>\n",
              "      <td>angry/Training_78323011.jpg</td>\n",
              "      <td>angry</td>\n",
              "    </tr>\n",
              "    <tr>\n",
              "      <th>1</th>\n",
              "      <td>angry/Training_78379622.jpg</td>\n",
              "      <td>angry</td>\n",
              "    </tr>\n",
              "    <tr>\n",
              "      <th>2</th>\n",
              "      <td>angry/Training_78392730.jpg</td>\n",
              "      <td>angry</td>\n",
              "    </tr>\n",
              "    <tr>\n",
              "      <th>3</th>\n",
              "      <td>angry/Training_78448765.jpg</td>\n",
              "      <td>angry</td>\n",
              "    </tr>\n",
              "    <tr>\n",
              "      <th>4</th>\n",
              "      <td>angry/Training_78464977.jpg</td>\n",
              "      <td>angry</td>\n",
              "    </tr>\n",
              "    <tr>\n",
              "      <th>...</th>\n",
              "      <td>...</td>\n",
              "      <td>...</td>\n",
              "    </tr>\n",
              "    <tr>\n",
              "      <th>28704</th>\n",
              "      <td>surprise/Training_14497906.jpg</td>\n",
              "      <td>surprise</td>\n",
              "    </tr>\n",
              "    <tr>\n",
              "      <th>28705</th>\n",
              "      <td>surprise/Training_14647859.jpg</td>\n",
              "      <td>surprise</td>\n",
              "    </tr>\n",
              "    <tr>\n",
              "      <th>28706</th>\n",
              "      <td>surprise/Training_14655080.jpg</td>\n",
              "      <td>surprise</td>\n",
              "    </tr>\n",
              "    <tr>\n",
              "      <th>28707</th>\n",
              "      <td>surprise/Training_14714646.jpg</td>\n",
              "      <td>surprise</td>\n",
              "    </tr>\n",
              "    <tr>\n",
              "      <th>28708</th>\n",
              "      <td>surprise/Training_1474328.jpg</td>\n",
              "      <td>surprise</td>\n",
              "    </tr>\n",
              "  </tbody>\n",
              "</table>\n",
              "<p>28709 rows × 2 columns</p>\n",
              "</div>\n",
              "      <button class=\"colab-df-convert\" onclick=\"convertToInteractive('df-1ebc44de-cccb-4ab0-978f-4be36a866bc4')\"\n",
              "              title=\"Convert this dataframe to an interactive table.\"\n",
              "              style=\"display:none;\">\n",
              "        \n",
              "  <svg xmlns=\"http://www.w3.org/2000/svg\" height=\"24px\"viewBox=\"0 0 24 24\"\n",
              "       width=\"24px\">\n",
              "    <path d=\"M0 0h24v24H0V0z\" fill=\"none\"/>\n",
              "    <path d=\"M18.56 5.44l.94 2.06.94-2.06 2.06-.94-2.06-.94-.94-2.06-.94 2.06-2.06.94zm-11 1L8.5 8.5l.94-2.06 2.06-.94-2.06-.94L8.5 2.5l-.94 2.06-2.06.94zm10 10l.94 2.06.94-2.06 2.06-.94-2.06-.94-.94-2.06-.94 2.06-2.06.94z\"/><path d=\"M17.41 7.96l-1.37-1.37c-.4-.4-.92-.59-1.43-.59-.52 0-1.04.2-1.43.59L10.3 9.45l-7.72 7.72c-.78.78-.78 2.05 0 2.83L4 21.41c.39.39.9.59 1.41.59.51 0 1.02-.2 1.41-.59l7.78-7.78 2.81-2.81c.8-.78.8-2.07 0-2.86zM5.41 20L4 18.59l7.72-7.72 1.47 1.35L5.41 20z\"/>\n",
              "  </svg>\n",
              "      </button>\n",
              "      \n",
              "  <style>\n",
              "    .colab-df-container {\n",
              "      display:flex;\n",
              "      flex-wrap:wrap;\n",
              "      gap: 12px;\n",
              "    }\n",
              "\n",
              "    .colab-df-convert {\n",
              "      background-color: #E8F0FE;\n",
              "      border: none;\n",
              "      border-radius: 50%;\n",
              "      cursor: pointer;\n",
              "      display: none;\n",
              "      fill: #1967D2;\n",
              "      height: 32px;\n",
              "      padding: 0 0 0 0;\n",
              "      width: 32px;\n",
              "    }\n",
              "\n",
              "    .colab-df-convert:hover {\n",
              "      background-color: #E2EBFA;\n",
              "      box-shadow: 0px 1px 2px rgba(60, 64, 67, 0.3), 0px 1px 3px 1px rgba(60, 64, 67, 0.15);\n",
              "      fill: #174EA6;\n",
              "    }\n",
              "\n",
              "    [theme=dark] .colab-df-convert {\n",
              "      background-color: #3B4455;\n",
              "      fill: #D2E3FC;\n",
              "    }\n",
              "\n",
              "    [theme=dark] .colab-df-convert:hover {\n",
              "      background-color: #434B5C;\n",
              "      box-shadow: 0px 1px 3px 1px rgba(0, 0, 0, 0.15);\n",
              "      filter: drop-shadow(0px 1px 2px rgba(0, 0, 0, 0.3));\n",
              "      fill: #FFFFFF;\n",
              "    }\n",
              "  </style>\n",
              "\n",
              "      <script>\n",
              "        const buttonEl =\n",
              "          document.querySelector('#df-1ebc44de-cccb-4ab0-978f-4be36a866bc4 button.colab-df-convert');\n",
              "        buttonEl.style.display =\n",
              "          google.colab.kernel.accessAllowed ? 'block' : 'none';\n",
              "\n",
              "        async function convertToInteractive(key) {\n",
              "          const element = document.querySelector('#df-1ebc44de-cccb-4ab0-978f-4be36a866bc4');\n",
              "          const dataTable =\n",
              "            await google.colab.kernel.invokeFunction('convertToInteractive',\n",
              "                                                     [key], {});\n",
              "          if (!dataTable) return;\n",
              "\n",
              "          const docLinkHtml = 'Like what you see? Visit the ' +\n",
              "            '<a target=\"_blank\" href=https://colab.research.google.com/notebooks/data_table.ipynb>data table notebook</a>'\n",
              "            + ' to learn more about interactive tables.';\n",
              "          element.innerHTML = '';\n",
              "          dataTable['output_type'] = 'display_data';\n",
              "          await google.colab.output.renderOutput(dataTable, element);\n",
              "          const docLink = document.createElement('div');\n",
              "          docLink.innerHTML = docLinkHtml;\n",
              "          element.appendChild(docLink);\n",
              "        }\n",
              "      </script>\n",
              "    </div>\n",
              "  </div>\n",
              "  "
            ],
            "text/plain": [
              "                             filename     label\n",
              "0         angry/Training_78323011.jpg     angry\n",
              "1         angry/Training_78379622.jpg     angry\n",
              "2         angry/Training_78392730.jpg     angry\n",
              "3         angry/Training_78448765.jpg     angry\n",
              "4         angry/Training_78464977.jpg     angry\n",
              "...                               ...       ...\n",
              "28704  surprise/Training_14497906.jpg  surprise\n",
              "28705  surprise/Training_14647859.jpg  surprise\n",
              "28706  surprise/Training_14655080.jpg  surprise\n",
              "28707  surprise/Training_14714646.jpg  surprise\n",
              "28708   surprise/Training_1474328.jpg  surprise\n",
              "\n",
              "[28709 rows x 2 columns]"
            ]
          },
          "execution_count": 7,
          "metadata": {},
          "output_type": "execute_result"
        }
      ],
      "source": [
        "test_train = get_data_df(DATASET_02_TRAIN+\"/*/*.jpg\")\n",
        "test_train"
      ]
    },
    {
      "cell_type": "code",
      "execution_count": null,
      "metadata": {
        "id": "xq9RBfTOlFs9"
      },
      "outputs": [],
      "source": [
        "from sklearn.model_selection import KFold, StratifiedKFold\n",
        "\n",
        "train_data = get_data_df(DATASET_02_TRAIN+\"/*/*.jpg\")\n",
        "Y = train_data[['label']]\n",
        "\n",
        "#Y = final_train[['label']]\n",
        "#n = len(final_train)   \n",
        "\n",
        "skf = StratifiedKFold(n_splits = 5, random_state = 7, shuffle = True) \n",
        "\n",
        "#Un needed preprocessing aside from rescale\n",
        "idg = ImageDataGenerator(rescale=1./255)\n",
        "\n",
        "#model name\n",
        "def get_model_name(k):\n",
        "    return 'model_'+str(k)+'.h5'\n",
        "def model_test(fold_count, epoch, model_method, image_size):\n",
        "  skf = StratifiedKFold(n_splits = fold_count, random_state = 7, shuffle = True)\n",
        "  train_data = get_data_df(DATASET_02_TRAIN+\"/*/*.jpg\")\n",
        "  #Incorperate preprocessing in the method \n",
        "  #####################################################################\n",
        "  #aug_train = get_data_df(DATASET_01_ROOT+\"/Aug_train/*/*.jpg\")\n",
        "  #aug_train['filename'] = aug_train['filename'].str[7:]\n",
        "  #final_train = test_train.append(aug_train, sort=False, ignore_index=True)\n",
        "\n",
        "\n",
        "  #######################################################################\n",
        "  #idg = ImageDataGenerator(rescale=1./255)\n",
        "  idg = ImageDataGenerator()\n",
        "  Y = train_data[['label']]\n",
        "  n = len(train_data)    \n",
        "  VALIDATION_ACCURACY = []\n",
        "  VALIDATION_LOSS = []\n",
        "\n",
        "  #create a directory\n",
        "  save_dir = ROOT_DIR+'/datasets/02_FER/Saved_CNN_Models/Testing/'+model_method.__name__+'/'+str(epoch)+'epochs/'\n",
        "  img_dir = DATASET_02_TRAIN\n",
        "\n",
        "  fold_var = 1\n",
        "\n",
        "  #n is number of samples, doesn't care about x values for split, just y\n",
        "  for train_index, val_index in skf.split(np.zeros(n),Y):\n",
        "\n",
        "    #Index value for fold\n",
        "    training_data = train_data.iloc[train_index]\n",
        "    validation_data = train_data.iloc[val_index]\n",
        "    #generator for train\n",
        "    #print(\"hi\")\n",
        "    #Modify the training size, have an input adjustability \n",
        "    train_data_generator = idg.flow_from_dataframe(training_data, directory = img_dir,\n",
        "                      target_size=image_size, batch_size=256,\n",
        "                    x_col = \"filename\", y_col = \"label\",\n",
        "                     shuffle = True)\n",
        "    #print(\"hi\")\n",
        "    #generator for validation\n",
        "    valid_data_generator  = idg.flow_from_dataframe(validation_data, directory = img_dir,\n",
        "                target_size=image_size, batch_size=256,\n",
        "                x_col = \"filename\", y_col = \"label\",\n",
        "                shuffle = True)\n",
        "    #print(\"hi\")\n",
        "    #create a method for this\n",
        "    # CREATE NEW MODEL\n",
        "    model = model_method()\n",
        "    # COMPILE NEW MODEL\n",
        "    #Binary cross entropy, opt will be adam, metric will be binary accuracy?\n",
        "    model.compile(loss=tf.keras.losses.BinaryCrossentropy(),\n",
        "            optimizer= tf.keras.optimizers.Adam(),#learning_rate=0.0001),\n",
        "            metrics=['accuracy'])\n",
        "    \n",
        "    # CREATE CALLBACKS\n",
        "    #Unsure about checpoint\n",
        "    checkpoint = tf.keras.callbacks.ModelCheckpoint(save_dir+model_method.__name__+\"_\"+get_model_name(fold_var), \n",
        "                monitor='val_accuracy', verbose=1, \n",
        "                save_best_only=True, mode='max')\n",
        "  \n",
        "    callbacks_list = [checkpoint]\n",
        "    # There can be other callbacks, but just showing one because it involves the model name\n",
        "    # This saves the best model\n",
        "    # FIT THE MODEL\n",
        "    #Include the weights for classes\n",
        "    history = model.fit(train_data_generator,\n",
        "            epochs=epoch,\n",
        "            callbacks=callbacks_list,\n",
        "            validation_data=valid_data_generator)\n",
        "            #,class_weight = class_weights)\n",
        "  \n",
        "    #PLOT HISTORY\n",
        "    #Plots for whichever\n",
        "    #\t\t:\n",
        "    #plt.plot(history.history['binary_accuracy'], label='accuracy')\n",
        "    #plt.plot(history.history['val_binary_accuracy'], label = 'val_accuracy')\n",
        "    #plt.xlabel('Epoch')\n",
        "    #plt.ylabel('Accuracy')\n",
        "    #plt.ylim([0.3, 1])\n",
        "    #plt.legend(loc='lower right')\n",
        "    #plt.show()\n",
        "    #frame = {'Accuracy': history.history['binary_accuracy'], 'Val_Accuracy': history.history['val_binary_accuracy']}\n",
        "    #fig = px.line(frame)\n",
        "    #fig.show()\n",
        "    fig = go.Figure()\n",
        "    fig.add_trace(go.Scatter(y= history.history['binary_accuracy'],\n",
        "                      mode='lines+markers',\n",
        "                      name='Training Accuracy'))\n",
        "    fig.add_trace(go.Scatter(y= history.history['val_binary_accuracy'],\n",
        "                      mode='lines+markers',\n",
        "                      name='Validation Accuracy'))\n",
        "    fig.update_yaxes(range=[0.40, 1])\n",
        "    fig.update_layout(\n",
        "      title=\"Fold \"+ str(fold_var)+ \"'s performance\",\n",
        "      title_x=0.5,\n",
        "      xaxis_title=\"Epochs\",\n",
        "      yaxis_title=\"Accuracy\",\n",
        "      autosize=False,\n",
        "      width=800,\n",
        "      height=400,\n",
        "      margin=dict(l=20, r=20, t=40, b=20),)\n",
        "    fig.show()\n",
        "    #\t\t:\n",
        "    # LOAD BEST MODEL to evaluate the performance of the model\n",
        "    model.load_weights(save_dir+model_method.__name__+\"_\" + \"model_\"+str(fold_var)+\".h5\")\n",
        "    \n",
        "    results = model.evaluate(test_set)\n",
        "    results = dict(zip(model.metrics_names,results))\n",
        "    \n",
        "    VALIDATION_ACCURACY.append(results['binary_accuracy'])\n",
        "    VALIDATION_LOSS.append(results['loss'])\n",
        "    \n",
        "    tf.keras.backend.clear_session()\n",
        "    \n",
        "    fold_var += 1"
      ]
    },
    {
      "cell_type": "markdown",
      "metadata": {
        "id": "8xXy0_4QsWOs"
      },
      "source": [
        "# Model Training\n"
      ]
    },
    {
      "cell_type": "code",
      "execution_count": null,
      "metadata": {
        "colab": {
          "base_uri": "https://localhost:8080/",
          "height": 398
        },
        "id": "lQ7RFRYAmX3X",
        "outputId": "8d79e7c6-c249-4207-e691-82fa3838417c"
      },
      "outputs": [
        {
          "name": "stdout",
          "output_type": "stream",
          "text": [
            "Found 22967 validated image filenames belonging to 7 classes.\n",
            "Found 5742 validated image filenames belonging to 7 classes.\n",
            "Epoch 1/15\n",
            "10/90 [==>...........................] - ETA: 1:02:31 - loss: 19.9550 - accuracy: 0.6761"
          ]
        },
        {
          "ename": "KeyboardInterrupt",
          "evalue": "ignored",
          "output_type": "error",
          "traceback": [
            "\u001b[0;31m---------------------------------------------------------------------------\u001b[0m",
            "\u001b[0;31mKeyboardInterrupt\u001b[0m                         Traceback (most recent call last)",
            "\u001b[0;32m<ipython-input-15-a83305142837>\u001b[0m in \u001b[0;36m<module>\u001b[0;34m()\u001b[0m\n\u001b[0;32m----> 1\u001b[0;31m \u001b[0mmodel_test\u001b[0m\u001b[0;34m(\u001b[0m\u001b[0;36m5\u001b[0m\u001b[0;34m,\u001b[0m \u001b[0;36m15\u001b[0m\u001b[0;34m,\u001b[0m \u001b[0mcreate_model_V1\u001b[0m\u001b[0;34m,\u001b[0m \u001b[0;34m(\u001b[0m\u001b[0;36m48\u001b[0m\u001b[0;34m,\u001b[0m\u001b[0;36m48\u001b[0m\u001b[0;34m)\u001b[0m\u001b[0;34m)\u001b[0m\u001b[0;34m\u001b[0m\u001b[0;34m\u001b[0m\u001b[0m\n\u001b[0m",
            "\u001b[0;32m<ipython-input-14-7626d0ca611a>\u001b[0m in \u001b[0;36mmodel_test\u001b[0;34m(fold_count, epoch, model_method, image_size)\u001b[0m\n\u001b[1;32m     82\u001b[0m             \u001b[0mepochs\u001b[0m\u001b[0;34m=\u001b[0m\u001b[0mepoch\u001b[0m\u001b[0;34m,\u001b[0m\u001b[0;34m\u001b[0m\u001b[0;34m\u001b[0m\u001b[0m\n\u001b[1;32m     83\u001b[0m             \u001b[0mcallbacks\u001b[0m\u001b[0;34m=\u001b[0m\u001b[0mcallbacks_list\u001b[0m\u001b[0;34m,\u001b[0m\u001b[0;34m\u001b[0m\u001b[0;34m\u001b[0m\u001b[0m\n\u001b[0;32m---> 84\u001b[0;31m             validation_data=valid_data_generator)\n\u001b[0m\u001b[1;32m     85\u001b[0m             \u001b[0;31m#,class_weight = class_weights)\u001b[0m\u001b[0;34m\u001b[0m\u001b[0;34m\u001b[0m\u001b[0;34m\u001b[0m\u001b[0m\n\u001b[1;32m     86\u001b[0m \u001b[0;34m\u001b[0m\u001b[0m\n",
            "\u001b[0;32m/usr/local/lib/python3.7/dist-packages/keras/utils/traceback_utils.py\u001b[0m in \u001b[0;36merror_handler\u001b[0;34m(*args, **kwargs)\u001b[0m\n\u001b[1;32m     62\u001b[0m     \u001b[0mfiltered_tb\u001b[0m \u001b[0;34m=\u001b[0m \u001b[0;32mNone\u001b[0m\u001b[0;34m\u001b[0m\u001b[0;34m\u001b[0m\u001b[0m\n\u001b[1;32m     63\u001b[0m     \u001b[0;32mtry\u001b[0m\u001b[0;34m:\u001b[0m\u001b[0;34m\u001b[0m\u001b[0;34m\u001b[0m\u001b[0m\n\u001b[0;32m---> 64\u001b[0;31m       \u001b[0;32mreturn\u001b[0m \u001b[0mfn\u001b[0m\u001b[0;34m(\u001b[0m\u001b[0;34m*\u001b[0m\u001b[0margs\u001b[0m\u001b[0;34m,\u001b[0m \u001b[0;34m**\u001b[0m\u001b[0mkwargs\u001b[0m\u001b[0;34m)\u001b[0m\u001b[0;34m\u001b[0m\u001b[0;34m\u001b[0m\u001b[0m\n\u001b[0m\u001b[1;32m     65\u001b[0m     \u001b[0;32mexcept\u001b[0m \u001b[0mException\u001b[0m \u001b[0;32mas\u001b[0m \u001b[0me\u001b[0m\u001b[0;34m:\u001b[0m  \u001b[0;31m# pylint: disable=broad-except\u001b[0m\u001b[0;34m\u001b[0m\u001b[0;34m\u001b[0m\u001b[0m\n\u001b[1;32m     66\u001b[0m       \u001b[0mfiltered_tb\u001b[0m \u001b[0;34m=\u001b[0m \u001b[0m_process_traceback_frames\u001b[0m\u001b[0;34m(\u001b[0m\u001b[0me\u001b[0m\u001b[0;34m.\u001b[0m\u001b[0m__traceback__\u001b[0m\u001b[0;34m)\u001b[0m\u001b[0;34m\u001b[0m\u001b[0;34m\u001b[0m\u001b[0m\n",
            "\u001b[0;32m/usr/local/lib/python3.7/dist-packages/keras/engine/training.py\u001b[0m in \u001b[0;36mfit\u001b[0;34m(self, x, y, batch_size, epochs, verbose, callbacks, validation_split, validation_data, shuffle, class_weight, sample_weight, initial_epoch, steps_per_epoch, validation_steps, validation_batch_size, validation_freq, max_queue_size, workers, use_multiprocessing)\u001b[0m\n\u001b[1;32m   1382\u001b[0m                 _r=1):\n\u001b[1;32m   1383\u001b[0m               \u001b[0mcallbacks\u001b[0m\u001b[0;34m.\u001b[0m\u001b[0mon_train_batch_begin\u001b[0m\u001b[0;34m(\u001b[0m\u001b[0mstep\u001b[0m\u001b[0;34m)\u001b[0m\u001b[0;34m\u001b[0m\u001b[0;34m\u001b[0m\u001b[0m\n\u001b[0;32m-> 1384\u001b[0;31m               \u001b[0mtmp_logs\u001b[0m \u001b[0;34m=\u001b[0m \u001b[0mself\u001b[0m\u001b[0;34m.\u001b[0m\u001b[0mtrain_function\u001b[0m\u001b[0;34m(\u001b[0m\u001b[0miterator\u001b[0m\u001b[0;34m)\u001b[0m\u001b[0;34m\u001b[0m\u001b[0;34m\u001b[0m\u001b[0m\n\u001b[0m\u001b[1;32m   1385\u001b[0m               \u001b[0;32mif\u001b[0m \u001b[0mdata_handler\u001b[0m\u001b[0;34m.\u001b[0m\u001b[0mshould_sync\u001b[0m\u001b[0;34m:\u001b[0m\u001b[0;34m\u001b[0m\u001b[0;34m\u001b[0m\u001b[0m\n\u001b[1;32m   1386\u001b[0m                 \u001b[0mcontext\u001b[0m\u001b[0;34m.\u001b[0m\u001b[0masync_wait\u001b[0m\u001b[0;34m(\u001b[0m\u001b[0;34m)\u001b[0m\u001b[0;34m\u001b[0m\u001b[0;34m\u001b[0m\u001b[0m\n",
            "\u001b[0;32m/usr/local/lib/python3.7/dist-packages/tensorflow/python/util/traceback_utils.py\u001b[0m in \u001b[0;36merror_handler\u001b[0;34m(*args, **kwargs)\u001b[0m\n\u001b[1;32m    148\u001b[0m     \u001b[0mfiltered_tb\u001b[0m \u001b[0;34m=\u001b[0m \u001b[0;32mNone\u001b[0m\u001b[0;34m\u001b[0m\u001b[0;34m\u001b[0m\u001b[0m\n\u001b[1;32m    149\u001b[0m     \u001b[0;32mtry\u001b[0m\u001b[0;34m:\u001b[0m\u001b[0;34m\u001b[0m\u001b[0;34m\u001b[0m\u001b[0m\n\u001b[0;32m--> 150\u001b[0;31m       \u001b[0;32mreturn\u001b[0m \u001b[0mfn\u001b[0m\u001b[0;34m(\u001b[0m\u001b[0;34m*\u001b[0m\u001b[0margs\u001b[0m\u001b[0;34m,\u001b[0m \u001b[0;34m**\u001b[0m\u001b[0mkwargs\u001b[0m\u001b[0;34m)\u001b[0m\u001b[0;34m\u001b[0m\u001b[0;34m\u001b[0m\u001b[0m\n\u001b[0m\u001b[1;32m    151\u001b[0m     \u001b[0;32mexcept\u001b[0m \u001b[0mException\u001b[0m \u001b[0;32mas\u001b[0m \u001b[0me\u001b[0m\u001b[0;34m:\u001b[0m\u001b[0;34m\u001b[0m\u001b[0;34m\u001b[0m\u001b[0m\n\u001b[1;32m    152\u001b[0m       \u001b[0mfiltered_tb\u001b[0m \u001b[0;34m=\u001b[0m \u001b[0m_process_traceback_frames\u001b[0m\u001b[0;34m(\u001b[0m\u001b[0me\u001b[0m\u001b[0;34m.\u001b[0m\u001b[0m__traceback__\u001b[0m\u001b[0;34m)\u001b[0m\u001b[0;34m\u001b[0m\u001b[0;34m\u001b[0m\u001b[0m\n",
            "\u001b[0;32m/usr/local/lib/python3.7/dist-packages/tensorflow/python/eager/def_function.py\u001b[0m in \u001b[0;36m__call__\u001b[0;34m(self, *args, **kwds)\u001b[0m\n\u001b[1;32m    913\u001b[0m \u001b[0;34m\u001b[0m\u001b[0m\n\u001b[1;32m    914\u001b[0m       \u001b[0;32mwith\u001b[0m \u001b[0mOptionalXlaContext\u001b[0m\u001b[0;34m(\u001b[0m\u001b[0mself\u001b[0m\u001b[0;34m.\u001b[0m\u001b[0m_jit_compile\u001b[0m\u001b[0;34m)\u001b[0m\u001b[0;34m:\u001b[0m\u001b[0;34m\u001b[0m\u001b[0;34m\u001b[0m\u001b[0m\n\u001b[0;32m--> 915\u001b[0;31m         \u001b[0mresult\u001b[0m \u001b[0;34m=\u001b[0m \u001b[0mself\u001b[0m\u001b[0;34m.\u001b[0m\u001b[0m_call\u001b[0m\u001b[0;34m(\u001b[0m\u001b[0;34m*\u001b[0m\u001b[0margs\u001b[0m\u001b[0;34m,\u001b[0m \u001b[0;34m**\u001b[0m\u001b[0mkwds\u001b[0m\u001b[0;34m)\u001b[0m\u001b[0;34m\u001b[0m\u001b[0;34m\u001b[0m\u001b[0m\n\u001b[0m\u001b[1;32m    916\u001b[0m \u001b[0;34m\u001b[0m\u001b[0m\n\u001b[1;32m    917\u001b[0m       \u001b[0mnew_tracing_count\u001b[0m \u001b[0;34m=\u001b[0m \u001b[0mself\u001b[0m\u001b[0;34m.\u001b[0m\u001b[0mexperimental_get_tracing_count\u001b[0m\u001b[0;34m(\u001b[0m\u001b[0;34m)\u001b[0m\u001b[0;34m\u001b[0m\u001b[0;34m\u001b[0m\u001b[0m\n",
            "\u001b[0;32m/usr/local/lib/python3.7/dist-packages/tensorflow/python/eager/def_function.py\u001b[0m in \u001b[0;36m_call\u001b[0;34m(self, *args, **kwds)\u001b[0m\n\u001b[1;32m    945\u001b[0m       \u001b[0;31m# In this case we have created variables on the first call, so we run the\u001b[0m\u001b[0;34m\u001b[0m\u001b[0;34m\u001b[0m\u001b[0;34m\u001b[0m\u001b[0m\n\u001b[1;32m    946\u001b[0m       \u001b[0;31m# defunned version which is guaranteed to never create variables.\u001b[0m\u001b[0;34m\u001b[0m\u001b[0;34m\u001b[0m\u001b[0;34m\u001b[0m\u001b[0m\n\u001b[0;32m--> 947\u001b[0;31m       \u001b[0;32mreturn\u001b[0m \u001b[0mself\u001b[0m\u001b[0;34m.\u001b[0m\u001b[0m_stateless_fn\u001b[0m\u001b[0;34m(\u001b[0m\u001b[0;34m*\u001b[0m\u001b[0margs\u001b[0m\u001b[0;34m,\u001b[0m \u001b[0;34m**\u001b[0m\u001b[0mkwds\u001b[0m\u001b[0;34m)\u001b[0m  \u001b[0;31m# pylint: disable=not-callable\u001b[0m\u001b[0;34m\u001b[0m\u001b[0;34m\u001b[0m\u001b[0m\n\u001b[0m\u001b[1;32m    948\u001b[0m     \u001b[0;32melif\u001b[0m \u001b[0mself\u001b[0m\u001b[0;34m.\u001b[0m\u001b[0m_stateful_fn\u001b[0m \u001b[0;32mis\u001b[0m \u001b[0;32mnot\u001b[0m \u001b[0;32mNone\u001b[0m\u001b[0;34m:\u001b[0m\u001b[0;34m\u001b[0m\u001b[0;34m\u001b[0m\u001b[0m\n\u001b[1;32m    949\u001b[0m       \u001b[0;31m# Release the lock early so that multiple threads can perform the call\u001b[0m\u001b[0;34m\u001b[0m\u001b[0;34m\u001b[0m\u001b[0;34m\u001b[0m\u001b[0m\n",
            "\u001b[0;32m/usr/local/lib/python3.7/dist-packages/tensorflow/python/eager/function.py\u001b[0m in \u001b[0;36m__call__\u001b[0;34m(self, *args, **kwargs)\u001b[0m\n\u001b[1;32m   2955\u001b[0m        filtered_flat_args) = self._maybe_define_function(args, kwargs)\n\u001b[1;32m   2956\u001b[0m     return graph_function._call_flat(\n\u001b[0;32m-> 2957\u001b[0;31m         filtered_flat_args, captured_inputs=graph_function.captured_inputs)  # pylint: disable=protected-access\n\u001b[0m\u001b[1;32m   2958\u001b[0m \u001b[0;34m\u001b[0m\u001b[0m\n\u001b[1;32m   2959\u001b[0m   \u001b[0;34m@\u001b[0m\u001b[0mproperty\u001b[0m\u001b[0;34m\u001b[0m\u001b[0;34m\u001b[0m\u001b[0m\n",
            "\u001b[0;32m/usr/local/lib/python3.7/dist-packages/tensorflow/python/eager/function.py\u001b[0m in \u001b[0;36m_call_flat\u001b[0;34m(self, args, captured_inputs, cancellation_manager)\u001b[0m\n\u001b[1;32m   1852\u001b[0m       \u001b[0;31m# No tape is watching; skip to running the function.\u001b[0m\u001b[0;34m\u001b[0m\u001b[0;34m\u001b[0m\u001b[0;34m\u001b[0m\u001b[0m\n\u001b[1;32m   1853\u001b[0m       return self._build_call_outputs(self._inference_function.call(\n\u001b[0;32m-> 1854\u001b[0;31m           ctx, args, cancellation_manager=cancellation_manager))\n\u001b[0m\u001b[1;32m   1855\u001b[0m     forward_backward = self._select_forward_and_backward_functions(\n\u001b[1;32m   1856\u001b[0m         \u001b[0margs\u001b[0m\u001b[0;34m,\u001b[0m\u001b[0;34m\u001b[0m\u001b[0;34m\u001b[0m\u001b[0m\n",
            "\u001b[0;32m/usr/local/lib/python3.7/dist-packages/tensorflow/python/eager/function.py\u001b[0m in \u001b[0;36mcall\u001b[0;34m(self, ctx, args, cancellation_manager)\u001b[0m\n\u001b[1;32m    502\u001b[0m               \u001b[0minputs\u001b[0m\u001b[0;34m=\u001b[0m\u001b[0margs\u001b[0m\u001b[0;34m,\u001b[0m\u001b[0;34m\u001b[0m\u001b[0;34m\u001b[0m\u001b[0m\n\u001b[1;32m    503\u001b[0m               \u001b[0mattrs\u001b[0m\u001b[0;34m=\u001b[0m\u001b[0mattrs\u001b[0m\u001b[0;34m,\u001b[0m\u001b[0;34m\u001b[0m\u001b[0;34m\u001b[0m\u001b[0m\n\u001b[0;32m--> 504\u001b[0;31m               ctx=ctx)\n\u001b[0m\u001b[1;32m    505\u001b[0m         \u001b[0;32melse\u001b[0m\u001b[0;34m:\u001b[0m\u001b[0;34m\u001b[0m\u001b[0;34m\u001b[0m\u001b[0m\n\u001b[1;32m    506\u001b[0m           outputs = execute.execute_with_cancellation(\n",
            "\u001b[0;32m/usr/local/lib/python3.7/dist-packages/tensorflow/python/eager/execute.py\u001b[0m in \u001b[0;36mquick_execute\u001b[0;34m(op_name, num_outputs, inputs, attrs, ctx, name)\u001b[0m\n\u001b[1;32m     53\u001b[0m     \u001b[0mctx\u001b[0m\u001b[0;34m.\u001b[0m\u001b[0mensure_initialized\u001b[0m\u001b[0;34m(\u001b[0m\u001b[0;34m)\u001b[0m\u001b[0;34m\u001b[0m\u001b[0;34m\u001b[0m\u001b[0m\n\u001b[1;32m     54\u001b[0m     tensors = pywrap_tfe.TFE_Py_Execute(ctx._handle, device_name, op_name,\n\u001b[0;32m---> 55\u001b[0;31m                                         inputs, attrs, num_outputs)\n\u001b[0m\u001b[1;32m     56\u001b[0m   \u001b[0;32mexcept\u001b[0m \u001b[0mcore\u001b[0m\u001b[0;34m.\u001b[0m\u001b[0m_NotOkStatusException\u001b[0m \u001b[0;32mas\u001b[0m \u001b[0me\u001b[0m\u001b[0;34m:\u001b[0m\u001b[0;34m\u001b[0m\u001b[0;34m\u001b[0m\u001b[0m\n\u001b[1;32m     57\u001b[0m     \u001b[0;32mif\u001b[0m \u001b[0mname\u001b[0m \u001b[0;32mis\u001b[0m \u001b[0;32mnot\u001b[0m \u001b[0;32mNone\u001b[0m\u001b[0;34m:\u001b[0m\u001b[0;34m\u001b[0m\u001b[0;34m\u001b[0m\u001b[0m\n",
            "\u001b[0;31mKeyboardInterrupt\u001b[0m: "
          ]
        }
      ],
      "source": [
        "model_test(5, 15, create_model_V1, (48,48))"
      ]
    },
    {
      "cell_type": "markdown",
      "metadata": {
        "id": "EgHV_OyXQcju"
      },
      "source": [
        "# Transfer Learning Model Creation\n"
      ]
    },
    {
      "cell_type": "code",
      "execution_count": null,
      "metadata": {
        "colab": {
          "base_uri": "https://localhost:8080/"
        },
        "id": "Cm6_iovWQGT7",
        "outputId": "d92b11f1-2727-4f7a-d0b3-636adb9048ee"
      },
      "outputs": [
        {
          "output_type": "stream",
          "name": "stdout",
          "text": [
            "Downloading data from https://storage.googleapis.com/tensorflow/keras-applications/resnet/resnet50_weights_tf_dim_ordering_tf_kernels_notop.h5\n",
            "94773248/94765736 [==============================] - 1s 0us/step\n",
            "94781440/94765736 [==============================] - 1s 0us/step\n",
            "175\n"
          ]
        }
      ],
      "source": [
        "def transfer_learning_model_resnet_50():\n",
        "\n",
        "  IMG_SHAPE = (224,224,3,)\n",
        " \n",
        "  inputs = tf.keras.Input(shape=IMG_SHAPE)\n",
        "  #inputs = tf.image.grayscale_to_rgb(y)\n",
        " \n",
        "  x = tf.keras.applications.resnet50.preprocess_input(inputs)\n",
        "  base_model = tf.keras.applications.resnet50.ResNet50(input_shape=(224,224,3,),\n",
        "                                               include_top=False,\n",
        "                                               weights='imagenet')\n",
        "  print(len(base_model.layers))\n",
        "  base_model.trainable = True\n",
        "\n",
        "  fine_tune_at = 130\n",
        "  for layer in base_model.layers[:fine_tune_at]:\n",
        "    layer.trainable = False\n",
        "\n",
        "  x = base_model(x)\n",
        "  global_average_layer = tf.keras.layers.GlobalAveragePooling2D()\n",
        "  x = global_average_layer(x)\n",
        "  x = tf.keras.layers.Dropout(0.5)(x)\n",
        "  prediction_layer = tf.keras.layers.Dense(7, activation = \"softmax\")\n",
        "  outputs = prediction_layer(x)\n",
        "  model = tf.keras.Model(inputs, outputs)\n",
        "  #print(len(model.trainable_variables))\n",
        "  return model\n",
        "\n",
        "transfer_model_resnet_50 = transfer_learning_model_resnet_50()"
      ]
    },
    {
      "cell_type": "markdown",
      "metadata": {
        "id": "NugwrZybQhYE"
      },
      "source": [
        "## Model Testing"
      ]
    },
    {
      "cell_type": "code",
      "execution_count": null,
      "metadata": {
        "id": "w93jLb8yQgs1"
      },
      "outputs": [],
      "source": [
        "transfer_model_resnet_50.load_weights(DATASET_02+'/Saved_Kaggle_CNN_Weights/transfer_learning_model_resnet_50_model_2.h5')"
      ]
    },
    {
      "cell_type": "code",
      "execution_count": null,
      "metadata": {
        "id": "UZf2yyz2RlQK"
      },
      "outputs": [],
      "source": [
        "predictions = transfer_model_resnet_50.predict(test_set)  \n"
      ]
    },
    {
      "cell_type": "code",
      "execution_count": null,
      "metadata": {
        "colab": {
          "background_save": true
        },
        "id": "7D0WdwqtR0AP",
        "outputId": "b4755ac8-6c8a-47ac-89e0-aaae128142a7"
      },
      "outputs": [
        {
          "name": "stdout",
          "output_type": "stream",
          "text": [
            "tf.Tensor([5 0 5 ... 6 6 6], shape=(7178,), dtype=int64)\n"
          ]
        }
      ],
      "source": [
        "im_class = tf.argmax(predictions, axis=-1) #either tf.math.argmax() or tf.argmax will work\n",
        "print(im_class)"
      ]
    },
    {
      "cell_type": "code",
      "execution_count": null,
      "metadata": {
        "colab": {
          "background_save": true
        },
        "id": "AscFz_cKbFSK",
        "outputId": "542fa128-a184-469e-ff78-a1708c788311"
      },
      "outputs": [
        {
          "data": {
            "text/plain": [
              "array([0, 0, 0, ..., 6, 6, 6], dtype=int32)"
            ]
          },
          "execution_count": null,
          "metadata": {},
          "output_type": "execute_result"
        }
      ],
      "source": [
        "test_set.classes"
      ]
    },
    {
      "cell_type": "code",
      "execution_count": null,
      "metadata": {
        "id": "EQrgVQ_fbNQw"
      },
      "outputs": [],
      "source": [
        "def weight_testing(model_v, weight_loc):\n",
        "  #min_max_scaler = preprocessing.MinMaxScaler()\n",
        "\n",
        "\n",
        "  model_v.load_weights(weight_loc)\n",
        "  predictions = model_v.predict(test_set)\n",
        "  predict_final = tf.argmax(predictions, axis=-1)\n",
        "  #predict_final = K.round(predictions)\n",
        "  conf_mat = confusion_matrix(test_set.classes, predict_final)\n",
        "  conf_mat_perc = conf_mat.astype('float') / conf_mat.sum(axis=1)[:, np.newaxis]\n",
        "  class_acc = conf_mat_perc.diagonal()\n",
        "  print(conf_mat)\n",
        "  print(f\"Normal accuracy: {class_acc[0]}\")\n",
        "  print(f\"Tumor accuracy: {class_acc[1]}\")\n",
        "  target_names = ['Normal', 'Tumor']\n",
        "  print(classification_report(test_set.classes, predict_final, target_names=target_names))\n",
        "\n",
        "  fpr_keras, tpr_keras, thresholds_keras = roc_curve(test_set.classes, predictions)\n",
        "  auc_keras = auc(fpr_keras, tpr_keras)\n",
        "  #print(auc_keras)\n",
        "  return fpr_keras, tpr_keras, auc_keras\n"
      ]
    },
    {
      "cell_type": "code",
      "execution_count": null,
      "metadata": {
        "colab": {
          "base_uri": "https://localhost:8080/"
        },
        "id": "j3-8FE18baXU",
        "outputId": "d4efbd84-dd70-4fdc-bd98-d0b8358814e3"
      },
      "outputs": [
        {
          "output_type": "stream",
          "name": "stdout",
          "text": [
            "[0.45093946 0.51351351 0.45117188 0.82976325 0.59042985 0.6904571\n",
            " 0.70998797]\n"
          ]
        }
      ],
      "source": [
        "predict_final = tf.argmax(predictions, axis=-1)\n",
        "conf_mat = confusion_matrix(test_set.classes, predict_final)\n",
        "conf_mat_perc = conf_mat.astype('float') / conf_mat.sum(axis=1)[:, np.newaxis]\n",
        "class_acc = conf_mat_perc.diagonal()\n",
        "print(class_acc)\n"
      ]
    },
    {
      "cell_type": "code",
      "execution_count": null,
      "metadata": {
        "colab": {
          "base_uri": "https://localhost:8080/"
        },
        "id": "kvmMbWmqcmde",
        "outputId": "a8e4a7df-cd70-4fa3-e45b-f459857a1014"
      },
      "outputs": [
        {
          "output_type": "stream",
          "name": "stdout",
          "text": [
            "['angry', 'disgust', 'fear', 'happy', 'neutral', 'sad', 'surprise']\n"
          ]
        }
      ],
      "source": [
        "import os\n",
        "my_list = os.listdir(DATASET_02_TEST)\n",
        "print(my_list)"
      ]
    },
    {
      "cell_type": "code",
      "execution_count": null,
      "metadata": {
        "colab": {
          "base_uri": "https://localhost:8080/"
        },
        "id": "Rs14hPHydIt9",
        "outputId": "280d2693-04ba-4109-bfa9-73f6ad4a80e1"
      },
      "outputs": [
        {
          "output_type": "stream",
          "name": "stdout",
          "text": [
            "Angry accuracy: 0.4509394572025052\n",
            "Disgust accuracy: 0.5135135135135135\n",
            "Fear accuracy: 0.451171875\n",
            "Happy accuracy: 0.8297632468996617\n",
            "Neutral accuracy: 0.5904298459042985\n",
            "Sad accuracy: 0.6904570970328789\n",
            "Surprise accuracy: 0.7099879663056559\n",
            "[[ 432    8  116   43   94  251   14]\n",
            " [  22   57    7    6    1   16    2]\n",
            " [  81    2  462   39   82  305   53]\n",
            " [  30    1   36 1472   78  129   28]\n",
            " [  49    1   57   66  728  320   12]\n",
            " [  75    5   93   51  150  861   12]\n",
            " [  24    0   94   50   37   36  590]]\n",
            "              precision    recall  f1-score   support\n",
            "\n",
            "       angry       0.61      0.45      0.52       958\n",
            "     disgust       0.77      0.51      0.62       111\n",
            "        fear       0.53      0.45      0.49      1024\n",
            "       happy       0.85      0.83      0.84      1774\n",
            "     neutral       0.62      0.59      0.61      1233\n",
            "         sad       0.45      0.69      0.54      1247\n",
            "    surprise       0.83      0.71      0.77       831\n",
            "\n",
            "    accuracy                           0.64      7178\n",
            "   macro avg       0.67      0.61      0.63      7178\n",
            "weighted avg       0.66      0.64      0.64      7178\n",
            "\n"
          ]
        }
      ],
      "source": [
        "for i in range(len(my_list)):\n",
        "  print(f'{my_list[i].capitalize()} accuracy: {class_acc[i]}')\n",
        "print(conf_mat)\n",
        "print(classification_report(test_set.classes, predict_final, target_names=my_list))"
      ]
    }
  ],
  "metadata": {
    "accelerator": "GPU",
    "colab": {
      "collapsed_sections": [],
      "name": "04.b__FER__Classifier_CNN.ipynb",
      "provenance": []
    },
    "kernelspec": {
      "display_name": "Python 3",
      "name": "python3"
    },
    "language_info": {
      "name": "python"
    }
  },
  "nbformat": 4,
  "nbformat_minor": 0
}