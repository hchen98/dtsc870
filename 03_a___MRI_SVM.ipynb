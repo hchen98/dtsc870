{
  "nbformat": 4,
  "nbformat_minor": 0,
  "metadata": {
    "colab": {
      "name": "03.a.__MRI_SVM.ipynb",
      "provenance": [],
      "collapsed_sections": [],
      "toc_visible": true
    },
    "kernelspec": {
      "name": "python3",
      "display_name": "Python 3"
    },
    "language_info": {
      "name": "python"
    },
    "accelerator": "GPU"
  },
  "cells": [
    {
      "cell_type": "markdown",
      "source": [
        "# Setup"
      ],
      "metadata": {
        "id": "J8T3To6ZpeQW"
      }
    },
    {
      "cell_type": "code",
      "execution_count": null,
      "metadata": {
        "id": "nA2QvY6XpDkL",
        "colab": {
          "base_uri": "https://localhost:8080/"
        },
        "outputId": "3f744d15-6620-465f-e81d-8cc8ddbe35da"
      },
      "outputs": [
        {
          "output_type": "stream",
          "name": "stdout",
          "text": [
            "Collecting ipython-autotime\n",
            "  Downloading ipython_autotime-0.3.1-py2.py3-none-any.whl (6.8 kB)\n",
            "Requirement already satisfied: ipython in /usr/local/lib/python3.7/dist-packages (from ipython-autotime) (5.5.0)\n",
            "Requirement already satisfied: prompt-toolkit<2.0.0,>=1.0.4 in /usr/local/lib/python3.7/dist-packages (from ipython->ipython-autotime) (1.0.18)\n",
            "Requirement already satisfied: decorator in /usr/local/lib/python3.7/dist-packages (from ipython->ipython-autotime) (4.4.2)\n",
            "Requirement already satisfied: setuptools>=18.5 in /usr/local/lib/python3.7/dist-packages (from ipython->ipython-autotime) (57.4.0)\n",
            "Requirement already satisfied: pygments in /usr/local/lib/python3.7/dist-packages (from ipython->ipython-autotime) (2.6.1)\n",
            "Requirement already satisfied: simplegeneric>0.8 in /usr/local/lib/python3.7/dist-packages (from ipython->ipython-autotime) (0.8.1)\n",
            "Requirement already satisfied: pexpect in /usr/local/lib/python3.7/dist-packages (from ipython->ipython-autotime) (4.8.0)\n",
            "Requirement already satisfied: pickleshare in /usr/local/lib/python3.7/dist-packages (from ipython->ipython-autotime) (0.7.5)\n",
            "Requirement already satisfied: traitlets>=4.2 in /usr/local/lib/python3.7/dist-packages (from ipython->ipython-autotime) (5.1.1)\n",
            "Requirement already satisfied: wcwidth in /usr/local/lib/python3.7/dist-packages (from prompt-toolkit<2.0.0,>=1.0.4->ipython->ipython-autotime) (0.2.5)\n",
            "Requirement already satisfied: six>=1.9.0 in /usr/local/lib/python3.7/dist-packages (from prompt-toolkit<2.0.0,>=1.0.4->ipython->ipython-autotime) (1.15.0)\n",
            "Requirement already satisfied: ptyprocess>=0.5 in /usr/local/lib/python3.7/dist-packages (from pexpect->ipython->ipython-autotime) (0.7.0)\n",
            "Installing collected packages: ipython-autotime\n",
            "Successfully installed ipython-autotime-0.3.1\n",
            "Collecting directory_structure\n",
            "  Downloading directory_structure-1.1.2-py3-none-any.whl (4.3 kB)\n",
            "Collecting emoji\n",
            "  Downloading emoji-1.7.0.tar.gz (175 kB)\n",
            "\u001b[K     |████████████████████████████████| 175 kB 12.8 MB/s \n",
            "\u001b[?25hBuilding wheels for collected packages: emoji\n",
            "  Building wheel for emoji (setup.py) ... \u001b[?25l\u001b[?25hdone\n",
            "  Created wheel for emoji: filename=emoji-1.7.0-py3-none-any.whl size=171046 sha256=13b298f2f8975c17339bd7a4d48767af58e9ec530bc1c906d5b15702afa0e15c\n",
            "  Stored in directory: /root/.cache/pip/wheels/8a/4e/b6/57b01db010d17ef6ea9b40300af725ef3e210cb1acfb7ac8b6\n",
            "Successfully built emoji\n",
            "Installing collected packages: emoji, directory-structure\n",
            "Successfully installed directory-structure-1.1.2 emoji-1.7.0\n",
            "  % Total    % Received % Xferd  Average Speed   Time    Time     Time  Current\n",
            "                                 Dload  Upload   Total   Spent    Left  Speed\n",
            "100  1580  100  1580    0     0   6528      0 --:--:-- --:--:-- --:--:--  6528\n",
            "+ apt -y -q install cuda-libraries-dev-10-0\n",
            "Reading package lists...\n",
            "Building dependency tree...\n",
            "Reading state information...\n",
            "cuda-libraries-dev-10-0 is already the newest version (10.0.130-1).\n",
            "The following packages were automatically installed and are no longer required:\n",
            "  libnvidia-common-460 nsight-compute-2020.2.0\n",
            "Use 'apt autoremove' to remove them.\n",
            "0 upgraded, 0 newly installed, 0 to remove and 42 not upgraded.\n",
            "+ pip install -q cupy-cuda100  chainer \n",
            "\u001b[K     |████████████████████████████████| 58.9 MB 1.2 MB/s \n",
            "\u001b[K     |████████████████████████████████| 1.0 MB 49.5 MB/s \n",
            "\u001b[?25h  Building wheel for chainer (setup.py) ... \u001b[?25l\u001b[?25hdone\n",
            "+ set +ex\n",
            "Installation succeeded!\n",
            "time: 2.42 ms (started: 2022-05-10 21:54:12 +00:00)\n"
          ]
        }
      ],
      "source": [
        "# setup to see the execution time in each cell\n",
        "\n",
        "!pip install ipython-autotime\n",
        "!pip install directory_structure\n",
        "!curl https://colab.chainer.org/install | sh -\n",
        "%load_ext autotime"
      ]
    },
    {
      "cell_type": "code",
      "source": [
        "from google.colab import drive\n",
        "drive.mount('/content/drive')"
      ],
      "metadata": {
        "colab": {
          "base_uri": "https://localhost:8080/"
        },
        "id": "E77sWOiMpf9d",
        "outputId": "781f196c-52a1-4fd5-8f70-ddecb6560826"
      },
      "execution_count": null,
      "outputs": [
        {
          "output_type": "stream",
          "name": "stdout",
          "text": [
            "Mounted at /content/drive\n",
            "time: 16.6 s (started: 2022-05-10 21:54:12 +00:00)\n"
          ]
        }
      ]
    },
    {
      "cell_type": "code",
      "source": [
        "import pandas as pd\n",
        "import os\n",
        "import glob\n",
        "import PIL\n",
        "from PIL import Image\n",
        "import numpy as np\n",
        "import cupy as cp\n",
        "import matplotlib.pyplot as plt"
      ],
      "metadata": {
        "colab": {
          "base_uri": "https://localhost:8080/"
        },
        "id": "v6D4UsRTphcH",
        "outputId": "b707a070-0e24-4d69-836e-562da37090d4"
      },
      "execution_count": null,
      "outputs": [
        {
          "output_type": "stream",
          "name": "stdout",
          "text": [
            "time: 1.56 s (started: 2022-05-10 21:54:28 +00:00)\n"
          ]
        }
      ]
    },
    {
      "cell_type": "markdown",
      "source": [
        "## No Aug"
      ],
      "metadata": {
        "id": "Ej7XjisZpyNV"
      }
    },
    {
      "cell_type": "code",
      "source": [
        "ROOT_DIR = \"/content/drive/MyDrive/Spring 2022/DTSC 870/Code\" # HC Directory\n",
        "# ROOT_DIR = \"/content/drive/MyDrive/DTSC 870/Code\" #MT Directory\n",
        "\n",
        "DATASET_01 = ROOT_DIR + \"/datasets/01_MRI/Brain_tumor_images\"\n",
        "DATASET_01_TRAIN = DATASET_01 + \"/train\"\n",
        "DATASET_01_TEST = DATASET_01 + \"/test\""
      ],
      "metadata": {
        "colab": {
          "base_uri": "https://localhost:8080/"
        },
        "id": "IpHNgEVMpzrQ",
        "outputId": "f49ea4c3-af29-47d6-c99f-f7f99a7ae1bd"
      },
      "execution_count": null,
      "outputs": [
        {
          "output_type": "stream",
          "name": "stdout",
          "text": [
            "time: 5.48 ms (started: 2022-05-10 22:00:02 +00:00)\n"
          ]
        }
      ]
    },
    {
      "cell_type": "markdown",
      "source": [
        "## Aug"
      ],
      "metadata": {
        "id": "lvK6ZJlepq9-"
      }
    },
    {
      "cell_type": "code",
      "source": [
        "# ROOT_DIR = \"/content/drive/MyDrive/Spring 2022/DTSC 870/Code\" # HC Directory\n",
        "# # ROOT_DIR = \"/content/drive/MyDrive/DTSC 870/Code\" #MT Directory\n",
        "\n",
        "# DATASET_01 = ROOT_DIR + \"/datasets/01_MRI\"\n",
        "# DATASET_01_TRAIN = DATASET_01 + \"/Aug_train\"\n",
        "# DATASET_01_TEST = DATASET_01 + \"/Aug_test\""
      ],
      "metadata": {
        "colab": {
          "base_uri": "https://localhost:8080/"
        },
        "id": "Hc-Sb8Iqpirx",
        "outputId": "c469d19f-25d2-4a00-8349-e12991f94e24"
      },
      "execution_count": null,
      "outputs": [
        {
          "output_type": "stream",
          "name": "stdout",
          "text": [
            "time: 9.38 ms (started: 2022-05-10 22:00:03 +00:00)\n"
          ]
        }
      ]
    },
    {
      "cell_type": "markdown",
      "source": [
        "# Preprocessing"
      ],
      "metadata": {
        "id": "Hy_75__xqQNV"
      }
    },
    {
      "cell_type": "code",
      "source": [
        "from directory_structure import Tree\n",
        "\n",
        "os.chdir(DATASET_01)\n",
        "print(Tree(os.getcwd()))"
      ],
      "metadata": {
        "colab": {
          "base_uri": "https://localhost:8080/"
        },
        "id": "doeS8q54pkTh",
        "outputId": "30eef275-b5f2-45f3-cc38-603373ed1c6c"
      },
      "execution_count": null,
      "outputs": [
        {
          "output_type": "stream",
          "name": "stdout",
          "text": [
            "📂 Brain_tumor_images\n",
            "|_📁 train\n",
            "|_📁 test\n",
            "time: 18.5 ms (started: 2022-05-10 22:00:03 +00:00)\n"
          ]
        }
      ]
    },
    {
      "cell_type": "code",
      "source": [
        "#Figuring out loading images to preprocess\n",
        "\n",
        "def get_total_train_num(dir):\n",
        "  return len(glob.glob(dir))\n",
        "\n",
        "\n",
        "def get_data_df(dir):\n",
        "  # modified code from: https://www.kaggle.com/namgalielei/simple-load-images-and-count-number-of-each-class\n",
        "\n",
        "  train_df = pd.DataFrame()\n",
        "\n",
        "  trainset = glob.glob(dir)\n",
        "\n",
        "  train_df['file'] = [img.split(\"/\")[-1] for img in trainset]\n",
        "  train_df['class'] = [img.split(\"/\")[-2] for img in trainset]\n",
        "\n",
        "  return train_df\n",
        "\n",
        "\n",
        "def generate_set(df, dir):\n",
        "\n",
        "  # new_df = pd.DataFrame()\n",
        "  pixels = []\n",
        "  class_ = []\n",
        "\n",
        "  # trainset = glob.glob(dir)\n",
        "  for i in range(len(df.index)):\n",
        "    # get the absolute img path\n",
        "    # e.g., Brain_tumor_images/<train or test>/<class label>/<file name>\n",
        "    path = dir + \"/\" + df.iloc[i][\"class\"] + \"/\" +df.iloc[i][\"file\"]\n",
        "    # print(img)\n",
        "    img = Image.open(path)\n",
        "    # print(\"Img: {} \\tClass: {}\".format(np.array(img).flatten(), df.iloc[i][\"class\"]))\n",
        "    pixels.append(cp.asnumpy(cp.array(img)).flatten())\n",
        "    # pixels.append(np.array(img))\n",
        "\n",
        "    # y_true encoding here\n",
        "    if df.iloc[i][\"class\"] == \"Normal\":\n",
        "      class_.append(0)\n",
        "    else:\n",
        "      class_.append(1)\n",
        "\n",
        "  # train_df['file'] = [img.split(\"/\")[-1] for img in trainset]\n",
        "  # train_df['class'] = [img.split(\"/\")[-2] for img in trainset]\n",
        "\n",
        "  # return train_df\n",
        "  return pixels, class_"
      ],
      "metadata": {
        "colab": {
          "base_uri": "https://localhost:8080/"
        },
        "id": "Qf8wigjkplip",
        "outputId": "5eba7aea-4678-44b3-cb4e-e4f42ffdba81"
      },
      "execution_count": null,
      "outputs": [
        {
          "output_type": "stream",
          "name": "stdout",
          "text": [
            "time: 42.2 ms (started: 2022-05-10 22:00:03 +00:00)\n"
          ]
        }
      ]
    },
    {
      "cell_type": "code",
      "source": [
        "mri_df_train = get_data_df(DATASET_01_TRAIN+\"/*/*.jpg\")\n",
        "mri_df_test = get_data_df(DATASET_01_TEST+\"/*/*.jpg\")\n",
        "\n",
        "x_train, y_train = generate_set(mri_df_train, DATASET_01_TRAIN)\n",
        "x_test, y_test = generate_set(mri_df_test, DATASET_01_TEST)"
      ],
      "metadata": {
        "colab": {
          "base_uri": "https://localhost:8080/"
        },
        "id": "bGu_B_dpqXM9",
        "outputId": "1b714ff3-52ee-4d2d-b7ac-448418b78cd5"
      },
      "execution_count": null,
      "outputs": [
        {
          "output_type": "stream",
          "name": "stdout",
          "text": [
            "time: 1min 8s (started: 2022-05-10 22:00:03 +00:00)\n"
          ]
        }
      ]
    },
    {
      "cell_type": "code",
      "source": [
        "print(\"x_train shape: {}\\ny_train shape: {}\\nx_test shape: {}\\ny_test shape: {}\".format(np.array(x_train).shape, np.array(y_train).shape, np.array(x_test).shape, np.array(y_test).shape))"
      ],
      "metadata": {
        "colab": {
          "base_uri": "https://localhost:8080/"
        },
        "id": "XbEUzTnjqZFW",
        "outputId": "cd007dbb-1a94-497c-ea6b-c54099ac1588"
      },
      "execution_count": null,
      "outputs": [
        {
          "output_type": "stream",
          "name": "stdout",
          "text": [
            "x_train shape: (279, 196608)\n",
            "y_train shape: (279,)\n",
            "x_test shape: (121, 196608)\n",
            "y_test shape: (121,)\n",
            "time: 24.3 ms (started: 2022-05-10 22:01:12 +00:00)\n"
          ]
        }
      ]
    },
    {
      "cell_type": "markdown",
      "source": [
        "## Get the dimension of the data"
      ],
      "metadata": {
        "id": "kiin6FQZqcWv"
      }
    },
    {
      "cell_type": "code",
      "source": [
        "# print(len(mri_df_train))\n",
        "# print(len(mri_df_test))\n",
        "mri_df_train.head()\n",
        "img = Image.open(DATASET_01_TRAIN +\"/\"+ mri_df_train['class'].iloc[0]+\"/\"+ mri_df_train['file'].iloc[0])\n",
        "w, h = img.size\n",
        "\n",
        "print(\"Width: {}, Height: {}\".format(w, h))\n",
        "\n",
        "img = np.array(img)\n",
        "\n",
        "# Code ref: https://gist.github.com/liuhh02/ade48d822139006f98d8f05681209ab6\n",
        "\n",
        "# find number of channels\n",
        "if img.ndim == 2:\n",
        "    channels = 1\n",
        "    print(\"image has 1 channel\")\n",
        "else:\n",
        "    channels = img.shape[-1]\n",
        "    print(\"image has\", channels, \"channels\")"
      ],
      "metadata": {
        "colab": {
          "base_uri": "https://localhost:8080/"
        },
        "id": "eMN-PvtCqau2",
        "outputId": "71f4aad0-661e-4f17-d8ab-d7c5f8444a1a"
      },
      "execution_count": null,
      "outputs": [
        {
          "output_type": "stream",
          "name": "stdout",
          "text": [
            "Width: 256, Height: 256\n",
            "image has 3 channels\n",
            "time: 12.2 ms (started: 2022-05-10 22:01:12 +00:00)\n"
          ]
        }
      ]
    },
    {
      "cell_type": "code",
      "source": [
        "from sklearn.preprocessing import StandardScaler"
      ],
      "metadata": {
        "colab": {
          "base_uri": "https://localhost:8080/"
        },
        "id": "QFjJ1OdSrTb-",
        "outputId": "f33411db-cfc9-4fe6-f0c1-21c3255eab65"
      },
      "execution_count": null,
      "outputs": [
        {
          "output_type": "stream",
          "name": "stdout",
          "text": [
            "time: 562 µs (started: 2022-05-10 22:01:12 +00:00)\n"
          ]
        }
      ]
    },
    {
      "cell_type": "code",
      "source": [
        "sc = StandardScaler()\n",
        "\n",
        "x_train_sc = sc.fit_transform(np.array(x_train))\n",
        "x_test_sc = sc.transform(np.array(x_test))"
      ],
      "metadata": {
        "colab": {
          "base_uri": "https://localhost:8080/"
        },
        "id": "RDaBCIrorRMh",
        "outputId": "f537d32d-b57f-4945-b7ee-f637637cae0a"
      },
      "execution_count": null,
      "outputs": [
        {
          "output_type": "stream",
          "name": "stdout",
          "text": [
            "time: 915 ms (started: 2022-05-10 22:01:12 +00:00)\n"
          ]
        }
      ]
    },
    {
      "cell_type": "markdown",
      "source": [
        "# Model"
      ],
      "metadata": {
        "id": "Nr29HdjWqxGm"
      }
    },
    {
      "cell_type": "code",
      "source": [
        "from sklearn.metrics import balanced_accuracy_score, accuracy_score\n",
        "from sklearn.svm import SVC\n",
        "from numpy import mean"
      ],
      "metadata": {
        "colab": {
          "base_uri": "https://localhost:8080/"
        },
        "id": "k9tPGalbqqFH",
        "outputId": "ab821315-acf5-4d16-b6df-76e3f8a2e7fa"
      },
      "execution_count": null,
      "outputs": [
        {
          "output_type": "stream",
          "name": "stdout",
          "text": [
            "time: 1.94 ms (started: 2022-05-10 22:01:13 +00:00)\n"
          ]
        }
      ]
    },
    {
      "cell_type": "code",
      "source": [
        "model = SVC(random_state=1)"
      ],
      "metadata": {
        "colab": {
          "base_uri": "https://localhost:8080/"
        },
        "id": "5ZFWxM9UrGmD",
        "outputId": "c0bc9124-dd9f-475c-ff83-ec78ea75537e"
      },
      "execution_count": null,
      "outputs": [
        {
          "output_type": "stream",
          "name": "stdout",
          "text": [
            "time: 633 µs (started: 2022-05-10 22:01:13 +00:00)\n"
          ]
        }
      ]
    },
    {
      "cell_type": "code",
      "source": [
        "model.fit(x_train_sc, y_train)\n",
        "\n",
        "y_pred = model.predict(x_test_sc)\n",
        "\n",
        "uw_acc = balanced_accuracy_score(y_test, y_pred)\n",
        "print(\"The unweighted accuracy is: {}\".format(uw_acc))"
      ],
      "metadata": {
        "colab": {
          "base_uri": "https://localhost:8080/"
        },
        "id": "g9jhRMkurIRH",
        "outputId": "ecbd0079-5cac-49cf-9cc5-3bcf37badba9"
      },
      "execution_count": null,
      "outputs": [
        {
          "output_type": "stream",
          "name": "stdout",
          "text": [
            "The unweighted accuracy is: 0.725613154960981\n",
            "time: 28.6 s (started: 2022-05-10 22:01:13 +00:00)\n"
          ]
        }
      ]
    },
    {
      "cell_type": "code",
      "source": [
        "w_acc = accuracy_score(y_test, y_pred)\n",
        "print(\"The weighted accuracy is: {}\".format(w_acc))"
      ],
      "metadata": {
        "colab": {
          "base_uri": "https://localhost:8080/"
        },
        "id": "ZvMW6lz9r3YZ",
        "outputId": "e681c624-2d2b-483b-812c-558fd48fbc88"
      },
      "execution_count": null,
      "outputs": [
        {
          "output_type": "stream",
          "name": "stdout",
          "text": [
            "The weighted accuracy is: 0.743801652892562\n",
            "time: 5.95 ms (started: 2022-05-10 22:01:42 +00:00)\n"
          ]
        }
      ]
    },
    {
      "cell_type": "markdown",
      "source": [
        "# Analysis"
      ],
      "metadata": {
        "id": "I6WJ2S0S9euF"
      }
    },
    {
      "cell_type": "code",
      "source": [
        "from sklearn.metrics import plot_confusion_matrix\n",
        "import matplotlib.pyplot as plt\n",
        "from sklearn.metrics import roc_curve, auc\n",
        "from sklearn.metrics import classification_report"
      ],
      "metadata": {
        "id": "u1dKY7KGsSBh",
        "colab": {
          "base_uri": "https://localhost:8080/"
        },
        "outputId": "cad6bbcd-2f62-4183-943a-e20a3b043127"
      },
      "execution_count": null,
      "outputs": [
        {
          "output_type": "stream",
          "name": "stdout",
          "text": [
            "time: 1.31 ms (started: 2022-05-10 22:01:42 +00:00)\n"
          ]
        }
      ]
    },
    {
      "cell_type": "markdown",
      "source": [
        "## Confusion Matrix"
      ],
      "metadata": {
        "id": "GcHEd6et-Ziu"
      }
    },
    {
      "cell_type": "code",
      "source": [
        "disp = plot_confusion_matrix(model, x_test_sc, y_test, display_labels=[\"Normal\", \"Tumor\"], normalize='true')\n",
        "plt.title(\"Normalized Confusion Matrix for SVM\")\n",
        "confM = disp.confusion_matrix\n",
        "plt.show()"
      ],
      "metadata": {
        "colab": {
          "base_uri": "https://localhost:8080/",
          "height": 370
        },
        "id": "UKldbfSY9r3e",
        "outputId": "8f61f94b-5887-411c-d451-defc3b910016"
      },
      "execution_count": null,
      "outputs": [
        {
          "output_type": "stream",
          "name": "stderr",
          "text": [
            "/usr/local/lib/python3.7/dist-packages/sklearn/utils/deprecation.py:87: FutureWarning: Function plot_confusion_matrix is deprecated; Function `plot_confusion_matrix` is deprecated in 1.0 and will be removed in 1.2. Use one of the class methods: ConfusionMatrixDisplay.from_predictions or ConfusionMatrixDisplay.from_estimator.\n",
            "  warnings.warn(msg, category=FutureWarning)\n"
          ]
        },
        {
          "output_type": "display_data",
          "data": {
            "text/plain": [
              "<Figure size 432x288 with 2 Axes>"
            ],
            "image/png": "[encoded data removed]"
          },
          "metadata": {
            "needs_background": "light"
          }
        },
        {
          "output_type": "stream",
          "name": "stdout",
          "text": [
            "time: 15.6 s (started: 2022-05-10 22:01:42 +00:00)\n"
          ]
        }
      ]
    },
    {
      "cell_type": "markdown",
      "source": [
        "## Accuracy Per Class"
      ],
      "metadata": {
        "id": "UCpn0yXN-b0m"
      }
    },
    {
      "cell_type": "code",
      "source": [
        "print(\"The variance: 80%\")\n",
        "row1_sum = np.array(confM[0]).sum()\n",
        "row2_sum = np.array(confM[1]).sum()\n",
        "\n",
        "acc_Normal = (confM[0][0] / row1_sum)*100\n",
        "acc_Tumor = (confM[1][1] / row2_sum)*100\n",
        "\n",
        "print(f\"Normal accuracy: {acc_Normal}, Tumor accuracy: {acc_Tumor}\")\n",
        "print(\"\")"
      ],
      "metadata": {
        "colab": {
          "base_uri": "https://localhost:8080/"
        },
        "id": "sH4Lkg6--d3i",
        "outputId": "efa26562-c858-4dfb-f097-d7e6e6960a4e"
      },
      "execution_count": null,
      "outputs": [
        {
          "output_type": "stream",
          "name": "stdout",
          "text": [
            "The variance: 80%\n",
            "Normal accuracy: 59.61538461538461, Tumor accuracy: 85.5072463768116\n",
            "\n",
            "time: 4.11 ms (started: 2022-05-10 22:01:58 +00:00)\n"
          ]
        }
      ]
    },
    {
      "cell_type": "markdown",
      "source": [
        "## ROC"
      ],
      "metadata": {
        "id": "43lBMLdL-hU-"
      }
    },
    {
      "cell_type": "code",
      "source": [
        "y_pred = model.predict(x_test_sc)\n",
        "\n",
        "fpr, tpr, thresholds = roc_curve(y_test, y_pred)\n",
        "roc_auc = np.round_(auc(fpr, tpr), decimals=4)\n",
        "plt.plot(fpr, tpr, label=roc_auc)\n",
        "\n",
        "plt.title(\"ROC curve for SVM\")\n",
        "plt.ylabel(\"True Positive Rate\")\n",
        "plt.xlabel(\"False Positive Rate\")\n",
        "plt.legend()\n",
        "plt.show()"
      ],
      "metadata": {
        "colab": {
          "base_uri": "https://localhost:8080/",
          "height": 313
        },
        "id": "zFGRAdpS-hyD",
        "outputId": "85d1b4dc-2153-49c7-92dc-43229d673c6b"
      },
      "execution_count": null,
      "outputs": [
        {
          "output_type": "display_data",
          "data": {
            "text/plain": [
              "<Figure size 432x288 with 1 Axes>"
            ],
            "image/png": "[encoded data removed]"
          },
          "metadata": {
            "needs_background": "light"
          }
        },
        {
          "output_type": "stream",
          "name": "stdout",
          "text": [
            "time: 15.4 s (started: 2022-05-10 22:01:58 +00:00)\n"
          ]
        }
      ]
    },
    {
      "cell_type": "markdown",
      "source": [
        "## Classification Report"
      ],
      "metadata": {
        "id": "iJ2GV4J_-jxn"
      }
    },
    {
      "cell_type": "code",
      "source": [
        "target_names = ['Normal', 'Tumor']\n",
        "print(\"Classification report for SVM\")\n",
        "y_pred = model.predict(x_test_sc)\n",
        "print(classification_report(y_test, y_pred, target_names=target_names))\n",
        "print(\"\\n\\n\")"
      ],
      "metadata": {
        "colab": {
          "base_uri": "https://localhost:8080/"
        },
        "id": "vu_K9dH_-lIP",
        "outputId": "2d496649-5c8c-4eca-efd2-15a51ed31dd5"
      },
      "execution_count": null,
      "outputs": [
        {
          "output_type": "stream",
          "name": "stdout",
          "text": [
            "Classification report for SVM\n",
            "              precision    recall  f1-score   support\n",
            "\n",
            "      Normal       0.76      0.60      0.67        52\n",
            "       Tumor       0.74      0.86      0.79        69\n",
            "\n",
            "    accuracy                           0.74       121\n",
            "   macro avg       0.75      0.73      0.73       121\n",
            "weighted avg       0.75      0.74      0.74       121\n",
            "\n",
            "\n",
            "\n",
            "\n",
            "time: 15.3 s (started: 2022-05-10 22:02:13 +00:00)\n"
          ]
        }
      ]
    },
    {
      "cell_type": "code",
      "source": [
        ""
      ],
      "metadata": {
        "id": "6s0N7BjO-vyb"
      },
      "execution_count": null,
      "outputs": []
    }
  ]
}