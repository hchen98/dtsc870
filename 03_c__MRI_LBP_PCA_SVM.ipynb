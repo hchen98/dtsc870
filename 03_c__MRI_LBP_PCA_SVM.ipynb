{
  "cells": [
    {
      "cell_type": "markdown",
      "metadata": {
        "id": "2q3MEPJ1mqT1"
      },
      "source": [
        "New York Institute of Technology<br>\n",
        "Course: DTSC 870 / Spring 2022<br>\n",
        "Advisor: Dr. Cao<br>\n",
        "Team: Michael Trzaskoma, Hui (Henry) Chen\n",
        "\n",
        "----\n",
        "\n",
        "This notebook is for the MRI tumor image classification (binary) model of the project. Therefore, this is part of Phase I of the project.\n",
        "\n",
        "For more info, please visit the SVM pratical guide: https://www.csie.ntu.edu.tw/~cjlin/papers/guide/guide.pdf"
      ]
    },
    {
      "cell_type": "markdown",
      "metadata": {
        "id": "ezydF934voEl"
      },
      "source": [
        "Switch the Notebook runtime to GPU then check the available GPU."
      ]
    },
    {
      "cell_type": "markdown",
      "metadata": {
        "id": "cZTYGZ0ToSgw"
      },
      "source": [
        "# Set up"
      ]
    },
    {
      "cell_type": "code",
      "execution_count": null,
      "metadata": {
        "colab": {
          "base_uri": "https://localhost:8080/"
        },
        "id": "JEtsrz_CiGNq",
        "outputId": "2baa2ae8-7ba1-4405-d71e-7d56332ec9ff"
      },
      "outputs": [
        {
          "output_type": "stream",
          "name": "stdout",
          "text": [
            "Collecting ipython-autotime\n",
            "  Downloading ipython_autotime-0.3.1-py2.py3-none-any.whl (6.8 kB)\n",
            "Requirement already satisfied: ipython in /usr/local/lib/python3.7/dist-packages (from ipython-autotime) (5.5.0)\n",
            "Requirement already satisfied: simplegeneric>0.8 in /usr/local/lib/python3.7/dist-packages (from ipython->ipython-autotime) (0.8.1)\n",
            "Requirement already satisfied: prompt-toolkit<2.0.0,>=1.0.4 in /usr/local/lib/python3.7/dist-packages (from ipython->ipython-autotime) (1.0.18)\n",
            "Requirement already satisfied: traitlets>=4.2 in /usr/local/lib/python3.7/dist-packages (from ipython->ipython-autotime) (5.1.1)\n",
            "Requirement already satisfied: pygments in /usr/local/lib/python3.7/dist-packages (from ipython->ipython-autotime) (2.6.1)\n",
            "Requirement already satisfied: pexpect in /usr/local/lib/python3.7/dist-packages (from ipython->ipython-autotime) (4.8.0)\n",
            "Requirement already satisfied: setuptools>=18.5 in /usr/local/lib/python3.7/dist-packages (from ipython->ipython-autotime) (57.4.0)\n",
            "Requirement already satisfied: pickleshare in /usr/local/lib/python3.7/dist-packages (from ipython->ipython-autotime) (0.7.5)\n",
            "Requirement already satisfied: decorator in /usr/local/lib/python3.7/dist-packages (from ipython->ipython-autotime) (4.4.2)\n",
            "Requirement already satisfied: six>=1.9.0 in /usr/local/lib/python3.7/dist-packages (from prompt-toolkit<2.0.0,>=1.0.4->ipython->ipython-autotime) (1.15.0)\n",
            "Requirement already satisfied: wcwidth in /usr/local/lib/python3.7/dist-packages (from prompt-toolkit<2.0.0,>=1.0.4->ipython->ipython-autotime) (0.2.5)\n",
            "Requirement already satisfied: ptyprocess>=0.5 in /usr/local/lib/python3.7/dist-packages (from pexpect->ipython->ipython-autotime) (0.7.0)\n",
            "Installing collected packages: ipython-autotime\n",
            "Successfully installed ipython-autotime-0.3.1\n",
            "Collecting directory_structure\n",
            "  Downloading directory_structure-1.1.2-py3-none-any.whl (4.3 kB)\n",
            "Collecting emoji\n",
            "  Downloading emoji-1.7.0.tar.gz (175 kB)\n",
            "\u001b[K     |████████████████████████████████| 175 kB 4.2 MB/s \n",
            "\u001b[?25hBuilding wheels for collected packages: emoji\n",
            "  Building wheel for emoji (setup.py) ... \u001b[?25l\u001b[?25hdone\n",
            "  Created wheel for emoji: filename=emoji-1.7.0-py3-none-any.whl size=171046 sha256=98b7fe94f69637aed9895bd3118303a191d63d7a9d6999758960f0e1a992c6fa\n",
            "  Stored in directory: /root/.cache/pip/wheels/8a/4e/b6/57b01db010d17ef6ea9b40300af725ef3e210cb1acfb7ac8b6\n",
            "Successfully built emoji\n",
            "Installing collected packages: emoji, directory-structure\n",
            "Successfully installed directory-structure-1.1.2 emoji-1.7.0\n",
            "  % Total    % Received % Xferd  Average Speed   Time    Time     Time  Current\n",
            "                                 Dload  Upload   Total   Spent    Left  Speed\n",
            "100  1580  100  1580    0     0   9634      0 --:--:-- --:--:-- --:--:--  9693\n",
            "+ apt -y -q install cuda-libraries-dev-10-0\n",
            "Reading package lists...\n",
            "Building dependency tree...\n",
            "Reading state information...\n",
            "cuda-libraries-dev-10-0 is already the newest version (10.0.130-1).\n",
            "The following packages were automatically installed and are no longer required:\n",
            "  libnvidia-common-460 nsight-compute-2020.2.0\n",
            "Use 'apt autoremove' to remove them.\n",
            "0 upgraded, 0 newly installed, 0 to remove and 42 not upgraded.\n",
            "+ pip install -q cupy-cuda100  chainer \n",
            "\u001b[K     |████████████████████████████████| 58.9 MB 1.5 MB/s \n",
            "\u001b[K     |████████████████████████████████| 1.0 MB 48.5 MB/s \n",
            "\u001b[?25h  Building wheel for chainer (setup.py) ... \u001b[?25l\u001b[?25hdone\n",
            "+ set +ex\n",
            "Installation succeeded!\n",
            "time: 2.4 ms (started: 2022-05-10 01:25:11 +00:00)\n"
          ]
        }
      ],
      "source": [
        "# setup to see the execution time in each cell\n",
        "\n",
        "!pip install ipython-autotime\n",
        "!pip install directory_structure\n",
        "!curl https://colab.chainer.org/install | sh -\n",
        "%load_ext autotime"
      ]
    },
    {
      "cell_type": "code",
      "execution_count": null,
      "metadata": {
        "colab": {
          "base_uri": "https://localhost:8080/"
        },
        "id": "YbrDSdGEvR_7",
        "outputId": "4a5cfaec-7034-4a2a-f914-5ef92cb23f7b"
      },
      "outputs": [
        {
          "output_type": "stream",
          "name": "stdout",
          "text": [
            "Mounted at /content/drive\n",
            "time: 19.9 s (started: 2022-05-10 01:25:11 +00:00)\n"
          ]
        }
      ],
      "source": [
        "from google.colab import drive\n",
        "drive.mount('/content/drive')"
      ]
    },
    {
      "cell_type": "code",
      "execution_count": null,
      "metadata": {
        "colab": {
          "base_uri": "https://localhost:8080/"
        },
        "id": "Lygx7PDiXibd",
        "outputId": "facce33f-452f-4b1c-a2c2-bf36a968d260"
      },
      "outputs": [
        {
          "output_type": "stream",
          "name": "stdout",
          "text": [
            "time: 2.14 s (started: 2022-05-10 01:25:33 +00:00)\n"
          ]
        }
      ],
      "source": [
        "import pandas as pd\n",
        "import os\n",
        "import glob\n",
        "import PIL\n",
        "from PIL import Image\n",
        "import numpy as np\n",
        "import cupy as cp\n",
        "import matplotlib.pyplot as plt"
      ]
    },
    {
      "cell_type": "markdown",
      "source": [
        "### No Img Aug"
      ],
      "metadata": {
        "id": "sacygmdQ4Ufg"
      }
    },
    {
      "cell_type": "code",
      "source": [
        "# ROOT_DIR = \"/content/drive/MyDrive/Spring 2022/DTSC 870/Code\" # HC Directory\n",
        "# # ROOT_DIR = \"/content/drive/MyDrive/DTSC 870/Code\" #MT Directory\n",
        "\n",
        "# DATASET_01 = ROOT_DIR + \"/datasets/01_MRI/Brain_tumor_images\"\n",
        "# DATASET_01_TRAIN = DATASET_01 + \"/train\"\n",
        "# DATASET_01_TEST = DATASET_01 + \"/test\""
      ],
      "metadata": {
        "id": "r027dqN14VgV",
        "colab": {
          "base_uri": "https://localhost:8080/"
        },
        "outputId": "53f0fbff-ba7a-46f1-c15f-32e38c28452c"
      },
      "execution_count": null,
      "outputs": [
        {
          "output_type": "stream",
          "name": "stdout",
          "text": [
            "time: 10.2 ms (started: 2022-05-10 01:25:37 +00:00)\n"
          ]
        }
      ]
    },
    {
      "cell_type": "markdown",
      "source": [
        "### Img Aug"
      ],
      "metadata": {
        "id": "0-ijuj8n4Ws4"
      }
    },
    {
      "cell_type": "code",
      "execution_count": null,
      "metadata": {
        "colab": {
          "base_uri": "https://localhost:8080/"
        },
        "id": "VKdK8OcnV2wG",
        "outputId": "54e17113-26ac-4f97-f419-f901bfa9c1f5"
      },
      "outputs": [
        {
          "output_type": "stream",
          "name": "stdout",
          "text": [
            "time: 11.7 ms (started: 2022-05-10 02:51:00 +00:00)\n"
          ]
        }
      ],
      "source": [
        "ROOT_DIR = \"/content/drive/MyDrive/Spring 2022/DTSC 870/Code\" # HC Directory\n",
        "# ROOT_DIR = \"/content/drive/MyDrive/DTSC 870/Code\" #MT Directory\n",
        "\n",
        "DATASET_01 = ROOT_DIR + \"/datasets/01_MRI\"\n",
        "DATASET_01_TRAIN = DATASET_01 + \"/Aug_train\"\n",
        "DATASET_01_TEST = DATASET_01 + \"/Aug_test\""
      ]
    },
    {
      "cell_type": "code",
      "execution_count": null,
      "metadata": {
        "colab": {
          "base_uri": "https://localhost:8080/"
        },
        "id": "QzIbFlJPYj-c",
        "outputId": "8bc697f5-1027-4e6e-ca50-3b6f106e5a44"
      },
      "outputs": [
        {
          "output_type": "stream",
          "name": "stdout",
          "text": [
            "📂 Brain_tumor_images\n",
            "|_📁 train\n",
            "|_📁 test\n",
            "time: 2.64 s (started: 2022-05-10 01:25:42 +00:00)\n"
          ]
        }
      ],
      "source": [
        "from directory_structure import Tree\n",
        "\n",
        "os.chdir(DATASET_01)\n",
        "print(Tree(os.getcwd()))"
      ]
    },
    {
      "cell_type": "markdown",
      "metadata": {
        "id": "mVE6px2lvOPb"
      },
      "source": [
        "# Preprocessing"
      ]
    },
    {
      "cell_type": "markdown",
      "metadata": {
        "id": "OvHaJhlR8gf-"
      },
      "source": [
        "## Untility func"
      ]
    },
    {
      "cell_type": "code",
      "execution_count": null,
      "metadata": {
        "colab": {
          "base_uri": "https://localhost:8080/"
        },
        "id": "Mz4OVijyvQsD",
        "outputId": "090b1847-7d46-489f-b3ba-dd407bccdb1a"
      },
      "outputs": [
        {
          "output_type": "stream",
          "name": "stdout",
          "text": [
            "time: 1.53 ms (started: 2022-05-10 01:25:45 +00:00)\n"
          ]
        }
      ],
      "source": [
        "#Figuring out loading images to preprocess\n",
        "\n",
        "def get_total_train_num(dir):\n",
        "  return len(glob.glob(dir))"
      ]
    },
    {
      "cell_type": "code",
      "execution_count": null,
      "metadata": {
        "colab": {
          "base_uri": "https://localhost:8080/"
        },
        "id": "6CQv2gbS8fyX",
        "outputId": "3606db45-51ee-4a90-edb0-5522be0fa09d"
      },
      "outputs": [
        {
          "output_type": "stream",
          "name": "stdout",
          "text": [
            "time: 3.99 ms (started: 2022-05-10 01:25:45 +00:00)\n"
          ]
        }
      ],
      "source": [
        "def get_data_df(dir):\n",
        "  # modified code from: https://www.kaggle.com/namgalielei/simple-load-images-and-count-number-of-each-class\n",
        "\n",
        "  train_df = pd.DataFrame()\n",
        "\n",
        "  trainset = glob.glob(dir)\n",
        "\n",
        "  train_df['file'] = [img.split(\"/\")[-1] for img in trainset]\n",
        "  train_df['class'] = [img.split(\"/\")[-2] for img in trainset]\n",
        "\n",
        "  return train_df"
      ]
    },
    {
      "cell_type": "code",
      "execution_count": null,
      "metadata": {
        "colab": {
          "base_uri": "https://localhost:8080/"
        },
        "id": "dB20P75y8jbB",
        "outputId": "6e23e7dd-3893-4405-9cbb-056fb4b84e96"
      },
      "outputs": [
        {
          "output_type": "stream",
          "name": "stdout",
          "text": [
            "time: 24 ms (started: 2022-05-10 01:25:45 +00:00)\n"
          ]
        }
      ],
      "source": [
        "def generate_set(df, dir):\n",
        "\n",
        "  # new_df = pd.DataFrame()\n",
        "  pixels = []\n",
        "  class_ = []\n",
        "\n",
        "  # trainset = glob.glob(dir)\n",
        "  for i in range(len(df.index)):\n",
        "    # get the absolute img path\n",
        "    # e.g., Brain_tumor_images/<train or test>/<class label>/<file name>\n",
        "    path = dir + \"/\" + df.iloc[i][\"class\"] + \"/\" +df.iloc[i][\"file\"]\n",
        "    # print(img)\n",
        "    img = Image.open(path)\n",
        "    # print(\"Img: {} \\tClass: {}\".format(np.array(img).flatten(), df.iloc[i][\"class\"]))\n",
        "    pixels.append(cp.asnumpy(cp.array(img)).flatten())\n",
        "    # pixels.append(np.array(img))\n",
        "\n",
        "    # y_true encoding here\n",
        "    if df.iloc[i][\"class\"] == \"Normal\":\n",
        "      class_.append(0)\n",
        "    else:\n",
        "      class_.append(1)\n",
        "\n",
        "  # train_df['file'] = [img.split(\"/\")[-1] for img in trainset]\n",
        "  # train_df['class'] = [img.split(\"/\")[-2] for img in trainset]\n",
        "\n",
        "  # return train_df\n",
        "  return pixels, class_"
      ]
    },
    {
      "cell_type": "markdown",
      "metadata": {
        "id": "7BFIAnjCvEDF"
      },
      "source": [
        "## Generate Train & Test set"
      ]
    },
    {
      "cell_type": "markdown",
      "metadata": {
        "id": "58ulU-p8vKcZ"
      },
      "source": [
        "Generate a general dataframe"
      ]
    },
    {
      "cell_type": "code",
      "execution_count": null,
      "metadata": {
        "colab": {
          "base_uri": "https://localhost:8080/"
        },
        "id": "gkqPckA3hPm6",
        "outputId": "2b2effa6-4dd4-4ed1-9028-7d6ff1c0525d"
      },
      "outputs": [
        {
          "output_type": "stream",
          "name": "stdout",
          "text": [
            "time: 7.72 s (started: 2022-05-10 02:51:05 +00:00)\n"
          ]
        }
      ],
      "source": [
        "mri_df_train = get_data_df(DATASET_01_TRAIN+\"/*/*.jpg\")\n",
        "mri_df_test = get_data_df(DATASET_01_TEST+\"/*/*.jpg\")"
      ]
    },
    {
      "cell_type": "markdown",
      "metadata": {
        "id": "H83PcEXqvOOp"
      },
      "source": [
        "Splitting the dataset into train and test sets with a ratio of 0.7:0.3"
      ]
    },
    {
      "cell_type": "code",
      "execution_count": null,
      "metadata": {
        "colab": {
          "base_uri": "https://localhost:8080/"
        },
        "id": "YY3vzKcd_dhg",
        "outputId": "ced09425-494b-4bd0-a390-ac156ceb140e"
      },
      "outputs": [
        {
          "output_type": "stream",
          "name": "stdout",
          "text": [
            "time: 2min 38s (started: 2022-05-10 02:51:12 +00:00)\n"
          ]
        }
      ],
      "source": [
        "x_train, y_train = generate_set(mri_df_train, DATASET_01_TRAIN)\n",
        "x_test, y_test = generate_set(mri_df_test, DATASET_01_TEST)"
      ]
    },
    {
      "cell_type": "code",
      "execution_count": null,
      "metadata": {
        "colab": {
          "base_uri": "https://localhost:8080/"
        },
        "id": "XkVJXoDJbDsi",
        "outputId": "e382cd10-c3ea-4cb3-d005-6cf86306f7eb"
      },
      "outputs": [
        {
          "output_type": "stream",
          "name": "stdout",
          "text": [
            "x_train shape: (279, 196608)\n",
            "y_train shape: (279,)\n",
            "x_test shape: (121, 196608)\n",
            "y_test shape: (121,)\n",
            "time: 29.4 ms (started: 2022-05-10 01:26:45 +00:00)\n"
          ]
        }
      ],
      "source": [
        "# np.array().shape\n",
        "print(\"x_train shape: {}\\ny_train shape: {}\\nx_test shape: {}\\ny_test shape: {}\".format(np.array(x_train).shape, np.array(y_train).shape, np.array(x_test).shape, np.array(y_test).shape))"
      ]
    },
    {
      "cell_type": "markdown",
      "metadata": {
        "id": "FbxoVX6ov8aC"
      },
      "source": [
        "## Get the dimensions of the data"
      ]
    },
    {
      "cell_type": "code",
      "execution_count": null,
      "metadata": {
        "colab": {
          "base_uri": "https://localhost:8080/"
        },
        "id": "TW7fTPaDXz72",
        "outputId": "81b7bd2f-dd61-43c3-e572-e7317ac10f05"
      },
      "outputs": [
        {
          "output_type": "stream",
          "name": "stdout",
          "text": [
            "196608\n",
            "time: 1.21 ms (started: 2022-05-10 01:26:45 +00:00)\n"
          ]
        }
      ],
      "source": [
        "print(len(x_train[0]))"
      ]
    },
    {
      "cell_type": "code",
      "execution_count": null,
      "metadata": {
        "colab": {
          "base_uri": "https://localhost:8080/"
        },
        "id": "LC3iTFDlbgZg",
        "outputId": "93f5738b-0f65-4e22-ecb0-b1cef8f69a29"
      },
      "outputs": [
        {
          "output_type": "execute_result",
          "data": {
            "text/plain": [
              "(256, 256)"
            ]
          },
          "metadata": {},
          "execution_count": 13
        },
        {
          "output_type": "stream",
          "name": "stdout",
          "text": [
            "time: 11.2 ms (started: 2022-05-10 01:26:45 +00:00)\n"
          ]
        }
      ],
      "source": [
        "# print(len(mri_df_train))\n",
        "# print(len(mri_df_test))\n",
        "mri_df_train.head()\n",
        "img = Image.open(DATASET_01_TRAIN +\"/\"+ mri_df_train['class'].iloc[0]+\"/\"+ mri_df_train['file'].iloc[0])\n",
        "w, h = img.size\n",
        "w, h\n",
        "# img"
      ]
    },
    {
      "cell_type": "code",
      "execution_count": null,
      "metadata": {
        "colab": {
          "base_uri": "https://localhost:8080/"
        },
        "id": "SYatnBNdbphi",
        "outputId": "47e74a92-129b-414a-8375-d5736ec59a35"
      },
      "outputs": [
        {
          "output_type": "stream",
          "name": "stdout",
          "text": [
            "time: 3.75 ms (started: 2022-05-10 01:26:45 +00:00)\n"
          ]
        }
      ],
      "source": [
        "# len(img.getbands())"
      ]
    },
    {
      "cell_type": "code",
      "execution_count": null,
      "metadata": {
        "colab": {
          "base_uri": "https://localhost:8080/"
        },
        "id": "jT4pN-LThfx3",
        "outputId": "ff12a43d-5546-4e44-d468-058ab098d528"
      },
      "outputs": [
        {
          "output_type": "stream",
          "name": "stdout",
          "text": [
            "image has 3 channels\n",
            "time: 10.2 ms (started: 2022-05-10 01:26:45 +00:00)\n"
          ]
        }
      ],
      "source": [
        "img = np.array(img)\n",
        "\n",
        "# Code ref: https://gist.github.com/liuhh02/ade48d822139006f98d8f05681209ab6\n",
        "\n",
        "# find number of channels\n",
        "if img.ndim == 2:\n",
        "    channels = 1\n",
        "    print(\"image has 1 channel\")\n",
        "else:\n",
        "    channels = img.shape[-1]\n",
        "    print(\"image has\", channels, \"channels\")"
      ]
    },
    {
      "cell_type": "code",
      "execution_count": null,
      "metadata": {
        "colab": {
          "base_uri": "https://localhost:8080/"
        },
        "id": "aQ_6vvHV-WJR",
        "outputId": "7fe0d2d6-1d84-4b86-8daa-1fb01db98a12"
      },
      "outputs": [
        {
          "output_type": "stream",
          "name": "stdout",
          "text": [
            "time: 505 µs (started: 2022-05-10 01:26:45 +00:00)\n"
          ]
        }
      ],
      "source": [
        "# arr = np.array(img)\n",
        "# print(arr)"
      ]
    },
    {
      "cell_type": "code",
      "execution_count": null,
      "metadata": {
        "colab": {
          "base_uri": "https://localhost:8080/"
        },
        "id": "DOiyJ2VsEaAc",
        "outputId": "3981d836-2fcb-42ab-b831-5f82575ad0c0"
      },
      "outputs": [
        {
          "output_type": "stream",
          "name": "stdout",
          "text": [
            "time: 861 µs (started: 2022-05-10 01:26:45 +00:00)\n"
          ]
        }
      ],
      "source": [
        "# print(arr.flatten())"
      ]
    },
    {
      "cell_type": "markdown",
      "metadata": {
        "id": "9GuuZpoKigHq"
      },
      "source": [
        "# Feature Engineering"
      ]
    },
    {
      "cell_type": "markdown",
      "metadata": {
        "id": "gtWgAIKgiZLP"
      },
      "source": [
        "## Dimensionality Reduction (PCA)"
      ]
    },
    {
      "cell_type": "markdown",
      "metadata": {
        "id": "t2v04LdJj9BQ"
      },
      "source": [
        "Unbalanced problem with SVM:\n",
        "https://scikit-learn.org/stable/modules/svm.html#unbalanced-problems"
      ]
    },
    {
      "cell_type": "markdown",
      "metadata": {
        "id": "XyAPOK6jUvnH"
      },
      "source": [
        "For more info, please visit plotly doc here:\n",
        "1. https://plotly.com/python/pca-visualization/\n",
        "2. https://machinelearningmastery.com/principal-components-analysis-for-dimensionality-reduction-in-python/\n",
        "3. https://stackoverflow.com/questions/50796024/feature-variable-importance-after-a-pca-analysis\n",
        "4. https://github.com/StatQuest/pca_demo/blob/master/pca_demo.py\n",
        "5. https://vitalflux.com/pca-explained-variance-concept-python-example/#:~:text=explained_variance_ratio_%20method%20of%20PCA%20is,scaled%20before%20applying%20PCA%20technique."
      ]
    },
    {
      "cell_type": "markdown",
      "metadata": {
        "id": "n_0D-rVz4VfX"
      },
      "source": [
        "Backup the X train and test set"
      ]
    },
    {
      "cell_type": "code",
      "execution_count": null,
      "metadata": {
        "colab": {
          "base_uri": "https://localhost:8080/"
        },
        "id": "Fv2cfJ4F3iYq",
        "outputId": "145b1b10-3ea0-44ac-d74c-e4c801e23bc3"
      },
      "outputs": [
        {
          "output_type": "stream",
          "name": "stdout",
          "text": [
            "time: 1.17 ms (started: 2022-05-10 01:26:45 +00:00)\n"
          ]
        }
      ],
      "source": [
        "# backup the train and test sets\n",
        "# x_train_org, x_test_org = x_train, x_test"
      ]
    },
    {
      "cell_type": "code",
      "execution_count": null,
      "metadata": {
        "colab": {
          "base_uri": "https://localhost:8080/"
        },
        "id": "SiqQ7c4DilnN",
        "outputId": "fcd9f8a0-299b-47e1-8ce4-aaf4d9aac01c"
      },
      "outputs": [
        {
          "output_type": "stream",
          "name": "stdout",
          "text": [
            "time: 1.42 s (started: 2022-05-10 01:26:45 +00:00)\n"
          ]
        }
      ],
      "source": [
        "from sklearn.decomposition import PCA\n",
        "import matplotlib.pyplot as plt\n",
        "import plotly.express as px"
      ]
    },
    {
      "cell_type": "code",
      "execution_count": null,
      "metadata": {
        "colab": {
          "base_uri": "https://localhost:8080/"
        },
        "id": "7DopHzOWMc8q",
        "outputId": "8d7c6ee5-8156-412a-963b-93835034b003"
      },
      "outputs": [
        {
          "output_type": "stream",
          "name": "stdout",
          "text": [
            "time: 24.2 s (started: 2022-05-10 02:53:51 +00:00)\n"
          ]
        }
      ],
      "source": [
        "pca = PCA()\n",
        "\n",
        "x_train_pca = pca.fit_transform(x_train)\n",
        "x_test_pca = pca.transform(x_test)"
      ]
    },
    {
      "cell_type": "code",
      "source": [
        "print(\"Original X train shape: {}\".format(np.array(x_train).shape))\n",
        "print(\"X Train shape after PCA: {}\".format(x_train_pca.shape))\n",
        "\n",
        "print(\"Original X test shape: {}\".format(np.array(x_test).shape))\n",
        "print(\"X test shape after PCA: {}\".format(x_test_pca.shape))"
      ],
      "metadata": {
        "colab": {
          "base_uri": "https://localhost:8080/"
        },
        "id": "MKVWXIEBJI-u",
        "outputId": "c68ad563-68f6-45e2-edc0-97a0f36bed79"
      },
      "execution_count": null,
      "outputs": [
        {
          "output_type": "stream",
          "name": "stdout",
          "text": [
            "Original X train shape: (279, 196608)\n",
            "X Train shape after PCA: (279, 279)\n",
            "Original X test shape: (121, 196608)\n",
            "X test shape after PCA: (121, 279)\n",
            "time: 40.2 ms (started: 2022-05-10 01:27:09 +00:00)\n"
          ]
        }
      ]
    },
    {
      "cell_type": "code",
      "execution_count": null,
      "metadata": {
        "colab": {
          "base_uri": "https://localhost:8080/"
        },
        "id": "9xsei6PnX5gv",
        "outputId": "72052f58-e419-4bd0-e89e-86545ca499c4"
      },
      "outputs": [
        {
          "output_type": "stream",
          "name": "stdout",
          "text": [
            "time: 1.2 ms (started: 2022-05-10 01:27:09 +00:00)\n"
          ]
        }
      ],
      "source": [
        "# header = [\"PC\"+str(i) for i in range(1, len(x_train_pca[0]) + 1)]\n",
        "# header"
      ]
    },
    {
      "cell_type": "markdown",
      "source": [
        "Comment out for actual run."
      ],
      "metadata": {
        "id": "XItsc179O7Jd"
      }
    },
    {
      "cell_type": "code",
      "execution_count": null,
      "metadata": {
        "colab": {
          "base_uri": "https://localhost:8080/"
        },
        "id": "Ht_wkGkZZiR0",
        "outputId": "ff97b7a0-1738-4414-c127-49e3928999d4"
      },
      "outputs": [
        {
          "output_type": "stream",
          "name": "stdout",
          "text": [
            "time: 2.9 ms (started: 2022-05-02 04:05:12 +00:00)\n"
          ]
        }
      ],
      "source": [
        "# labels = {\n",
        "#     str(i): f\"PC {i+1} ({var:.1f}%)\"\n",
        "#     for i, var in enumerate(pca.explained_variance_ratio_ * 100)\n",
        "# }\n",
        "\n",
        "# fig = px.scatter_matrix(\n",
        "#     x_train_pca,\n",
        "#     # x_train_df,\n",
        "#     labels=labels,\n",
        "#     # dimensions=(0, 1),\n",
        "#     dimensions=range(4),\n",
        "#     # color=x_train_df['class'],\n",
        "# )\n",
        "# fig.update_traces(diagonal_visible=False)\n",
        "# fig.show()"
      ]
    },
    {
      "cell_type": "markdown",
      "metadata": {
        "id": "oV22pP2y-ggq"
      },
      "source": [
        "Display the cumulative of variance."
      ]
    },
    {
      "cell_type": "code",
      "execution_count": null,
      "metadata": {
        "colab": {
          "base_uri": "https://localhost:8080/"
        },
        "id": "y1c7QffpVqyh",
        "outputId": "9d5afbfa-b7ce-4508-dbd7-75cad22e332c"
      },
      "outputs": [
        {
          "output_type": "stream",
          "name": "stdout",
          "text": [
            "[0.18   0.2252 0.2688 0.3035 0.3304 0.355  0.3775 0.3955 0.4112 0.4266\n",
            " 0.4414 0.4545 0.4671 0.4792 0.491  0.5019 0.5126 0.5225 0.5322 0.5414\n",
            " 0.55   0.5583 0.5666 0.5747 0.5821 0.5894 0.5964 0.6032 0.6098 0.6162\n",
            " 0.6223 0.6283 0.6341 0.6397 0.6452 0.6507 0.6559 0.6608 0.6658 0.6706\n",
            " 0.6753 0.68   0.6845 0.6889 0.6932 0.6975 0.7016 0.7058 0.7098 0.7138\n",
            " 0.7177 0.7215 0.7253 0.729  0.7327 0.7363 0.7398 0.7433 0.7467 0.7499\n",
            " 0.7532 0.7564 0.7595 0.7626 0.7657 0.7687 0.7717 0.7746 0.7775 0.7804\n",
            " 0.7832 0.7859 0.7886 0.7912 0.7939 0.7965 0.799  0.8016 0.8041 0.8065\n",
            " 0.8089 0.8113 0.8136 0.8159 0.8182 0.8204 0.8226 0.8248 0.827  0.8291\n",
            " 0.8312 0.8333 0.8353 0.8374 0.8394 0.8414 0.8433 0.8453 0.8472 0.849\n",
            " 0.8509 0.8527 0.8545 0.8563 0.8581 0.8598 0.8615 0.8632 0.8649 0.8666\n",
            " 0.8682 0.8698 0.8715 0.8731 0.8746 0.8762 0.8777 0.8793 0.8808 0.8823\n",
            " 0.8837 0.8852 0.8867 0.8881 0.8895 0.8909 0.8923 0.8937 0.8951 0.8964\n",
            " 0.8978 0.8991 0.9004 0.9017 0.903  0.9043 0.9056 0.9068 0.9081 0.9093\n",
            " 0.9105 0.9117 0.9129 0.914  0.9152 0.9163 0.9175 0.9186 0.9197 0.9208\n",
            " 0.9219 0.923  0.9241 0.9251 0.9262 0.9272 0.9282 0.9292 0.9302 0.9313\n",
            " 0.9322 0.9332 0.9342 0.9351 0.9361 0.937  0.9379 0.9389 0.9398 0.9407\n",
            " 0.9416 0.9424 0.9433 0.9442 0.9451 0.9459 0.9467 0.9476 0.9484 0.9492\n",
            " 0.95   0.9508 0.9516 0.9524 0.9532 0.954  0.9548 0.9555 0.9563 0.957\n",
            " 0.9578 0.9585 0.9592 0.96   0.9607 0.9614 0.9621 0.9628 0.9635 0.9641\n",
            " 0.9648 0.9655 0.9662 0.9668 0.9675 0.9681 0.9688 0.9694 0.97   0.9706\n",
            " 0.9713 0.9719 0.9725 0.9731 0.9736 0.9742 0.9748 0.9754 0.976  0.9765\n",
            " 0.9771 0.9776 0.9782 0.9787 0.9792 0.9798 0.9803 0.9808 0.9813 0.9818\n",
            " 0.9823 0.9828 0.9833 0.9838 0.9843 0.9848 0.9852 0.9857 0.9862 0.9866\n",
            " 0.9871 0.9875 0.988  0.9884 0.9889 0.9893 0.9897 0.9901 0.9905 0.991\n",
            " 0.9914 0.9918 0.9922 0.9926 0.9929 0.9933 0.9937 0.9941 0.9944 0.9948\n",
            " 0.9951 0.9955 0.9958 0.9962 0.9965 0.9968 0.9972 0.9975 0.9978 0.9981\n",
            " 0.9984 0.9987 0.999  0.9993 0.9995 0.9997 0.9999 1.     1.    ]\n",
            "time: 11.4 ms (started: 2022-05-10 02:54:15 +00:00)\n"
          ]
        }
      ],
      "source": [
        "# import plotly.express as px\n",
        "\n",
        "# pca = PCA()\n",
        "# components = pca.fit_transform(x_train_sc)\n",
        "exp_var_cumul = np.cumsum(pca.explained_variance_ratio_)\n",
        "exp_var_cumul_round = np.round_(exp_var_cumul, decimals = 4)\n",
        "print(exp_var_cumul_round)"
      ]
    },
    {
      "cell_type": "code",
      "execution_count": null,
      "metadata": {
        "colab": {
          "base_uri": "https://localhost:8080/"
        },
        "id": "bPTneVHbAmdX",
        "outputId": "4a9ceca7-9235-418d-d4c9-7d26a8484bce"
      },
      "outputs": [
        {
          "output_type": "stream",
          "name": "stdout",
          "text": [
            "time: 1.88 ms (started: 2022-05-10 02:54:15 +00:00)\n"
          ]
        }
      ],
      "source": [
        "# get a list of # of components\n",
        "num_comp = range(1, exp_var_cumul_round.shape[0] + 1)\n",
        "\n",
        "per_var = np.round(pca.explained_variance_ratio_* 100, decimals=1)"
      ]
    },
    {
      "cell_type": "code",
      "execution_count": null,
      "metadata": {
        "colab": {
          "base_uri": "https://localhost:8080/",
          "height": 559
        },
        "id": "y-U8AHla-cwn",
        "outputId": "934cc871-7413-4490-caa4-8ad9e015ad0e"
      },
      "outputs": [
        {
          "output_type": "display_data",
          "data": {
            "text/html": [
              "<html>\n",
              "<head><meta charset=\"utf-8\" /></head>\n",
              "<body>\n",
              "    <div>            <script src=\"https://cdnjs.cloudflare.com/ajax/libs/mathjax/2.7.5/MathJax.js?config=TeX-AMS-MML_SVG\"></script><script type=\"text/javascript\">if (window.MathJax) {MathJax.Hub.Config({SVG: {font: \"STIX-Web\"}});}</script>                <script type=\"text/javascript\">window.PlotlyConfig = {MathJaxConfig: 'local'};</script>\n",
              "        <script src=\"https://cdn.plot.ly/plotly-2.8.3.min.js\"></script>                <div id=\"2739a326-9209-4ff9-89a2-048de024d3d8\" class=\"plotly-graph-div\" style=\"height:525px; width:100%;\"></div>            <script type=\"text/javascript\">                                    window.PLOTLYENV=window.PLOTLYENV || {};                                    if (document.getElementById(\"2739a326-9209-4ff9-89a2-048de024d3d8\")) {                    Plotly.newPlot(                        \"2739a326-9209-4ff9-89a2-048de024d3d8\",                        [{\"hovertemplate\":\"# Components=%{x}<br>Cumulative Explained Variance=%{y}<extra></extra>\",\"legendgroup\":\"\",\"line\":{\"color\":\"#636efa\",\"dash\":\"solid\"},\"marker\":{\"symbol\":\"circle\"},\"mode\":\"lines\",\"name\":\"\",\"orientation\":\"v\",\"showlegend\":false,\"x\":[1,2,3,4,5,6,7,8,9,10,11,12,13,14,15,16,17,18,19,20,21,22,23,24,25,26,27,28,29,30,31,32,33,34,35,36,37,38,39,40,41,42,43,44,45,46,47,48,49,50,51,52,53,54,55,56,57,58,59,60,61,62,63,64,65,66,67,68,69,70,71,72,73,74,75,76,77,78,79,80,81,82,83,84,85,86,87,88,89,90,91,92,93,94,95,96,97,98,99,100,101,102,103,104,105,106,107,108,109,110,111,112,113,114,115,116,117,118,119,120,121,122,123,124,125,126,127,128,129,130,131,132,133,134,135,136,137,138,139,140,141,142,143,144,145,146,147,148,149,150,151,152,153,154,155,156,157,158,159,160,161,162,163,164,165,166,167,168,169,170,171,172,173,174,175,176,177,178,179,180,181,182,183,184,185,186,187,188,189,190,191,192,193,194,195,196,197,198,199,200,201,202,203,204,205,206,207,208,209,210,211,212,213,214,215,216,217,218,219,220,221,222,223,224,225,226,227,228,229,230,231,232,233,234,235,236,237,238,239,240,241,242,243,244,245,246,247,248,249,250,251,252,253,254,255,256,257,258,259,260,261,262,263,264,265,266,267,268,269,270,271,272,273,274,275,276,277,278,279],\"xaxis\":\"x\",\"y\":[0.18,0.2252,0.2688,0.3035,0.3304,0.355,0.3775,0.3955,0.4112,0.4266,0.4414,0.4545,0.4671,0.4792,0.491,0.5019,0.5126,0.5225,0.5322,0.5414,0.55,0.5583,0.5666,0.5747,0.5821,0.5894,0.5964,0.6032,0.6098,0.6162,0.6223,0.6283,0.6341,0.6397,0.6452,0.6507,0.6559,0.6608,0.6658,0.6706,0.6753,0.68,0.6845,0.6889,0.6932,0.6975,0.7016,0.7058,0.7098,0.7138,0.7177,0.7215,0.7253,0.729,0.7327,0.7363,0.7398,0.7433,0.7467,0.7499,0.7532,0.7564,0.7595,0.7626,0.7657,0.7687,0.7717,0.7746,0.7775,0.7804,0.7832,0.7859,0.7886,0.7912,0.7939,0.7965,0.799,0.8016,0.8041,0.8065,0.8089,0.8113,0.8136,0.8159,0.8182,0.8204,0.8226,0.8248,0.827,0.8291,0.8312,0.8333,0.8353,0.8374,0.8394,0.8414,0.8433,0.8453,0.8472,0.849,0.8509,0.8527,0.8545,0.8563,0.8581,0.8598,0.8615,0.8632,0.8649,0.8666,0.8682,0.8698,0.8715,0.8731,0.8746,0.8762,0.8777,0.8793,0.8808,0.8823,0.8837,0.8852,0.8867,0.8881,0.8895,0.8909,0.8923,0.8937,0.8951,0.8964,0.8978,0.8991,0.9004,0.9017,0.903,0.9043,0.9056,0.9068,0.9081,0.9093,0.9105,0.9117,0.9129,0.914,0.9152,0.9163,0.9175,0.9186,0.9197,0.9208,0.9219,0.923,0.9241,0.9251,0.9262,0.9272,0.9282,0.9292,0.9302,0.9313,0.9322,0.9332,0.9342,0.9351,0.9361,0.937,0.9379,0.9389,0.9398,0.9407,0.9416,0.9424,0.9433,0.9442,0.9451,0.9459,0.9467,0.9476,0.9484,0.9492,0.95,0.9508,0.9516,0.9524,0.9532,0.954,0.9548,0.9555,0.9563,0.957,0.9578,0.9585,0.9592,0.96,0.9607,0.9614,0.9621,0.9628,0.9635,0.9641,0.9648,0.9655,0.9662,0.9668,0.9675,0.9681,0.9688,0.9694,0.97,0.9706,0.9713,0.9719,0.9725,0.9731,0.9736,0.9742,0.9748,0.9754,0.976,0.9765,0.9771,0.9776,0.9782,0.9787,0.9792,0.9798,0.9803,0.9808,0.9813,0.9818,0.9823,0.9828,0.9833,0.9838,0.9843,0.9848,0.9852,0.9857,0.9862,0.9866,0.9871,0.9875,0.988,0.9884,0.9889,0.9893,0.9897,0.9901,0.9905,0.991,0.9914,0.9918,0.9922,0.9926,0.9929,0.9933,0.9937,0.9941,0.9944,0.9948,0.9951,0.9955,0.9958,0.9962,0.9965,0.9968,0.9972,0.9975,0.9978,0.9981,0.9984,0.9987,0.999,0.9993,0.9995,0.9997,0.9999,1.0,1.0],\"yaxis\":\"y\",\"type\":\"scatter\"}],                        {\"template\":{\"data\":{\"bar\":[{\"error_x\":{\"color\":\"#2a3f5f\"},\"error_y\":{\"color\":\"#2a3f5f\"},\"marker\":{\"line\":{\"color\":\"#E5ECF6\",\"width\":0.5},\"pattern\":{\"fillmode\":\"overlay\",\"size\":10,\"solidity\":0.2}},\"type\":\"bar\"}],\"barpolar\":[{\"marker\":{\"line\":{\"color\":\"#E5ECF6\",\"width\":0.5},\"pattern\":{\"fillmode\":\"overlay\",\"size\":10,\"solidity\":0.2}},\"type\":\"barpolar\"}],\"carpet\":[{\"aaxis\":{\"endlinecolor\":\"#2a3f5f\",\"gridcolor\":\"white\",\"linecolor\":\"white\",\"minorgridcolor\":\"white\",\"startlinecolor\":\"#2a3f5f\"},\"baxis\":{\"endlinecolor\":\"#2a3f5f\",\"gridcolor\":\"white\",\"linecolor\":\"white\",\"minorgridcolor\":\"white\",\"startlinecolor\":\"#2a3f5f\"},\"type\":\"carpet\"}],\"choropleth\":[{\"colorbar\":{\"outlinewidth\":0,\"ticks\":\"\"},\"type\":\"choropleth\"}],\"contour\":[{\"colorbar\":{\"outlinewidth\":0,\"ticks\":\"\"},\"colorscale\":[[0.0,\"#0d0887\"],[0.1111111111111111,\"#46039f\"],[0.2222222222222222,\"#7201a8\"],[0.3333333333333333,\"#9c179e\"],[0.4444444444444444,\"#bd3786\"],[0.5555555555555556,\"#d8576b\"],[0.6666666666666666,\"#ed7953\"],[0.7777777777777778,\"#fb9f3a\"],[0.8888888888888888,\"#fdca26\"],[1.0,\"#f0f921\"]],\"type\":\"contour\"}],\"contourcarpet\":[{\"colorbar\":{\"outlinewidth\":0,\"ticks\":\"\"},\"type\":\"contourcarpet\"}],\"heatmap\":[{\"colorbar\":{\"outlinewidth\":0,\"ticks\":\"\"},\"colorscale\":[[0.0,\"#0d0887\"],[0.1111111111111111,\"#46039f\"],[0.2222222222222222,\"#7201a8\"],[0.3333333333333333,\"#9c179e\"],[0.4444444444444444,\"#bd3786\"],[0.5555555555555556,\"#d8576b\"],[0.6666666666666666,\"#ed7953\"],[0.7777777777777778,\"#fb9f3a\"],[0.8888888888888888,\"#fdca26\"],[1.0,\"#f0f921\"]],\"type\":\"heatmap\"}],\"heatmapgl\":[{\"colorbar\":{\"outlinewidth\":0,\"ticks\":\"\"},\"colorscale\":[[0.0,\"#0d0887\"],[0.1111111111111111,\"#46039f\"],[0.2222222222222222,\"#7201a8\"],[0.3333333333333333,\"#9c179e\"],[0.4444444444444444,\"#bd3786\"],[0.5555555555555556,\"#d8576b\"],[0.6666666666666666,\"#ed7953\"],[0.7777777777777778,\"#fb9f3a\"],[0.8888888888888888,\"#fdca26\"],[1.0,\"#f0f921\"]],\"type\":\"heatmapgl\"}],\"histogram\":[{\"marker\":{\"pattern\":{\"fillmode\":\"overlay\",\"size\":10,\"solidity\":0.2}},\"type\":\"histogram\"}],\"histogram2d\":[{\"colorbar\":{\"outlinewidth\":0,\"ticks\":\"\"},\"colorscale\":[[0.0,\"#0d0887\"],[0.1111111111111111,\"#46039f\"],[0.2222222222222222,\"#7201a8\"],[0.3333333333333333,\"#9c179e\"],[0.4444444444444444,\"#bd3786\"],[0.5555555555555556,\"#d8576b\"],[0.6666666666666666,\"#ed7953\"],[0.7777777777777778,\"#fb9f3a\"],[0.8888888888888888,\"#fdca26\"],[1.0,\"#f0f921\"]],\"type\":\"histogram2d\"}],\"histogram2dcontour\":[{\"colorbar\":{\"outlinewidth\":0,\"ticks\":\"\"},\"colorscale\":[[0.0,\"#0d0887\"],[0.1111111111111111,\"#46039f\"],[0.2222222222222222,\"#7201a8\"],[0.3333333333333333,\"#9c179e\"],[0.4444444444444444,\"#bd3786\"],[0.5555555555555556,\"#d8576b\"],[0.6666666666666666,\"#ed7953\"],[0.7777777777777778,\"#fb9f3a\"],[0.8888888888888888,\"#fdca26\"],[1.0,\"#f0f921\"]],\"type\":\"histogram2dcontour\"}],\"mesh3d\":[{\"colorbar\":{\"outlinewidth\":0,\"ticks\":\"\"},\"type\":\"mesh3d\"}],\"parcoords\":[{\"line\":{\"colorbar\":{\"outlinewidth\":0,\"ticks\":\"\"}},\"type\":\"parcoords\"}],\"pie\":[{\"automargin\":true,\"type\":\"pie\"}],\"scatter\":[{\"marker\":{\"colorbar\":{\"outlinewidth\":0,\"ticks\":\"\"}},\"type\":\"scatter\"}],\"scatter3d\":[{\"line\":{\"colorbar\":{\"outlinewidth\":0,\"ticks\":\"\"}},\"marker\":{\"colorbar\":{\"outlinewidth\":0,\"ticks\":\"\"}},\"type\":\"scatter3d\"}],\"scattercarpet\":[{\"marker\":{\"colorbar\":{\"outlinewidth\":0,\"ticks\":\"\"}},\"type\":\"scattercarpet\"}],\"scattergeo\":[{\"marker\":{\"colorbar\":{\"outlinewidth\":0,\"ticks\":\"\"}},\"type\":\"scattergeo\"}],\"scattergl\":[{\"marker\":{\"colorbar\":{\"outlinewidth\":0,\"ticks\":\"\"}},\"type\":\"scattergl\"}],\"scattermapbox\":[{\"marker\":{\"colorbar\":{\"outlinewidth\":0,\"ticks\":\"\"}},\"type\":\"scattermapbox\"}],\"scatterpolar\":[{\"marker\":{\"colorbar\":{\"outlinewidth\":0,\"ticks\":\"\"}},\"type\":\"scatterpolar\"}],\"scatterpolargl\":[{\"marker\":{\"colorbar\":{\"outlinewidth\":0,\"ticks\":\"\"}},\"type\":\"scatterpolargl\"}],\"scatterternary\":[{\"marker\":{\"colorbar\":{\"outlinewidth\":0,\"ticks\":\"\"}},\"type\":\"scatterternary\"}],\"surface\":[{\"colorbar\":{\"outlinewidth\":0,\"ticks\":\"\"},\"colorscale\":[[0.0,\"#0d0887\"],[0.1111111111111111,\"#46039f\"],[0.2222222222222222,\"#7201a8\"],[0.3333333333333333,\"#9c179e\"],[0.4444444444444444,\"#bd3786\"],[0.5555555555555556,\"#d8576b\"],[0.6666666666666666,\"#ed7953\"],[0.7777777777777778,\"#fb9f3a\"],[0.8888888888888888,\"#fdca26\"],[1.0,\"#f0f921\"]],\"type\":\"surface\"}],\"table\":[{\"cells\":{\"fill\":{\"color\":\"#EBF0F8\"},\"line\":{\"color\":\"white\"}},\"header\":{\"fill\":{\"color\":\"#C8D4E3\"},\"line\":{\"color\":\"white\"}},\"type\":\"table\"}]},\"layout\":{\"annotationdefaults\":{\"arrowcolor\":\"#2a3f5f\",\"arrowhead\":0,\"arrowwidth\":1},\"autotypenumbers\":\"strict\",\"coloraxis\":{\"colorbar\":{\"outlinewidth\":0,\"ticks\":\"\"}},\"colorscale\":{\"diverging\":[[0,\"#8e0152\"],[0.1,\"#c51b7d\"],[0.2,\"#de77ae\"],[0.3,\"#f1b6da\"],[0.4,\"#fde0ef\"],[0.5,\"#f7f7f7\"],[0.6,\"#e6f5d0\"],[0.7,\"#b8e186\"],[0.8,\"#7fbc41\"],[0.9,\"#4d9221\"],[1,\"#276419\"]],\"sequential\":[[0.0,\"#0d0887\"],[0.1111111111111111,\"#46039f\"],[0.2222222222222222,\"#7201a8\"],[0.3333333333333333,\"#9c179e\"],[0.4444444444444444,\"#bd3786\"],[0.5555555555555556,\"#d8576b\"],[0.6666666666666666,\"#ed7953\"],[0.7777777777777778,\"#fb9f3a\"],[0.8888888888888888,\"#fdca26\"],[1.0,\"#f0f921\"]],\"sequentialminus\":[[0.0,\"#0d0887\"],[0.1111111111111111,\"#46039f\"],[0.2222222222222222,\"#7201a8\"],[0.3333333333333333,\"#9c179e\"],[0.4444444444444444,\"#bd3786\"],[0.5555555555555556,\"#d8576b\"],[0.6666666666666666,\"#ed7953\"],[0.7777777777777778,\"#fb9f3a\"],[0.8888888888888888,\"#fdca26\"],[1.0,\"#f0f921\"]]},\"colorway\":[\"#636efa\",\"#EF553B\",\"#00cc96\",\"#ab63fa\",\"#FFA15A\",\"#19d3f3\",\"#FF6692\",\"#B6E880\",\"#FF97FF\",\"#FECB52\"],\"font\":{\"color\":\"#2a3f5f\"},\"geo\":{\"bgcolor\":\"white\",\"lakecolor\":\"white\",\"landcolor\":\"#E5ECF6\",\"showlakes\":true,\"showland\":true,\"subunitcolor\":\"white\"},\"hoverlabel\":{\"align\":\"left\"},\"hovermode\":\"closest\",\"mapbox\":{\"style\":\"light\"},\"paper_bgcolor\":\"white\",\"plot_bgcolor\":\"#E5ECF6\",\"polar\":{\"angularaxis\":{\"gridcolor\":\"white\",\"linecolor\":\"white\",\"ticks\":\"\"},\"bgcolor\":\"#E5ECF6\",\"radialaxis\":{\"gridcolor\":\"white\",\"linecolor\":\"white\",\"ticks\":\"\"}},\"scene\":{\"xaxis\":{\"backgroundcolor\":\"#E5ECF6\",\"gridcolor\":\"white\",\"gridwidth\":2,\"linecolor\":\"white\",\"showbackground\":true,\"ticks\":\"\",\"zerolinecolor\":\"white\"},\"yaxis\":{\"backgroundcolor\":\"#E5ECF6\",\"gridcolor\":\"white\",\"gridwidth\":2,\"linecolor\":\"white\",\"showbackground\":true,\"ticks\":\"\",\"zerolinecolor\":\"white\"},\"zaxis\":{\"backgroundcolor\":\"#E5ECF6\",\"gridcolor\":\"white\",\"gridwidth\":2,\"linecolor\":\"white\",\"showbackground\":true,\"ticks\":\"\",\"zerolinecolor\":\"white\"}},\"shapedefaults\":{\"line\":{\"color\":\"#2a3f5f\"}},\"ternary\":{\"aaxis\":{\"gridcolor\":\"white\",\"linecolor\":\"white\",\"ticks\":\"\"},\"baxis\":{\"gridcolor\":\"white\",\"linecolor\":\"white\",\"ticks\":\"\"},\"bgcolor\":\"#E5ECF6\",\"caxis\":{\"gridcolor\":\"white\",\"linecolor\":\"white\",\"ticks\":\"\"}},\"title\":{\"x\":0.05},\"xaxis\":{\"automargin\":true,\"gridcolor\":\"white\",\"linecolor\":\"white\",\"ticks\":\"\",\"title\":{\"standoff\":15},\"zerolinecolor\":\"white\",\"zerolinewidth\":2},\"yaxis\":{\"automargin\":true,\"gridcolor\":\"white\",\"linecolor\":\"white\",\"ticks\":\"\",\"title\":{\"standoff\":15},\"zerolinecolor\":\"white\",\"zerolinewidth\":2}}},\"xaxis\":{\"anchor\":\"y\",\"domain\":[0.0,1.0],\"title\":{\"text\":\"# Components\"}},\"yaxis\":{\"anchor\":\"x\",\"domain\":[0.0,1.0],\"title\":{\"text\":\"Cumulative Explained Variance\"}},\"legend\":{\"tracegroupgap\":0},\"title\":{\"text\":\"# of components V.S. variance\"}},                        {\"responsive\": true}                    ).then(function(){\n",
              "                            \n",
              "var gd = document.getElementById('2739a326-9209-4ff9-89a2-048de024d3d8');\n",
              "var x = new MutationObserver(function (mutations, observer) {{\n",
              "        var display = window.getComputedStyle(gd).display;\n",
              "        if (!display || display === 'none') {{\n",
              "            console.log([gd, 'removed!']);\n",
              "            Plotly.purge(gd);\n",
              "            observer.disconnect();\n",
              "        }}\n",
              "}});\n",
              "\n",
              "// Listen for the removal of the full notebook cells\n",
              "var notebookContainer = gd.closest('#notebook-container');\n",
              "if (notebookContainer) {{\n",
              "    x.observe(notebookContainer, {childList: true});\n",
              "}}\n",
              "\n",
              "// Listen for the clearing of the current output cell\n",
              "var outputEl = gd.closest('.output');\n",
              "if (outputEl) {{\n",
              "    x.observe(outputEl, {childList: true});\n",
              "}}\n",
              "\n",
              "                        })                };                            </script>        </div>\n",
              "</body>\n",
              "</html>"
            ]
          },
          "metadata": {}
        },
        {
          "output_type": "stream",
          "name": "stdout",
          "text": [
            "time: 82.6 ms (started: 2022-05-10 02:54:15 +00:00)\n"
          ]
        }
      ],
      "source": [
        "fig = px.line(\n",
        "    x=num_comp,\n",
        "    y=exp_var_cumul_round,\n",
        "    labels={\"x\": \"# Components\", \"y\": \"Cumulative Explained Variance\"},\n",
        "    title = \"# of components V.S. variance\",\n",
        "    # markers=True\n",
        ")\n",
        "\n",
        "fig.show()"
      ]
    },
    {
      "cell_type": "code",
      "execution_count": null,
      "metadata": {
        "colab": {
          "base_uri": "https://localhost:8080/",
          "height": 559
        },
        "id": "WaPZHO4pZQDF",
        "outputId": "8c9187b1-26d8-4fbc-ab8a-1fcf0ab38397"
      },
      "outputs": [
        {
          "output_type": "display_data",
          "data": {
            "text/html": [
              "<html>\n",
              "<head><meta charset=\"utf-8\" /></head>\n",
              "<body>\n",
              "    <div>            <script src=\"https://cdnjs.cloudflare.com/ajax/libs/mathjax/2.7.5/MathJax.js?config=TeX-AMS-MML_SVG\"></script><script type=\"text/javascript\">if (window.MathJax) {MathJax.Hub.Config({SVG: {font: \"STIX-Web\"}});}</script>                <script type=\"text/javascript\">window.PlotlyConfig = {MathJaxConfig: 'local'};</script>\n",
              "        <script src=\"https://cdn.plot.ly/plotly-2.8.3.min.js\"></script>                <div id=\"ceea134c-1ca6-4134-86f1-cfff2c37db68\" class=\"plotly-graph-div\" style=\"height:525px; width:100%;\"></div>            <script type=\"text/javascript\">                                    window.PLOTLYENV=window.PLOTLYENV || {};                                    if (document.getElementById(\"ceea134c-1ca6-4134-86f1-cfff2c37db68\")) {                    Plotly.newPlot(                        \"ceea134c-1ca6-4134-86f1-cfff2c37db68\",                        [{\"alignmentgroup\":\"True\",\"hovertemplate\":\"# Components=%{x}<br>% of Explained Variance=%{y}<extra></extra>\",\"legendgroup\":\"\",\"marker\":{\"color\":\"#636efa\",\"pattern\":{\"shape\":\"\"}},\"name\":\"\",\"offsetgroup\":\"\",\"orientation\":\"v\",\"showlegend\":false,\"textposition\":\"auto\",\"x\":[1,2,3,4,5,6,7,8,9,10,11,12,13,14,15,16,17,18,19,20,21,22,23,24,25,26,27,28,29,30,31,32,33,34,35,36,37,38,39,40,41,42,43,44,45,46,47,48,49,50,51,52,53,54,55,56,57,58,59,60,61,62,63,64,65,66,67,68,69,70,71,72,73,74,75,76,77,78,79,80,81,82,83,84,85,86,87,88,89,90,91,92,93,94,95,96,97,98,99,100,101,102,103,104,105,106,107,108,109,110,111,112,113,114,115,116,117,118,119,120,121,122,123,124,125,126,127,128,129,130,131,132,133,134,135,136,137,138,139,140,141,142,143,144,145,146,147,148,149,150,151,152,153,154,155,156,157,158,159,160,161,162,163,164,165,166,167,168,169,170,171,172,173,174,175,176,177,178,179,180,181,182,183,184,185,186,187,188,189,190,191,192,193,194,195,196,197,198,199,200,201,202,203,204,205,206,207,208,209,210,211,212,213,214,215,216,217,218,219,220,221,222,223,224,225,226,227,228,229,230,231,232,233,234,235,236,237,238,239,240,241,242,243,244,245,246,247,248,249,250,251,252,253,254,255,256,257,258,259,260,261,262,263,264,265,266,267,268,269,270,271,272,273,274,275,276,277,278,279],\"xaxis\":\"x\",\"y\":[18.0,4.5,4.4,3.5,2.7,2.5,2.2,1.8,1.6,1.5,1.5,1.3,1.3,1.2,1.2,1.1,1.1,1.0,1.0,0.9,0.9,0.8,0.8,0.8,0.7,0.7,0.7,0.7,0.7,0.6,0.6,0.6,0.6,0.6,0.6,0.5,0.5,0.5,0.5,0.5,0.5,0.5,0.5,0.4,0.4,0.4,0.4,0.4,0.4,0.4,0.4,0.4,0.4,0.4,0.4,0.4,0.4,0.3,0.3,0.3,0.3,0.3,0.3,0.3,0.3,0.3,0.3,0.3,0.3,0.3,0.3,0.3,0.3,0.3,0.3,0.3,0.3,0.3,0.3,0.2,0.2,0.2,0.2,0.2,0.2,0.2,0.2,0.2,0.2,0.2,0.2,0.2,0.2,0.2,0.2,0.2,0.2,0.2,0.2,0.2,0.2,0.2,0.2,0.2,0.2,0.2,0.2,0.2,0.2,0.2,0.2,0.2,0.2,0.2,0.2,0.2,0.2,0.2,0.2,0.1,0.1,0.1,0.1,0.1,0.1,0.1,0.1,0.1,0.1,0.1,0.1,0.1,0.1,0.1,0.1,0.1,0.1,0.1,0.1,0.1,0.1,0.1,0.1,0.1,0.1,0.1,0.1,0.1,0.1,0.1,0.1,0.1,0.1,0.1,0.1,0.1,0.1,0.1,0.1,0.1,0.1,0.1,0.1,0.1,0.1,0.1,0.1,0.1,0.1,0.1,0.1,0.1,0.1,0.1,0.1,0.1,0.1,0.1,0.1,0.1,0.1,0.1,0.1,0.1,0.1,0.1,0.1,0.1,0.1,0.1,0.1,0.1,0.1,0.1,0.1,0.1,0.1,0.1,0.1,0.1,0.1,0.1,0.1,0.1,0.1,0.1,0.1,0.1,0.1,0.1,0.1,0.1,0.1,0.1,0.1,0.1,0.1,0.1,0.1,0.1,0.1,0.1,0.1,0.1,0.1,0.1,0.1,0.1,0.1,0.1,0.0,0.0,0.0,0.0,0.0,0.0,0.0,0.0,0.0,0.0,0.0,0.0,0.0,0.0,0.0,0.0,0.0,0.0,0.0,0.0,0.0,0.0,0.0,0.0,0.0,0.0,0.0,0.0,0.0,0.0,0.0,0.0,0.0,0.0,0.0,0.0,0.0,0.0,0.0,0.0,0.0,0.0,0.0,0.0,0.0,0.0,0.0,0.0,0.0],\"yaxis\":\"y\",\"type\":\"bar\"}],                        {\"template\":{\"data\":{\"bar\":[{\"error_x\":{\"color\":\"#2a3f5f\"},\"error_y\":{\"color\":\"#2a3f5f\"},\"marker\":{\"line\":{\"color\":\"#E5ECF6\",\"width\":0.5},\"pattern\":{\"fillmode\":\"overlay\",\"size\":10,\"solidity\":0.2}},\"type\":\"bar\"}],\"barpolar\":[{\"marker\":{\"line\":{\"color\":\"#E5ECF6\",\"width\":0.5},\"pattern\":{\"fillmode\":\"overlay\",\"size\":10,\"solidity\":0.2}},\"type\":\"barpolar\"}],\"carpet\":[{\"aaxis\":{\"endlinecolor\":\"#2a3f5f\",\"gridcolor\":\"white\",\"linecolor\":\"white\",\"minorgridcolor\":\"white\",\"startlinecolor\":\"#2a3f5f\"},\"baxis\":{\"endlinecolor\":\"#2a3f5f\",\"gridcolor\":\"white\",\"linecolor\":\"white\",\"minorgridcolor\":\"white\",\"startlinecolor\":\"#2a3f5f\"},\"type\":\"carpet\"}],\"choropleth\":[{\"colorbar\":{\"outlinewidth\":0,\"ticks\":\"\"},\"type\":\"choropleth\"}],\"contour\":[{\"colorbar\":{\"outlinewidth\":0,\"ticks\":\"\"},\"colorscale\":[[0.0,\"#0d0887\"],[0.1111111111111111,\"#46039f\"],[0.2222222222222222,\"#7201a8\"],[0.3333333333333333,\"#9c179e\"],[0.4444444444444444,\"#bd3786\"],[0.5555555555555556,\"#d8576b\"],[0.6666666666666666,\"#ed7953\"],[0.7777777777777778,\"#fb9f3a\"],[0.8888888888888888,\"#fdca26\"],[1.0,\"#f0f921\"]],\"type\":\"contour\"}],\"contourcarpet\":[{\"colorbar\":{\"outlinewidth\":0,\"ticks\":\"\"},\"type\":\"contourcarpet\"}],\"heatmap\":[{\"colorbar\":{\"outlinewidth\":0,\"ticks\":\"\"},\"colorscale\":[[0.0,\"#0d0887\"],[0.1111111111111111,\"#46039f\"],[0.2222222222222222,\"#7201a8\"],[0.3333333333333333,\"#9c179e\"],[0.4444444444444444,\"#bd3786\"],[0.5555555555555556,\"#d8576b\"],[0.6666666666666666,\"#ed7953\"],[0.7777777777777778,\"#fb9f3a\"],[0.8888888888888888,\"#fdca26\"],[1.0,\"#f0f921\"]],\"type\":\"heatmap\"}],\"heatmapgl\":[{\"colorbar\":{\"outlinewidth\":0,\"ticks\":\"\"},\"colorscale\":[[0.0,\"#0d0887\"],[0.1111111111111111,\"#46039f\"],[0.2222222222222222,\"#7201a8\"],[0.3333333333333333,\"#9c179e\"],[0.4444444444444444,\"#bd3786\"],[0.5555555555555556,\"#d8576b\"],[0.6666666666666666,\"#ed7953\"],[0.7777777777777778,\"#fb9f3a\"],[0.8888888888888888,\"#fdca26\"],[1.0,\"#f0f921\"]],\"type\":\"heatmapgl\"}],\"histogram\":[{\"marker\":{\"pattern\":{\"fillmode\":\"overlay\",\"size\":10,\"solidity\":0.2}},\"type\":\"histogram\"}],\"histogram2d\":[{\"colorbar\":{\"outlinewidth\":0,\"ticks\":\"\"},\"colorscale\":[[0.0,\"#0d0887\"],[0.1111111111111111,\"#46039f\"],[0.2222222222222222,\"#7201a8\"],[0.3333333333333333,\"#9c179e\"],[0.4444444444444444,\"#bd3786\"],[0.5555555555555556,\"#d8576b\"],[0.6666666666666666,\"#ed7953\"],[0.7777777777777778,\"#fb9f3a\"],[0.8888888888888888,\"#fdca26\"],[1.0,\"#f0f921\"]],\"type\":\"histogram2d\"}],\"histogram2dcontour\":[{\"colorbar\":{\"outlinewidth\":0,\"ticks\":\"\"},\"colorscale\":[[0.0,\"#0d0887\"],[0.1111111111111111,\"#46039f\"],[0.2222222222222222,\"#7201a8\"],[0.3333333333333333,\"#9c179e\"],[0.4444444444444444,\"#bd3786\"],[0.5555555555555556,\"#d8576b\"],[0.6666666666666666,\"#ed7953\"],[0.7777777777777778,\"#fb9f3a\"],[0.8888888888888888,\"#fdca26\"],[1.0,\"#f0f921\"]],\"type\":\"histogram2dcontour\"}],\"mesh3d\":[{\"colorbar\":{\"outlinewidth\":0,\"ticks\":\"\"},\"type\":\"mesh3d\"}],\"parcoords\":[{\"line\":{\"colorbar\":{\"outlinewidth\":0,\"ticks\":\"\"}},\"type\":\"parcoords\"}],\"pie\":[{\"automargin\":true,\"type\":\"pie\"}],\"scatter\":[{\"marker\":{\"colorbar\":{\"outlinewidth\":0,\"ticks\":\"\"}},\"type\":\"scatter\"}],\"scatter3d\":[{\"line\":{\"colorbar\":{\"outlinewidth\":0,\"ticks\":\"\"}},\"marker\":{\"colorbar\":{\"outlinewidth\":0,\"ticks\":\"\"}},\"type\":\"scatter3d\"}],\"scattercarpet\":[{\"marker\":{\"colorbar\":{\"outlinewidth\":0,\"ticks\":\"\"}},\"type\":\"scattercarpet\"}],\"scattergeo\":[{\"marker\":{\"colorbar\":{\"outlinewidth\":0,\"ticks\":\"\"}},\"type\":\"scattergeo\"}],\"scattergl\":[{\"marker\":{\"colorbar\":{\"outlinewidth\":0,\"ticks\":\"\"}},\"type\":\"scattergl\"}],\"scattermapbox\":[{\"marker\":{\"colorbar\":{\"outlinewidth\":0,\"ticks\":\"\"}},\"type\":\"scattermapbox\"}],\"scatterpolar\":[{\"marker\":{\"colorbar\":{\"outlinewidth\":0,\"ticks\":\"\"}},\"type\":\"scatterpolar\"}],\"scatterpolargl\":[{\"marker\":{\"colorbar\":{\"outlinewidth\":0,\"ticks\":\"\"}},\"type\":\"scatterpolargl\"}],\"scatterternary\":[{\"marker\":{\"colorbar\":{\"outlinewidth\":0,\"ticks\":\"\"}},\"type\":\"scatterternary\"}],\"surface\":[{\"colorbar\":{\"outlinewidth\":0,\"ticks\":\"\"},\"colorscale\":[[0.0,\"#0d0887\"],[0.1111111111111111,\"#46039f\"],[0.2222222222222222,\"#7201a8\"],[0.3333333333333333,\"#9c179e\"],[0.4444444444444444,\"#bd3786\"],[0.5555555555555556,\"#d8576b\"],[0.6666666666666666,\"#ed7953\"],[0.7777777777777778,\"#fb9f3a\"],[0.8888888888888888,\"#fdca26\"],[1.0,\"#f0f921\"]],\"type\":\"surface\"}],\"table\":[{\"cells\":{\"fill\":{\"color\":\"#EBF0F8\"},\"line\":{\"color\":\"white\"}},\"header\":{\"fill\":{\"color\":\"#C8D4E3\"},\"line\":{\"color\":\"white\"}},\"type\":\"table\"}]},\"layout\":{\"annotationdefaults\":{\"arrowcolor\":\"#2a3f5f\",\"arrowhead\":0,\"arrowwidth\":1},\"autotypenumbers\":\"strict\",\"coloraxis\":{\"colorbar\":{\"outlinewidth\":0,\"ticks\":\"\"}},\"colorscale\":{\"diverging\":[[0,\"#8e0152\"],[0.1,\"#c51b7d\"],[0.2,\"#de77ae\"],[0.3,\"#f1b6da\"],[0.4,\"#fde0ef\"],[0.5,\"#f7f7f7\"],[0.6,\"#e6f5d0\"],[0.7,\"#b8e186\"],[0.8,\"#7fbc41\"],[0.9,\"#4d9221\"],[1,\"#276419\"]],\"sequential\":[[0.0,\"#0d0887\"],[0.1111111111111111,\"#46039f\"],[0.2222222222222222,\"#7201a8\"],[0.3333333333333333,\"#9c179e\"],[0.4444444444444444,\"#bd3786\"],[0.5555555555555556,\"#d8576b\"],[0.6666666666666666,\"#ed7953\"],[0.7777777777777778,\"#fb9f3a\"],[0.8888888888888888,\"#fdca26\"],[1.0,\"#f0f921\"]],\"sequentialminus\":[[0.0,\"#0d0887\"],[0.1111111111111111,\"#46039f\"],[0.2222222222222222,\"#7201a8\"],[0.3333333333333333,\"#9c179e\"],[0.4444444444444444,\"#bd3786\"],[0.5555555555555556,\"#d8576b\"],[0.6666666666666666,\"#ed7953\"],[0.7777777777777778,\"#fb9f3a\"],[0.8888888888888888,\"#fdca26\"],[1.0,\"#f0f921\"]]},\"colorway\":[\"#636efa\",\"#EF553B\",\"#00cc96\",\"#ab63fa\",\"#FFA15A\",\"#19d3f3\",\"#FF6692\",\"#B6E880\",\"#FF97FF\",\"#FECB52\"],\"font\":{\"color\":\"#2a3f5f\"},\"geo\":{\"bgcolor\":\"white\",\"lakecolor\":\"white\",\"landcolor\":\"#E5ECF6\",\"showlakes\":true,\"showland\":true,\"subunitcolor\":\"white\"},\"hoverlabel\":{\"align\":\"left\"},\"hovermode\":\"closest\",\"mapbox\":{\"style\":\"light\"},\"paper_bgcolor\":\"white\",\"plot_bgcolor\":\"#E5ECF6\",\"polar\":{\"angularaxis\":{\"gridcolor\":\"white\",\"linecolor\":\"white\",\"ticks\":\"\"},\"bgcolor\":\"#E5ECF6\",\"radialaxis\":{\"gridcolor\":\"white\",\"linecolor\":\"white\",\"ticks\":\"\"}},\"scene\":{\"xaxis\":{\"backgroundcolor\":\"#E5ECF6\",\"gridcolor\":\"white\",\"gridwidth\":2,\"linecolor\":\"white\",\"showbackground\":true,\"ticks\":\"\",\"zerolinecolor\":\"white\"},\"yaxis\":{\"backgroundcolor\":\"#E5ECF6\",\"gridcolor\":\"white\",\"gridwidth\":2,\"linecolor\":\"white\",\"showbackground\":true,\"ticks\":\"\",\"zerolinecolor\":\"white\"},\"zaxis\":{\"backgroundcolor\":\"#E5ECF6\",\"gridcolor\":\"white\",\"gridwidth\":2,\"linecolor\":\"white\",\"showbackground\":true,\"ticks\":\"\",\"zerolinecolor\":\"white\"}},\"shapedefaults\":{\"line\":{\"color\":\"#2a3f5f\"}},\"ternary\":{\"aaxis\":{\"gridcolor\":\"white\",\"linecolor\":\"white\",\"ticks\":\"\"},\"baxis\":{\"gridcolor\":\"white\",\"linecolor\":\"white\",\"ticks\":\"\"},\"bgcolor\":\"#E5ECF6\",\"caxis\":{\"gridcolor\":\"white\",\"linecolor\":\"white\",\"ticks\":\"\"}},\"title\":{\"x\":0.05},\"xaxis\":{\"automargin\":true,\"gridcolor\":\"white\",\"linecolor\":\"white\",\"ticks\":\"\",\"title\":{\"standoff\":15},\"zerolinecolor\":\"white\",\"zerolinewidth\":2},\"yaxis\":{\"automargin\":true,\"gridcolor\":\"white\",\"linecolor\":\"white\",\"ticks\":\"\",\"title\":{\"standoff\":15},\"zerolinecolor\":\"white\",\"zerolinewidth\":2}}},\"xaxis\":{\"anchor\":\"y\",\"domain\":[0.0,1.0],\"title\":{\"text\":\"# Components\"}},\"yaxis\":{\"anchor\":\"x\",\"domain\":[0.0,1.0],\"title\":{\"text\":\"% of Explained Variance\"}},\"legend\":{\"tracegroupgap\":0},\"title\":{\"text\":\"Scree Plot of # of components and % of explained variance\"},\"barmode\":\"relative\"},                        {\"responsive\": true}                    ).then(function(){\n",
              "                            \n",
              "var gd = document.getElementById('ceea134c-1ca6-4134-86f1-cfff2c37db68');\n",
              "var x = new MutationObserver(function (mutations, observer) {{\n",
              "        var display = window.getComputedStyle(gd).display;\n",
              "        if (!display || display === 'none') {{\n",
              "            console.log([gd, 'removed!']);\n",
              "            Plotly.purge(gd);\n",
              "            observer.disconnect();\n",
              "        }}\n",
              "}});\n",
              "\n",
              "// Listen for the removal of the full notebook cells\n",
              "var notebookContainer = gd.closest('#notebook-container');\n",
              "if (notebookContainer) {{\n",
              "    x.observe(notebookContainer, {childList: true});\n",
              "}}\n",
              "\n",
              "// Listen for the clearing of the current output cell\n",
              "var outputEl = gd.closest('.output');\n",
              "if (outputEl) {{\n",
              "    x.observe(outputEl, {childList: true});\n",
              "}}\n",
              "\n",
              "                        })                };                            </script>        </div>\n",
              "</body>\n",
              "</html>"
            ]
          },
          "metadata": {}
        },
        {
          "output_type": "stream",
          "name": "stdout",
          "text": [
            "time: 52.1 ms (started: 2022-05-10 02:54:15 +00:00)\n"
          ]
        }
      ],
      "source": [
        "per_var = np.round(pca.explained_variance_ratio_* 100, decimals=1)\n",
        "labels = ['PC' + str(x) for x in range(1, len(per_var)+1)]\n",
        "\n",
        "fig = px.bar(\n",
        "    x=range(1,len(per_var)+1), \n",
        "    y=per_var, \n",
        "    title='Scree Plot of # of components and % of explained variance',\n",
        "    labels={\"x\": \"# Components\", \"y\": \"% of Explained Variance\"},\n",
        ")\n",
        "fig.show()"
      ]
    },
    {
      "cell_type": "markdown",
      "source": [
        "### Selected variance listing"
      ],
      "metadata": {
        "id": "q5AFBXJP_r3G"
      }
    },
    {
      "cell_type": "markdown",
      "metadata": {
        "id": "zxE568q7F1k6"
      },
      "source": [
        "Here we are going to select a list of different variance to experiment how the % of the variance would impact the model's accuracy.\n",
        "\n",
        "Here, we are selecting 70%, 80%, 90%, 95%, 97%, 99%, and 100% variance for PCA."
      ]
    },
    {
      "cell_type": "code",
      "execution_count": null,
      "metadata": {
        "colab": {
          "base_uri": "https://localhost:8080/"
        },
        "id": "9-j45GuABc7w",
        "outputId": "cd720bfa-3997-4524-fa44-9d040a22f168"
      },
      "outputs": [
        {
          "output_type": "stream",
          "name": "stdout",
          "text": [
            "time: 5.57 ms (started: 2022-05-10 02:54:15 +00:00)\n"
          ]
        }
      ],
      "source": [
        "# a list of variance to experiment\n",
        "selected_exp_var = [0.7, 0.8, 0.9, 0.95, 0.97, 0.99, 1.0]\n",
        "selected_num_comp = [46, 77, 131, 179, 206, 245, 275]\n",
        "# selected_num_comp = list()\n",
        "\n",
        "# # loop through the two list to find the cooresponding \n",
        "# #cumulative variance and # of comp\n",
        "# for i in range(len(exp_var_cumul_round)):\n",
        "#   for j in range(len(selected_exp_var)):\n",
        "#     if exp_var_cumul_round[i] == selected_exp_var[j]:\n",
        "#       selected_num_comp.append(num_comp[i])\n",
        "\n",
        "# # we have to trim the extra 1.0 (aka 100% variance) since we round\n",
        "# # the variance into 2 decimal. Then we add the variance of 100%, \n",
        "# # which is 275 # of comp.\n",
        "# selected_num_comp = selected_num_comp[:len(selected_exp_var)-1]\n",
        "# selected_num_comp.append(275)"
      ]
    },
    {
      "cell_type": "code",
      "execution_count": null,
      "metadata": {
        "colab": {
          "base_uri": "https://localhost:8080/"
        },
        "id": "4NUEMXyf9ymo",
        "outputId": "e451f3aa-0128-46cc-8b7b-c0b3faebc257"
      },
      "outputs": [
        {
          "output_type": "execute_result",
          "data": {
            "text/plain": [
              "[46, 77, 131, 179, 206, 245, 275]"
            ]
          },
          "metadata": {},
          "execution_count": 208
        },
        {
          "output_type": "stream",
          "name": "stdout",
          "text": [
            "time: 5.42 ms (started: 2022-05-02 04:05:12 +00:00)\n"
          ]
        }
      ],
      "source": [
        "# a list of # of comp that we are going to experiment\n",
        "selected_num_comp"
      ]
    },
    {
      "cell_type": "markdown",
      "metadata": {
        "id": "JAd6So6Zre1m"
      },
      "source": [
        "## Standardization"
      ]
    },
    {
      "cell_type": "code",
      "execution_count": null,
      "metadata": {
        "colab": {
          "base_uri": "https://localhost:8080/"
        },
        "id": "WIQUYGGaWF86",
        "outputId": "cecc9923-49b9-4d4c-d3cb-c8a592818d52"
      },
      "outputs": [
        {
          "output_type": "stream",
          "name": "stdout",
          "text": [
            "time: 9.29 ms (started: 2022-05-10 02:54:15 +00:00)\n"
          ]
        }
      ],
      "source": [
        "# from sklearn import preprocessing\n",
        "from sklearn.preprocessing import StandardScaler\n",
        "\n",
        "# x_train_sc = preprocessing.scale(np.array(x_train))\n",
        "# x_test_sc = preprocessing.scale(np.array(x_test))\n",
        "\n",
        "# x_train_sc = np.divide(np.array(x_train), 255.0)\n",
        "# x_test_sc = np.divide(np.array(x_test), 255.0)\n",
        "\n",
        "# x_train_sc = preprocessing.scale(np.array(x_train).T)\n",
        "# x_test_sc = preprocessing.scale(np.array(x_test).T)\n",
        "\n",
        "sc = StandardScaler()\n",
        "\n",
        "x_train_sc = sc.fit_transform(np.array(x_train_pca))\n",
        "x_test_sc = sc.transform(np.array(x_test_pca))"
      ]
    },
    {
      "cell_type": "code",
      "execution_count": null,
      "metadata": {
        "colab": {
          "base_uri": "https://localhost:8080/"
        },
        "id": "QtNq4SCcbKlV",
        "outputId": "eeeaca77-299b-4dfb-f1f0-1de39d7a3f51"
      },
      "outputs": [
        {
          "output_type": "execute_result",
          "data": {
            "text/plain": [
              "(279, 279)"
            ]
          },
          "metadata": {},
          "execution_count": 210
        },
        {
          "output_type": "stream",
          "name": "stdout",
          "text": [
            "time: 4.14 ms (started: 2022-05-02 04:05:12 +00:00)\n"
          ]
        }
      ],
      "source": [
        "np.array(x_train_pca).shape"
      ]
    },
    {
      "cell_type": "code",
      "execution_count": null,
      "metadata": {
        "id": "qIAuCcMJWSUI",
        "colab": {
          "base_uri": "https://localhost:8080/"
        },
        "outputId": "e4c6dad6-2377-4976-b86e-b99e274f833c"
      },
      "outputs": [
        {
          "output_type": "stream",
          "name": "stdout",
          "text": [
            "time: 2 ms (started: 2022-05-02 04:05:12 +00:00)\n"
          ]
        }
      ],
      "source": [
        "# x_train_pca"
      ]
    },
    {
      "cell_type": "code",
      "execution_count": null,
      "metadata": {
        "colab": {
          "base_uri": "https://localhost:8080/"
        },
        "id": "rAgS8fxiWbey",
        "outputId": "5e8a4860-4011-421e-d499-bfe09967d69d"
      },
      "outputs": [
        {
          "output_type": "stream",
          "name": "stdout",
          "text": [
            "time: 545 µs (started: 2022-05-02 04:05:12 +00:00)\n"
          ]
        }
      ],
      "source": [
        "# x_train_sc"
      ]
    },
    {
      "cell_type": "code",
      "source": [
        "# x_test_pca"
      ],
      "metadata": {
        "colab": {
          "base_uri": "https://localhost:8080/"
        },
        "id": "JbsYCBLI_oAu",
        "outputId": "20caf57b-7017-4954-83d4-9b61e68e38db"
      },
      "execution_count": null,
      "outputs": [
        {
          "output_type": "stream",
          "name": "stdout",
          "text": [
            "time: 535 µs (started: 2022-05-02 04:05:12 +00:00)\n"
          ]
        }
      ]
    },
    {
      "cell_type": "code",
      "execution_count": null,
      "metadata": {
        "colab": {
          "base_uri": "https://localhost:8080/"
        },
        "id": "7nw7kJ6KYHf2",
        "outputId": "c8789227-b22a-4ac2-eb13-5dab8ac61791"
      },
      "outputs": [
        {
          "output_type": "stream",
          "name": "stdout",
          "text": [
            "time: 624 µs (started: 2022-05-02 04:05:12 +00:00)\n"
          ]
        }
      ],
      "source": [
        "# x_test_sc"
      ]
    },
    {
      "cell_type": "code",
      "execution_count": null,
      "metadata": {
        "colab": {
          "base_uri": "https://localhost:8080/"
        },
        "id": "J6C1kVry4VM1",
        "outputId": "2eb42fa7-594d-4900-fc72-7a7185d74a11"
      },
      "outputs": [
        {
          "output_type": "stream",
          "name": "stdout",
          "text": [
            "time: 1.52 ms (started: 2022-05-02 04:05:12 +00:00)\n"
          ]
        }
      ],
      "source": [
        "# x_train = np.divide(x_train, 255)\n",
        "# x_test = np.divide(x_test, 255)\n",
        "\n",
        "# x_mean = x_train.mean(axis=0)\n",
        "\n",
        "# x_train_nm = x_train - x_mean\n",
        "# x_test_nm = x_test - x_mean\n",
        "\n",
        "# x_mean\n",
        "\n",
        "# x_train_nm[0]"
      ]
    },
    {
      "cell_type": "code",
      "execution_count": null,
      "metadata": {
        "colab": {
          "base_uri": "https://localhost:8080/"
        },
        "id": "jon4MQ3bg8r_",
        "outputId": "5c282ddd-2afc-43bd-e8fc-24fef9d559a7"
      },
      "outputs": [
        {
          "output_type": "execute_result",
          "data": {
            "text/plain": [
              "(279, 279)"
            ]
          },
          "metadata": {},
          "execution_count": 216
        },
        {
          "output_type": "stream",
          "name": "stdout",
          "text": [
            "time: 6.45 ms (started: 2022-05-02 04:05:12 +00:00)\n"
          ]
        }
      ],
      "source": [
        "x_train_sc.shape"
      ]
    },
    {
      "cell_type": "code",
      "execution_count": null,
      "metadata": {
        "id": "95HmQ_bUXo74"
      },
      "outputs": [],
      "source": [
        "header = [\"PCA\"+str(i) for i in range(1, x_train_pca.shape[1] + 1)]\n",
        "x_train_df = pd.DataFrame(x_train_sc, columns=header)\n",
        "x_train_df['class'] = y_train\n",
        "\n",
        "# x_train_df"
      ]
    },
    {
      "cell_type": "markdown",
      "metadata": {
        "id": "F0cM2xbgKi5E"
      },
      "source": [
        "## Local Binary Patterns (LBP)\n",
        "\n",
        "Intuitive:\n",
        "* https://pyimagesearch.com/2015/12/07/local-binary-patterns-with-python-opencv/\n",
        "* https://github.com/arsho/local_binary_patterns/blob/master/lbp.py\n",
        "* https://www.sciencedirect.com/science/article/abs/pii/S0262885612000066\n",
        "\n",
        "As the authors from \"Extended local binary patterns for texture classification\" sugguested, a combination of p and r values to try could be the following (p, r):\n",
        "1. (8, 1)\n",
        "2. (16, 2)\n",
        "3. (24, 3)"
      ]
    },
    {
      "cell_type": "markdown",
      "source": [
        "RGB: 255 * 255 * 3 = 195075\n",
        "\n",
        "Grayscale: 255*255 = 65025"
      ],
      "metadata": {
        "id": "fWlmYCsXyO2_"
      }
    },
    {
      "cell_type": "code",
      "source": [
        "import cv2\n",
        "from skimage.feature import local_binary_pattern"
      ],
      "metadata": {
        "id": "lmXAUpmPA4WX",
        "colab": {
          "base_uri": "https://localhost:8080/"
        },
        "outputId": "abb430c5-c666-486e-e677-5412ef750ee2"
      },
      "execution_count": null,
      "outputs": [
        {
          "output_type": "stream",
          "name": "stdout",
          "text": [
            "time: 1.55 ms (started: 2022-05-10 02:54:15 +00:00)\n"
          ]
        }
      ]
    },
    {
      "cell_type": "code",
      "source": [
        "# combination of p and r values:\n",
        "pr_list = [\n",
        "  {\"p\": 8, \"r\": 1},\n",
        "  {\"p\": 16, \"r\": 2},\n",
        "  {\"p\": 24, \"r\": 3},\n",
        "]"
      ],
      "metadata": {
        "colab": {
          "base_uri": "https://localhost:8080/"
        },
        "id": "43npI3F3UlTo",
        "outputId": "df64abbb-b631-4d2b-d9d7-d6b184c68945"
      },
      "execution_count": null,
      "outputs": [
        {
          "output_type": "stream",
          "name": "stdout",
          "text": [
            "time: 4.67 ms (started: 2022-05-10 02:54:15 +00:00)\n"
          ]
        }
      ]
    },
    {
      "cell_type": "code",
      "source": [
        "def generate_set2(df, dir, p, r, method_=\"uniform\"):\n",
        "  # Generate train and test sets through OpenCV with grayscale in all pixels\n",
        "\n",
        "  pixels = []\n",
        "  class_ = []\n",
        "\n",
        "  # trainset = glob.glob(dir)\n",
        "  for i in range(len(df.index)):\n",
        "    # get the absolute img path\n",
        "    # e.g., Brain_tumor_images/<train or test>/<class label>/<file name>\n",
        "    path = dir + \"/\" + df.iloc[i][\"class\"] + \"/\" +df.iloc[i][\"file\"]\n",
        "    img = cv2.imread(path)\n",
        "    \n",
        "    # convert the read img into grayscale\n",
        "    img_gray = cv2.cvtColor(img, cv2.COLOR_BGR2GRAY)\n",
        "    lbp_img = local_binary_pattern(img_gray, p, r, method=method_)\n",
        "    # pixels.append(np.array(lbp_img).flatten())\n",
        "\n",
        "    # compute the histogram\n",
        "    (hist, _) = np.histogram(\n",
        "        lbp_img.ravel(),\n",
        "        bins=np.arange(0, P + 3),\n",
        "        range=(0, P + 2)\n",
        "      )\n",
        "\n",
        "    hist = hist.astype(\"float\")\n",
        "    hist /= (hist.sum() + eps)\n",
        "    pixels.append(hist)\n",
        "\n",
        "    # y_true encoding here\n",
        "    if df.iloc[i][\"class\"] == \"Normal\":\n",
        "      class_.append(0)\n",
        "    else:\n",
        "      class_.append(1)\n",
        "  # end loop\n",
        "\n",
        "  return pixels, class_\n",
        "\n",
        "# x_train2, y_train2 = generate_set2(mri_df_train, DATASET_01_TRAIN, 8, 1)\n",
        "# x_test2, y_test2 = generate_set2(mri_df_test, DATASET_01_TEST, 8, 1)"
      ],
      "metadata": {
        "colab": {
          "base_uri": "https://localhost:8080/"
        },
        "id": "1UTo_tgNZBOa",
        "outputId": "ed2fb39f-b3cc-43fd-876a-8fb117076aba"
      },
      "execution_count": null,
      "outputs": [
        {
          "output_type": "stream",
          "name": "stdout",
          "text": [
            "time: 19.5 ms (started: 2022-05-10 02:54:15 +00:00)\n"
          ]
        }
      ]
    },
    {
      "cell_type": "markdown",
      "source": [
        "### LBP Normalized Histogram\n"
      ],
      "metadata": {
        "id": "CB4RSGD2lfRK"
      }
    },
    {
      "cell_type": "code",
      "source": [
        "from google.colab.patches import cv2_imshow\n",
        "import plotly.express as px\n",
        "from plotly.subplots import make_subplots\n",
        "import plotly.graph_objects as go\n",
        "from matplotlib.pyplot import figure"
      ],
      "metadata": {
        "colab": {
          "base_uri": "https://localhost:8080/"
        },
        "id": "NCXmViEFuVdV",
        "outputId": "0ca77449-9724-4a03-80ba-6bbcf713568a"
      },
      "execution_count": null,
      "outputs": [
        {
          "output_type": "stream",
          "name": "stdout",
          "text": [
            "time: 8.1 ms (started: 2022-05-10 02:54:15 +00:00)\n"
          ]
        }
      ]
    },
    {
      "cell_type": "code",
      "source": [
        "index = 0\n",
        "path = DATASET_01_TRAIN + \"/\" + mri_df_train.iloc[index][\"class\"] + \"/\" +mri_df_train.iloc[index][\"file\"]\n",
        "P = 8\n",
        "r = 1\n",
        "eps = 1e-7 # 0.0000001\n",
        "\n",
        "\n",
        "def lbp_hist_compute(path, P, r, eps):\n",
        "  img = cv2.imread(path)\n",
        "  img_gray = cv2.cvtColor(img, cv2.COLOR_BGR2GRAY)\n",
        "  lbp_img = local_binary_pattern(img_gray, P, r, method=\"uniform\")\n",
        "\n",
        "  # compute the histogram\n",
        "  (hist, _) = np.histogram(\n",
        "      lbp_img.ravel(),\n",
        "\t\t\tbins=np.arange(0, P + 3),\n",
        "\t\t\trange=(0, P + 2)\n",
        "   )\n",
        "  \n",
        "  hist = hist.astype(\"float\")\n",
        "  hist /= (hist.sum() + eps)\n",
        "\n",
        "  # # get the histogram\n",
        "  # (hist, _) = np.histogram(\n",
        "  #     lbp_img.ravel(), \n",
        "  #     bins=np.arange(0, P + 3),\n",
        "  #     range=(0, P + 2)\n",
        "  #   )\n",
        "\n",
        "  # # normalize the histogram\n",
        "  # hist = hist.astype(\"float\")\n",
        "  # hist /= (hist.sum() + eps)\n",
        "  # # plt.hist(hist)\n",
        "  # # cv2_imshow(lbp_img)\n",
        "  # # end the func\n",
        "  return hist"
      ],
      "metadata": {
        "colab": {
          "base_uri": "https://localhost:8080/"
        },
        "id": "DVc29CChrzEJ",
        "outputId": "1c4bc7a8-bc25-4975-99e2-a203ada27ce6"
      },
      "execution_count": null,
      "outputs": [
        {
          "output_type": "stream",
          "name": "stdout",
          "text": [
            "time: 21.5 ms (started: 2022-05-10 01:28:25 +00:00)\n"
          ]
        }
      ]
    },
    {
      "cell_type": "code",
      "source": [
        "lbp_img = lbp_hist_compute(path, P, r, eps)\n",
        "np.array(lbp_img).max()"
      ],
      "metadata": {
        "colab": {
          "base_uri": "https://localhost:8080/"
        },
        "id": "Xm80ikk6lS_p",
        "outputId": "07110004-58da-4b65-d577-258cc6077bcd"
      },
      "execution_count": null,
      "outputs": [
        {
          "output_type": "execute_result",
          "data": {
            "text/plain": [
              "0.267044067382405"
            ]
          },
          "metadata": {},
          "execution_count": 35
        },
        {
          "output_type": "stream",
          "name": "stdout",
          "text": [
            "time: 60.6 ms (started: 2022-05-10 01:28:25 +00:00)\n"
          ]
        }
      ]
    },
    {
      "cell_type": "markdown",
      "source": [
        "Comment out for actual run"
      ],
      "metadata": {
        "id": "Y2wvN86FPQIm"
      }
    },
    {
      "cell_type": "code",
      "source": [
        "# lbp_results = list()\n",
        "\n",
        "# for i in range(len(pr_list)):\n",
        "#   lbp_results.append(lbp_hist_compute(path, pr_list[i][\"p\"], pr_list[i][\"r\"], eps))\n",
        "\n",
        "# fig = plt.hist(np.array(lbp_results[0]))\n",
        "# plt.title(\"p=8, r=1\")\n",
        "# plt.show()\n",
        "\n",
        "# fig = plt.hist(np.array(lbp_results[1]))\n",
        "# plt.title(\"p=16, r=2\")\n",
        "# plt.show()\n",
        "\n",
        "# fig = plt.hist(np.array(lbp_results[2]))\n",
        "# plt.title(\"p=24, r=3\")\n",
        "# plt.show()"
      ],
      "metadata": {
        "id": "5yoz04NMl9K-"
      },
      "execution_count": null,
      "outputs": []
    },
    {
      "cell_type": "code",
      "source": [
        "def generate_set2(df, dir, p, r, method_=\"uniform\"):\n",
        "  # Generate train and test sets through OpenCV with grayscale in all pixels\n",
        "\n",
        "  pixels = []\n",
        "  class_ = []\n",
        "\n",
        "  # trainset = glob.glob(dir)\n",
        "  for i in range(len(df.index)):\n",
        "    # get the absolute img path\n",
        "    # e.g., Brain_tumor_images/<train or test>/<class label>/<file name>\n",
        "    path = dir + \"/\" + df.iloc[i][\"class\"] + \"/\" +df.iloc[i][\"file\"]\n",
        "    img = cv2.imread(path)\n",
        "    \n",
        "    # convert the read img into grayscale\n",
        "    img_gray = cv2.cvtColor(img, cv2.COLOR_BGR2GRAY)\n",
        "    lbp_img = local_binary_pattern(img_gray, p, r, method=method_)\n",
        "    pixels.append(np.array(lbp_img).flatten())\n",
        "\n",
        "    # y_true encoding here\n",
        "    if df.iloc[i][\"class\"] == \"Normal\":\n",
        "      class_.append(0)\n",
        "    else:\n",
        "      class_.append(1)\n",
        "  # end loop\n",
        "\n",
        "  return pixels, class_\n",
        "  # end of func\n",
        "\n",
        "\n",
        "# x_train2, y_train2 = generate_set2(mri_df_train, DATASET_01_TRAIN)\n",
        "# x_test2, y_test2 = generate_set2(mri_df_test, DATASET_01_TEST)"
      ],
      "metadata": {
        "id": "6tCE5z9_llZZ",
        "colab": {
          "base_uri": "https://localhost:8080/"
        },
        "outputId": "53b3c09e-0f71-460e-8bdb-ea1a5cc604db"
      },
      "execution_count": null,
      "outputs": [
        {
          "output_type": "stream",
          "name": "stdout",
          "text": [
            "time: 23.3 ms (started: 2022-05-10 02:54:15 +00:00)\n"
          ]
        }
      ]
    },
    {
      "cell_type": "code",
      "execution_count": null,
      "metadata": {
        "colab": {
          "base_uri": "https://localhost:8080/"
        },
        "id": "ixpSleUQDR6P",
        "outputId": "e21a04fd-f4df-467d-b317-5d124b67f184"
      },
      "outputs": [
        {
          "output_type": "stream",
          "name": "stdout",
          "text": [
            "time: 1.19 ms (started: 2022-05-10 01:28:36 +00:00)\n"
          ]
        }
      ],
      "source": [
        "from sklearn.model_selection import StratifiedKFold, cross_val_score\n",
        "from sklearn.svm import SVC"
      ]
    },
    {
      "cell_type": "code",
      "execution_count": null,
      "metadata": {
        "colab": {
          "base_uri": "https://localhost:8080/"
        },
        "id": "OQsc3Pwckt0y",
        "outputId": "948143e7-f4fc-4693-d671-17620b0b2ffc"
      },
      "outputs": [
        {
          "output_type": "stream",
          "name": "stdout",
          "text": [
            "time: 2.45 ms (started: 2022-05-10 01:28:38 +00:00)\n"
          ]
        }
      ],
      "source": [
        "def generate_PCA_set(comp, x_train, x_test):\n",
        "  pca = PCA(n_components=comp)\n",
        "  __x_train__ = pca.fit_transform(x_train)\n",
        "  __x_test__ = pca.transform(x_test)\n",
        "  return __x_train__, __x_test__"
      ]
    },
    {
      "cell_type": "code",
      "execution_count": null,
      "metadata": {
        "colab": {
          "base_uri": "https://localhost:8080/"
        },
        "id": "qTOJl-mhl3nb",
        "outputId": "3efe4f65-c189-4736-e67b-ac9ab9c90f8d"
      },
      "outputs": [
        {
          "output_type": "stream",
          "name": "stdout",
          "text": [
            "time: 893 µs (started: 2022-05-10 01:28:38 +00:00)\n"
          ]
        }
      ],
      "source": [
        "def get_model():\n",
        "  return SVC()"
      ]
    },
    {
      "cell_type": "code",
      "source": [
        "def feature_scale(_x_train_, _x_test_):\n",
        "  sc = StandardScaler()\n",
        "\n",
        "  train_sc = sc.fit_transform(_x_train_)\n",
        "  test_sc = sc.transform(_x_test_)\n",
        "\n",
        "  return train_sc, test_sc"
      ],
      "metadata": {
        "colab": {
          "base_uri": "https://localhost:8080/"
        },
        "id": "ItZdTpLZS4H8",
        "outputId": "1fc3c11f-fc21-4397-ec6a-2703cdeb7ed2"
      },
      "execution_count": null,
      "outputs": [
        {
          "output_type": "stream",
          "name": "stdout",
          "text": [
            "time: 3.24 ms (started: 2022-05-10 01:28:38 +00:00)\n"
          ]
        }
      ]
    },
    {
      "cell_type": "code",
      "source": [
        "def feature_scale2(_x_train_):\n",
        "  sc = StandardScaler()\n",
        "\n",
        "  train_sc2 = sc.fit_transform(np.array(_x_train_))\n",
        "\n",
        "  return train_sc2"
      ],
      "metadata": {
        "colab": {
          "base_uri": "https://localhost:8080/"
        },
        "id": "pNfSb7grbts7",
        "outputId": "0504f7e1-1891-4487-8c40-a21ca7d7764c"
      },
      "execution_count": null,
      "outputs": [
        {
          "output_type": "stream",
          "name": "stdout",
          "text": [
            "time: 2.19 ms (started: 2022-05-10 01:28:39 +00:00)\n"
          ]
        }
      ]
    },
    {
      "cell_type": "code",
      "execution_count": null,
      "metadata": {
        "colab": {
          "base_uri": "https://localhost:8080/"
        },
        "id": "VUXijrVqs1Cx",
        "outputId": "c563e588-052b-49ef-c755-e14492940354"
      },
      "outputs": [
        {
          "output_type": "stream",
          "name": "stdout",
          "text": [
            "time: 947 µs (started: 2022-05-10 01:28:40 +00:00)\n"
          ]
        }
      ],
      "source": [
        "from sklearn.metrics import balanced_accuracy_score, accuracy_score\n",
        "from numpy import mean"
      ]
    },
    {
      "cell_type": "markdown",
      "source": [
        "# SVM with LBP"
      ],
      "metadata": {
        "id": "JBB7BU46Zzs4"
      }
    },
    {
      "cell_type": "markdown",
      "source": [
        "## Setup"
      ],
      "metadata": {
        "id": "poXu_6M-dG2G"
      }
    },
    {
      "cell_type": "code",
      "source": [
        "lbp_exp1 = list()"
      ],
      "metadata": {
        "colab": {
          "base_uri": "https://localhost:8080/"
        },
        "id": "O1q8BURvdSLO",
        "outputId": "9b4d7479-7ae9-47e1-f57b-7c774edd5e0c"
      },
      "execution_count": null,
      "outputs": [
        {
          "output_type": "stream",
          "name": "stdout",
          "text": [
            "time: 612 µs (started: 2022-05-10 02:54:15 +00:00)\n"
          ]
        }
      ]
    },
    {
      "cell_type": "code",
      "source": [
        "for i in range(len(pr_list)):\n",
        "  x_train2, y_train2 = generate_set2(mri_df_train, DATASET_01_TRAIN, pr_list[i][\"p\"], pr_list[i][\"r\"])\n",
        "  x_test2, y_test2 = generate_set2(mri_df_test, DATASET_01_TEST, pr_list[i][\"p\"], pr_list[i][\"r\"])\n",
        "\n",
        "  lbp_exp1.append({\n",
        "      \"p_r\": (pr_list[i][\"p\"], pr_list[i][\"r\"]),\n",
        "      \"model\": get_model(),\n",
        "      \"x_train\": x_train2,\n",
        "      \"y_train\": y_train2,\n",
        "      \"x_test\": x_test2,\n",
        "      \"y_test\": y_test2,\n",
        "  })"
      ],
      "metadata": {
        "colab": {
          "base_uri": "https://localhost:8080/"
        },
        "id": "Q6nzUQdnZ3YX",
        "outputId": "760e6923-d7dc-437a-b686-6916cd454ca1"
      },
      "execution_count": null,
      "outputs": [
        {
          "output_type": "stream",
          "name": "stdout",
          "text": [
            "time: 48.6 s (started: 2022-05-10 02:54:15 +00:00)\n"
          ]
        }
      ]
    },
    {
      "cell_type": "markdown",
      "source": [
        "## LBP --> PCA Visualization"
      ],
      "metadata": {
        "id": "lxEsuy1ql7ms"
      }
    },
    {
      "cell_type": "code",
      "source": [
        "def LBP_PCA_temp(x_train, x_test, p_r):\n",
        "  pca = PCA()\n",
        "\n",
        "  x_train_pca = pca.fit_transform(x_train)\n",
        "  x_test_pca = pca.transform(x_test)\n",
        "\n",
        "  exp_var_cumul = np.cumsum(pca.explained_variance_ratio_)\n",
        "  exp_var_cumul_round = np.round_(exp_var_cumul, decimals = 4)\n",
        "\n",
        "  num_comp = range(1, exp_var_cumul_round.shape[0] + 1)\n",
        "\n",
        "  per_var = np.round(pca.explained_variance_ratio_* 100, decimals=1)\n",
        "\n",
        "  t = \"MRI - LBP \" + str(p_r) + \" with different PCA variance\"\n",
        "\n",
        "  fig = px.line(\n",
        "      x=num_comp,\n",
        "      y=exp_var_cumul_round,\n",
        "      labels={\"x\": \"# Components\", \"y\": \"Cumulative Explained Variance\"},\n",
        "      title = t,\n",
        "      # markers=True\n",
        "  )\n",
        "\n",
        "  fig.show()"
      ],
      "metadata": {
        "colab": {
          "base_uri": "https://localhost:8080/"
        },
        "id": "pyo4r7Nzluvk",
        "outputId": "d7b46dcb-fb98-4c13-f5cb-34b7ed4174c8"
      },
      "execution_count": null,
      "outputs": [
        {
          "output_type": "stream",
          "name": "stdout",
          "text": [
            "time: 7.04 ms (started: 2022-05-10 02:55:04 +00:00)\n"
          ]
        }
      ]
    },
    {
      "cell_type": "code",
      "source": [
        "i = 2\n",
        "item = lbp_exp1[i]\n",
        "LBP_PCA_temp(item[\"x_train\"], item[\"x_test\"], item[\"p_r\"])"
      ],
      "metadata": {
        "colab": {
          "base_uri": "https://localhost:8080/",
          "height": 559
        },
        "id": "C_uASb_8osEw",
        "outputId": "e00d26c5-9c88-489f-a782-42f8760a5a9c"
      },
      "execution_count": null,
      "outputs": [
        {
          "output_type": "display_data",
          "data": {
            "text/html": [
              "<html>\n",
              "<head><meta charset=\"utf-8\" /></head>\n",
              "<body>\n",
              "    <div>            <script src=\"https://cdnjs.cloudflare.com/ajax/libs/mathjax/2.7.5/MathJax.js?config=TeX-AMS-MML_SVG\"></script><script type=\"text/javascript\">if (window.MathJax) {MathJax.Hub.Config({SVG: {font: \"STIX-Web\"}});}</script>                <script type=\"text/javascript\">window.PlotlyConfig = {MathJaxConfig: 'local'};</script>\n",
              "        <script src=\"https://cdn.plot.ly/plotly-2.8.3.min.js\"></script>                <div id=\"9d484037-5c34-4a1b-99fe-5406975207d0\" class=\"plotly-graph-div\" style=\"height:525px; width:100%;\"></div>            <script type=\"text/javascript\">                                    window.PLOTLYENV=window.PLOTLYENV || {};                                    if (document.getElementById(\"9d484037-5c34-4a1b-99fe-5406975207d0\")) {                    Plotly.newPlot(                        \"9d484037-5c34-4a1b-99fe-5406975207d0\",                        [{\"hovertemplate\":\"# Components=%{x}<br>Cumulative Explained Variance=%{y}<extra></extra>\",\"legendgroup\":\"\",\"line\":{\"color\":\"#636efa\",\"dash\":\"solid\"},\"marker\":{\"symbol\":\"circle\"},\"mode\":\"lines\",\"name\":\"\",\"orientation\":\"v\",\"showlegend\":false,\"x\":[1,2,3,4,5,6,7,8,9,10,11,12,13,14,15,16,17,18,19,20,21,22,23,24,25,26,27,28,29,30,31,32,33,34,35,36,37,38,39,40,41,42,43,44,45,46,47,48,49,50,51,52,53,54,55,56,57,58,59,60,61,62,63,64,65,66,67,68,69,70,71,72,73,74,75,76,77,78,79,80,81,82,83,84,85,86,87,88,89,90,91,92,93,94,95,96,97,98,99,100,101,102,103,104,105,106,107,108,109,110,111,112,113,114,115,116,117,118,119,120,121,122,123,124,125,126,127,128,129,130,131,132,133,134,135,136,137,138,139,140,141,142,143,144,145,146,147,148,149,150,151,152,153,154,155,156,157,158,159,160,161,162,163,164,165,166,167,168,169,170,171,172,173,174,175,176,177,178,179,180,181,182,183,184,185,186,187,188,189,190,191,192,193,194,195,196,197,198,199,200,201,202,203,204,205,206,207,208,209,210,211,212,213,214,215,216,217,218,219,220,221,222,223,224,225,226,227,228,229,230,231,232,233,234,235,236,237,238,239,240,241,242,243,244,245,246,247,248,249,250,251,252,253,254,255,256,257,258,259,260,261,262,263,264,265,266,267,268,269,270,271,272,273,274,275,276,277,278,279],\"xaxis\":\"x\",\"y\":[0.0264,0.041,0.047,0.0527,0.0582,0.0636,0.0686,0.0736,0.0784,0.0831,0.0878,0.0924,0.097,0.1016,0.1062,0.1107,0.1153,0.1197,0.1242,0.1287,0.1331,0.1375,0.1419,0.1463,0.1507,0.155,0.1594,0.1637,0.168,0.1723,0.1766,0.1808,0.1851,0.1893,0.1936,0.1978,0.202,0.2062,0.2103,0.2145,0.2187,0.2228,0.2269,0.231,0.2351,0.2392,0.2433,0.2474,0.2514,0.2555,0.2595,0.2636,0.2676,0.2716,0.2756,0.2796,0.2836,0.2876,0.2915,0.2955,0.2994,0.3034,0.3073,0.3112,0.3152,0.3191,0.323,0.3269,0.3307,0.3346,0.3385,0.3424,0.3462,0.3501,0.354,0.3578,0.3616,0.3655,0.3693,0.3731,0.3769,0.3806,0.3844,0.3882,0.392,0.3957,0.3995,0.4032,0.407,0.4107,0.4144,0.4181,0.4219,0.4256,0.4293,0.433,0.4367,0.4403,0.444,0.4477,0.4514,0.455,0.4587,0.4623,0.466,0.4696,0.4732,0.4769,0.4805,0.4841,0.4877,0.4913,0.4949,0.4984,0.502,0.5056,0.5091,0.5127,0.5162,0.5197,0.5233,0.5268,0.5303,0.5338,0.5373,0.5408,0.5443,0.5478,0.5513,0.5548,0.5583,0.5617,0.5652,0.5686,0.5721,0.5755,0.579,0.5824,0.5858,0.5892,0.5926,0.596,0.5994,0.6028,0.6062,0.6096,0.613,0.6164,0.6197,0.6231,0.6265,0.6298,0.6332,0.6365,0.6398,0.6431,0.6465,0.6498,0.6531,0.6564,0.6597,0.663,0.6662,0.6695,0.6728,0.6761,0.6793,0.6826,0.6858,0.6891,0.6923,0.6955,0.6988,0.702,0.7052,0.7084,0.7116,0.7148,0.718,0.7212,0.7243,0.7275,0.7307,0.7338,0.737,0.7402,0.7433,0.7464,0.7496,0.7527,0.7558,0.7589,0.7621,0.7652,0.7683,0.7714,0.7744,0.7775,0.7806,0.7837,0.7867,0.7898,0.7929,0.7959,0.7989,0.802,0.805,0.808,0.811,0.814,0.817,0.82,0.823,0.826,0.8289,0.8319,0.8349,0.8378,0.8408,0.8437,0.8466,0.8496,0.8525,0.8554,0.8583,0.8612,0.8641,0.867,0.8699,0.8727,0.8756,0.8785,0.8813,0.8842,0.887,0.8898,0.8927,0.8955,0.8983,0.9011,0.9039,0.9067,0.9095,0.9123,0.9151,0.9179,0.9206,0.9234,0.9261,0.9288,0.9316,0.9343,0.937,0.9397,0.9424,0.9451,0.9478,0.9505,0.9531,0.9558,0.9584,0.9611,0.9637,0.9663,0.9689,0.9715,0.974,0.9766,0.9791,0.9816,0.9841,0.9866,0.9891,0.9914,0.9937,0.996,0.9981,1.0,1.0],\"yaxis\":\"y\",\"type\":\"scatter\"}],                        {\"template\":{\"data\":{\"bar\":[{\"error_x\":{\"color\":\"#2a3f5f\"},\"error_y\":{\"color\":\"#2a3f5f\"},\"marker\":{\"line\":{\"color\":\"#E5ECF6\",\"width\":0.5},\"pattern\":{\"fillmode\":\"overlay\",\"size\":10,\"solidity\":0.2}},\"type\":\"bar\"}],\"barpolar\":[{\"marker\":{\"line\":{\"color\":\"#E5ECF6\",\"width\":0.5},\"pattern\":{\"fillmode\":\"overlay\",\"size\":10,\"solidity\":0.2}},\"type\":\"barpolar\"}],\"carpet\":[{\"aaxis\":{\"endlinecolor\":\"#2a3f5f\",\"gridcolor\":\"white\",\"linecolor\":\"white\",\"minorgridcolor\":\"white\",\"startlinecolor\":\"#2a3f5f\"},\"baxis\":{\"endlinecolor\":\"#2a3f5f\",\"gridcolor\":\"white\",\"linecolor\":\"white\",\"minorgridcolor\":\"white\",\"startlinecolor\":\"#2a3f5f\"},\"type\":\"carpet\"}],\"choropleth\":[{\"colorbar\":{\"outlinewidth\":0,\"ticks\":\"\"},\"type\":\"choropleth\"}],\"contour\":[{\"colorbar\":{\"outlinewidth\":0,\"ticks\":\"\"},\"colorscale\":[[0.0,\"#0d0887\"],[0.1111111111111111,\"#46039f\"],[0.2222222222222222,\"#7201a8\"],[0.3333333333333333,\"#9c179e\"],[0.4444444444444444,\"#bd3786\"],[0.5555555555555556,\"#d8576b\"],[0.6666666666666666,\"#ed7953\"],[0.7777777777777778,\"#fb9f3a\"],[0.8888888888888888,\"#fdca26\"],[1.0,\"#f0f921\"]],\"type\":\"contour\"}],\"contourcarpet\":[{\"colorbar\":{\"outlinewidth\":0,\"ticks\":\"\"},\"type\":\"contourcarpet\"}],\"heatmap\":[{\"colorbar\":{\"outlinewidth\":0,\"ticks\":\"\"},\"colorscale\":[[0.0,\"#0d0887\"],[0.1111111111111111,\"#46039f\"],[0.2222222222222222,\"#7201a8\"],[0.3333333333333333,\"#9c179e\"],[0.4444444444444444,\"#bd3786\"],[0.5555555555555556,\"#d8576b\"],[0.6666666666666666,\"#ed7953\"],[0.7777777777777778,\"#fb9f3a\"],[0.8888888888888888,\"#fdca26\"],[1.0,\"#f0f921\"]],\"type\":\"heatmap\"}],\"heatmapgl\":[{\"colorbar\":{\"outlinewidth\":0,\"ticks\":\"\"},\"colorscale\":[[0.0,\"#0d0887\"],[0.1111111111111111,\"#46039f\"],[0.2222222222222222,\"#7201a8\"],[0.3333333333333333,\"#9c179e\"],[0.4444444444444444,\"#bd3786\"],[0.5555555555555556,\"#d8576b\"],[0.6666666666666666,\"#ed7953\"],[0.7777777777777778,\"#fb9f3a\"],[0.8888888888888888,\"#fdca26\"],[1.0,\"#f0f921\"]],\"type\":\"heatmapgl\"}],\"histogram\":[{\"marker\":{\"pattern\":{\"fillmode\":\"overlay\",\"size\":10,\"solidity\":0.2}},\"type\":\"histogram\"}],\"histogram2d\":[{\"colorbar\":{\"outlinewidth\":0,\"ticks\":\"\"},\"colorscale\":[[0.0,\"#0d0887\"],[0.1111111111111111,\"#46039f\"],[0.2222222222222222,\"#7201a8\"],[0.3333333333333333,\"#9c179e\"],[0.4444444444444444,\"#bd3786\"],[0.5555555555555556,\"#d8576b\"],[0.6666666666666666,\"#ed7953\"],[0.7777777777777778,\"#fb9f3a\"],[0.8888888888888888,\"#fdca26\"],[1.0,\"#f0f921\"]],\"type\":\"histogram2d\"}],\"histogram2dcontour\":[{\"colorbar\":{\"outlinewidth\":0,\"ticks\":\"\"},\"colorscale\":[[0.0,\"#0d0887\"],[0.1111111111111111,\"#46039f\"],[0.2222222222222222,\"#7201a8\"],[0.3333333333333333,\"#9c179e\"],[0.4444444444444444,\"#bd3786\"],[0.5555555555555556,\"#d8576b\"],[0.6666666666666666,\"#ed7953\"],[0.7777777777777778,\"#fb9f3a\"],[0.8888888888888888,\"#fdca26\"],[1.0,\"#f0f921\"]],\"type\":\"histogram2dcontour\"}],\"mesh3d\":[{\"colorbar\":{\"outlinewidth\":0,\"ticks\":\"\"},\"type\":\"mesh3d\"}],\"parcoords\":[{\"line\":{\"colorbar\":{\"outlinewidth\":0,\"ticks\":\"\"}},\"type\":\"parcoords\"}],\"pie\":[{\"automargin\":true,\"type\":\"pie\"}],\"scatter\":[{\"marker\":{\"colorbar\":{\"outlinewidth\":0,\"ticks\":\"\"}},\"type\":\"scatter\"}],\"scatter3d\":[{\"line\":{\"colorbar\":{\"outlinewidth\":0,\"ticks\":\"\"}},\"marker\":{\"colorbar\":{\"outlinewidth\":0,\"ticks\":\"\"}},\"type\":\"scatter3d\"}],\"scattercarpet\":[{\"marker\":{\"colorbar\":{\"outlinewidth\":0,\"ticks\":\"\"}},\"type\":\"scattercarpet\"}],\"scattergeo\":[{\"marker\":{\"colorbar\":{\"outlinewidth\":0,\"ticks\":\"\"}},\"type\":\"scattergeo\"}],\"scattergl\":[{\"marker\":{\"colorbar\":{\"outlinewidth\":0,\"ticks\":\"\"}},\"type\":\"scattergl\"}],\"scattermapbox\":[{\"marker\":{\"colorbar\":{\"outlinewidth\":0,\"ticks\":\"\"}},\"type\":\"scattermapbox\"}],\"scatterpolar\":[{\"marker\":{\"colorbar\":{\"outlinewidth\":0,\"ticks\":\"\"}},\"type\":\"scatterpolar\"}],\"scatterpolargl\":[{\"marker\":{\"colorbar\":{\"outlinewidth\":0,\"ticks\":\"\"}},\"type\":\"scatterpolargl\"}],\"scatterternary\":[{\"marker\":{\"colorbar\":{\"outlinewidth\":0,\"ticks\":\"\"}},\"type\":\"scatterternary\"}],\"surface\":[{\"colorbar\":{\"outlinewidth\":0,\"ticks\":\"\"},\"colorscale\":[[0.0,\"#0d0887\"],[0.1111111111111111,\"#46039f\"],[0.2222222222222222,\"#7201a8\"],[0.3333333333333333,\"#9c179e\"],[0.4444444444444444,\"#bd3786\"],[0.5555555555555556,\"#d8576b\"],[0.6666666666666666,\"#ed7953\"],[0.7777777777777778,\"#fb9f3a\"],[0.8888888888888888,\"#fdca26\"],[1.0,\"#f0f921\"]],\"type\":\"surface\"}],\"table\":[{\"cells\":{\"fill\":{\"color\":\"#EBF0F8\"},\"line\":{\"color\":\"white\"}},\"header\":{\"fill\":{\"color\":\"#C8D4E3\"},\"line\":{\"color\":\"white\"}},\"type\":\"table\"}]},\"layout\":{\"annotationdefaults\":{\"arrowcolor\":\"#2a3f5f\",\"arrowhead\":0,\"arrowwidth\":1},\"autotypenumbers\":\"strict\",\"coloraxis\":{\"colorbar\":{\"outlinewidth\":0,\"ticks\":\"\"}},\"colorscale\":{\"diverging\":[[0,\"#8e0152\"],[0.1,\"#c51b7d\"],[0.2,\"#de77ae\"],[0.3,\"#f1b6da\"],[0.4,\"#fde0ef\"],[0.5,\"#f7f7f7\"],[0.6,\"#e6f5d0\"],[0.7,\"#b8e186\"],[0.8,\"#7fbc41\"],[0.9,\"#4d9221\"],[1,\"#276419\"]],\"sequential\":[[0.0,\"#0d0887\"],[0.1111111111111111,\"#46039f\"],[0.2222222222222222,\"#7201a8\"],[0.3333333333333333,\"#9c179e\"],[0.4444444444444444,\"#bd3786\"],[0.5555555555555556,\"#d8576b\"],[0.6666666666666666,\"#ed7953\"],[0.7777777777777778,\"#fb9f3a\"],[0.8888888888888888,\"#fdca26\"],[1.0,\"#f0f921\"]],\"sequentialminus\":[[0.0,\"#0d0887\"],[0.1111111111111111,\"#46039f\"],[0.2222222222222222,\"#7201a8\"],[0.3333333333333333,\"#9c179e\"],[0.4444444444444444,\"#bd3786\"],[0.5555555555555556,\"#d8576b\"],[0.6666666666666666,\"#ed7953\"],[0.7777777777777778,\"#fb9f3a\"],[0.8888888888888888,\"#fdca26\"],[1.0,\"#f0f921\"]]},\"colorway\":[\"#636efa\",\"#EF553B\",\"#00cc96\",\"#ab63fa\",\"#FFA15A\",\"#19d3f3\",\"#FF6692\",\"#B6E880\",\"#FF97FF\",\"#FECB52\"],\"font\":{\"color\":\"#2a3f5f\"},\"geo\":{\"bgcolor\":\"white\",\"lakecolor\":\"white\",\"landcolor\":\"#E5ECF6\",\"showlakes\":true,\"showland\":true,\"subunitcolor\":\"white\"},\"hoverlabel\":{\"align\":\"left\"},\"hovermode\":\"closest\",\"mapbox\":{\"style\":\"light\"},\"paper_bgcolor\":\"white\",\"plot_bgcolor\":\"#E5ECF6\",\"polar\":{\"angularaxis\":{\"gridcolor\":\"white\",\"linecolor\":\"white\",\"ticks\":\"\"},\"bgcolor\":\"#E5ECF6\",\"radialaxis\":{\"gridcolor\":\"white\",\"linecolor\":\"white\",\"ticks\":\"\"}},\"scene\":{\"xaxis\":{\"backgroundcolor\":\"#E5ECF6\",\"gridcolor\":\"white\",\"gridwidth\":2,\"linecolor\":\"white\",\"showbackground\":true,\"ticks\":\"\",\"zerolinecolor\":\"white\"},\"yaxis\":{\"backgroundcolor\":\"#E5ECF6\",\"gridcolor\":\"white\",\"gridwidth\":2,\"linecolor\":\"white\",\"showbackground\":true,\"ticks\":\"\",\"zerolinecolor\":\"white\"},\"zaxis\":{\"backgroundcolor\":\"#E5ECF6\",\"gridcolor\":\"white\",\"gridwidth\":2,\"linecolor\":\"white\",\"showbackground\":true,\"ticks\":\"\",\"zerolinecolor\":\"white\"}},\"shapedefaults\":{\"line\":{\"color\":\"#2a3f5f\"}},\"ternary\":{\"aaxis\":{\"gridcolor\":\"white\",\"linecolor\":\"white\",\"ticks\":\"\"},\"baxis\":{\"gridcolor\":\"white\",\"linecolor\":\"white\",\"ticks\":\"\"},\"bgcolor\":\"#E5ECF6\",\"caxis\":{\"gridcolor\":\"white\",\"linecolor\":\"white\",\"ticks\":\"\"}},\"title\":{\"x\":0.05},\"xaxis\":{\"automargin\":true,\"gridcolor\":\"white\",\"linecolor\":\"white\",\"ticks\":\"\",\"title\":{\"standoff\":15},\"zerolinecolor\":\"white\",\"zerolinewidth\":2},\"yaxis\":{\"automargin\":true,\"gridcolor\":\"white\",\"linecolor\":\"white\",\"ticks\":\"\",\"title\":{\"standoff\":15},\"zerolinecolor\":\"white\",\"zerolinewidth\":2}}},\"xaxis\":{\"anchor\":\"y\",\"domain\":[0.0,1.0],\"title\":{\"text\":\"# Components\"}},\"yaxis\":{\"anchor\":\"x\",\"domain\":[0.0,1.0],\"title\":{\"text\":\"Cumulative Explained Variance\"}},\"legend\":{\"tracegroupgap\":0},\"title\":{\"text\":\"MRI - LBP (24, 3) with different PCA variance\"}},                        {\"responsive\": true}                    ).then(function(){\n",
              "                            \n",
              "var gd = document.getElementById('9d484037-5c34-4a1b-99fe-5406975207d0');\n",
              "var x = new MutationObserver(function (mutations, observer) {{\n",
              "        var display = window.getComputedStyle(gd).display;\n",
              "        if (!display || display === 'none') {{\n",
              "            console.log([gd, 'removed!']);\n",
              "            Plotly.purge(gd);\n",
              "            observer.disconnect();\n",
              "        }}\n",
              "}});\n",
              "\n",
              "// Listen for the removal of the full notebook cells\n",
              "var notebookContainer = gd.closest('#notebook-container');\n",
              "if (notebookContainer) {{\n",
              "    x.observe(notebookContainer, {childList: true});\n",
              "}}\n",
              "\n",
              "// Listen for the clearing of the current output cell\n",
              "var outputEl = gd.closest('.output');\n",
              "if (outputEl) {{\n",
              "    x.observe(outputEl, {childList: true});\n",
              "}}\n",
              "\n",
              "                        })                };                            </script>        </div>\n",
              "</body>\n",
              "</html>"
            ]
          },
          "metadata": {}
        },
        {
          "output_type": "stream",
          "name": "stdout",
          "text": [
            "time: 11.2 s (started: 2022-05-10 02:56:17 +00:00)\n"
          ]
        }
      ]
    },
    {
      "cell_type": "markdown",
      "source": [
        "## SVM - LBP General"
      ],
      "metadata": {
        "id": "97x3L3-lyOXm"
      }
    },
    {
      "cell_type": "code",
      "source": [
        "from sklearn.metrics import balanced_accuracy_score, accuracy_score"
      ],
      "metadata": {
        "colab": {
          "base_uri": "https://localhost:8080/"
        },
        "id": "I-MwaX9qzLoo",
        "outputId": "1a95f248-b91e-4149-e06b-4c8812eb3b65"
      },
      "execution_count": null,
      "outputs": [
        {
          "output_type": "stream",
          "name": "stdout",
          "text": [
            "time: 1.11 ms (started: 2022-05-10 01:30:12 +00:00)\n"
          ]
        }
      ]
    },
    {
      "cell_type": "code",
      "source": [
        "# svm_lbp_result1 = list()\n",
        "# svm_lbp_train_accuracy1_uw = list()\n",
        "# svm_lbp_train_accuracy1_w = list()\n",
        "# svm_lbp_test_accuracy1_uw = list()\n",
        "# svm_lbp_test_accuracy1_w = list()\n",
        "\n",
        "# for item in lbp_exp1:\n",
        "#   # scaling the data\n",
        "#   x_train_sc, x_test_sc = feature_scale(item[\"x_train\"], item[\"x_test\"])\n",
        "\n",
        "#   # train the SVM model\n",
        "#   item[\"model\"].fit(x_train_sc, item[\"y_train\"])\n",
        "\n",
        "#   # predict the train and test set\n",
        "#   y_train_hat = item[\"model\"].predict(x_train_sc)\n",
        "#   y_test_hat =  item[\"model\"].predict(x_test_sc)\n",
        "\n",
        "\n",
        "#   uw_acc_train = balanced_accuracy_score(item[\"y_train\"], y_train_hat)\n",
        "#   w_acc_train = accuracy_score(item[\"y_train\"], y_train_hat)\n",
        "\n",
        "#   uw_acc_test = balanced_accuracy_score(item[\"y_test\"], y_test_hat)\n",
        "#   w_acc_test = accuracy_score(item[\"y_test\"], y_test_hat)\n",
        "\n",
        "#   svm_lbp_test_accuracy1_uw.append(uw_acc_train)\n",
        "#   svm_lbp_test_accuracy1_w.append(w_acc_train)\n",
        "\n",
        "#   svm_lbp_test_accuracy1_uw.append(uw_acc_test)\n",
        "#   svm_lbp_test_accuracy1_w.append(w_acc_test)"
      ],
      "metadata": {
        "colab": {
          "base_uri": "https://localhost:8080/"
        },
        "id": "sC9vtO5oyK3I",
        "outputId": "1d9a90f7-f92e-496c-a82d-8ae8bac18420"
      },
      "execution_count": null,
      "outputs": [
        {
          "output_type": "stream",
          "name": "stdout",
          "text": [
            "time: 57.4 s (started: 2022-05-02 04:05:42 +00:00)\n"
          ]
        }
      ]
    },
    {
      "cell_type": "markdown",
      "source": [
        "### LBP General Visualization"
      ],
      "metadata": {
        "id": "HmbCmT7r0kwX"
      }
    },
    {
      "cell_type": "code",
      "source": [
        "# import plotly.graph_objects as go\n",
        "\n",
        "# fig = go.Figure()\n",
        "# x_lables = [\"[8, 1]\", \"[16, 2]\", \"[24, 3]\"]\n",
        "# # x_name = set((pr_list[0][\"p\"], pr_list[0][\"r\"]))\n",
        "\n",
        "# fig.add_trace(go.Line(\n",
        "#     x=x_lables,\n",
        "#     y=svm_lbp_test_accuracy1_uw,\n",
        "#     mode='lines',\n",
        "#     name='Unweighted Test Accuracy',\n",
        "#     marker=dict(\n",
        "#         color='red',\n",
        "#         size=10\n",
        "#     ))\n",
        "# )\n",
        "\n",
        "# # x_name = set((pr_list[1][\"p\"], pr_list[1][\"r\"]))\n",
        "\n",
        "# fig.add_trace(go.Line(\n",
        "#     x=x_lables,\n",
        "#     y=svm_lbp_test_accuracy1_w,\n",
        "#     mode='lines',\n",
        "#     name='Weighted Test Accuracy',\n",
        "#     marker=dict(\n",
        "#         color='green',\n",
        "#         size=10\n",
        "#     ))\n",
        "# )\n",
        "\n",
        "# # x_name = set((pr_list[2][\"p\"], pr_list[2][\"r\"]))\n",
        "\n",
        "# fig.add_trace(go.Line(\n",
        "#     x=x_lables,\n",
        "#     y=svm_lbp_train_accuracy1_w,\n",
        "#     mode='lines',\n",
        "#     name='Weighted Training Accuracy',\n",
        "#     marker=dict(\n",
        "#         color='blue',\n",
        "#         size=10\n",
        "#     ))\n",
        "# )\n",
        "\n",
        "# fig.update_layout(\n",
        "#     title=\"Random SVM with LBP\",\n",
        "#     xaxis_title=\"'p' and 'r' combination\",\n",
        "#     yaxis_title=\"Accuracy (%)\"\n",
        "# )\n",
        "# fig.update_traces(mode='markers+lines')\n",
        "\n",
        "# fig.show()"
      ],
      "metadata": {
        "id": "jnXGOCfc0gmf"
      },
      "execution_count": null,
      "outputs": []
    },
    {
      "cell_type": "markdown",
      "source": [
        "## Experiemt with PCA"
      ],
      "metadata": {
        "id": "2oHyRKQHqShy"
      }
    },
    {
      "cell_type": "code",
      "source": [
        "from sklearn.decomposition import PCA\n",
        "import matplotlib.pyplot as plt\n",
        "import plotly.express as px"
      ],
      "metadata": {
        "colab": {
          "base_uri": "https://localhost:8080/"
        },
        "id": "6bjHc_rvqU5A",
        "outputId": "097bf3af-e08c-415a-9828-eeaf4967637a"
      },
      "execution_count": null,
      "outputs": [
        {
          "output_type": "stream",
          "name": "stdout",
          "text": [
            "time: 1.74 ms (started: 2022-05-10 01:56:19 +00:00)\n"
          ]
        }
      ]
    },
    {
      "cell_type": "markdown",
      "source": [
        "Comment out for actual run."
      ],
      "metadata": {
        "id": "KglST6H8PwA_"
      }
    },
    {
      "cell_type": "code",
      "source": [
        "# lbp_pca_exper1 = list()\n",
        "\n",
        "# for i in range(len(pr_list)):\n",
        "\n",
        "#   # generate the LBP train and test set\n",
        "#   x_train2, y_train2 = generate_set2(mri_df_train, DATASET_01_TRAIN, pr_list[i][\"p\"], pr_list[i][\"r\"])\n",
        "#   x_test2, y_test2 = generate_set2(mri_df_test, DATASET_01_TEST, pr_list[i][\"p\"], pr_list[i][\"r\"])\n",
        "  \n",
        "#   pca = PCA()\n",
        "#   x_train_pca = pca.fit_transform(x_train2)\n",
        "#   x_test_pca = pca.transform(x_test2)\n",
        "\n",
        "#   exp_var_cumul = np.cumsum(pca.explained_variance_ratio_)\n",
        "#   exp_var_cumul_round = np.round_(exp_var_cumul, decimals = 4)\n",
        "\n",
        "#   # get a list of # of components\n",
        "#   num_comp = range(1, exp_var_cumul_round.shape[0] + 1)\n",
        "\n",
        "#   lbp_pca_exper1.append({\n",
        "#       \"cumsum\": exp_var_cumul_round,\n",
        "#       \"num_comp\": num_comp\n",
        "#   })"
      ],
      "metadata": {
        "colab": {
          "base_uri": "https://localhost:8080/"
        },
        "id": "u3KxRa6dqVsZ",
        "outputId": "fdc71bfe-ce29-444e-d43b-8f469e9f08e1"
      },
      "execution_count": null,
      "outputs": [
        {
          "output_type": "stream",
          "name": "stdout",
          "text": [
            "time: 2.54 ms (started: 2022-05-02 04:06:40 +00:00)\n"
          ]
        }
      ]
    },
    {
      "cell_type": "markdown",
      "source": [
        "### LBP with PCA visualization\n",
        "\n",
        "Comment out for actual run."
      ],
      "metadata": {
        "id": "ulDhjAPBvfSU"
      }
    },
    {
      "cell_type": "code",
      "source": [
        "# fig = px.line(\n",
        "#     x=lbp_pca_exper1[0][\"num_comp\"],\n",
        "#     y=lbp_pca_exper1[0][\"cumsum\"],\n",
        "#     labels={\"x\": \"# Components\", \"y\": \"Cumulative Explained Variance\"},\n",
        "#     title = \"# of components V.S. variance for [8, 1] in LBP\",\n",
        "#     # markers=True\n",
        "# )\n",
        "\n",
        "# fig.show()"
      ],
      "metadata": {
        "colab": {
          "base_uri": "https://localhost:8080/"
        },
        "id": "pfIFIylOrqPz",
        "outputId": "929fcf77-5547-428a-d17c-87294a32a516"
      },
      "execution_count": null,
      "outputs": [
        {
          "output_type": "stream",
          "name": "stdout",
          "text": [
            "time: 1.23 ms (started: 2022-05-02 04:06:40 +00:00)\n"
          ]
        }
      ]
    },
    {
      "cell_type": "code",
      "source": [
        "# fig = px.line(\n",
        "#     x=lbp_pca_exper1[1][\"num_comp\"],\n",
        "#     y=lbp_pca_exper1[1][\"cumsum\"],\n",
        "#     labels={\"x\": \"# Components\", \"y\": \"Cumulative Explained Variance\"},\n",
        "#     title = \"# of components V.S. variance for [16, 2] in LBP\",\n",
        "#     # markers=True\n",
        "# )\n",
        "\n",
        "# fig.show()"
      ],
      "metadata": {
        "colab": {
          "base_uri": "https://localhost:8080/"
        },
        "id": "JHxR5iz_uYSG",
        "outputId": "6e883152-f6e1-4fb4-8124-7bda0502411f"
      },
      "execution_count": null,
      "outputs": [
        {
          "output_type": "stream",
          "name": "stdout",
          "text": [
            "time: 827 µs (started: 2022-05-02 04:06:40 +00:00)\n"
          ]
        }
      ]
    },
    {
      "cell_type": "markdown",
      "source": [
        ""
      ],
      "metadata": {
        "id": "wt4HxX3jvUx9"
      }
    },
    {
      "cell_type": "code",
      "source": [
        "# fig = px.line(\n",
        "#     x=lbp_pca_exper1[2][\"num_comp\"],\n",
        "#     y=lbp_pca_exper1[2][\"cumsum\"],\n",
        "#     labels={\"x\": \"# Components\", \"y\": \"Cumulative Explained Variance\"},\n",
        "#     title = \"# of components V.S. variance for [24, 3] in LBP\",\n",
        "#     # markers=True\n",
        "# )\n",
        "\n",
        "# fig.show()"
      ],
      "metadata": {
        "colab": {
          "base_uri": "https://localhost:8080/"
        },
        "id": "p8EajnUouf9_",
        "outputId": "b8c45d8b-8e2f-4625-d55d-8641a08e6faa"
      },
      "execution_count": null,
      "outputs": [
        {
          "output_type": "stream",
          "name": "stdout",
          "text": [
            "time: 2.16 ms (started: 2022-05-02 04:06:40 +00:00)\n"
          ]
        }
      ]
    },
    {
      "cell_type": "markdown",
      "source": [
        "## LBP Cross Validation\n",
        "\n",
        "Comment out for actual run."
      ],
      "metadata": {
        "id": "TLSP3hGzQWHU"
      }
    },
    {
      "cell_type": "code",
      "source": [
        "# lbp_crossValidate_weighted = list()\n",
        "# lbp_crossValidate_unweighted = list()\n",
        "# kfold_num = 5\n",
        "\n",
        "# for item in lbp_exp1:\n",
        "\n",
        "#   kfold = StratifiedKFold(n_splits=kfold_num, random_state=1, shuffle=True)\n",
        "\n",
        "#   x_train_evaluation = feature_scale2(item[\"x_train\"])\n",
        "\n",
        "#   # retrieve the cross validation score\n",
        "#   unweighted_results = cross_val_score(\n",
        "#       item[\"model\"],\n",
        "#       x_train_evaluation,\n",
        "#       item[\"y_train\"],\n",
        "#       cv=kfold,\n",
        "#       scoring='balanced_accuracy',\n",
        "#       # scoring='accuracy',\n",
        "#       n_jobs=-1\n",
        "#     )\n",
        "  \n",
        "#   weighted_results = cross_val_score(\n",
        "#       item[\"model\"],\n",
        "#       x_train_evaluation,\n",
        "#       item[\"y_train\"],\n",
        "#       cv=kfold,\n",
        "#       scoring='accuracy',\n",
        "#       # scoring='accuracy',\n",
        "#       n_jobs=-1\n",
        "#     )\n",
        "  \n",
        "#   # # append the score val\n",
        "#   # results.append(unweighted_results)\n",
        "#   # names.append(item[\"variance_\"])\n",
        "\n",
        "#   # output the score data\n",
        "#   lbp_crossValidate_weighted.append(mean(weighted_results))\n",
        "#   lbp_crossValidate_unweighted.append(mean(unweighted_results))\n",
        "#   # print(\"Cross Validation Accuracies:\")\n",
        "#   # print('Unweighted Accuracy: %0.6f' % (mean(unweighted_results)))\n",
        "#   # print('Weighted Accuracy: %0.6f' % (mean(weighted_results)))\n",
        "#   # print(\"\\n\")"
      ],
      "metadata": {
        "colab": {
          "base_uri": "https://localhost:8080/"
        },
        "id": "A2Tel81jQa0U",
        "outputId": "102e2008-0128-458d-c87f-6271bba4ae2d"
      },
      "execution_count": null,
      "outputs": [
        {
          "output_type": "stream",
          "name": "stdout",
          "text": [
            "time: 2min 6s (started: 2022-05-02 04:06:40 +00:00)\n"
          ]
        }
      ]
    },
    {
      "cell_type": "markdown",
      "source": [
        "### LBP CV Result Visualization"
      ],
      "metadata": {
        "id": "U2awHGqeRDhj"
      }
    },
    {
      "cell_type": "code",
      "source": [
        "# import plotly.graph_objects as go\n",
        "\n",
        "# fig = go.Figure()\n",
        "# fig.add_trace(go.Line(\n",
        "#     x=x_lables, \n",
        "#     y=lbp_crossValidate_weighted,\n",
        "#     mode='lines',\n",
        "#     name='Weighted Training Accuracy',\n",
        "#     marker=dict(\n",
        "#         color='red',\n",
        "#         size=10\n",
        "#     ))\n",
        "# )\n",
        "\n",
        "# fig.add_trace(go.Line(\n",
        "#     x=x_lables, \n",
        "#     y=lbp_crossValidate_unweighted,\n",
        "#     mode='lines',\n",
        "#     name='Unweighted Training Accuracy',\n",
        "#     marker=dict(\n",
        "#         color='green',\n",
        "#         size=10\n",
        "#     ))\n",
        "# )\n",
        "\n",
        "\n",
        "# fig.update_layout(\n",
        "#     title=\"CV accuracies amongst different combination of 'p' and 'r' values in LBP\",\n",
        "#     xaxis_title=\"Value of 'p' and 'r' in LBP\",\n",
        "#     yaxis_title=\"Accuracy (%)\"\n",
        "# )\n",
        "# fig.update_traces(mode='markers+lines')\n",
        "\n",
        "# fig.show()"
      ],
      "metadata": {
        "colab": {
          "base_uri": "https://localhost:8080/",
          "height": 716
        },
        "id": "bGpM91F9RA8N",
        "outputId": "986f56c8-3bcb-4786-9939-bed875470b20"
      },
      "execution_count": null,
      "outputs": [
        {
          "output_type": "stream",
          "name": "stderr",
          "text": [
            "/usr/local/lib/python3.7/dist-packages/plotly/graph_objs/_deprecations.py:385: DeprecationWarning:\n",
            "\n",
            "plotly.graph_objs.Line is deprecated.\n",
            "Please replace it with one of the following more specific types\n",
            "  - plotly.graph_objs.scatter.Line\n",
            "  - plotly.graph_objs.layout.shape.Line\n",
            "  - etc.\n",
            "\n",
            "\n"
          ]
        },
        {
          "output_type": "display_data",
          "data": {
            "text/html": [
              "<html>\n",
              "<head><meta charset=\"utf-8\" /></head>\n",
              "<body>\n",
              "    <div>            <script src=\"https://cdnjs.cloudflare.com/ajax/libs/mathjax/2.7.5/MathJax.js?config=TeX-AMS-MML_SVG\"></script><script type=\"text/javascript\">if (window.MathJax) {MathJax.Hub.Config({SVG: {font: \"STIX-Web\"}});}</script>                <script type=\"text/javascript\">window.PlotlyConfig = {MathJaxConfig: 'local'};</script>\n",
              "        <script src=\"https://cdn.plot.ly/plotly-2.8.3.min.js\"></script>                <div id=\"063cb706-5c0a-4f34-ae15-9257ef285b4b\" class=\"plotly-graph-div\" style=\"height:525px; width:100%;\"></div>            <script type=\"text/javascript\">                                    window.PLOTLYENV=window.PLOTLYENV || {};                                    if (document.getElementById(\"063cb706-5c0a-4f34-ae15-9257ef285b4b\")) {                    Plotly.newPlot(                        \"063cb706-5c0a-4f34-ae15-9257ef285b4b\",                        [{\"marker\":{\"color\":\"red\",\"size\":10},\"mode\":\"markers+lines\",\"name\":\"Weighted Training Accuracy\",\"x\":[\"[8, 1]\",\"[16, 2]\",\"[24, 3]\"],\"y\":[0.8133766233766233,0.8062337662337662,0.7990909090909091],\"type\":\"scatter\"},{\"marker\":{\"color\":\"green\",\"size\":10},\"mode\":\"markers+lines\",\"name\":\"Unweighted Training Accuracy\",\"x\":[\"[8, 1]\",\"[16, 2]\",\"[24, 3]\"],\"y\":[0.8026103425559947,0.7932353425559947,0.7827239789196311],\"type\":\"scatter\"}],                        {\"template\":{\"data\":{\"bar\":[{\"error_x\":{\"color\":\"#2a3f5f\"},\"error_y\":{\"color\":\"#2a3f5f\"},\"marker\":{\"line\":{\"color\":\"#E5ECF6\",\"width\":0.5},\"pattern\":{\"fillmode\":\"overlay\",\"size\":10,\"solidity\":0.2}},\"type\":\"bar\"}],\"barpolar\":[{\"marker\":{\"line\":{\"color\":\"#E5ECF6\",\"width\":0.5},\"pattern\":{\"fillmode\":\"overlay\",\"size\":10,\"solidity\":0.2}},\"type\":\"barpolar\"}],\"carpet\":[{\"aaxis\":{\"endlinecolor\":\"#2a3f5f\",\"gridcolor\":\"white\",\"linecolor\":\"white\",\"minorgridcolor\":\"white\",\"startlinecolor\":\"#2a3f5f\"},\"baxis\":{\"endlinecolor\":\"#2a3f5f\",\"gridcolor\":\"white\",\"linecolor\":\"white\",\"minorgridcolor\":\"white\",\"startlinecolor\":\"#2a3f5f\"},\"type\":\"carpet\"}],\"choropleth\":[{\"colorbar\":{\"outlinewidth\":0,\"ticks\":\"\"},\"type\":\"choropleth\"}],\"contour\":[{\"colorbar\":{\"outlinewidth\":0,\"ticks\":\"\"},\"colorscale\":[[0.0,\"#0d0887\"],[0.1111111111111111,\"#46039f\"],[0.2222222222222222,\"#7201a8\"],[0.3333333333333333,\"#9c179e\"],[0.4444444444444444,\"#bd3786\"],[0.5555555555555556,\"#d8576b\"],[0.6666666666666666,\"#ed7953\"],[0.7777777777777778,\"#fb9f3a\"],[0.8888888888888888,\"#fdca26\"],[1.0,\"#f0f921\"]],\"type\":\"contour\"}],\"contourcarpet\":[{\"colorbar\":{\"outlinewidth\":0,\"ticks\":\"\"},\"type\":\"contourcarpet\"}],\"heatmap\":[{\"colorbar\":{\"outlinewidth\":0,\"ticks\":\"\"},\"colorscale\":[[0.0,\"#0d0887\"],[0.1111111111111111,\"#46039f\"],[0.2222222222222222,\"#7201a8\"],[0.3333333333333333,\"#9c179e\"],[0.4444444444444444,\"#bd3786\"],[0.5555555555555556,\"#d8576b\"],[0.6666666666666666,\"#ed7953\"],[0.7777777777777778,\"#fb9f3a\"],[0.8888888888888888,\"#fdca26\"],[1.0,\"#f0f921\"]],\"type\":\"heatmap\"}],\"heatmapgl\":[{\"colorbar\":{\"outlinewidth\":0,\"ticks\":\"\"},\"colorscale\":[[0.0,\"#0d0887\"],[0.1111111111111111,\"#46039f\"],[0.2222222222222222,\"#7201a8\"],[0.3333333333333333,\"#9c179e\"],[0.4444444444444444,\"#bd3786\"],[0.5555555555555556,\"#d8576b\"],[0.6666666666666666,\"#ed7953\"],[0.7777777777777778,\"#fb9f3a\"],[0.8888888888888888,\"#fdca26\"],[1.0,\"#f0f921\"]],\"type\":\"heatmapgl\"}],\"histogram\":[{\"marker\":{\"pattern\":{\"fillmode\":\"overlay\",\"size\":10,\"solidity\":0.2}},\"type\":\"histogram\"}],\"histogram2d\":[{\"colorbar\":{\"outlinewidth\":0,\"ticks\":\"\"},\"colorscale\":[[0.0,\"#0d0887\"],[0.1111111111111111,\"#46039f\"],[0.2222222222222222,\"#7201a8\"],[0.3333333333333333,\"#9c179e\"],[0.4444444444444444,\"#bd3786\"],[0.5555555555555556,\"#d8576b\"],[0.6666666666666666,\"#ed7953\"],[0.7777777777777778,\"#fb9f3a\"],[0.8888888888888888,\"#fdca26\"],[1.0,\"#f0f921\"]],\"type\":\"histogram2d\"}],\"histogram2dcontour\":[{\"colorbar\":{\"outlinewidth\":0,\"ticks\":\"\"},\"colorscale\":[[0.0,\"#0d0887\"],[0.1111111111111111,\"#46039f\"],[0.2222222222222222,\"#7201a8\"],[0.3333333333333333,\"#9c179e\"],[0.4444444444444444,\"#bd3786\"],[0.5555555555555556,\"#d8576b\"],[0.6666666666666666,\"#ed7953\"],[0.7777777777777778,\"#fb9f3a\"],[0.8888888888888888,\"#fdca26\"],[1.0,\"#f0f921\"]],\"type\":\"histogram2dcontour\"}],\"mesh3d\":[{\"colorbar\":{\"outlinewidth\":0,\"ticks\":\"\"},\"type\":\"mesh3d\"}],\"parcoords\":[{\"line\":{\"colorbar\":{\"outlinewidth\":0,\"ticks\":\"\"}},\"type\":\"parcoords\"}],\"pie\":[{\"automargin\":true,\"type\":\"pie\"}],\"scatter\":[{\"marker\":{\"colorbar\":{\"outlinewidth\":0,\"ticks\":\"\"}},\"type\":\"scatter\"}],\"scatter3d\":[{\"line\":{\"colorbar\":{\"outlinewidth\":0,\"ticks\":\"\"}},\"marker\":{\"colorbar\":{\"outlinewidth\":0,\"ticks\":\"\"}},\"type\":\"scatter3d\"}],\"scattercarpet\":[{\"marker\":{\"colorbar\":{\"outlinewidth\":0,\"ticks\":\"\"}},\"type\":\"scattercarpet\"}],\"scattergeo\":[{\"marker\":{\"colorbar\":{\"outlinewidth\":0,\"ticks\":\"\"}},\"type\":\"scattergeo\"}],\"scattergl\":[{\"marker\":{\"colorbar\":{\"outlinewidth\":0,\"ticks\":\"\"}},\"type\":\"scattergl\"}],\"scattermapbox\":[{\"marker\":{\"colorbar\":{\"outlinewidth\":0,\"ticks\":\"\"}},\"type\":\"scattermapbox\"}],\"scatterpolar\":[{\"marker\":{\"colorbar\":{\"outlinewidth\":0,\"ticks\":\"\"}},\"type\":\"scatterpolar\"}],\"scatterpolargl\":[{\"marker\":{\"colorbar\":{\"outlinewidth\":0,\"ticks\":\"\"}},\"type\":\"scatterpolargl\"}],\"scatterternary\":[{\"marker\":{\"colorbar\":{\"outlinewidth\":0,\"ticks\":\"\"}},\"type\":\"scatterternary\"}],\"surface\":[{\"colorbar\":{\"outlinewidth\":0,\"ticks\":\"\"},\"colorscale\":[[0.0,\"#0d0887\"],[0.1111111111111111,\"#46039f\"],[0.2222222222222222,\"#7201a8\"],[0.3333333333333333,\"#9c179e\"],[0.4444444444444444,\"#bd3786\"],[0.5555555555555556,\"#d8576b\"],[0.6666666666666666,\"#ed7953\"],[0.7777777777777778,\"#fb9f3a\"],[0.8888888888888888,\"#fdca26\"],[1.0,\"#f0f921\"]],\"type\":\"surface\"}],\"table\":[{\"cells\":{\"fill\":{\"color\":\"#EBF0F8\"},\"line\":{\"color\":\"white\"}},\"header\":{\"fill\":{\"color\":\"#C8D4E3\"},\"line\":{\"color\":\"white\"}},\"type\":\"table\"}]},\"layout\":{\"annotationdefaults\":{\"arrowcolor\":\"#2a3f5f\",\"arrowhead\":0,\"arrowwidth\":1},\"autotypenumbers\":\"strict\",\"coloraxis\":{\"colorbar\":{\"outlinewidth\":0,\"ticks\":\"\"}},\"colorscale\":{\"diverging\":[[0,\"#8e0152\"],[0.1,\"#c51b7d\"],[0.2,\"#de77ae\"],[0.3,\"#f1b6da\"],[0.4,\"#fde0ef\"],[0.5,\"#f7f7f7\"],[0.6,\"#e6f5d0\"],[0.7,\"#b8e186\"],[0.8,\"#7fbc41\"],[0.9,\"#4d9221\"],[1,\"#276419\"]],\"sequential\":[[0.0,\"#0d0887\"],[0.1111111111111111,\"#46039f\"],[0.2222222222222222,\"#7201a8\"],[0.3333333333333333,\"#9c179e\"],[0.4444444444444444,\"#bd3786\"],[0.5555555555555556,\"#d8576b\"],[0.6666666666666666,\"#ed7953\"],[0.7777777777777778,\"#fb9f3a\"],[0.8888888888888888,\"#fdca26\"],[1.0,\"#f0f921\"]],\"sequentialminus\":[[0.0,\"#0d0887\"],[0.1111111111111111,\"#46039f\"],[0.2222222222222222,\"#7201a8\"],[0.3333333333333333,\"#9c179e\"],[0.4444444444444444,\"#bd3786\"],[0.5555555555555556,\"#d8576b\"],[0.6666666666666666,\"#ed7953\"],[0.7777777777777778,\"#fb9f3a\"],[0.8888888888888888,\"#fdca26\"],[1.0,\"#f0f921\"]]},\"colorway\":[\"#636efa\",\"#EF553B\",\"#00cc96\",\"#ab63fa\",\"#FFA15A\",\"#19d3f3\",\"#FF6692\",\"#B6E880\",\"#FF97FF\",\"#FECB52\"],\"font\":{\"color\":\"#2a3f5f\"},\"geo\":{\"bgcolor\":\"white\",\"lakecolor\":\"white\",\"landcolor\":\"#E5ECF6\",\"showlakes\":true,\"showland\":true,\"subunitcolor\":\"white\"},\"hoverlabel\":{\"align\":\"left\"},\"hovermode\":\"closest\",\"mapbox\":{\"style\":\"light\"},\"paper_bgcolor\":\"white\",\"plot_bgcolor\":\"#E5ECF6\",\"polar\":{\"angularaxis\":{\"gridcolor\":\"white\",\"linecolor\":\"white\",\"ticks\":\"\"},\"bgcolor\":\"#E5ECF6\",\"radialaxis\":{\"gridcolor\":\"white\",\"linecolor\":\"white\",\"ticks\":\"\"}},\"scene\":{\"xaxis\":{\"backgroundcolor\":\"#E5ECF6\",\"gridcolor\":\"white\",\"gridwidth\":2,\"linecolor\":\"white\",\"showbackground\":true,\"ticks\":\"\",\"zerolinecolor\":\"white\"},\"yaxis\":{\"backgroundcolor\":\"#E5ECF6\",\"gridcolor\":\"white\",\"gridwidth\":2,\"linecolor\":\"white\",\"showbackground\":true,\"ticks\":\"\",\"zerolinecolor\":\"white\"},\"zaxis\":{\"backgroundcolor\":\"#E5ECF6\",\"gridcolor\":\"white\",\"gridwidth\":2,\"linecolor\":\"white\",\"showbackground\":true,\"ticks\":\"\",\"zerolinecolor\":\"white\"}},\"shapedefaults\":{\"line\":{\"color\":\"#2a3f5f\"}},\"ternary\":{\"aaxis\":{\"gridcolor\":\"white\",\"linecolor\":\"white\",\"ticks\":\"\"},\"baxis\":{\"gridcolor\":\"white\",\"linecolor\":\"white\",\"ticks\":\"\"},\"bgcolor\":\"#E5ECF6\",\"caxis\":{\"gridcolor\":\"white\",\"linecolor\":\"white\",\"ticks\":\"\"}},\"title\":{\"x\":0.05},\"xaxis\":{\"automargin\":true,\"gridcolor\":\"white\",\"linecolor\":\"white\",\"ticks\":\"\",\"title\":{\"standoff\":15},\"zerolinecolor\":\"white\",\"zerolinewidth\":2},\"yaxis\":{\"automargin\":true,\"gridcolor\":\"white\",\"linecolor\":\"white\",\"ticks\":\"\",\"title\":{\"standoff\":15},\"zerolinecolor\":\"white\",\"zerolinewidth\":2}}},\"title\":{\"text\":\"CV accuracies amongst different combination of 'p' and 'r' values in LBP\"},\"xaxis\":{\"title\":{\"text\":\"Value of 'p' and 'r' in LBP\"}},\"yaxis\":{\"title\":{\"text\":\"Accuracy (%)\"}}},                        {\"responsive\": true}                    ).then(function(){\n",
              "                            \n",
              "var gd = document.getElementById('063cb706-5c0a-4f34-ae15-9257ef285b4b');\n",
              "var x = new MutationObserver(function (mutations, observer) {{\n",
              "        var display = window.getComputedStyle(gd).display;\n",
              "        if (!display || display === 'none') {{\n",
              "            console.log([gd, 'removed!']);\n",
              "            Plotly.purge(gd);\n",
              "            observer.disconnect();\n",
              "        }}\n",
              "}});\n",
              "\n",
              "// Listen for the removal of the full notebook cells\n",
              "var notebookContainer = gd.closest('#notebook-container');\n",
              "if (notebookContainer) {{\n",
              "    x.observe(notebookContainer, {childList: true});\n",
              "}}\n",
              "\n",
              "// Listen for the clearing of the current output cell\n",
              "var outputEl = gd.closest('.output');\n",
              "if (outputEl) {{\n",
              "    x.observe(outputEl, {childList: true});\n",
              "}}\n",
              "\n",
              "                        })                };                            </script>        </div>\n",
              "</body>\n",
              "</html>"
            ]
          },
          "metadata": {}
        },
        {
          "output_type": "stream",
          "name": "stdout",
          "text": [
            "time: 18.6 ms (started: 2022-05-02 04:08:46 +00:00)\n"
          ]
        }
      ]
    },
    {
      "cell_type": "markdown",
      "source": [
        "## Hyperparameter Tuning"
      ],
      "metadata": {
        "id": "5t2_dGHDTjy3"
      }
    },
    {
      "cell_type": "markdown",
      "source": [
        "#### setup"
      ],
      "metadata": {
        "id": "0RPzX2ex8mN6"
      }
    },
    {
      "cell_type": "code",
      "source": [
        "selected_exp_var = [0.7, 0.8, 0.9, 0.95, 0.97, 0.99, 1.0]\n",
        "select_comp_lbp81 = [158, 193, 232, 253, 262, 272, 279]\n",
        "select_comp_lbp162 = [166, 200, 235, 255, 264, 273, 279]\n",
        "select_comp_lbp243 = [173, 205, 239, 257, 265, 273, 279]"
      ],
      "metadata": {
        "colab": {
          "base_uri": "https://localhost:8080/"
        },
        "id": "jX6P6sE6voV0",
        "outputId": "b9a21eae-dea2-48d0-d8f3-c2871bb82a7b"
      },
      "execution_count": null,
      "outputs": [
        {
          "output_type": "stream",
          "name": "stdout",
          "text": [
            "time: 2.36 ms (started: 2022-05-10 02:58:05 +00:00)\n"
          ]
        }
      ]
    },
    {
      "cell_type": "code",
      "source": [
        "\n",
        "x_train_exp81 = list()\n",
        "\n",
        "for i in range(len(selected_exp_var)):\n",
        "\n",
        "  # generate the LBP train and test set by selecting [8, 1] p and r combination\n",
        "  x_train2, y_train2 = generate_set2(mri_df_train, DATASET_01_TRAIN, pr_list[0][\"p\"], pr_list[0][\"r\"])\n",
        "  x_test2, y_test2 = generate_set2(mri_df_test, DATASET_01_TEST, pr_list[0][\"p\"], pr_list[0][\"r\"])\n",
        "\n",
        "  temp_train, temp_test = generate_PCA_set(select_comp_lbp81[i], x_train2, x_test2)\n",
        "  \n",
        "  x_train_exp81.append({\n",
        "      \"num_comp\": select_comp_lbp81[i],\n",
        "      \"variance_\": selected_exp_var[i],\n",
        "      \"model\": get_model(),\n",
        "      \"x_train_\": temp_train,\n",
        "      \"y_train_\": y_train2,\n",
        "      \"x_test_\": temp_test,\n",
        "      \"y_test_\": y_test2\n",
        "  })"
      ],
      "metadata": {
        "colab": {
          "base_uri": "https://localhost:8080/"
        },
        "id": "i7VUSZNg0rCe",
        "outputId": "eeb0bc1e-cd61-42c4-88eb-9ab5585dce18"
      },
      "execution_count": null,
      "outputs": [
        {
          "output_type": "stream",
          "name": "stdout",
          "text": [
            "time: 1min 53s (started: 2022-05-10 02:58:10 +00:00)\n"
          ]
        }
      ]
    },
    {
      "cell_type": "code",
      "source": [
        "\n",
        "x_train_exp162 = list()\n",
        "\n",
        "for i in range(len(selected_exp_var)):\n",
        "\n",
        "  # generate the LBP train and test set by selecting [8, 1] p and r combination\n",
        "  x_train2, y_train2 = generate_set2(mri_df_train, DATASET_01_TRAIN, pr_list[1][\"p\"], pr_list[1][\"r\"])\n",
        "  x_test2, y_test2 = generate_set2(mri_df_test, DATASET_01_TEST, pr_list[1][\"p\"], pr_list[1][\"r\"])\n",
        "\n",
        "  temp_train, temp_test = generate_PCA_set(select_comp_lbp162[i], x_train2, x_test2)\n",
        "  \n",
        "  x_train_exp162.append({\n",
        "      \"num_comp\": select_comp_lbp162[i],\n",
        "      \"variance_\": selected_exp_var[i],\n",
        "      \"model\": get_model(),\n",
        "      \"x_train_\": temp_train,\n",
        "      \"y_train_\": y_train2,\n",
        "      \"x_test_\": temp_test,\n",
        "      \"y_test_\": y_test2\n",
        "  })"
      ],
      "metadata": {
        "colab": {
          "base_uri": "https://localhost:8080/"
        },
        "id": "irLrPZvt5ozB",
        "outputId": "538c679f-811e-4bcb-ae8b-666c60879ef6"
      },
      "execution_count": null,
      "outputs": [
        {
          "output_type": "stream",
          "name": "stdout",
          "text": [
            "time: 2min 35s (started: 2022-05-10 03:00:03 +00:00)\n"
          ]
        }
      ]
    },
    {
      "cell_type": "code",
      "source": [
        "\n",
        "x_train_exp243 = list()\n",
        "\n",
        "for i in range(len(selected_exp_var)):\n",
        "\n",
        "  # generate the LBP train and test set by selecting [8, 1] p and r combination\n",
        "  x_train2, y_train2 = generate_set2(mri_df_train, DATASET_01_TRAIN, pr_list[2][\"p\"], pr_list[2][\"r\"])\n",
        "  x_test2, y_test2 = generate_set2(mri_df_test, DATASET_01_TEST, pr_list[2][\"p\"], pr_list[2][\"r\"])\n",
        "\n",
        "  temp_train, temp_test = generate_PCA_set(select_comp_lbp243[i], x_train2, x_test2)\n",
        "  \n",
        "  x_train_exp243.append({\n",
        "      \"num_comp\": select_comp_lbp243[i],\n",
        "      \"variance_\": selected_exp_var[i],\n",
        "      \"model\": get_model(),\n",
        "      \"x_train_\": temp_train,\n",
        "      \"y_train_\": y_train2,\n",
        "      \"x_test_\": temp_test,\n",
        "      \"y_test_\": y_test2\n",
        "  })"
      ],
      "metadata": {
        "colab": {
          "base_uri": "https://localhost:8080/"
        },
        "id": "Cu_ZqrIc5olD",
        "outputId": "0eaba972-ab63-445f-97f6-505078af688f"
      },
      "execution_count": null,
      "outputs": [
        {
          "output_type": "stream",
          "name": "stdout",
          "text": [
            "time: 3min 10s (started: 2022-05-10 03:02:39 +00:00)\n"
          ]
        }
      ]
    },
    {
      "cell_type": "code",
      "source": [
        "from sklearn.model_selection import GridSearchCV\n",
        "from sklearn.metrics import confusion_matrix"
      ],
      "metadata": {
        "colab": {
          "base_uri": "https://localhost:8080/"
        },
        "id": "qydn7hdlTpdg",
        "outputId": "3551ef42-915c-437e-9f05-41b80aacdc4a"
      },
      "execution_count": null,
      "outputs": [
        {
          "output_type": "stream",
          "name": "stdout",
          "text": [
            "time: 1.41 ms (started: 2022-05-10 02:02:57 +00:00)\n"
          ]
        }
      ]
    },
    {
      "cell_type": "code",
      "source": [
        "# # store a list of best parameter of SVM\n",
        "# lbp_bestPara_w = list()\n",
        "# lbp_bestPara_uw = list()\n",
        "\n",
        "# lbp_bestPara_w = list()\n",
        "# lbp_bestPara_uw = list()\n",
        "\n",
        "# lbp_bestPara_w = list()\n",
        "# lbp_bestPara_uw = list()"
      ],
      "metadata": {
        "colab": {
          "base_uri": "https://localhost:8080/"
        },
        "id": "2sDmJ8n4Tuwd",
        "outputId": "ba855d50-54f0-4b1f-e581-3362c7426852"
      },
      "execution_count": null,
      "outputs": [
        {
          "output_type": "stream",
          "name": "stdout",
          "text": [
            "time: 1.32 ms (started: 2022-05-02 04:14:10 +00:00)\n"
          ]
        }
      ]
    },
    {
      "cell_type": "code",
      "source": [
        "# a list of set of parameter for the SVM\n",
        "tuned_paramteres = [\n",
        "  {'kernel': ['rbf'], 'gamma': [0.0001, 0.001, 0.01, 0.1, 1.0, 10, 20, 50, 70, 100, 'scale'], 'C': [0.03125, 0.0001, 0.001, 0.01,0.1, 1.0, 2.0, 3.0, 4.0, 5.0, 10.0, 25.0, 50.0, 100.0, 1000.0]},\n",
        "  {'kernel': ['linear', 'sigmoid', ], 'C': [0.03125, 0.0001, 0.001, 0.01,0.1, 1.0, 2.0, 3.0, 4.0, 5.0, 10.0, 25.0, 50.0, 100.0, 1000.0]},\n",
        "  {'kernel': ['poly'], 'degree': [1, 2, 3, 4, 5, 6, 7, 8, 9, 10], 'C': [0.03125, 0.0001, 0.001, 0.01,0.1, 1.0, 2.0, 3.0, 4.0, 5.0, 10.0, 25.0, 50.0, 100.0, 1000.0]},\n",
        "]"
      ],
      "metadata": {
        "colab": {
          "base_uri": "https://localhost:8080/"
        },
        "id": "ViQ5KCTvTyWM",
        "outputId": "265cd2ff-4667-4df5-f8ec-0856eb721828"
      },
      "execution_count": null,
      "outputs": [
        {
          "output_type": "stream",
          "name": "stdout",
          "text": [
            "time: 10.7 ms (started: 2022-05-02 04:14:10 +00:00)\n"
          ]
        }
      ]
    },
    {
      "cell_type": "markdown",
      "source": [
        "Save the training results"
      ],
      "metadata": {
        "id": "l4dL3eQPAZH9"
      }
    },
    {
      "cell_type": "markdown",
      "source": [
        "### training"
      ],
      "metadata": {
        "id": "F78iirTo_zW4"
      }
    },
    {
      "cell_type": "code",
      "source": [
        "from numpy import mean\n",
        "\n",
        "def get_optimal_para_lbp(arr_, kfold_num, tune_para):\n",
        "\n",
        "  _variance, _weighted_cv, _unweighted_cv, _weighted_validate, _unweighted_validate = list(), list(), list(), list(), list()\n",
        "\n",
        "\n",
        "  # print(\"Unweighted accruacy\\n\")\n",
        "  for item in arr_:\n",
        "    print(\"\\n########################################################################\")\n",
        "    print(\"{} % variance PCA\".format(item['variance_'] * 100))\n",
        "    print(\"########################################################################\")\n",
        "    # define the k fold\n",
        "    kfold = StratifiedKFold(n_splits=kfold_num, random_state=1, shuffle=True)\n",
        "\n",
        "    x_train_evaluation = feature_scale2(item[\"x_train_\"])\n",
        "\n",
        "    # retrieve the cross validation score\n",
        "    unweighted_results = cross_val_score(\n",
        "        item[\"model\"],\n",
        "        x_train_evaluation,\n",
        "        item[\"y_train_\"],\n",
        "        cv=kfold,\n",
        "        scoring='balanced_accuracy',\n",
        "        # scoring='accuracy',\n",
        "        n_jobs=-1\n",
        "      )\n",
        "    \n",
        "    weighted_results = cross_val_score(\n",
        "        item[\"model\"],\n",
        "        x_train_evaluation,\n",
        "        item[\"y_train_\"],\n",
        "        cv=kfold,\n",
        "        scoring='accuracy',\n",
        "        # scoring='accuracy',\n",
        "        n_jobs=-1\n",
        "      )\n",
        "    \n",
        "    # # append the score val\n",
        "    # results.append(unweighted_results)\n",
        "    # names.append(item[\"variance_\"])\n",
        "\n",
        "    # output the score data\n",
        "    print(\"Cross Validation Accuracies:\")\n",
        "    print('Unweighted Accuracy: %0.6f' % (mean(unweighted_results)))\n",
        "    print('Weighted Accuracy: %0.6f' % (mean(weighted_results)))\n",
        "    print(\"\\n\")\n",
        "\n",
        "    # keep track of the model array\n",
        "    i = 0\n",
        "    j = 1\n",
        "\n",
        "    # track the all unweighted and weighted accuracies during the fold training\n",
        "    test_unw_acc, test_wei_acc = list(), list()\n",
        "\n",
        "\n",
        "    # fit the train and test data index into the model\n",
        "    for train, test in kfold.split(item['x_train_'], x_train_df['class']):\n",
        "      print(\"Fold number: \" + str(j))\n",
        "\n",
        "      ########################## Validation Set ##########################\n",
        "      # get the train and validation sets\n",
        "      x_train_, y_train_ = np.array(item['x_train_'][train]), np.array(x_train_df['class'][train])\n",
        "      x_test_, y_test_ = np.array(item['x_train_'][test]), np.array(x_train_df['class'][test])\n",
        "\n",
        "      x_train_sc, x_test_sc = feature_scale(x_train_, x_test_)\n",
        "\n",
        "      # save the trained model to 'var_kfold_results' array\n",
        "      # item[\"model\"].fit(x_train_.T, y_train_.T)\n",
        "\n",
        "      # the weighted\n",
        "      SVM_GRID_w = GridSearchCV(item[\"model\"], tune_para, scoring='accuracy')\n",
        "      SVM_GRID_w.fit(x_train_sc, y_train_.T)\n",
        "      y_pred = SVM_GRID_w.predict(x_test_sc)\n",
        "\n",
        "      w_acc = accuracy_score(y_test_, y_pred)\n",
        "      # print(\"Y Test: {}\\nY Pred: {}\".format(np.array(y_test_).shape, np.array(y_pred).shape))\n",
        "      test_wei_acc.append(w_acc)\n",
        "\n",
        "      # the unweighted\n",
        "      SVM_GRID_uw = GridSearchCV(item[\"model\"], tune_para, scoring='balanced_accuracy')\n",
        "      SVM_GRID_uw.fit(x_train_sc, y_train_.T)\n",
        "      unw_y_pred = SVM_GRID_uw.predict(x_test_sc)\n",
        "\n",
        "      uw_acc = balanced_accuracy_score(y_test_, unw_y_pred)\n",
        "      test_unw_acc.append(uw_acc)\n",
        "      \n",
        "      # calculate the gamma value\n",
        "      n_features = x_train_sc.shape[1]\n",
        "      gamma = 1/(n_features * x_train_sc.var())\n",
        "      print('Gamma: %.09f' % gamma)\n",
        "        \n",
        "      print(\"The best weighted para: \")\n",
        "      print(SVM_GRID_w.best_params_)\n",
        "      print(f\"Accuracy: %0.6f\" % (w_acc))\n",
        "      # print(\"====\")\n",
        "      print(\"The best unweighted para: \")\n",
        "      print(SVM_GRID_uw.best_params_)\n",
        "      print(f\"Accuracy: %0.6f\" % (uw_acc))\n",
        "      print(\"\")\n",
        "\n",
        "      j += 1\n",
        "      # end inner loop\n",
        "\n",
        "\n",
        "    _variance.append(item[\"variance_\"])\n",
        "    _weighted_cv.append(mean(weighted_results))\n",
        "    _unweighted_cv.append(mean(unweighted_results))\n",
        "    _weighted_validate.append(mean(test_wei_acc))\n",
        "    _unweighted_validate.append(mean(test_unw_acc))\n",
        "\n",
        "    print(\"\\nMean Validation set:\")\n",
        "    print(f\"Weighted accuracy: %0.6f\" % (mean(test_wei_acc)))\n",
        "    print(f\"Unweighted accuracy: %0.6f\" % (mean(test_unw_acc)))\n",
        "\n",
        "    i += 1\n",
        "    # end outter loop\n",
        "  \n",
        "  return _variance, _weighted_cv, _unweighted_cv, _weighted_validate, _unweighted_validate"
      ],
      "metadata": {
        "colab": {
          "base_uri": "https://localhost:8080/"
        },
        "id": "4uEOFDi_TyNO",
        "outputId": "5e3c43b0-5235-4815-d346-7988aa38ba10"
      },
      "execution_count": null,
      "outputs": [
        {
          "output_type": "stream",
          "name": "stdout",
          "text": [
            "time: 155 ms (started: 2022-05-10 03:05:50 +00:00)\n"
          ]
        }
      ]
    },
    {
      "cell_type": "code",
      "source": [
        "# exper81_variance, exper81_weighted_cv, exper81_unweighted_cv, exper81_weighted_validate, exper81_unweighted_validate = get_optimal_para_lbp(x_train_exp81, 5, tuned_paramteres)"
      ],
      "metadata": {
        "colab": {
          "base_uri": "https://localhost:8080/"
        },
        "id": "Jd4Sot4tAYtQ",
        "outputId": "78dd6361-b5b9-421a-b051-bdd6c47af317"
      },
      "execution_count": null,
      "outputs": [
        {
          "output_type": "stream",
          "name": "stdout",
          "text": [
            "time: 552 µs (started: 2022-05-02 04:14:10 +00:00)\n"
          ]
        }
      ]
    },
    {
      "cell_type": "code",
      "source": [
        "# exper162_variance, exper162_weighted_cv, exper162_unweighted_cv, exper162_weighted_validate, exper162_unweighted_validate = get_optimal_para_lbp(x_train_exp162, 5, tuned_paramteres)"
      ],
      "metadata": {
        "id": "icQNo2nDC7p9",
        "colab": {
          "base_uri": "https://localhost:8080/"
        },
        "outputId": "37c0c337-d39b-4201-91e9-789f1df6f4bb"
      },
      "execution_count": null,
      "outputs": [
        {
          "output_type": "stream",
          "name": "stdout",
          "text": [
            "time: 732 µs (started: 2022-05-02 04:14:10 +00:00)\n"
          ]
        }
      ]
    },
    {
      "cell_type": "code",
      "source": [
        "# exper243_variance, exper243_weighted_cv, exper243_unweighted_cv, exper243_weighted_validate, exper243_unweighted_validate = get_optimal_para_lbp(x_train_exp243, 5, tuned_paramteres)"
      ],
      "metadata": {
        "id": "IckPq-VoC9H0",
        "colab": {
          "base_uri": "https://localhost:8080/"
        },
        "outputId": "82da3ba2-8c05-4e4b-a19f-5bebc1aead37"
      },
      "execution_count": null,
      "outputs": [
        {
          "output_type": "stream",
          "name": "stdout",
          "text": [
            "time: 658 µs (started: 2022-05-02 04:14:10 +00:00)\n"
          ]
        }
      ]
    },
    {
      "cell_type": "markdown",
      "source": [
        "### visuaizing the results\n",
        "\n",
        "Comment out for actual run."
      ],
      "metadata": {
        "id": "NJWrpCDkO96p"
      }
    },
    {
      "cell_type": "code",
      "source": [
        "# import plotly.graph_objects as go\n",
        "\n",
        "# fig = go.Figure()\n",
        "# fig.add_trace(go.Line(\n",
        "#     x=exper81_variance,\n",
        "#     y=exper81_weighted_cv,\n",
        "#     mode='lines',\n",
        "#     name='Weighted CV Accuracy',\n",
        "#     marker=dict(\n",
        "#         color='red',\n",
        "#         size=10\n",
        "#     ))\n",
        "# )\n",
        "\n",
        "# fig.add_trace(go.Line(\n",
        "#     x=exper81_variance,\n",
        "#     y=exper81_unweighted_cv,\n",
        "#     mode='lines',\n",
        "#     name='Unweighted CV Accuracy',\n",
        "#     marker=dict(\n",
        "#         color='green',\n",
        "#         size=10\n",
        "#     ))\n",
        "# )\n",
        "\n",
        "# fig.add_trace(go.Line(\n",
        "#     x=exper81_variance,\n",
        "#     y=exper81_weighted_validate,\n",
        "#     mode='lines',\n",
        "#     name='Weighted Validation Accuracy',\n",
        "#     marker=dict(\n",
        "#         color='blue',\n",
        "#         size=10\n",
        "#     ))\n",
        "# )\n",
        "\n",
        "# fig.add_trace(go.Line(\n",
        "#     x=exper81_variance,\n",
        "#     y=exper81_unweighted_validate,\n",
        "#     mode='lines',\n",
        "#     name='Unweighted Validation Accuracy',\n",
        "#     marker=dict(\n",
        "#         color='cyan',\n",
        "#         size=10\n",
        "#     ))\n",
        "# )\n",
        "\n",
        "\n",
        "\n",
        "# fig.update_layout(\n",
        "#     title=\"SVM CV (img aug) on different PCA variance % for LBP (p:8, r:1)\",\n",
        "#     xaxis_title=\"% of Explained Variance\",\n",
        "#     yaxis_title=\"Accuracy (%)\"\n",
        "# )\n",
        "# fig.update_traces(mode='markers+lines')\n",
        "\n",
        "# fig.show()"
      ],
      "metadata": {
        "id": "mhZFm-2yPAm_",
        "colab": {
          "base_uri": "https://localhost:8080/"
        },
        "outputId": "217751ac-ba30-4968-e00f-ee17b6620ac1"
      },
      "execution_count": null,
      "outputs": [
        {
          "output_type": "stream",
          "name": "stdout",
          "text": [
            "time: 4.27 ms (started: 2022-05-02 04:14:10 +00:00)\n"
          ]
        }
      ]
    },
    {
      "cell_type": "code",
      "source": [
        "# import plotly.graph_objects as go\n",
        "\n",
        "# fig = go.Figure()\n",
        "# fig.add_trace(go.Line(\n",
        "#     x=exper162_variance,\n",
        "#     y=exper162_weighted_cv,\n",
        "#     mode='lines',\n",
        "#     name='Weighted CV Accuracy',\n",
        "#     marker=dict(\n",
        "#         color='red',\n",
        "#         size=10\n",
        "#     ))\n",
        "# )\n",
        "\n",
        "# fig.add_trace(go.Line(\n",
        "#     x=exper162_variance,\n",
        "#     y=exper162_unweighted_cv,\n",
        "#     mode='lines',\n",
        "#     name='Unweighted CV Accuracy',\n",
        "#     marker=dict(\n",
        "#         color='green',\n",
        "#         size=10\n",
        "#     ))\n",
        "# )\n",
        "\n",
        "# fig.add_trace(go.Line(\n",
        "#     x=exper162_variance,\n",
        "#     y=exper162_weighted_validate,\n",
        "#     mode='lines',\n",
        "#     name='Weighted Validation Accuracy',\n",
        "#     marker=dict(\n",
        "#         color='blue',\n",
        "#         size=10\n",
        "#     ))\n",
        "# )\n",
        "\n",
        "# fig.add_trace(go.Line(\n",
        "#     x=exper162_variance,\n",
        "#     y=exper162_unweighted_validate,\n",
        "#     mode='lines',\n",
        "#     name='Unweighted Validation Accuracy',\n",
        "#     marker=dict(\n",
        "#         color='cyan',\n",
        "#         size=10\n",
        "#     ))\n",
        "# )\n",
        "\n",
        "\n",
        "\n",
        "# fig.update_layout(\n",
        "#     title=\"SVM CV (img aug) on different PCA variance % for LBP (p:16, r:2)\",\n",
        "#     xaxis_title=\"% of Explained Variance\",\n",
        "#     yaxis_title=\"Accuracy (%)\"\n",
        "# )\n",
        "# fig.update_traces(mode='markers+lines')\n",
        "\n",
        "# fig.show()"
      ],
      "metadata": {
        "id": "MitOGWuIPYjh",
        "colab": {
          "base_uri": "https://localhost:8080/"
        },
        "outputId": "47feba85-fb9a-4536-d32a-24a1fd6712e0"
      },
      "execution_count": null,
      "outputs": [
        {
          "output_type": "stream",
          "name": "stdout",
          "text": [
            "time: 4.41 ms (started: 2022-05-02 04:14:10 +00:00)\n"
          ]
        }
      ]
    },
    {
      "cell_type": "code",
      "source": [
        "# import plotly.graph_objects as go\n",
        "\n",
        "# fig = go.Figure()\n",
        "# fig.add_trace(go.Line(\n",
        "#     x=exper243_variance,\n",
        "#     y=exper243_weighted_cv,\n",
        "#     mode='lines',\n",
        "#     name='Weighted CV Accuracy',\n",
        "#     marker=dict(\n",
        "#         color='red',\n",
        "#         size=10\n",
        "#     ))\n",
        "# )\n",
        "\n",
        "# fig.add_trace(go.Line(\n",
        "#     x=exper243_variance,\n",
        "#     y=exper243_unweighted_cv,\n",
        "#     mode='lines',\n",
        "#     name='Unweighted CV Accuracy',\n",
        "#     marker=dict(\n",
        "#         color='green',\n",
        "#         size=10\n",
        "#     ))\n",
        "# )\n",
        "\n",
        "# fig.add_trace(go.Line(\n",
        "#     x=exper243_variance,\n",
        "#     y=exper243_weighted_validate,\n",
        "#     mode='lines',\n",
        "#     name='Weighted Validation Accuracy',\n",
        "#     marker=dict(\n",
        "#         color='blue',\n",
        "#         size=10\n",
        "#     ))\n",
        "# )\n",
        "\n",
        "# fig.add_trace(go.Line(\n",
        "#     x=exper243_variance,\n",
        "#     y=exper243_unweighted_validate,\n",
        "#     mode='lines',\n",
        "#     name='Unweighted Validation Accuracy',\n",
        "#     marker=dict(\n",
        "#         color='cyan',\n",
        "#         size=10\n",
        "#     ))\n",
        "# )\n",
        "\n",
        "\n",
        "\n",
        "# fig.update_layout(\n",
        "#     title=\"SVM CV (img aug) on different PCA variance % for LBP (p:24, r:3)\",\n",
        "#     xaxis_title=\"% of Explained Variance\",\n",
        "#     yaxis_title=\"Accuracy (%)\"\n",
        "# )\n",
        "# fig.update_traces(mode='markers+lines')\n",
        "\n",
        "# fig.show()"
      ],
      "metadata": {
        "id": "jGmjJmaNPkwa",
        "colab": {
          "base_uri": "https://localhost:8080/"
        },
        "outputId": "87af605e-3770-4d9f-fb2c-e39163dd3663"
      },
      "execution_count": null,
      "outputs": [
        {
          "output_type": "stream",
          "name": "stdout",
          "text": [
            "time: 5.64 ms (started: 2022-05-02 04:14:10 +00:00)\n"
          ]
        }
      ]
    },
    {
      "cell_type": "markdown",
      "source": [
        "## Train with the best hyperparameters\n",
        "\n",
        "```{python}\n",
        "Gamma: 0.006329114\n",
        "The best weighted para: \n",
        "{'C': 2.0, 'gamma': 'scale', 'kernel': 'rbf'}\n",
        "Accuracy: 0.892857\n",
        "The best unweighted para: \n",
        "{'C': 25.0, 'gamma': 0.001, 'kernel': 'rbf'}\n",
        "Accuracy: 0.906250\n",
        "```\n",
        "\n",
        "After tunning the model with GridSearch, the best hypterparameters at [8,1] with 70% variance with the following:\n",
        "* `{'C': 2.0, 'gamma': 'scale', 'kernel': 'rbf'}`\n",
        "\n",
        "* `{'C': 25.0, 'gamma': 0.001, 'kernel': 'rbf'}`"
      ],
      "metadata": {
        "id": "Ci5a6unxP4b6"
      }
    },
    {
      "cell_type": "markdown",
      "source": [
        "#### setup"
      ],
      "metadata": {
        "id": "KEhNyT4zfIyA"
      }
    },
    {
      "cell_type": "code",
      "source": [
        "from sklearn.preprocessing import StandardScaler"
      ],
      "metadata": {
        "colab": {
          "base_uri": "https://localhost:8080/"
        },
        "id": "8HldzBA018q0",
        "outputId": "54c46fe2-7e11-46b0-b2b8-84b6643d39e5"
      },
      "execution_count": null,
      "outputs": [
        {
          "output_type": "stream",
          "name": "stdout",
          "text": [
            "time: 1.23 ms (started: 2022-05-10 02:41:28 +00:00)\n"
          ]
        }
      ]
    },
    {
      "cell_type": "code",
      "source": [
        "def tuned_svm_lbp():\n",
        "  return SVC(C=2.0,  gamma='scale', kernel='rbf', random_state=1)\n",
        "\n",
        "def tuned_svm_lbp2():\n",
        "  return SVC(C=0.1, gamma=0.01, kernel='rbf', random_state=1)"
      ],
      "metadata": {
        "colab": {
          "base_uri": "https://localhost:8080/"
        },
        "id": "SWqWTlE9QBQy",
        "outputId": "bbeaa396-a77f-41e7-faaa-9c8397c4d9e1"
      },
      "execution_count": null,
      "outputs": [
        {
          "output_type": "stream",
          "name": "stdout",
          "text": [
            "time: 2.53 ms (started: 2022-05-10 02:02:57 +00:00)\n"
          ]
        }
      ]
    },
    {
      "cell_type": "code",
      "source": [
        "def train_with_bestPara_lbp(arr_):\n",
        "\n",
        "  tunePara_uw_train_acc = list()\n",
        "  tunePara_w_train_acc = list()\n",
        "  tunePara_uw_test_acc = list()\n",
        "  tunePara_w_test_acc = list()\n",
        "  scaled_train, scaled_test = list(), list()\n",
        "\n",
        "  for item in arr_:\n",
        "    \n",
        "    # since the features are applied to LBP and PCA\n",
        "    # scaling the features is needed here\n",
        "    x_train_sc23, x_test_sc23 = feature_scale(item[\"x_train_\"], item[\"x_test_\"])\n",
        "\n",
        "    # train the model\n",
        "    item['model'].fit(x_train_sc23, item[\"y_train_\"])\n",
        "\n",
        "    # predict the train set\n",
        "    y_trainHat = item[\"model\"].predict(x_train_sc23)\n",
        "\n",
        "    # predict the test set\n",
        "    y_testHat = item[\"model\"].predict(x_test_sc23)\n",
        "\n",
        "    # calculate the gamma value\n",
        "    n_features = x_train_sc23.shape[1]\n",
        "    gamma = 1/(n_features * x_train_sc23.var())\n",
        "    print('Gamma: %.09f' % gamma)\n",
        "    \n",
        "    # save the accuracy results\n",
        "    tunePara_uw_train_acc.append(balanced_accuracy_score(y_train, y_trainHat))\n",
        "    tunePara_w_train_acc.append(accuracy_score(y_train, y_trainHat))\n",
        "    tunePara_uw_test_acc.append(balanced_accuracy_score(y_test, y_testHat))\n",
        "    tunePara_w_test_acc.append(accuracy_score(y_test, y_testHat))\n",
        "    scaled_train.append(x_train_sc23)\n",
        "    scaled_test.append(x_test_sc23)\n",
        "\n",
        "    print(\"UW ACC: {}\".format(balanced_accuracy_score(y_test, y_testHat)))\n",
        "    # end loop\n",
        "  \n",
        "  # return the necessary data\n",
        "  # Note, we return the scaled x_train and x_test for metric evaluation\n",
        "  return tunePara_uw_train_acc, tunePara_w_train_acc, tunePara_uw_test_acc, tunePara_w_test_acc, scaled_train, scaled_test"
      ],
      "metadata": {
        "colab": {
          "base_uri": "https://localhost:8080/"
        },
        "id": "iQsvNMJbfEyC",
        "outputId": "2b7a2399-eb25-4926-ea7d-ee67943a3729"
      },
      "execution_count": null,
      "outputs": [
        {
          "output_type": "stream",
          "name": "stdout",
          "text": [
            "time: 24.7 ms (started: 2022-05-10 03:05:50 +00:00)\n"
          ]
        }
      ]
    },
    {
      "cell_type": "markdown",
      "source": [
        "### Training V1"
      ],
      "metadata": {
        "id": "KkJKJWkgP_hO"
      }
    },
    {
      "cell_type": "code",
      "source": [
        "tune_exp81 = x_train_exp81\n",
        "tune_exp162 = x_train_exp162\n",
        "tune_exp243 = x_train_exp243\n",
        "\n",
        "for i in range(len(tune_exp81)):\n",
        "  tune_exp81[i][\"model\"] = tuned_svm_lbp()\n",
        "\n",
        "for i in range(len(tune_exp162)):\n",
        "  tune_exp162[i][\"model\"] = tuned_svm_lbp()\n",
        "\n",
        "for i in range(len(tune_exp243)):\n",
        "  \n",
        "  tune_exp243[i][\"model\"] = tuned_svm_lbp()"
      ],
      "metadata": {
        "colab": {
          "base_uri": "https://localhost:8080/"
        },
        "id": "fHlilD_2edix",
        "outputId": "cc9b785d-5ca4-4881-dd0c-4f3c8195c2c4"
      },
      "execution_count": null,
      "outputs": [
        {
          "output_type": "stream",
          "name": "stdout",
          "text": [
            "time: 5.87 ms (started: 2022-05-10 03:05:50 +00:00)\n"
          ]
        }
      ]
    },
    {
      "cell_type": "markdown",
      "source": [
        "#### training"
      ],
      "metadata": {
        "id": "PL5d6liFfKV5"
      }
    },
    {
      "cell_type": "code",
      "source": [
        "scaled_X_train81, scaled_X_test81 = list(), list()\n",
        "tuneParaV1_81_uw_trainAcc, tuneParaV1_81_w_trainAcc, tuneParaV1_81_uw_testAcc, tuneParaV1_81_w_testAcc, scaled_X_train81, scaled_X_test81 = train_with_bestPara_lbp(tune_exp81)"
      ],
      "metadata": {
        "colab": {
          "base_uri": "https://localhost:8080/"
        },
        "id": "D322Cb2hf-Qd",
        "outputId": "3662c2e3-b449-4ddd-f45c-07a452edac27"
      },
      "execution_count": null,
      "outputs": [
        {
          "output_type": "stream",
          "name": "stdout",
          "text": [
            "Gamma: 0.006329114\n",
            "UW ACC: 0.7826086956521738\n",
            "Gamma: 0.005181347\n",
            "UW ACC: 0.7795031055900621\n",
            "Gamma: 0.004310345\n",
            "UW ACC: 0.7826086956521738\n",
            "Gamma: 0.003952569\n",
            "UW ACC: 0.7857142857142857\n",
            "Gamma: 0.003816794\n",
            "UW ACC: 0.7857142857142857\n",
            "Gamma: 0.003676471\n",
            "UW ACC: 0.81055900621118\n",
            "Gamma: 0.003597122\n",
            "UW ACC: 0.915543741446468\n",
            "time: 390 ms (started: 2022-05-10 03:05:50 +00:00)\n"
          ]
        }
      ]
    },
    {
      "cell_type": "code",
      "source": [
        "scaled_X_train162, scaled_X_test162 = list(), list()\n",
        "tuneParaV1_162_uw_trainAcc, tuneParaV1_162_w_trainAcc, tuneParaV1_162_uw_testAcc, tuneParaV1_162_w_testAcc, scaled_X_train162, scaled_X_test162 = train_with_bestPara_lbp(tune_exp162)"
      ],
      "metadata": {
        "colab": {
          "base_uri": "https://localhost:8080/"
        },
        "id": "Pky1LdLjg5As",
        "outputId": "ba61133d-f438-4282-cd05-e15a3839a74c"
      },
      "execution_count": null,
      "outputs": [
        {
          "output_type": "stream",
          "name": "stdout",
          "text": [
            "Gamma: 0.006024096\n",
            "UW ACC: 0.7795031055900621\n",
            "Gamma: 0.005000000\n",
            "UW ACC: 0.7857142857142857\n",
            "Gamma: 0.004255319\n",
            "UW ACC: 0.7826086956521738\n",
            "Gamma: 0.003921569\n",
            "UW ACC: 0.7857142857142857\n",
            "Gamma: 0.003787879\n",
            "UW ACC: 0.8074534161490683\n",
            "Gamma: 0.003663004\n",
            "UW ACC: 0.8726708074534162\n",
            "Gamma: 0.003597122\n",
            "UW ACC: 0.9240183177176544\n",
            "time: 412 ms (started: 2022-05-10 03:05:50 +00:00)\n"
          ]
        }
      ]
    },
    {
      "cell_type": "code",
      "source": [
        "scaled_X_train243, scaled_X_test243 = list(), list()\n",
        "tuneParaV1_243_uw_trainAcc, tuneParaV1_243_w_trainAcc, tuneParaV1_243_uw_testAcc, tuneParaV1_243_w_testAcc, scaled_X_train243, scaled_X_test243 = train_with_bestPara_lbp(tune_exp243)"
      ],
      "metadata": {
        "colab": {
          "base_uri": "https://localhost:8080/"
        },
        "id": "XV0Cxk5fg41Y",
        "outputId": "459a0eed-b905-49bd-d7a3-044dab5bfb55"
      },
      "execution_count": null,
      "outputs": [
        {
          "output_type": "stream",
          "name": "stdout",
          "text": [
            "Gamma: 0.005780347\n",
            "UW ACC: 0.7857142857142857\n",
            "Gamma: 0.004878049\n",
            "UW ACC: 0.7857142857142857\n",
            "Gamma: 0.004184100\n",
            "UW ACC: 0.7826086956521738\n",
            "Gamma: 0.003891051\n",
            "UW ACC: 0.7950310559006211\n",
            "Gamma: 0.003773585\n",
            "UW ACC: 0.8354037267080745\n",
            "Gamma: 0.003663004\n",
            "UW ACC: 0.8726708074534162\n",
            "Gamma: 0.003597122\n",
            "UW ACC: 0.915543741446468\n",
            "time: 409 ms (started: 2022-05-10 03:05:51 +00:00)\n"
          ]
        }
      ]
    },
    {
      "cell_type": "markdown",
      "source": [
        "#### visualize the results"
      ],
      "metadata": {
        "id": "TKowUK9chSLN"
      }
    },
    {
      "cell_type": "code",
      "source": [
        "import plotly.graph_objects as go\n",
        "\n",
        "fig = go.Figure()\n",
        "fig.add_trace(go.Line(\n",
        "    x=selected_exp_var,\n",
        "    y=tuneParaV1_81_uw_testAcc,\n",
        "    mode='lines',\n",
        "    name='Unweighted Test Accuracy',\n",
        "    marker=dict(\n",
        "        color='red',\n",
        "        size=10\n",
        "    ))\n",
        ")\n",
        "\n",
        "fig.add_trace(go.Line(\n",
        "    x=selected_exp_var,\n",
        "    y=tuneParaV1_81_w_testAcc,\n",
        "    mode='lines',\n",
        "    name='Weighted Test Accuracy',\n",
        "    marker=dict(\n",
        "        color='green',\n",
        "        size=10\n",
        "    ))\n",
        ")\n",
        "\n",
        "fig.add_trace(go.Line(\n",
        "    x=selected_exp_var,\n",
        "    y=tuneParaV1_81_w_trainAcc,\n",
        "    mode='lines',\n",
        "    name='Weighted Training Accuracy',\n",
        "    marker=dict(\n",
        "        color='blue',\n",
        "        size=10\n",
        "    ))\n",
        ")\n",
        "\n",
        "fig.add_trace(go.Line(\n",
        "    x=selected_exp_var,\n",
        "    y=tuneParaV1_81_uw_trainAcc,\n",
        "    mode='lines',\n",
        "    name='Unweighted Training Accuracy',\n",
        "    marker=dict(\n",
        "        color='cyan',\n",
        "        size=10\n",
        "    ))\n",
        ")\n",
        "\n",
        "fig.update_layout(\n",
        "    title=\"Tuned parameter SVM with PCA for LBP (p:8, r:1)\",\n",
        "    xaxis_title=\"% of Explained Variance\",\n",
        "    yaxis_title=\"Accuracy (%)\"\n",
        ")\n",
        "fig.update_traces(mode='markers+lines')\n",
        "\n",
        "fig.show()"
      ],
      "metadata": {
        "colab": {
          "base_uri": "https://localhost:8080/",
          "height": 716
        },
        "id": "VWXiws9phUuN",
        "outputId": "c4a29617-a818-4e09-f398-e9784c61bd4c"
      },
      "execution_count": null,
      "outputs": [
        {
          "output_type": "stream",
          "name": "stderr",
          "text": [
            "/usr/local/lib/python3.7/dist-packages/plotly/graph_objs/_deprecations.py:385: DeprecationWarning:\n",
            "\n",
            "plotly.graph_objs.Line is deprecated.\n",
            "Please replace it with one of the following more specific types\n",
            "  - plotly.graph_objs.scatter.Line\n",
            "  - plotly.graph_objs.layout.shape.Line\n",
            "  - etc.\n",
            "\n",
            "\n"
          ]
        },
        {
          "output_type": "display_data",
          "data": {
            "text/html": [
              "<html>\n",
              "<head><meta charset=\"utf-8\" /></head>\n",
              "<body>\n",
              "    <div>            <script src=\"https://cdnjs.cloudflare.com/ajax/libs/mathjax/2.7.5/MathJax.js?config=TeX-AMS-MML_SVG\"></script><script type=\"text/javascript\">if (window.MathJax) {MathJax.Hub.Config({SVG: {font: \"STIX-Web\"}});}</script>                <script type=\"text/javascript\">window.PlotlyConfig = {MathJaxConfig: 'local'};</script>\n",
              "        <script src=\"https://cdn.plot.ly/plotly-2.8.3.min.js\"></script>                <div id=\"d84deb9d-7e2d-4096-bf2b-8ccec6587f51\" class=\"plotly-graph-div\" style=\"height:525px; width:100%;\"></div>            <script type=\"text/javascript\">                                    window.PLOTLYENV=window.PLOTLYENV || {};                                    if (document.getElementById(\"d84deb9d-7e2d-4096-bf2b-8ccec6587f51\")) {                    Plotly.newPlot(                        \"d84deb9d-7e2d-4096-bf2b-8ccec6587f51\",                        [{\"marker\":{\"color\":\"red\",\"size\":10},\"mode\":\"markers+lines\",\"name\":\"Unweighted Test Accuracy\",\"x\":[0.7,0.8,0.9,0.95,0.97,0.99,1.0],\"y\":[0.5,0.5,0.5,0.5,0.5,0.6811594202898551,0.8843366778149386],\"type\":\"scatter\"},{\"marker\":{\"color\":\"green\",\"size\":10},\"mode\":\"markers+lines\",\"name\":\"Weighted Test Accuracy\",\"x\":[0.7,0.8,0.9,0.95,0.97,0.99,1.0],\"y\":[0.4297520661157025,0.4297520661157025,0.4297520661157025,0.4297520661157025,0.4297520661157025,0.6363636363636364,0.8842975206611571],\"type\":\"scatter\"},{\"marker\":{\"color\":\"blue\",\"size\":10},\"mode\":\"markers+lines\",\"name\":\"Weighted Training Accuracy\",\"x\":[0.7,0.8,0.9,0.95,0.97,0.99,1.0],\"y\":[0.9713261648745519,0.989247311827957,0.989247311827957,0.992831541218638,0.992831541218638,0.996415770609319,1.0],\"type\":\"scatter\"},{\"marker\":{\"color\":\"cyan\",\"size\":10},\"mode\":\"markers+lines\",\"name\":\"Unweighted Training Accuracy\",\"x\":[0.7,0.8,0.9,0.95,0.97,0.99,1.0],\"y\":[0.9751552795031055,0.9906832298136645,0.9906832298136645,0.9937888198757764,0.9937888198757764,0.9968944099378882,1.0],\"type\":\"scatter\"}],                        {\"template\":{\"data\":{\"bar\":[{\"error_x\":{\"color\":\"#2a3f5f\"},\"error_y\":{\"color\":\"#2a3f5f\"},\"marker\":{\"line\":{\"color\":\"#E5ECF6\",\"width\":0.5},\"pattern\":{\"fillmode\":\"overlay\",\"size\":10,\"solidity\":0.2}},\"type\":\"bar\"}],\"barpolar\":[{\"marker\":{\"line\":{\"color\":\"#E5ECF6\",\"width\":0.5},\"pattern\":{\"fillmode\":\"overlay\",\"size\":10,\"solidity\":0.2}},\"type\":\"barpolar\"}],\"carpet\":[{\"aaxis\":{\"endlinecolor\":\"#2a3f5f\",\"gridcolor\":\"white\",\"linecolor\":\"white\",\"minorgridcolor\":\"white\",\"startlinecolor\":\"#2a3f5f\"},\"baxis\":{\"endlinecolor\":\"#2a3f5f\",\"gridcolor\":\"white\",\"linecolor\":\"white\",\"minorgridcolor\":\"white\",\"startlinecolor\":\"#2a3f5f\"},\"type\":\"carpet\"}],\"choropleth\":[{\"colorbar\":{\"outlinewidth\":0,\"ticks\":\"\"},\"type\":\"choropleth\"}],\"contour\":[{\"colorbar\":{\"outlinewidth\":0,\"ticks\":\"\"},\"colorscale\":[[0.0,\"#0d0887\"],[0.1111111111111111,\"#46039f\"],[0.2222222222222222,\"#7201a8\"],[0.3333333333333333,\"#9c179e\"],[0.4444444444444444,\"#bd3786\"],[0.5555555555555556,\"#d8576b\"],[0.6666666666666666,\"#ed7953\"],[0.7777777777777778,\"#fb9f3a\"],[0.8888888888888888,\"#fdca26\"],[1.0,\"#f0f921\"]],\"type\":\"contour\"}],\"contourcarpet\":[{\"colorbar\":{\"outlinewidth\":0,\"ticks\":\"\"},\"type\":\"contourcarpet\"}],\"heatmap\":[{\"colorbar\":{\"outlinewidth\":0,\"ticks\":\"\"},\"colorscale\":[[0.0,\"#0d0887\"],[0.1111111111111111,\"#46039f\"],[0.2222222222222222,\"#7201a8\"],[0.3333333333333333,\"#9c179e\"],[0.4444444444444444,\"#bd3786\"],[0.5555555555555556,\"#d8576b\"],[0.6666666666666666,\"#ed7953\"],[0.7777777777777778,\"#fb9f3a\"],[0.8888888888888888,\"#fdca26\"],[1.0,\"#f0f921\"]],\"type\":\"heatmap\"}],\"heatmapgl\":[{\"colorbar\":{\"outlinewidth\":0,\"ticks\":\"\"},\"colorscale\":[[0.0,\"#0d0887\"],[0.1111111111111111,\"#46039f\"],[0.2222222222222222,\"#7201a8\"],[0.3333333333333333,\"#9c179e\"],[0.4444444444444444,\"#bd3786\"],[0.5555555555555556,\"#d8576b\"],[0.6666666666666666,\"#ed7953\"],[0.7777777777777778,\"#fb9f3a\"],[0.8888888888888888,\"#fdca26\"],[1.0,\"#f0f921\"]],\"type\":\"heatmapgl\"}],\"histogram\":[{\"marker\":{\"pattern\":{\"fillmode\":\"overlay\",\"size\":10,\"solidity\":0.2}},\"type\":\"histogram\"}],\"histogram2d\":[{\"colorbar\":{\"outlinewidth\":0,\"ticks\":\"\"},\"colorscale\":[[0.0,\"#0d0887\"],[0.1111111111111111,\"#46039f\"],[0.2222222222222222,\"#7201a8\"],[0.3333333333333333,\"#9c179e\"],[0.4444444444444444,\"#bd3786\"],[0.5555555555555556,\"#d8576b\"],[0.6666666666666666,\"#ed7953\"],[0.7777777777777778,\"#fb9f3a\"],[0.8888888888888888,\"#fdca26\"],[1.0,\"#f0f921\"]],\"type\":\"histogram2d\"}],\"histogram2dcontour\":[{\"colorbar\":{\"outlinewidth\":0,\"ticks\":\"\"},\"colorscale\":[[0.0,\"#0d0887\"],[0.1111111111111111,\"#46039f\"],[0.2222222222222222,\"#7201a8\"],[0.3333333333333333,\"#9c179e\"],[0.4444444444444444,\"#bd3786\"],[0.5555555555555556,\"#d8576b\"],[0.6666666666666666,\"#ed7953\"],[0.7777777777777778,\"#fb9f3a\"],[0.8888888888888888,\"#fdca26\"],[1.0,\"#f0f921\"]],\"type\":\"histogram2dcontour\"}],\"mesh3d\":[{\"colorbar\":{\"outlinewidth\":0,\"ticks\":\"\"},\"type\":\"mesh3d\"}],\"parcoords\":[{\"line\":{\"colorbar\":{\"outlinewidth\":0,\"ticks\":\"\"}},\"type\":\"parcoords\"}],\"pie\":[{\"automargin\":true,\"type\":\"pie\"}],\"scatter\":[{\"marker\":{\"colorbar\":{\"outlinewidth\":0,\"ticks\":\"\"}},\"type\":\"scatter\"}],\"scatter3d\":[{\"line\":{\"colorbar\":{\"outlinewidth\":0,\"ticks\":\"\"}},\"marker\":{\"colorbar\":{\"outlinewidth\":0,\"ticks\":\"\"}},\"type\":\"scatter3d\"}],\"scattercarpet\":[{\"marker\":{\"colorbar\":{\"outlinewidth\":0,\"ticks\":\"\"}},\"type\":\"scattercarpet\"}],\"scattergeo\":[{\"marker\":{\"colorbar\":{\"outlinewidth\":0,\"ticks\":\"\"}},\"type\":\"scattergeo\"}],\"scattergl\":[{\"marker\":{\"colorbar\":{\"outlinewidth\":0,\"ticks\":\"\"}},\"type\":\"scattergl\"}],\"scattermapbox\":[{\"marker\":{\"colorbar\":{\"outlinewidth\":0,\"ticks\":\"\"}},\"type\":\"scattermapbox\"}],\"scatterpolar\":[{\"marker\":{\"colorbar\":{\"outlinewidth\":0,\"ticks\":\"\"}},\"type\":\"scatterpolar\"}],\"scatterpolargl\":[{\"marker\":{\"colorbar\":{\"outlinewidth\":0,\"ticks\":\"\"}},\"type\":\"scatterpolargl\"}],\"scatterternary\":[{\"marker\":{\"colorbar\":{\"outlinewidth\":0,\"ticks\":\"\"}},\"type\":\"scatterternary\"}],\"surface\":[{\"colorbar\":{\"outlinewidth\":0,\"ticks\":\"\"},\"colorscale\":[[0.0,\"#0d0887\"],[0.1111111111111111,\"#46039f\"],[0.2222222222222222,\"#7201a8\"],[0.3333333333333333,\"#9c179e\"],[0.4444444444444444,\"#bd3786\"],[0.5555555555555556,\"#d8576b\"],[0.6666666666666666,\"#ed7953\"],[0.7777777777777778,\"#fb9f3a\"],[0.8888888888888888,\"#fdca26\"],[1.0,\"#f0f921\"]],\"type\":\"surface\"}],\"table\":[{\"cells\":{\"fill\":{\"color\":\"#EBF0F8\"},\"line\":{\"color\":\"white\"}},\"header\":{\"fill\":{\"color\":\"#C8D4E3\"},\"line\":{\"color\":\"white\"}},\"type\":\"table\"}]},\"layout\":{\"annotationdefaults\":{\"arrowcolor\":\"#2a3f5f\",\"arrowhead\":0,\"arrowwidth\":1},\"autotypenumbers\":\"strict\",\"coloraxis\":{\"colorbar\":{\"outlinewidth\":0,\"ticks\":\"\"}},\"colorscale\":{\"diverging\":[[0,\"#8e0152\"],[0.1,\"#c51b7d\"],[0.2,\"#de77ae\"],[0.3,\"#f1b6da\"],[0.4,\"#fde0ef\"],[0.5,\"#f7f7f7\"],[0.6,\"#e6f5d0\"],[0.7,\"#b8e186\"],[0.8,\"#7fbc41\"],[0.9,\"#4d9221\"],[1,\"#276419\"]],\"sequential\":[[0.0,\"#0d0887\"],[0.1111111111111111,\"#46039f\"],[0.2222222222222222,\"#7201a8\"],[0.3333333333333333,\"#9c179e\"],[0.4444444444444444,\"#bd3786\"],[0.5555555555555556,\"#d8576b\"],[0.6666666666666666,\"#ed7953\"],[0.7777777777777778,\"#fb9f3a\"],[0.8888888888888888,\"#fdca26\"],[1.0,\"#f0f921\"]],\"sequentialminus\":[[0.0,\"#0d0887\"],[0.1111111111111111,\"#46039f\"],[0.2222222222222222,\"#7201a8\"],[0.3333333333333333,\"#9c179e\"],[0.4444444444444444,\"#bd3786\"],[0.5555555555555556,\"#d8576b\"],[0.6666666666666666,\"#ed7953\"],[0.7777777777777778,\"#fb9f3a\"],[0.8888888888888888,\"#fdca26\"],[1.0,\"#f0f921\"]]},\"colorway\":[\"#636efa\",\"#EF553B\",\"#00cc96\",\"#ab63fa\",\"#FFA15A\",\"#19d3f3\",\"#FF6692\",\"#B6E880\",\"#FF97FF\",\"#FECB52\"],\"font\":{\"color\":\"#2a3f5f\"},\"geo\":{\"bgcolor\":\"white\",\"lakecolor\":\"white\",\"landcolor\":\"#E5ECF6\",\"showlakes\":true,\"showland\":true,\"subunitcolor\":\"white\"},\"hoverlabel\":{\"align\":\"left\"},\"hovermode\":\"closest\",\"mapbox\":{\"style\":\"light\"},\"paper_bgcolor\":\"white\",\"plot_bgcolor\":\"#E5ECF6\",\"polar\":{\"angularaxis\":{\"gridcolor\":\"white\",\"linecolor\":\"white\",\"ticks\":\"\"},\"bgcolor\":\"#E5ECF6\",\"radialaxis\":{\"gridcolor\":\"white\",\"linecolor\":\"white\",\"ticks\":\"\"}},\"scene\":{\"xaxis\":{\"backgroundcolor\":\"#E5ECF6\",\"gridcolor\":\"white\",\"gridwidth\":2,\"linecolor\":\"white\",\"showbackground\":true,\"ticks\":\"\",\"zerolinecolor\":\"white\"},\"yaxis\":{\"backgroundcolor\":\"#E5ECF6\",\"gridcolor\":\"white\",\"gridwidth\":2,\"linecolor\":\"white\",\"showbackground\":true,\"ticks\":\"\",\"zerolinecolor\":\"white\"},\"zaxis\":{\"backgroundcolor\":\"#E5ECF6\",\"gridcolor\":\"white\",\"gridwidth\":2,\"linecolor\":\"white\",\"showbackground\":true,\"ticks\":\"\",\"zerolinecolor\":\"white\"}},\"shapedefaults\":{\"line\":{\"color\":\"#2a3f5f\"}},\"ternary\":{\"aaxis\":{\"gridcolor\":\"white\",\"linecolor\":\"white\",\"ticks\":\"\"},\"baxis\":{\"gridcolor\":\"white\",\"linecolor\":\"white\",\"ticks\":\"\"},\"bgcolor\":\"#E5ECF6\",\"caxis\":{\"gridcolor\":\"white\",\"linecolor\":\"white\",\"ticks\":\"\"}},\"title\":{\"x\":0.05},\"xaxis\":{\"automargin\":true,\"gridcolor\":\"white\",\"linecolor\":\"white\",\"ticks\":\"\",\"title\":{\"standoff\":15},\"zerolinecolor\":\"white\",\"zerolinewidth\":2},\"yaxis\":{\"automargin\":true,\"gridcolor\":\"white\",\"linecolor\":\"white\",\"ticks\":\"\",\"title\":{\"standoff\":15},\"zerolinecolor\":\"white\",\"zerolinewidth\":2}}},\"title\":{\"text\":\"Tuned parameter SVM with PCA for LBP (p:8, r:1)\"},\"xaxis\":{\"title\":{\"text\":\"% of Explained Variance\"}},\"yaxis\":{\"title\":{\"text\":\"Accuracy (%)\"}}},                        {\"responsive\": true}                    ).then(function(){\n",
              "                            \n",
              "var gd = document.getElementById('d84deb9d-7e2d-4096-bf2b-8ccec6587f51');\n",
              "var x = new MutationObserver(function (mutations, observer) {{\n",
              "        var display = window.getComputedStyle(gd).display;\n",
              "        if (!display || display === 'none') {{\n",
              "            console.log([gd, 'removed!']);\n",
              "            Plotly.purge(gd);\n",
              "            observer.disconnect();\n",
              "        }}\n",
              "}});\n",
              "\n",
              "// Listen for the removal of the full notebook cells\n",
              "var notebookContainer = gd.closest('#notebook-container');\n",
              "if (notebookContainer) {{\n",
              "    x.observe(notebookContainer, {childList: true});\n",
              "}}\n",
              "\n",
              "// Listen for the clearing of the current output cell\n",
              "var outputEl = gd.closest('.output');\n",
              "if (outputEl) {{\n",
              "    x.observe(outputEl, {childList: true});\n",
              "}}\n",
              "\n",
              "                        })                };                            </script>        </div>\n",
              "</body>\n",
              "</html>"
            ]
          },
          "metadata": {}
        },
        {
          "output_type": "stream",
          "name": "stdout",
          "text": [
            "time: 28.5 ms (started: 2022-05-02 04:14:11 +00:00)\n"
          ]
        }
      ]
    },
    {
      "cell_type": "code",
      "source": [
        "tune_exp81[-1][\"model\"].get_params()"
      ],
      "metadata": {
        "colab": {
          "base_uri": "https://localhost:8080/"
        },
        "id": "Hr0orYHJyGZx",
        "outputId": "d7c8eef4-235e-40ff-bb4c-0c7b33d18cd4"
      },
      "execution_count": null,
      "outputs": [
        {
          "output_type": "execute_result",
          "data": {
            "text/plain": [
              "{'C': 2.0,\n",
              " 'break_ties': False,\n",
              " 'cache_size': 200,\n",
              " 'class_weight': None,\n",
              " 'coef0': 0.0,\n",
              " 'decision_function_shape': 'ovr',\n",
              " 'degree': 3,\n",
              " 'gamma': 'scale',\n",
              " 'kernel': 'rbf',\n",
              " 'max_iter': -1,\n",
              " 'probability': False,\n",
              " 'random_state': 1,\n",
              " 'shrinking': True,\n",
              " 'tol': 0.001,\n",
              " 'verbose': False}"
            ]
          },
          "metadata": {},
          "execution_count": 266
        },
        {
          "output_type": "stream",
          "name": "stdout",
          "text": [
            "time: 4.08 ms (started: 2022-05-02 04:14:11 +00:00)\n"
          ]
        }
      ]
    },
    {
      "cell_type": "code",
      "source": [
        "import plotly.graph_objects as go\n",
        "\n",
        "fig = go.Figure()\n",
        "fig.add_trace(go.Line(\n",
        "    x=selected_exp_var,\n",
        "    y=tuneParaV1_162_uw_testAcc,\n",
        "    mode='lines',\n",
        "    name='Unweighted Test Accuracy',\n",
        "    marker=dict(\n",
        "        color='red',\n",
        "        size=10\n",
        "    ))\n",
        ")\n",
        "\n",
        "fig.add_trace(go.Line(\n",
        "    x=selected_exp_var,\n",
        "    y=tuneParaV1_162_w_testAcc,\n",
        "    mode='lines',\n",
        "    name='Weighted Test Accuracy',\n",
        "    marker=dict(\n",
        "        color='green',\n",
        "        size=10\n",
        "    ))\n",
        ")\n",
        "\n",
        "fig.add_trace(go.Line(\n",
        "    x=selected_exp_var,\n",
        "    y=tuneParaV1_162_w_trainAcc,\n",
        "    mode='lines',\n",
        "    name='Weighted Training Accuracy',\n",
        "    marker=dict(\n",
        "        color='blue',\n",
        "        size=10\n",
        "    ))\n",
        ")\n",
        "\n",
        "fig.add_trace(go.Line(\n",
        "    x=selected_exp_var,\n",
        "    y=tuneParaV1_162_uw_trainAcc,\n",
        "    mode='lines',\n",
        "    name='Unweighted Training Accuracy',\n",
        "    marker=dict(\n",
        "        color='cyan',\n",
        "        size=10\n",
        "    ))\n",
        ")\n",
        "\n",
        "fig.update_layout(\n",
        "    title=\"Tuned parameter SVM with PCA for LBP (p:16, r:2)\",\n",
        "    xaxis_title=\"% of Explained Variance\",\n",
        "    yaxis_title=\"Accuracy (%)\"\n",
        ")\n",
        "fig.update_traces(mode='markers+lines')\n",
        "\n",
        "fig.show()"
      ],
      "metadata": {
        "colab": {
          "base_uri": "https://localhost:8080/",
          "height": 716
        },
        "id": "E-UCGua0h8Fu",
        "outputId": "291b91f2-5af1-48b5-e871-8956ed3147b1"
      },
      "execution_count": null,
      "outputs": [
        {
          "output_type": "stream",
          "name": "stderr",
          "text": [
            "/usr/local/lib/python3.7/dist-packages/plotly/graph_objs/_deprecations.py:385: DeprecationWarning:\n",
            "\n",
            "plotly.graph_objs.Line is deprecated.\n",
            "Please replace it with one of the following more specific types\n",
            "  - plotly.graph_objs.scatter.Line\n",
            "  - plotly.graph_objs.layout.shape.Line\n",
            "  - etc.\n",
            "\n",
            "\n"
          ]
        },
        {
          "output_type": "display_data",
          "data": {
            "text/html": [
              "<html>\n",
              "<head><meta charset=\"utf-8\" /></head>\n",
              "<body>\n",
              "    <div>            <script src=\"https://cdnjs.cloudflare.com/ajax/libs/mathjax/2.7.5/MathJax.js?config=TeX-AMS-MML_SVG\"></script><script type=\"text/javascript\">if (window.MathJax) {MathJax.Hub.Config({SVG: {font: \"STIX-Web\"}});}</script>                <script type=\"text/javascript\">window.PlotlyConfig = {MathJaxConfig: 'local'};</script>\n",
              "        <script src=\"https://cdn.plot.ly/plotly-2.8.3.min.js\"></script>                <div id=\"3bf90b9d-9a52-4a24-a8ab-5feaaec7a5a7\" class=\"plotly-graph-div\" style=\"height:525px; width:100%;\"></div>            <script type=\"text/javascript\">                                    window.PLOTLYENV=window.PLOTLYENV || {};                                    if (document.getElementById(\"3bf90b9d-9a52-4a24-a8ab-5feaaec7a5a7\")) {                    Plotly.newPlot(                        \"3bf90b9d-9a52-4a24-a8ab-5feaaec7a5a7\",                        [{\"marker\":{\"color\":\"red\",\"size\":10},\"mode\":\"markers+lines\",\"name\":\"Unweighted Test Accuracy\",\"x\":[0.7,0.8,0.9,0.95,0.97,0.99,1.0],\"y\":[0.5,0.5,0.5,0.5,0.5507246376811594,0.7150222965440356,0.8386287625418061],\"type\":\"scatter\"},{\"marker\":{\"color\":\"green\",\"size\":10},\"mode\":\"markers+lines\",\"name\":\"Weighted Test Accuracy\",\"x\":[0.7,0.8,0.9,0.95,0.97,0.99,1.0],\"y\":[0.4297520661157025,0.4297520661157025,0.4297520661157025,0.4297520661157025,0.48760330578512395,0.6776859504132231,0.8429752066115702],\"type\":\"scatter\"},{\"marker\":{\"color\":\"blue\",\"size\":10},\"mode\":\"markers+lines\",\"name\":\"Weighted Training Accuracy\",\"x\":[0.7,0.8,0.9,0.95,0.97,0.99,1.0],\"y\":[0.989247311827957,0.989247311827957,0.989247311827957,0.992831541218638,0.992831541218638,0.996415770609319,1.0],\"type\":\"scatter\"},{\"marker\":{\"color\":\"cyan\",\"size\":10},\"mode\":\"markers+lines\",\"name\":\"Unweighted Training Accuracy\",\"x\":[0.7,0.8,0.9,0.95,0.97,0.99,1.0],\"y\":[0.9906832298136645,0.9906832298136645,0.9906832298136645,0.9937888198757764,0.9937888198757764,0.9968944099378882,1.0],\"type\":\"scatter\"}],                        {\"template\":{\"data\":{\"bar\":[{\"error_x\":{\"color\":\"#2a3f5f\"},\"error_y\":{\"color\":\"#2a3f5f\"},\"marker\":{\"line\":{\"color\":\"#E5ECF6\",\"width\":0.5},\"pattern\":{\"fillmode\":\"overlay\",\"size\":10,\"solidity\":0.2}},\"type\":\"bar\"}],\"barpolar\":[{\"marker\":{\"line\":{\"color\":\"#E5ECF6\",\"width\":0.5},\"pattern\":{\"fillmode\":\"overlay\",\"size\":10,\"solidity\":0.2}},\"type\":\"barpolar\"}],\"carpet\":[{\"aaxis\":{\"endlinecolor\":\"#2a3f5f\",\"gridcolor\":\"white\",\"linecolor\":\"white\",\"minorgridcolor\":\"white\",\"startlinecolor\":\"#2a3f5f\"},\"baxis\":{\"endlinecolor\":\"#2a3f5f\",\"gridcolor\":\"white\",\"linecolor\":\"white\",\"minorgridcolor\":\"white\",\"startlinecolor\":\"#2a3f5f\"},\"type\":\"carpet\"}],\"choropleth\":[{\"colorbar\":{\"outlinewidth\":0,\"ticks\":\"\"},\"type\":\"choropleth\"}],\"contour\":[{\"colorbar\":{\"outlinewidth\":0,\"ticks\":\"\"},\"colorscale\":[[0.0,\"#0d0887\"],[0.1111111111111111,\"#46039f\"],[0.2222222222222222,\"#7201a8\"],[0.3333333333333333,\"#9c179e\"],[0.4444444444444444,\"#bd3786\"],[0.5555555555555556,\"#d8576b\"],[0.6666666666666666,\"#ed7953\"],[0.7777777777777778,\"#fb9f3a\"],[0.8888888888888888,\"#fdca26\"],[1.0,\"#f0f921\"]],\"type\":\"contour\"}],\"contourcarpet\":[{\"colorbar\":{\"outlinewidth\":0,\"ticks\":\"\"},\"type\":\"contourcarpet\"}],\"heatmap\":[{\"colorbar\":{\"outlinewidth\":0,\"ticks\":\"\"},\"colorscale\":[[0.0,\"#0d0887\"],[0.1111111111111111,\"#46039f\"],[0.2222222222222222,\"#7201a8\"],[0.3333333333333333,\"#9c179e\"],[0.4444444444444444,\"#bd3786\"],[0.5555555555555556,\"#d8576b\"],[0.6666666666666666,\"#ed7953\"],[0.7777777777777778,\"#fb9f3a\"],[0.8888888888888888,\"#fdca26\"],[1.0,\"#f0f921\"]],\"type\":\"heatmap\"}],\"heatmapgl\":[{\"colorbar\":{\"outlinewidth\":0,\"ticks\":\"\"},\"colorscale\":[[0.0,\"#0d0887\"],[0.1111111111111111,\"#46039f\"],[0.2222222222222222,\"#7201a8\"],[0.3333333333333333,\"#9c179e\"],[0.4444444444444444,\"#bd3786\"],[0.5555555555555556,\"#d8576b\"],[0.6666666666666666,\"#ed7953\"],[0.7777777777777778,\"#fb9f3a\"],[0.8888888888888888,\"#fdca26\"],[1.0,\"#f0f921\"]],\"type\":\"heatmapgl\"}],\"histogram\":[{\"marker\":{\"pattern\":{\"fillmode\":\"overlay\",\"size\":10,\"solidity\":0.2}},\"type\":\"histogram\"}],\"histogram2d\":[{\"colorbar\":{\"outlinewidth\":0,\"ticks\":\"\"},\"colorscale\":[[0.0,\"#0d0887\"],[0.1111111111111111,\"#46039f\"],[0.2222222222222222,\"#7201a8\"],[0.3333333333333333,\"#9c179e\"],[0.4444444444444444,\"#bd3786\"],[0.5555555555555556,\"#d8576b\"],[0.6666666666666666,\"#ed7953\"],[0.7777777777777778,\"#fb9f3a\"],[0.8888888888888888,\"#fdca26\"],[1.0,\"#f0f921\"]],\"type\":\"histogram2d\"}],\"histogram2dcontour\":[{\"colorbar\":{\"outlinewidth\":0,\"ticks\":\"\"},\"colorscale\":[[0.0,\"#0d0887\"],[0.1111111111111111,\"#46039f\"],[0.2222222222222222,\"#7201a8\"],[0.3333333333333333,\"#9c179e\"],[0.4444444444444444,\"#bd3786\"],[0.5555555555555556,\"#d8576b\"],[0.6666666666666666,\"#ed7953\"],[0.7777777777777778,\"#fb9f3a\"],[0.8888888888888888,\"#fdca26\"],[1.0,\"#f0f921\"]],\"type\":\"histogram2dcontour\"}],\"mesh3d\":[{\"colorbar\":{\"outlinewidth\":0,\"ticks\":\"\"},\"type\":\"mesh3d\"}],\"parcoords\":[{\"line\":{\"colorbar\":{\"outlinewidth\":0,\"ticks\":\"\"}},\"type\":\"parcoords\"}],\"pie\":[{\"automargin\":true,\"type\":\"pie\"}],\"scatter\":[{\"marker\":{\"colorbar\":{\"outlinewidth\":0,\"ticks\":\"\"}},\"type\":\"scatter\"}],\"scatter3d\":[{\"line\":{\"colorbar\":{\"outlinewidth\":0,\"ticks\":\"\"}},\"marker\":{\"colorbar\":{\"outlinewidth\":0,\"ticks\":\"\"}},\"type\":\"scatter3d\"}],\"scattercarpet\":[{\"marker\":{\"colorbar\":{\"outlinewidth\":0,\"ticks\":\"\"}},\"type\":\"scattercarpet\"}],\"scattergeo\":[{\"marker\":{\"colorbar\":{\"outlinewidth\":0,\"ticks\":\"\"}},\"type\":\"scattergeo\"}],\"scattergl\":[{\"marker\":{\"colorbar\":{\"outlinewidth\":0,\"ticks\":\"\"}},\"type\":\"scattergl\"}],\"scattermapbox\":[{\"marker\":{\"colorbar\":{\"outlinewidth\":0,\"ticks\":\"\"}},\"type\":\"scattermapbox\"}],\"scatterpolar\":[{\"marker\":{\"colorbar\":{\"outlinewidth\":0,\"ticks\":\"\"}},\"type\":\"scatterpolar\"}],\"scatterpolargl\":[{\"marker\":{\"colorbar\":{\"outlinewidth\":0,\"ticks\":\"\"}},\"type\":\"scatterpolargl\"}],\"scatterternary\":[{\"marker\":{\"colorbar\":{\"outlinewidth\":0,\"ticks\":\"\"}},\"type\":\"scatterternary\"}],\"surface\":[{\"colorbar\":{\"outlinewidth\":0,\"ticks\":\"\"},\"colorscale\":[[0.0,\"#0d0887\"],[0.1111111111111111,\"#46039f\"],[0.2222222222222222,\"#7201a8\"],[0.3333333333333333,\"#9c179e\"],[0.4444444444444444,\"#bd3786\"],[0.5555555555555556,\"#d8576b\"],[0.6666666666666666,\"#ed7953\"],[0.7777777777777778,\"#fb9f3a\"],[0.8888888888888888,\"#fdca26\"],[1.0,\"#f0f921\"]],\"type\":\"surface\"}],\"table\":[{\"cells\":{\"fill\":{\"color\":\"#EBF0F8\"},\"line\":{\"color\":\"white\"}},\"header\":{\"fill\":{\"color\":\"#C8D4E3\"},\"line\":{\"color\":\"white\"}},\"type\":\"table\"}]},\"layout\":{\"annotationdefaults\":{\"arrowcolor\":\"#2a3f5f\",\"arrowhead\":0,\"arrowwidth\":1},\"autotypenumbers\":\"strict\",\"coloraxis\":{\"colorbar\":{\"outlinewidth\":0,\"ticks\":\"\"}},\"colorscale\":{\"diverging\":[[0,\"#8e0152\"],[0.1,\"#c51b7d\"],[0.2,\"#de77ae\"],[0.3,\"#f1b6da\"],[0.4,\"#fde0ef\"],[0.5,\"#f7f7f7\"],[0.6,\"#e6f5d0\"],[0.7,\"#b8e186\"],[0.8,\"#7fbc41\"],[0.9,\"#4d9221\"],[1,\"#276419\"]],\"sequential\":[[0.0,\"#0d0887\"],[0.1111111111111111,\"#46039f\"],[0.2222222222222222,\"#7201a8\"],[0.3333333333333333,\"#9c179e\"],[0.4444444444444444,\"#bd3786\"],[0.5555555555555556,\"#d8576b\"],[0.6666666666666666,\"#ed7953\"],[0.7777777777777778,\"#fb9f3a\"],[0.8888888888888888,\"#fdca26\"],[1.0,\"#f0f921\"]],\"sequentialminus\":[[0.0,\"#0d0887\"],[0.1111111111111111,\"#46039f\"],[0.2222222222222222,\"#7201a8\"],[0.3333333333333333,\"#9c179e\"],[0.4444444444444444,\"#bd3786\"],[0.5555555555555556,\"#d8576b\"],[0.6666666666666666,\"#ed7953\"],[0.7777777777777778,\"#fb9f3a\"],[0.8888888888888888,\"#fdca26\"],[1.0,\"#f0f921\"]]},\"colorway\":[\"#636efa\",\"#EF553B\",\"#00cc96\",\"#ab63fa\",\"#FFA15A\",\"#19d3f3\",\"#FF6692\",\"#B6E880\",\"#FF97FF\",\"#FECB52\"],\"font\":{\"color\":\"#2a3f5f\"},\"geo\":{\"bgcolor\":\"white\",\"lakecolor\":\"white\",\"landcolor\":\"#E5ECF6\",\"showlakes\":true,\"showland\":true,\"subunitcolor\":\"white\"},\"hoverlabel\":{\"align\":\"left\"},\"hovermode\":\"closest\",\"mapbox\":{\"style\":\"light\"},\"paper_bgcolor\":\"white\",\"plot_bgcolor\":\"#E5ECF6\",\"polar\":{\"angularaxis\":{\"gridcolor\":\"white\",\"linecolor\":\"white\",\"ticks\":\"\"},\"bgcolor\":\"#E5ECF6\",\"radialaxis\":{\"gridcolor\":\"white\",\"linecolor\":\"white\",\"ticks\":\"\"}},\"scene\":{\"xaxis\":{\"backgroundcolor\":\"#E5ECF6\",\"gridcolor\":\"white\",\"gridwidth\":2,\"linecolor\":\"white\",\"showbackground\":true,\"ticks\":\"\",\"zerolinecolor\":\"white\"},\"yaxis\":{\"backgroundcolor\":\"#E5ECF6\",\"gridcolor\":\"white\",\"gridwidth\":2,\"linecolor\":\"white\",\"showbackground\":true,\"ticks\":\"\",\"zerolinecolor\":\"white\"},\"zaxis\":{\"backgroundcolor\":\"#E5ECF6\",\"gridcolor\":\"white\",\"gridwidth\":2,\"linecolor\":\"white\",\"showbackground\":true,\"ticks\":\"\",\"zerolinecolor\":\"white\"}},\"shapedefaults\":{\"line\":{\"color\":\"#2a3f5f\"}},\"ternary\":{\"aaxis\":{\"gridcolor\":\"white\",\"linecolor\":\"white\",\"ticks\":\"\"},\"baxis\":{\"gridcolor\":\"white\",\"linecolor\":\"white\",\"ticks\":\"\"},\"bgcolor\":\"#E5ECF6\",\"caxis\":{\"gridcolor\":\"white\",\"linecolor\":\"white\",\"ticks\":\"\"}},\"title\":{\"x\":0.05},\"xaxis\":{\"automargin\":true,\"gridcolor\":\"white\",\"linecolor\":\"white\",\"ticks\":\"\",\"title\":{\"standoff\":15},\"zerolinecolor\":\"white\",\"zerolinewidth\":2},\"yaxis\":{\"automargin\":true,\"gridcolor\":\"white\",\"linecolor\":\"white\",\"ticks\":\"\",\"title\":{\"standoff\":15},\"zerolinecolor\":\"white\",\"zerolinewidth\":2}}},\"title\":{\"text\":\"Tuned parameter SVM with PCA for LBP (p:16, r:2)\"},\"xaxis\":{\"title\":{\"text\":\"% of Explained Variance\"}},\"yaxis\":{\"title\":{\"text\":\"Accuracy (%)\"}}},                        {\"responsive\": true}                    ).then(function(){\n",
              "                            \n",
              "var gd = document.getElementById('3bf90b9d-9a52-4a24-a8ab-5feaaec7a5a7');\n",
              "var x = new MutationObserver(function (mutations, observer) {{\n",
              "        var display = window.getComputedStyle(gd).display;\n",
              "        if (!display || display === 'none') {{\n",
              "            console.log([gd, 'removed!']);\n",
              "            Plotly.purge(gd);\n",
              "            observer.disconnect();\n",
              "        }}\n",
              "}});\n",
              "\n",
              "// Listen for the removal of the full notebook cells\n",
              "var notebookContainer = gd.closest('#notebook-container');\n",
              "if (notebookContainer) {{\n",
              "    x.observe(notebookContainer, {childList: true});\n",
              "}}\n",
              "\n",
              "// Listen for the clearing of the current output cell\n",
              "var outputEl = gd.closest('.output');\n",
              "if (outputEl) {{\n",
              "    x.observe(outputEl, {childList: true});\n",
              "}}\n",
              "\n",
              "                        })                };                            </script>        </div>\n",
              "</body>\n",
              "</html>"
            ]
          },
          "metadata": {}
        },
        {
          "output_type": "stream",
          "name": "stdout",
          "text": [
            "time: 24.6 ms (started: 2022-05-02 04:14:11 +00:00)\n"
          ]
        }
      ]
    },
    {
      "cell_type": "code",
      "source": [
        "import plotly.graph_objects as go\n",
        "\n",
        "fig = go.Figure()\n",
        "fig.add_trace(go.Line(\n",
        "    x=selected_exp_var,\n",
        "    y=tuneParaV1_243_uw_testAcc,\n",
        "    mode='lines',\n",
        "    name='Unweighted Test Accuracy',\n",
        "    marker=dict(\n",
        "        color='red',\n",
        "        size=10\n",
        "    ))\n",
        ")\n",
        "\n",
        "fig.add_trace(go.Line(\n",
        "    x=selected_exp_var,\n",
        "    y=tuneParaV1_243_w_testAcc,\n",
        "    mode='lines',\n",
        "    name='Weighted Test Accuracy',\n",
        "    marker=dict(\n",
        "        color='green',\n",
        "        size=10\n",
        "    ))\n",
        ")\n",
        "\n",
        "fig.add_trace(go.Line(\n",
        "    x=selected_exp_var,\n",
        "    y=tuneParaV1_243_w_trainAcc,\n",
        "    mode='lines',\n",
        "    name='Weighted Training Accuracy',\n",
        "    marker=dict(\n",
        "        color='blue',\n",
        "        size=10\n",
        "    ))\n",
        ")\n",
        "\n",
        "fig.add_trace(go.Line(\n",
        "    x=selected_exp_var,\n",
        "    y=tuneParaV1_243_uw_trainAcc,\n",
        "    mode='lines',\n",
        "    name='Unweighted Training Accuracy',\n",
        "    marker=dict(\n",
        "        color='cyan',\n",
        "        size=10\n",
        "    ))\n",
        ")\n",
        "\n",
        "fig.update_layout(\n",
        "    title=\"Tuned parameter SVM with PCA for LBP (p:24, r:3)\",\n",
        "    xaxis_title=\"% of Explained Variance\",\n",
        "    yaxis_title=\"Accuracy (%)\"\n",
        ")\n",
        "fig.update_traces(mode='markers+lines')\n",
        "\n",
        "fig.show()"
      ],
      "metadata": {
        "colab": {
          "base_uri": "https://localhost:8080/",
          "height": 716
        },
        "id": "_1OZalWniMIP",
        "outputId": "1f2517ec-6db9-4691-ceff-ceacd85fa8f6"
      },
      "execution_count": null,
      "outputs": [
        {
          "output_type": "stream",
          "name": "stderr",
          "text": [
            "/usr/local/lib/python3.7/dist-packages/plotly/graph_objs/_deprecations.py:385: DeprecationWarning:\n",
            "\n",
            "plotly.graph_objs.Line is deprecated.\n",
            "Please replace it with one of the following more specific types\n",
            "  - plotly.graph_objs.scatter.Line\n",
            "  - plotly.graph_objs.layout.shape.Line\n",
            "  - etc.\n",
            "\n",
            "\n"
          ]
        },
        {
          "output_type": "display_data",
          "data": {
            "text/html": [
              "<html>\n",
              "<head><meta charset=\"utf-8\" /></head>\n",
              "<body>\n",
              "    <div>            <script src=\"https://cdnjs.cloudflare.com/ajax/libs/mathjax/2.7.5/MathJax.js?config=TeX-AMS-MML_SVG\"></script><script type=\"text/javascript\">if (window.MathJax) {MathJax.Hub.Config({SVG: {font: \"STIX-Web\"}});}</script>                <script type=\"text/javascript\">window.PlotlyConfig = {MathJaxConfig: 'local'};</script>\n",
              "        <script src=\"https://cdn.plot.ly/plotly-2.8.3.min.js\"></script>                <div id=\"876d1385-33cd-4abb-93c5-1424a25f9e10\" class=\"plotly-graph-div\" style=\"height:525px; width:100%;\"></div>            <script type=\"text/javascript\">                                    window.PLOTLYENV=window.PLOTLYENV || {};                                    if (document.getElementById(\"876d1385-33cd-4abb-93c5-1424a25f9e10\")) {                    Plotly.newPlot(                        \"876d1385-33cd-4abb-93c5-1424a25f9e10\",                        [{\"marker\":{\"color\":\"red\",\"size\":10},\"mode\":\"markers+lines\",\"name\":\"Unweighted Test Accuracy\",\"x\":[0.7,0.8,0.9,0.95,0.97,0.99,1.0],\"y\":[0.5,0.5,0.5,0.5579710144927537,0.657051282051282,0.6642976588628762,0.737597547380156],\"type\":\"scatter\"},{\"marker\":{\"color\":\"green\",\"size\":10},\"mode\":\"markers+lines\",\"name\":\"Weighted Test Accuracy\",\"x\":[0.7,0.8,0.9,0.95,0.97,0.99,1.0],\"y\":[0.4297520661157025,0.4297520661157025,0.4297520661157025,0.49586776859504134,0.6115702479338843,0.6198347107438017,0.7520661157024794],\"type\":\"scatter\"},{\"marker\":{\"color\":\"blue\",\"size\":10},\"mode\":\"markers+lines\",\"name\":\"Weighted Training Accuracy\",\"x\":[0.7,0.8,0.9,0.95,0.97,0.99,1.0],\"y\":[0.992831541218638,0.996415770609319,0.989247311827957,0.996415770609319,0.996415770609319,0.996415770609319,1.0],\"type\":\"scatter\"},{\"marker\":{\"color\":\"cyan\",\"size\":10},\"mode\":\"markers+lines\",\"name\":\"Unweighted Training Accuracy\",\"x\":[0.7,0.8,0.9,0.95,0.97,0.99,1.0],\"y\":[0.9937888198757764,0.9968944099378882,0.9906832298136645,0.9968944099378882,0.9968944099378882,0.9968944099378882,1.0],\"type\":\"scatter\"}],                        {\"template\":{\"data\":{\"bar\":[{\"error_x\":{\"color\":\"#2a3f5f\"},\"error_y\":{\"color\":\"#2a3f5f\"},\"marker\":{\"line\":{\"color\":\"#E5ECF6\",\"width\":0.5},\"pattern\":{\"fillmode\":\"overlay\",\"size\":10,\"solidity\":0.2}},\"type\":\"bar\"}],\"barpolar\":[{\"marker\":{\"line\":{\"color\":\"#E5ECF6\",\"width\":0.5},\"pattern\":{\"fillmode\":\"overlay\",\"size\":10,\"solidity\":0.2}},\"type\":\"barpolar\"}],\"carpet\":[{\"aaxis\":{\"endlinecolor\":\"#2a3f5f\",\"gridcolor\":\"white\",\"linecolor\":\"white\",\"minorgridcolor\":\"white\",\"startlinecolor\":\"#2a3f5f\"},\"baxis\":{\"endlinecolor\":\"#2a3f5f\",\"gridcolor\":\"white\",\"linecolor\":\"white\",\"minorgridcolor\":\"white\",\"startlinecolor\":\"#2a3f5f\"},\"type\":\"carpet\"}],\"choropleth\":[{\"colorbar\":{\"outlinewidth\":0,\"ticks\":\"\"},\"type\":\"choropleth\"}],\"contour\":[{\"colorbar\":{\"outlinewidth\":0,\"ticks\":\"\"},\"colorscale\":[[0.0,\"#0d0887\"],[0.1111111111111111,\"#46039f\"],[0.2222222222222222,\"#7201a8\"],[0.3333333333333333,\"#9c179e\"],[0.4444444444444444,\"#bd3786\"],[0.5555555555555556,\"#d8576b\"],[0.6666666666666666,\"#ed7953\"],[0.7777777777777778,\"#fb9f3a\"],[0.8888888888888888,\"#fdca26\"],[1.0,\"#f0f921\"]],\"type\":\"contour\"}],\"contourcarpet\":[{\"colorbar\":{\"outlinewidth\":0,\"ticks\":\"\"},\"type\":\"contourcarpet\"}],\"heatmap\":[{\"colorbar\":{\"outlinewidth\":0,\"ticks\":\"\"},\"colorscale\":[[0.0,\"#0d0887\"],[0.1111111111111111,\"#46039f\"],[0.2222222222222222,\"#7201a8\"],[0.3333333333333333,\"#9c179e\"],[0.4444444444444444,\"#bd3786\"],[0.5555555555555556,\"#d8576b\"],[0.6666666666666666,\"#ed7953\"],[0.7777777777777778,\"#fb9f3a\"],[0.8888888888888888,\"#fdca26\"],[1.0,\"#f0f921\"]],\"type\":\"heatmap\"}],\"heatmapgl\":[{\"colorbar\":{\"outlinewidth\":0,\"ticks\":\"\"},\"colorscale\":[[0.0,\"#0d0887\"],[0.1111111111111111,\"#46039f\"],[0.2222222222222222,\"#7201a8\"],[0.3333333333333333,\"#9c179e\"],[0.4444444444444444,\"#bd3786\"],[0.5555555555555556,\"#d8576b\"],[0.6666666666666666,\"#ed7953\"],[0.7777777777777778,\"#fb9f3a\"],[0.8888888888888888,\"#fdca26\"],[1.0,\"#f0f921\"]],\"type\":\"heatmapgl\"}],\"histogram\":[{\"marker\":{\"pattern\":{\"fillmode\":\"overlay\",\"size\":10,\"solidity\":0.2}},\"type\":\"histogram\"}],\"histogram2d\":[{\"colorbar\":{\"outlinewidth\":0,\"ticks\":\"\"},\"colorscale\":[[0.0,\"#0d0887\"],[0.1111111111111111,\"#46039f\"],[0.2222222222222222,\"#7201a8\"],[0.3333333333333333,\"#9c179e\"],[0.4444444444444444,\"#bd3786\"],[0.5555555555555556,\"#d8576b\"],[0.6666666666666666,\"#ed7953\"],[0.7777777777777778,\"#fb9f3a\"],[0.8888888888888888,\"#fdca26\"],[1.0,\"#f0f921\"]],\"type\":\"histogram2d\"}],\"histogram2dcontour\":[{\"colorbar\":{\"outlinewidth\":0,\"ticks\":\"\"},\"colorscale\":[[0.0,\"#0d0887\"],[0.1111111111111111,\"#46039f\"],[0.2222222222222222,\"#7201a8\"],[0.3333333333333333,\"#9c179e\"],[0.4444444444444444,\"#bd3786\"],[0.5555555555555556,\"#d8576b\"],[0.6666666666666666,\"#ed7953\"],[0.7777777777777778,\"#fb9f3a\"],[0.8888888888888888,\"#fdca26\"],[1.0,\"#f0f921\"]],\"type\":\"histogram2dcontour\"}],\"mesh3d\":[{\"colorbar\":{\"outlinewidth\":0,\"ticks\":\"\"},\"type\":\"mesh3d\"}],\"parcoords\":[{\"line\":{\"colorbar\":{\"outlinewidth\":0,\"ticks\":\"\"}},\"type\":\"parcoords\"}],\"pie\":[{\"automargin\":true,\"type\":\"pie\"}],\"scatter\":[{\"marker\":{\"colorbar\":{\"outlinewidth\":0,\"ticks\":\"\"}},\"type\":\"scatter\"}],\"scatter3d\":[{\"line\":{\"colorbar\":{\"outlinewidth\":0,\"ticks\":\"\"}},\"marker\":{\"colorbar\":{\"outlinewidth\":0,\"ticks\":\"\"}},\"type\":\"scatter3d\"}],\"scattercarpet\":[{\"marker\":{\"colorbar\":{\"outlinewidth\":0,\"ticks\":\"\"}},\"type\":\"scattercarpet\"}],\"scattergeo\":[{\"marker\":{\"colorbar\":{\"outlinewidth\":0,\"ticks\":\"\"}},\"type\":\"scattergeo\"}],\"scattergl\":[{\"marker\":{\"colorbar\":{\"outlinewidth\":0,\"ticks\":\"\"}},\"type\":\"scattergl\"}],\"scattermapbox\":[{\"marker\":{\"colorbar\":{\"outlinewidth\":0,\"ticks\":\"\"}},\"type\":\"scattermapbox\"}],\"scatterpolar\":[{\"marker\":{\"colorbar\":{\"outlinewidth\":0,\"ticks\":\"\"}},\"type\":\"scatterpolar\"}],\"scatterpolargl\":[{\"marker\":{\"colorbar\":{\"outlinewidth\":0,\"ticks\":\"\"}},\"type\":\"scatterpolargl\"}],\"scatterternary\":[{\"marker\":{\"colorbar\":{\"outlinewidth\":0,\"ticks\":\"\"}},\"type\":\"scatterternary\"}],\"surface\":[{\"colorbar\":{\"outlinewidth\":0,\"ticks\":\"\"},\"colorscale\":[[0.0,\"#0d0887\"],[0.1111111111111111,\"#46039f\"],[0.2222222222222222,\"#7201a8\"],[0.3333333333333333,\"#9c179e\"],[0.4444444444444444,\"#bd3786\"],[0.5555555555555556,\"#d8576b\"],[0.6666666666666666,\"#ed7953\"],[0.7777777777777778,\"#fb9f3a\"],[0.8888888888888888,\"#fdca26\"],[1.0,\"#f0f921\"]],\"type\":\"surface\"}],\"table\":[{\"cells\":{\"fill\":{\"color\":\"#EBF0F8\"},\"line\":{\"color\":\"white\"}},\"header\":{\"fill\":{\"color\":\"#C8D4E3\"},\"line\":{\"color\":\"white\"}},\"type\":\"table\"}]},\"layout\":{\"annotationdefaults\":{\"arrowcolor\":\"#2a3f5f\",\"arrowhead\":0,\"arrowwidth\":1},\"autotypenumbers\":\"strict\",\"coloraxis\":{\"colorbar\":{\"outlinewidth\":0,\"ticks\":\"\"}},\"colorscale\":{\"diverging\":[[0,\"#8e0152\"],[0.1,\"#c51b7d\"],[0.2,\"#de77ae\"],[0.3,\"#f1b6da\"],[0.4,\"#fde0ef\"],[0.5,\"#f7f7f7\"],[0.6,\"#e6f5d0\"],[0.7,\"#b8e186\"],[0.8,\"#7fbc41\"],[0.9,\"#4d9221\"],[1,\"#276419\"]],\"sequential\":[[0.0,\"#0d0887\"],[0.1111111111111111,\"#46039f\"],[0.2222222222222222,\"#7201a8\"],[0.3333333333333333,\"#9c179e\"],[0.4444444444444444,\"#bd3786\"],[0.5555555555555556,\"#d8576b\"],[0.6666666666666666,\"#ed7953\"],[0.7777777777777778,\"#fb9f3a\"],[0.8888888888888888,\"#fdca26\"],[1.0,\"#f0f921\"]],\"sequentialminus\":[[0.0,\"#0d0887\"],[0.1111111111111111,\"#46039f\"],[0.2222222222222222,\"#7201a8\"],[0.3333333333333333,\"#9c179e\"],[0.4444444444444444,\"#bd3786\"],[0.5555555555555556,\"#d8576b\"],[0.6666666666666666,\"#ed7953\"],[0.7777777777777778,\"#fb9f3a\"],[0.8888888888888888,\"#fdca26\"],[1.0,\"#f0f921\"]]},\"colorway\":[\"#636efa\",\"#EF553B\",\"#00cc96\",\"#ab63fa\",\"#FFA15A\",\"#19d3f3\",\"#FF6692\",\"#B6E880\",\"#FF97FF\",\"#FECB52\"],\"font\":{\"color\":\"#2a3f5f\"},\"geo\":{\"bgcolor\":\"white\",\"lakecolor\":\"white\",\"landcolor\":\"#E5ECF6\",\"showlakes\":true,\"showland\":true,\"subunitcolor\":\"white\"},\"hoverlabel\":{\"align\":\"left\"},\"hovermode\":\"closest\",\"mapbox\":{\"style\":\"light\"},\"paper_bgcolor\":\"white\",\"plot_bgcolor\":\"#E5ECF6\",\"polar\":{\"angularaxis\":{\"gridcolor\":\"white\",\"linecolor\":\"white\",\"ticks\":\"\"},\"bgcolor\":\"#E5ECF6\",\"radialaxis\":{\"gridcolor\":\"white\",\"linecolor\":\"white\",\"ticks\":\"\"}},\"scene\":{\"xaxis\":{\"backgroundcolor\":\"#E5ECF6\",\"gridcolor\":\"white\",\"gridwidth\":2,\"linecolor\":\"white\",\"showbackground\":true,\"ticks\":\"\",\"zerolinecolor\":\"white\"},\"yaxis\":{\"backgroundcolor\":\"#E5ECF6\",\"gridcolor\":\"white\",\"gridwidth\":2,\"linecolor\":\"white\",\"showbackground\":true,\"ticks\":\"\",\"zerolinecolor\":\"white\"},\"zaxis\":{\"backgroundcolor\":\"#E5ECF6\",\"gridcolor\":\"white\",\"gridwidth\":2,\"linecolor\":\"white\",\"showbackground\":true,\"ticks\":\"\",\"zerolinecolor\":\"white\"}},\"shapedefaults\":{\"line\":{\"color\":\"#2a3f5f\"}},\"ternary\":{\"aaxis\":{\"gridcolor\":\"white\",\"linecolor\":\"white\",\"ticks\":\"\"},\"baxis\":{\"gridcolor\":\"white\",\"linecolor\":\"white\",\"ticks\":\"\"},\"bgcolor\":\"#E5ECF6\",\"caxis\":{\"gridcolor\":\"white\",\"linecolor\":\"white\",\"ticks\":\"\"}},\"title\":{\"x\":0.05},\"xaxis\":{\"automargin\":true,\"gridcolor\":\"white\",\"linecolor\":\"white\",\"ticks\":\"\",\"title\":{\"standoff\":15},\"zerolinecolor\":\"white\",\"zerolinewidth\":2},\"yaxis\":{\"automargin\":true,\"gridcolor\":\"white\",\"linecolor\":\"white\",\"ticks\":\"\",\"title\":{\"standoff\":15},\"zerolinecolor\":\"white\",\"zerolinewidth\":2}}},\"title\":{\"text\":\"Tuned parameter SVM with PCA for LBP (p:24, r:3)\"},\"xaxis\":{\"title\":{\"text\":\"% of Explained Variance\"}},\"yaxis\":{\"title\":{\"text\":\"Accuracy (%)\"}}},                        {\"responsive\": true}                    ).then(function(){\n",
              "                            \n",
              "var gd = document.getElementById('876d1385-33cd-4abb-93c5-1424a25f9e10');\n",
              "var x = new MutationObserver(function (mutations, observer) {{\n",
              "        var display = window.getComputedStyle(gd).display;\n",
              "        if (!display || display === 'none') {{\n",
              "            console.log([gd, 'removed!']);\n",
              "            Plotly.purge(gd);\n",
              "            observer.disconnect();\n",
              "        }}\n",
              "}});\n",
              "\n",
              "// Listen for the removal of the full notebook cells\n",
              "var notebookContainer = gd.closest('#notebook-container');\n",
              "if (notebookContainer) {{\n",
              "    x.observe(notebookContainer, {childList: true});\n",
              "}}\n",
              "\n",
              "// Listen for the clearing of the current output cell\n",
              "var outputEl = gd.closest('.output');\n",
              "if (outputEl) {{\n",
              "    x.observe(outputEl, {childList: true});\n",
              "}}\n",
              "\n",
              "                        })                };                            </script>        </div>\n",
              "</body>\n",
              "</html>"
            ]
          },
          "metadata": {}
        },
        {
          "output_type": "stream",
          "name": "stdout",
          "text": [
            "time: 26 ms (started: 2022-05-02 04:14:11 +00:00)\n"
          ]
        }
      ]
    },
    {
      "cell_type": "markdown",
      "source": [
        "# Analysis"
      ],
      "metadata": {
        "id": "T8ObS2AR4fb2"
      }
    },
    {
      "cell_type": "code",
      "source": [
        "from sklearn.metrics import plot_confusion_matrix\n",
        "import matplotlib.pyplot as plt\n",
        "from sklearn.metrics import classification_report\n",
        "from sklearn.metrics import roc_curve, auc"
      ],
      "metadata": {
        "colab": {
          "base_uri": "https://localhost:8080/"
        },
        "id": "SB-ww28g5Lqu",
        "outputId": "59750e70-098b-42ce-c175-d6ec12020ad8"
      },
      "execution_count": null,
      "outputs": [
        {
          "output_type": "stream",
          "name": "stdout",
          "text": [
            "time: 1.75 ms (started: 2022-05-02 04:00:07 +00:00)\n"
          ]
        }
      ]
    },
    {
      "cell_type": "code",
      "source": [
        "# tune_exp81[-1][\"model\"]\n",
        "\n",
        "best_item = tune_exp81[-1]\n",
        "x_train_sc23, x_test_sc23 = feature_scale(best_item[\"x_train_\"], best_item[\"x_test_\"])\n",
        "\n",
        "disp = plot_confusion_matrix(best_item[\"model\"], x_test_sc23, best_item[\"y_test_\"])\n",
        "plt.title(\"Confusion Matrix wtih \" + str(best_item['variance_']) + \"% variance (PCA)\")\n",
        "confM = disp.confusion_matrix\n",
        "plt.show()"
      ],
      "metadata": {
        "colab": {
          "base_uri": "https://localhost:8080/",
          "height": 402
        },
        "id": "X-hHLjj94jG5",
        "outputId": "5ef5ab38-ef46-4570-a6da-df195dbe9cf3"
      },
      "execution_count": null,
      "outputs": [
        {
          "output_type": "stream",
          "name": "stderr",
          "text": [
            "/usr/local/lib/python3.7/dist-packages/sklearn/utils/deprecation.py:87: FutureWarning:\n",
            "\n",
            "Function plot_confusion_matrix is deprecated; Function `plot_confusion_matrix` is deprecated in 1.0 and will be removed in 1.2. Use one of the class methods: ConfusionMatrixDisplay.from_predictions or ConfusionMatrixDisplay.from_estimator.\n",
            "\n"
          ]
        },
        {
          "output_type": "display_data",
          "data": {
            "text/plain": [
              "<Figure size 432x288 with 2 Axes>"
            ],
            "image/png": "[encoded data removed]"
          },
          "metadata": {
            "needs_background": "light"
          }
        },
        {
          "output_type": "stream",
          "name": "stdout",
          "text": [
            "time: 165 ms (started: 2022-05-02 04:00:08 +00:00)\n"
          ]
        }
      ]
    },
    {
      "cell_type": "code",
      "source": [
        "print(\"PCA variance: 100% LBP (16,2)\")\n",
        "row1_sum = np.array(confM[0]).sum()\n",
        "row2_sum = np.array(confM[1]).sum()\n",
        "\n",
        "acc_Normal = (confM[0][0] / row1_sum)*100\n",
        "acc_Tumor = (confM[1][1] / row2_sum)*100\n",
        "\n",
        "print(f\"Normal accuracy: {acc_Normal}, Tumor accuracy: {acc_Tumor}\")\n",
        "print(\"\")"
      ],
      "metadata": {
        "colab": {
          "base_uri": "https://localhost:8080/"
        },
        "id": "e7NQBGkXqfQC",
        "outputId": "6c947b4f-8e6f-4bb6-8208-e5961d78b4aa"
      },
      "execution_count": null,
      "outputs": [
        {
          "output_type": "stream",
          "name": "stdout",
          "text": [
            "PCA variance: 100% LBP (16,2)\n",
            "Normal accuracy: 88.46153846153845, Tumor accuracy: 88.40579710144928\n",
            "\n",
            "time: 10.8 ms (started: 2022-04-27 03:27:39 +00:00)\n"
          ]
        }
      ]
    },
    {
      "cell_type": "code",
      "source": [
        "y_pred = best_item['model'].predict(x_test_sc23)\n",
        "\n",
        "fpr, tpr, thresholds = roc_curve(y_test, y_pred)\n",
        "roc_auc = np.round_(auc(fpr, tpr), decimals=4)\n",
        "txt = \"(AUC\" + str(roc_auc) + \") - (Variance: \" + str(best_item[\"variance_\"]) + \")\"\n",
        "plt.plot(fpr, tpr, label=txt)\n",
        "\n",
        "plt.title(\"ROC curve for \" + str(tune_exp162[-1]['variance_']) + \" variance PCA with (16,2) LBP on SVM\")\n",
        "plt.ylabel(\"True Positive Rate\")\n",
        "plt.xlabel(\"False Positive Rate\")\n",
        "plt.legend()\n",
        "plt.show()"
      ],
      "metadata": {
        "colab": {
          "base_uri": "https://localhost:8080/",
          "height": 312
        },
        "id": "1qao_ON0qqhi",
        "outputId": "a918dba2-eb58-4084-fd39-85fc6b56a901"
      },
      "execution_count": null,
      "outputs": [
        {
          "output_type": "display_data",
          "data": {
            "text/plain": [
              "<Figure size 432x288 with 1 Axes>"
            ],
            "image/png": "[encoded data removed]"
          },
          "metadata": {
            "needs_background": "light"
          }
        },
        {
          "output_type": "stream",
          "name": "stdout",
          "text": [
            "time: 221 ms (started: 2022-04-27 03:27:39 +00:00)\n"
          ]
        }
      ]
    },
    {
      "cell_type": "code",
      "source": [
        "target_names = ['Normal', 'Tumor']\n",
        "\n",
        "print(\"Classification report for \" + str(best_item['variance_']))\n",
        "\n",
        "y_pred = best_item['model'].predict(x_test_sc23)\n",
        "\n",
        "print(classification_report(best_item[\"y_test_\"], y_pred, target_names=target_names))\n",
        "print(\"\\n\\n\")"
      ],
      "metadata": {
        "colab": {
          "base_uri": "https://localhost:8080/"
        },
        "id": "cX9zUjVL8cSc",
        "outputId": "1bfa1f03-c12d-4e74-c4c0-c6d176202ad1"
      },
      "execution_count": null,
      "outputs": [
        {
          "output_type": "stream",
          "name": "stdout",
          "text": [
            "Classification report for 1.0\n",
            "              precision    recall  f1-score   support\n",
            "\n",
            "      Normal       0.85      0.88      0.87        52\n",
            "       Tumor       0.91      0.88      0.90        69\n",
            "\n",
            "    accuracy                           0.88       121\n",
            "   macro avg       0.88      0.88      0.88       121\n",
            "weighted avg       0.89      0.88      0.88       121\n",
            "\n",
            "\n",
            "\n",
            "\n",
            "time: 32.2 ms (started: 2022-04-27 03:27:39 +00:00)\n"
          ]
        }
      ]
    },
    {
      "cell_type": "markdown",
      "source": [
        "# Save Models"
      ],
      "metadata": {
        "id": "aogj910f8Js4"
      }
    },
    {
      "cell_type": "code",
      "source": [
        "import pickle"
      ],
      "metadata": {
        "colab": {
          "base_uri": "https://localhost:8080/"
        },
        "id": "iQBI9eNM8LYQ",
        "outputId": "3e3ba2bc-55fe-48a6-cf4a-8d70c83f01c7"
      },
      "execution_count": null,
      "outputs": [
        {
          "output_type": "stream",
          "name": "stdout",
          "text": [
            "time: 1.29 ms (started: 2022-04-27 03:27:39 +00:00)\n"
          ]
        }
      ]
    },
    {
      "cell_type": "code",
      "source": [
        "SAVE_DIR = ROOT_DIR + \"/saved_models/\"\n",
        "\n",
        "# no img aug\n",
        "FILE_NAME = \"svm_mri_lbp_pca_noAug.pkl\"\n",
        "\n",
        "# img aug\n",
        "# FILE_NAME = \"svm_mri_lbp_pca_Aug.pkl\"\n",
        "\n",
        "with open(SAVE_DIR+FILE_NAME,'wb') as f:\n",
        "    pickle.dump(best_item['model'],f)"
      ],
      "metadata": {
        "colab": {
          "base_uri": "https://localhost:8080/"
        },
        "id": "ekNYQKxU8Ogg",
        "outputId": "fb6d6c37-e689-4fc6-8a88-1251b6690cda"
      },
      "execution_count": null,
      "outputs": [
        {
          "output_type": "stream",
          "name": "stdout",
          "text": [
            "time: 19 ms (started: 2022-04-27 03:27:39 +00:00)\n"
          ]
        }
      ]
    }
  ],
  "metadata": {
    "colab": {
      "collapsed_sections": [],
      "name": "03.c__MRI_LBP_PCA_SVM.ipynb",
      "provenance": [],
      "toc_visible": true
    },
    "kernelspec": {
      "display_name": "Python 3",
      "name": "python3"
    },
    "language_info": {
      "name": "python"
    },
    "accelerator": "GPU"
  },
  "nbformat": 4,
  "nbformat_minor": 0
}